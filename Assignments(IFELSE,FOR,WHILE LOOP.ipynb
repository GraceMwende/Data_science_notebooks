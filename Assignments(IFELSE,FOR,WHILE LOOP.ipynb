{
 "cells": [
  {
   "cell_type": "markdown",
   "id": "756b049d",
   "metadata": {},
   "source": [
    "## 1. IF ELSE\n",
    "### Method 1"
   ]
  },
  {
   "cell_type": "code",
   "execution_count": 1,
   "id": "1102dcda",
   "metadata": {},
   "outputs": [
    {
     "name": "stdout",
     "output_type": "stream",
     "text": [
      "What grade did you get in Math out of a hundrend? 34\n",
      "You got a E in Mathematics\n"
     ]
    }
   ],
   "source": [
    "#Program to calculate math grade for students\n",
    "'''\n",
    "A = 81-100\n",
    "B= 71-100\n",
    "'''\n",
    "grade= int(input('What grade did you get in Math out of a hundrend? '))\n",
    "if grade >= 81:\n",
    "    grade='A'\n",
    "elif grade >= 71:\n",
    "    grade='B'\n",
    "elif grade >= 61:\n",
    "    grade='C'\n",
    "elif grade >= 51:\n",
    "    grade='D'\n",
    "else:\n",
    "    grade='E'\n",
    "    \n",
    "print(f'You got a {grade} in Mathematics')"
   ]
  },
  {
   "cell_type": "markdown",
   "id": "d3902240",
   "metadata": {},
   "source": [
    "### Method 2 (caters for outliers)\n"
   ]
  },
  {
   "cell_type": "code",
   "execution_count": 15,
   "id": "5294571a",
   "metadata": {},
   "outputs": [
    {
     "name": "stdout",
     "output_type": "stream",
     "text": [
      "What grade did you get in Math out of a hundrend? -1\n",
      "You got a invalid grade in Mathematics\n"
     ]
    }
   ],
   "source": [
    "#Program to calculate math grade for students\n",
    "'''\n",
    "A = 81-100\n",
    "B= 71-100\n",
    "'''\n",
    "grade= int(input('What grade did you get in Math out of a hundrend? '))\n",
    "if grade >= 81 and grade <=100:\n",
    "    grade='A'\n",
    "elif grade >= 71 and grade <81:\n",
    "    grade='B'\n",
    "elif grade >= 61 and grade <71:\n",
    "    grade='C'\n",
    "elif grade >= 51 and grade <61:\n",
    "    grade='D'\n",
    "elif grade >= 0 and grade <51:\n",
    "    grade='E'\n",
    "else:\n",
    "  grade='invalid grade'\n",
    "    \n",
    "print(f'You got a {grade} in Mathematics')"
   ]
  },
  {
   "cell_type": "markdown",
   "id": "a7204db8",
   "metadata": {},
   "source": [
    "## 2a.FOR LOOPS(i)\n",
    "### Method 1"
   ]
  },
  {
   "cell_type": "code",
   "execution_count": 3,
   "id": "3358ef47",
   "metadata": {},
   "outputs": [
    {
     "data": {
      "text/plain": [
       "[0, 1, 0, 0, 1, 0, 0, 1]"
      ]
     },
     "execution_count": 3,
     "metadata": {},
     "output_type": "execute_result"
    }
   ],
   "source": [
    "'''\n",
    "Print 0 if False and 1 if true\n",
    "'''\n",
    "bits = [False, True, False, False, True, False, False, True]\n",
    "\n",
    "#initiliaze an empty list that we will append values to\n",
    "new_bits = []\n",
    "\n",
    "#loop through the list\n",
    "for bit in bits:\n",
    "    if bit==False:\n",
    "        new_bits.append(0)\n",
    "    else:\n",
    "        new_bits.append(1)\n",
    "new_bits"
   ]
  },
  {
   "cell_type": "markdown",
   "id": "9749a365",
   "metadata": {},
   "source": [
    "### Method 2(use list comprehension)"
   ]
  },
  {
   "cell_type": "code",
   "execution_count": 4,
   "id": "ddad17cf",
   "metadata": {},
   "outputs": [
    {
     "data": {
      "text/plain": [
       "[0, 1, 0, 0, 1, 0, 0, 1]"
      ]
     },
     "execution_count": 4,
     "metadata": {},
     "output_type": "execute_result"
    }
   ],
   "source": [
    "new_bits = [0 if bit==False else 1 for bit in bits]\n",
    "new_bits"
   ]
  },
  {
   "cell_type": "markdown",
   "id": "9b002da0",
   "metadata": {},
   "source": [
    "##  2b)FOR LOOPS\n",
    "#### Method 1"
   ]
  },
  {
   "cell_type": "code",
   "execution_count": 5,
   "id": "be911a94",
   "metadata": {},
   "outputs": [
    {
     "data": {
      "text/plain": [
       "['Mary', 'Relax batman', 'Spongebob']"
      ]
     },
     "execution_count": 5,
     "metadata": {},
     "output_type": "execute_result"
    }
   ],
   "source": [
    "#['Mary', 'Relax Batman', 'Spongebob']\n",
    "names = [\"mary\", \"BATMAN\", \"spongebob\"]\n",
    "new_name=[]\n",
    "\n",
    "for name in names:\n",
    "    if name=='BATMAN':\n",
    "            name= f'Relax {name}'\n",
    "    name=name.capitalize()\n",
    "    new_name.append(name)\n",
    "    \n",
    "new_name\n",
    "    \n"
   ]
  },
  {
   "cell_type": "markdown",
   "id": "a873b9b4",
   "metadata": {},
   "source": [
    "### Method 2(use list comprehension)"
   ]
  },
  {
   "cell_type": "code",
   "execution_count": 6,
   "id": "507c4b3d",
   "metadata": {},
   "outputs": [
    {
     "data": {
      "text/plain": [
       "['Mary', 'Relax BATMAN', 'Spongebob']"
      ]
     },
     "execution_count": 6,
     "metadata": {},
     "output_type": "execute_result"
    }
   ],
   "source": [
    "new_name = [f'Relax {name}' if name=='BATMAN' else name.capitalize() for name in names]\n",
    "new_name"
   ]
  },
  {
   "cell_type": "code",
   "execution_count": 7,
   "id": "9e871885",
   "metadata": {},
   "outputs": [
    {
     "name": "stdout",
     "output_type": "stream",
     "text": [
      "['Mary', 'Relax Batman', 'Spongebob']\n"
     ]
    }
   ],
   "source": [
    "### Teachers\n",
    "#2. example in for loops\n",
    "\n",
    "names = [\"mary\", \"BATMAN\", \"spongebob\"]\n",
    "new_name = []\n",
    "\n",
    "for n in names:\n",
    "    if n.islower():  # Check if the name is already in lowercase\n",
    "        n = n.capitalize()\n",
    "    else:\n",
    "        n = \"Relax \" + n.capitalize()\n",
    "    new_name.append(n)\n",
    "\n",
    "print(new_name)\n"
   ]
  },
  {
   "cell_type": "code",
   "execution_count": 8,
   "id": "3e3d5dff",
   "metadata": {},
   "outputs": [
    {
     "name": "stdout",
     "output_type": "stream",
     "text": [
      "['Mary', 'Relax Batman', 'Spongebob']\n"
     ]
    }
   ],
   "source": [
    "###Teachers\n",
    "# using list comprehension\n",
    "names = [\"mary\", \"BATMAN\", \"spongebob\"]\n",
    "new_name = [n.capitalize() if n.islower() else \"Relax \" + n.capitalize() for n in names]\n",
    "print(new_name)"
   ]
  },
  {
   "cell_type": "markdown",
   "id": "3dd82d5e",
   "metadata": {},
   "source": [
    "\n",
    "##  2c)FOR LOOPS\n",
    "### create a function to check for an even number using for loop\n",
    "#### Method 1"
   ]
  },
  {
   "cell_type": "code",
   "execution_count": 9,
   "id": "75edddd1",
   "metadata": {},
   "outputs": [],
   "source": [
    "numbers = [3,4,2,1,5,6,9,8,10]\n",
    "def check_even(numbers_list):\n",
    "    even_numbers = []\n",
    "    for number in numbers_list:\n",
    "        if number %2 ==0:\n",
    "            even_numbers.append(number)\n",
    "            \n",
    "    return even_numbers"
   ]
  },
  {
   "cell_type": "code",
   "execution_count": 10,
   "id": "f8986f28",
   "metadata": {},
   "outputs": [
    {
     "data": {
      "text/plain": [
       "[4, 2, 6, 8, 10]"
      ]
     },
     "execution_count": 10,
     "metadata": {},
     "output_type": "execute_result"
    }
   ],
   "source": [
    "check_even(numbers)"
   ]
  },
  {
   "cell_type": "markdown",
   "id": "e6d7ebc1",
   "metadata": {},
   "source": [
    "### Method 2(use list comprehension)"
   ]
  },
  {
   "cell_type": "code",
   "execution_count": 11,
   "id": "077f863c",
   "metadata": {},
   "outputs": [],
   "source": [
    "def check_even(numbers_list):\n",
    "    return [number for number in numbers if number %2==0 ]"
   ]
  },
  {
   "cell_type": "code",
   "execution_count": 12,
   "id": "ce2d39b3",
   "metadata": {},
   "outputs": [
    {
     "data": {
      "text/plain": [
       "[4, 2, 6, 8, 10]"
      ]
     },
     "execution_count": 12,
     "metadata": {},
     "output_type": "execute_result"
    }
   ],
   "source": [
    "check_even(numbers)"
   ]
  },
  {
   "cell_type": "markdown",
   "id": "4a565440",
   "metadata": {},
   "source": [
    "##  3a)WHILE LOOPS\n",
    "### create a while loop that prints 1 to 5"
   ]
  },
  {
   "cell_type": "code",
   "execution_count": 13,
   "id": "789831dd",
   "metadata": {},
   "outputs": [
    {
     "name": "stdout",
     "output_type": "stream",
     "text": [
      "1\n",
      "2\n",
      "3\n",
      "4\n",
      "5\n"
     ]
    }
   ],
   "source": [
    "i=1\n",
    "while i<6:\n",
    "    print(i)\n",
    "    i+=1"
   ]
  },
  {
   "cell_type": "markdown",
   "id": "9973313b",
   "metadata": {},
   "source": [
    "##  3b)WHILE LOOPS\n",
    "### # i)create a while to prompt you to enter the correct password"
   ]
  },
  {
   "cell_type": "code",
   "execution_count": 23,
   "id": "cac9ca6c",
   "metadata": {},
   "outputs": [
    {
     "name": "stdout",
     "output_type": "stream",
     "text": [
      "Please enter Correct passwordm\n",
      "Please enter Correct passwordGrace\n",
      "Yes, correct password is Grace\n"
     ]
    }
   ],
   "source": [
    "password=''\n",
    "while password != 'Grace':\n",
    "    password = input('Please enter Correct password')\n",
    "print(f'Yes, correct password is {password}')\n",
    "    "
   ]
  },
  {
   "cell_type": "markdown",
   "id": "74c0f646",
   "metadata": {},
   "source": [
    "##  3b)WHILE LOOPS\n",
    "### # i)create a while to prompt enter coorect password and if fails more than 3 times deny access"
   ]
  },
  {
   "cell_type": "code",
   "execution_count": 1,
   "id": "f5af3c13",
   "metadata": {},
   "outputs": [
    {
     "name": "stdout",
     "output_type": "stream",
     "text": [
      "Please enter correct passwordM\n",
      "Access Denied try Again\n",
      "Please enter correct passwordM\n",
      "Access Denied try Again\n",
      "Please enter correct passwordgRACE\n",
      "Access Denied try Again\n"
     ]
    }
   ],
   "source": [
    "password = ''\n",
    "count =0\n",
    "while count <3:\n",
    "    password = input ('Please enter correct password')\n",
    "    if password =='Grace':\n",
    "            print('Login successful please proceed')\n",
    "            break\n",
    "    else:\n",
    "        print('Access Denied try Again')\n",
    "        count+=1\n",
    "        \n",
    "\n",
    "    "
   ]
  },
  {
   "cell_type": "code",
   "execution_count": null,
   "id": "82b058f4",
   "metadata": {},
   "outputs": [],
   "source": []
  }
 ],
 "metadata": {
  "kernelspec": {
   "display_name": "Python 3 (ipykernel)",
   "language": "python",
   "name": "python3"
  },
  "language_info": {
   "codemirror_mode": {
    "name": "ipython",
    "version": 3
   },
   "file_extension": ".py",
   "mimetype": "text/x-python",
   "name": "python",
   "nbconvert_exporter": "python",
   "pygments_lexer": "ipython3",
   "version": "3.11.7"
  }
 },
 "nbformat": 4,
 "nbformat_minor": 5
}
