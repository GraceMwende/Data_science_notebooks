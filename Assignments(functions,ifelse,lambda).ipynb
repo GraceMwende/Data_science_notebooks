{
 "cells": [
  {
   "cell_type": "markdown",
   "id": "5491c51e",
   "metadata": {},
   "source": [
    "## FILTER EVEN NUMBERS\n",
    "### 1.Use if else  2.use function 3.use list comprehension 4.use lambda"
   ]
  },
  {
   "cell_type": "code",
   "execution_count": 1,
   "id": "8125121f",
   "metadata": {},
   "outputs": [],
   "source": [
    "listnums = [4,5,8,23,14,18]"
   ]
  },
  {
   "cell_type": "markdown",
   "id": "3dbcb6e0",
   "metadata": {},
   "source": [
    "### 1.IF ELSE"
   ]
  },
  {
   "cell_type": "code",
   "execution_count": 2,
   "id": "ad991189",
   "metadata": {},
   "outputs": [
    {
     "name": "stdout",
     "output_type": "stream",
     "text": [
      "[4, 8, 14, 18]\n"
     ]
    }
   ],
   "source": [
    "even_list=[]\n",
    "for num in listnums:\n",
    "   \n",
    "    if num %2 ==0:\n",
    "        even_list.append(num)\n",
    "        \n",
    "print(even_list) "
   ]
  },
  {
   "cell_type": "markdown",
   "id": "5de4db04",
   "metadata": {},
   "source": [
    "### 2.List Comprehension\n"
   ]
  },
  {
   "cell_type": "code",
   "execution_count": 3,
   "id": "fb2e4589",
   "metadata": {},
   "outputs": [
    {
     "data": {
      "text/plain": [
       "[4, 8, 14, 18]"
      ]
     },
     "execution_count": 3,
     "metadata": {},
     "output_type": "execute_result"
    }
   ],
   "source": [
    "test = [num  for num in listnums if num%2==0]\n",
    "test"
   ]
  },
  {
   "cell_type": "markdown",
   "id": "b36b18f3",
   "metadata": {},
   "source": [
    "### 3.Function"
   ]
  },
  {
   "cell_type": "code",
   "execution_count": 4,
   "id": "5528827a",
   "metadata": {},
   "outputs": [
    {
     "data": {
      "text/plain": [
       "[4, 8, 14, 18]"
      ]
     },
     "execution_count": 4,
     "metadata": {},
     "output_type": "execute_result"
    }
   ],
   "source": [
    "def get_even(evennumber):\n",
    "    return [num  for num in evennumber if num%2==0]\n",
    "get_even(listnums)"
   ]
  },
  {
   "cell_type": "code",
   "execution_count": 6,
   "id": "9dc3b36f",
   "metadata": {},
   "outputs": [
    {
     "data": {
      "text/plain": [
       "[4, 8, 14, 18]"
      ]
     },
     "execution_count": 6,
     "metadata": {},
     "output_type": "execute_result"
    }
   ],
   "source": [
    "def get_even2(evennumber):\n",
    "    even_list=[]\n",
    "    for num in listnums:\n",
    "\n",
    "        if num %2 ==0:\n",
    "            even_list.append(num)\n",
    "        \n",
    "    return even_list \n",
    "get_even2(listnums)"
   ]
  },
  {
   "cell_type": "markdown",
   "id": "d7d1af55",
   "metadata": {},
   "source": [
    "### 4.Using Lambda"
   ]
  },
  {
   "cell_type": "code",
   "execution_count": 7,
   "id": "5ea9020e",
   "metadata": {},
   "outputs": [
    {
     "name": "stdout",
     "output_type": "stream",
     "text": [
      "[4, 8, 14, 18]\n"
     ]
    }
   ],
   "source": [
    "even_nums = list(filter(lambda listnums : listnums%2==0,listnums))\n",
    "print(even_nums)"
   ]
  },
  {
   "cell_type": "code",
   "execution_count": null,
   "id": "1cd113fb",
   "metadata": {},
   "outputs": [],
   "source": []
  }
 ],
 "metadata": {
  "kernelspec": {
   "display_name": "Python 3 (ipykernel)",
   "language": "python",
   "name": "python3"
  },
  "language_info": {
   "codemirror_mode": {
    "name": "ipython",
    "version": 3
   },
   "file_extension": ".py",
   "mimetype": "text/x-python",
   "name": "python",
   "nbconvert_exporter": "python",
   "pygments_lexer": "ipython3",
   "version": "3.11.7"
  }
 },
 "nbformat": 4,
 "nbformat_minor": 5
}
