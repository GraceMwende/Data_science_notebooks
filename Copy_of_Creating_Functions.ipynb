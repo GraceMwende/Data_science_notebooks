{
  "cells": [
    {
      "cell_type": "markdown",
      "metadata": {
        "id": "view-in-github",
        "colab_type": "text"
      },
      "source": [
        "<a href=\"https://colab.research.google.com/github/GraceMwende/Data_science_notebooks/blob/main/Copy_of_Creating_Functions.ipynb\" target=\"_parent\"><img src=\"https://colab.research.google.com/assets/colab-badge.svg\" alt=\"Open In Colab\"/></a>"
      ]
    },
    {
      "cell_type": "markdown",
      "metadata": {
        "id": "3ODHP76cYpwn"
      },
      "source": [
        "# Creating Functions\n",
        "\n",
        "## Introduction\n",
        "Now that we learned about loops, it would be nice to have the ability to *reuse* our code to help us solve different problems. Functions allow us to do just that. They also give us the ability to name a sequence of operations (or block of code), thus making our code expressive. Let's see how this works, and why something like this is useful."
      ]
    },
    {
      "cell_type": "markdown",
      "metadata": {
        "id": "DnkKfcKAYpwo"
      },
      "source": [
        "## Objectives\n",
        "\n",
        "You will be able to:\n",
        "\n",
        "* Declare and use a basic function"
      ]
    },
    {
      "cell_type": "markdown",
      "metadata": {
        "id": "YiMJ96ZbYpwo"
      },
      "source": [
        "## Our problem so far"
      ]
    },
    {
      "cell_type": "markdown",
      "metadata": {
        "id": "q4Lq4-VAYpwp"
      },
      "source": [
        "Imagine that we have a group of employees who have just joined our company.  "
      ]
    },
    {
      "cell_type": "code",
      "execution_count": null,
      "metadata": {
        "id": "_WjWRLLqYpwp"
      },
      "outputs": [],
      "source": [
        "new_employees = ['jim', 'tracy', 'lisa']"
      ]
    },
    {
      "cell_type": "markdown",
      "metadata": {
        "id": "5oa4Q_pWYpwq"
      },
      "source": [
        "> Press shift + enter to run this code."
      ]
    },
    {
      "cell_type": "markdown",
      "metadata": {
        "id": "p94Fgeh3Ypwq"
      },
      "source": [
        "We want to send each of them a nice welcome message.  We could use a `for` loop to create a list of `welcome_messages`."
      ]
    },
    {
      "cell_type": "code",
      "source": [
        "welcome_messages = []\n",
        "for employee in new_employees:\n",
        "  #print(f\"Hi {employee.capitalize()}, I'm so glad to be working with you\")\n",
        "  welcome_messages.append(f\"Hi {employee.capitalize()}, I'm so glad to be working with you\")\n",
        "welcome_messages"
      ],
      "metadata": {
        "colab": {
          "base_uri": "https://localhost:8080/"
        },
        "id": "47YsXIXxcUl-",
        "outputId": "845c7e7c-ab26-4868-fe29-ba02a2ee17a0"
      },
      "execution_count": null,
      "outputs": [
        {
          "output_type": "execute_result",
          "data": {
            "text/plain": [
              "[\"Hi Jim, I'm so glad to be working with you\",\n",
              " \"Hi Tracy, I'm so glad to be working with you\",\n",
              " \"Hi Lisa, I'm so glad to be working with you\"]"
            ]
          },
          "metadata": {},
          "execution_count": 5
        }
      ]
    },
    {
      "cell_type": "code",
      "execution_count": null,
      "metadata": {
        "id": "bT-7J5HVYpwq",
        "outputId": "e49f8a17-5d66-48d7-fdc3-dba4299ac2e2",
        "colab": {
          "base_uri": "https://localhost:8080/"
        }
      },
      "outputs": [
        {
          "output_type": "execute_result",
          "data": {
            "text/plain": [
              "[\"Hi Steven, I'm so glad to be working with you!\",\n",
              " \"Hi Jan, I'm so glad to be working with you!\",\n",
              " \"Hi Meryl, I'm so glad to be working with you!\"]"
            ]
          },
          "metadata": {},
          "execution_count": 8
        }
      ],
      "source": [
        "welcome_messages = []\n",
        "for new_employee in new_employees:\n",
        "    welcome_messages.append(\"Hi \" + new_employee.title() + \", I'm so glad to be working with you!\" )\n",
        "\n",
        "welcome_messages"
      ]
    },
    {
      "cell_type": "markdown",
      "metadata": {
        "id": "3kR1-mcDYpwq"
      },
      "source": [
        "Then a couple of weeks later, a few more employees join, and we want to send messages to them as well."
      ]
    },
    {
      "cell_type": "code",
      "execution_count": null,
      "metadata": {
        "id": "q5ub4wfYYpwr"
      },
      "outputs": [],
      "source": [
        "new_employees = ['steven', 'jan', 'meryl']"
      ]
    },
    {
      "cell_type": "markdown",
      "metadata": {
        "id": "rNe4kGd8Ypwr"
      },
      "source": [
        "Well to accomplish welcoming the new employees, we would likely copy our code from above."
      ]
    },
    {
      "cell_type": "code",
      "execution_count": null,
      "metadata": {
        "id": "M4g6C7IlYpwr",
        "outputId": "3b4cb165-bc94-4026-88bf-da3e3ffa02d8",
        "colab": {
          "base_uri": "https://localhost:8080/"
        }
      },
      "outputs": [
        {
          "output_type": "execute_result",
          "data": {
            "text/plain": [
              "[\"Hi Steven, I'm so glad to be working with you!\",\n",
              " \"Hi Jan, I'm so glad to be working with you!\",\n",
              " \"Hi Meryl, I'm so glad to be working with you!\"]"
            ]
          },
          "metadata": {},
          "execution_count": 12
        }
      ],
      "source": [
        "welcome_messages = []\n",
        "for new_employee in new_employees:\n",
        "    welcome_messages.append(\"Hi \" + new_employee.title() + \", I'm so glad to be working with you!\" )\n",
        "\n",
        "welcome_messages"
      ]
    },
    {
      "cell_type": "markdown",
      "metadata": {
        "id": "DLW8hTB6Ypwr"
      },
      "source": [
        "If each time we wanted to reuse code we would have to copy and paste the code and maintain a lot more code than is necessary.  Also, each time we recopied it is another opportunity to make a mistake.  So what if there was a way to write that code just one time, yet be able to execute that code wherever and whenever we want?  Functions allow us to do just that.\n",
        "\n",
        "Here is that same code wrapped in a function:"
      ]
    },
    {
      "cell_type": "code",
      "execution_count": null,
      "metadata": {
        "id": "e-juHmzHYpwr"
      },
      "outputs": [],
      "source": [
        "def greet_employees():\n",
        "    welcome_messages = []\n",
        "    for new_employee in new_employees:\n",
        "        welcome_messages.append(\"Hi \" + new_employee.title() + \", I'm so glad to be working with you!\" )\n",
        "\n",
        "    return welcome_messages"
      ]
    },
    {
      "cell_type": "code",
      "source": [
        "\n",
        "greet_employees()"
      ],
      "metadata": {
        "colab": {
          "base_uri": "https://localhost:8080/"
        },
        "id": "HWScDBpbfGfm",
        "outputId": "c9ced6e4-c130-4e8a-ea05-1d18d4229276"
      },
      "execution_count": null,
      "outputs": [
        {
          "output_type": "execute_result",
          "data": {
            "text/plain": [
              "[\"Hi Steven, I'm so glad to be working with you!\",\n",
              " \"Hi Jan, I'm so glad to be working with you!\",\n",
              " \"Hi Meryl, I'm so glad to be working with you!\"]"
            ]
          },
          "metadata": {},
          "execution_count": 17
        }
      ]
    },
    {
      "cell_type": "code",
      "execution_count": null,
      "metadata": {
        "scrolled": true,
        "id": "50m2b6FMYpwr",
        "outputId": "c5522a5a-5244-4b3b-b78b-654ae0e2b549"
      },
      "outputs": [
        {
          "data": {
            "text/plain": [
              "[\"Hi Steven, I'm so glad to be working with you!\",\n",
              " \"Hi Jan, I'm so glad to be working with you!\",\n",
              " \"Hi Meryl, I'm so glad to be working with you!\"]"
            ]
          },
          "execution_count": 6,
          "metadata": {},
          "output_type": "execute_result"
        }
      ],
      "source": [
        "\n",
        "def greetings():\n",
        "  welcome_messages = []\n",
        "  for new_employee in new_employees:\n",
        "    welcome_messages.append(\"Hi \" + new_employee.title() + \", I'm so glad to be working with you!\" )\n",
        "  return welcome_messages\n",
        "greetings()\n"
      ]
    },
    {
      "cell_type": "markdown",
      "metadata": {
        "id": "8ldEaxM5Ypwr"
      },
      "source": [
        "> Make sure to press shift + enter for the two cells above."
      ]
    },
    {
      "cell_type": "markdown",
      "metadata": {
        "id": "dIwr7PU6Ypwr"
      },
      "source": [
        "There are two steps to using a function: defining a function and executing a function.  Defining a function happens first, and afterward when we call `greet_employees()` we execute the function.   "
      ]
    },
    {
      "cell_type": "code",
      "execution_count": null,
      "metadata": {
        "id": "CwManbwXYpwr",
        "outputId": "269c0f43-183b-44ef-97f3-0e753719727c",
        "colab": {
          "base_uri": "https://localhost:8080/"
        }
      },
      "outputs": [
        {
          "output_type": "execute_result",
          "data": {
            "text/plain": [
              "[\"Hi Jan, I'm so glad to be working with you!\",\n",
              " \"Hi Joe, I'm so glad to be working with you!\",\n",
              " \"Hi Avi, I'm so glad to be working with you!\"]"
            ]
          },
          "metadata": {},
          "execution_count": 18
        }
      ],
      "source": [
        "new_employees = ['Jan', 'Joe', 'Avi']\n",
        "greet_employees()"
      ]
    },
    {
      "cell_type": "markdown",
      "metadata": {
        "id": "TzHrIh1hYpwr"
      },
      "source": [
        "Ok, let's break down how to define, or declare, a function.  Executing a function is fairly simple, just type the function's name followed by parentheses."
      ]
    },
    {
      "cell_type": "code",
      "execution_count": null,
      "metadata": {
        "id": "0Vx9agHWYpwr",
        "outputId": "dc28fba6-166c-46ec-f3d0-981caa6781a5"
      },
      "outputs": [
        {
          "data": {
            "text/plain": [
              "[\"Hi Jan, I'm so glad to be working with you!\",\n",
              " \"Hi Joe, I'm so glad to be working with you!\",\n",
              " \"Hi Avi, I'm so glad to be working with you!\"]"
            ]
          },
          "execution_count": 8,
          "metadata": {},
          "output_type": "execute_result"
        }
      ],
      "source": [
        "greet_employees()"
      ]
    },
    {
      "cell_type": "markdown",
      "metadata": {
        "id": "WXd0iPq-Ypws"
      },
      "source": [
        "## Declaring and using functions"
      ]
    },
    {
      "cell_type": "markdown",
      "metadata": {
        "id": "sFt5jPJYYpws"
      },
      "source": [
        "There are two components to declaring a function: the function signature and the function body."
      ]
    },
    {
      "cell_type": "code",
      "execution_count": null,
      "metadata": {
        "id": "jvLAq0tCYpws"
      },
      "outputs": [],
      "source": [
        "def name_of_function(): # signature\n",
        "    words = 'function body' # body\n",
        "    print(words) # body"
      ]
    },
    {
      "cell_type": "markdown",
      "metadata": {
        "id": "3C3YSrlgYpws"
      },
      "source": [
        "### Function Signature\n",
        "\n",
        "The function signature is the first line of the function.  It follows the pattern of `def`, `function name`, `parentheses`, `colon`.\n",
        "\n",
        "`def name_of_function():`\n",
        "\n",
        "The `def` is there to tell Python that you are about to declare a function.  The name of the function indicates how to reference and execute the function later.  The colon is to end the function signature and indicate that the body of the function is next.  The parentheses are important as well, and we'll explain their use in a later lesson.\n",
        "\n",
        "### Function Body\n",
        "\n",
        "The body of the function is what the function does.  This is the code that runs each time we execute the function.  We indicate that we are writing the function body by going to the next line and indenting after the colon.  To complete the function body we stop indenting.  "
      ]
    },
    {
      "cell_type": "code",
      "execution_count": null,
      "metadata": {
        "id": "w5Rp7qmaYpws"
      },
      "outputs": [],
      "source": [
        "def name_of_function():\n",
        "    words = 'function body' # function body\n",
        "    print(words) # function body\n",
        "# no longer part of the function body"
      ]
    },
    {
      "cell_type": "markdown",
      "metadata": {
        "id": "Jn-_0xA_Ypws"
      },
      "source": [
        "Let's execute the `name_of_function()` function."
      ]
    },
    {
      "cell_type": "code",
      "execution_count": null,
      "metadata": {
        "id": "c0f-KjD9Ypws",
        "outputId": "09a42c6d-002f-4ca2-c957-046818f9f022",
        "colab": {
          "base_uri": "https://localhost:8080/"
        }
      },
      "outputs": [
        {
          "output_type": "stream",
          "name": "stdout",
          "text": [
            "function body\n"
          ]
        }
      ],
      "source": [
        "name_of_function()"
      ]
    },
    {
      "cell_type": "code",
      "source": [
        "def name_function():\n",
        "  word='function test'\n",
        "  print(word)\n",
        "name_function()\n"
      ],
      "metadata": {
        "colab": {
          "base_uri": "https://localhost:8080/"
        },
        "id": "F12P7rp8gtKh",
        "outputId": "e480fd11-4451-471c-8476-741d3554a15f"
      },
      "execution_count": null,
      "outputs": [
        {
          "output_type": "stream",
          "name": "stdout",
          "text": [
            "function test\n"
          ]
        }
      ]
    },
    {
      "cell_type": "markdown",
      "metadata": {
        "id": "bsFGCB8HYpws"
      },
      "source": [
        "> Press shift + enter"
      ]
    },
    {
      "cell_type": "markdown",
      "metadata": {
        "id": "WAaAupCsYpws"
      },
      "source": [
        "Did it work?  Kinda.  The lines of our function were run.  But our function did not return anything.  Functions are designed so that everything inside of them stays inside.  So for example, even though we declared the `words` variable, `words` is not available from outside of the function."
      ]
    },
    {
      "cell_type": "code",
      "execution_count": null,
      "metadata": {
        "id": "iA5tXFEdYpws",
        "outputId": "92fcd02b-de09-4c53-9275-2293bcaa0953"
      },
      "outputs": [
        {
          "ename": "NameError",
          "evalue": "name 'words' is not defined",
          "output_type": "error",
          "traceback": [
            "\u001b[1;31m---------------------------------------------------------------------------\u001b[0m",
            "\u001b[1;31mNameError\u001b[0m                                 Traceback (most recent call last)",
            "\u001b[1;32m<ipython-input-12-730c51b3e7e0>\u001b[0m in \u001b[0;36m<module>\u001b[1;34m\u001b[0m\n\u001b[1;32m----> 1\u001b[1;33m \u001b[0mwords\u001b[0m\u001b[1;33m\u001b[0m\u001b[1;33m\u001b[0m\u001b[0m\n\u001b[0m",
            "\u001b[1;31mNameError\u001b[0m: name 'words' is not defined"
          ]
        }
      ],
      "source": [
        "words"
      ]
    },
    {
      "cell_type": "markdown",
      "metadata": {
        "id": "cYCwG2iZYpws"
      },
      "source": [
        "To get something out of the function, we must use the `return` keyword, followed by what we would like to return.  Let's declare another function called `other_function()` that has a body which is exactly the same, but has a return statement."
      ]
    },
    {
      "cell_type": "code",
      "execution_count": null,
      "metadata": {
        "id": "ke_hey-vYpws"
      },
      "outputs": [],
      "source": [
        "def other_function(): # signature\n",
        "    words = 'returned from inside the function body' # body\n",
        "    return words"
      ]
    },
    {
      "cell_type": "code",
      "execution_count": null,
      "metadata": {
        "id": "97jeFiUtYpwt",
        "outputId": "c3ba4973-4643-41a1-c36e-360189c98055"
      },
      "outputs": [
        {
          "data": {
            "text/plain": [
              "'returned from inside the function body'"
            ]
          },
          "execution_count": 14,
          "metadata": {},
          "output_type": "execute_result"
        }
      ],
      "source": [
        "other_function()"
      ]
    },
    {
      "cell_type": "code",
      "source": [
        "def test_function():\n",
        "  words='words returned inside the function body'\n",
        "  return words\n",
        "test_function()"
      ],
      "metadata": {
        "colab": {
          "base_uri": "https://localhost:8080/",
          "height": 35
        },
        "id": "QpV_devNiQu6",
        "outputId": "67b39050-611c-47d5-ae0b-0034d316e88c"
      },
      "execution_count": null,
      "outputs": [
        {
          "output_type": "execute_result",
          "data": {
            "text/plain": [
              "'words returned inside the function body'"
            ],
            "application/vnd.google.colaboratory.intrinsic+json": {
              "type": "string"
            }
          },
          "metadata": {},
          "execution_count": 27
        }
      ]
    },
    {
      "cell_type": "markdown",
      "metadata": {
        "id": "t0NijDx5Ypwt"
      },
      "source": [
        "Much better.  So with the return statement we returned the string `'returned from inside the function body'`."
      ]
    },
    {
      "cell_type": "markdown",
      "metadata": {
        "id": "U9KZ_v8VYpwt"
      },
      "source": [
        "> We will learn more on what is available from inside and outside of the function, so, don't worry if it feels a little confusing right now."
      ]
    },
    {
      "cell_type": "markdown",
      "metadata": {
        "id": "09WXMuoWYpwt"
      },
      "source": [
        "## See it again"
      ]
    },
    {
      "cell_type": "markdown",
      "metadata": {
        "id": "2_zUjWuaYpwt"
      },
      "source": [
        "Now let's identify the function signature and function body of our original function, `greet_empoyees()`."
      ]
    },
    {
      "cell_type": "code",
      "execution_count": null,
      "metadata": {
        "id": "j7Tf6FjxYpwt"
      },
      "outputs": [],
      "source": [
        "def greet_employees(): # function signature\n",
        "    welcome_messages = [] # begin function body\n",
        "    for new_employee in new_employees:\n",
        "        welcome_messages.append(\"Hi \" + new_employee.title() + \", I'm so glad to be working with you!\" )\n",
        "\n",
        "    return welcome_messages # return statement\n",
        "\n",
        "# no longer in function body"
      ]
    },
    {
      "cell_type": "markdown",
      "metadata": {
        "id": "Ndl1QeCxYpwt"
      },
      "source": [
        "As you can see, `greet_employees()` has the same components of a function we identified earlier: the function signature, the function body, and the return statement. Each time we call, `greet_employees()`, all of the lines in the body of the function are run.  However, only the return value is accessible from outside of the function."
      ]
    },
    {
      "cell_type": "code",
      "execution_count": null,
      "metadata": {
        "id": "UvoUSYwaYpwt",
        "outputId": "cd3112fc-64b2-495f-d822-b42bd981cecc",
        "colab": {
          "base_uri": "https://localhost:8080/"
        }
      },
      "outputs": [
        {
          "output_type": "execute_result",
          "data": {
            "text/plain": [
              "[\"Hi Jan, I'm so glad to be working with you!\",\n",
              " \"Hi Joe, I'm so glad to be working with you!\",\n",
              " \"Hi Avi, I'm so glad to be working with you!\"]"
            ]
          },
          "metadata": {},
          "execution_count": 32
        }
      ],
      "source": [
        "greet_employees()"
      ]
    },
    {
      "cell_type": "markdown",
      "metadata": {
        "id": "Zudx3Wt9Ypwt"
      },
      "source": [
        "## Summary"
      ]
    },
    {
      "cell_type": "markdown",
      "metadata": {
        "collapsed": true,
        "id": "OPSMbTOUYpwu"
      },
      "source": [
        "In this lesson we saw how using a function allows us to reuse code without rewriting it.  We saw that to declare a function we first write the function signature, which consists of the `def` keyword, the function name, parentheses, and a colon.  We indicate the body of the function by indenting our code and then writing the code that our function will execute.  To execute the function, we write the function's name followed by parentheses.  Executing the function will run the lines in the body of the function."
      ]
    },
    {
      "cell_type": "code",
      "source": [
        "#creating a function\n",
        "def my_function():\n",
        "  print('Hello from a function')\n",
        "\n",
        "#call function\n",
        "my_function()"
      ],
      "metadata": {
        "colab": {
          "base_uri": "https://localhost:8080/"
        },
        "id": "gWAL_y6dZ85r",
        "outputId": "02d45463-2fae-4057-ee62-80985c345ee7"
      },
      "execution_count": 1,
      "outputs": [
        {
          "output_type": "stream",
          "name": "stdout",
          "text": [
            "Hello from a function\n"
          ]
        }
      ]
    },
    {
      "cell_type": "code",
      "source": [
        "def name_func(fname,lname):\n",
        "  print(f'{fname} {lname}')\n",
        "\n",
        "name_func('Grace','Mwende')\n",
        "name_func('John','Njue')\n",
        "name_func('Mom','dad')"
      ],
      "metadata": {
        "colab": {
          "base_uri": "https://localhost:8080/"
        },
        "id": "5M5nnqbDZ8oh",
        "outputId": "7e55750d-bf48-48d5-a43b-c1966228ad8d"
      },
      "execution_count": 5,
      "outputs": [
        {
          "output_type": "stream",
          "name": "stdout",
          "text": [
            "Grace Mwende\n",
            "John Njue\n",
            "Mom dad\n"
          ]
        }
      ]
    },
    {
      "cell_type": "code",
      "source": [
        "#Arbitrary Arguments,*args\n",
        "#If you do not know how many arguments that will be passed into your function, add a * before the parameter name in the function definition.\n",
        "#This way the function will receive a tuple of arguments, and can access the items accordingly:\n",
        "def func(*kids):\n",
        "  print('youngest child is',kids[2])\n",
        "  print('youngest child is',kids)\n",
        "func(\"Emil\", \"Tobias\", \"Linus\")"
      ],
      "metadata": {
        "colab": {
          "base_uri": "https://localhost:8080/"
        },
        "id": "v3dAG8pQZ8bx",
        "outputId": "b3e64e14-ae97-481a-faff-8d0c14bd9a50"
      },
      "execution_count": 11,
      "outputs": [
        {
          "output_type": "stream",
          "name": "stdout",
          "text": [
            "youngest child is Linus\n",
            "youngest child is ('Emil', 'Tobias', 'Linus')\n"
          ]
        }
      ]
    },
    {
      "cell_type": "code",
      "source": [
        "#keyword Arguments\n",
        "def my_function(child3,child2,child1):\n",
        "  print('youngest child is',child3)\n",
        "my_function(child1='Emil',child2='Tobias',child3='Linus')"
      ],
      "metadata": {
        "colab": {
          "base_uri": "https://localhost:8080/"
        },
        "id": "OM58NHhLZ8U_",
        "outputId": "b697adc5-725e-4155-a95e-9e7fd873315d"
      },
      "execution_count": 12,
      "outputs": [
        {
          "output_type": "stream",
          "name": "stdout",
          "text": [
            "youngest child is Linus\n"
          ]
        }
      ]
    },
    {
      "cell_type": "code",
      "source": [
        "#Arbitrary Keyword Arguments, **kwargs\n",
        "#If you do not know how many keyword arguments that will be passed into your function, add two asterisk: ** before the parameter name in the function definition.\n",
        "#This way the function will receive a dictionary of arguments, and can access the items accordingly:\n",
        "def my_function(**kid):\n",
        "  print('His last name is',kid['lname'])\n",
        "my_function(fname='Tobias',lname='Mwende')"
      ],
      "metadata": {
        "colab": {
          "base_uri": "https://localhost:8080/"
        },
        "id": "XNwCT_OrZ8RF",
        "outputId": "8edf3f40-c3e5-45ac-a8fb-15514b0a4453"
      },
      "execution_count": 13,
      "outputs": [
        {
          "output_type": "stream",
          "name": "stdout",
          "text": [
            "His last name is Mwende\n"
          ]
        }
      ]
    },
    {
      "cell_type": "code",
      "source": [
        "#Default Parameter Value\n",
        "def func(country='Norway'):\n",
        "  print('I am from',country)\n",
        "func('sweden')\n",
        "func('india')\n",
        "func()\n",
        "func('brazil')"
      ],
      "metadata": {
        "colab": {
          "base_uri": "https://localhost:8080/"
        },
        "id": "II8RZBlcZ8PX",
        "outputId": "fd1cdb2a-46aa-457c-9273-1926c016f879"
      },
      "execution_count": 14,
      "outputs": [
        {
          "output_type": "stream",
          "name": "stdout",
          "text": [
            "I am from sweden\n",
            "I am from india\n",
            "I am from Norway\n",
            "I am from brazil\n"
          ]
        }
      ]
    },
    {
      "cell_type": "code",
      "source": [
        "#passing a list as an argument\n",
        "def func(food):\n",
        "  for x in food:\n",
        "    print (x)\n",
        "\n",
        "fruits=['mango','melon','bananas']\n",
        "func(fruits)"
      ],
      "metadata": {
        "colab": {
          "base_uri": "https://localhost:8080/"
        },
        "id": "WEiEziJBZ8LM",
        "outputId": "8204eb73-f81a-452a-8a49-411fb6178313"
      },
      "execution_count": 15,
      "outputs": [
        {
          "output_type": "stream",
          "name": "stdout",
          "text": [
            "mango\n",
            "melon\n",
            "bananas\n"
          ]
        }
      ]
    },
    {
      "cell_type": "code",
      "source": [
        "# Return Values\n",
        "# To let a function return a value, use the return statement:\n",
        "def func(x):\n",
        "  return 5*x\n",
        "print(func(3))\n",
        "print(func(5))\n",
        "print(func(9))"
      ],
      "metadata": {
        "colab": {
          "base_uri": "https://localhost:8080/"
        },
        "id": "-cz4xLcNZ5qO",
        "outputId": "ce333716-fd54-4e1f-e1a2-80bac3e5b0b1"
      },
      "execution_count": 19,
      "outputs": [
        {
          "output_type": "stream",
          "name": "stdout",
          "text": [
            "15\n",
            "25\n",
            "45\n"
          ]
        }
      ]
    },
    {
      "cell_type": "code",
      "source": [
        " #Pass statement\n",
        "# function definitions cannot be empty, but if you for some reason have a function definition with no content, put in the pass statement to avoid getting an error.\n",
        "def my_function():\n",
        "  pass\n",
        "my_function()"
      ],
      "metadata": {
        "id": "C1SW7Jnkf5kC"
      },
      "execution_count": 30,
      "outputs": []
    },
    {
      "cell_type": "code",
      "source": [
        "# Positional-Only Arguments\n",
        "# You can specify that a function can have ONLY positional arguments, or ONLY keyword arguments.\n",
        "\n",
        "# To specify that a function can have only positional arguments, add , / after the arguments:\n",
        "def func(x,/):\n",
        "  print(x)\n",
        "\n",
        "func(3)"
      ],
      "metadata": {
        "colab": {
          "base_uri": "https://localhost:8080/"
        },
        "id": "go_THUCQgMiZ",
        "outputId": "8f418473-e2a2-47ea-e309-54591aaf8db6"
      },
      "execution_count": 22,
      "outputs": [
        {
          "output_type": "stream",
          "name": "stdout",
          "text": [
            "3\n"
          ]
        }
      ]
    },
    {
      "cell_type": "code",
      "source": [
        "# Without the , / you are actually allowed to use keyword arguments even if the function expects positional arguments:\n",
        "def my_function(x):\n",
        "  print(x)\n",
        "\n",
        "my_function(x =3)"
      ],
      "metadata": {
        "colab": {
          "base_uri": "https://localhost:8080/"
        },
        "id": "lFmVmZOvgrjs",
        "outputId": "6aecb1a1-e2c3-459c-8eef-ed9b18054f4f"
      },
      "execution_count": 25,
      "outputs": [
        {
          "output_type": "stream",
          "name": "stdout",
          "text": [
            "3\n"
          ]
        }
      ]
    },
    {
      "cell_type": "code",
      "source": [
        "#Recursion\n",
        "def tri_recursion(k):\n",
        "  if(k > 0):\n",
        "    result = k + tri_recursion(k - 1)\n",
        "    print(result)\n",
        "  else:\n",
        "    result = 0\n",
        "  return result\n",
        "\n",
        "print(\"\\n\\nRecursion Example Results\")\n",
        "tri_recursion(6)"
      ],
      "metadata": {
        "colab": {
          "base_uri": "https://localhost:8080/"
        },
        "id": "bCtnT8ytg5ST",
        "outputId": "5028e3ed-f8c7-4f3a-c6e2-7195cc51c48e"
      },
      "execution_count": 27,
      "outputs": [
        {
          "output_type": "stream",
          "name": "stdout",
          "text": [
            "\n",
            "\n",
            "Recursion Example Results\n",
            "1\n",
            "3\n",
            "6\n",
            "10\n",
            "15\n",
            "21\n"
          ]
        },
        {
          "output_type": "execute_result",
          "data": {
            "text/plain": [
              "21"
            ]
          },
          "metadata": {},
          "execution_count": 27
        }
      ]
    },
    {
      "cell_type": "code",
      "source": [
        "#python library functions\n",
        "import math\n",
        "\n",
        "square_root=math.sqrt(4)\n",
        "print('square root of 4 is',square_root)\n",
        "\n",
        "power=pow(2,3)\n",
        "print('2 to the power of three is',power)"
      ],
      "metadata": {
        "colab": {
          "base_uri": "https://localhost:8080/"
        },
        "id": "fMaxZIdIhNIR",
        "outputId": "d785a4ff-d53b-46ac-8c2c-020cdb479b9a"
      },
      "execution_count": 31,
      "outputs": [
        {
          "output_type": "stream",
          "name": "stdout",
          "text": [
            "square root of 4 is 2.0\n",
            "2 to the power of three is 8\n"
          ]
        }
      ]
    },
    {
      "cell_type": "code",
      "source": [
        "#check odd or even\n",
        "def even_odd(x):\n",
        "  if x%2==0:\n",
        "    return 'even'\n",
        "  else:\n",
        "    return 'odd'\n",
        "print(even_odd(2))\n",
        "print(even_odd(3))"
      ],
      "metadata": {
        "colab": {
          "base_uri": "https://localhost:8080/"
        },
        "id": "KdYKsnmRjzWK",
        "outputId": "5e61e6ca-86aa-44ec-ad4e-8ee2c152a183"
      },
      "execution_count": 33,
      "outputs": [
        {
          "output_type": "stream",
          "name": "stdout",
          "text": [
            "even\n",
            "odd\n"
          ]
        }
      ]
    },
    {
      "cell_type": "code",
      "source": [
        "#Python Function within Functions\n",
        "def f1():\n",
        "  s='I love GeeksforGeeks'\n",
        "\n",
        "  def f2():\n",
        "    print(s)\n",
        "\n",
        "  f2()\n",
        "\n",
        "f1()"
      ],
      "metadata": {
        "colab": {
          "base_uri": "https://localhost:8080/"
        },
        "id": "nvSCGXVbkbON",
        "outputId": "1793871b-108d-404b-d3ad-bc3aa2634c01"
      },
      "execution_count": 34,
      "outputs": [
        {
          "output_type": "stream",
          "name": "stdout",
          "text": [
            "I love GeeksforGeeks\n"
          ]
        }
      ]
    },
    {
      "cell_type": "code",
      "source": [],
      "metadata": {
        "id": "zx9sCUSSlXy0"
      },
      "execution_count": null,
      "outputs": []
    }
  ],
  "metadata": {
    "kernelspec": {
      "display_name": "Python (learn-env)",
      "language": "python",
      "name": "learn-env"
    },
    "language_info": {
      "codemirror_mode": {
        "name": "ipython",
        "version": 3
      },
      "file_extension": ".py",
      "mimetype": "text/x-python",
      "name": "python",
      "nbconvert_exporter": "python",
      "pygments_lexer": "ipython3",
      "version": "3.8.5"
    },
    "toc": {
      "base_numbering": 1,
      "nav_menu": {},
      "number_sections": true,
      "sideBar": true,
      "skip_h1_title": false,
      "title_cell": "Table of Contents",
      "title_sidebar": "Contents",
      "toc_cell": false,
      "toc_position": {},
      "toc_section_display": true,
      "toc_window_display": false
    },
    "colab": {
      "provenance": [],
      "include_colab_link": true
    }
  },
  "nbformat": 4,
  "nbformat_minor": 0
}