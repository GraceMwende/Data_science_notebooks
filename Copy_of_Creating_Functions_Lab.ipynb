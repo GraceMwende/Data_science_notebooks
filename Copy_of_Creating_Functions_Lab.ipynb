{
  "cells": [
    {
      "cell_type": "markdown",
      "metadata": {
        "id": "view-in-github",
        "colab_type": "text"
      },
      "source": [
        "<a href=\"https://colab.research.google.com/github/GraceMwende/Data_science_notebooks/blob/main/Copy_of_Creating_Functions_Lab.ipynb\" target=\"_parent\"><img src=\"https://colab.research.google.com/assets/colab-badge.svg\" alt=\"Open In Colab\"/></a>"
      ]
    },
    {
      "cell_type": "markdown",
      "metadata": {
        "id": "se-w7osFZDc1"
      },
      "source": [
        "# Creating Functions - Lab"
      ]
    },
    {
      "cell_type": "markdown",
      "metadata": {
        "id": "_qz9MPXKZDc2"
      },
      "source": [
        "## Introduction\n",
        "\n",
        "As you know, we can use functions to name snippets of our code, thus making our code more expressive. We can also use functions to allow us to reuse our code. In this lab we will practice using functions for both of those purposes."
      ]
    },
    {
      "cell_type": "markdown",
      "metadata": {
        "id": "jbYWjnD3ZDc3"
      },
      "source": [
        "## Objectives\n",
        "\n",
        "You will be able to:\n",
        "\n",
        "* Declare and use a basic function"
      ]
    },
    {
      "cell_type": "markdown",
      "metadata": {
        "id": "tKkUYycPZDc3"
      },
      "source": [
        "## Instructions:\n",
        "### Writing our first functions"
      ]
    },
    {
      "cell_type": "markdown",
      "metadata": {
        "id": "RZmYYbP9ZDc3"
      },
      "source": [
        "Imagine we are creating a list of travel destinations -- which can really turn out to be a full time job if we like to travel. We have our list of `travel_destinations` which we assign below. Write a function called `number_of_destinations()` that returns the number of destinations we have on our list."
      ]
    },
    {
      "cell_type": "code",
      "execution_count": null,
      "metadata": {
        "id": "i_OhFwJDZDc3"
      },
      "outputs": [],
      "source": [
        "travel_destinations = ['argentina', 'mexico', 'italy', 'finland', 'canada', 'croatia']\n",
        "# define function here\n",
        "def number_of_destinations():\n",
        "  return len(travel_destinations)"
      ]
    },
    {
      "cell_type": "markdown",
      "metadata": {
        "id": "N3FzrQ5pZDc4"
      },
      "source": [
        "> Below, remove the first `#` to uncomment the following line(s) of code and then press `shift` + `enter` to run the cell"
      ]
    },
    {
      "cell_type": "code",
      "execution_count": null,
      "metadata": {
        "id": "C4HZpNmKZDc4",
        "colab": {
          "base_uri": "https://localhost:8080/"
        },
        "outputId": "eb4e0bbf-0fe4-4c4f-c998-d2e91e66d347"
      },
      "outputs": [
        {
          "output_type": "execute_result",
          "data": {
            "text/plain": [
              "6"
            ]
          },
          "metadata": {},
          "execution_count": 58
        }
      ],
      "source": [
        " number_of_destinations() # Expected output: 6"
      ]
    },
    {
      "cell_type": "markdown",
      "metadata": {
        "id": "V4m-7kdrZDc4"
      },
      "source": [
        "Now write another function called `next_up()` that returns our first destination (the destination with the lowest index), in the `list_of_destinations` list."
      ]
    },
    {
      "cell_type": "code",
      "source": [
        "travel_destinations[0]"
      ],
      "metadata": {
        "colab": {
          "base_uri": "https://localhost:8080/",
          "height": 35
        },
        "id": "rENdVGB5TS2V",
        "outputId": "3d783528-86f3-4449-d993-613c89891952"
      },
      "execution_count": null,
      "outputs": [
        {
          "output_type": "execute_result",
          "data": {
            "text/plain": [
              "'argentina'"
            ],
            "application/vnd.google.colaboratory.intrinsic+json": {
              "type": "string"
            }
          },
          "metadata": {},
          "execution_count": 4
        }
      ]
    },
    {
      "cell_type": "code",
      "execution_count": null,
      "metadata": {
        "id": "yG9QzYUEZDc4"
      },
      "outputs": [],
      "source": [
        "# define function here\n",
        "\n",
        "def next_up():\n",
        "  return (list_of_destinations[0])\n"
      ]
    },
    {
      "cell_type": "markdown",
      "metadata": {
        "id": "XTuhl7EYZDc4"
      },
      "source": [
        "Next, run your new function"
      ]
    },
    {
      "cell_type": "code",
      "execution_count": null,
      "metadata": {
        "id": "vPZcgbBcZDc4",
        "colab": {
          "base_uri": "https://localhost:8080/",
          "height": 35
        },
        "outputId": "651b6fdb-7a32-4c95-b1b5-a6177a974c3b"
      },
      "outputs": [
        {
          "output_type": "execute_result",
          "data": {
            "text/plain": [
              "'argentina'"
            ],
            "application/vnd.google.colaboratory.intrinsic+json": {
              "type": "string"
            }
          },
          "metadata": {},
          "execution_count": 22
        }
      ],
      "source": [
        "list_of_destinations = ['argentina', 'canada', 'croatia']\n",
        "# Your code here\n",
        "next_up()\n",
        "# Expected output:'argentina'"
      ]
    },
    {
      "cell_type": "markdown",
      "metadata": {
        "id": "9c3EMoGQZDc4"
      },
      "source": [
        "Ok, now write a function called `favorite_destination()` that returns the string `'madagascar'`."
      ]
    },
    {
      "cell_type": "code",
      "execution_count": null,
      "metadata": {
        "id": "XcBtycOPZDc5"
      },
      "outputs": [],
      "source": [
        "# define function here\n",
        "def favorite_destination():\n",
        "  return 'Madagascar'"
      ]
    },
    {
      "cell_type": "markdown",
      "metadata": {
        "id": "7tTpKoSfZDc5"
      },
      "source": [
        "Next, run your new function"
      ]
    },
    {
      "cell_type": "code",
      "execution_count": null,
      "metadata": {
        "id": "x2ceuGhrZDc5",
        "colab": {
          "base_uri": "https://localhost:8080/",
          "height": 35
        },
        "outputId": "0b7e9e05-22a2-4e54-cd8c-49d269151261"
      },
      "outputs": [
        {
          "output_type": "execute_result",
          "data": {
            "text/plain": [
              "'Madagascar'"
            ],
            "application/vnd.google.colaboratory.intrinsic+json": {
              "type": "string"
            }
          },
          "metadata": {},
          "execution_count": 25
        }
      ],
      "source": [
        "# Your code here\n",
        "favorite_destination()\n",
        "# Expected output:'madagascar'"
      ]
    },
    {
      "cell_type": "markdown",
      "metadata": {
        "id": "0BRwFNI3ZDc5"
      },
      "source": [
        "Again, let's declare a list called `favorite_destinations`. Write a new function called `add_favorite_destination()` that adds the string `'madagascar'` to the end of `favorite_destinations` and also returns the string `'madagascar'`."
      ]
    },
    {
      "cell_type": "code",
      "execution_count": null,
      "metadata": {
        "id": "na3CzS4JZDc5"
      },
      "outputs": [],
      "source": [
        "# define function here\n",
        "def add_favorite_destination():\n",
        "  favorite_destinations.append(favorite_destination())\n",
        "  return favorite_destinations\n",
        "\n",
        "#add_favorite_destination()\n",
        "\n",
        "\n"
      ]
    },
    {
      "cell_type": "markdown",
      "metadata": {
        "id": "DtAIYfeDZDc5"
      },
      "source": [
        "Next, run your new function"
      ]
    },
    {
      "cell_type": "code",
      "execution_count": null,
      "metadata": {
        "id": "byjDAnNLZDc5",
        "colab": {
          "base_uri": "https://localhost:8080/",
          "height": 53
        },
        "outputId": "862f07d6-9120-4f94-f5fe-3ea11ab19698"
      },
      "outputs": [
        {
          "output_type": "stream",
          "name": "stdout",
          "text": [
            "['argentina', 'mexico', 'italy', 'finland', 'canada', 'croatia', 'Madagascar']\n"
          ]
        },
        {
          "output_type": "execute_result",
          "data": {
            "text/plain": [
              "'Madagascar'"
            ],
            "application/vnd.google.colaboratory.intrinsic+json": {
              "type": "string"
            }
          },
          "metadata": {},
          "execution_count": 61
        }
      ],
      "source": [
        "favorite_destinations = ['argentina', 'mexico', 'italy', 'finland', 'canada', 'croatia']\n",
        "\n",
        "# Your code here\n",
        "print(add_favorite_destination())\n",
        "\n",
        "favorite_destinations[-1]"
      ]
    },
    {
      "cell_type": "code",
      "source": [
        "#use list comprehension\n",
        "def capitalize_countries():\n",
        "  return [country.title() for country in capitalized_destinations]"
      ],
      "metadata": {
        "id": "O_QPwKdYpkMe"
      },
      "execution_count": null,
      "outputs": []
    },
    {
      "cell_type": "markdown",
      "metadata": {
        "id": "MKsBjrkEZDc5"
      },
      "source": [
        "Now let's write another function called `capitalize_countries()` which iterates through the list of `capitalized_destinations` and capitalizes the first letter of each word. It should return a list of capitalized destinations."
      ]
    },
    {
      "cell_type": "code",
      "execution_count": null,
      "metadata": {
        "id": "t6AZEnf1ZDc5",
        "colab": {
          "base_uri": "https://localhost:8080/"
        },
        "outputId": "46798fb8-770e-407d-d7e0-e5338e5e2a7a"
      },
      "outputs": [
        {
          "output_type": "execute_result",
          "data": {
            "text/plain": [
              "['Argentina', 'Mexico', 'Italy', 'Finland', 'Canada', 'Croatia']"
            ]
          },
          "metadata": {},
          "execution_count": 56
        }
      ],
      "source": [
        "capitalized_destinations = ['argentina', 'mexico', 'italy', 'finland', 'canada', 'croatia']\n",
        "capitalized=[]\n",
        "# define function here\n",
        "def capitalize_countries():\n",
        "  for destination in capitalized_destinations:\n",
        "    capitalized.append(destination.capitalize())\n",
        "  return capitalized\n",
        "\n",
        "\n",
        "#capitalize_countries()"
      ]
    },
    {
      "cell_type": "markdown",
      "metadata": {
        "id": "M0lwX24fZDc5"
      },
      "source": [
        "Next, run your new function"
      ]
    },
    {
      "cell_type": "code",
      "execution_count": null,
      "metadata": {
        "id": "SaG9jdGtZDc5",
        "colab": {
          "base_uri": "https://localhost:8080/"
        },
        "outputId": "a199bfe0-39fe-474a-8c5b-ed31c3651426"
      },
      "outputs": [
        {
          "output_type": "execute_result",
          "data": {
            "text/plain": [
              "['Argentina',\n",
              " 'Mexico',\n",
              " 'Italy',\n",
              " 'Finland',\n",
              " 'Canada',\n",
              " 'Croatia',\n",
              " 'Argentina',\n",
              " 'Mexico',\n",
              " 'Italy',\n",
              " 'Finland',\n",
              " 'Canada',\n",
              " 'Croatia']"
            ]
          },
          "metadata": {},
          "execution_count": 57
        }
      ],
      "source": [
        "capitalize_countries()\n",
        "# Your code here # ['Argentina', 'Mexico', 'Italy', 'Finland', 'Canada', 'Croatia']"
      ]
    },
    {
      "cell_type": "markdown",
      "metadata": {
        "id": "ELcvdyP4ZDc6"
      },
      "source": [
        "Great! Now if someone adds a country that is lowercased to our list of destinations, we can simply call our function again to capitalize each of the destinations in the list."
      ]
    },
    {
      "cell_type": "markdown",
      "metadata": {
        "id": "2ZnckNN7ZDc6"
      },
      "source": [
        "## Summary"
      ]
    },
    {
      "cell_type": "markdown",
      "metadata": {
        "id": "IEQ9gjE-ZDc6"
      },
      "source": [
        "Great job! In this lab we were able to get practice both creating and returning values from functions."
      ]
    }
  ],
  "metadata": {
    "kernelspec": {
      "display_name": "Python (learn-env)",
      "language": "python",
      "name": "learn-env"
    },
    "language_info": {
      "codemirror_mode": {
        "name": "ipython",
        "version": 3
      },
      "file_extension": ".py",
      "mimetype": "text/x-python",
      "name": "python",
      "nbconvert_exporter": "python",
      "pygments_lexer": "ipython3",
      "version": "3.8.5"
    },
    "toc": {
      "base_numbering": 1,
      "nav_menu": {},
      "number_sections": true,
      "sideBar": true,
      "skip_h1_title": false,
      "title_cell": "Table of Contents",
      "title_sidebar": "Contents",
      "toc_cell": false,
      "toc_position": {},
      "toc_section_display": true,
      "toc_window_display": false
    },
    "colab": {
      "provenance": [],
      "include_colab_link": true
    }
  },
  "nbformat": 4,
  "nbformat_minor": 0
}