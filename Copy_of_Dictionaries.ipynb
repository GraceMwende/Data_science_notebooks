{
  "cells": [
    {
      "cell_type": "markdown",
      "metadata": {
        "id": "view-in-github",
        "colab_type": "text"
      },
      "source": [
        "<a href=\"https://colab.research.google.com/github/GraceMwende/Data_science_notebooks/blob/main/Copy_of_Dictionaries.ipynb\" target=\"_parent\"><img src=\"https://colab.research.google.com/assets/colab-badge.svg\" alt=\"Open In Colab\"/></a>"
      ]
    },
    {
      "cell_type": "markdown",
      "metadata": {
        "id": "GcRjoBL_QaX1"
      },
      "source": [
        "# Working With Dictionaries\n",
        "\n",
        "## Introduction\n",
        "\n",
        "After introducing and working with Lists, you might be wondering if there are other kinds of collections in Python that we should know about. Well, there are! In this lesson, we will introduce **dictionaries**. As we know, lists represent a collection of information that is ordered, like a list of the most watched TV shows.  However, in different situations, we may want our data to represent attributes of an entity, such as the various attributes of a single TV show like its name, genre, starring actors, etc.  For such scenarios, a **dictionary** is more natural. Dictionaries are collections of **key-value pairs**. Rather then specifying a positional index as with lists, we specify a key for a dictionary and are returned with the value associated with that key. For example, in a list, we could retrieve the third item with `list_name[2]` (remember indexing starts at 0), while in a dictionary, we would have to specify a key such as `dict_name['key_name']` to retrieve the associated value attached to that key. This is similar to traditional dictionaries: you look up a specific word (the key) to find its associated definition (the value).\n",
        "\n",
        "## Objectives\n",
        "\n",
        "You will be able to:\n",
        "\n",
        "* Assign values in a dictionary\n",
        "* Access keys and values in a dictionary\n",
        "\n",
        "## Why Use a Dictionary When We Have Lists?\n",
        "\n",
        "While lists are great, for *listing* information like we mentioned earlier, they can actually become very messy when we are trying to use them to organize data which is more a bit more complex. Let's look at a brief example of a person.\n",
        "\n",
        "Every person has a **name**, **age**, **height** (in inches), **weight** (in lbs), and **fav_lang**. How would we represent a person using a list?\n",
        "\n",
        "```python\n",
        "terrance = [\"Terrance\", 25, \"6'00\", 165, \"Python\"]\n",
        "```\n",
        "\n",
        "Now, that looks *fine* but what do we do if we want to tell someone Terrance's fav programming language? We just have to ***remember*** that Terrance's favorite programming language comes fifth in his list of information? What if he has more attributes than just the five that are listed (i.e. native_language, hometown, etc.)? What if his attributes are in a different order than we expected? We can see that this list would easily breakdown and cause more problems than it solves.\n",
        "\n",
        "However, if we use a dictionary, we can neatly organize this information and make it easier for us to use as the dictionary grows. Let's see what Terrance's information would look like using a dictionary.\n",
        "\n",
        "```python\n",
        "terrance = {'name': \"Terrance\", 'age': 25, 'weight': 72, 'height': 165, 'fav_lang': \"Python\"}\n",
        "```\n",
        "\n",
        "This dictionary definitely has more text in it, but we can see a direct association between the *attribute* or **key** and its correlated **value** (i.e. `{\"key\": \"value\"}`). This datatype makes it easier to store and access information, such as the attributes of a person or other entity. Accessing information is always done by calling the associated **key**.\n",
        "\n",
        "Let's take a deeper look at how dictionaries are built and how they work.\n",
        "\n",
        "## Creating a dictionary, and retrieving attributes\n",
        "\n",
        "Imagine we want to represent information about the TV show Friends.  Our first step might be to go to Wikipedia to find some information.\n",
        "\n",
        "![](https://curriculum-content.s3.amazonaws.com/data-science/images/friends.png)\n",
        "\n",
        "As you can see, this information is presented in two columns, with the topics or headings to the left and their specific values to the right.  Now let's see how some of the above information can be represented as a dictionary in Python."
      ]
    },
    {
      "cell_type": "code",
      "execution_count": null,
      "metadata": {
        "id": "nbk2FKrsQaX3"
      },
      "outputs": [],
      "source": [
        "friends = {'name': 'Friends', 'genre': 'sitcom', 'no_of_seasons': 10}"
      ]
    },
    {
      "cell_type": "code",
      "source": [
        "friends={\n",
        "    'name':'Friends',\n",
        "    'genre':'sitcom',\n",
        "    'no_of_seasons':10\n",
        "}"
      ],
      "metadata": {
        "id": "178DrZ1mvZNR"
      },
      "execution_count": null,
      "outputs": []
    },
    {
      "cell_type": "code",
      "source": [
        "friends['no_of_seasons']"
      ],
      "metadata": {
        "id": "MszPuD0uvqlA",
        "outputId": "ef346f8d-a6cb-4fad-88ed-73aa61e4da75",
        "colab": {
          "base_uri": "https://localhost:8080/"
        }
      },
      "execution_count": null,
      "outputs": [
        {
          "output_type": "execute_result",
          "data": {
            "text/plain": [
              "10"
            ]
          },
          "metadata": {},
          "execution_count": 3
        }
      ]
    },
    {
      "cell_type": "markdown",
      "metadata": {
        "id": "mBC5_BeJQaX4"
      },
      "source": [
        "We create a dictionary with the braces, also called curly braces.  (On your keyboard, braces are located above the return key).  A dictionary is a group of key and value pairs, with the key to the left and the corresponding value to the right.      \n",
        "\n",
        "Now that we have initialized a dictionary and assigned it to the variable, `friends`, we can retrieve the dictionary by referencing our variable."
      ]
    },
    {
      "cell_type": "code",
      "execution_count": null,
      "metadata": {
        "id": "dryHL1guQaX4",
        "outputId": "7e99f03f-fb64-40d2-eb2b-35cae3dcefb9"
      },
      "outputs": [
        {
          "data": {
            "text/plain": [
              "{'name': 'Friends', 'genre': 'sitcom', 'no_of_seasons': 10}"
            ]
          },
          "execution_count": 3,
          "metadata": {},
          "output_type": "execute_result"
        }
      ],
      "source": [
        "friends"
      ]
    },
    {
      "cell_type": "code",
      "execution_count": null,
      "metadata": {
        "id": "kouY7i-QQaX4",
        "outputId": "6fc05532-85c5-4d03-fd45-4deb4192cab3"
      },
      "outputs": [
        {
          "data": {
            "text/plain": [
              "10"
            ]
          },
          "execution_count": 4,
          "metadata": {},
          "output_type": "execute_result"
        }
      ],
      "source": [
        "friends['no_of_seasons']"
      ]
    },
    {
      "cell_type": "code",
      "source": [
        "friends['no_of_episodes']=236\n",
        "friends"
      ],
      "metadata": {
        "id": "XkwVlG8nvz1X",
        "outputId": "38ff6493-37ef-496b-88ed-9ed0ff09f020",
        "colab": {
          "base_uri": "https://localhost:8080/"
        }
      },
      "execution_count": null,
      "outputs": [
        {
          "output_type": "execute_result",
          "data": {
            "text/plain": [
              "{'name': 'Friends',\n",
              " 'genre': 'sitcom',\n",
              " 'no_of_seasons': 10,\n",
              " 'no_of_episodes': 236}"
            ]
          },
          "metadata": {},
          "execution_count": 4
        }
      ]
    },
    {
      "cell_type": "markdown",
      "metadata": {
        "id": "EaJVvGhFQaX5"
      },
      "source": [
        "So to retrieve a specific value, we simply reference the dictionary, then the brackets, then the specific key.  The corresponding value is returned."
      ]
    },
    {
      "cell_type": "markdown",
      "metadata": {
        "id": "bfRMQO82QaX5"
      },
      "source": [
        "## Assigning attributes and exploring the edge cases"
      ]
    },
    {
      "cell_type": "markdown",
      "metadata": {
        "id": "sD0hVfsqQaX5"
      },
      "source": [
        "Now that we know how to retrieve values, let's take our existing `friends` dictionary, and assign it more key-value pairs.  Here is what our dictionary currently looks like."
      ]
    },
    {
      "cell_type": "code",
      "execution_count": null,
      "metadata": {
        "id": "8LNAlmIaQaX5",
        "outputId": "4edc3e88-1854-4baf-b4d9-c3314e58fbde"
      },
      "outputs": [
        {
          "data": {
            "text/plain": [
              "{'name': 'Friends', 'genre': 'sitcom', 'no_of_seasons': 10}"
            ]
          },
          "execution_count": 5,
          "metadata": {},
          "output_type": "execute_result"
        }
      ],
      "source": [
        "friends"
      ]
    },
    {
      "cell_type": "markdown",
      "metadata": {
        "id": "L1UT3CjpQaX5"
      },
      "source": [
        "Let's add a key of `no_of_episodes` with a value of 236."
      ]
    },
    {
      "cell_type": "code",
      "execution_count": null,
      "metadata": {
        "id": "SP6pBaBWQaX5"
      },
      "outputs": [],
      "source": [
        "friends['no_of_episodes'] = 236"
      ]
    },
    {
      "cell_type": "code",
      "execution_count": null,
      "metadata": {
        "id": "mJ8ZmxMWQaX5",
        "outputId": "39ede206-beee-4f27-fb8d-1beecd51b1a6"
      },
      "outputs": [
        {
          "data": {
            "text/plain": [
              "{'name': 'Friends',\n",
              " 'genre': 'sitcom',\n",
              " 'no_of_seasons': 10,\n",
              " 'no_of_episodes': 236}"
            ]
          },
          "execution_count": 7,
          "metadata": {},
          "output_type": "execute_result"
        }
      ],
      "source": [
        "friends"
      ]
    },
    {
      "cell_type": "markdown",
      "metadata": {
        "id": "O8EAdc_pQaX5"
      },
      "source": [
        "So as you can see, our values of a dictionary can be any data type -- strings, numbers, and others.  How about keys?  Do keys have to be strings? Asking questions like this is important for improving your understanding! Moreover, we don't always have to look up the answer; we can experiment and note the results."
      ]
    },
    {
      "cell_type": "code",
      "source": [
        "friends[14]='test'\n",
        "print(friends[14])\n",
        "friends"
      ],
      "metadata": {
        "id": "8pDh5XJpwEDS",
        "outputId": "4b34f7ce-85e0-4e15-9848-a073949de43c",
        "colab": {
          "base_uri": "https://localhost:8080/"
        }
      },
      "execution_count": null,
      "outputs": [
        {
          "output_type": "stream",
          "name": "stdout",
          "text": [
            "test\n"
          ]
        },
        {
          "output_type": "execute_result",
          "data": {
            "text/plain": [
              "{'name': 'Friends',\n",
              " 'genre': 'sitcom',\n",
              " 'no_of_seasons': 10,\n",
              " 'no_of_episodes': 236,\n",
              " 14: 'test'}"
            ]
          },
          "metadata": {},
          "execution_count": 5
        }
      ]
    },
    {
      "cell_type": "code",
      "source": [
        "del friends[14]\n",
        "friends"
      ],
      "metadata": {
        "id": "HQD19DC5wSPs",
        "outputId": "6604b7b6-0dd6-4902-e136-757ff4c517b9",
        "colab": {
          "base_uri": "https://localhost:8080/"
        }
      },
      "execution_count": null,
      "outputs": [
        {
          "output_type": "execute_result",
          "data": {
            "text/plain": [
              "{'name': 'Friends',\n",
              " 'genre': 'sitcom',\n",
              " 'no_of_seasons': 10,\n",
              " 'no_of_episodes': 236}"
            ]
          },
          "metadata": {},
          "execution_count": 6
        }
      ]
    },
    {
      "cell_type": "code",
      "execution_count": null,
      "metadata": {
        "id": "MZ-ulFYZQaX6"
      },
      "outputs": [],
      "source": [
        "friends[14] = 'some value'"
      ]
    },
    {
      "cell_type": "code",
      "execution_count": null,
      "metadata": {
        "id": "4jiSxICPQaX6",
        "outputId": "af168b10-43bd-47a7-ae38-b4295a93074b"
      },
      "outputs": [
        {
          "data": {
            "text/plain": [
              "'some value'"
            ]
          },
          "execution_count": 9,
          "metadata": {},
          "output_type": "execute_result"
        }
      ],
      "source": [
        "friends[14]"
      ]
    },
    {
      "cell_type": "markdown",
      "metadata": {
        "id": "lI73g1ueQaX6"
      },
      "source": [
        "Apparently keys can also be integers."
      ]
    },
    {
      "cell_type": "markdown",
      "metadata": {
        "id": "4CEhY6DlQaX6"
      },
      "source": [
        "Ok, let's get rid of that key - it doesn't make much sense."
      ]
    },
    {
      "cell_type": "code",
      "execution_count": null,
      "metadata": {
        "id": "ocCD07w0QaX6"
      },
      "outputs": [],
      "source": [
        "del friends[14]"
      ]
    },
    {
      "cell_type": "markdown",
      "metadata": {
        "id": "Z1c0ATXAQaX6"
      },
      "source": [
        "We use the delete function, `del`, followed by the dictionary and the name of the key.  And now the key-value pair is gone."
      ]
    },
    {
      "cell_type": "code",
      "execution_count": null,
      "metadata": {
        "id": "hq8eRQlBQaX6",
        "outputId": "498f0f92-4661-42f5-f624-cf26fa650a4f"
      },
      "outputs": [
        {
          "data": {
            "text/plain": [
              "{'name': 'Friends',\n",
              " 'genre': 'sitcom',\n",
              " 'no_of_seasons': 10,\n",
              " 'no_of_episodes': 236}"
            ]
          },
          "execution_count": 11,
          "metadata": {},
          "output_type": "execute_result"
        }
      ],
      "source": [
        "friends"
      ]
    },
    {
      "cell_type": "markdown",
      "metadata": {
        "id": "NlwXlWUkQaX6"
      },
      "source": [
        "## More Dictionary Methods\n",
        "\n",
        "There's plenty more that you can do with dictionaries, although worrying too much about specifics can be overwhelming early on. As a good starting point, recall that you can look up dictionary methods using tab completion, or the help method. Furthermore, if you wish to know how a specific method works, you can pull up the docstring."
      ]
    },
    {
      "cell_type": "code",
      "source": [
        "dict?"
      ],
      "metadata": {
        "id": "rWA-gyW4wfM1"
      },
      "execution_count": null,
      "outputs": []
    },
    {
      "cell_type": "code",
      "execution_count": null,
      "metadata": {
        "id": "-V-Nn3M0QaX6",
        "outputId": "c9234827-e1e2-434f-e71b-994ad8c1ee08"
      },
      "outputs": [
        {
          "name": "stdout",
          "output_type": "stream",
          "text": [
            "Help on class dict in module builtins:\n",
            "\n",
            "class dict(object)\n",
            " |  dict() -> new empty dictionary\n",
            " |  dict(mapping) -> new dictionary initialized from a mapping object's\n",
            " |      (key, value) pairs\n",
            " |  dict(iterable) -> new dictionary initialized as if via:\n",
            " |      d = {}\n",
            " |      for k, v in iterable:\n",
            " |          d[k] = v\n",
            " |  dict(**kwargs) -> new dictionary initialized with the name=value pairs\n",
            " |      in the keyword argument list.  For example:  dict(one=1, two=2)\n",
            " |  \n",
            " |  Methods defined here:\n",
            " |  \n",
            " |  __contains__(self, key, /)\n",
            " |      True if the dictionary has the specified key, else False.\n",
            " |  \n",
            " |  __delitem__(self, key, /)\n",
            " |      Delete self[key].\n",
            " |  \n",
            " |  __eq__(self, value, /)\n",
            " |      Return self==value.\n",
            " |  \n",
            " |  __ge__(self, value, /)\n",
            " |      Return self>=value.\n",
            " |  \n",
            " |  __getattribute__(self, name, /)\n",
            " |      Return getattr(self, name).\n",
            " |  \n",
            " |  __getitem__(...)\n",
            " |      x.__getitem__(y) <==> x[y]\n",
            " |  \n",
            " |  __gt__(self, value, /)\n",
            " |      Return self>value.\n",
            " |  \n",
            " |  __init__(self, /, *args, **kwargs)\n",
            " |      Initialize self.  See help(type(self)) for accurate signature.\n",
            " |  \n",
            " |  __iter__(self, /)\n",
            " |      Implement iter(self).\n",
            " |  \n",
            " |  __le__(self, value, /)\n",
            " |      Return self<=value.\n",
            " |  \n",
            " |  __len__(self, /)\n",
            " |      Return len(self).\n",
            " |  \n",
            " |  __lt__(self, value, /)\n",
            " |      Return self<value.\n",
            " |  \n",
            " |  __ne__(self, value, /)\n",
            " |      Return self!=value.\n",
            " |  \n",
            " |  __repr__(self, /)\n",
            " |      Return repr(self).\n",
            " |  \n",
            " |  __setitem__(self, key, value, /)\n",
            " |      Set self[key] to value.\n",
            " |  \n",
            " |  __sizeof__(...)\n",
            " |      D.__sizeof__() -> size of D in memory, in bytes\n",
            " |  \n",
            " |  clear(...)\n",
            " |      D.clear() -> None.  Remove all items from D.\n",
            " |  \n",
            " |  copy(...)\n",
            " |      D.copy() -> a shallow copy of D\n",
            " |  \n",
            " |  get(self, key, default=None, /)\n",
            " |      Return the value for key if key is in the dictionary, else default.\n",
            " |  \n",
            " |  items(...)\n",
            " |      D.items() -> a set-like object providing a view on D's items\n",
            " |  \n",
            " |  keys(...)\n",
            " |      D.keys() -> a set-like object providing a view on D's keys\n",
            " |  \n",
            " |  pop(...)\n",
            " |      D.pop(k[,d]) -> v, remove specified key and return the corresponding value.\n",
            " |      If key is not found, d is returned if given, otherwise KeyError is raised\n",
            " |  \n",
            " |  popitem(...)\n",
            " |      D.popitem() -> (k, v), remove and return some (key, value) pair as a\n",
            " |      2-tuple; but raise KeyError if D is empty.\n",
            " |  \n",
            " |  setdefault(self, key, default=None, /)\n",
            " |      Insert key with a value of default if key is not in the dictionary.\n",
            " |      \n",
            " |      Return the value for key if key is in the dictionary, else default.\n",
            " |  \n",
            " |  update(...)\n",
            " |      D.update([E, ]**F) -> None.  Update D from dict/iterable E and F.\n",
            " |      If E is present and has a .keys() method, then does:  for k in E: D[k] = E[k]\n",
            " |      If E is present and lacks a .keys() method, then does:  for k, v in E: D[k] = v\n",
            " |      In either case, this is followed by: for k in F:  D[k] = F[k]\n",
            " |  \n",
            " |  values(...)\n",
            " |      D.values() -> an object providing a view on D's values\n",
            " |  \n",
            " |  ----------------------------------------------------------------------\n",
            " |  Class methods defined here:\n",
            " |  \n",
            " |  fromkeys(iterable, value=None, /) from builtins.type\n",
            " |      Create a new dictionary with keys from iterable and values set to value.\n",
            " |  \n",
            " |  ----------------------------------------------------------------------\n",
            " |  Static methods defined here:\n",
            " |  \n",
            " |  __new__(*args, **kwargs) from builtins.type\n",
            " |      Create and return a new object.  See help(type) for accurate signature.\n",
            " |  \n",
            " |  ----------------------------------------------------------------------\n",
            " |  Data and other attributes defined here:\n",
            " |  \n",
            " |  __hash__ = None\n",
            "\n"
          ]
        }
      ],
      "source": [
        "help(dict) #See all of the methods available to dictionary objects"
      ]
    },
    {
      "cell_type": "code",
      "execution_count": null,
      "metadata": {
        "id": "jn3flq0AQaX6",
        "outputId": "f70d37f8-d902-4c9f-9842-45e95f90de85",
        "colab": {
          "base_uri": "https://localhost:8080/"
        }
      },
      "outputs": [
        {
          "output_type": "execute_result",
          "data": {
            "text/plain": [
              "{'name': 'Friends',\n",
              " 'genre': 'sitcom',\n",
              " 'no_of_seasons': 10,\n",
              " 'no_of_episodes': 236}"
            ]
          },
          "metadata": {},
          "execution_count": 9
        }
      ],
      "source": [
        "# Add a dot (.) after 'friends' and press tab to see all of the available methods\n",
        "friends."
      ]
    },
    {
      "cell_type": "markdown",
      "metadata": {
        "id": "9zyzwRfDQaX6"
      },
      "source": [
        "You should see something like this:\n",
        "    \n",
        "<img src=\"https://curriculum-content.s3.amazonaws.com/data-science/images/friends_tab_preview.png\" width=550>"
      ]
    },
    {
      "cell_type": "code",
      "execution_count": null,
      "metadata": {
        "id": "Y4z_5AmqQaX7"
      },
      "outputs": [],
      "source": [
        "#Pulling up documentation for a specific method\n",
        "friends.get?"
      ]
    },
    {
      "cell_type": "markdown",
      "metadata": {
        "id": "5dg4FROgQaX7"
      },
      "source": [
        "### Dictionaries with lists"
      ]
    },
    {
      "cell_type": "markdown",
      "metadata": {
        "id": "RNd4aMa6QaX7"
      },
      "source": [
        "If you look back up at our Friends table, you will see that there are two creators.  It probably makes sense to think of these creators as a list."
      ]
    },
    {
      "cell_type": "code",
      "source": [
        "friends['creators']=['David Crane','Marta Kaff']\n",
        "friends"
      ],
      "metadata": {
        "id": "vIBmnj2MxadI",
        "outputId": "ad770e08-4273-444c-e05b-9433a870aa3f",
        "colab": {
          "base_uri": "https://localhost:8080/"
        }
      },
      "execution_count": null,
      "outputs": [
        {
          "output_type": "execute_result",
          "data": {
            "text/plain": [
              "{'name': 'Friends',\n",
              " 'genre': 'sitcom',\n",
              " 'no_of_seasons': 10,\n",
              " 'no_of_episodes': 236,\n",
              " 'creators': ['David Crane', 'Marta Kaff']}"
            ]
          },
          "metadata": {},
          "execution_count": 12
        }
      ]
    },
    {
      "cell_type": "code",
      "source": [
        "friends['creators'][1]"
      ],
      "metadata": {
        "id": "Hh4JmNtexbBC",
        "outputId": "ee494cca-91a7-45e4-aed8-c5be727dc7a2",
        "colab": {
          "base_uri": "https://localhost:8080/",
          "height": 35
        }
      },
      "execution_count": null,
      "outputs": [
        {
          "output_type": "execute_result",
          "data": {
            "text/plain": [
              "'Marta Kaff'"
            ],
            "application/vnd.google.colaboratory.intrinsic+json": {
              "type": "string"
            }
          },
          "metadata": {},
          "execution_count": 15
        }
      ]
    },
    {
      "cell_type": "code",
      "execution_count": null,
      "metadata": {
        "id": "pq7MFGAOQaX7"
      },
      "outputs": [],
      "source": [
        "creators = ['David Crane', 'Marta Kauffman']"
      ]
    },
    {
      "cell_type": "markdown",
      "metadata": {
        "id": "jFCc7mUcQaX7"
      },
      "source": [
        "So let's have our `friends` dictionary have a key of creators that points to this list."
      ]
    },
    {
      "cell_type": "code",
      "execution_count": null,
      "metadata": {
        "id": "DGgveG-tQaX7"
      },
      "outputs": [],
      "source": [
        "friends['creators'] = ['David Crane', 'Marta Kauffman']"
      ]
    },
    {
      "cell_type": "code",
      "execution_count": null,
      "metadata": {
        "id": "DRGc5V_0QaX7",
        "outputId": "b8aff6c4-60a8-4a8a-b2dc-9be38fe1a4ae"
      },
      "outputs": [
        {
          "data": {
            "text/plain": [
              "{'name': 'Friends',\n",
              " 'genre': 'sitcom',\n",
              " 'no_of_seasons': 10,\n",
              " 'no_of_episodes': 236,\n",
              " 'creators': ['David Crane', 'Marta Kauffman']}"
            ]
          },
          "execution_count": 17,
          "metadata": {},
          "output_type": "execute_result"
        }
      ],
      "source": [
        "friends"
      ]
    },
    {
      "cell_type": "code",
      "execution_count": null,
      "metadata": {
        "id": "EUMeHnOCQaX7",
        "outputId": "98a6aeaa-4a4d-4f62-cd39-15be30365807"
      },
      "outputs": [
        {
          "data": {
            "text/plain": [
              "['David Crane', 'Marta Kauffman']"
            ]
          },
          "execution_count": 18,
          "metadata": {},
          "output_type": "execute_result"
        }
      ],
      "source": [
        "friends['creators']"
      ]
    },
    {
      "cell_type": "markdown",
      "metadata": {
        "id": "WxiDd_3IQaX7"
      },
      "source": [
        "And of course, if we want to get the first creator in the list, and store it as a variable, we can."
      ]
    },
    {
      "cell_type": "code",
      "execution_count": null,
      "metadata": {
        "id": "BtlcBEMKQaX7"
      },
      "outputs": [],
      "source": [
        "david = friends['creators'][0]"
      ]
    },
    {
      "cell_type": "markdown",
      "metadata": {
        "id": "wnFZ7dYgQaX7"
      },
      "source": [
        "So in the above line, we referenced the dictionary, then got to the list of creators through using the key `'creators'`.  And now that we are pointing to that list, we use the brackets to reference the string at index zero."
      ]
    },
    {
      "cell_type": "markdown",
      "metadata": {
        "id": "bxSrR0p-QaX7"
      },
      "source": [
        "###  Lists of Dictionaries"
      ]
    },
    {
      "cell_type": "markdown",
      "metadata": {
        "id": "FGi4k8wRQaX7"
      },
      "source": [
        "Now imagine we want to represent another TV show."
      ]
    },
    {
      "cell_type": "markdown",
      "metadata": {
        "id": "O17Ar_XsQaX7"
      },
      "source": [
        "![](https://curriculum-content.s3.amazonaws.com/data-science/images/seinfeld.png)"
      ]
    },
    {
      "cell_type": "markdown",
      "metadata": {
        "id": "HJIYAZCmQaX8"
      },
      "source": [
        "As you can see, Wikipedia provides us data similar to what we have for Friends."
      ]
    },
    {
      "cell_type": "code",
      "execution_count": null,
      "metadata": {
        "id": "_HfVhoSRQaX8",
        "outputId": "32881b44-38dc-4554-d883-fec696c9420e"
      },
      "outputs": [
        {
          "data": {
            "text/plain": [
              "{'name': 'Friends',\n",
              " 'genre': 'sitcom',\n",
              " 'no_of_seasons': 10,\n",
              " 'no_of_episodes': 236,\n",
              " 'creators': ['David Crane', 'Marta Kauffman']}"
            ]
          },
          "execution_count": 20,
          "metadata": {},
          "output_type": "execute_result"
        }
      ],
      "source": [
        "friends"
      ]
    },
    {
      "cell_type": "markdown",
      "metadata": {
        "id": "zalOoHiFQaX8"
      },
      "source": [
        "  So let's represent our information for Seinfeld in a dictionary."
      ]
    },
    {
      "cell_type": "code",
      "execution_count": null,
      "metadata": {
        "id": "taCxdCokQaX8"
      },
      "outputs": [],
      "source": [
        "seinfeld = {'name': 'Seinfeld', 'creators': ['Larry David', 'Jerry Seinfeld'], 'genre': 'sitcom', 'no_of_seasons': 10, 'no_of_episodes': 180}"
      ]
    },
    {
      "cell_type": "code",
      "execution_count": null,
      "metadata": {
        "id": "taU7a9MBQaX8",
        "outputId": "8b272472-d0d6-4620-e93d-4740f198fb3a",
        "colab": {
          "base_uri": "https://localhost:8080/"
        }
      },
      "outputs": [
        {
          "output_type": "execute_result",
          "data": {
            "text/plain": [
              "{'name': 'Seinfeld',\n",
              " 'creators': ['Larry David', 'Jerry Seinfeld'],\n",
              " 'genre': 'sitcom',\n",
              " 'no_of_seasons': 10,\n",
              " 'no_of_episodes': 180}"
            ]
          },
          "metadata": {},
          "execution_count": 17
        }
      ],
      "source": [
        "seinfeld"
      ]
    },
    {
      "cell_type": "markdown",
      "metadata": {
        "id": "sqoTIDOJQaX8"
      },
      "source": [
        "Now that we have two TV shows, we can envision having a list of TV shows."
      ]
    },
    {
      "cell_type": "code",
      "source": [
        "tv_shows=[friends,seinfeld]\n",
        "tv_shows"
      ],
      "metadata": {
        "id": "eancGXANx9Np",
        "outputId": "f67e2f96-1dce-4a28-d379-8319022decc0",
        "colab": {
          "base_uri": "https://localhost:8080/"
        }
      },
      "execution_count": null,
      "outputs": [
        {
          "output_type": "execute_result",
          "data": {
            "text/plain": [
              "[{'name': 'Friends',\n",
              "  'genre': 'sitcom',\n",
              "  'no_of_seasons': 10,\n",
              "  'no_of_episodes': 236,\n",
              "  'creators': ['David Crane', 'Marta Kaff']},\n",
              " {'name': 'Seinfeld',\n",
              "  'creators': ['Larry David', 'Jerry Seinfeld'],\n",
              "  'genre': 'sitcom',\n",
              "  'no_of_seasons': 10,\n",
              "  'no_of_episodes': 180}]"
            ]
          },
          "metadata": {},
          "execution_count": 18
        }
      ]
    },
    {
      "cell_type": "code",
      "execution_count": null,
      "metadata": {
        "id": "J2k_-zjfQaX8",
        "outputId": "768c8e48-0950-41a3-da67-ace12061baf0"
      },
      "outputs": [
        {
          "data": {
            "text/plain": [
              "[{'name': 'Friends',\n",
              "  'genre': 'sitcom',\n",
              "  'no_of_seasons': 10,\n",
              "  'no_of_episodes': 236,\n",
              "  'creators': ['David Crane', 'Marta Kauffman']},\n",
              " {'name': 'Seinfeld',\n",
              "  'creators': ['Larry David', 'Jerry Seinfeld'],\n",
              "  'genre': 'sitcom',\n",
              "  'no_of_seasons': 10,\n",
              "  'no_of_episodes': 180}]"
            ]
          },
          "execution_count": 23,
          "metadata": {},
          "output_type": "execute_result"
        }
      ],
      "source": [
        "tv_shows = [friends, seinfeld]\n",
        "tv_shows"
      ]
    },
    {
      "cell_type": "code",
      "source": [
        "tv_shows[1]['creators'][1]"
      ],
      "metadata": {
        "id": "eCXWV-2zyOgo",
        "outputId": "1ae760a6-3757-41af-d675-4edac88a8865",
        "colab": {
          "base_uri": "https://localhost:8080/",
          "height": 35
        }
      },
      "execution_count": null,
      "outputs": [
        {
          "output_type": "execute_result",
          "data": {
            "text/plain": [
              "'Jerry Seinfeld'"
            ],
            "application/vnd.google.colaboratory.intrinsic+json": {
              "type": "string"
            }
          },
          "metadata": {},
          "execution_count": 25
        }
      ]
    },
    {
      "cell_type": "code",
      "source": [
        "tv_shows[0]['creators'][0]"
      ],
      "metadata": {
        "id": "QufWvvlByywI",
        "outputId": "a193ba87-c50a-46c7-ace2-d599949cb910",
        "colab": {
          "base_uri": "https://localhost:8080/",
          "height": 35
        }
      },
      "execution_count": null,
      "outputs": [
        {
          "output_type": "execute_result",
          "data": {
            "text/plain": [
              "'David Crane'"
            ],
            "application/vnd.google.colaboratory.intrinsic+json": {
              "type": "string"
            }
          },
          "metadata": {},
          "execution_count": 28
        }
      ]
    },
    {
      "cell_type": "markdown",
      "metadata": {
        "id": "M7bST06EQaX8"
      },
      "source": [
        "This is a nested data structure.  And it can be confusing to disentangle.  A good technique is to describe the data structure first before working with it.\n",
        "\n",
        "So `tv_shows` is a list, with each element of the list being a dictionary.  The dictionary has a key of `creators` which itself points to another list. In describing the data structure, we look to the braces and brackets at the beginning.  `[{` means we are starting a list with a dictionary as the first element.  \n",
        "\n",
        "Ok, now let's start working with this nested data structure.  First, let's select the second creator of Seinfeld and set it equal to the variable `jerry`.  We'll retrieve this data in steps.  First, we'll select the correct TV show."
      ]
    },
    {
      "cell_type": "code",
      "execution_count": null,
      "metadata": {
        "id": "SoZSFEFEQaX8",
        "outputId": "a89bf335-4475-4420-8fbf-54506498dd45"
      },
      "outputs": [
        {
          "data": {
            "text/plain": [
              "{'name': 'Seinfeld',\n",
              " 'creators': ['Larry David', 'Jerry Seinfeld'],\n",
              " 'genre': 'sitcom',\n",
              " 'no_of_seasons': 10,\n",
              " 'no_of_episodes': 180}"
            ]
          },
          "execution_count": 24,
          "metadata": {},
          "output_type": "execute_result"
        }
      ],
      "source": [
        "tv_shows[1]"
      ]
    },
    {
      "cell_type": "markdown",
      "metadata": {
        "id": "lU9-9HJRQaX9"
      },
      "source": [
        "Now we have the correct TV show.  Let's keep going."
      ]
    },
    {
      "cell_type": "code",
      "execution_count": null,
      "metadata": {
        "id": "88alV7DVQaX9",
        "outputId": "a631425f-2fdd-4d57-9f04-1cdde2223418"
      },
      "outputs": [
        {
          "data": {
            "text/plain": [
              "['Larry David', 'Jerry Seinfeld']"
            ]
          },
          "execution_count": 25,
          "metadata": {},
          "output_type": "execute_result"
        }
      ],
      "source": [
        "tv_shows[1]['creators']"
      ]
    },
    {
      "cell_type": "markdown",
      "metadata": {
        "id": "DwQYoSzPQaX9"
      },
      "source": [
        "Ok, almost there, we have our list of creators."
      ]
    },
    {
      "cell_type": "code",
      "execution_count": null,
      "metadata": {
        "id": "_QaDa-XxQaX9",
        "outputId": "7ea9f510-675e-4aec-9c97-78d5a58e7772"
      },
      "outputs": [
        {
          "data": {
            "text/plain": [
              "'Jerry Seinfeld'"
            ]
          },
          "execution_count": 26,
          "metadata": {},
          "output_type": "execute_result"
        }
      ],
      "source": [
        "tv_shows[1]['creators'][1]"
      ]
    },
    {
      "cell_type": "markdown",
      "metadata": {
        "id": "c11Ph7SvQaX9"
      },
      "source": [
        "So as you see above, we are now selecting the correct creator from the list."
      ]
    },
    {
      "cell_type": "code",
      "execution_count": null,
      "metadata": {
        "id": "sk5SEQAaQaX9",
        "outputId": "26678de4-733a-4f97-ac61-ef99341b7ca5"
      },
      "outputs": [
        {
          "data": {
            "text/plain": [
              "'Jerry Seinfeld'"
            ]
          },
          "execution_count": 27,
          "metadata": {},
          "output_type": "execute_result"
        }
      ],
      "source": [
        "jerry = tv_shows[1]['creators'][1]\n",
        "jerry"
      ]
    },
    {
      "cell_type": "code",
      "source": [
        "thisdict = {\n",
        "  \"brand\": \"Ford\",\n",
        "  \"model\": \"Mustang\",\n",
        "  \"year\": 1964,\n",
        "  \"year\": 2020\n",
        "}\n",
        "print(thisdict)"
      ],
      "metadata": {
        "colab": {
          "base_uri": "https://localhost:8080/"
        },
        "id": "TcZmKGb31Q2L",
        "outputId": "9355811a-1a16-4d8d-8e25-4d10456433b7"
      },
      "execution_count": null,
      "outputs": [
        {
          "output_type": "stream",
          "name": "stdout",
          "text": [
            "{'brand': 'Ford', 'model': 'Mustang', 'year': 2020}\n"
          ]
        }
      ]
    },
    {
      "cell_type": "code",
      "source": [
        "len(thisdict)"
      ],
      "metadata": {
        "colab": {
          "base_uri": "https://localhost:8080/"
        },
        "id": "d88MvNQW1X-h",
        "outputId": "25119cac-fb3f-4a0a-b2a3-37dc725ea97f"
      },
      "execution_count": null,
      "outputs": [
        {
          "output_type": "execute_result",
          "data": {
            "text/plain": [
              "3"
            ]
          },
          "metadata": {},
          "execution_count": 2
        }
      ]
    },
    {
      "cell_type": "code",
      "source": [
        "type(thisdict)"
      ],
      "metadata": {
        "colab": {
          "base_uri": "https://localhost:8080/"
        },
        "id": "XeIAetUO1jMC",
        "outputId": "e6831184-af52-431a-a763-92644f800247"
      },
      "execution_count": null,
      "outputs": [
        {
          "output_type": "execute_result",
          "data": {
            "text/plain": [
              "dict"
            ]
          },
          "metadata": {},
          "execution_count": 3
        }
      ]
    },
    {
      "cell_type": "code",
      "source": [
        "#create dictionary using the dict() constructor\n",
        "thisdict=dict(name='John',age=36,country='Norway')\n",
        "thisdict"
      ],
      "metadata": {
        "colab": {
          "base_uri": "https://localhost:8080/"
        },
        "id": "Bz2xdrER1tPg",
        "outputId": "63e55e17-a2ce-468d-99b0-008d660dd9ef"
      },
      "execution_count": null,
      "outputs": [
        {
          "output_type": "execute_result",
          "data": {
            "text/plain": [
              "{'name': 'John', 'age': 36, 'country': 'Norway'}"
            ]
          },
          "metadata": {},
          "execution_count": 4
        }
      ]
    },
    {
      "cell_type": "code",
      "source": [
        "#Accessing items\n",
        "thisdict = {\n",
        "  \"brand\": \"Ford\",\n",
        "  \"model\": \"Mustang\",\n",
        "  \"year\": 1964\n",
        "}"
      ],
      "metadata": {
        "id": "36doSSGt1_z9"
      },
      "execution_count": null,
      "outputs": []
    },
    {
      "cell_type": "code",
      "source": [
        "print(thisdict['model'])\n",
        "#also use get method\n",
        "thisdict.get('model')"
      ],
      "metadata": {
        "colab": {
          "base_uri": "https://localhost:8080/",
          "height": 53
        },
        "id": "uO1flauU2Ei5",
        "outputId": "e3681289-cee7-4134-d259-fe77ae1e6920"
      },
      "execution_count": null,
      "outputs": [
        {
          "output_type": "stream",
          "name": "stdout",
          "text": [
            "Mustang\n"
          ]
        },
        {
          "output_type": "execute_result",
          "data": {
            "text/plain": [
              "'Mustang'"
            ],
            "application/vnd.google.colaboratory.intrinsic+json": {
              "type": "string"
            }
          },
          "metadata": {},
          "execution_count": 7
        }
      ]
    },
    {
      "cell_type": "code",
      "source": [
        "#Get keys returns all the keys in the dictionary\n",
        "thisdict.keys()"
      ],
      "metadata": {
        "colab": {
          "base_uri": "https://localhost:8080/"
        },
        "id": "eZ4wfHHL2UIZ",
        "outputId": "f8cec18b-c951-4cfe-c8b2-6a7b37daa395"
      },
      "execution_count": null,
      "outputs": [
        {
          "output_type": "execute_result",
          "data": {
            "text/plain": [
              "dict_keys(['brand', 'model', 'year'])"
            ]
          },
          "metadata": {},
          "execution_count": 8
        }
      ]
    },
    {
      "cell_type": "code",
      "source": [
        "car = {\n",
        "\"brand\": \"Ford\",\n",
        "\"model\": \"Mustang\",\n",
        "\"year\": 1964\n",
        "}\n",
        "x=car.keys()\n",
        "print(x)\n",
        "car['color']='white'\n",
        "print(x)"
      ],
      "metadata": {
        "colab": {
          "base_uri": "https://localhost:8080/"
        },
        "id": "5RVsZ_GM2iGA",
        "outputId": "b7606f24-9cae-4041-c3d3-7291f60b4381"
      },
      "execution_count": null,
      "outputs": [
        {
          "output_type": "stream",
          "name": "stdout",
          "text": [
            "dict_keys(['brand', 'model', 'year'])\n",
            "dict_keys(['brand', 'model', 'year', 'color'])\n"
          ]
        }
      ]
    },
    {
      "cell_type": "code",
      "source": [
        "#values returns all the values in the dictionaty\n",
        "car.values()"
      ],
      "metadata": {
        "colab": {
          "base_uri": "https://localhost:8080/"
        },
        "id": "tWemHAX12vVI",
        "outputId": "fa3aef6d-bd51-4c24-94f2-fefa9e639af0"
      },
      "execution_count": null,
      "outputs": [
        {
          "output_type": "execute_result",
          "data": {
            "text/plain": [
              "dict_values(['Ford', 'Mustang', 1964, 'white'])"
            ]
          },
          "metadata": {},
          "execution_count": 11
        }
      ]
    },
    {
      "cell_type": "code",
      "source": [
        "car = {\n",
        "\"brand\": \"Ford\",\n",
        "\"model\": \"Mustang\",\n",
        "\"year\": 1964\n",
        "}\n",
        "\n",
        "x = car.values()\n",
        "\n",
        "print(x) #before the change\n",
        "\n",
        "car[\"year\"] = 2020\n",
        "\n",
        "print(x) #after the change"
      ],
      "metadata": {
        "colab": {
          "base_uri": "https://localhost:8080/"
        },
        "id": "yy_RNIj127y-",
        "outputId": "d9080a8b-a444-4742-c3c3-1b4d50416b87"
      },
      "execution_count": null,
      "outputs": [
        {
          "output_type": "stream",
          "name": "stdout",
          "text": [
            "dict_values(['Ford', 'Mustang', 1964])\n",
            "dict_values(['Ford', 'Mustang', 2020])\n"
          ]
        }
      ]
    },
    {
      "cell_type": "code",
      "source": [
        "#Get Items() method will return each item in a dictionary as tuples in a list=\n",
        "car.items()"
      ],
      "metadata": {
        "colab": {
          "base_uri": "https://localhost:8080/"
        },
        "id": "sAWKhKdQ3CYm",
        "outputId": "919a6104-3f2a-493a-961c-b31f559155da"
      },
      "execution_count": null,
      "outputs": [
        {
          "output_type": "execute_result",
          "data": {
            "text/plain": [
              "dict_items([('brand', 'Ford'), ('model', 'Mustang'), ('year', 2020)])"
            ]
          },
          "metadata": {},
          "execution_count": 13
        }
      ]
    },
    {
      "cell_type": "code",
      "source": [
        "car.keys()"
      ],
      "metadata": {
        "colab": {
          "base_uri": "https://localhost:8080/"
        },
        "id": "teg8nPyr3paw",
        "outputId": "72f347cf-62f9-4849-963d-e20888261f7c"
      },
      "execution_count": null,
      "outputs": [
        {
          "output_type": "execute_result",
          "data": {
            "text/plain": [
              "dict_keys(['brand', 'model', 'year'])"
            ]
          },
          "metadata": {},
          "execution_count": 15
        }
      ]
    },
    {
      "cell_type": "code",
      "source": [
        "#check if key exists\n",
        "if 'brand' in car:\n",
        "  print('yes')"
      ],
      "metadata": {
        "colab": {
          "base_uri": "https://localhost:8080/"
        },
        "id": "4QEvaqS63go6",
        "outputId": "a478325c-1a2d-4986-b982-a090bab40708"
      },
      "execution_count": null,
      "outputs": [
        {
          "output_type": "stream",
          "name": "stdout",
          "text": [
            "yes\n"
          ]
        }
      ]
    },
    {
      "cell_type": "code",
      "source": [
        "#change dictionaty items and add\n",
        "thisdict = {\n",
        "  \"brand\": \"Ford\",\n",
        "  \"model\": \"Mustang\",\n",
        "  \"year\": 1964\n",
        "}\n",
        "thisdict[\"year\"] = 2018\n",
        "thisdict"
      ],
      "metadata": {
        "colab": {
          "base_uri": "https://localhost:8080/"
        },
        "id": "B5BpHf-4338D",
        "outputId": "163d1be2-5938-4116-8e3e-40680a1d42ae"
      },
      "execution_count": null,
      "outputs": [
        {
          "output_type": "execute_result",
          "data": {
            "text/plain": [
              "{'brand': 'Ford', 'model': 'Mustang', 'year': 2018}"
            ]
          },
          "metadata": {},
          "execution_count": 19
        }
      ]
    },
    {
      "cell_type": "code",
      "source": [
        "#The update() method will update the dictionary with the items from the given argument.\n",
        "#The argument must be a dictionary, or an iterable object with key:value pairs.\n",
        "thisdict = {\n",
        "  \"brand\": \"Ford\",\n",
        "  \"model\": \"Mustang\",\n",
        "  \"year\": 1964\n",
        "}\n",
        "thisdict.update({'year':2020})\n",
        "thisdict"
      ],
      "metadata": {
        "colab": {
          "base_uri": "https://localhost:8080/"
        },
        "id": "MUtXxd9D4Dcg",
        "outputId": "d112c21e-a44b-43e1-cdb6-8dd782d6d662"
      },
      "execution_count": null,
      "outputs": [
        {
          "output_type": "execute_result",
          "data": {
            "text/plain": [
              "{'brand': 'Ford', 'model': 'Mustang', 'year': 2020}"
            ]
          },
          "metadata": {},
          "execution_count": 21
        }
      ]
    },
    {
      "cell_type": "code",
      "source": [
        "#Remove items\n",
        "thisdict = {\n",
        "  \"brand\": \"Ford\",\n",
        "  \"model\": \"Mustang\",\n",
        "  \"year\": 1964\n",
        "}\n",
        "thisdict.pop('model')\n",
        "thisdict"
      ],
      "metadata": {
        "colab": {
          "base_uri": "https://localhost:8080/"
        },
        "id": "juWSfGQm4anS",
        "outputId": "a69c4784-0c4f-408a-ac8c-794fdd69b70b"
      },
      "execution_count": null,
      "outputs": [
        {
          "output_type": "execute_result",
          "data": {
            "text/plain": [
              "{'brand': 'Ford', 'year': 1964}"
            ]
          },
          "metadata": {},
          "execution_count": 24
        }
      ]
    },
    {
      "cell_type": "code",
      "source": [
        "#The popitem() method removes the last inserted item\n",
        "thisdict = {\n",
        "  \"brand\": \"Ford\",\n",
        "  \"model\": \"Mustang\",\n",
        "  \"year\": 1964\n",
        "}\n",
        "thisdict.popitem()\n",
        "thisdict"
      ],
      "metadata": {
        "colab": {
          "base_uri": "https://localhost:8080/"
        },
        "id": "GR45jIc94uQg",
        "outputId": "e1cd959a-e62d-4ae5-86c0-a6f7c914bcfd"
      },
      "execution_count": null,
      "outputs": [
        {
          "output_type": "execute_result",
          "data": {
            "text/plain": [
              "{'brand': 'Ford', 'model': 'Mustang'}"
            ]
          },
          "metadata": {},
          "execution_count": 25
        }
      ]
    },
    {
      "cell_type": "code",
      "source": [
        "#The del keyword removes the item with the specified key name:\n",
        "thisdict = {\n",
        "  \"brand\": \"Ford\",\n",
        "  \"model\": \"Mustang\",\n",
        "  \"year\": 1964\n",
        "}\n",
        "del thisdict['model']\n",
        "thisdict"
      ],
      "metadata": {
        "colab": {
          "base_uri": "https://localhost:8080/"
        },
        "id": "XR3BUVKU45CP",
        "outputId": "61df37fa-8f93-4104-e6aa-4102571c0246"
      },
      "execution_count": null,
      "outputs": [
        {
          "output_type": "execute_result",
          "data": {
            "text/plain": [
              "{'brand': 'Ford', 'year': 1964}"
            ]
          },
          "metadata": {},
          "execution_count": 26
        }
      ]
    },
    {
      "cell_type": "code",
      "source": [
        "#The del keyword can also delete the dictionary completely:\n",
        "del thisdict\n",
        "print(thisdict) #this will cause an error because \"thisdict\" no longer exists."
      ],
      "metadata": {
        "id": "ShrbdW7g5DIm"
      },
      "execution_count": null,
      "outputs": []
    },
    {
      "cell_type": "code",
      "source": [
        "#The clear() method empties the dictionary:"
      ],
      "metadata": {
        "id": "gDdfNDf05Ge_"
      },
      "execution_count": null,
      "outputs": []
    },
    {
      "cell_type": "code",
      "source": [
        "for x in thisdict:\n",
        "  print(x)"
      ],
      "metadata": {
        "colab": {
          "base_uri": "https://localhost:8080/"
        },
        "id": "hCSUTmvG5QEj",
        "outputId": "73080761-50bd-4098-9c36-6df2c99d6b7f"
      },
      "execution_count": null,
      "outputs": [
        {
          "output_type": "stream",
          "name": "stdout",
          "text": [
            "brand\n",
            "year\n"
          ]
        }
      ]
    },
    {
      "cell_type": "code",
      "source": [
        "for x in thisdict:\n",
        "  print(thisdict[x])"
      ],
      "metadata": {
        "colab": {
          "base_uri": "https://localhost:8080/"
        },
        "id": "NfLpIoMe5VYn",
        "outputId": "2fb79fa1-f4a9-4da3-a52f-05874a417c09"
      },
      "execution_count": null,
      "outputs": [
        {
          "output_type": "stream",
          "name": "stdout",
          "text": [
            "Ford\n",
            "1964\n"
          ]
        }
      ]
    },
    {
      "cell_type": "code",
      "source": [
        "#You can also use the values() method to return values of a dictionary:\n",
        "\n",
        "for x in thisdict.values():\n",
        "  print(x)"
      ],
      "metadata": {
        "colab": {
          "base_uri": "https://localhost:8080/"
        },
        "id": "9WBT6_Vk5ciQ",
        "outputId": "a43018cb-31a4-4c29-9d76-60c86e825fc2"
      },
      "execution_count": null,
      "outputs": [
        {
          "output_type": "stream",
          "name": "stdout",
          "text": [
            "Ford\n",
            "1964\n"
          ]
        }
      ]
    },
    {
      "cell_type": "code",
      "source": [
        "#You can use the keys() method to return the keys of a dictionary:\n",
        "for x in thisdict.keys():\n",
        "  print(x)"
      ],
      "metadata": {
        "colab": {
          "base_uri": "https://localhost:8080/"
        },
        "id": "5XnrGOf55dL2",
        "outputId": "9827de3c-f487-429f-a1e3-8a20d9cab843"
      },
      "execution_count": null,
      "outputs": [
        {
          "output_type": "stream",
          "name": "stdout",
          "text": [
            "brand\n",
            "year\n"
          ]
        }
      ]
    },
    {
      "cell_type": "code",
      "source": [
        "#Loop through both keys and values, by using the items() method:\n",
        "for x,y in thisdict.items():\n",
        "  print(x,y)"
      ],
      "metadata": {
        "colab": {
          "base_uri": "https://localhost:8080/"
        },
        "id": "VzxlcRqD5dW3",
        "outputId": "2b83de96-2f94-4f65-dd98-5957979575da"
      },
      "execution_count": null,
      "outputs": [
        {
          "output_type": "stream",
          "name": "stdout",
          "text": [
            "brand Ford\n",
            "year 1964\n"
          ]
        }
      ]
    },
    {
      "cell_type": "code",
      "source": [
        "thisdict = {\n",
        "  \"brand\": \"Ford\",\n",
        "  \"model\": \"Mustang\",\n",
        "  \"year\": 1964\n",
        "}\n",
        "mydict = thisdict.copy()\n",
        "print(mydict)"
      ],
      "metadata": {
        "colab": {
          "base_uri": "https://localhost:8080/"
        },
        "id": "t66d0QBC5vhQ",
        "outputId": "72927f8d-ed7c-4f24-e396-4019cc2d6c2e"
      },
      "execution_count": null,
      "outputs": [
        {
          "output_type": "stream",
          "name": "stdout",
          "text": [
            "{'brand': 'Ford', 'model': 'Mustang', 'year': 1964}\n"
          ]
        }
      ]
    },
    {
      "cell_type": "code",
      "source": [
        "thisdict = {\n",
        "  \"brand\": \"Ford\",\n",
        "  \"model\": \"Mustang\",\n",
        "  \"year\": 1964\n",
        "}\n",
        "mydict = dict(thisdict)\n",
        "print(mydict)"
      ],
      "metadata": {
        "colab": {
          "base_uri": "https://localhost:8080/"
        },
        "id": "TWfaQwk25vuR",
        "outputId": "f9fd2794-bff8-4555-acac-7a6e13d37a30"
      },
      "execution_count": null,
      "outputs": [
        {
          "output_type": "stream",
          "name": "stdout",
          "text": [
            "{'brand': 'Ford', 'model': 'Mustang', 'year': 1964}\n"
          ]
        }
      ]
    },
    {
      "cell_type": "markdown",
      "source": [
        "Nested Dictionaries\n",
        "A dictionary can contain dictionaries, this is called nested dictionarie"
      ],
      "metadata": {
        "id": "bCHdvYEK6BCF"
      }
    },
    {
      "cell_type": "code",
      "source": [
        "myfamily = {\n",
        "  \"child1\" : {\n",
        "    \"name\" : \"Emil\",\n",
        "    \"year\" : 2004\n",
        "  },\n",
        "  \"child2\" : {\n",
        "    \"name\" : \"Tobias\",\n",
        "    \"year\" : 2007\n",
        "  },\n",
        "  \"child3\" : {\n",
        "    \"name\" : \"Linus\",\n",
        "    \"year\" : 2011\n",
        "  }\n",
        "}"
      ],
      "metadata": {
        "id": "zcFMhMA457zA"
      },
      "execution_count": null,
      "outputs": []
    },
    {
      "cell_type": "code",
      "source": [
        "#or\n",
        "child1 = {\n",
        "  \"name\" : \"Emil\",\n",
        "  \"year\" : 2004\n",
        "}\n",
        "child2 = {\n",
        "  \"name\" : \"Tobias\",\n",
        "  \"year\" : 2007\n",
        "}\n",
        "child3 = {\n",
        "  \"name\" : \"Linus\",\n",
        "  \"year\" : 2011\n",
        "}\n",
        "\n",
        "myfamily = {\n",
        "  \"child1\" : child1,\n",
        "  \"child2\" : child2,\n",
        "  \"child3\" : child3\n",
        "}"
      ],
      "metadata": {
        "id": "KeOj00Fd579L"
      },
      "execution_count": null,
      "outputs": []
    },
    {
      "cell_type": "code",
      "source": [
        "myfamily['child2']['name']"
      ],
      "metadata": {
        "colab": {
          "base_uri": "https://localhost:8080/",
          "height": 35
        },
        "id": "OC32rqgH58LV",
        "outputId": "31af9506-df74-4bdd-c07d-6459fe3d2dc2"
      },
      "execution_count": null,
      "outputs": [
        {
          "output_type": "execute_result",
          "data": {
            "text/plain": [
              "'Tobias'"
            ],
            "application/vnd.google.colaboratory.intrinsic+json": {
              "type": "string"
            }
          },
          "metadata": {},
          "execution_count": 40
        }
      ]
    },
    {
      "cell_type": "code",
      "source": [
        "#loop through the keys and values of all nested dictionaries\n",
        "for x, obj in myfamily.items():\n",
        "  print(x)\n",
        "\n",
        "  for y in obj:\n",
        "    print(y + ':', obj[y])"
      ],
      "metadata": {
        "colab": {
          "base_uri": "https://localhost:8080/"
        },
        "id": "KlkJQ7AJ58Yb",
        "outputId": "59c0db38-7e74-4ba1-db6d-094ba0f31ca2"
      },
      "execution_count": null,
      "outputs": [
        {
          "output_type": "stream",
          "name": "stdout",
          "text": [
            "child1\n",
            "name: Emil\n",
            "year: 2004\n",
            "child2\n",
            "name: Tobias\n",
            "year: 2007\n",
            "child3\n",
            "name: Linus\n",
            "year: 2011\n"
          ]
        }
      ]
    },
    {
      "cell_type": "markdown",
      "source": [
        "all() checks if all values in the dictionary evaluate to True.\n",
        "any() checks if any value in the dictionary evaluates to True.\n",
        "cmp() (no longer available in Python 3) used to compare two dictionaries.\n",
        "sorted() returns a new sorted list of keys in the dictionary."
      ],
      "metadata": {
        "id": "fSdbNrxy7uJw"
      }
    },
    {
      "cell_type": "code",
      "source": [
        "my_dict = {'A': 10, 'B': 20, 'C': 0}\n",
        "print(all(my_dict.values()))   # False (0 evaluates to False)\n",
        "print(any(my_dict.values()))   # True (at least one value is True)\n",
        "print(sorted(my_dict))         # ['A', 'B', 'C'] (sorted keys)"
      ],
      "metadata": {
        "colab": {
          "base_uri": "https://localhost:8080/"
        },
        "id": "DwJKDDmL7x0t",
        "outputId": "9d54fe0c-7300-43f2-c022-90333ffcd92b"
      },
      "execution_count": null,
      "outputs": [
        {
          "output_type": "stream",
          "name": "stdout",
          "text": [
            "False\n",
            "True\n",
            "['A', 'B', 'C']\n"
          ]
        }
      ]
    },
    {
      "cell_type": "code",
      "source": [
        "#Dictionary Membership Test\n",
        "file_types = {\n",
        "    \".txt\": \"Text File\",\n",
        "    \".pdf\": \"PDF Document\",\n",
        "    \".jpg\": \"JPEG Image\",\n",
        "}\n",
        "\n",
        "# use of in and not in operators\n",
        "print(\".pdf\" in file_types)       # Output: True\n",
        "print(\".mp3\" in file_types)       # Output: False\n",
        "print(\".mp3\" not in file_types)   # Output: True"
      ],
      "metadata": {
        "colab": {
          "base_uri": "https://localhost:8080/"
        },
        "id": "ygGZauRX8F2B",
        "outputId": "381fe1b0-78f3-44bf-a7b2-513c8e3cb3b4"
      },
      "execution_count": null,
      "outputs": [
        {
          "output_type": "stream",
          "name": "stdout",
          "text": [
            "True\n",
            "False\n",
            "True\n"
          ]
        }
      ]
    },
    {
      "cell_type": "code",
      "source": [
        "def merge_dictionaries(dict1, dict2):\n",
        "    return (dict1.update(dict2))\n",
        "\n",
        "# Driver code\n",
        "dict1 = {'a': 10, 'b': 8}\n",
        "dict2 = {'d': 6, 'c': 4}\n",
        "\n",
        "print(merge_dictionaries(dict1,dict2))\n",
        "print(dict1)"
      ],
      "metadata": {
        "colab": {
          "base_uri": "https://localhost:8080/"
        },
        "id": "0E1xkpdC8Ys-",
        "outputId": "4bd01a3f-35dc-4885-80ea-30ad32b54dc5"
      },
      "execution_count": null,
      "outputs": [
        {
          "output_type": "stream",
          "name": "stdout",
          "text": [
            "None\n",
            "{'a': 10, 'b': 8, 'd': 6, 'c': 4}\n"
          ]
        }
      ]
    },
    {
      "cell_type": "markdown",
      "metadata": {
        "id": "KF0wJAIWQaX9"
      },
      "source": [
        "Ok, so our approach here was to break this problem down into steps.  We first selected the correct TV show.  Then, we moved onto the `creators` attribute.  Finally, we retrieved the correct element from the list of creators.  \n",
        "\n",
        "> As programmers, we develop skills for finding new and innovative ways to make our problems easier to solve. Breaking down the problem in steps, and checking our work at each of these steps is a technique we should continue to lean on.  It's the mark of a skilled developer.\n",
        "\n",
        "## Summary\n",
        "\n",
        "In this section, we saw a new type of collection, the dictionary.  A dictionary is a collection of key-value pairs.  We mark the start and end of a dictionary with curly braces, `{}`, and then follow the pattern of `'key':'value'` for each of the associated attributes, with each attribute separated by a comma: `dictionary = {'key_1':'value_1', 'key_2':'value_2'}`.  \n",
        "\n",
        "We retrieve a specific value from a dictionary by using the bracket accessor in combination with the key, so `dictionary['key_2]'` returns `'value_2'`. We can also add a new attribute with the format `dictionary['key_3'] = 'value_3'`.\n",
        "\n",
        "Finally, we saw that we can represent data as nested data structures.  In working with nested data structures, a good technique is to pay attention to the edges of the data structure as in `[{`, and then articulate how that data structure is nested.  Finally, when accessing data from a nested data structure, it is useful to break down the problem into steps to get feedback along the way."
      ]
    },
    {
      "cell_type": "code",
      "source": [],
      "metadata": {
        "id": "M-ndxDsb2DXr"
      },
      "execution_count": null,
      "outputs": []
    }
  ],
  "metadata": {
    "kernelspec": {
      "display_name": "Python (learn-env)",
      "language": "python",
      "name": "learn-env"
    },
    "language_info": {
      "codemirror_mode": {
        "name": "ipython",
        "version": 3
      },
      "file_extension": ".py",
      "mimetype": "text/x-python",
      "name": "python",
      "nbconvert_exporter": "python",
      "pygments_lexer": "ipython3",
      "version": "3.8.5"
    },
    "colab": {
      "provenance": [],
      "include_colab_link": true
    }
  },
  "nbformat": 4,
  "nbformat_minor": 0
}