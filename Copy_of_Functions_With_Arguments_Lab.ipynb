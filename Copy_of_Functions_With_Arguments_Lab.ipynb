{
  "cells": [
    {
      "cell_type": "markdown",
      "metadata": {
        "id": "view-in-github",
        "colab_type": "text"
      },
      "source": [
        "<a href=\"https://colab.research.google.com/github/GraceMwende/Data_science_notebooks/blob/main/Copy_of_Functions_With_Arguments_Lab.ipynb\" target=\"_parent\"><img src=\"https://colab.research.google.com/assets/colab-badge.svg\" alt=\"Open In Colab\"/></a>"
      ]
    },
    {
      "cell_type": "markdown",
      "metadata": {
        "id": "6xC-A6z1Z3_1"
      },
      "source": [
        "# Functions With Arguments - Lab\n",
        "\n",
        "## Introduction\n",
        "In this lesson, we have decided to visit one of our travel destinations! This time we have chosen to visit Albuquerque, but we aren't very familiar with this city and are quite hungry after our long flight. We will be working with information we pulled from the Yelp database to help us find a restaurant where we can satisfy our hunger. While Yelp is great for learning about what to do in Albuquerque, it gives us back a lot of information. We'll use what we know about functions and dictionaries to format and read our data more easily.\n",
        "\n",
        "## Objectives\n",
        "\n",
        "You will be able to:\n",
        "\n",
        "* Declare and use a function with arguments\n",
        "\n",
        "## Exploring Two Restaurants in Albuquerque\n",
        "\n",
        "Let's take a quick look at the information Yelp provides for a single restaurant:"
      ]
    },
    {
      "cell_type": "code",
      "execution_count": 1,
      "metadata": {
        "id": "zJyc-b5aZ3_2"
      },
      "outputs": [],
      "source": [
        "# Run this cell without changes\n",
        "fork_fig = {'categories': [{'alias': 'burgers', 'title': 'Burgers'},\n",
        "  {'alias': 'sandwiches', 'title': 'Sandwiches'},\n",
        "  {'alias': 'salad', 'title': 'Salad'}],\n",
        " 'coordinates': {'latitude': 35.10871, 'longitude': -106.56739},\n",
        " 'display_phone': '(505) 881-5293',\n",
        " 'distance': 3571.724649307866,\n",
        " 'id': 'fork-and-fig-albuquerque',\n",
        " 'image_url': 'https://s3-media1.fl.yelpcdn.com/bphoto/_-DpXKfS3jv6DyA47g6Fxg/o.jpg',\n",
        " 'is_closed': False,\n",
        " 'location': {'address1': '6904 Menaul Blvd NE',\n",
        "  'address2': 'Ste C',\n",
        "  'address3': '',\n",
        "  'city': 'Albuquerque',\n",
        "  'country': 'US',\n",
        "  'display_address': ['6904 Menaul Blvd NE', 'Ste C', 'Albuquerque, NM 87110'],\n",
        "  'state': 'NM',\n",
        "  'zip_code': '87110'},\n",
        " 'name': 'Fork & Fig',\n",
        " 'phone': '+15058815293',\n",
        " 'price': '$$',\n",
        " 'rating': 4.5,\n",
        " 'review_count': 604,\n",
        " 'transactions': [],\n",
        " 'url': 'https://www.yelp.com/biz/fork-and-fig-albuquerque?adjust_creative=SYc8R4Gowqru5h4SBKZXsQ&utm_campaign=yelp_api_v3&utm_medium=api_v3_business_search&utm_source=SYc8R4Gowqru5h4SBKZXsQ'}"
      ]
    },
    {
      "cell_type": "code",
      "source": [
        "print(len(fork_fig))\n",
        "print(type(fork_fig))\n",
        "print(fork_fig['categories'])\n",
        "print('length of categories',len(fork_fig['categories']))\n",
        "print(type(fork_fig['categories']))\n",
        "print(type(fork_fig['coordinates']))"
      ],
      "metadata": {
        "colab": {
          "base_uri": "https://localhost:8080/"
        },
        "id": "s7XasLsNN71o",
        "outputId": "6fa96d23-90c0-4428-cc5a-767a14acb124"
      },
      "execution_count": 2,
      "outputs": [
        {
          "output_type": "stream",
          "name": "stdout",
          "text": [
            "15\n",
            "<class 'dict'>\n",
            "[{'alias': 'burgers', 'title': 'Burgers'}, {'alias': 'sandwiches', 'title': 'Sandwiches'}, {'alias': 'salad', 'title': 'Salad'}]\n",
            "length of categories 3\n",
            "<class 'list'>\n",
            "<class 'dict'>\n"
          ]
        }
      ]
    },
    {
      "cell_type": "markdown",
      "metadata": {
        "id": "05rte96jZ3_3"
      },
      "source": [
        "Above is the information provided about `Fork & Fig`, but all restaurants are provided with this information.  For example, here is the information provided by Yelp for another restaurant, `Frontier Restaurant`."
      ]
    },
    {
      "cell_type": "code",
      "execution_count": 3,
      "metadata": {
        "id": "40VoK0QoZ3_3"
      },
      "outputs": [],
      "source": [
        "# Run this cell without changes\n",
        "frontier_restaurant = {'categories': [{'alias': 'mexican', 'title': 'Mexican'},\n",
        "  {'alias': 'diners', 'title': 'Diners'},\n",
        "  {'alias': 'tradamerican', 'title': 'American (Traditional)'}],\n",
        " 'coordinates': {'latitude': 35.0808088832532, 'longitude': -106.619402244687},\n",
        " 'display_phone': '(505) 266-0550',\n",
        " 'distance': 4033.6583235266075,\n",
        " 'id': 'frontier-restaurant-albuquerque-2',\n",
        " 'image_url': 'https://s3-media4.fl.yelpcdn.com/bphoto/M9L2z6-G0NobuDJ6YTh6VA/o.jpg',\n",
        " 'is_closed': False,\n",
        " 'location': {'address1': '2400 Central Ave SE',\n",
        "  'address2': '',\n",
        "  'address3': '',\n",
        "  'city': 'Albuquerque',\n",
        "  'country': 'US',\n",
        "  'display_address': ['2400 Central Ave SE', 'Albuquerque, NM 87106'],\n",
        "  'state': 'NM',\n",
        "  'zip_code': '87106'},\n",
        " 'name': 'Frontier Restaurant',\n",
        " 'phone': '+15052660550',\n",
        " 'price': '$',\n",
        " 'rating': 4.0,\n",
        " 'review_count': 1369,\n",
        " 'transactions': [],\n",
        " 'url': 'https://www.yelp.com/biz/frontier-restaurant-albuquerque-2?adjust_creative=SYc8R4Gowqru5h4SBKZXsQ&utm_campaign=yelp_api_v3&utm_medium=api_v3_business_search&utm_source=SYc8R4Gowqru5h4SBKZXsQ'}"
      ]
    },
    {
      "cell_type": "markdown",
      "metadata": {
        "id": "dAFoJCuBZ3_4"
      },
      "source": [
        "As we already know, one way to quickly view the attributes of a dictionary is to look at the keys of the dictionary."
      ]
    },
    {
      "cell_type": "code",
      "execution_count": 4,
      "metadata": {
        "id": "83Hs-b8NZ3_4",
        "colab": {
          "base_uri": "https://localhost:8080/"
        },
        "outputId": "a8c2b5c2-f77d-47b0-d40c-df1302b9cf12"
      },
      "outputs": [
        {
          "output_type": "execute_result",
          "data": {
            "text/plain": [
              "dict_keys(['categories', 'coordinates', 'display_phone', 'distance', 'id', 'image_url', 'is_closed', 'location', 'name', 'phone', 'price', 'rating', 'review_count', 'transactions', 'url'])"
            ]
          },
          "metadata": {},
          "execution_count": 4
        }
      ],
      "source": [
        "# Run this cell without changes\n",
        "fork_fig.keys()"
      ]
    },
    {
      "cell_type": "code",
      "execution_count": 5,
      "metadata": {
        "id": "gIvfnUh5Z3_4",
        "colab": {
          "base_uri": "https://localhost:8080/"
        },
        "outputId": "c4178fad-788f-4980-d98a-571866cc0f18"
      },
      "outputs": [
        {
          "output_type": "execute_result",
          "data": {
            "text/plain": [
              "dict_keys(['categories', 'coordinates', 'display_phone', 'distance', 'id', 'image_url', 'is_closed', 'location', 'name', 'phone', 'price', 'rating', 'review_count', 'transactions', 'url'])"
            ]
          },
          "metadata": {},
          "execution_count": 5
        }
      ],
      "source": [
        "# Run this cell without changes\n",
        "frontier_restaurant.keys()"
      ]
    },
    {
      "cell_type": "code",
      "execution_count": 6,
      "metadata": {
        "id": "v_ep2zKtZ3_4",
        "colab": {
          "base_uri": "https://localhost:8080/"
        },
        "outputId": "9c61e350-ee20-48c1-99fe-2d2a7fca7b25"
      },
      "outputs": [
        {
          "output_type": "execute_result",
          "data": {
            "text/plain": [
              "True"
            ]
          },
          "metadata": {},
          "execution_count": 6
        }
      ],
      "source": [
        "# Run this cell without changes\n",
        "fork_fig.keys() == frontier_restaurant.keys()"
      ]
    },
    {
      "cell_type": "markdown",
      "metadata": {
        "id": "yuqGj7bfZ3_4"
      },
      "source": [
        "As we can see from our above comparison, Yelp provides us with the same information for both restaurants.  \n",
        "\n",
        "## Writing Functions to Extract Information\n",
        "\n",
        "Ok, now let's write our functions.\n",
        "\n",
        "Write a function called `restaurant_name()` that, provided a dictionary representing a restaurant like you saw above, returns that restaurant's name."
      ]
    },
    {
      "cell_type": "code",
      "source": [
        "fork_fig['name']\n",
        "\n"
      ],
      "metadata": {
        "colab": {
          "base_uri": "https://localhost:8080/",
          "height": 35
        },
        "id": "o2Hgs4FWPUwY",
        "outputId": "844a02be-75af-42b5-af7d-fec2642e8e5d"
      },
      "execution_count": 7,
      "outputs": [
        {
          "output_type": "execute_result",
          "data": {
            "text/plain": [
              "'Fork & Fig'"
            ],
            "application/vnd.google.colaboratory.intrinsic+json": {
              "type": "string"
            }
          },
          "metadata": {},
          "execution_count": 7
        }
      ]
    },
    {
      "cell_type": "code",
      "execution_count": 8,
      "metadata": {
        "id": "NmWsLRh0Z3_4"
      },
      "outputs": [],
      "source": [
        "def restaurant_name(restaurant):\n",
        "    # Replace None with appropriate code\n",
        "    return restaurant['name']\n"
      ]
    },
    {
      "cell_type": "code",
      "execution_count": 9,
      "metadata": {
        "id": "piNar2HgZ3_4",
        "colab": {
          "base_uri": "https://localhost:8080/",
          "height": 35
        },
        "outputId": "93185572-d5d6-44fc-e883-1fa3e390cb50"
      },
      "outputs": [
        {
          "output_type": "execute_result",
          "data": {
            "text/plain": [
              "'Frontier Restaurant'"
            ],
            "application/vnd.google.colaboratory.intrinsic+json": {
              "type": "string"
            }
          },
          "metadata": {},
          "execution_count": 9
        }
      ],
      "source": [
        "# Run this cell without changes\n",
        "restaurant_name(frontier_restaurant) # 'Frontier Restaurant'"
      ]
    },
    {
      "cell_type": "code",
      "execution_count": 10,
      "metadata": {
        "id": "qCQBCeWQZ3_5",
        "colab": {
          "base_uri": "https://localhost:8080/",
          "height": 35
        },
        "outputId": "32b59c7c-4ad8-4321-ff79-a526f311c078"
      },
      "outputs": [
        {
          "output_type": "execute_result",
          "data": {
            "text/plain": [
              "'Fork & Fig'"
            ],
            "application/vnd.google.colaboratory.intrinsic+json": {
              "type": "string"
            }
          },
          "metadata": {},
          "execution_count": 10
        }
      ],
      "source": [
        "# Run this cell without changes\n",
        "restaurant_name(fork_fig) # 'Fork & Fig'"
      ]
    },
    {
      "cell_type": "markdown",
      "metadata": {
        "id": "xB3D__aqZ3_5"
      },
      "source": [
        "Now write a function called `restaurant_rating()` that returns the rating of the provided restaurant."
      ]
    },
    {
      "cell_type": "code",
      "source": [
        "fork_fig['rating']"
      ],
      "metadata": {
        "colab": {
          "base_uri": "https://localhost:8080/"
        },
        "id": "KWtlr4LPUhtV",
        "outputId": "b9662ed1-c1bc-45d7-89e1-1ed291131d16"
      },
      "execution_count": 11,
      "outputs": [
        {
          "output_type": "execute_result",
          "data": {
            "text/plain": [
              "4.5"
            ]
          },
          "metadata": {},
          "execution_count": 11
        }
      ]
    },
    {
      "cell_type": "code",
      "execution_count": 12,
      "metadata": {
        "id": "LNk1_MobZ3_5"
      },
      "outputs": [],
      "source": [
        "def restaurant_rating(restaurant):\n",
        "    # Replace None with appropriate code\n",
        "    return restaurant['rating']"
      ]
    },
    {
      "cell_type": "code",
      "execution_count": 13,
      "metadata": {
        "id": "4vIvc0tQZ3_5",
        "colab": {
          "base_uri": "https://localhost:8080/"
        },
        "outputId": "df3a11b8-5d71-40a1-d0c3-5f7f5ce7dfc7"
      },
      "outputs": [
        {
          "output_type": "execute_result",
          "data": {
            "text/plain": [
              "4.0"
            ]
          },
          "metadata": {},
          "execution_count": 13
        }
      ],
      "source": [
        "# Run this cell without changes\n",
        "restaurant_rating(frontier_restaurant) # 4.0"
      ]
    },
    {
      "cell_type": "code",
      "execution_count": 14,
      "metadata": {
        "id": "HB__fC7BZ3_5",
        "colab": {
          "base_uri": "https://localhost:8080/"
        },
        "outputId": "5f6c9b0d-6db3-4c9d-cdb1-5805811a99d4"
      },
      "outputs": [
        {
          "output_type": "execute_result",
          "data": {
            "text/plain": [
              "4.5"
            ]
          },
          "metadata": {},
          "execution_count": 14
        }
      ],
      "source": [
        "# Run this cell without changes\n",
        "restaurant_rating(fork_fig) # 4.5"
      ]
    },
    {
      "cell_type": "markdown",
      "metadata": {
        "id": "6uqzUcizZ3_5"
      },
      "source": [
        "## Comparing Restaurants\n",
        "\n",
        "Now let's write a function called `is_better()` that returns `True` if a restaurant has a higher rating than an alternative restaurant.  The first argument should be called `restaurant` and the second argument should be called `alternative`.  The function returns `False` if the two ratings are equal.\n",
        "\n",
        "This function should *call* (AKA *invoke*) your existing `restaurant_rating` function."
      ]
    },
    {
      "cell_type": "code",
      "execution_count": 15,
      "metadata": {
        "id": "ViL5gWo4Z3_5"
      },
      "outputs": [],
      "source": [
        "# def is_better(restaurant, alternative):\n",
        "#     # Replace None with appropriate code\n",
        "#     first_restraunt=restaurant_rating(restaurant)\n",
        "#     alternative_restaurant= restaurant_rating(alternative)\n",
        "#     print(first_restraunt,alternative_restaurant)\n",
        "#     if first_restraunt > alternative_restaurant:\n",
        "#       return True\n",
        "#     else:\n",
        "#       return False\n",
        "def is_better(restaurant, alternative):\n",
        "    if restaurant_rating(restaurant) > restaurant_rating(alternative):\n",
        "      return True\n",
        "    else:\n",
        "      return False\n",
        "#Teachers code\n",
        "def is_better(restaurant, alternative):\n",
        "    return restaurant_rating(restaurant) > restaurant_rating(alternative)"
      ]
    },
    {
      "cell_type": "code",
      "execution_count": 16,
      "metadata": {
        "id": "nK1FUcWPZ3_5",
        "colab": {
          "base_uri": "https://localhost:8080/"
        },
        "outputId": "58417774-6cb3-4efb-bbbd-5bf1a6721580"
      },
      "outputs": [
        {
          "output_type": "execute_result",
          "data": {
            "text/plain": [
              "False"
            ]
          },
          "metadata": {},
          "execution_count": 16
        }
      ],
      "source": [
        "# Run this cell without changes\n",
        "is_better(frontier_restaurant, fork_fig) # False"
      ]
    },
    {
      "cell_type": "code",
      "execution_count": 17,
      "metadata": {
        "id": "TXyrtvg4Z3_5",
        "colab": {
          "base_uri": "https://localhost:8080/"
        },
        "outputId": "a87a0db4-76a7-49cc-edf6-830cb7b4ff46"
      },
      "outputs": [
        {
          "output_type": "execute_result",
          "data": {
            "text/plain": [
              "True"
            ]
          },
          "metadata": {},
          "execution_count": 17
        }
      ],
      "source": [
        "# Run this cell without changes\n",
        "is_better(fork_fig, frontier_restaurant) # True"
      ]
    },
    {
      "cell_type": "code",
      "execution_count": 18,
      "metadata": {
        "id": "KjOvfpI_Z3_5",
        "colab": {
          "base_uri": "https://localhost:8080/"
        },
        "outputId": "1c46999a-e0cd-4ce9-bc86-1c65579cb877"
      },
      "outputs": [
        {
          "output_type": "execute_result",
          "data": {
            "text/plain": [
              "False"
            ]
          },
          "metadata": {},
          "execution_count": 18
        }
      ],
      "source": [
        "# Run this cell without changes\n",
        "is_better(fork_fig, fork_fig) # False"
      ]
    },
    {
      "cell_type": "markdown",
      "metadata": {
        "id": "FScoeDy9Z3_6"
      },
      "source": [
        "Now let's write a function called `is_cheaper()` that returns `True` if a restaurant has a lower price, that is the restaurant has fewer `'$'` signs, than an alternative restaurant. The first argument should be called `restaurant` and the second argument should be called `alternative`. The function returns `False` if the two prices are equal.\n",
        "\n",
        "> **Hint:** *Strings in Python respond to then `len` function.*"
      ]
    },
    {
      "cell_type": "code",
      "source": [
        "fork_fig['price'],frontier_restaurant['price']"
      ],
      "metadata": {
        "colab": {
          "base_uri": "https://localhost:8080/"
        },
        "id": "eOpqQTN3gLLh",
        "outputId": "2eda2b21-6e97-44cf-ce18-dd4d9824a4e1"
      },
      "execution_count": 19,
      "outputs": [
        {
          "output_type": "execute_result",
          "data": {
            "text/plain": [
              "('$$', '$')"
            ]
          },
          "metadata": {},
          "execution_count": 19
        }
      ]
    },
    {
      "cell_type": "code",
      "source": [
        "len(fork_fig['price']),len(frontier_restaurant['price'])"
      ],
      "metadata": {
        "colab": {
          "base_uri": "https://localhost:8080/"
        },
        "id": "NwZjXHUtglIu",
        "outputId": "11135b58-2742-461b-cdf0-a4ffc9a19b31"
      },
      "execution_count": 20,
      "outputs": [
        {
          "output_type": "execute_result",
          "data": {
            "text/plain": [
              "(2, 1)"
            ]
          },
          "metadata": {},
          "execution_count": 20
        }
      ]
    },
    {
      "cell_type": "code",
      "execution_count": 21,
      "metadata": {
        "id": "b2KRnv0aZ3_6"
      },
      "outputs": [],
      "source": [
        "def is_cheaper(restaurant, alternative):\n",
        "    restaurant_price=restaurant['price']\n",
        "    alternative_price=alternative['price']\n",
        "    if len(restaurant_price) < len (alternative_price):\n",
        "      return True\n",
        "    else:\n",
        "      return False\n",
        "#Teachers code\n",
        "def restaurant_price_len(restaurant):\n",
        "    return len(restaurant['price'])\n",
        "\n",
        "def is_cheaper(restaurant, alternative):\n",
        "    return restaurant_price_len(restaurant) < restaurant_price_len(alternative)\n"
      ]
    },
    {
      "cell_type": "code",
      "execution_count": 22,
      "metadata": {
        "id": "1k5bedL0Z3_6",
        "colab": {
          "base_uri": "https://localhost:8080/"
        },
        "outputId": "536aa8e0-e0d8-43b4-8e5e-37ace285de4a"
      },
      "outputs": [
        {
          "output_type": "execute_result",
          "data": {
            "text/plain": [
              "False"
            ]
          },
          "metadata": {},
          "execution_count": 22
        }
      ],
      "source": [
        "# Run this cell without changes\n",
        "is_cheaper(fork_fig, frontier_restaurant) # False"
      ]
    },
    {
      "cell_type": "code",
      "execution_count": 23,
      "metadata": {
        "id": "X7QeR1J6Z3_6",
        "colab": {
          "base_uri": "https://localhost:8080/"
        },
        "outputId": "e5809fbd-e2cf-4149-c00c-97d1d0972e7a"
      },
      "outputs": [
        {
          "output_type": "execute_result",
          "data": {
            "text/plain": [
              "True"
            ]
          },
          "metadata": {},
          "execution_count": 23
        }
      ],
      "source": [
        "# Run this cell without changes\n",
        "is_cheaper(frontier_restaurant, fork_fig) # True"
      ]
    },
    {
      "cell_type": "code",
      "execution_count": 24,
      "metadata": {
        "id": "o-hxIxrEZ3_6",
        "colab": {
          "base_uri": "https://localhost:8080/"
        },
        "outputId": "c7e643cd-fc16-43f7-c2cc-0ba0aef6fb8b"
      },
      "outputs": [
        {
          "output_type": "execute_result",
          "data": {
            "text/plain": [
              "False"
            ]
          },
          "metadata": {},
          "execution_count": 24
        }
      ],
      "source": [
        "# Run this cell without changes\n",
        "is_cheaper(fork_fig, fork_fig) # False"
      ]
    },
    {
      "cell_type": "markdown",
      "metadata": {
        "id": "Lup6QGRQZ3_6"
      },
      "source": [
        "Now write a function called `high_rating()` that takes a `restaurant` as a first argument and a rating (in the form of a number) as the second argument and returns `True` if the given restaurant's rating is greater than or equal to the provided rating and returns `False` otherwise."
      ]
    },
    {
      "cell_type": "code",
      "execution_count": 25,
      "metadata": {
        "id": "JSCZLrzbZ3_6"
      },
      "outputs": [],
      "source": [
        "def high_rating(restaurant, rating):\n",
        "    restaurants_rating = restaurant_rating(restaurant)\n",
        "    #print(restaurants_rating)\n",
        "    if restaurants_rating >= rating:\n",
        "      return True\n",
        "    else:\n",
        "      return False\n",
        "#Teachers code\n",
        "def high_rating(restaurant, rating):\n",
        "    return restaurant_rating(restaurant) >= rating"
      ]
    },
    {
      "cell_type": "code",
      "execution_count": 26,
      "metadata": {
        "id": "SNNAXwP0Z3_6",
        "colab": {
          "base_uri": "https://localhost:8080/"
        },
        "outputId": "139e3329-c07b-49ea-d295-3b99b9b597b3"
      },
      "outputs": [
        {
          "output_type": "execute_result",
          "data": {
            "text/plain": [
              "True"
            ]
          },
          "metadata": {},
          "execution_count": 26
        }
      ],
      "source": [
        "# Run this cell without changes\n",
        "high_rating(fork_fig, 4) # True"
      ]
    },
    {
      "cell_type": "code",
      "execution_count": 27,
      "metadata": {
        "id": "tsvK_fI7Z3_6",
        "colab": {
          "base_uri": "https://localhost:8080/"
        },
        "outputId": "a3573ba4-42f5-4b43-f622-6f3ccb665c83"
      },
      "outputs": [
        {
          "output_type": "execute_result",
          "data": {
            "text/plain": [
              "False"
            ]
          },
          "metadata": {},
          "execution_count": 27
        }
      ],
      "source": [
        "# Run this cell without changes\n",
        "high_rating(fork_fig, 5) # False"
      ]
    },
    {
      "cell_type": "code",
      "execution_count": 28,
      "metadata": {
        "id": "Lbc3vJMfZ3_6",
        "colab": {
          "base_uri": "https://localhost:8080/"
        },
        "outputId": "c39e89d1-7e16-45f3-b3a5-0dbe090a2399"
      },
      "outputs": [
        {
          "output_type": "execute_result",
          "data": {
            "text/plain": [
              "True"
            ]
          },
          "metadata": {},
          "execution_count": 28
        }
      ],
      "source": [
        "# Run this cell without changes\n",
        "high_rating(frontier_restaurant, 4) # True"
      ]
    },
    {
      "cell_type": "markdown",
      "metadata": {
        "id": "hBjnAh9qZ3_6"
      },
      "source": [
        "Awesome! We have built out some pretty cool functions so far. Let's now think about a case where we have more than just two data points to operate on. We have added some more restaurant dictionaries below and are going to add them to our list of restaurants. Don't worry that they have a slightly different amount of data.\n",
        "\n",
        "We are going to need a function `mean_review_count()` to give us an idea what the typical value for `review_count` is. This function should take in a list of restaurant dictionaries and return the mean of the review counts for the collection of restaurant dictionaries."
      ]
    },
    {
      "cell_type": "code",
      "execution_count": 47,
      "metadata": {
        "id": "U5ZIv39uZ3_6"
      },
      "outputs": [],
      "source": [
        "# Run this cell without changes\n",
        "dennys = {'categories': [{'alias': 'breakfast', 'title': 'Breakfast'},\n",
        "  {'alias': 'diners', 'title': 'Diners'},\n",
        "  {'alias': 'tradamerican', 'title': 'American (Traditional)'}],\n",
        " 'is_closed': False,\n",
        " 'name': \"Denny's\",\n",
        " 'price': '$',\n",
        " 'rating': 3.0,\n",
        " 'review_count': 1200}\n",
        "\n",
        "ihop = {'categories': [{'alias': 'breakfast', 'title': 'Breakfast'},\n",
        "  {'alias': 'diners', 'title': 'Diners'},\n",
        "  {'alias': 'tradamerican', 'title': 'American (Traditional)'}],\n",
        " 'is_closed': False,\n",
        " 'name': \"IHOP: International House of Pancakes\",\n",
        " 'price': '$',\n",
        " 'rating': 3.45,\n",
        " 'review_count': 1588}\n",
        "\n",
        "mcdonalds = {'categories': [{'alias': 'breakfast', 'title': 'Breakfast'},\n",
        "  {'alias': 'burgers', 'title': 'Burgers'},\n",
        "  {'alias': 'fast food', 'title': 'Good Food Fast'}],\n",
        " 'is_closed': False,\n",
        " 'name': \"McDonalds\",\n",
        " 'price': '$',\n",
        " 'rating': 3.45,\n",
        " 'review_count': 2455}\n",
        "\n",
        "pearl_street_oyster_bar = {'categories': [{'alias': 'seafood', 'title': 'Seafood'},\n",
        "  {'alias': 'gourmet', 'title': 'Gourmet'},\n",
        "  {'alias': 'Shellfish', 'title': 'Shellfish'}],\n",
        " 'is_closed': False,\n",
        " 'name': \"Pear Street Oyster Bar\",\n",
        " 'price': '$$$',\n",
        " 'rating': 4.75,\n",
        " 'review_count': 350}"
      ]
    },
    {
      "cell_type": "code",
      "execution_count": 48,
      "metadata": {
        "id": "9sammQylZ3_6"
      },
      "outputs": [],
      "source": [
        "# Run this cell without changes\n",
        "restaurant_list = [pearl_street_oyster_bar, mcdonalds, ihop, dennys, fork_fig, frontier_restaurant]\n"
      ]
    },
    {
      "cell_type": "code",
      "source": [
        "from statistics import mean\n",
        "rest_review=[]\n",
        "for restaraunt in restaurant_list:\n",
        "  #print(restaraunt['review_count'])\n",
        "  rest_review.append(restaraunt['review_count'])\n",
        "  mean_review=mean(rest_review)\n",
        "print(mean_review)\n",
        "print(rest_review)"
      ],
      "metadata": {
        "colab": {
          "base_uri": "https://localhost:8080/"
        },
        "id": "Rr1La-gdtBot",
        "outputId": "6268c192-a15e-4b4e-c564-7ecf28001230"
      },
      "execution_count": 31,
      "outputs": [
        {
          "output_type": "stream",
          "name": "stdout",
          "text": [
            "1261\n",
            "[350, 2455, 1588, 1200, 604, 1369]\n"
          ]
        }
      ]
    },
    {
      "cell_type": "code",
      "execution_count": 49,
      "metadata": {
        "id": "6cRfBXMRZ3_6"
      },
      "outputs": [],
      "source": [
        "from statistics import mean\n",
        "review_count=[]\n",
        "def mean_review_count(list_of_restaurants):\n",
        "    for restaurant in list_of_restaurants:\n",
        "      #print(restaurant['review_count'])\n",
        "      review_count.append(restaurant['review_count'])\n",
        "    return mean(review_count)"
      ]
    },
    {
      "cell_type": "code",
      "source": [
        "#use list comprehension\n",
        "def mean_review_count(list_of_restaurants):\n",
        "  reviews=[(restaurant['review_count']) for restaurant in list_of_restaurants]\n",
        "  return mean(reviews)"
      ],
      "metadata": {
        "id": "z_s-RSPm053x"
      },
      "execution_count": 50,
      "outputs": []
    },
    {
      "cell_type": "code",
      "execution_count": 51,
      "metadata": {
        "id": "PROYuzpJZ3_7",
        "colab": {
          "base_uri": "https://localhost:8080/"
        },
        "outputId": "c8210619-ee93-4c0a-c793-ec89b64da575"
      },
      "outputs": [
        {
          "output_type": "execute_result",
          "data": {
            "text/plain": [
              "1261"
            ]
          },
          "metadata": {},
          "execution_count": 51
        }
      ],
      "source": [
        "# Run this cell without changes\n",
        "mean_review_count(restaurant_list) #1261.0"
      ]
    },
    {
      "cell_type": "markdown",
      "metadata": {
        "id": "TjJadGf-Z3_7"
      },
      "source": [
        "Now we have an idea of how many reviews a typical restaurant has, but none of these restaurants have exactly that number of reviews.\n",
        "\n",
        "Which restaurants have a `review_count` within 150 of the average? (\"within 150\" meaning exactly average, <= 150 fewer reviews than the average, or <= 150 more reviews than the average)\n",
        "\n",
        "Return a list of the restaurant names."
      ]
    },
    {
      "cell_type": "code",
      "source": [
        "restaurant_name = []\n",
        "def near_average_review_count(list_of_restaurants):\n",
        "  mean_restaurants = mean_review_count(list_of_restaurants)\n",
        "  #print(mean_restaurants)\n",
        "  for restaraunt in list_of_restaurants:\n",
        "    review_count = restaraunt['review_count']\n",
        "    difference_count =  mean_restaurants - review_count\n",
        "    #print(difference_count)\n",
        "    if abs(difference_count) <= 150:\n",
        "        #print(restaraunt['name'],difference_count)\n",
        "        restaurant_name.append(restaraunt['name'])\n",
        "  return restaurant_name\n",
        "\n",
        "\n"
      ],
      "metadata": {
        "id": "yCcRk0WB1KZV"
      },
      "execution_count": 74,
      "outputs": []
    },
    {
      "cell_type": "code",
      "source": [
        "near_average_review_count(restaurant_list)"
      ],
      "metadata": {
        "colab": {
          "base_uri": "https://localhost:8080/"
        },
        "id": "Q8rDhKJQkZT5",
        "outputId": "ea307a87-67e1-4e86-aae7-b2d5939d239b"
      },
      "execution_count": 75,
      "outputs": [
        {
          "output_type": "execute_result",
          "data": {
            "text/plain": [
              "[\"Denny's\", 'Frontier Restaurant']"
            ]
          },
          "metadata": {},
          "execution_count": 75
        }
      ]
    },
    {
      "cell_type": "code",
      "execution_count": 36,
      "metadata": {
        "id": "gCqWfN_mZ3_7"
      },
      "outputs": [],
      "source": [
        "results=[]\n",
        "def near_average_review_count(list_of_restaurants):\n",
        "    #mean = mean_review_count(list_of_restaurants)\n",
        "    mean=1261\n",
        "    # Replace None with appropriate code\n",
        "    for restaurant in list_of_restaurants:\n",
        "      name=restaurant['name']\n",
        "      count=restaurant['review_count']\n",
        "      review_diff=count-mean\n",
        "      #print('diff',name,review_diff)\n",
        "      if review_diff <=150:\n",
        "        results.append(f'{name}:{review_diff}')\n",
        "    return results\n",
        "            #print(f'{name}:{count}')"
      ]
    },
    {
      "cell_type": "code",
      "execution_count": 37,
      "metadata": {
        "id": "1JPoSj5pZ3_7",
        "colab": {
          "base_uri": "https://localhost:8080/"
        },
        "outputId": "1af8d24d-6433-4ea3-d57a-562b27641da8"
      },
      "outputs": [
        {
          "output_type": "execute_result",
          "data": {
            "text/plain": [
              "['Pear Street Oyster Bar:-911',\n",
              " \"Denny's:-61\",\n",
              " 'Fork & Fig:-657',\n",
              " 'Frontier Restaurant:108']"
            ]
          },
          "metadata": {},
          "execution_count": 37
        }
      ],
      "source": [
        "# Run this cell without changes\n",
        "near_average_review_count(restaurant_list) # [\"Denny's\", 'Frontier Restaurant']"
      ]
    },
    {
      "cell_type": "markdown",
      "metadata": {
        "id": "EF4bH40xZ3_7"
      },
      "source": [
        "## Summary\n",
        "\n",
        "Great! In this lab we saw how to pass both single and multiple arguments to functions. Function arguments can make functions more flexible and reusable!"
      ]
    }
  ],
  "metadata": {
    "kernelspec": {
      "display_name": "Python (learn-env)",
      "language": "python",
      "name": "learn-env"
    },
    "language_info": {
      "codemirror_mode": {
        "name": "ipython",
        "version": 3
      },
      "file_extension": ".py",
      "mimetype": "text/x-python",
      "name": "python",
      "nbconvert_exporter": "python",
      "pygments_lexer": "ipython3",
      "version": "3.8.5"
    },
    "toc": {
      "base_numbering": 1,
      "nav_menu": {},
      "number_sections": true,
      "sideBar": true,
      "skip_h1_title": false,
      "title_cell": "Table of Contents",
      "title_sidebar": "Contents",
      "toc_cell": false,
      "toc_position": {},
      "toc_section_display": true,
      "toc_window_display": false
    },
    "colab": {
      "provenance": [],
      "include_colab_link": true
    }
  },
  "nbformat": 4,
  "nbformat_minor": 0
}