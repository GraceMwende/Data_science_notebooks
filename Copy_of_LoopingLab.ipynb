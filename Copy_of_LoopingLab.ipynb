{
  "cells": [
    {
      "cell_type": "markdown",
      "metadata": {
        "id": "view-in-github",
        "colab_type": "text"
      },
      "source": [
        "<a href=\"https://colab.research.google.com/github/GraceMwende/Data_science_notebooks/blob/main/Copy_of_LoopingLab.ipynb\" target=\"_parent\"><img src=\"https://colab.research.google.com/assets/colab-badge.svg\" alt=\"Open In Colab\"/></a>"
      ]
    },
    {
      "cell_type": "markdown",
      "metadata": {
        "id": "ua9ylu7HV4Z5"
      },
      "source": [
        "# Looping Over Collections - Lab\n",
        "\n",
        "## Introduction\n",
        "In this lab, we will be practicing what we know about `for` loops. We will use them to reduce the amount of code we write by hand to iterate through collections. We will use data from the excel file, `cities.xlsx`, that has data on different cities, their populations, and their areas. Finally, we will use this information to plot and compare each city. Let's get started!\n",
        "\n",
        "## Objectives\n",
        "\n",
        "You will be able to:\n",
        "\n",
        "* Use a `for` loop to iterate over a collection\n",
        "\n",
        "## Identifying When To Use a For Loop\n",
        "\n",
        "In the last lesson, we worked with some of our travel data.  Additional data has been compiled in the `cities.xlsx` excel spreadsheet. Let's retrieve this data from excel using the Pandas library. Don't worry if Pandas feels unfamiliar, it will be covered in detail later. For now, just follow the provided code and get a feel for what is happening. First, read the information from the excel file as a list of dictionaries, with each dictionary representing a location. Then, assign this list to the variable `cities`."
      ]
    },
    {
      "cell_type": "code",
      "execution_count": null,
      "metadata": {
        "id": "TKNfAImkV4Z6"
      },
      "outputs": [],
      "source": [
        "import pandas as pd\n",
        "file_name = './cities.xlsx'\n",
        "travel_df = pd.read_excel(file_name)\n",
        "cities = travel_df.to_dict('records')"
      ]
    },
    {
      "cell_type": "code",
      "source": [
        "cities"
      ],
      "metadata": {
        "colab": {
          "base_uri": "https://localhost:8080/"
        },
        "id": "cyEBumj8T_Lw",
        "outputId": "9fb053fb-960d-410d-88fb-ec0121679630"
      },
      "execution_count": null,
      "outputs": [
        {
          "output_type": "execute_result",
          "data": {
            "text/plain": [
              "[{'City': 'Solta', 'Country': 'Croatia', 'Population': 1700, 'Area': 59},\n",
              " {'City': 'Greenville', 'Country': 'USA', 'Population': 84554, 'Area': 68},\n",
              " {'City': 'Buenos Aires',\n",
              "  'Country': 'Argentina',\n",
              "  'Population': 13591863,\n",
              "  'Area': 4758},\n",
              " {'City': 'Los Cabos',\n",
              "  'Country': 'Mexico',\n",
              "  'Population': 287651,\n",
              "  'Area': 3750},\n",
              " {'City': 'Walla Walla Valley',\n",
              "  'Country': 'USA',\n",
              "  'Population': 32237,\n",
              "  'Area': 33},\n",
              " {'City': 'Marakesh', 'Country': 'Morocco', 'Population': 928850, 'Area': 200},\n",
              " {'City': 'Albuquerque',\n",
              "  'Country': 'New Mexico',\n",
              "  'Population': 559277,\n",
              "  'Area': 491},\n",
              " {'City': 'Archipelago Sea',\n",
              "  'Country': 'Finland',\n",
              "  'Population': 60000,\n",
              "  'Area': 8300},\n",
              " {'City': 'Iguazu Falls',\n",
              "  'Country': 'Argentina',\n",
              "  'Population': 0,\n",
              "  'Area': 672},\n",
              " {'City': 'Salina Island', 'Country': 'Italy', 'Population': 4000, 'Area': 27},\n",
              " {'City': 'Toronto', 'Country': 'Canada', 'Population': 630, 'Area': 2731571},\n",
              " {'City': 'Pyeongchang',\n",
              "  'Country': 'South Korea',\n",
              "  'Population': 2581000,\n",
              "  'Area': 3194}]"
            ]
          },
          "metadata": {},
          "execution_count": 16
        }
      ]
    },
    {
      "cell_type": "code",
      "source": [
        "cities[0:3]"
      ],
      "metadata": {
        "colab": {
          "base_uri": "https://localhost:8080/"
        },
        "id": "br6_iPt-WmjW",
        "outputId": "0a55e8ed-89f6-4d73-d85d-c7901413f867"
      },
      "execution_count": null,
      "outputs": [
        {
          "output_type": "execute_result",
          "data": {
            "text/plain": [
              "[{'City': 'Solta', 'Country': 'Croatia', 'Population': 1700, 'Area': 59},\n",
              " {'City': 'Greenville', 'Country': 'USA', 'Population': 84554, 'Area': 68},\n",
              " {'City': 'Buenos Aires',\n",
              "  'Country': 'Argentina',\n",
              "  'Population': 13591863,\n",
              "  'Area': 4758}]"
            ]
          },
          "metadata": {},
          "execution_count": 13
        }
      ]
    },
    {
      "cell_type": "code",
      "source": [
        "for city in range(0,3):\n",
        "  print(cities[city])"
      ],
      "metadata": {
        "colab": {
          "base_uri": "https://localhost:8080/"
        },
        "id": "eyrnzSkmV9j0",
        "outputId": "13b8b7bf-cf4b-4582-97cf-f0352d8aea7e"
      },
      "execution_count": null,
      "outputs": [
        {
          "output_type": "stream",
          "name": "stdout",
          "text": [
            "{'City': 'Solta', 'Country': 'Croatia', 'Population': 1700, 'Area': 59}\n",
            "{'City': 'Greenville', 'Country': 'USA', 'Population': 84554, 'Area': 68}\n",
            "{'City': 'Buenos Aires', 'Country': 'Argentina', 'Population': 13591863, 'Area': 4758}\n"
          ]
        }
      ]
    },
    {
      "cell_type": "code",
      "source": [
        "for city in range(0,3):\n",
        "  print(cities[city]['City'])"
      ],
      "metadata": {
        "colab": {
          "base_uri": "https://localhost:8080/"
        },
        "id": "4xbP0N1zXRiZ",
        "outputId": "1e9c6fba-c769-45f8-cffb-ae6402acdf4a"
      },
      "execution_count": null,
      "outputs": [
        {
          "output_type": "stream",
          "name": "stdout",
          "text": [
            "Solta\n",
            "Greenville\n",
            "Buenos Aires\n"
          ]
        }
      ]
    },
    {
      "cell_type": "code",
      "source": [
        "for pop in range(0,3):\n",
        "  print(cities[pop]['City'],cities[pop]['Population'])"
      ],
      "metadata": {
        "colab": {
          "base_uri": "https://localhost:8080/"
        },
        "id": "uJa_agzqXskj",
        "outputId": "bd64e55a-d67c-4133-d704-a132937280c7"
      },
      "execution_count": null,
      "outputs": [
        {
          "output_type": "stream",
          "name": "stdout",
          "text": [
            "Solta 1700\n",
            "Greenville 84554\n",
            "Buenos Aires 13591863\n"
          ]
        }
      ]
    },
    {
      "cell_type": "code",
      "source": [
        "cities[0]['City']"
      ],
      "metadata": {
        "colab": {
          "base_uri": "https://localhost:8080/",
          "height": 35
        },
        "id": "STq0rIg0XH8a",
        "outputId": "63c3b7c9-f399-4129-9eeb-a6ddeb4735ff"
      },
      "execution_count": null,
      "outputs": [
        {
          "output_type": "execute_result",
          "data": {
            "text/plain": [
              "'Solta'"
            ],
            "application/vnd.google.colaboratory.intrinsic+json": {
              "type": "string"
            }
          },
          "metadata": {},
          "execution_count": 19
        }
      ]
    },
    {
      "cell_type": "code",
      "source": [
        "cities[0]['Population']"
      ],
      "metadata": {
        "colab": {
          "base_uri": "https://localhost:8080/"
        },
        "id": "BdCJjb_0Xb5I",
        "outputId": "9c883864-11ce-4726-cdc3-b4126268f4b9"
      },
      "execution_count": null,
      "outputs": [
        {
          "output_type": "execute_result",
          "data": {
            "text/plain": [
              "1700"
            ]
          },
          "metadata": {},
          "execution_count": 23
        }
      ]
    },
    {
      "cell_type": "markdown",
      "metadata": {
        "id": "mMY8_H3qV4Z6"
      },
      "source": [
        "Next, retrieve the first three city names, stored as the `'City'` attribute of each dictionary, and `'Population'` of each of the cities.  Then plot the names as our `x_values` and the populations as our `y_values` using the `matplotlib` library. Again, don't worry about understanding all of the details behind what `matplotlib` is doing. It will be covered in more detail soon."
      ]
    },
    {
      "cell_type": "code",
      "execution_count": null,
      "metadata": {
        "id": "kRNDVFBJV4Z6",
        "colab": {
          "base_uri": "https://localhost:8080/",
          "height": 452
        },
        "outputId": "d95cd08f-66fa-40cb-c5e6-c3085750bffc"
      },
      "outputs": [
        {
          "output_type": "display_data",
          "data": {
            "text/plain": [
              "<Figure size 640x480 with 1 Axes>"
            ],
            "image/png": "[encoded data removed]"
          },
          "metadata": {}
        }
      ],
      "source": [
        "import matplotlib.pyplot as plt\n",
        "\n",
        "%matplotlib inline\n",
        "\n",
        "x_values = [cities[0]['City'], cities[1]['City'], cities[2]['City']]\n",
        "y_values = [cities[0]['Population'], cities[1]['Population'], cities[2]['Population']]\n",
        "\n",
        "plt.bar(x_values, y_values)\n",
        "plt.ylabel('Population')\n",
        "plt.title('City Populations')\n",
        "\n",
        "plt.show()"
      ]
    },
    {
      "cell_type": "markdown",
      "metadata": {
        "id": "b3v3qjMAV4Z6"
      },
      "source": [
        "Of course, as you may have spotted, there is a good amount of repetition in displaying this data.  Just take a look at how we retrieved the data for our `x_values` and `y_values`. And you'll notice that, unless we know the exact number of cities and populations in our excel file, this method of retrieving data might miss some data or try to access values that don't exist.\n",
        "\n",
        "We can take a close look at this below:"
      ]
    },
    {
      "cell_type": "code",
      "execution_count": null,
      "metadata": {
        "id": "ewEOeVtrV4Z6"
      },
      "outputs": [],
      "source": [
        "x_values = [cities[0]['City'], cities[1]['City'], cities[2]['City']]\n",
        "y_values = [cities[0]['Population'], cities[1]['Population'], cities[2]['Population']]"
      ]
    },
    {
      "cell_type": "markdown",
      "metadata": {
        "id": "0p4hEt9nV4Z6"
      },
      "source": [
        "As we can see, if we have any more than 3 lines of data, our `x_values` and `y_values` will be incomplete, and if we had only 2 lines of data, our code would break.\n",
        "\n",
        "So in this lesson, we will use `for` loop to display information about our travel locations with less repetition and more accuracy."
      ]
    },
    {
      "cell_type": "markdown",
      "metadata": {
        "id": "8mKcGH5_V4Z7"
      },
      "source": [
        "## Instructions"
      ]
    },
    {
      "cell_type": "markdown",
      "metadata": {
        "id": "SYIi5AscV4Z7"
      },
      "source": [
        "Before we get into creating graphs from our cities data, let's get a bit more comfortable with the data we are working with. Let's see if we can iterate through just one element (i.e. a city **dictionary** object) to get the **area**."
      ]
    },
    {
      "cell_type": "code",
      "execution_count": null,
      "metadata": {
        "id": "D8-DFR32V4Z7",
        "colab": {
          "base_uri": "https://localhost:8080/"
        },
        "outputId": "64f3136a-872a-473b-a5fc-2c98379c61ce"
      },
      "outputs": [
        {
          "output_type": "execute_result",
          "data": {
            "text/plain": [
              "{'City': 'Solta', 'Country': 'Croatia', 'Population': 1700, 'Area': 59}"
            ]
          },
          "metadata": {},
          "execution_count": 36
        }
      ],
      "source": [
        "buenos_aires = cities[0]\n",
        "buenos_aires"
      ]
    },
    {
      "cell_type": "code",
      "source": [
        "cities[0:3]"
      ],
      "metadata": {
        "colab": {
          "base_uri": "https://localhost:8080/"
        },
        "id": "SOcwoggPZ3kL",
        "outputId": "1d0f4be3-948b-45d0-b717-9621cf8df4d4"
      },
      "execution_count": null,
      "outputs": [
        {
          "output_type": "execute_result",
          "data": {
            "text/plain": [
              "[{'City': 'Solta', 'Country': 'Croatia', 'Population': 1700, 'Area': 59},\n",
              " {'City': 'Greenville', 'Country': 'USA', 'Population': 84554, 'Area': 68},\n",
              " {'City': 'Buenos Aires',\n",
              "  'Country': 'Argentina',\n",
              "  'Population': 13591863,\n",
              "  'Area': 4758}]"
            ]
          },
          "metadata": {},
          "execution_count": 38
        }
      ]
    },
    {
      "cell_type": "code",
      "execution_count": null,
      "metadata": {
        "id": "5b41SNEsV4Z7",
        "colab": {
          "base_uri": "https://localhost:8080/"
        },
        "outputId": "22cdad48-8b25-4a88-ed63-0cbee49ad815"
      },
      "outputs": [
        {
          "output_type": "execute_result",
          "data": {
            "text/plain": [
              "4758"
            ]
          },
          "metadata": {},
          "execution_count": 40
        }
      ],
      "source": [
        "# here we want to find just the area of buenos_aires\n",
        "buenos_aires_area = cities[2]['Area']\n",
        "\n",
        "\n",
        "buenos_aires_area"
      ]
    },
    {
      "cell_type": "code",
      "source": [
        "len(cities)"
      ],
      "metadata": {
        "colab": {
          "base_uri": "https://localhost:8080/"
        },
        "id": "9KFpqI_qaNrP",
        "outputId": "dbcf3b05-3e26-4dc6-d917-2641fdb3d79f"
      },
      "execution_count": null,
      "outputs": [
        {
          "output_type": "execute_result",
          "data": {
            "text/plain": [
              "12"
            ]
          },
          "metadata": {},
          "execution_count": 41
        }
      ]
    },
    {
      "cell_type": "markdown",
      "metadata": {
        "id": "cn-SbNpPV4Z7"
      },
      "source": [
        "Now that we have a bit more familiarity with our dictionaries, we can move to gathering all the information we need to create our traces.\n",
        "\n",
        "Our `cities` list contains information about the top 12 cities.  For our upcoming iteration tasks, it will be useful to have a list of the numbers 0 through 11.  Use what we know about `len` and `range`to generate a list of numbers 0 through 11.  Assign this to a variable called `city_indices`."
      ]
    },
    {
      "cell_type": "code",
      "execution_count": null,
      "metadata": {
        "id": "aOmpYkLZV4Z7",
        "colab": {
          "base_uri": "https://localhost:8080/"
        },
        "outputId": "87ca97d2-8f13-4b78-eb59-4b4b3e0c165f"
      },
      "outputs": [
        {
          "output_type": "execute_result",
          "data": {
            "text/plain": [
              "[0, 1, 2, 3, 4, 5, 6, 7, 8, 9, 10, 11]"
            ]
          },
          "metadata": {},
          "execution_count": 20
        }
      ],
      "source": [
        "city_indices =list(range(len(cities)))\n",
        "#range(len(cities))-works\n",
        "city_indices # [0, 1, 2, 3, 4, 5, 6, 7, 8, 9, 10, 11]"
      ]
    },
    {
      "cell_type": "markdown",
      "metadata": {
        "id": "S5RESSvvV4Z7"
      },
      "source": [
        "Now, using the `cities` list, we want to create a list of the names for each city. Loop through each city and append it's name (`'City'`) to the `city_names` list."
      ]
    },
    {
      "cell_type": "code",
      "source": [
        "cities[0]['City']"
      ],
      "metadata": {
        "colab": {
          "base_uri": "https://localhost:8080/",
          "height": 35
        },
        "id": "9twccKmfbykV",
        "outputId": "8bd8dcb5-5a4d-41cd-afc2-b813a1b43a92"
      },
      "execution_count": null,
      "outputs": [
        {
          "output_type": "execute_result",
          "data": {
            "text/plain": [
              "'Solta'"
            ],
            "application/vnd.google.colaboratory.intrinsic+json": {
              "type": "string"
            }
          },
          "metadata": {},
          "execution_count": 49
        }
      ]
    },
    {
      "cell_type": "code",
      "execution_count": null,
      "metadata": {
        "id": "HYRD18dEV4Z7",
        "colab": {
          "base_uri": "https://localhost:8080/"
        },
        "outputId": "c17c6831-ebb8-4a07-e7c8-9b10873b044e"
      },
      "outputs": [
        {
          "output_type": "execute_result",
          "data": {
            "text/plain": [
              "['Solta',\n",
              " 'Greenville',\n",
              " 'Buenos Aires',\n",
              " 'Los Cabos',\n",
              " 'Walla Walla Valley',\n",
              " 'Marakesh',\n",
              " 'Albuquerque',\n",
              " 'Archipelago Sea',\n",
              " 'Iguazu Falls',\n",
              " 'Salina Island',\n",
              " 'Toronto',\n",
              " 'Pyeongchang']"
            ]
          },
          "metadata": {},
          "execution_count": 54
        }
      ],
      "source": [
        "city_names = []\n",
        "for city in list(range(len(cities))):\n",
        "  x=cities[city]['City']\n",
        "  city_names.append(x)\n",
        "\n",
        "city_names"
      ]
    },
    {
      "cell_type": "code",
      "source": [
        "#can also do without the list property\n",
        "city_names = []\n",
        "for city in range(len(cities)):\n",
        "  x=cities[city]['City']\n",
        "  city_names.append(x)\n",
        "\n",
        "city_names"
      ],
      "metadata": {
        "colab": {
          "base_uri": "https://localhost:8080/"
        },
        "id": "kTkbaI1cci0P",
        "outputId": "ad1999d5-0a8a-499e-f3ea-7be5898e1d7e"
      },
      "execution_count": null,
      "outputs": [
        {
          "output_type": "execute_result",
          "data": {
            "text/plain": [
              "['Solta',\n",
              " 'Greenville',\n",
              " 'Buenos Aires',\n",
              " 'Los Cabos',\n",
              " 'Walla Walla Valley',\n",
              " 'Marakesh',\n",
              " 'Albuquerque',\n",
              " 'Archipelago Sea',\n",
              " 'Iguazu Falls',\n",
              " 'Salina Island',\n",
              " 'Toronto',\n",
              " 'Pyeongchang']"
            ]
          },
          "metadata": {},
          "execution_count": 55
        }
      ]
    },
    {
      "cell_type": "markdown",
      "metadata": {
        "id": "NuCaFlxVV4Z7"
      },
      "source": [
        "Your task is to assign the variable `names_and_ranks` to a list, with each element equal to the city name and its corresponding rank.  For example, the first element would be, `\"1. Buenos Aires\"` and the second would be `\"2. Toronto\"`. Luckily for us, the list of cities that we read from our excel file is already in order by most populous to least. So, all we need to do is add numbers 1 through 12 to the beginning of each city name.\n",
        "\n",
        "Use a `for` loop and the lists `city_indices` and `city_names` to accomplish this.  We'll need to perform some nifty string interpolation to format our strings properly.  Check out [f-string interpolation](https://www.programiz.com/python-programming/string-interpolation#f) to see how we can pass values into a string.  Remember that list indices start at zero, but we want our `names_and_ranks` list to start at one!"
      ]
    },
    {
      "cell_type": "code",
      "source": [
        "cities[0:2]"
      ],
      "metadata": {
        "colab": {
          "base_uri": "https://localhost:8080/"
        },
        "id": "h4u6XQM2chfc",
        "outputId": "ae66511d-c219-4e45-91ff-bd42ceb175bc"
      },
      "execution_count": null,
      "outputs": [
        {
          "output_type": "execute_result",
          "data": {
            "text/plain": [
              "[{'City': 'Solta', 'Country': 'Croatia', 'Population': 1700, 'Area': 59},\n",
              " {'City': 'Greenville', 'Country': 'USA', 'Population': 84554, 'Area': 68}]"
            ]
          },
          "metadata": {},
          "execution_count": 57
        }
      ]
    },
    {
      "cell_type": "code",
      "source": [
        "for city in range(len(cities)):\n",
        "    #print(city+1,cities[city]['City'])\n",
        "    x=print('%s. %s'%(city+1,cities[city]['City']))"
      ],
      "metadata": {
        "colab": {
          "base_uri": "https://localhost:8080/"
        },
        "id": "RuYu0qvNc_ok",
        "outputId": "a90a43f4-4def-4468-8822-c78979196865"
      },
      "execution_count": null,
      "outputs": [
        {
          "output_type": "stream",
          "name": "stdout",
          "text": [
            "1. Solta\n",
            "2. Greenville\n",
            "3. Buenos Aires\n",
            "4. Los Cabos\n",
            "5. Walla Walla Valley\n",
            "6. Marakesh\n",
            "7. Albuquerque\n",
            "8. Archipelago Sea\n",
            "9. Iguazu Falls\n",
            "10. Salina Island\n",
            "11. Toronto\n",
            "12. Pyeongchang\n"
          ]
        }
      ]
    },
    {
      "cell_type": "code",
      "source": [],
      "metadata": {
        "id": "PDeOLg9Sf-HT"
      },
      "execution_count": null,
      "outputs": []
    },
    {
      "cell_type": "code",
      "execution_count": null,
      "metadata": {
        "id": "UUZlzNMgV4Z7",
        "colab": {
          "base_uri": "https://localhost:8080/"
        },
        "outputId": "fed2f2b7-649d-44d3-ff31-b353194f4653"
      },
      "outputs": [
        {
          "output_type": "execute_result",
          "data": {
            "text/plain": [
              "['1. Solta',\n",
              " '2. Greenville',\n",
              " '3. Buenos Aires',\n",
              " '4. Los Cabos',\n",
              " '5. Walla Walla Valley',\n",
              " '6. Marakesh',\n",
              " '7. Albuquerque',\n",
              " '8. Archipelago Sea',\n",
              " '9. Iguazu Falls',\n",
              " '10. Salina Island',\n",
              " '11. Toronto',\n",
              " '12. Pyeongchang']"
            ]
          },
          "metadata": {},
          "execution_count": 35
        }
      ],
      "source": [
        "names_and_ranks = []\n",
        "for city in range(len(cities)):\n",
        "  names_and_ranks .append('%s. %s'%(city+1,cities[city]['City']))\n",
        "\n",
        "names_and_ranks\n",
        "\n",
        "# write a for loop that adds the properly formatted string to the names_and_ranks list"
      ]
    },
    {
      "cell_type": "code",
      "execution_count": null,
      "metadata": {
        "id": "jhrGrbV7V4Z7",
        "colab": {
          "base_uri": "https://localhost:8080/"
        },
        "outputId": "55afc245-c304-4cd2-f4fe-789377a2e065"
      },
      "outputs": [
        {
          "output_type": "stream",
          "name": "stdout",
          "text": [
            "1. Solta\n",
            "2. Greenville\n",
            "12. Pyeongchang\n"
          ]
        }
      ],
      "source": [
        "# run this cell to check that your output matches the format\n",
        "print(names_and_ranks[0]) # '1. Buenos Aires'\n",
        "print(names_and_ranks[1]) # '2. Toronto'\n",
        "print(names_and_ranks[-1]) # '12. Iguazu Falls'"
      ]
    },
    {
      "cell_type": "markdown",
      "metadata": {
        "id": "0mfIGAfAV4Z7"
      },
      "source": [
        "Ok, now use another `for` loop to iterate through our list of `cities` and create a new list called `city_populations` that has the population for each city (`Population`)."
      ]
    },
    {
      "cell_type": "code",
      "source": [
        "cities[0]['Population']"
      ],
      "metadata": {
        "id": "34v-cEv5P-0G",
        "outputId": "2b71bfa6-0316-413d-d6af-826f55a70d00",
        "colab": {
          "base_uri": "https://localhost:8080/"
        }
      },
      "execution_count": null,
      "outputs": [
        {
          "output_type": "execute_result",
          "data": {
            "text/plain": [
              "1700"
            ]
          },
          "metadata": {},
          "execution_count": 40
        }
      ]
    },
    {
      "cell_type": "code",
      "execution_count": null,
      "metadata": {
        "id": "DSeGhyGKV4Z7",
        "colab": {
          "base_uri": "https://localhost:8080/"
        },
        "outputId": "2972889f-1b81-43c3-dfa5-8e789eb206cc"
      },
      "outputs": [
        {
          "output_type": "execute_result",
          "data": {
            "text/plain": [
              "['1. 1700',\n",
              " '2. 84554',\n",
              " '3. 13591863',\n",
              " '4. 287651',\n",
              " '5. 32237',\n",
              " '6. 928850',\n",
              " '7. 559277',\n",
              " '8. 60000',\n",
              " '9. 0',\n",
              " '10. 4000',\n",
              " '11. 630',\n",
              " '12. 2581000']"
            ]
          },
          "metadata": {},
          "execution_count": 55
        }
      ],
      "source": [
        "city_populations = []\n",
        "# use a for loop to iterate through the list of cities with their corresponding population\n",
        "for population in range(len(cities)):\n",
        "  #print('%s. %s'%(population+1,cities[population]['Population']))\n",
        "  city_populations.append('%s. %s'%(population+1,cities[population]['Population']))\n",
        "city_populations"
      ]
    },
    {
      "cell_type": "code",
      "execution_count": null,
      "metadata": {
        "id": "i8CND2D2V4Z7",
        "colab": {
          "base_uri": "https://localhost:8080/"
        },
        "outputId": "b7adcf81-7c89-48e2-fe5a-ae0c9b69fd5a"
      },
      "outputs": [
        {
          "output_type": "stream",
          "name": "stdout",
          "text": [
            "1. 1700\n",
            "2. 84554\n",
            "12. 2581000\n"
          ]
        }
      ],
      "source": [
        "print(city_populations[0]) # 2891000\n",
        "print(city_populations[1]) # 2800000\n",
        "print(city_populations[-1]) # 0"
      ]
    },
    {
      "cell_type": "markdown",
      "metadata": {
        "id": "s5ciD46CV4Z7"
      },
      "source": [
        "Great! Now we can begin to plot this data. Again, we'll used `matplotlib` to create a bar graph with our cities and their respective population data. To do this, we use the `.bar()` function and pass in our x-axis and y-axis values, add a label and title, and finally we call the `.show()` function to view our new bar graph.\n",
        "\n",
        "> **Note:** In the example below, we are adding a custom rotation for our x-axis labels so that they do not overlap."
      ]
    },
    {
      "cell_type": "code",
      "execution_count": null,
      "metadata": {
        "id": "4KwZ3-5xV4Z7",
        "colab": {
          "base_uri": "https://localhost:8080/",
          "height": 582
        },
        "outputId": "970b5fcf-8df1-457e-a509-1059aab44e7a"
      },
      "outputs": [
        {
          "output_type": "display_data",
          "data": {
            "text/plain": [
              "<Figure size 640x480 with 1 Axes>"
            ],
            "image/png": "[encoded data removed]"
          },
          "metadata": {}
        }
      ],
      "source": [
        "plt.bar(names_and_ranks, city_populations)\n",
        "plt.xticks(rotation='vertical')\n",
        "plt.ylabel('Population')\n",
        "plt.title('City Populations')\n",
        "plt.show()"
      ]
    },
    {
      "cell_type": "markdown",
      "metadata": {
        "id": "gxmXwPgOV4Z7"
      },
      "source": [
        "Now we want declare a variable called `city_areas` that points to a list of all of the areas of the cities.  Let's use a `for` loop to iterate through our `cities` and have `city_areas` equal to each area of the city.  "
      ]
    },
    {
      "cell_type": "code",
      "source": [
        "range(len(cities))"
      ],
      "metadata": {
        "id": "Nf56SsG3TkR6",
        "outputId": "239687c8-fdc5-4f22-d975-b38dbeb51508",
        "colab": {
          "base_uri": "https://localhost:8080/"
        }
      },
      "execution_count": null,
      "outputs": [
        {
          "output_type": "execute_result",
          "data": {
            "text/plain": [
              "range(0, 12)"
            ]
          },
          "metadata": {},
          "execution_count": 59
        }
      ]
    },
    {
      "cell_type": "code",
      "source": [
        "type(city_areas)"
      ],
      "metadata": {
        "id": "d0q5DaFeUT12",
        "outputId": "1dc2984e-315e-46a6-f8cd-2e96e361c7fb",
        "colab": {
          "base_uri": "https://localhost:8080/"
        }
      },
      "execution_count": null,
      "outputs": [
        {
          "output_type": "execute_result",
          "data": {
            "text/plain": [
              "list"
            ]
          },
          "metadata": {},
          "execution_count": 63
        }
      ]
    },
    {
      "cell_type": "code",
      "execution_count": null,
      "metadata": {
        "id": "WPIoVemDV4Z7",
        "colab": {
          "base_uri": "https://localhost:8080/"
        },
        "outputId": "0926a9d2-9556-42c9-f260-73e81038dcda"
      },
      "outputs": [
        {
          "output_type": "execute_result",
          "data": {
            "text/plain": [
              "['1. 59',\n",
              " '2. 68',\n",
              " '3. 4758',\n",
              " '4. 3750',\n",
              " '5. 33',\n",
              " '6. 200',\n",
              " '7. 491',\n",
              " '8. 8300',\n",
              " '9. 672',\n",
              " '10. 27',\n",
              " '11. 2731571',\n",
              " '12. 3194']"
            ]
          },
          "metadata": {},
          "execution_count": 62
        }
      ],
      "source": [
        "city_areas = []\n",
        "for area in range(len(cities)):\n",
        "  #print('%s. %s'%(area,cities[area]['Area']))\n",
        "  city_areas.append('%s. %s'%(area+1,cities[area]['Area']))\n",
        "city_areas\n",
        "#write a for loop that adds the 'Area' of each city to the list city_areas"
      ]
    },
    {
      "cell_type": "markdown",
      "metadata": {
        "id": "Bz40-aRIV4Z7"
      },
      "source": [
        "Now that we have the city areas and populations, let's plot them to see how the size of each city compares to its population."
      ]
    },
    {
      "cell_type": "code",
      "execution_count": null,
      "metadata": {
        "id": "ERVRfRcvV4Z7",
        "colab": {
          "base_uri": "https://localhost:8080/",
          "height": 601
        },
        "outputId": "40b666d4-56c8-4cf8-9539-fab86a0f1935"
      },
      "outputs": [
        {
          "output_type": "display_data",
          "data": {
            "text/plain": [
              "<Figure size 640x480 with 1 Axes>"
            ],
            "image/png": "[encoded data removed]"
          },
          "metadata": {}
        }
      ],
      "source": [
        "plt.bar(names_and_ranks, city_populations)\n",
        "\n",
        "plt.ylabel('Population')\n",
        "plt.xlabel('Cities')\n",
        "plt.title('City Populations')\n",
        "plt.xticks(rotation='vertical')\n",
        "\n",
        "plt.show()"
      ]
    },
    {
      "cell_type": "code",
      "execution_count": null,
      "metadata": {
        "id": "T2AsRDyeV4Z7",
        "colab": {
          "base_uri": "https://localhost:8080/",
          "height": 601
        },
        "outputId": "f84e5180-2ad3-4797-90f8-db676a1b9ec4"
      },
      "outputs": [
        {
          "output_type": "display_data",
          "data": {
            "text/plain": [
              "<Figure size 640x480 with 1 Axes>"
            ],
            "image/png": "[encoded data removed]"
          },
          "metadata": {}
        }
      ],
      "source": [
        "plt.bar(names_and_ranks, city_areas)\n",
        "plt.ylabel('Area')\n",
        "plt.xlabel('Cities')\n",
        "plt.title('City Areas')\n",
        "plt.xticks(rotation='vertical')\n",
        "\n",
        "plt.show()"
      ]
    },
    {
      "cell_type": "markdown",
      "metadata": {
        "id": "AMUA8dUDV4Z8"
      },
      "source": [
        "## Summary\n",
        "\n",
        "In this section we saw how we can use `for` loops to go through elements of a list and perform the same operation on each.  By using `for` loops we were able to reduce the amount of code that we wrote and write more expressive code."
      ]
    }
  ],
  "metadata": {
    "kernelspec": {
      "display_name": "Python 3.8.5 ('learn-env')",
      "language": "python",
      "name": "python3"
    },
    "language_info": {
      "codemirror_mode": {
        "name": "ipython",
        "version": 3
      },
      "file_extension": ".py",
      "mimetype": "text/x-python",
      "name": "python",
      "nbconvert_exporter": "python",
      "pygments_lexer": "ipython3",
      "version": "3.8.5"
    },
    "vscode": {
      "interpreter": {
        "hash": "7525ddc99344d304bee386e4294f627a69ef3ddf90a93199e89e426185c49e1b"
      }
    },
    "colab": {
      "provenance": [],
      "include_colab_link": true
    }
  },
  "nbformat": 4,
  "nbformat_minor": 0
}