{
  "cells": [
    {
      "cell_type": "markdown",
      "metadata": {
        "id": "view-in-github",
        "colab_type": "text"
      },
      "source": [
        "<a href=\"https://colab.research.google.com/github/GraceMwende/Data_science_notebooks/blob/main/Copy_of_Nested_Loops_Lab.ipynb\" target=\"_parent\"><img src=\"https://colab.research.google.com/assets/colab-badge.svg\" alt=\"Open In Colab\"/></a>"
      ]
    },
    {
      "cell_type": "markdown",
      "metadata": {
        "id": "ri6IV5NGYNCp"
      },
      "source": [
        "# Using Nested Loops - Lab"
      ]
    },
    {
      "cell_type": "markdown",
      "metadata": {
        "id": "bTTQiVmBYNCr"
      },
      "source": [
        "## Introduction\n",
        "In this lab, you'll practice using nested loops to iterate over nested data structures and create new collections. To do this, you'll be using data from a soccer match to practice our nested loops."
      ]
    },
    {
      "cell_type": "markdown",
      "metadata": {
        "id": "W5Mrs7ezYNCr"
      },
      "source": [
        "## Objectives\n",
        "\n",
        "You will be able to:\n",
        "\n",
        "* Use a nested loop when it is appropriate"
      ]
    },
    {
      "cell_type": "markdown",
      "metadata": {
        "id": "bzqIxl5IYNCs"
      },
      "source": [
        "## Instructions"
      ]
    },
    {
      "cell_type": "markdown",
      "metadata": {
        "id": "8oSwMc42YNCs"
      },
      "source": [
        "Use nested loops and the below object, `soccer_match`, to complete the following prompts and get the desired return values."
      ]
    },
    {
      "cell_type": "code",
      "execution_count": 2,
      "metadata": {
        "id": "nTvz3oziYNCs"
      },
      "outputs": [],
      "source": [
        "# Run this cell without changes\n",
        "soccer_match = [\n",
        "  { \"home_team\": True,\n",
        "    \"away_team\": False,\n",
        "    \"country\": \"France\",\n",
        "    \"num_passes\": 484,\n",
        "    \"passes_completed\": 423,\n",
        "    \"fouls_committed\": 16,\n",
        "    \"colors\": [\"blue\", \"white\", \"red\"],\n",
        "    \"players\": [\n",
        "      {\n",
        "        \"name\": \"Hugo LLORIS\",\n",
        "        \"captain\": True,\n",
        "        \"shirt_number\": 1,\n",
        "        \"position\": \"Goalie\"\n",
        "      },\n",
        "      {\n",
        "        \"name\": \"Benjamin PAVARD\",\n",
        "        \"captain\": False,\n",
        "        \"shirt_number\": 2,\n",
        "        \"position\": \"Defender\"\n",
        "      },\n",
        "      {\n",
        "        \"name\": \"Raphael VARANE\",\n",
        "        \"captain\": False,\n",
        "        \"shirt_number\": 4,\n",
        "        \"position\": \"Defender\"\n",
        "      },\n",
        "      {\n",
        "        \"name\": \"Samuel UMTITI\",\n",
        "        \"captain\": False,\n",
        "        \"shirt_number\": 5,\n",
        "        \"position\": \"Defender\"\n",
        "      },\n",
        "      {\n",
        "        \"name\": \"Paul POGBA\",\n",
        "        \"captain\": False,\n",
        "        \"shirt_number\": 6,\n",
        "        \"position\": \"Midfield\"\n",
        "      },\n",
        "      {\n",
        "        \"name\": \"Antoine GRIEZMANN\",\n",
        "        \"captain\": False,\n",
        "        \"shirt_number\": 7,\n",
        "        \"position\": \"Forward\"\n",
        "      },\n",
        "      {\n",
        "        \"name\": \"Kylian MBAPPE\",\n",
        "        \"captain\": False,\n",
        "        \"shirt_number\": 10,\n",
        "        \"position\": \"Forward\"\n",
        "      },\n",
        "      {\n",
        "        \"name\": \"Ousmane DEMBELE\",\n",
        "        \"captain\": False,\n",
        "        \"shirt_number\": 11,\n",
        "        \"position\": \"Forward\"\n",
        "      },\n",
        "      {\n",
        "        \"name\": \"Corentin TOLISSO\",\n",
        "        \"captain\": False,\n",
        "        \"shirt_number\": 12,\n",
        "        \"position\": \"Midfield\"\n",
        "      },\n",
        "      {\n",
        "        \"name\": \"Ngolo KANTE\",\n",
        "        \"captain\": False,\n",
        "        \"shirt_number\": 13,\n",
        "        \"position\": \"Midfield\"\n",
        "      },\n",
        "      {\n",
        "        \"name\": \"Lucas HERNANDEZ\",\n",
        "        \"captain\": False,\n",
        "        \"shirt_number\": 21,\n",
        "        \"position\": \"Defender\"\n",
        "      }\n",
        "    ],\n",
        "  },\n",
        "  { \"home_team\": False,\n",
        "    \"away_team\": True,\n",
        "    \"country\": \"Australia\",\n",
        "    \"num_passes\": 390,\n",
        "    \"passes_completed\": 332,\n",
        "    \"fouls_committed\": 19,\n",
        "    \"colors\": [\"green\", \"gold\"],\n",
        "    \"players\": [\n",
        "      {\n",
        "        \"name\": \"Mathew RYAN\",\n",
        "        \"captain\": False,\n",
        "        \"shirt_number\": 1,\n",
        "        \"position\": \"Goalie\"\n",
        "      },\n",
        "      {\n",
        "        \"name\": \"Mark MILLIGAN\",\n",
        "        \"captain\": False,\n",
        "        \"shirt_number\": 5,\n",
        "        \"position\": \"Defender\"\n",
        "      },\n",
        "      {\n",
        "        \"name\": \"Mathew LECKIE\",\n",
        "        \"captain\": False,\n",
        "        \"shirt_number\": 7,\n",
        "        \"position\": \"Forward\"\n",
        "      },\n",
        "      {\n",
        "        \"name\": \"Robbie KRUSE\",\n",
        "        \"captain\": False,\n",
        "        \"shirt_number\": 10,\n",
        "        \"position\": \"Forward\"\n",
        "      },\n",
        "      {\n",
        "        \"name\": \"Andrew NABBOUT\",\n",
        "        \"captain\": False,\n",
        "        \"shirt_number\": 11,\n",
        "        \"position\": \"Forward\"\n",
        "      },\n",
        "      {\n",
        "        \"name\": \"Aaron MOOY\",\n",
        "        \"captain\": False,\n",
        "        \"shirt_number\": 13,\n",
        "        \"position\": \"Midfield\"\n",
        "      },\n",
        "      {\n",
        "        \"name\": \"Mile JEDINAK\",\n",
        "        \"captain\": True,\n",
        "        \"shirt_number\": 15,\n",
        "        \"position\": \"Midfield\"\n",
        "      },\n",
        "      {\n",
        "        \"name\": \"Aziz BEHICH\",\n",
        "        \"captain\": False,\n",
        "        \"shirt_number\": 16,\n",
        "        \"position\": \"Defender\"\n",
        "      },\n",
        "      {\n",
        "        \"name\": \"Joshua RISDON\",\n",
        "        \"captain\": False,\n",
        "        \"shirt_number\": 19,\n",
        "        \"position\": \"Defender\"\n",
        "      },\n",
        "      {\n",
        "        \"name\": \"Trent SAINSBURY\",\n",
        "        \"captain\": False,\n",
        "        \"shirt_number\": 20,\n",
        "        \"position\": \"Defender\"\n",
        "      },\n",
        "      {\n",
        "        \"name\": \"Tom ROGIC\",\n",
        "        \"captain\": False,\n",
        "        \"shirt_number\": 23,\n",
        "        \"position\": \"Midfield\"\n",
        "      }\n",
        "    ]\n",
        "  }\n",
        "]"
      ]
    },
    {
      "cell_type": "markdown",
      "metadata": {
        "id": "lTdJMbKfYNCt"
      },
      "source": [
        "Let's take a look at some properties of this nested data structure:"
      ]
    },
    {
      "cell_type": "code",
      "execution_count": null,
      "metadata": {
        "id": "q0HQUkGCYNCt",
        "outputId": "88af1197-b2b2-40db-ee3b-f5150f83263c",
        "colab": {
          "base_uri": "https://localhost:8080/"
        }
      },
      "outputs": [
        {
          "output_type": "stream",
          "name": "stdout",
          "text": [
            "Information about soccer_match\n",
            "Type: <class 'list'>\n",
            "Length: 2\n",
            "\n",
            "Information about soccer_match[0]:\n",
            "Type: <class 'dict'>\n",
            "Length: 8\n",
            "Keys: dict_keys(['home_team', 'away_team', 'country', 'num_passes', 'passes_completed', 'fouls_committed', 'colors', 'players'])\n",
            "Values: dict_values([False, True, 'Australia', 390, 332, 19, ['green', 'gold'], [{'name': 'Mathew RYAN', 'captain': False, 'shirt_number': 1, 'position': 'Goalie'}, {'name': 'Mark MILLIGAN', 'captain': False, 'shirt_number': 5, 'position': 'Defender'}, {'name': 'Mathew LECKIE', 'captain': False, 'shirt_number': 7, 'position': 'Forward'}, {'name': 'Robbie KRUSE', 'captain': False, 'shirt_number': 10, 'position': 'Forward'}, {'name': 'Andrew NABBOUT', 'captain': False, 'shirt_number': 11, 'position': 'Forward'}, {'name': 'Aaron MOOY', 'captain': False, 'shirt_number': 13, 'position': 'Midfield'}, {'name': 'Mile JEDINAK', 'captain': True, 'shirt_number': 15, 'position': 'Midfield'}, {'name': 'Aziz BEHICH', 'captain': False, 'shirt_number': 16, 'position': 'Defender'}, {'name': 'Joshua RISDON', 'captain': False, 'shirt_number': 19, 'position': 'Defender'}, {'name': 'Trent SAINSBURY', 'captain': False, 'shirt_number': 20, 'position': 'Defender'}, {'name': 'Tom ROGIC', 'captain': False, 'shirt_number': 23, 'position': 'Midfield'}]])\n"
          ]
        }
      ],
      "source": [
        "# Run this cell without changes\n",
        "\n",
        "print(\"Information about soccer_match\")\n",
        "print(\"Type:\", type(soccer_match))\n",
        "print(\"Length:\", len(soccer_match))\n",
        "print()\n",
        "\n",
        "print(\"Information about soccer_match[0]:\")\n",
        "print(\"Type:\", type(soccer_match[0]))\n",
        "print(\"Length:\", len(soccer_match[0]))\n",
        "print(\"Keys:\", soccer_match[0].keys())\n",
        "print(\"Values:\", soccer_match[1].values())"
      ]
    },
    {
      "cell_type": "markdown",
      "metadata": {
        "id": "ZUBHyk7qYNCt"
      },
      "source": [
        "Before looking at the answer below, try to identify: **what does `soccer_match` represent overall, and what does each record within `soccer_match` represent?**\n",
        "\n",
        ".\n",
        "\n",
        ".\n",
        "\n",
        ".\n",
        "\n",
        "*`soccer_match` represents a soccer match (game) containing a home team and an away team. Each record within `soccer_match` represents a team that participated in the match, and their associated stats.*"
      ]
    },
    {
      "cell_type": "markdown",
      "metadata": {
        "id": "Iob6rEhsYNCu"
      },
      "source": [
        "## Countries: A List of Strings\n",
        "\n",
        "In the cell below, iterate over the `soccer_match` list to create a new list with the name of the country for each team."
      ]
    },
    {
      "cell_type": "code",
      "execution_count": null,
      "metadata": {
        "id": "FIx_wxCYYNCu",
        "outputId": "d56559ba-7271-4bec-b92f-4ea325c43d7b",
        "colab": {
          "base_uri": "https://localhost:8080/"
        }
      },
      "outputs": [
        {
          "output_type": "execute_result",
          "data": {
            "text/plain": [
              "['France', 'Australia']"
            ]
          },
          "metadata": {},
          "execution_count": 12
        }
      ],
      "source": [
        "countries = []\n",
        "\n",
        "# Your code here\n",
        "for soccer in soccer_match:\n",
        "  #print(soccer['country'])\n",
        "  countries.append(soccer['country'])\n",
        "\n",
        "countries # ['France', 'Australia']"
      ]
    },
    {
      "cell_type": "markdown",
      "metadata": {
        "id": "Jqhht7wPYNCu"
      },
      "source": [
        "## Colors: Another List of Strings!\n",
        "\n",
        "In the cell below, iterate over the `soccer_match` list to create a new list with the colors for each team.\n",
        "\n",
        "This should be only one list containing strings for each of the country's colors, not a list of lists."
      ]
    },
    {
      "cell_type": "code",
      "execution_count": null,
      "metadata": {
        "id": "FCuqNaIwYNCu",
        "outputId": "4b56c169-6271-4850-c1a1-0e4949876e46",
        "colab": {
          "base_uri": "https://localhost:8080/"
        }
      },
      "outputs": [
        {
          "output_type": "execute_result",
          "data": {
            "text/plain": [
              "['blue', 'white', 'red', 'green', 'gold']"
            ]
          },
          "metadata": {},
          "execution_count": 27
        }
      ],
      "source": [
        "colors = []\n",
        "\n",
        "# Your code here\n",
        "for soccer in  soccer_match:\n",
        "  #print(soccer['colors'])\n",
        "  for color in soccer['colors']:\n",
        "    #print(color)\n",
        "    colors.append(color)\n",
        "colors # ['blue', 'white', 'red', 'green', 'gold']"
      ]
    },
    {
      "cell_type": "markdown",
      "metadata": {
        "id": "sPMerklLYNCu"
      },
      "source": [
        "## Players: A List of Dictionaries\n",
        "\n",
        "This time, iterate over the `soccer_match` list to create a new list with the players from each team. `players` should be a single list containing the dictionaries for each of the country's players."
      ]
    },
    {
      "cell_type": "code",
      "execution_count": null,
      "metadata": {
        "id": "_xh2W0E3YNCu",
        "outputId": "58738de8-9af6-4257-a005-63991e2e92f9",
        "colab": {
          "base_uri": "https://localhost:8080/"
        }
      },
      "outputs": [
        {
          "output_type": "stream",
          "name": "stdout",
          "text": [
            "[{'name': 'Hugo LLORIS', 'captain': True, 'shirt_number': 1, 'position': 'Goalie'}, {'name': 'Benjamin PAVARD', 'captain': False, 'shirt_number': 2, 'position': 'Defender'}, {'name': 'Raphael VARANE', 'captain': False, 'shirt_number': 4, 'position': 'Defender'}, {'name': 'Samuel UMTITI', 'captain': False, 'shirt_number': 5, 'position': 'Defender'}, {'name': 'Paul POGBA', 'captain': False, 'shirt_number': 6, 'position': 'Midfield'}, {'name': 'Antoine GRIEZMANN', 'captain': False, 'shirt_number': 7, 'position': 'Forward'}, {'name': 'Kylian MBAPPE', 'captain': False, 'shirt_number': 10, 'position': 'Forward'}, {'name': 'Ousmane DEMBELE', 'captain': False, 'shirt_number': 11, 'position': 'Forward'}, {'name': 'Corentin TOLISSO', 'captain': False, 'shirt_number': 12, 'position': 'Midfield'}, {'name': 'Ngolo KANTE', 'captain': False, 'shirt_number': 13, 'position': 'Midfield'}, {'name': 'Lucas HERNANDEZ', 'captain': False, 'shirt_number': 21, 'position': 'Defender'}, {'name': 'Mathew RYAN', 'captain': False, 'shirt_number': 1, 'position': 'Goalie'}, {'name': 'Mark MILLIGAN', 'captain': False, 'shirt_number': 5, 'position': 'Defender'}, {'name': 'Mathew LECKIE', 'captain': False, 'shirt_number': 7, 'position': 'Forward'}, {'name': 'Robbie KRUSE', 'captain': False, 'shirt_number': 10, 'position': 'Forward'}, {'name': 'Andrew NABBOUT', 'captain': False, 'shirt_number': 11, 'position': 'Forward'}, {'name': 'Aaron MOOY', 'captain': False, 'shirt_number': 13, 'position': 'Midfield'}, {'name': 'Mile JEDINAK', 'captain': True, 'shirt_number': 15, 'position': 'Midfield'}, {'name': 'Aziz BEHICH', 'captain': False, 'shirt_number': 16, 'position': 'Defender'}, {'name': 'Joshua RISDON', 'captain': False, 'shirt_number': 19, 'position': 'Defender'}, {'name': 'Trent SAINSBURY', 'captain': False, 'shirt_number': 20, 'position': 'Defender'}, {'name': 'Tom ROGIC', 'captain': False, 'shirt_number': 23, 'position': 'Midfield'}]\n"
          ]
        }
      ],
      "source": [
        "players = []\n",
        "\n",
        "# Your code here\n",
        "for soccer in soccer_match:\n",
        "  #print(soccer['players'])\n",
        "  for player in soccer['players']:\n",
        "    #print(player)\n",
        "    players.append(player)\n",
        "\n",
        "print(players) # [{'name': 'Hugo LLORIS', 'captain': True, 'shirt_number': 1, 'position': 'Goalie'}, {'name': 'Benjamin PAVARD',...}, ...]"
      ]
    },
    {
      "cell_type": "markdown",
      "metadata": {
        "id": "hkcdLDKsYNCu"
      },
      "source": [
        "## Captains: Another List of Dictionaries!\n",
        "\n",
        "Iterate over the `soccer_match` list to create a new list with the captains from each team.\n",
        "\n",
        "This should be a single list containing the dictionaries for each of the countries' captains."
      ]
    },
    {
      "cell_type": "code",
      "execution_count": null,
      "metadata": {
        "id": "MV5Ey33nYNCu",
        "outputId": "176dfcdd-6157-4718-802c-6bc159b8b616",
        "colab": {
          "base_uri": "https://localhost:8080/"
        }
      },
      "outputs": [
        {
          "output_type": "execute_result",
          "data": {
            "text/plain": [
              "[{'name': 'Hugo LLORIS',\n",
              "  'captain': True,\n",
              "  'shirt_number': 1,\n",
              "  'position': 'Goalie'},\n",
              " {'name': 'Mile JEDINAK',\n",
              "  'captain': True,\n",
              "  'shirt_number': 15,\n",
              "  'position': 'Midfield'}]"
            ]
          },
          "metadata": {},
          "execution_count": 39
        }
      ],
      "source": [
        "captains = []\n",
        "\n",
        "# Your code here\n",
        "for soccer in soccer_match:\n",
        "  #print(soccer['players'])\n",
        "  for player in soccer['players']:\n",
        "    if player['captain']:\n",
        "      #print(player)\n",
        "      captains.append(player)\n",
        "captains # One captain per team:\n",
        "# [{'name': 'Hugo LLORIS',\n",
        "#   'captain': True,\n",
        "#   'shirt_number': 1,\n",
        "#   'position': 'Goalie'},\n",
        "#  {'name': 'Mile JEDINAK',\n",
        "#   'captain': True,\n",
        "#   'shirt_number': 15,\n",
        "#   'position': 'Midfield'}]"
      ]
    },
    {
      "cell_type": "markdown",
      "metadata": {
        "id": "xwfZVMCqYNCv"
      },
      "source": [
        "## Home Team Players: A Third List of Dictionaries\n",
        "\n",
        "Iterate over the `soccer_match` list to create a new list with the players from ONLY the home team.\n",
        "\n",
        "Do not \"hard-code\" which team this is; use the `'home_team'` key."
      ]
    },
    {
      "cell_type": "code",
      "execution_count": null,
      "metadata": {
        "id": "vApzGKsJYNCv",
        "outputId": "c8609d77-f730-46ca-cd38-f819a88d37ee",
        "colab": {
          "base_uri": "https://localhost:8080/"
        }
      },
      "outputs": [
        {
          "output_type": "execute_result",
          "data": {
            "text/plain": [
              "[[{'name': 'Hugo LLORIS',\n",
              "   'captain': True,\n",
              "   'shirt_number': 1,\n",
              "   'position': 'Goalie'},\n",
              "  {'name': 'Benjamin PAVARD',\n",
              "   'captain': False,\n",
              "   'shirt_number': 2,\n",
              "   'position': 'Defender'},\n",
              "  {'name': 'Raphael VARANE',\n",
              "   'captain': False,\n",
              "   'shirt_number': 4,\n",
              "   'position': 'Defender'},\n",
              "  {'name': 'Samuel UMTITI',\n",
              "   'captain': False,\n",
              "   'shirt_number': 5,\n",
              "   'position': 'Defender'},\n",
              "  {'name': 'Paul POGBA',\n",
              "   'captain': False,\n",
              "   'shirt_number': 6,\n",
              "   'position': 'Midfield'},\n",
              "  {'name': 'Antoine GRIEZMANN',\n",
              "   'captain': False,\n",
              "   'shirt_number': 7,\n",
              "   'position': 'Forward'},\n",
              "  {'name': 'Kylian MBAPPE',\n",
              "   'captain': False,\n",
              "   'shirt_number': 10,\n",
              "   'position': 'Forward'},\n",
              "  {'name': 'Ousmane DEMBELE',\n",
              "   'captain': False,\n",
              "   'shirt_number': 11,\n",
              "   'position': 'Forward'},\n",
              "  {'name': 'Corentin TOLISSO',\n",
              "   'captain': False,\n",
              "   'shirt_number': 12,\n",
              "   'position': 'Midfield'},\n",
              "  {'name': 'Ngolo KANTE',\n",
              "   'captain': False,\n",
              "   'shirt_number': 13,\n",
              "   'position': 'Midfield'},\n",
              "  {'name': 'Lucas HERNANDEZ',\n",
              "   'captain': False,\n",
              "   'shirt_number': 21,\n",
              "   'position': 'Defender'}]]"
            ]
          },
          "metadata": {},
          "execution_count": 44
        }
      ],
      "source": [
        "home_team_players = []\n",
        "\n",
        "# Your code here\n",
        "for soccer in soccer_match:\n",
        "  if soccer['home_team']==True:\n",
        "    #print(soccer['players'])\n",
        "    home_team_players.append(soccer['players'])\n",
        "home_team_players\n",
        "\n",
        "# [{'name': 'Hugo LLORIS',\n",
        "#   'captain': True,\n",
        "#   'shirt_number': 1,\n",
        "#   'position': 'Goalie'},\n",
        "#  ...\n",
        "#  {'name': 'Lucas HERNANDEZ',\n",
        "#   'captain': False,\n",
        "#   'shirt_number': 21,\n",
        "#   'position': 'Defender'}]"
      ]
    },
    {
      "cell_type": "markdown",
      "metadata": {
        "id": "qXaGCBVjYNCv"
      },
      "source": [
        "## Away Team Forwards: Yup, a List of Dictionaries\n",
        "\n",
        "Iterate over the `soccer_match` list to create a new list with the information for each of the away team players whose `position` is `\"Forward\"`."
      ]
    },
    {
      "cell_type": "code",
      "execution_count": null,
      "metadata": {
        "id": "v0FWs_QdYNCv",
        "outputId": "4dbd8f5d-316a-4bd4-fb54-c5791d806026",
        "colab": {
          "base_uri": "https://localhost:8080/"
        }
      },
      "outputs": [
        {
          "output_type": "execute_result",
          "data": {
            "text/plain": [
              "[{'name': 'Mathew LECKIE',\n",
              "  'captain': False,\n",
              "  'shirt_number': 7,\n",
              "  'position': 'Forward'},\n",
              " {'name': 'Robbie KRUSE',\n",
              "  'captain': False,\n",
              "  'shirt_number': 10,\n",
              "  'position': 'Forward'},\n",
              " {'name': 'Andrew NABBOUT',\n",
              "  'captain': False,\n",
              "  'shirt_number': 11,\n",
              "  'position': 'Forward'}]"
            ]
          },
          "metadata": {},
          "execution_count": 56
        }
      ],
      "source": [
        "away_team_forwards = []\n",
        "\n",
        "# Your code here\n",
        "for soccer in soccer_match:\n",
        "  if soccer['away_team']==True:\n",
        "    #print(soccer['players'])\n",
        "    for player in soccer['players']:\n",
        "      if player['position']=='Forward':\n",
        "        #print(player)\n",
        "        away_team_forwards.append(player)\n",
        "\n",
        "away_team_forwards\n",
        "\n",
        "# [{'name': 'Mathew LECKIE',\n",
        "#   'captain': False,\n",
        "#   'shirt_number': 7,\n",
        "#   'position': 'Forward'},\n",
        "#  {'name': 'Robbie KRUSE',\n",
        "#   'captain': False,\n",
        "#   'shirt_number': 10,\n",
        "#   'position': 'Forward'},\n",
        "#  {'name': 'Andrew NABBOUT',\n",
        "#   'captain': False,\n",
        "#   'shirt_number': 11,\n",
        "#   'position': 'Forward'}]"
      ]
    },
    {
      "cell_type": "markdown",
      "metadata": {
        "id": "vdTnuuLiYNCv"
      },
      "source": [
        "## Player with the Highest Number\n",
        "\n",
        "Iterate over the `soccer_match` list and find the player with the highest `shirt_number`.  \n",
        "Store this player's information in the `player_with_highest_num` variable."
      ]
    },
    {
      "cell_type": "code",
      "execution_count": null,
      "metadata": {
        "id": "b3Qh6HEEYNCv",
        "outputId": "f3d4bebf-3b55-494a-c7c8-0c5bc63f8a20",
        "colab": {
          "base_uri": "https://localhost:8080/"
        }
      },
      "outputs": [
        {
          "output_type": "stream",
          "name": "stdout",
          "text": [
            "{'name': 'Tom ROGIC', 'captain': False, 'shirt_number': 23, 'position': 'Midfield'}\n"
          ]
        }
      ],
      "source": [
        "player_with_highest_num = []\n",
        "shirt_number=[]\n",
        "\n",
        "# Your code here\n",
        "for soccer in soccer_match:\n",
        "  for player in soccer['players']:\n",
        "    #print(player)\n",
        "    shirt_number.append(player['shirt_number'])\n",
        "if player['shirt_number']==max(shirt_number):\n",
        "  #print(player)\n",
        "  player_with_highest_num=player\n",
        "\n",
        "\n",
        "\n",
        "print(player_with_highest_num)\n",
        "\n",
        "# {'name': 'Tom ROGIC',\n",
        "#  'captain': False,\n",
        "#  'shirt_number': 23,\n",
        "#  'position': 'Midfield'}"
      ]
    },
    {
      "cell_type": "markdown",
      "source": [
        "# Player Names: A Cleaned List\n",
        "\n",
        "Notice that the players oddly have their last names in all caps. Create a list of all the names of the players in this match. Be sure to make sure their first and last names are properly capitalized (first letter upper case, proceeding letters lower case), as opposed to how they are currently formatted."
      ],
      "metadata": {
        "id": "gmEHfCSPITAv"
      }
    },
    {
      "cell_type": "code",
      "execution_count": 10,
      "metadata": {
        "id": "BPfCuWAPYNCv",
        "colab": {
          "base_uri": "https://localhost:8080/"
        },
        "outputId": "72b93f9b-4d3c-44e6-d325-dbd9fdd46173"
      },
      "outputs": [
        {
          "output_type": "execute_result",
          "data": {
            "text/plain": [
              "['Hugo Lloris',\n",
              " 'Benjamin Pavard',\n",
              " 'Raphael Varane',\n",
              " 'Samuel Umtiti',\n",
              " 'Paul Pogba',\n",
              " 'Antoine Griezmann',\n",
              " 'Kylian Mbappe',\n",
              " 'Ousmane Dembele',\n",
              " 'Corentin Tolisso',\n",
              " 'Ngolo Kante',\n",
              " 'Lucas Hernandez',\n",
              " 'Mathew Ryan',\n",
              " 'Mark Milligan',\n",
              " 'Mathew Leckie',\n",
              " 'Robbie Kruse',\n",
              " 'Andrew Nabbout',\n",
              " 'Aaron Mooy',\n",
              " 'Mile Jedinak',\n",
              " 'Aziz Behich',\n",
              " 'Joshua Risdon',\n",
              " 'Trent Sainsbury',\n",
              " 'Tom Rogic']"
            ]
          },
          "metadata": {},
          "execution_count": 10
        }
      ],
      "source": [
        "player_names = []\n",
        "\n",
        "# Your code here\n",
        "for soccer in soccer_match:\n",
        "  #print(soccer['players'])\n",
        "  for player in soccer['players']:\n",
        "    #print(player['name'].title())\n",
        "    player_names.append(player['name'].title())\n",
        "player_names\n",
        "# ['Hugo Lloris',\n",
        "#  'Benjamin Pavard',\n",
        "#  'Raphael Varane',\n",
        "#  'Samuel Umtiti',\n",
        "#  'Paul Pogba',\n",
        "#  'Antoine Griezmann',\n",
        "#  'Kylian Mbappe',\n",
        "#  'Ousmane Dembele',\n",
        "#  'Corentin Tolisso',\n",
        "#  'Ngolo Kante',\n",
        "#  'Lucas Hernandez',\n",
        "#  'Mathew Ryan',\n",
        "#  'Mark Milligan',\n",
        "#  'Mathew Leckie',\n",
        "#  'Robbie Kruse',\n",
        "#  'Andrew Nabbout',\n",
        "#  'Aaron Mooy',\n",
        "#  'Mile Jedinak',\n",
        "#  'Aziz Behich',\n",
        "#  'Joshua Risdon',\n",
        "#  'Trent Sainsbury',\n",
        "#  'Tom Rogic']"
      ]
    },
    {
      "cell_type": "markdown",
      "metadata": {
        "id": "H8U8DJOGYNCv"
      },
      "source": [
        "## Summary"
      ]
    },
    {
      "cell_type": "markdown",
      "metadata": {
        "id": "q7myZfbLYNCv"
      },
      "source": [
        "In this lab, you practiced using nested loops to iterate through a nested data structure using data from a soccer match. Nested data structures can be quite complicated and it can become difficult to access more nested data. With nested loops, you are able to dynamically access this nested data and work with it as you would with a flatter data structure. It is important to think about the structure of the data before and while you're working so you know exactly what data you are working with at each level."
      ]
    }
  ],
  "metadata": {
    "kernelspec": {
      "display_name": "Python (learn-env)",
      "language": "python",
      "name": "learn-env"
    },
    "language_info": {
      "codemirror_mode": {
        "name": "ipython",
        "version": 3
      },
      "file_extension": ".py",
      "mimetype": "text/x-python",
      "name": "python",
      "nbconvert_exporter": "python",
      "pygments_lexer": "ipython3",
      "version": "3.8.5"
    },
    "toc": {
      "base_numbering": 1,
      "nav_menu": {},
      "number_sections": true,
      "sideBar": true,
      "skip_h1_title": false,
      "title_cell": "Table of Contents",
      "title_sidebar": "Contents",
      "toc_cell": false,
      "toc_position": {},
      "toc_section_display": true,
      "toc_window_display": false
    },
    "colab": {
      "provenance": [],
      "include_colab_link": true
    }
  },
  "nbformat": 4,
  "nbformat_minor": 0
}