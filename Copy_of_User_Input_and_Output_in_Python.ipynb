{
  "cells": [
    {
      "cell_type": "markdown",
      "metadata": {
        "id": "view-in-github",
        "colab_type": "text"
      },
      "source": [
        "<a href=\"https://colab.research.google.com/github/GraceMwende/Data_science_notebooks/blob/main/Copy_of_User_Input_and_Output_in_Python.ipynb\" target=\"_parent\"><img src=\"https://colab.research.google.com/assets/colab-badge.svg\" alt=\"Open In Colab\"/></a>"
      ]
    },
    {
      "cell_type": "markdown",
      "metadata": {
        "id": "3kqSIs2_aN0i"
      },
      "source": [
        "# User Input and Output in Python\n",
        "\n",
        "## Introduction\n",
        "\n",
        "Sometimes, you'll want Python to ask users for a certain input. This is where user inputs can help!\n",
        "\n",
        "## Objectives\n",
        "\n",
        "You will be able to:\n",
        "\n",
        "* Incorporate input/output functionality in code to allow for user interaction\n",
        "\n",
        "## User input in Python\n",
        "\n",
        "To get user input in Python, you can use the `input()` function. You can store the result in a variable, and use it to your heart's content. Remember that the result you get from the user will be a string, even if they enter a number.\n",
        "\n",
        "For example, run the following cell:"
      ]
    },
    {
      "cell_type": "code",
      "execution_count": null,
      "metadata": {
        "id": "g3H9QUkFaN0k",
        "outputId": "b8067039-48be-4273-a021-03e619319f32"
      },
      "outputs": [
        {
          "name": "stdout",
          "output_type": "stream",
          "text": [
            "Give me your name: Billy\n",
            "Your name is Billy\n"
          ]
        }
      ],
      "source": [
        "name = input(\"Give me your name: \")\n",
        "print(\"Your name is \" + name)"
      ]
    },
    {
      "cell_type": "code",
      "source": [
        "name=input('Enter your name : ')\n",
        "print('Your name is',name)"
      ],
      "metadata": {
        "id": "dw29EpzFgI0O",
        "outputId": "1575f103-6df2-409e-dd1e-0a99ecfd50d2",
        "colab": {
          "base_uri": "https://localhost:8080/"
        }
      },
      "execution_count": null,
      "outputs": [
        {
          "output_type": "stream",
          "name": "stdout",
          "text": [
            "Enter your name : Grace Mwende\n",
            "Your name is Grace Mwende\n"
          ]
        }
      ]
    },
    {
      "cell_type": "markdown",
      "metadata": {
        "id": "NuiqUQI3aN0l"
      },
      "source": [
        "When you use the `input()` function, the program waits for the user to type something and press ENTER. Only after the user presses ENTER does the program continue."
      ]
    },
    {
      "cell_type": "markdown",
      "metadata": {
        "id": "Xl52PNB7aN0l"
      },
      "source": [
        "## Manipulating strings (a few ways)\n",
        "\n",
        "What you get from the `input()` function is always a string. What can you do with it?\n",
        "\n",
        "First, make the string into a number. Let’s say you are 100% positive that the user entered a number. You can turn the string into an integer with the function `int()`. (Later we will see what to do when the user does NOT enter a number and you try to do this. For now, don’t worry about that problem)\n",
        "\n",
        "Here is what this looks like:"
      ]
    },
    {
      "cell_type": "code",
      "execution_count": null,
      "metadata": {
        "id": "vIrs6ildaN0v",
        "outputId": "397a5cd8-a1f0-4f6b-ff8d-c805442a5bb4",
        "colab": {
          "base_uri": "https://localhost:8080/"
        }
      },
      "outputs": [
        {
          "output_type": "stream",
          "name": "stdout",
          "text": [
            "Enter your age: 26\n",
            "You are 26 years old\n"
          ]
        }
      ],
      "source": [
        "age = input(\"Enter your age: \")\n",
        "age = int(age)\n",
        "print (\"You are\", age , \"years old\" )"
      ]
    },
    {
      "cell_type": "code",
      "source": [
        "age=input('Enter your age: ')\n",
        "age=int(age)\n",
        "print('your are',age,'years old')"
      ],
      "metadata": {
        "id": "QIElKaB3m4Kc",
        "outputId": "33f7e856-4b5f-4946-cc17-a40e16826291",
        "colab": {
          "base_uri": "https://localhost:8080/"
        }
      },
      "execution_count": null,
      "outputs": [
        {
          "output_type": "stream",
          "name": "stdout",
          "text": [
            "Enter your age: 27\n",
            "your are 27 years old\n"
          ]
        }
      ]
    },
    {
      "cell_type": "code",
      "source": [
        "from statistics import mean\n",
        "age=input('Enter age of your siblings separated by commas')\n",
        "print(age)\n",
        "age=age.split(',')\n",
        "print('list of age',age)\n",
        "age=list(map(int,age))\n",
        "mean=mean(age)\n",
        "print('mean age for siblings is ',mean)\n",
        "\n"
      ],
      "metadata": {
        "id": "TArIgLYcgja1",
        "outputId": "f2493161-ebc9-45d8-97b3-317019ed9b37",
        "colab": {
          "base_uri": "https://localhost:8080/"
        }
      },
      "execution_count": null,
      "outputs": [
        {
          "output_type": "stream",
          "name": "stdout",
          "text": [
            "Enter age of your siblings separated by commas20,22,24,26\n",
            "20,22,24,26\n",
            "list of age ['20', '22', '24', '26']\n",
            "mean age for siblings is  23\n"
          ]
        }
      ]
    },
    {
      "cell_type": "code",
      "source": [
        "age=['20', '22']\n",
        "age=list(map(int,age))\n",
        "print(age)\n"
      ],
      "metadata": {
        "id": "56TH57ZOi7W5",
        "outputId": "a39842cc-f2da-4b3c-883c-53c9e833373c",
        "colab": {
          "base_uri": "https://localhost:8080/"
        }
      },
      "execution_count": null,
      "outputs": [
        {
          "output_type": "stream",
          "name": "stdout",
          "text": [
            "[20, 22]\n"
          ]
        }
      ]
    },
    {
      "cell_type": "markdown",
      "metadata": {
        "id": "UAVf-sHoaN0w"
      },
      "source": [
        "Unlike using `+` for string concatenation as seen earlier, we simply use a `,` for joining strings with numbers. You can also convert an `int` to `str` and use concatenation normally:"
      ]
    },
    {
      "cell_type": "code",
      "source": [
        "type(age)"
      ],
      "metadata": {
        "id": "YUnT_cnUnwlU",
        "outputId": "a723d8d5-6397-4376-84d5-59c4387565ad",
        "colab": {
          "base_uri": "https://localhost:8080/"
        }
      },
      "execution_count": null,
      "outputs": [
        {
          "output_type": "execute_result",
          "data": {
            "text/plain": [
              "int"
            ]
          },
          "metadata": {},
          "execution_count": 3
        }
      ]
    },
    {
      "cell_type": "code",
      "execution_count": null,
      "metadata": {
        "id": "o6q1NjkdaN0w",
        "outputId": "ae6d2ea1-394b-4922-d8c9-8b3cf3924639",
        "colab": {
          "base_uri": "https://localhost:8080/"
        }
      },
      "outputs": [
        {
          "output_type": "stream",
          "name": "stdout",
          "text": [
            "You are 27 years old\n"
          ]
        }
      ],
      "source": [
        "print (\"You are \" + str(age) + \" years old\")"
      ]
    },
    {
      "cell_type": "markdown",
      "metadata": {
        "id": "XPeKWTWaaN0w"
      },
      "source": [
        "## Example\n",
        "Let's create a program that asks the user to enter their name, age, and the current year. Print out a message addressed to them that tells them the year that they will turn 100 years old."
      ]
    },
    {
      "cell_type": "code",
      "execution_count": null,
      "metadata": {
        "id": "uQgg26PnaN0w",
        "outputId": "3fcd4e92-f881-46f0-d471-18b67e7c7837"
      },
      "outputs": [
        {
          "name": "stdout",
          "output_type": "stream",
          "text": [
            "What is your name: Billy\n",
            "How old are you: 43\n",
            "what is the current year: 2019\n",
            "Billy will be 100 years old in the year 2076\n"
          ]
        }
      ],
      "source": [
        "name = input(\"What is your name: \")\n",
        "age = int(input(\"How old are you: \"))\n",
        "current_year = int(input(\"What is the current year: \"))\n",
        "year = str((current_year - age)+100)\n",
        "print(name + \" will be 100 years old in the year \" + year)"
      ]
    },
    {
      "cell_type": "code",
      "source": [
        "name=input('What is your name: ')\n",
        "age=input('How old are you? ')\n",
        "current_year=input('What is your current year')\n",
        "year=(int(current_year)-int(age))+100\n",
        "print(name,'You are ',age, 'years old and you will be 100 years in',year )"
      ],
      "metadata": {
        "id": "BmRZ6VgVn-UY",
        "outputId": "222af43d-7df4-43d6-e991-ca478c67d78c",
        "colab": {
          "base_uri": "https://localhost:8080/"
        }
      },
      "execution_count": null,
      "outputs": [
        {
          "output_type": "stream",
          "name": "stdout",
          "text": [
            "What is your name: Grace\n",
            "How old are you? 26\n",
            "What is your current year2024\n",
            "Grace You are  26 years old and you will be 100 years in 2098\n"
          ]
        }
      ]
    },
    {
      "cell_type": "code",
      "source": [
        "while True:\n",
        "  try:\n",
        "    age2=int(input('How old are you?'))\n",
        "  except ValueError:\n",
        "    print('Please Enter a number for your age')\n",
        "  else:\n",
        "    break\n",
        "print('you are',age2)"
      ],
      "metadata": {
        "colab": {
          "base_uri": "https://localhost:8080/"
        },
        "id": "Ywjzqp3drdEX",
        "outputId": "c1d30224-c3e5-48ef-e6f3-6307a3789aa7"
      },
      "execution_count": 6,
      "outputs": [
        {
          "output_type": "stream",
          "name": "stdout",
          "text": [
            "How old are you?29\n",
            "you are 29\n"
          ]
        }
      ]
    },
    {
      "cell_type": "code",
      "source": [
        "while True:\n",
        "  try:\n",
        "    age2=int(input('How old are you?'))\n",
        "  except ValueError:\n",
        "    print('Please Enter a number for your age')\n",
        "  else:\n",
        "    break\n",
        "print('you are',age2)"
      ],
      "metadata": {
        "colab": {
          "base_uri": "https://localhost:8080/"
        },
        "id": "Us6v3GQGrdcF",
        "outputId": "86dfb126-9f73-4ed0-c523-de987fd9f9de"
      },
      "execution_count": 8,
      "outputs": [
        {
          "output_type": "stream",
          "name": "stdout",
          "text": [
            "How old are you?thirty\n",
            "Please Enter a number for your age\n",
            "How old are you?two\n",
            "Please Enter a number for your age\n",
            "How old are you?thirty\n",
            "Please Enter a number for your age\n",
            "How old are you?30\n",
            "you are 30\n"
          ]
        }
      ]
    },
    {
      "cell_type": "code",
      "source": [
        "user_colors = input(\"Enter the three secondary colors separated by commas: \")\n",
        "colors = [s.strip() for s in user_colors.split(\",\")]\n",
        "\n",
        "print(f\"List of colors: {colors}\")"
      ],
      "metadata": {
        "colab": {
          "base_uri": "https://localhost:8080/"
        },
        "id": "aeIuE6-IrdlY",
        "outputId": "c64c5a82-b955-4366-db41-5aec27461d8b"
      },
      "execution_count": 9,
      "outputs": [
        {
          "output_type": "stream",
          "name": "stdout",
          "text": [
            "Enter the three secondary colors separated by commas: blue,red,white\n",
            "List of colors: ['blue', 'red', 'white']\n"
          ]
        }
      ]
    },
    {
      "cell_type": "code",
      "source": [
        "#Get Multiple inputs From a User in One Line\n",
        "name, age, marks = input(\"Enter your Name, Age, Percentage separated by space \").split()\n",
        "print(\"\\n\")\n",
        "print(\"User Details: \", name, age, marks)"
      ],
      "metadata": {
        "colab": {
          "base_uri": "https://localhost:8080/"
        },
        "id": "W7gWhqL9rdr8",
        "outputId": "a89b6379-6430-427d-f311-431ff49b84dd"
      },
      "execution_count": 11,
      "outputs": [
        {
          "output_type": "stream",
          "name": "stdout",
          "text": [
            "Enter your Name, Age, Percentage separated by space grace 26 70\n",
            "\n",
            "\n",
            "User Details:  grace 26 70\n"
          ]
        }
      ]
    },
    {
      "cell_type": "code",
      "source": [],
      "metadata": {
        "id": "m7G5DTunrdyA"
      },
      "execution_count": null,
      "outputs": []
    },
    {
      "cell_type": "code",
      "source": [],
      "metadata": {
        "id": "o_algQvlrd2a"
      },
      "execution_count": null,
      "outputs": []
    },
    {
      "cell_type": "markdown",
      "metadata": {
        "id": "yLRDEyFdaN0w"
      },
      "source": [
        "## Summary\n",
        "\n",
        "This lesson introduced you to character input/output and string manipulation. We also saw how we can take user input, do some basic processing and provide feedback to the user based on the input."
      ]
    }
  ],
  "metadata": {
    "kernelspec": {
      "display_name": "Python (learn-env)",
      "language": "python",
      "name": "learn-env"
    },
    "language_info": {
      "codemirror_mode": {
        "name": "ipython",
        "version": 3
      },
      "file_extension": ".py",
      "mimetype": "text/x-python",
      "name": "python",
      "nbconvert_exporter": "python",
      "pygments_lexer": "ipython3",
      "version": "3.8.5"
    },
    "toc": {
      "base_numbering": 1,
      "nav_menu": {},
      "number_sections": true,
      "sideBar": true,
      "skip_h1_title": false,
      "title_cell": "Table of Contents",
      "title_sidebar": "Contents",
      "toc_cell": false,
      "toc_position": {},
      "toc_section_display": true,
      "toc_window_display": false
    },
    "colab": {
      "provenance": [],
      "include_colab_link": true
    }
  },
  "nbformat": 4,
  "nbformat_minor": 0
}