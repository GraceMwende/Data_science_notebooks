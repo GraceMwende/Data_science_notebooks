{
  "cells": [
    {
      "cell_type": "markdown",
      "metadata": {
        "id": "view-in-github",
        "colab_type": "text"
      },
      "source": [
        "<a href=\"https://colab.research.google.com/github/GraceMwende/Data_science_notebooks/blob/main/Copy_of_While_Loops%2C_Break_and_Continue_Lab.ipynb\" target=\"_parent\"><img src=\"https://colab.research.google.com/assets/colab-badge.svg\" alt=\"Open In Colab\"/></a>"
      ]
    },
    {
      "cell_type": "markdown",
      "metadata": {
        "id": "U_oFI0UmXQkz"
      },
      "source": [
        "# While Loops, Break and Continue - Lab"
      ]
    },
    {
      "cell_type": "markdown",
      "metadata": {
        "id": "WeIR9xt2XQk0"
      },
      "source": [
        "## Introduction\n",
        "In this lab, we will practice using `while` loops, and `break` and `continue` statements in our code. We will use our control flow statements to iterate through collections and filter out or selectively operate on each element. We'll use `while` loops to perform operations until a given condition is no longer true."
      ]
    },
    {
      "cell_type": "markdown",
      "metadata": {
        "id": "xfoc76eQXQk1"
      },
      "source": [
        "## Objectives\n",
        "You will be able to:\n",
        "\n",
        "* Use a `while` loop\n",
        "* Use `break` and `continue` to add control flow to a `while` loop"
      ]
    },
    {
      "cell_type": "markdown",
      "metadata": {
        "id": "aaeN4_GHXQk1"
      },
      "source": [
        "## Instructions\n",
        "\n",
        "### While Loops\n",
        "\n",
        "Imagine a person named Agnes is finally ready to achieve her dream of becoming a competitive eater! Because the competition is so fierce, she knows she'll need to do lots of training to become number one.\n",
        "\n",
        "Her first regiment of training consists of eating pizza. Below is a `for` loop version of her training process. Using your knowledge of `while` loops, translate the pizza eating code below from a `for` loop to a `while` loop."
      ]
    },
    {
      "cell_type": "code",
      "execution_count": 3,
      "metadata": {
        "id": "EOboJ-07XQk1",
        "outputId": "71b6cda5-9b92-4af4-a9ac-b6cc0b9f3ace",
        "colab": {
          "base_uri": "https://localhost:8080/"
        }
      },
      "outputs": [
        {
          "output_type": "stream",
          "name": "stdout",
          "text": [
            "Another slice eaten!\n",
            "Now eaten 1 slices!\n",
            "Another slice eaten!\n",
            "Now eaten 2 slices!\n",
            "Another slice eaten!\n",
            "Now eaten 3 slices!\n",
            "Another slice eaten!\n",
            "Now eaten 4 slices!\n",
            "Another slice eaten!\n",
            "Now eaten 5 slices!\n",
            "Another slice eaten!\n",
            "Now eaten 6 slices!\n"
          ]
        }
      ],
      "source": [
        "slices_of_pie = 6\n",
        "slices_eaten = 0\n",
        "\n",
        "for slice in range(slices_of_pie):\n",
        "    print('Another slice eaten!')\n",
        "    slices_eaten += 1\n",
        "    print('Now eaten {} slices!'.format(slices_eaten))"
      ]
    },
    {
      "cell_type": "code",
      "execution_count": 4,
      "metadata": {
        "id": "EJtFcin-XQk3",
        "colab": {
          "base_uri": "https://localhost:8080/"
        },
        "outputId": "3c2ec4f8-d150-47f4-a738-033135c0a670"
      },
      "outputs": [
        {
          "output_type": "stream",
          "name": "stdout",
          "text": [
            "Another slice eaten!\n",
            "Now eaten 1 slices!\n",
            "Another slice eaten!\n",
            "Now eaten 2 slices!\n",
            "Another slice eaten!\n",
            "Now eaten 3 slices!\n",
            "Another slice eaten!\n",
            "Now eaten 4 slices!\n",
            "Another slice eaten!\n",
            "Now eaten 5 slices!\n",
            "Another slice eaten!\n",
            "Now eaten 6 slices!\n"
          ]
        }
      ],
      "source": [
        "slices_of_pie = 6\n",
        "slices_eaten = 0\n",
        "\n",
        "while slices_eaten<slices_of_pie:\n",
        "  print('Another slice eaten!')\n",
        "  slices_eaten += 1\n",
        "  print('Now eaten {} slices!'.format(slices_eaten))\n",
        "\n",
        "# add your while loop here that achieves the same results as the for loop above\n"
      ]
    },
    {
      "cell_type": "markdown",
      "metadata": {
        "id": "KbEL3FirXQk3"
      },
      "source": [
        "After a long night of training with pizza, Agnes sleeps like a rock. When she wakes up in the morning, she realizes that her journey is not over. It has only just begun! In the next cell, continue her training; this time she'll be eating pancakes. None of the pancakes are prepared yet, and she wants to determine how much time she'll have left over after making all the pancakes. Here are the important details:\n",
        "\n",
        "* Agnes has 1468 seconds allotted for breakfast today\n",
        "* Agnes will be making herself 5 pancakes\n",
        "* Each pancake takes 27 seconds to cook on each side\n",
        "* It takes an average of 5 seconds to either flip a pancake, add it or remove it from the pan\n",
        "* There is only room for one pancake at a time on the frying pan\n",
        "* Remember there are two sides to every pancake!  \n",
        "\n",
        "After Agnes cooks the 5 pancakes, how much time will she have left over to eat them? Use a while loop to find out below."
      ]
    },
    {
      "cell_type": "code",
      "source": [
        "54+5+5+5"
      ],
      "metadata": {
        "colab": {
          "base_uri": "https://localhost:8080/"
        },
        "id": "hk4r6Xxvq_x-",
        "outputId": "3d090f0b-ecb9-4385-b534-c3521b0a3d19"
      },
      "execution_count": 5,
      "outputs": [
        {
          "output_type": "execute_result",
          "data": {
            "text/plain": [
              "69"
            ]
          },
          "metadata": {},
          "execution_count": 5
        }
      ]
    },
    {
      "cell_type": "code",
      "execution_count": 6,
      "metadata": {
        "id": "-wBr10KmXQk3",
        "colab": {
          "base_uri": "https://localhost:8080/"
        },
        "outputId": "e5416ba8-0a25-42e6-ac4d-0809dfca9e08"
      },
      "outputs": [
        {
          "output_type": "stream",
          "name": "stdout",
          "text": [
            "cooked 1\n",
            "time remaining 1399\n",
            "cooked 2\n",
            "time remaining 1330\n",
            "cooked 3\n",
            "time remaining 1261\n",
            "cooked 4\n",
            "time remaining 1192\n",
            "cooked 5\n",
            "time remaining 1123\n"
          ]
        }
      ],
      "source": [
        "time_for_breakfast = 1468 # in seconds\n",
        "number_of_cooked_pancakes = 0\n",
        "\n",
        "# write your while loop here\n",
        "# use a while loop to make 5 pancakes for breakfast\n",
        "while number_of_cooked_pancakes<5 :\n",
        "  number_of_cooked_pancakes+=1\n",
        "  print('cooked',number_of_cooked_pancakes)\n",
        "  time_used=(54+5+5+5)\n",
        "  #print('time used',time_used)\n",
        "  time_for_breakfast= time_for_breakfast-time_used\n",
        "\n",
        "  print('time remaining',time_for_breakfast)\n",
        "# each pancake takes 27 seconds to cook on each side\n",
        "# it takes an average of 5 seconds to flip a pancake, add or remove a pancake from the pan.\n",
        "# you must decrease the time_for_breakfast each time you\n",
        "# add a pancake to the skillet (frying pan) or flip a pancake (i.e. 2 times per pancake)\n",
        "# there is only room for one pancake at a time\n",
        "\n",
        "\n",
        "\n",
        "# print out how much time is remaining"
      ]
    },
    {
      "cell_type": "markdown",
      "metadata": {
        "id": "4f2zlKChXQk3"
      },
      "source": [
        "## For Loops"
      ]
    },
    {
      "cell_type": "markdown",
      "metadata": {
        "id": "WdTOgoY_XQk3"
      },
      "source": [
        "Fast forward 5 years, and Agnes has become an international competitive eating superstar. Using her starpower, she decides to open up a restaurant chain. As part of a promotional deal, at a grand opening, she tells her fans that if they are part of the first 30 people to the restaurant, there is a 50% chance that they'll receive free food. Agnes executes this by giving each of the first 30 people a number ranging from 0-29. All people who have an even number will receive free food, and all those with odd numbers will sadly remain hungry :(. Use a loop to create two lists below of:\n",
        "\n",
        "* `hungry_patrons`\n",
        "* `fed_patrons`\n",
        "\n",
        "All people will start out in the list of `hungry_patrons`, and only the lucky ones will move to `fed_patrons`.\n",
        "\n",
        "> **Hint:** You may find the [remove method](https://www.programiz.com/python-programming/methods/list/remove) to be useful for the next problem"
      ]
    },
    {
      "cell_type": "code",
      "execution_count": 7,
      "metadata": {
        "id": "QRg1f-YwXQk3",
        "colab": {
          "base_uri": "https://localhost:8080/"
        },
        "outputId": "38fc516b-5042-4155-8460-526f91b2bc7b"
      },
      "outputs": [
        {
          "output_type": "stream",
          "name": "stdout",
          "text": [
            "[0, 2, 4, 6, 8, 10, 12, 14, 16, 18, 20, 22, 24, 26, 28]\n",
            "[1, 3, 5, 7, 9, 11, 13, 15, 17, 19, 21, 23, 25, 27, 29]\n"
          ]
        }
      ],
      "source": [
        "\n",
        "line_of_hungry_patrons = list(range(0,30))\n",
        "fed_patrons = []\n",
        "hungry_patrons = []\n",
        "for i in line_of_hungry_patrons:\n",
        "  if i%2==0:\n",
        "    #print('fed',i)\n",
        "    fed_patrons.append(i)\n",
        "    i+=1\n",
        "  elif i%2!=0:\n",
        "    hungry_patrons.append(i)\n",
        "    continue\n",
        "    i+=1\n",
        "  else:\n",
        "    print('Done')\n",
        "\n",
        "print(fed_patrons)\n",
        "print(hungry_patrons)\n",
        "# use a for or while loop to feed the hungry patrons who have an even number\n",
        "# add the patrons with an even number to the fed_patrons list\n",
        "# then remove the even numbered patrons from the line_of_hungry_patrons\n",
        "# each list should contain 15 elements\n",
        "\n"
      ]
    },
    {
      "cell_type": "code",
      "source": [
        "line_of_hungry_patrons = list(range(0,30))\n",
        "fed_patrons = []\n",
        "\n",
        "for patron in line_of_hungry_patrons:\n",
        "  if patron%2==0:\n",
        "    line_of_hungry_patrons.remove(patron)\n",
        "    fed_patrons.append(patron)\n",
        "\n",
        "print(line_of_hungry_patrons)\n",
        "print(fed_patrons)\n",
        "\n"
      ],
      "metadata": {
        "colab": {
          "base_uri": "https://localhost:8080/"
        },
        "id": "fPo7pzUFy_xI",
        "outputId": "b5a48fc6-59b7-45bc-970a-18e94d5ab8cb"
      },
      "execution_count": 8,
      "outputs": [
        {
          "output_type": "stream",
          "name": "stdout",
          "text": [
            "[1, 3, 5, 7, 9, 11, 13, 15, 17, 19, 21, 23, 25, 27, 29]\n",
            "[0, 2, 4, 6, 8, 10, 12, 14, 16, 18, 20, 22, 24, 26, 28]\n"
          ]
        }
      ]
    },
    {
      "cell_type": "markdown",
      "metadata": {
        "id": "lVboZTbNXQk4"
      },
      "source": [
        "### `break` And `continue` Statements"
      ]
    },
    {
      "cell_type": "markdown",
      "metadata": {
        "id": "rWHUIqrHXQk4"
      },
      "source": [
        "Agnes decides that she wants to start creating targeted advertisements for people. Here is a list of customer objects with information about their name, age, job, pet, and pet name. You'll use loops to find people that meet certain requirements for Agnes' targeted marketing. Write `for` loops with conditional statements in conjunction with `break` and `continue` to get the desired output."
      ]
    },
    {
      "cell_type": "code",
      "execution_count": 9,
      "metadata": {
        "id": "gdDreY7oXQk4"
      },
      "outputs": [],
      "source": [
        "people = [\n",
        "    {'name': \"Daniel\", 'age': 29, 'job': \"Engineer\", 'pet': \"Cat\", 'pet_name': \"Gato\"},\n",
        "    {'name': \"Katie\", 'age': 30, 'job': \"Teacher\", 'pet': \"Dog\", 'pet_name': \"Frank\"},\n",
        "    {'name': \"Owen\", 'age': 26, 'job': \"Sales person\", 'pet': \"Cat\", 'pet_name': \"Cosmo\"},\n",
        "    {'name': \"Josh\", 'age': 22, 'job': \"Student\", 'pet': \"Cat\", 'pet_name': \"Chat\"},\n",
        "    {'name': \"Estelle\", 'age': 35, 'job': \"French Diplomat\", 'pet': \"Dog\", 'pet_name': \"Gabby\"},\n",
        "    {'name': \"Gustav\", 'age': 24, 'job': \"Brewer\", 'pet': \"Dog\", 'pet_name': \"Helen\"}\n",
        "]"
      ]
    },
    {
      "cell_type": "markdown",
      "metadata": {
        "id": "oRybIcqNXQk4"
      },
      "source": [
        "Use a `for` loop to find the first person in the list of people that has a dog as their pet. The iteration count shouldn't exceed 2. In your loop add a print statement that says\n",
        "\n",
        "```python\n",
        " \"{person} has a dog! Had to check {number} of records to find a dog owner.\"\n",
        "\n",
        "```\n",
        "The code has been started for you below:"
      ]
    },
    {
      "cell_type": "code",
      "source": [
        "people[0]['pet']"
      ],
      "metadata": {
        "colab": {
          "base_uri": "https://localhost:8080/",
          "height": 35
        },
        "id": "z8INkhHP162w",
        "outputId": "1ce0fab0-a137-4149-9a7e-353cfb3b73db"
      },
      "execution_count": 10,
      "outputs": [
        {
          "output_type": "execute_result",
          "data": {
            "text/plain": [
              "'Cat'"
            ],
            "application/vnd.google.colaboratory.intrinsic+json": {
              "type": "string"
            }
          },
          "metadata": {},
          "execution_count": 10
        }
      ]
    },
    {
      "cell_type": "code",
      "execution_count": 22,
      "metadata": {
        "id": "H7oWUMTMXQk4",
        "colab": {
          "base_uri": "https://localhost:8080/"
        },
        "outputId": "383a1d02-e15a-4ed0-971a-be71f8061573"
      },
      "outputs": [
        {
          "output_type": "stream",
          "name": "stdout",
          "text": [
            "Katie has a dog! Had to check 2 of records to find a dog owner.\n"
          ]
        }
      ],
      "source": [
        "first_dog_person = None\n",
        "iteration_count = 0\n",
        "for person in people:\n",
        "    iteration_count += 1\n",
        "    # Continue writing code here\n",
        "    if person['pet']=='Dog':\n",
        "      print(f\"{person['name']} has a dog! Had to check {iteration_count} of records to find a dog owner.\")\n",
        "      break"
      ]
    },
    {
      "cell_type": "markdown",
      "metadata": {
        "id": "Hi1hG3DUXQk4"
      },
      "source": [
        "Now, use a `for` loop to create a list of all the cat owners who are under the age of 28."
      ]
    },
    {
      "cell_type": "code",
      "source": [
        "people[0]['pet']"
      ],
      "metadata": {
        "colab": {
          "base_uri": "https://localhost:8080/",
          "height": 35
        },
        "id": "-QobPjZt83ZY",
        "outputId": "047e4773-d0df-4e63-aa56-ea5d5c063788"
      },
      "execution_count": 12,
      "outputs": [
        {
          "output_type": "execute_result",
          "data": {
            "text/plain": [
              "'Cat'"
            ],
            "application/vnd.google.colaboratory.intrinsic+json": {
              "type": "string"
            }
          },
          "metadata": {},
          "execution_count": 12
        }
      ]
    },
    {
      "cell_type": "code",
      "source": [
        "people[0]['age']"
      ],
      "metadata": {
        "colab": {
          "base_uri": "https://localhost:8080/"
        },
        "id": "IoPQoTpr88w4",
        "outputId": "94407ce5-b058-4188-93de-788845d99135"
      },
      "execution_count": 13,
      "outputs": [
        {
          "output_type": "execute_result",
          "data": {
            "text/plain": [
              "29"
            ]
          },
          "metadata": {},
          "execution_count": 13
        }
      ]
    },
    {
      "cell_type": "code",
      "source": [
        "people"
      ],
      "metadata": {
        "colab": {
          "base_uri": "https://localhost:8080/"
        },
        "id": "mg2zaOcWBY9K",
        "outputId": "330cab08-6882-4a14-93d7-509beb13fa0d"
      },
      "execution_count": 14,
      "outputs": [
        {
          "output_type": "execute_result",
          "data": {
            "text/plain": [
              "[{'name': 'Daniel',\n",
              "  'age': 29,\n",
              "  'job': 'Engineer',\n",
              "  'pet': 'Cat',\n",
              "  'pet_name': 'Gato'},\n",
              " {'name': 'Katie',\n",
              "  'age': 30,\n",
              "  'job': 'Teacher',\n",
              "  'pet': 'Dog',\n",
              "  'pet_name': 'Frank'},\n",
              " {'name': 'Owen',\n",
              "  'age': 26,\n",
              "  'job': 'Sales person',\n",
              "  'pet': 'Cat',\n",
              "  'pet_name': 'Cosmo'},\n",
              " {'name': 'Josh',\n",
              "  'age': 22,\n",
              "  'job': 'Student',\n",
              "  'pet': 'Cat',\n",
              "  'pet_name': 'Chat'},\n",
              " {'name': 'Estelle',\n",
              "  'age': 35,\n",
              "  'job': 'French Diplomat',\n",
              "  'pet': 'Dog',\n",
              "  'pet_name': 'Gabby'},\n",
              " {'name': 'Gustav',\n",
              "  'age': 24,\n",
              "  'job': 'Brewer',\n",
              "  'pet': 'Dog',\n",
              "  'pet_name': 'Helen'}]"
            ]
          },
          "metadata": {},
          "execution_count": 14
        }
      ]
    },
    {
      "cell_type": "code",
      "execution_count": 23,
      "metadata": {
        "id": "Io3CzSTFXQk4",
        "colab": {
          "base_uri": "https://localhost:8080/"
        },
        "outputId": "9b28e339-65db-4aac-c189-b7ff6fa4ddaa"
      },
      "outputs": [
        {
          "output_type": "execute_result",
          "data": {
            "text/plain": [
              "[{'name': 'Owen',\n",
              "  'age': 26,\n",
              "  'job': 'Sales person',\n",
              "  'pet': 'Cat',\n",
              "  'pet_name': 'Cosmo'},\n",
              " {'name': 'Josh',\n",
              "  'age': 22,\n",
              "  'job': 'Student',\n",
              "  'pet': 'Cat',\n",
              "  'pet_name': 'Chat'}]"
            ]
          },
          "metadata": {},
          "execution_count": 23
        }
      ],
      "source": [
        "cat_owners = []\n",
        "# for loop goes here\n",
        "for person in people:\n",
        "  if person['pet']=='Cat' and person['age']<28:\n",
        "    cat_owners.append(person)\n",
        "cat_owners\n",
        "\n"
      ]
    },
    {
      "cell_type": "markdown",
      "metadata": {
        "id": "whVvxZXCXQk4"
      },
      "source": [
        "Use a `for` loop to find the first person who is above 29 years old. Use a print statement to state their name and how old they are."
      ]
    },
    {
      "cell_type": "code",
      "source": [
        "range(len(people))"
      ],
      "metadata": {
        "colab": {
          "base_uri": "https://localhost:8080/"
        },
        "id": "ItzY5JBrHE5j",
        "outputId": "846291ca-eee7-416a-9e85-9c2ac92546ec"
      },
      "execution_count": 16,
      "outputs": [
        {
          "output_type": "execute_result",
          "data": {
            "text/plain": [
              "range(0, 6)"
            ]
          },
          "metadata": {},
          "execution_count": 16
        }
      ]
    },
    {
      "cell_type": "code",
      "source": [
        "people[0]['age']"
      ],
      "metadata": {
        "colab": {
          "base_uri": "https://localhost:8080/"
        },
        "id": "iw3L-7eOHPhd",
        "outputId": "1479105a-5068-4514-97fe-cd369cb39763"
      },
      "execution_count": 17,
      "outputs": [
        {
          "output_type": "execute_result",
          "data": {
            "text/plain": [
              "29"
            ]
          },
          "metadata": {},
          "execution_count": 17
        }
      ]
    },
    {
      "cell_type": "code",
      "execution_count": 25,
      "metadata": {
        "id": "2_WTxqHNXQk4",
        "colab": {
          "base_uri": "https://localhost:8080/"
        },
        "outputId": "c075a7fd-535f-42a9-ea96-3510749f9c1f"
      },
      "outputs": [
        {
          "output_type": "stream",
          "name": "stdout",
          "text": [
            "Katie is  30 years old\n"
          ]
        }
      ],
      "source": [
        "thirty_something_yr_old = None\n",
        "# for loop goes here\n",
        "for person in people:\n",
        "  if person['age'] >29:\n",
        "    print(f\"{person['name']} is  {person['age']} years old\")\n",
        "    break\n",
        "\n"
      ]
    },
    {
      "cell_type": "markdown",
      "metadata": {
        "id": "4kf8-LVbXQk4"
      },
      "source": [
        "Use a `for` loop to create a list of people's names and another list of pet names for all the **dog owners**."
      ]
    },
    {
      "cell_type": "code",
      "execution_count": 28,
      "metadata": {
        "id": "DMrH6zJqXQk4",
        "colab": {
          "base_uri": "https://localhost:8080/"
        },
        "outputId": "16cfffb9-7e69-43f8-b0c0-2a04f46702f8"
      },
      "outputs": [
        {
          "output_type": "stream",
          "name": "stdout",
          "text": [
            "['Katie', 'Estelle', 'Gustav']\n",
            "['Frank', 'Gabby', 'Helen']\n"
          ]
        }
      ],
      "source": [
        "dog_owner_names = []\n",
        "dog_names = []\n",
        "\n",
        "for person in people:\n",
        "  if person['pet']=='Dog':\n",
        "    dog_owner_names.append(person['name'])\n",
        "    dog_names.append(person['pet_name'])\n",
        "print(dog_owner_names)\n",
        "print(dog_names)"
      ]
    },
    {
      "cell_type": "markdown",
      "metadata": {
        "id": "_wxPydMIXQk5"
      },
      "source": [
        "## Level Up\n",
        "Use a `for` loop to create a list of odd numbers from the list of numbers from 0 to 100. Each time there is an odd number, add 10 to it and append it to `list_of_odd_numbers_plus_ten`. Stop adding numbers to the list when there are 35 numbers in it. Once you have reached 35 numbers, return the sum of the new list of numbers."
      ]
    },
    {
      "cell_type": "code",
      "source": [
        "list_of_numbers = list(range(0, 100))\n",
        "len(list_of_numbers)\n",
        "list_of_odd_numbers_plus_ten = []\n",
        "len(list_of_odd_numbers_plus_ten)"
      ],
      "metadata": {
        "colab": {
          "base_uri": "https://localhost:8080/"
        },
        "id": "SiGYe3caMMfH",
        "outputId": "59d441b6-f08e-4eb2-a399-7f3dd713eeb7"
      },
      "execution_count": 20,
      "outputs": [
        {
          "output_type": "execute_result",
          "data": {
            "text/plain": [
              "0"
            ]
          },
          "metadata": {},
          "execution_count": 20
        }
      ]
    },
    {
      "cell_type": "code",
      "execution_count": 21,
      "metadata": {
        "id": "rYEn24KjXQk5",
        "colab": {
          "base_uri": "https://localhost:8080/"
        },
        "outputId": "4879110f-abf6-4a64-8789-d2b7b66649f4"
      },
      "outputs": [
        {
          "output_type": "stream",
          "name": "stdout",
          "text": [
            "[11, 13, 15, 17, 19, 21, 23, 25, 27, 29, 31, 33, 35, 37, 39, 41, 43, 45, 47, 49, 51, 53, 55, 57, 59, 61, 63, 65, 67, 69, 71, 73, 75, 77, 79]\n",
            "1575\n",
            "35\n"
          ]
        }
      ],
      "source": [
        "list_of_numbers = list(range(0, 100))\n",
        "list_of_odd_numbers_plus_ten = []\n",
        "\n",
        "# use a for loop to create a list of odd numbers from the list of numbers from 0 to 100\n",
        "# each time there is an odd nmber, add 10 to it and append it to the list_of_odd_numbers_plus_ten\n",
        "# stop adding numbers to the list when there are 35 numbers\n",
        "# use break and continue statements in your code\n",
        "for number in list_of_numbers:\n",
        "    # Continue writing code here\n",
        "    if len(list_of_odd_numbers_plus_ten)<35:\n",
        "\n",
        "      if number%2!=0 :\n",
        "          number+=10\n",
        "          list_of_odd_numbers_plus_ten.append(number)\n",
        "      #works as well\n",
        "      # if number %2 ==1:\n",
        "      #   list_of_odd_numbers_plus_ten.append(number+10)\n",
        "\n",
        "\n",
        "        #print('after',number)\n",
        "\n",
        "print(list_of_odd_numbers_plus_ten)\n",
        "print(sum(list_of_odd_numbers_plus_ten))\n",
        "print(len(list_of_odd_numbers_plus_ten))\n"
      ]
    },
    {
      "cell_type": "code",
      "source": [],
      "metadata": {
        "id": "cWtQRw9lkf87"
      },
      "execution_count": 21,
      "outputs": []
    },
    {
      "cell_type": "markdown",
      "metadata": {
        "id": "jFlTmBX2XQk5"
      },
      "source": [
        "## Summary"
      ]
    },
    {
      "cell_type": "markdown",
      "metadata": {
        "id": "2-bwV6QYXQk5"
      },
      "source": [
        "In this lab, we practiced using `while` loops, which continue executing their block of code until the given condition is no longer true. This is useful for instances where we do not have a collection or do not need a collection to solve our problem, especially when we would only like to stop the process according to a certain condition. We then practiced using control flow statements, `break` and `continue`, to selectively operate on elements, append them to new lists, or assign them to new variables."
      ]
    }
  ],
  "metadata": {
    "kernelspec": {
      "display_name": "Python 3",
      "language": "python",
      "name": "python3"
    },
    "language_info": {
      "codemirror_mode": {
        "name": "ipython",
        "version": 3
      },
      "file_extension": ".py",
      "mimetype": "text/x-python",
      "name": "python",
      "nbconvert_exporter": "python",
      "pygments_lexer": "ipython3",
      "version": "3.6.6"
    },
    "toc": {
      "base_numbering": 1,
      "nav_menu": {},
      "number_sections": true,
      "sideBar": true,
      "skip_h1_title": false,
      "title_cell": "Table of Contents",
      "title_sidebar": "Contents",
      "toc_cell": false,
      "toc_position": {},
      "toc_section_display": true,
      "toc_window_display": false
    },
    "colab": {
      "provenance": [],
      "include_colab_link": true
    }
  },
  "nbformat": 4,
  "nbformat_minor": 0
}