{
  "cells": [
    {
      "cell_type": "markdown",
      "metadata": {
        "id": "view-in-github",
        "colab_type": "text"
      },
      "source": [
        "<a href=\"https://colab.research.google.com/github/GraceMwende/Data_science_notebooks/blob/main/Getting_Started_with_NumPy.ipynb\" target=\"_parent\"><img src=\"https://colab.research.google.com/assets/colab-badge.svg\" alt=\"Open In Colab\"/></a>"
      ]
    },
    {
      "cell_type": "markdown",
      "metadata": {
        "id": "-iQqBPthcDJo"
      },
      "source": [
        "# Getting Started with NumPy\n",
        "\n",
        "## Introduction\n",
        "\n",
        "NumPy is one of the main libraries for performing scientific computing in Python. Using NumPy, you can create high-performance multi-dimensional arrays, and several tools to work with these arrays.\n",
        "\n",
        "A NumPy array can store a grid of values. All the values must be of the same type. NumPy arrays are n-dimensional, and the number of dimensions is denoted by the *rank* of the NumPy array. The shape of an array is a tuple of integers which holds the size of the array along each of the dimensions.\n",
        "\n",
        "For more information on NumPy, refer to http://www.numpy.org/.\n",
        "\n",
        "\n",
        "## Objectives\n",
        "\n",
        "You will be able to:\n",
        "  \n",
        "- Use broadcasting to perform a math operation on an entire numpy array    \n",
        "- Perform vector and matrix operations with numpy\n",
        "- Access the shape of a numpy array    \n",
        "- Use indexing with numpy arrays    \n",
        "\n",
        "\n",
        "\n",
        "\n",
        "## NumPy array creation and basic operations\n",
        "\n",
        "First, remember that it is customary to import NumPy as `np`."
      ]
    },
    {
      "cell_type": "code",
      "execution_count": null,
      "metadata": {
        "id": "VSmn9Xc-cDJq"
      },
      "outputs": [],
      "source": [
        "import numpy as np"
      ]
    },
    {
      "cell_type": "markdown",
      "metadata": {
        "id": "KN_CtiOdcDJr"
      },
      "source": [
        "One easy way to create a numpy array is from a Python list. The two are similar in a number of manners but NumPy is optimized in a number of ways for performing mathematical operations, including having a number of built-in methods that will be extraordinarily useful."
      ]
    },
    {
      "cell_type": "code",
      "execution_count": null,
      "metadata": {
        "id": "jB7592-mcDJr",
        "outputId": "70ce7cba-8cd2-4c83-b8a0-27160c44e3ef"
      },
      "outputs": [
        {
          "name": "stdout",
          "output_type": "stream",
          "text": [
            "<class 'numpy.ndarray'>\n"
          ]
        }
      ],
      "source": [
        "x = np.array([1, 2, 3])\n",
        "print(type(x))"
      ]
    },
    {
      "cell_type": "code",
      "source": [
        "import numpy as np\n",
        "y=np.array([1,2,3])\n",
        "print(type(y))\n",
        "print(y*3)\n",
        "print(y+2)"
      ],
      "metadata": {
        "colab": {
          "base_uri": "https://localhost:8080/"
        },
        "id": "y8jBS8b29DLV",
        "outputId": "4f001cd9-59f4-4e4b-c6c5-665361720d08"
      },
      "execution_count": 5,
      "outputs": [
        {
          "output_type": "stream",
          "name": "stdout",
          "text": [
            "<class 'numpy.ndarray'>\n",
            "[3 6 9]\n",
            "[3 4 5]\n"
          ]
        }
      ]
    },
    {
      "cell_type": "code",
      "source": [
        "[1,2,3] *3\n"
      ],
      "metadata": {
        "colab": {
          "base_uri": "https://localhost:8080/"
        },
        "id": "qMRdCdMS9i3b",
        "outputId": "f9bdcc17-9451-4653-cd44-031b62f0d879"
      },
      "execution_count": 4,
      "outputs": [
        {
          "output_type": "execute_result",
          "data": {
            "text/plain": [
              "[1, 2, 3, 1, 2, 3, 1, 2, 3]"
            ]
          },
          "metadata": {},
          "execution_count": 4
        }
      ]
    },
    {
      "cell_type": "code",
      "source": [
        "[1,2,3] + 2"
      ],
      "metadata": {
        "colab": {
          "base_uri": "https://localhost:8080/",
          "height": 141
        },
        "id": "1y6yGPiR9tnW",
        "outputId": "fdbd5df3-ee18-4567-88da-15cddbe594b0"
      },
      "execution_count": 6,
      "outputs": [
        {
          "output_type": "error",
          "ename": "TypeError",
          "evalue": "can only concatenate list (not \"int\") to list",
          "traceback": [
            "\u001b[0;31m---------------------------------------------------------------------------\u001b[0m",
            "\u001b[0;31mTypeError\u001b[0m                                 Traceback (most recent call last)",
            "\u001b[0;32m<ipython-input-6-3df16d5112e8>\u001b[0m in \u001b[0;36m<cell line: 1>\u001b[0;34m()\u001b[0m\n\u001b[0;32m----> 1\u001b[0;31m \u001b[0;34m[\u001b[0m\u001b[0;36m1\u001b[0m\u001b[0;34m,\u001b[0m\u001b[0;36m2\u001b[0m\u001b[0;34m,\u001b[0m\u001b[0;36m3\u001b[0m\u001b[0;34m]\u001b[0m \u001b[0;34m+\u001b[0m \u001b[0;36m2\u001b[0m\u001b[0;34m\u001b[0m\u001b[0;34m\u001b[0m\u001b[0m\n\u001b[0m",
            "\u001b[0;31mTypeError\u001b[0m: can only concatenate list (not \"int\") to list"
          ]
        }
      ]
    },
    {
      "cell_type": "markdown",
      "metadata": {
        "id": "hKhBvW1McDJs"
      },
      "source": [
        "## Broadcasting Mathematical Operations\n",
        "\n",
        "Notice right off the bat how basic mathematical operations will be applied elementwise in a NumPy array versus a literal interpretation with a Python list:"
      ]
    },
    {
      "cell_type": "code",
      "execution_count": null,
      "metadata": {
        "id": "U--c8B39cDJs",
        "outputId": "5b8d157b-ee80-4296-afaa-0c07c1f4cce6"
      },
      "outputs": [
        {
          "data": {
            "text/plain": [
              "array([3, 6, 9])"
            ]
          },
          "execution_count": 3,
          "metadata": {},
          "output_type": "execute_result"
        }
      ],
      "source": [
        "# Multiplies each element by 3\n",
        "x * 3"
      ]
    },
    {
      "cell_type": "code",
      "execution_count": null,
      "metadata": {
        "id": "DMI8NLgUcDJs",
        "outputId": "401c9f8d-4b9b-4d3f-d1e3-cbac9afd67c5"
      },
      "outputs": [
        {
          "data": {
            "text/plain": [
              "[1, 2, 3, 1, 2, 3, 1, 2, 3]"
            ]
          },
          "execution_count": 4,
          "metadata": {},
          "output_type": "execute_result"
        }
      ],
      "source": [
        "# Returns the list 3 times\n",
        "[1, 2, 3] * 3"
      ]
    },
    {
      "cell_type": "code",
      "execution_count": null,
      "metadata": {
        "id": "1TMAM01OcDJs",
        "outputId": "46218ea5-dd4c-485e-bc75-7f007daa97c2"
      },
      "outputs": [
        {
          "data": {
            "text/plain": [
              "array([3, 4, 5])"
            ]
          },
          "execution_count": 5,
          "metadata": {},
          "output_type": "execute_result"
        }
      ],
      "source": [
        "# Adds two to each element\n",
        "x + 2"
      ]
    },
    {
      "cell_type": "code",
      "execution_count": null,
      "metadata": {
        "id": "FysyURPPcDJs",
        "outputId": "09a36da7-82bf-447b-a164-45cd8ed28030"
      },
      "outputs": [
        {
          "ename": "TypeError",
          "evalue": "can only concatenate list (not \"int\") to list",
          "output_type": "error",
          "traceback": [
            "\u001b[0;31m---------------------------------------------------------------------------\u001b[0m",
            "\u001b[0;31mTypeError\u001b[0m                                 Traceback (most recent call last)",
            "\u001b[0;32m<ipython-input-6-b2ec0299a1e2>\u001b[0m in \u001b[0;36m<module>\u001b[0;34m\u001b[0m\n\u001b[1;32m      1\u001b[0m \u001b[0;31m# Returns an error; different data types\u001b[0m\u001b[0;34m\u001b[0m\u001b[0;34m\u001b[0m\u001b[0;34m\u001b[0m\u001b[0m\n\u001b[0;32m----> 2\u001b[0;31m \u001b[0;34m[\u001b[0m\u001b[0;36m1\u001b[0m\u001b[0;34m,\u001b[0m \u001b[0;36m2\u001b[0m\u001b[0;34m,\u001b[0m \u001b[0;36m3\u001b[0m\u001b[0;34m]\u001b[0m \u001b[0;34m+\u001b[0m \u001b[0;36m2\u001b[0m\u001b[0;34m\u001b[0m\u001b[0;34m\u001b[0m\u001b[0m\n\u001b[0m",
            "\u001b[0;31mTypeError\u001b[0m: can only concatenate list (not \"int\") to list"
          ]
        }
      ],
      "source": [
        "# Returns an error; different data types\n",
        "[1, 2, 3] + 2"
      ]
    },
    {
      "cell_type": "code",
      "source": [
        "y"
      ],
      "metadata": {
        "colab": {
          "base_uri": "https://localhost:8080/"
        },
        "id": "0rLmdIm_99I8",
        "outputId": "25b5ed1b-48e0-43da-dc98-a747ee986b7a"
      },
      "execution_count": 8,
      "outputs": [
        {
          "output_type": "execute_result",
          "data": {
            "text/plain": [
              "array([1, 2, 3])"
            ]
          },
          "metadata": {},
          "execution_count": 8
        }
      ]
    },
    {
      "cell_type": "code",
      "source": [
        "np.add(y,1)"
      ],
      "metadata": {
        "colab": {
          "base_uri": "https://localhost:8080/"
        },
        "id": "63BlyALt93Pq",
        "outputId": "feaafacf-9507-48fb-87c7-c4ee455e3354"
      },
      "execution_count": 7,
      "outputs": [
        {
          "output_type": "execute_result",
          "data": {
            "text/plain": [
              "array([2, 3, 4])"
            ]
          },
          "metadata": {},
          "execution_count": 7
        }
      ]
    },
    {
      "cell_type": "code",
      "source": [
        "np.power(y,3)"
      ],
      "metadata": {
        "colab": {
          "base_uri": "https://localhost:8080/"
        },
        "id": "ZYY38_2B9-k5",
        "outputId": "0243f214-83a8-453a-ec05-0fb929c5f6dc"
      },
      "execution_count": 9,
      "outputs": [
        {
          "output_type": "execute_result",
          "data": {
            "text/plain": [
              "array([ 1,  8, 27])"
            ]
          },
          "metadata": {},
          "execution_count": 9
        }
      ]
    },
    {
      "cell_type": "markdown",
      "metadata": {
        "id": "JQvcSU8OcDJt"
      },
      "source": [
        "## Even more math!"
      ]
    },
    {
      "cell_type": "markdown",
      "metadata": {
        "id": "DlCW7UH2cDJt"
      },
      "source": [
        "### Scalar Math\n",
        "\n",
        "|   |   |\n",
        "|---|---|\n",
        "|`np.add(arr,1)` | Add 1 to each array element  |\n",
        "|`np.subtract(arr,2)`  | Subtract 2 from each array element  |\n",
        "|`np.multiply(arr,3)`  | Multiply each array element by 3 |\n",
        "|`np.divide(arr,4)`    | Divide each array element by 4 (returns `np.nan` for division by zero) |\n",
        "|`np.power(arr,5)`     | Raise each array element to the 5th power |\n",
        "\n",
        "\n",
        "\n",
        "\n",
        "### Vector Math\n",
        "\n",
        "|   |   |\n",
        "|---|---|\n",
        "|`np.add(arr1,arr2)` | Elementwise add arr2 to arr1  |\n",
        "|`np.subtract(arr1,arr2)`  | Elementwise subtract arr2 from arr1  |\n",
        "|`np.multiply(arr1,arr2)`  | Elementwise multiply arr1 by arr2 |\n",
        "|`np.divide(arr1,arr2)`    | Elementwise divide arr1 by arr2 |\n",
        "|`np.power(arr1,arr2)`     | Elementwise raise arr1 raised to the power of arr2 |\n",
        "|`np.array_equal(arr1,arr2)`| Returns True if the arrays have the same elements and shape |\n",
        "|`np.sqrt(arr)`            |  Square root of each element in the array                    |\n",
        "|`np.sin(arr)`             |  Sine of each element in the array                           |\n",
        "|`np.log(arr)`             |  Natural log of each element in the array                    |\n",
        "|`np.abs(arr)`             |  Absolute value of each element in the array                 |\n",
        "|`np.ceil(arr)`            |  Rounds up to the nearest int                                |\n",
        "|`np.floor(arr)`           |  Rounds down to the nearest int                              |\n",
        "|`np.round(arr)`           |  Rounds to the nearest int                                   |"
      ]
    },
    {
      "cell_type": "markdown",
      "metadata": {
        "id": "oA-ySe3dcDJt"
      },
      "source": [
        "### Here's a few more examples from the list above"
      ]
    },
    {
      "cell_type": "code",
      "execution_count": null,
      "metadata": {
        "id": "8MGsULUccDJt",
        "outputId": "b1f01d2e-16c9-44cf-aaec-59e142b07493"
      },
      "outputs": [
        {
          "data": {
            "text/plain": [
              "[1, 2, 3, 4, 5, 6]"
            ]
          },
          "execution_count": 7,
          "metadata": {},
          "output_type": "execute_result"
        }
      ],
      "source": [
        "# Adding raw lists is just appending\n",
        "[1, 2, 3] + [4, 5, 6]"
      ]
    },
    {
      "cell_type": "code",
      "source": [
        "[1,2,3] + [4,5,6]"
      ],
      "metadata": {
        "colab": {
          "base_uri": "https://localhost:8080/"
        },
        "id": "jYKymSZp-rfs",
        "outputId": "7e4fa8bc-8242-4638-9d40-59e61757dff7"
      },
      "execution_count": 10,
      "outputs": [
        {
          "output_type": "execute_result",
          "data": {
            "text/plain": [
              "[1, 2, 3, 4, 5, 6]"
            ]
          },
          "metadata": {},
          "execution_count": 10
        }
      ]
    },
    {
      "cell_type": "code",
      "execution_count": null,
      "metadata": {
        "id": "50s3cjwccDJt",
        "outputId": "23da998c-75be-40c0-cca1-8dbc30e9bf3f"
      },
      "outputs": [
        {
          "data": {
            "text/plain": [
              "array([5, 7, 9])"
            ]
          },
          "execution_count": 8,
          "metadata": {},
          "output_type": "execute_result"
        }
      ],
      "source": [
        "# Adds elements\n",
        "np.array([1, 2, 3]) + np.array([4, 5, 6])"
      ]
    },
    {
      "cell_type": "code",
      "source": [
        "np.array([1,2,3]) + np.array([4,5,6])"
      ],
      "metadata": {
        "colab": {
          "base_uri": "https://localhost:8080/"
        },
        "id": "hT0Tapq--yMk",
        "outputId": "5600802f-8a0e-4068-cf4c-1f4b80140ec1"
      },
      "execution_count": 11,
      "outputs": [
        {
          "output_type": "execute_result",
          "data": {
            "text/plain": [
              "array([5, 7, 9])"
            ]
          },
          "metadata": {},
          "execution_count": 11
        }
      ]
    },
    {
      "cell_type": "code",
      "source": [
        "x = np.array([1,2,3])\n",
        "y = np.array([4,5,6])\n",
        "np.add(x,y)"
      ],
      "metadata": {
        "colab": {
          "base_uri": "https://localhost:8080/"
        },
        "id": "tt2ddIx4_IyA",
        "outputId": "4393017f-9384-42dc-cc73-e49f6bf73397"
      },
      "execution_count": 12,
      "outputs": [
        {
          "output_type": "execute_result",
          "data": {
            "text/plain": [
              "array([5, 7, 9])"
            ]
          },
          "metadata": {},
          "execution_count": 12
        }
      ]
    },
    {
      "cell_type": "code",
      "execution_count": null,
      "metadata": {
        "id": "EEOi3_uJcDJt",
        "outputId": "96d5b629-828f-4886-ba38-cdaf9a8d4f3f"
      },
      "outputs": [
        {
          "data": {
            "text/plain": [
              "array([5, 7, 9])"
            ]
          },
          "execution_count": 9,
          "metadata": {},
          "output_type": "execute_result"
        }
      ],
      "source": [
        "# Same as above with built-in method\n",
        "x = np.array([1, 2, 3])\n",
        "y = np.array([4, 5, 6])\n",
        "np.add(x, y)"
      ]
    },
    {
      "cell_type": "code",
      "source": [
        "np.subtract(x,y)"
      ],
      "metadata": {
        "colab": {
          "base_uri": "https://localhost:8080/"
        },
        "id": "Fmp4b3Eu_Rhe",
        "outputId": "a6a97fcd-17f1-44ea-ae8f-88389ccd1d6b"
      },
      "execution_count": 13,
      "outputs": [
        {
          "output_type": "execute_result",
          "data": {
            "text/plain": [
              "array([-3, -3, -3])"
            ]
          },
          "metadata": {},
          "execution_count": 13
        }
      ]
    },
    {
      "cell_type": "markdown",
      "metadata": {
        "id": "EpX7AE60cDJt"
      },
      "source": [
        "## Multidimensional Arrays\n",
        "NumPy arrays are also very useful for storing multidimensional data such as matrices. Notice how NumPy tries to nicely align the elements."
      ]
    },
    {
      "cell_type": "code",
      "execution_count": null,
      "metadata": {
        "id": "vGbD_Ol-cDJu",
        "outputId": "9ab8a24f-7b67-4752-e373-3ca08fe2996c"
      },
      "outputs": [
        {
          "name": "stdout",
          "output_type": "stream",
          "text": [
            "<class 'list'>\n"
          ]
        },
        {
          "data": {
            "text/plain": [
              "[[1, 2], [3, 4]]"
            ]
          },
          "execution_count": 10,
          "metadata": {},
          "output_type": "execute_result"
        }
      ],
      "source": [
        "# An ordinary nested list\n",
        "y = [[1, 2], [3, 4]]\n",
        "print(type(y))\n",
        "y"
      ]
    },
    {
      "cell_type": "code",
      "execution_count": null,
      "metadata": {
        "id": "1joVG_97cDJu",
        "outputId": "f259967f-4f79-4825-ef7c-2023edd4e1ef"
      },
      "outputs": [
        {
          "name": "stdout",
          "output_type": "stream",
          "text": [
            "<class 'numpy.ndarray'>\n"
          ]
        },
        {
          "data": {
            "text/plain": [
              "array([[1, 2],\n",
              "       [3, 4]])"
            ]
          },
          "execution_count": 11,
          "metadata": {},
          "output_type": "execute_result"
        }
      ],
      "source": [
        "# Reformatted as a NumPy array\n",
        "y = np.array([[1, 2], [3, 4]])\n",
        "print(type(y))\n",
        "y"
      ]
    },
    {
      "cell_type": "code",
      "source": [
        "y=[[1,2],[3,4,5]]\n",
        "print(type(y))"
      ],
      "metadata": {
        "colab": {
          "base_uri": "https://localhost:8080/"
        },
        "id": "pK-YFPEk_pqL",
        "outputId": "a0f116da-86ea-4391-e6db-7fd1101fd1e9"
      },
      "execution_count": 15,
      "outputs": [
        {
          "output_type": "stream",
          "name": "stdout",
          "text": [
            "<class 'list'>\n"
          ]
        }
      ]
    },
    {
      "cell_type": "code",
      "source": [
        "y=np.array([[1,2],[3,4]])\n",
        "print(y)\n",
        "print(y.shape)"
      ],
      "metadata": {
        "colab": {
          "base_uri": "https://localhost:8080/"
        },
        "id": "hsFrteWY_qWi",
        "outputId": "175454dc-3a63-441a-a11b-c57fba259dfb"
      },
      "execution_count": 19,
      "outputs": [
        {
          "output_type": "stream",
          "name": "stdout",
          "text": [
            "[[1 2]\n",
            " [3 4]]\n",
            "(2, 2)\n"
          ]
        }
      ]
    },
    {
      "cell_type": "markdown",
      "metadata": {
        "id": "AmDRihVfcDJu"
      },
      "source": [
        "## The Shape Attribute\n",
        "One of the most important attributes to understand with this is the shape of a NumPy array."
      ]
    },
    {
      "cell_type": "code",
      "execution_count": null,
      "metadata": {
        "id": "jtGFidPqcDJu",
        "outputId": "ceda8da3-1506-4dd3-f89b-37235334869c"
      },
      "outputs": [
        {
          "data": {
            "text/plain": [
              "(2, 2)"
            ]
          },
          "execution_count": 12,
          "metadata": {},
          "output_type": "execute_result"
        }
      ],
      "source": [
        "y.shape"
      ]
    },
    {
      "cell_type": "code",
      "source": [
        "y = np.array([[1, 2, 3],[4, 5, 6]])\n",
        "print(y.shape)\n",
        "y"
      ],
      "metadata": {
        "colab": {
          "base_uri": "https://localhost:8080/"
        },
        "id": "UtBFvMyGAptx",
        "outputId": "24da2b6a-8026-4229-8ca6-1a1d0145f475"
      },
      "execution_count": 21,
      "outputs": [
        {
          "output_type": "execute_result",
          "data": {
            "text/plain": [
              "(2, 3)"
            ]
          },
          "metadata": {},
          "execution_count": 21
        }
      ]
    },
    {
      "cell_type": "code",
      "execution_count": null,
      "metadata": {
        "id": "1KFPg5QEcDJu",
        "outputId": "6051a41f-ce6e-4e2e-cc39-fc70451542b1"
      },
      "outputs": [
        {
          "name": "stdout",
          "output_type": "stream",
          "text": [
            "(2, 3)\n"
          ]
        },
        {
          "data": {
            "text/plain": [
              "array([[1, 2, 3],\n",
              "       [4, 5, 6]])"
            ]
          },
          "execution_count": 13,
          "metadata": {},
          "output_type": "execute_result"
        }
      ],
      "source": [
        "y = np.array([[1, 2, 3],[4, 5, 6]])\n",
        "print(y.shape)\n",
        "y"
      ]
    },
    {
      "cell_type": "code",
      "execution_count": 22,
      "metadata": {
        "id": "Nqt9PkJtcDJu",
        "outputId": "8b48891b-a66c-4519-a637-ef3eb5bf3e77",
        "colab": {
          "base_uri": "https://localhost:8080/"
        }
      },
      "outputs": [
        {
          "output_type": "stream",
          "name": "stdout",
          "text": [
            "(3, 2)\n"
          ]
        },
        {
          "output_type": "execute_result",
          "data": {
            "text/plain": [
              "array([[1, 2],\n",
              "       [3, 4],\n",
              "       [5, 6]])"
            ]
          },
          "metadata": {},
          "execution_count": 22
        }
      ],
      "source": [
        "y = np.array([[1, 2],[3, 4],[5, 6]])\n",
        "print(y.shape)\n",
        "y"
      ]
    },
    {
      "cell_type": "markdown",
      "metadata": {
        "id": "sxhkFufncDJu"
      },
      "source": [
        "### We can also have higher dimensional data such as working with 3 dimensional data\n",
        "<img src=\"https://curriculum-content.s3.amazonaws.com/data-science/images/Image_195_3D array.png\" width=500>"
      ]
    },
    {
      "cell_type": "code",
      "execution_count": null,
      "metadata": {
        "id": "S6ZCwnOicDJu",
        "outputId": "7a4b654d-4b45-48d6-a89b-b0457e57a74b"
      },
      "outputs": [
        {
          "name": "stdout",
          "output_type": "stream",
          "text": [
            "(2, 3, 2)\n"
          ]
        },
        {
          "data": {
            "text/plain": [
              "array([[[1, 2],\n",
              "        [3, 4],\n",
              "        [5, 6]],\n",
              "\n",
              "       [[1, 2],\n",
              "        [3, 4],\n",
              "        [5, 6]]])"
            ]
          },
          "execution_count": 15,
          "metadata": {},
          "output_type": "execute_result"
        }
      ],
      "source": [
        "y = np.array([[[1, 2],[3, 4],[5, 6]],\n",
        "             [[1, 2],[3, 4],[5, 6]]\n",
        "             ])\n",
        "print(y.shape)\n",
        "y"
      ]
    },
    {
      "cell_type": "markdown",
      "metadata": {
        "id": "1x16Nvd6cDJu"
      },
      "source": [
        "## Built-in Methods for Creating Arrays\n",
        "NumPy also has several built-in methods for creating arrays that are useful in practice. These methods are particularly useful:\n",
        "* `np.zeros(shape)`\n",
        "* `np.ones(shape)`\n",
        "* `np.full(shape, fill)`"
      ]
    },
    {
      "cell_type": "code",
      "execution_count": null,
      "metadata": {
        "id": "cSwO-OagcDJu",
        "outputId": "87478fb2-cfc0-4b35-eca9-38209c3ab173"
      },
      "outputs": [
        {
          "data": {
            "text/plain": [
              "array([0., 0., 0., 0., 0.])"
            ]
          },
          "execution_count": 16,
          "metadata": {},
          "output_type": "execute_result"
        }
      ],
      "source": [
        "# One dimensional; 5 elements\n",
        "np.zeros(5)"
      ]
    },
    {
      "cell_type": "code",
      "execution_count": null,
      "metadata": {
        "id": "-Jah_eaDcDJv",
        "outputId": "f3bba6fe-104a-4fde-85d4-bccd96ad2370"
      },
      "outputs": [
        {
          "data": {
            "text/plain": [
              "array([[0., 0.],\n",
              "       [0., 0.]])"
            ]
          },
          "execution_count": 17,
          "metadata": {},
          "output_type": "execute_result"
        }
      ],
      "source": [
        "# Two dimensional; 2x2 matrix\n",
        "np.zeros([2, 2])"
      ]
    },
    {
      "cell_type": "code",
      "execution_count": null,
      "metadata": {
        "id": "-S7rxrshcDJv",
        "outputId": "38135176-e776-4c22-eb16-adbce18bc606"
      },
      "outputs": [
        {
          "data": {
            "text/plain": [
              "array([[0., 0., 0., 0., 0.],\n",
              "       [0., 0., 0., 0., 0.],\n",
              "       [0., 0., 0., 0., 0.]])"
            ]
          },
          "execution_count": 18,
          "metadata": {},
          "output_type": "execute_result"
        }
      ],
      "source": [
        "# 2 dimensional;  3x5 matrix\n",
        "np.zeros([3, 5])"
      ]
    },
    {
      "cell_type": "code",
      "execution_count": null,
      "metadata": {
        "id": "bCuLGKiKcDJv",
        "outputId": "94cf12fc-1820-4bc2-b13a-4200080b607c"
      },
      "outputs": [
        {
          "data": {
            "text/plain": [
              "array([[[0., 0., 0., 0., 0.],\n",
              "        [0., 0., 0., 0., 0.],\n",
              "        [0., 0., 0., 0., 0.],\n",
              "        [0., 0., 0., 0., 0.]],\n",
              "\n",
              "       [[0., 0., 0., 0., 0.],\n",
              "        [0., 0., 0., 0., 0.],\n",
              "        [0., 0., 0., 0., 0.],\n",
              "        [0., 0., 0., 0., 0.]],\n",
              "\n",
              "       [[0., 0., 0., 0., 0.],\n",
              "        [0., 0., 0., 0., 0.],\n",
              "        [0., 0., 0., 0., 0.],\n",
              "        [0., 0., 0., 0., 0.]]])"
            ]
          },
          "execution_count": 19,
          "metadata": {},
          "output_type": "execute_result"
        }
      ],
      "source": [
        "# 3 dimensional; 3 4x5 matrices\n",
        "np.zeros([3, 4, 5])"
      ]
    },
    {
      "cell_type": "markdown",
      "metadata": {
        "id": "Waw-nOkucDJv"
      },
      "source": [
        "### Similarly the `np.ones()` method returns an array of ones"
      ]
    },
    {
      "cell_type": "code",
      "execution_count": null,
      "metadata": {
        "id": "Hxqd6KE2cDJv",
        "outputId": "ca3773d6-1236-4aa9-97cb-c5e699ba82f0"
      },
      "outputs": [
        {
          "data": {
            "text/plain": [
              "array([1., 1., 1., 1., 1.])"
            ]
          },
          "execution_count": 20,
          "metadata": {},
          "output_type": "execute_result"
        }
      ],
      "source": [
        "np.ones(5)"
      ]
    },
    {
      "cell_type": "code",
      "execution_count": null,
      "metadata": {
        "id": "oLKBu4_0cDJv",
        "outputId": "a280e040-3a26-4ac0-e720-badaaef39bf6"
      },
      "outputs": [
        {
          "data": {
            "text/plain": [
              "array([[1., 1., 1., 1.],\n",
              "       [1., 1., 1., 1.],\n",
              "       [1., 1., 1., 1.]])"
            ]
          },
          "execution_count": 21,
          "metadata": {},
          "output_type": "execute_result"
        }
      ],
      "source": [
        "np.ones([3, 4])"
      ]
    },
    {
      "cell_type": "markdown",
      "metadata": {
        "id": "F1X3HyjMcDJv"
      },
      "source": [
        "### The `np.full()` method allows you to create an array of arbitrary values"
      ]
    },
    {
      "cell_type": "code",
      "execution_count": null,
      "metadata": {
        "id": "XsLKYdBfcDJv",
        "outputId": "92e76965-5d6d-4f65-e02e-35f3e411c360"
      },
      "outputs": [
        {
          "data": {
            "text/plain": [
              "array([3, 3, 3, 3, 3])"
            ]
          },
          "execution_count": 22,
          "metadata": {},
          "output_type": "execute_result"
        }
      ],
      "source": [
        "# Create a 1d array with 5 elements, all of which are 3\n",
        "np.full(5, 3)"
      ]
    },
    {
      "cell_type": "code",
      "execution_count": null,
      "metadata": {
        "id": "T0stlKpicDJv",
        "outputId": "ee0124cf-4164-4ce9-c075-ab858d30a26d"
      },
      "outputs": [
        {
          "data": {
            "text/plain": [
              "array([0, 1, 2, 3, 4])"
            ]
          },
          "execution_count": 23,
          "metadata": {},
          "output_type": "execute_result"
        }
      ],
      "source": [
        "# Create a 1d array with 5 elements, filling them with the values 0 to 4\n",
        "np.full(5, range(5))"
      ]
    },
    {
      "cell_type": "code",
      "execution_count": null,
      "metadata": {
        "id": "hCrAcOF-cDJv",
        "outputId": "e50f737b-65ce-45c1-c982-e56134de1089"
      },
      "outputs": [
        {
          "ename": "ValueError",
          "evalue": "could not broadcast input array from shape (10) into shape (2,5)",
          "output_type": "error",
          "traceback": [
            "\u001b[0;31m---------------------------------------------------------------------------\u001b[0m",
            "\u001b[0;31mValueError\u001b[0m                                Traceback (most recent call last)",
            "\u001b[0;32m<ipython-input-24-ea647ac42aad>\u001b[0m in \u001b[0;36m<module>\u001b[0;34m\u001b[0m\n\u001b[1;32m      1\u001b[0m \u001b[0;31m# Sadly this trick won't work for multidimensional arrays\u001b[0m\u001b[0;34m\u001b[0m\u001b[0;34m\u001b[0m\u001b[0;34m\u001b[0m\u001b[0m\n\u001b[0;32m----> 2\u001b[0;31m \u001b[0mnp\u001b[0m\u001b[0;34m.\u001b[0m\u001b[0mfull\u001b[0m\u001b[0;34m(\u001b[0m\u001b[0;34m[\u001b[0m\u001b[0;36m2\u001b[0m\u001b[0;34m,\u001b[0m \u001b[0;36m5\u001b[0m\u001b[0;34m]\u001b[0m\u001b[0;34m,\u001b[0m \u001b[0mrange\u001b[0m\u001b[0;34m(\u001b[0m\u001b[0;36m10\u001b[0m\u001b[0;34m)\u001b[0m\u001b[0;34m)\u001b[0m\u001b[0;34m\u001b[0m\u001b[0;34m\u001b[0m\u001b[0m\n\u001b[0m",
            "\u001b[0;32m//anaconda3/lib/python3.7/site-packages/numpy/core/numeric.py\u001b[0m in \u001b[0;36mfull\u001b[0;34m(shape, fill_value, dtype, order)\u001b[0m\n\u001b[1;32m    334\u001b[0m         \u001b[0mdtype\u001b[0m \u001b[0;34m=\u001b[0m \u001b[0marray\u001b[0m\u001b[0;34m(\u001b[0m\u001b[0mfill_value\u001b[0m\u001b[0;34m)\u001b[0m\u001b[0;34m.\u001b[0m\u001b[0mdtype\u001b[0m\u001b[0;34m\u001b[0m\u001b[0;34m\u001b[0m\u001b[0m\n\u001b[1;32m    335\u001b[0m     \u001b[0ma\u001b[0m \u001b[0;34m=\u001b[0m \u001b[0mempty\u001b[0m\u001b[0;34m(\u001b[0m\u001b[0mshape\u001b[0m\u001b[0;34m,\u001b[0m \u001b[0mdtype\u001b[0m\u001b[0;34m,\u001b[0m \u001b[0morder\u001b[0m\u001b[0;34m)\u001b[0m\u001b[0;34m\u001b[0m\u001b[0;34m\u001b[0m\u001b[0m\n\u001b[0;32m--> 336\u001b[0;31m     \u001b[0mmultiarray\u001b[0m\u001b[0;34m.\u001b[0m\u001b[0mcopyto\u001b[0m\u001b[0;34m(\u001b[0m\u001b[0ma\u001b[0m\u001b[0;34m,\u001b[0m \u001b[0mfill_value\u001b[0m\u001b[0;34m,\u001b[0m \u001b[0mcasting\u001b[0m\u001b[0;34m=\u001b[0m\u001b[0;34m'unsafe'\u001b[0m\u001b[0;34m)\u001b[0m\u001b[0;34m\u001b[0m\u001b[0;34m\u001b[0m\u001b[0m\n\u001b[0m\u001b[1;32m    337\u001b[0m     \u001b[0;32mreturn\u001b[0m \u001b[0ma\u001b[0m\u001b[0;34m\u001b[0m\u001b[0;34m\u001b[0m\u001b[0m\n\u001b[1;32m    338\u001b[0m \u001b[0;34m\u001b[0m\u001b[0m\n",
            "\u001b[0;31mValueError\u001b[0m: could not broadcast input array from shape (10) into shape (2,5)"
          ]
        }
      ],
      "source": [
        "# Sadly this trick won't work for multidimensional arrays\n",
        "np.full([2, 5], range(10))"
      ]
    },
    {
      "cell_type": "code",
      "execution_count": null,
      "metadata": {
        "id": "aoAMsPLFcDJv",
        "outputId": "f51ef547-8d20-44fa-a0ce-07859e1a16c0"
      },
      "outputs": [
        {
          "data": {
            "text/plain": [
              "array([[3.14159265, 3.14159265, 3.14159265, 3.14159265, 3.14159265],\n",
              "       [3.14159265, 3.14159265, 3.14159265, 3.14159265, 3.14159265]])"
            ]
          },
          "execution_count": 25,
          "metadata": {},
          "output_type": "execute_result"
        }
      ],
      "source": [
        "# NumPy also has useful built-in mathematical numbers\n",
        "np.full([2, 5], np.pi)"
      ]
    },
    {
      "cell_type": "markdown",
      "metadata": {
        "id": "IPg608qvcDJv"
      },
      "source": [
        "## Numpy array subsetting"
      ]
    },
    {
      "cell_type": "markdown",
      "metadata": {
        "id": "mWV_9LuicDJv"
      },
      "source": [
        "You can subset NumPy arrays very similarly to list slicing in python."
      ]
    },
    {
      "cell_type": "code",
      "execution_count": null,
      "metadata": {
        "id": "7uZFdafJcDJ5",
        "outputId": "7ed47b5c-886d-40df-a26b-94c767a852fa"
      },
      "outputs": [
        {
          "name": "stdout",
          "output_type": "stream",
          "text": [
            "(4, 3)\n"
          ]
        },
        {
          "data": {
            "text/plain": [
              "array([[ 1,  2,  3],\n",
              "       [ 4,  5,  6],\n",
              "       [ 7,  8,  9],\n",
              "       [10, 11, 12]])"
            ]
          },
          "execution_count": 26,
          "metadata": {},
          "output_type": "execute_result"
        }
      ],
      "source": [
        "x = np.array([[1, 2, 3], [4, 5, 6], [7, 8, 9], [10, 11, 12]])\n",
        "print(x.shape)\n",
        "x"
      ]
    },
    {
      "cell_type": "code",
      "source": [
        "x=np.array([[1,2,3],[4, 5, 6],[7, 8, 9],[10, 11, 12]])\n",
        "print(x.shape)\n",
        "x"
      ],
      "metadata": {
        "colab": {
          "base_uri": "https://localhost:8080/"
        },
        "id": "h6eW8q_gI1W8",
        "outputId": "7ac9528d-5d66-4ff1-81d0-ebcba8c1a66b"
      },
      "execution_count": 23,
      "outputs": [
        {
          "output_type": "stream",
          "name": "stdout",
          "text": [
            "(4, 3)\n"
          ]
        },
        {
          "output_type": "execute_result",
          "data": {
            "text/plain": [
              "array([[ 1,  2,  3],\n",
              "       [ 4,  5,  6],\n",
              "       [ 7,  8,  9],\n",
              "       [10, 11, 12]])"
            ]
          },
          "metadata": {},
          "execution_count": 23
        }
      ]
    },
    {
      "cell_type": "code",
      "source": [
        "x[3]"
      ],
      "metadata": {
        "colab": {
          "base_uri": "https://localhost:8080/"
        },
        "id": "LGwUwb7wJRuU",
        "outputId": "c9b9d9be-4b1a-4cf3-a2fe-db638a6860a1"
      },
      "execution_count": 28,
      "outputs": [
        {
          "output_type": "execute_result",
          "data": {
            "text/plain": [
              "array([10, 11, 12])"
            ]
          },
          "metadata": {},
          "execution_count": 28
        }
      ]
    },
    {
      "cell_type": "code",
      "execution_count": 24,
      "metadata": {
        "id": "3VSsSCW3cDJ5",
        "outputId": "5b196d23-e5b8-4478-d775-cd94de7b078b",
        "colab": {
          "base_uri": "https://localhost:8080/"
        }
      },
      "outputs": [
        {
          "output_type": "execute_result",
          "data": {
            "text/plain": [
              "array([1, 2, 3])"
            ]
          },
          "metadata": {},
          "execution_count": 24
        }
      ],
      "source": [
        "# Retrieving the first row\n",
        "x[0]"
      ]
    },
    {
      "cell_type": "code",
      "source": [
        "x[1:]"
      ],
      "metadata": {
        "colab": {
          "base_uri": "https://localhost:8080/"
        },
        "id": "zjW77bpWJXqc",
        "outputId": "97abd3f6-c00d-4f7f-e3ff-5b70064f289c"
      },
      "execution_count": 29,
      "outputs": [
        {
          "output_type": "execute_result",
          "data": {
            "text/plain": [
              "array([[ 4,  5,  6],\n",
              "       [ 7,  8,  9],\n",
              "       [10, 11, 12]])"
            ]
          },
          "metadata": {},
          "execution_count": 29
        }
      ]
    },
    {
      "cell_type": "code",
      "source": [
        "x[:,0]"
      ],
      "metadata": {
        "colab": {
          "base_uri": "https://localhost:8080/"
        },
        "id": "2Ce8ysyYJQTy",
        "outputId": "662a460b-5333-49ab-eeb3-c6cb01ddd953"
      },
      "execution_count": 30,
      "outputs": [
        {
          "output_type": "execute_result",
          "data": {
            "text/plain": [
              "array([ 1,  4,  7, 10])"
            ]
          },
          "metadata": {},
          "execution_count": 30
        }
      ]
    },
    {
      "cell_type": "code",
      "source": [
        "x[:,1:3]"
      ],
      "metadata": {
        "colab": {
          "base_uri": "https://localhost:8080/"
        },
        "id": "KpMbj2oeJPYN",
        "outputId": "dea152c0-2cbe-4507-8a1a-57920af1a309"
      },
      "execution_count": 34,
      "outputs": [
        {
          "output_type": "execute_result",
          "data": {
            "text/plain": [
              "array([[ 2,  3],\n",
              "       [ 5,  6],\n",
              "       [ 8,  9],\n",
              "       [11, 12]])"
            ]
          },
          "metadata": {},
          "execution_count": 34
        }
      ]
    },
    {
      "cell_type": "code",
      "execution_count": null,
      "metadata": {
        "id": "jSrZiBQQcDJ5",
        "outputId": "a31f634e-115f-4b0d-8bb2-2d55e4bb2c3c"
      },
      "outputs": [
        {
          "data": {
            "text/plain": [
              "array([[ 4,  5,  6],\n",
              "       [ 7,  8,  9],\n",
              "       [10, 11, 12]])"
            ]
          },
          "execution_count": 28,
          "metadata": {},
          "output_type": "execute_result"
        }
      ],
      "source": [
        "# Retrieving all rows after the first row\n",
        "x[1:]"
      ]
    },
    {
      "cell_type": "markdown",
      "metadata": {
        "id": "ZK5i-vf0cDJ5"
      },
      "source": [
        "### This becomes particularly useful in multidimensional arrays when we can slice on multiple dimensions"
      ]
    },
    {
      "cell_type": "code",
      "execution_count": null,
      "metadata": {
        "id": "oqpsDE18cDJ5",
        "outputId": "e4bd95b3-7a08-4e0b-f7c5-f4347291d9af"
      },
      "outputs": [
        {
          "data": {
            "text/plain": [
              "array([ 1,  4,  7, 10])"
            ]
          },
          "execution_count": 29,
          "metadata": {},
          "output_type": "execute_result"
        }
      ],
      "source": [
        "# All rows, column 0\n",
        "x[:,0]"
      ]
    },
    {
      "cell_type": "code",
      "source": [
        "x"
      ],
      "metadata": {
        "colab": {
          "base_uri": "https://localhost:8080/"
        },
        "id": "XKrc0NwIKKWm",
        "outputId": "3db9fe11-27ac-4852-d425-0a862246c35b"
      },
      "execution_count": 35,
      "outputs": [
        {
          "output_type": "execute_result",
          "data": {
            "text/plain": [
              "array([[ 1,  2,  3],\n",
              "       [ 4,  5,  6],\n",
              "       [ 7,  8,  9],\n",
              "       [10, 11, 12]])"
            ]
          },
          "metadata": {},
          "execution_count": 35
        }
      ]
    },
    {
      "cell_type": "code",
      "execution_count": null,
      "metadata": {
        "id": "I_3vG4OycDJ5",
        "outputId": "0c028023-bcb4-4c95-a930-91d1e3c4de43"
      },
      "outputs": [
        {
          "data": {
            "text/plain": [
              "array([[ 8,  9],\n",
              "       [11, 12]])"
            ]
          },
          "execution_count": 30,
          "metadata": {},
          "output_type": "execute_result"
        }
      ],
      "source": [
        "# Rows 2 through 4, columns 1 through 3\n",
        "x[2:4,1:3]"
      ]
    },
    {
      "cell_type": "markdown",
      "metadata": {
        "id": "dnhiKnKMcDJ5"
      },
      "source": [
        "### Notice that you can't slice in multiple dimensions naturally with built-in lists"
      ]
    },
    {
      "cell_type": "code",
      "execution_count": null,
      "metadata": {
        "id": "eHf_agTncDJ5",
        "outputId": "38c64e56-13d1-4086-b20e-29884c2d4e5f"
      },
      "outputs": [
        {
          "data": {
            "text/plain": [
              "[[1, 2, 3], [4, 5, 6], [7, 8, 9], [10, 11, 12]]"
            ]
          },
          "execution_count": 31,
          "metadata": {},
          "output_type": "execute_result"
        }
      ],
      "source": [
        "x = [[1, 2, 3], [4, 5, 6], [7, 8, 9], [10, 11, 12]]\n",
        "x"
      ]
    },
    {
      "cell_type": "code",
      "execution_count": null,
      "metadata": {
        "id": "MAUGBLw7cDJ5",
        "outputId": "1cbb79a3-1360-469d-e241-b124b9ce2e3a"
      },
      "outputs": [
        {
          "data": {
            "text/plain": [
              "[1, 2, 3]"
            ]
          },
          "execution_count": 32,
          "metadata": {},
          "output_type": "execute_result"
        }
      ],
      "source": [
        "x[0]"
      ]
    },
    {
      "cell_type": "code",
      "execution_count": null,
      "metadata": {
        "id": "bQ9HeqB3cDJ5",
        "outputId": "048da758-874d-4fcc-98b5-852f995c280f"
      },
      "outputs": [
        {
          "ename": "TypeError",
          "evalue": "list indices must be integers or slices, not tuple",
          "output_type": "error",
          "traceback": [
            "\u001b[0;31m---------------------------------------------------------------------------\u001b[0m",
            "\u001b[0;31mTypeError\u001b[0m                                 Traceback (most recent call last)",
            "\u001b[0;32m<ipython-input-33-879a04ce8a40>\u001b[0m in \u001b[0;36m<module>\u001b[0;34m\u001b[0m\n\u001b[0;32m----> 1\u001b[0;31m \u001b[0mx\u001b[0m\u001b[0;34m[\u001b[0m\u001b[0;34m:\u001b[0m\u001b[0;34m,\u001b[0m\u001b[0;36m0\u001b[0m\u001b[0;34m]\u001b[0m\u001b[0;34m\u001b[0m\u001b[0;34m\u001b[0m\u001b[0m\n\u001b[0m",
            "\u001b[0;31mTypeError\u001b[0m: list indices must be integers or slices, not tuple"
          ]
        }
      ],
      "source": [
        "x[:,0]"
      ]
    },
    {
      "cell_type": "code",
      "execution_count": null,
      "metadata": {
        "id": "Ed_t32oEcDJ5",
        "outputId": "75a30976-21c6-4820-b2d8-66425cd4c8ca"
      },
      "outputs": [
        {
          "data": {
            "text/plain": [
              "[1, 4, 7, 10]"
            ]
          },
          "execution_count": 34,
          "metadata": {},
          "output_type": "execute_result"
        }
      ],
      "source": [
        "# To slice along a second dimension with lists we must verbosely use a list comprehension\n",
        "[i[0] for i in x]"
      ]
    },
    {
      "cell_type": "code",
      "execution_count": null,
      "metadata": {
        "id": "8zskLmdmcDJ5",
        "outputId": "630bf293-3d83-4a9e-fb67-596e236d29b3"
      },
      "outputs": [
        {
          "data": {
            "text/plain": [
              "[[8, 9], [11, 12]]"
            ]
          },
          "execution_count": 35,
          "metadata": {},
          "output_type": "execute_result"
        }
      ],
      "source": [
        "# Doing this in multiple dimensions with lists\n",
        "[i[1:3] for i in x[2:4]]"
      ]
    },
    {
      "cell_type": "markdown",
      "metadata": {
        "id": "v_PkJI_ocDJ5"
      },
      "source": [
        "### 3D Slicing"
      ]
    },
    {
      "cell_type": "code",
      "execution_count": null,
      "metadata": {
        "id": "0GNinPlGcDJ5",
        "outputId": "490a6343-dbc3-461a-ad1e-df98f7740ac3"
      },
      "outputs": [
        {
          "data": {
            "text/plain": [
              "array([[[ 1,  2,  3],\n",
              "        [ 4,  5,  6]],\n",
              "\n",
              "       [[ 7,  8,  9],\n",
              "        [10, 11, 12]]])"
            ]
          },
          "execution_count": 36,
          "metadata": {},
          "output_type": "execute_result"
        }
      ],
      "source": [
        "# With an array\n",
        "x = np.array([\n",
        "              [[1,2,3], [4,5,6]],\n",
        "              [[7,8,9], [10,11,12]]\n",
        "             ])\n",
        "x"
      ]
    },
    {
      "cell_type": "code",
      "execution_count": null,
      "metadata": {
        "id": "xo4kltUIcDJ6",
        "outputId": "ffb67f7a-1d9f-4fc8-9d61-fa39c0804c6e"
      },
      "outputs": [
        {
          "data": {
            "text/plain": [
              "(2, 2, 3)"
            ]
          },
          "execution_count": 37,
          "metadata": {},
          "output_type": "execute_result"
        }
      ],
      "source": [
        "x.shape"
      ]
    },
    {
      "cell_type": "code",
      "execution_count": null,
      "metadata": {
        "id": "l3_cfsZEcDJ6",
        "outputId": "b4e0ac0d-de05-4dea-dc2f-fdc2ef2a985d"
      },
      "outputs": [
        {
          "data": {
            "text/plain": [
              "array([[ 3,  6],\n",
              "       [ 9, 12]])"
            ]
          },
          "execution_count": 38,
          "metadata": {},
          "output_type": "execute_result"
        }
      ],
      "source": [
        "x[:,:,-1]"
      ]
    },
    {
      "cell_type": "markdown",
      "metadata": {
        "id": "RkmLwxR_cDJ6"
      },
      "source": [
        "## Summary\n",
        "\n",
        "Great! You learned about a bunch of NumPy commands. Now, let's move over to the lab to put your new skills into practice!"
      ]
    },
    {
      "cell_type": "code",
      "source": [
        "#cehcking numpy version\n",
        "import numpy as np\n",
        "print(np.__version__)"
      ],
      "metadata": {
        "colab": {
          "base_uri": "https://localhost:8080/"
        },
        "id": "7ggbJrnnan0C",
        "outputId": "e932ee0e-931d-4b22-9bd4-ede260e9ef09"
      },
      "execution_count": 36,
      "outputs": [
        {
          "output_type": "stream",
          "name": "stdout",
          "text": [
            "1.25.2\n"
          ]
        }
      ]
    },
    {
      "cell_type": "code",
      "source": [
        "arr=np.array([1,2,3,4,5])\n",
        "print(type(arr))\n",
        "print(arr)"
      ],
      "metadata": {
        "colab": {
          "base_uri": "https://localhost:8080/"
        },
        "id": "RR-mk8DUaonM",
        "outputId": "f850f94b-5f6f-470d-c0e6-91cff17eef71"
      },
      "execution_count": 40,
      "outputs": [
        {
          "output_type": "stream",
          "name": "stdout",
          "text": [
            "<class 'numpy.ndarray'>\n",
            "[1 2 3 4 5]\n"
          ]
        }
      ]
    },
    {
      "cell_type": "code",
      "source": [
        "# Use a tuple to create a NumPy array:\n",
        "arr=np.array((1,2,3,4,5))\n",
        "print(arr)"
      ],
      "metadata": {
        "colab": {
          "base_uri": "https://localhost:8080/"
        },
        "id": "9gh8EWiRao5v",
        "outputId": "e5686476-3f24-44b3-9e91-6acf49f06ce1"
      },
      "execution_count": 39,
      "outputs": [
        {
          "output_type": "stream",
          "name": "stdout",
          "text": [
            "[1 2 3 4 5]\n"
          ]
        }
      ]
    },
    {
      "cell_type": "markdown",
      "source": [
        "## 0-D Arrays-or scalars are the elements in an array.Each value in an array is a O-D array"
      ],
      "metadata": {
        "id": "_CbjRolCcNmu"
      }
    },
    {
      "cell_type": "code",
      "source": [
        "arr=np.array(42)\n",
        "print(arr)"
      ],
      "metadata": {
        "colab": {
          "base_uri": "https://localhost:8080/"
        },
        "id": "3erVy-v4apF4",
        "outputId": "806e2d25-81a5-47a2-c044-f4369b73f8dd"
      },
      "execution_count": 43,
      "outputs": [
        {
          "output_type": "stream",
          "name": "stdout",
          "text": [
            "42\n"
          ]
        }
      ]
    },
    {
      "cell_type": "markdown",
      "source": [
        "## 1-D arrays\n",
        "An array that has O-D arrays as its elements is calld uni-dimesional or I-D array\n",
        "Most common Basic arrays"
      ],
      "metadata": {
        "id": "m5_H8uWscUyA"
      }
    },
    {
      "cell_type": "code",
      "source": [
        "import numpy as np\n",
        "\n",
        "arr = np.array([1, 2, 3, 4, 5])\n",
        "\n",
        "print(arr)"
      ],
      "metadata": {
        "id": "lP_VaALNapit"
      },
      "execution_count": null,
      "outputs": []
    },
    {
      "cell_type": "markdown",
      "source": [
        "## 2-D Arrays\n",
        "Array that has I-D arrays as its elements is called 2-D array\n",
        "These are often used to represent matrix or 2nd order tensors."
      ],
      "metadata": {
        "id": "PCMmbb1PeDw3"
      }
    },
    {
      "cell_type": "code",
      "source": [
        "#Create a 2-D array containing two arrays with the values 1,2,3 and 4,5,6:\n",
        "arr=np.array([[1,2,3],[4,5,6]])\n",
        "print(arr)\n",
        "arr.shape"
      ],
      "metadata": {
        "colab": {
          "base_uri": "https://localhost:8080/"
        },
        "id": "wN19qorbd_TZ",
        "outputId": "5513a8fc-5c35-4f33-9d79-052bac012353"
      },
      "execution_count": 45,
      "outputs": [
        {
          "output_type": "stream",
          "name": "stdout",
          "text": [
            "[[1 2 3]\n",
            " [4 5 6]]\n"
          ]
        },
        {
          "output_type": "execute_result",
          "data": {
            "text/plain": [
              "(2, 3)"
            ]
          },
          "metadata": {},
          "execution_count": 45
        }
      ]
    },
    {
      "cell_type": "markdown",
      "source": [
        "## 3-D Arrays\n",
        "An array that has 2-D arrays(matrices) as its elements\n",
        "These are often used to represent a 3rd order tensor."
      ],
      "metadata": {
        "id": "u0ZFFZUEfwRv"
      }
    },
    {
      "cell_type": "code",
      "source": [
        "#Create a 3-D array with two 2-D arrays, both containing two arrays with the values 1,2,3 and 4,5,6:\n",
        "arr=np.array([[[1,2,3],[4,5,6]],[[1,2,3],[4,5,6]]])\n",
        "print(arr)\n",
        "arr.shape"
      ],
      "metadata": {
        "colab": {
          "base_uri": "https://localhost:8080/"
        },
        "id": "8iNBEBd1ap6i",
        "outputId": "c4b04276-84a5-4ae6-93e5-46095914dd22"
      },
      "execution_count": 50,
      "outputs": [
        {
          "output_type": "stream",
          "name": "stdout",
          "text": [
            "[[[1 2 3]\n",
            "  [4 5 6]]\n",
            "\n",
            " [[1 2 3]\n",
            "  [4 5 6]]]\n"
          ]
        },
        {
          "output_type": "execute_result",
          "data": {
            "text/plain": [
              "(2, 2, 3)"
            ]
          },
          "metadata": {},
          "execution_count": 50
        }
      ]
    },
    {
      "cell_type": "markdown",
      "source": [
        "## Check Number of Dimensions"
      ],
      "metadata": {
        "id": "Tv_TClEqnIrE"
      }
    },
    {
      "cell_type": "code",
      "source": [
        "a = np.array(42)\n",
        "b = np.array([1, 2, 3, 4, 5])\n",
        "c = np.array([[1, 2, 3], [4, 5, 6]])\n",
        "d = np.array([[[1, 2, 3], [4, 5, 6]], [[1, 2, 3], [4, 5, 6]]])\n",
        "\n",
        "print(a.ndim)\n",
        "print(b.ndim)\n",
        "print(c.ndim)\n",
        "print(d.ndim)\n"
      ],
      "metadata": {
        "colab": {
          "base_uri": "https://localhost:8080/"
        },
        "id": "gAPUgrT4jX8r",
        "outputId": "dccc98da-b717-4422-ac37-8fd50a595326"
      },
      "execution_count": 51,
      "outputs": [
        {
          "output_type": "stream",
          "name": "stdout",
          "text": [
            "0\n",
            "1\n",
            "2\n",
            "3\n"
          ]
        }
      ]
    },
    {
      "cell_type": "code",
      "source": [
        "# Higher Dimensional Arrays\n",
        "arr=np.array([1,2,3,4,5],ndmin=5)\n",
        "print(arr)\n",
        "print('number of dimensions:',arr.ndim)"
      ],
      "metadata": {
        "colab": {
          "base_uri": "https://localhost:8080/"
        },
        "id": "_jlcGFjSnenb",
        "outputId": "ab2dbdba-50e3-411d-802f-8d9b70054329"
      },
      "execution_count": 53,
      "outputs": [
        {
          "output_type": "stream",
          "name": "stdout",
          "text": [
            "[[[[[1 2 3 4 5]]]]]\n",
            "number of dimensions: 5\n"
          ]
        }
      ]
    },
    {
      "cell_type": "code",
      "source": [
        "import numpy as np\n",
        "\n",
        "arr = np.array([1, 2, 3, 4])\n",
        "arr[0]"
      ],
      "metadata": {
        "colab": {
          "base_uri": "https://localhost:8080/"
        },
        "id": "Q0IYsNZQohT7",
        "outputId": "04132f72-0d60-4913-b875-f8109c4ddbe1"
      },
      "execution_count": 55,
      "outputs": [
        {
          "output_type": "execute_result",
          "data": {
            "text/plain": [
              "1"
            ]
          },
          "metadata": {},
          "execution_count": 55
        }
      ]
    },
    {
      "cell_type": "code",
      "source": [
        "arr[2]+arr[3]"
      ],
      "metadata": {
        "colab": {
          "base_uri": "https://localhost:8080/"
        },
        "id": "6R5_Io0eqUAV",
        "outputId": "77a2b698-49ca-48bd-d0eb-3e2a62e7e05f"
      },
      "execution_count": 56,
      "outputs": [
        {
          "output_type": "execute_result",
          "data": {
            "text/plain": [
              "7"
            ]
          },
          "metadata": {},
          "execution_count": 56
        }
      ]
    },
    {
      "cell_type": "code",
      "source": [
        "arr = np.array([[1,2,3,4,5], [6,7,8,9,10]])\n",
        "arr[0,1]"
      ],
      "metadata": {
        "colab": {
          "base_uri": "https://localhost:8080/"
        },
        "id": "MX8SL5L8qniN",
        "outputId": "dffacd18-1994-4804-b46a-a8e46288d163"
      },
      "execution_count": 66,
      "outputs": [
        {
          "output_type": "execute_result",
          "data": {
            "text/plain": [
              "2"
            ]
          },
          "metadata": {},
          "execution_count": 66
        }
      ]
    },
    {
      "cell_type": "code",
      "source": [
        "#arr[1][4]\n",
        "arr[1,4]"
      ],
      "metadata": {
        "colab": {
          "base_uri": "https://localhost:8080/"
        },
        "id": "QTTj4F7Uqrk-",
        "outputId": "5d7c37d4-b686-44b9-d89f-33c412b86114"
      },
      "execution_count": 67,
      "outputs": [
        {
          "output_type": "execute_result",
          "data": {
            "text/plain": [
              "10"
            ]
          },
          "metadata": {},
          "execution_count": 67
        }
      ]
    },
    {
      "cell_type": "code",
      "source": [
        "arr = np.array([[[1, 2, 3], [4, 5, 6]], [[7, 8, 9], [10, 11, 12]]])\n",
        "print(arr)\n",
        "#arr[1][0][2]\n",
        "arr[1,0,2]\n"
      ],
      "metadata": {
        "colab": {
          "base_uri": "https://localhost:8080/"
        },
        "id": "Pq4eS_7pq2cZ",
        "outputId": "584ab2eb-f5b3-4353-dd26-c9b2984ba7ea"
      },
      "execution_count": 68,
      "outputs": [
        {
          "output_type": "stream",
          "name": "stdout",
          "text": [
            "[[[ 1  2  3]\n",
            "  [ 4  5  6]]\n",
            "\n",
            " [[ 7  8  9]\n",
            "  [10 11 12]]]\n"
          ]
        },
        {
          "output_type": "execute_result",
          "data": {
            "text/plain": [
              "9"
            ]
          },
          "metadata": {},
          "execution_count": 68
        }
      ]
    },
    {
      "cell_type": "code",
      "source": [
        "arr = np.array([[1,2,3,4,5], [6,7,8,9,10]])\n",
        "arr[1,-1]"
      ],
      "metadata": {
        "colab": {
          "base_uri": "https://localhost:8080/"
        },
        "id": "xc3WdKD5rGZ2",
        "outputId": "3ce6bc3f-0921-4115-f590-9ce0cc625036"
      },
      "execution_count": 69,
      "outputs": [
        {
          "output_type": "execute_result",
          "data": {
            "text/plain": [
              "10"
            ]
          },
          "metadata": {},
          "execution_count": 69
        }
      ]
    },
    {
      "cell_type": "code",
      "source": [
        "arr = np.array([1, 2, 3, 4, 5, 6, 7])\n",
        "\n",
        "print(arr[1:5])"
      ],
      "metadata": {
        "colab": {
          "base_uri": "https://localhost:8080/"
        },
        "id": "hS_c6DrhsB8B",
        "outputId": "0865be1d-254d-4dfc-c3f5-5258658b9aaf"
      },
      "execution_count": 71,
      "outputs": [
        {
          "output_type": "stream",
          "name": "stdout",
          "text": [
            "[2 3 4 5]\n"
          ]
        }
      ]
    },
    {
      "cell_type": "code",
      "source": [
        "#Slice elements from index 4 to the end of the array:\n",
        "print(arr[4:])"
      ],
      "metadata": {
        "colab": {
          "base_uri": "https://localhost:8080/"
        },
        "id": "sLmgZSMXsF2k",
        "outputId": "65e739a5-da59-4af8-8ced-a7569c1ebb0d"
      },
      "execution_count": 74,
      "outputs": [
        {
          "output_type": "stream",
          "name": "stdout",
          "text": [
            "[5 6 7]\n"
          ]
        }
      ]
    },
    {
      "cell_type": "code",
      "source": [
        "print(arr[:4])"
      ],
      "metadata": {
        "colab": {
          "base_uri": "https://localhost:8080/"
        },
        "id": "vB4D9_jDtknf",
        "outputId": "a6ba66e3-d16d-4aae-e9af-dde8f0c76362"
      },
      "execution_count": 75,
      "outputs": [
        {
          "output_type": "stream",
          "name": "stdout",
          "text": [
            "[1 2 3 4]\n"
          ]
        }
      ]
    },
    {
      "cell_type": "code",
      "source": [
        "print(arr[-3:-1])"
      ],
      "metadata": {
        "colab": {
          "base_uri": "https://localhost:8080/"
        },
        "id": "p4Hr1JdhtteW",
        "outputId": "ff957899-5364-4a01-9069-47a70fd4f17b"
      },
      "execution_count": 76,
      "outputs": [
        {
          "output_type": "stream",
          "name": "stdout",
          "text": [
            "[5 6]\n"
          ]
        }
      ]
    },
    {
      "cell_type": "code",
      "source": [
        "print(arr[1:5:2])"
      ],
      "metadata": {
        "colab": {
          "base_uri": "https://localhost:8080/"
        },
        "id": "TDObNjyhtyoB",
        "outputId": "27126b18-4077-4add-ab4c-0d7a13cdd74e"
      },
      "execution_count": 77,
      "outputs": [
        {
          "output_type": "stream",
          "name": "stdout",
          "text": [
            "[2 4]\n"
          ]
        }
      ]
    },
    {
      "cell_type": "code",
      "source": [
        "arr[::2]"
      ],
      "metadata": {
        "colab": {
          "base_uri": "https://localhost:8080/"
        },
        "id": "bewbR8djt9qJ",
        "outputId": "7645fc36-a63d-4a07-bf8e-03081476be54"
      },
      "execution_count": 79,
      "outputs": [
        {
          "output_type": "execute_result",
          "data": {
            "text/plain": [
              "array([1, 3, 5, 7])"
            ]
          },
          "metadata": {},
          "execution_count": 79
        }
      ]
    },
    {
      "cell_type": "markdown",
      "source": [
        "## Slicing 2-D Arrays\n"
      ],
      "metadata": {
        "id": "ks4qUdo8uVJJ"
      }
    },
    {
      "cell_type": "code",
      "source": [
        "arr = np.array([[1, 2, 3, 4, 5], [6, 7, 8, 9, 10]])\n",
        "\n",
        "print(arr[1, 1:4])"
      ],
      "metadata": {
        "colab": {
          "base_uri": "https://localhost:8080/"
        },
        "id": "b9oRatypuH0P",
        "outputId": "672d9f20-40c4-434b-8982-479958a2940f"
      },
      "execution_count": 80,
      "outputs": [
        {
          "output_type": "stream",
          "name": "stdout",
          "text": [
            "[7 8 9]\n"
          ]
        }
      ]
    },
    {
      "cell_type": "code",
      "source": [
        "#From both elements, return index 2:\n",
        "print(arr[0:2,2])"
      ],
      "metadata": {
        "colab": {
          "base_uri": "https://localhost:8080/"
        },
        "id": "eA_bWw8qub6k",
        "outputId": "114d9f5f-5e0f-4383-cd1d-35bd56423bb7"
      },
      "execution_count": 81,
      "outputs": [
        {
          "output_type": "stream",
          "name": "stdout",
          "text": [
            "[3 8]\n"
          ]
        }
      ]
    },
    {
      "cell_type": "code",
      "source": [
        "#From both elements, slice index 1 to index 4 (not included), this will return a 2-D array:\n",
        "print(arr[0:2,1:4])"
      ],
      "metadata": {
        "colab": {
          "base_uri": "https://localhost:8080/"
        },
        "id": "F8gaLcMlu7Xy",
        "outputId": "256ee3b2-9db4-4bd7-9cff-dfd359c0f225"
      },
      "execution_count": 83,
      "outputs": [
        {
          "output_type": "stream",
          "name": "stdout",
          "text": [
            "[[2 3 4]\n",
            " [7 8 9]]\n"
          ]
        }
      ]
    },
    {
      "cell_type": "markdown",
      "source": [
        "## NumPy Data Types"
      ],
      "metadata": {
        "id": "NCBsxbcx3Q6v"
      }
    },
    {
      "cell_type": "code",
      "source": [
        "arr=np.array([1,2,3,4,5])\n",
        "print(arr.dtype)"
      ],
      "metadata": {
        "colab": {
          "base_uri": "https://localhost:8080/"
        },
        "id": "v7vxidxzvICZ",
        "outputId": "9997969c-ab81-431f-e6ff-2a78f55b5f8d"
      },
      "execution_count": 85,
      "outputs": [
        {
          "output_type": "stream",
          "name": "stdout",
          "text": [
            "int64\n"
          ]
        }
      ]
    },
    {
      "cell_type": "code",
      "source": [
        "type(arr)"
      ],
      "metadata": {
        "colab": {
          "base_uri": "https://localhost:8080/"
        },
        "id": "Ge90eHsS44JA",
        "outputId": "ed4bea5a-345a-4652-a6eb-5579b7c689af"
      },
      "execution_count": 86,
      "outputs": [
        {
          "output_type": "execute_result",
          "data": {
            "text/plain": [
              "numpy.ndarray"
            ]
          },
          "metadata": {},
          "execution_count": 86
        }
      ]
    },
    {
      "cell_type": "code",
      "source": [
        "arr=np.array(['apple','Cherry','banana'])\n",
        "print(arr.dtype)"
      ],
      "metadata": {
        "colab": {
          "base_uri": "https://localhost:8080/"
        },
        "id": "Y1o7Lh2k4_QV",
        "outputId": "b4af80cf-7707-4310-a579-1b7b40276e75"
      },
      "execution_count": 92,
      "outputs": [
        {
          "output_type": "stream",
          "name": "stdout",
          "text": [
            "<U6\n"
          ]
        }
      ]
    },
    {
      "cell_type": "markdown",
      "source": [
        "## Creating Arrays With a Defined Data Type"
      ],
      "metadata": {
        "id": "oUxYhMQF-7QS"
      }
    },
    {
      "cell_type": "code",
      "source": [
        "arr=np.array([1,2,3,4],dtype='S')\n",
        "print(arr)\n",
        "print(arr.dtype)"
      ],
      "metadata": {
        "colab": {
          "base_uri": "https://localhost:8080/"
        },
        "id": "h6sTOmf1-VSY",
        "outputId": "55ceb26a-416b-440a-ebfc-303133697dd2"
      },
      "execution_count": 95,
      "outputs": [
        {
          "output_type": "stream",
          "name": "stdout",
          "text": [
            "[b'1' b'2' b'3' b'4']\n",
            "|S1\n"
          ]
        }
      ]
    },
    {
      "cell_type": "code",
      "source": [
        "arr=np.array([1,2,3,4],dtype='i4')\n",
        "print(arr)\n",
        "print(arr.dtype)"
      ],
      "metadata": {
        "colab": {
          "base_uri": "https://localhost:8080/"
        },
        "id": "fz02LSvh_E-N",
        "outputId": "04bd5a43-c610-43cf-d3ec-a9f69762b4bb"
      },
      "execution_count": 96,
      "outputs": [
        {
          "output_type": "stream",
          "name": "stdout",
          "text": [
            "[1 2 3 4]\n",
            "int32\n"
          ]
        }
      ]
    },
    {
      "cell_type": "markdown",
      "source": [
        "##Converting Data Type on Existing Arrays\n",
        "The astype() function creates a copy of the array, and allows you to specify the data type as a parameter."
      ],
      "metadata": {
        "id": "gyW0CiGt_s3Q"
      }
    },
    {
      "cell_type": "code",
      "source": [
        "arr=np.array([1.1,2.1,3.1])\n",
        "newarr=arr.astype(dtype='i')\n",
        "print(newarr)\n",
        "print(newarr.dtype)"
      ],
      "metadata": {
        "colab": {
          "base_uri": "https://localhost:8080/"
        },
        "id": "aj6t11cZ_ZPV",
        "outputId": "f134a053-172a-43d2-922e-efdafdb25aba"
      },
      "execution_count": 99,
      "outputs": [
        {
          "output_type": "stream",
          "name": "stdout",
          "text": [
            "[1 2 3]\n",
            "int32\n"
          ]
        }
      ]
    },
    {
      "cell_type": "code",
      "source": [
        "#Change data type from float to integer by using int as parameter value:\n",
        "newarr=arr.astype(int)\n",
        "print(newarr)\n",
        "print(newarr.dtype)"
      ],
      "metadata": {
        "colab": {
          "base_uri": "https://localhost:8080/"
        },
        "id": "h-ZuBLir_j5a",
        "outputId": "0561f992-3821-4d9d-9671-e22a2072c8e8"
      },
      "execution_count": 100,
      "outputs": [
        {
          "output_type": "stream",
          "name": "stdout",
          "text": [
            "[1 2 3]\n",
            "int64\n"
          ]
        }
      ]
    },
    {
      "cell_type": "code",
      "source": [
        "#Change data type from integer to boolean:\n",
        "arr = np.array([1, 0, 3])\n",
        "newarr=arr.astype(bool)\n",
        "print(newarr)\n",
        "print(newarr.dtype)"
      ],
      "metadata": {
        "colab": {
          "base_uri": "https://localhost:8080/"
        },
        "id": "GgxPfs7SAPnn",
        "outputId": "96535ff2-9113-4a48-e1e4-7cf94821b6d1"
      },
      "execution_count": 101,
      "outputs": [
        {
          "output_type": "stream",
          "name": "stdout",
          "text": [
            "[ True False  True]\n",
            "bool\n"
          ]
        }
      ]
    },
    {
      "cell_type": "markdown",
      "source": [
        "## copy"
      ],
      "metadata": {
        "id": "8tX-VrIYDP3U"
      }
    },
    {
      "cell_type": "code",
      "source": [
        "arr = np.array([1,2,3,4,5])\n",
        "x=arr.copy()\n",
        "arr[0] =42\n",
        "print(arr)\n",
        "print(x)"
      ],
      "metadata": {
        "colab": {
          "base_uri": "https://localhost:8080/"
        },
        "id": "19zT-ojDAeAu",
        "outputId": "fdf36677-4553-4584-f061-7d98b0be11b6"
      },
      "execution_count": 103,
      "outputs": [
        {
          "output_type": "stream",
          "name": "stdout",
          "text": [
            "[42  2  3  4  5]\n",
            "[1 2 3 4 5]\n"
          ]
        }
      ]
    },
    {
      "cell_type": "markdown",
      "source": [
        "## view"
      ],
      "metadata": {
        "id": "NUdEZRUVDLPU"
      }
    },
    {
      "cell_type": "code",
      "source": [
        "arr = np.array([1, 2, 3, 4, 5])\n",
        "x=arr.view()\n",
        "arr[0]=42\n",
        "print(arr)\n",
        "print(x)"
      ],
      "metadata": {
        "colab": {
          "base_uri": "https://localhost:8080/"
        },
        "id": "FsyibAnHAhMg",
        "outputId": "fe20d660-6cfe-4e0f-fede-cd3c26d6da04"
      },
      "execution_count": 104,
      "outputs": [
        {
          "output_type": "stream",
          "name": "stdout",
          "text": [
            "[42  2  3  4  5]\n",
            "[42  2  3  4  5]\n"
          ]
        }
      ]
    },
    {
      "cell_type": "code",
      "source": [
        "arr = np.array([1, 2, 3, 4, 5])\n",
        "x=arr.view()\n",
        "x[0]=32\n",
        "print(arr)\n",
        "print(x)"
      ],
      "metadata": {
        "colab": {
          "base_uri": "https://localhost:8080/"
        },
        "id": "koOdOsTUDFt4",
        "outputId": "a4d8d4d2-2b1d-49e0-dcac-c4a083a0a211"
      },
      "execution_count": 105,
      "outputs": [
        {
          "output_type": "stream",
          "name": "stdout",
          "text": [
            "[32  2  3  4  5]\n",
            "[32  2  3  4  5]\n"
          ]
        }
      ]
    },
    {
      "cell_type": "markdown",
      "source": [
        "## Check if Array Owns its Data\n",
        "As mentioned above, copies owns the data, and views does not own the data, but how can we check this?\n",
        "\n",
        "Every NumPy array has the attribute **base** that returns **None** if the array owns the data.\n",
        "\n",
        "Otherwise, the base  attribute refers to the original object."
      ],
      "metadata": {
        "id": "yee6Veq6ELRo"
      }
    },
    {
      "cell_type": "code",
      "source": [
        "arr = np.array([1, 2, 3, 4, 5])\n",
        "x=arr.copy()\n",
        "y=arr.view()\n",
        "\n",
        "print(x.base)\n",
        "print(y.base)"
      ],
      "metadata": {
        "colab": {
          "base_uri": "https://localhost:8080/"
        },
        "id": "PygXlKxqDW12",
        "outputId": "57b6e5cd-6432-4e93-b0ec-7c573bcc88de"
      },
      "execution_count": 107,
      "outputs": [
        {
          "output_type": "stream",
          "name": "stdout",
          "text": [
            "None\n",
            "[1 2 3 4 5]\n"
          ]
        }
      ]
    },
    {
      "cell_type": "code",
      "source": [],
      "metadata": {
        "id": "2DQSeVdNEUTF"
      },
      "execution_count": null,
      "outputs": []
    }
  ],
  "metadata": {
    "kernelspec": {
      "display_name": "Python 3",
      "language": "python",
      "name": "python3"
    },
    "language_info": {
      "codemirror_mode": {
        "name": "ipython",
        "version": 3
      },
      "file_extension": ".py",
      "mimetype": "text/x-python",
      "name": "python",
      "nbconvert_exporter": "python",
      "pygments_lexer": "ipython3",
      "version": "3.7.3"
    },
    "colab": {
      "provenance": [],
      "name": "Getting Started with NumPy.ipynb",
      "include_colab_link": true
    }
  },
  "nbformat": 4,
  "nbformat_minor": 0
}