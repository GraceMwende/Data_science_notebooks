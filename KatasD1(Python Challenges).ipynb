{
 "cells": [
  {
   "cell_type": "markdown",
   "id": "49102d6a",
   "metadata": {},
   "source": [
    "## 1. Calculate average"
   ]
  },
  {
   "cell_type": "code",
   "execution_count": 1,
   "id": "dd302e79",
   "metadata": {},
   "outputs": [],
   "source": [
    "#includes getting mean of empty lists\n",
    "def find_average(numbers):\n",
    "    #return mean(numbers)\n",
    "    avg= sum(numbers)/(len(numbers) or 1)\n",
    "    return avg\n",
    "    "
   ]
  },
  {
   "cell_type": "code",
   "execution_count": 2,
   "id": "d40f44ad",
   "metadata": {},
   "outputs": [
    {
     "data": {
      "text/plain": [
       "0.0"
      ]
     },
     "execution_count": 2,
     "metadata": {},
     "output_type": "execute_result"
    }
   ],
   "source": [
    "x=(1,2,6)\n",
    "y=()\n",
    "find_average(y)"
   ]
  },
  {
   "cell_type": "markdown",
   "id": "aafca2e4",
   "metadata": {},
   "source": [
    "## 2. Beginner - Lost Without a Map\n",
    "### Given an array of integers, return a new array with each value doubled.\n",
    "\n",
    "### For example:\n",
    "\n",
    "#### [1, 2, 3] --> [2, 4, 6]"
   ]
  },
  {
   "cell_type": "code",
   "execution_count": 3,
   "id": "6227c11e",
   "metadata": {},
   "outputs": [],
   "source": [
    "def maps(a):\n",
    "    doubled_num=[]\n",
    "    for i in a :\n",
    "        doubled_num.append(i*2)\n",
    "        \n",
    "    return doubled_num"
   ]
  },
  {
   "cell_type": "code",
   "execution_count": 4,
   "id": "75340b54",
   "metadata": {},
   "outputs": [
    {
     "data": {
      "text/plain": [
       "[2, 4, 12]"
      ]
     },
     "execution_count": 4,
     "metadata": {},
     "output_type": "execute_result"
    }
   ],
   "source": [
    "maps(x)"
   ]
  },
  {
   "cell_type": "code",
   "execution_count": 5,
   "id": "23c002e3",
   "metadata": {},
   "outputs": [
    {
     "data": {
      "text/plain": [
       "[0, 2, 4, 6, 8, 10, 12, 14, 16, 18]"
      ]
     },
     "execution_count": 5,
     "metadata": {},
     "output_type": "execute_result"
    }
   ],
   "source": [
    "y=[0, 1, 2, 3, 4, 5, 6, 7, 8, 9]\n",
    "maps(y)"
   ]
  },
  {
   "cell_type": "code",
   "execution_count": 6,
   "id": "3398684d",
   "metadata": {},
   "outputs": [
    {
     "data": {
      "text/plain": [
       "[[0, 1, 2, 3, 4, 5, 6, 7, 8, 9, 0, 1, 2, 3, 4, 5, 6, 7, 8, 9],\n",
       " [0, 2, 4, 6, 8, 10, 12, 14, 16, 18, 0, 2, 4, 6, 8, 10, 12, 14, 16, 18]]"
      ]
     },
     "execution_count": 6,
     "metadata": {},
     "output_type": "execute_result"
    }
   ],
   "source": [
    "z=[0, 1, 2, 3, 4, 5, 6, 7, 8, 9], [0, 2, 4, 6, 8, 10, 12, 14, 16, 18]\n",
    "maps(z)"
   ]
  },
  {
   "cell_type": "code",
   "execution_count": 7,
   "id": "f927335e",
   "metadata": {},
   "outputs": [],
   "source": [
    "#using list comprehesion and works.use square brackerts otherwise get generateetc error\n",
    "def maps(a):\n",
    "    return [i*2 for i in a]"
   ]
  },
  {
   "cell_type": "markdown",
   "id": "5417673d",
   "metadata": {},
   "source": [
    "## 3.DNA to RNA Conversion\n",
    "### \"GCAT\"  =>  \"GCAU\""
   ]
  },
  {
   "cell_type": "code",
   "execution_count": 8,
   "id": "a35c734d",
   "metadata": {
    "code_folding": []
   },
   "outputs": [],
   "source": [
    "def dna_to_rna(dna):\n",
    "    RNA=''\n",
    "    for i in dna:\n",
    "        if i=='T':\n",
    "           RNA=RNA+'U'\n",
    "            \n",
    "        else:\n",
    "            RNA=RNA+i\n",
    "    return RNA\n",
    "            \n"
   ]
  },
  {
   "cell_type": "code",
   "execution_count": 9,
   "id": "5cf2a952",
   "metadata": {},
   "outputs": [
    {
     "data": {
      "text/plain": [
       "'GAU'"
      ]
     },
     "execution_count": 9,
     "metadata": {},
     "output_type": "execute_result"
    }
   ],
   "source": [
    "dna_to_rna(\"GAT\")"
   ]
  },
  {
   "cell_type": "code",
   "execution_count": 10,
   "id": "c3683e9a",
   "metadata": {},
   "outputs": [
    {
     "data": {
      "text/plain": [
       "'GAU'"
      ]
     },
     "execution_count": 10,
     "metadata": {},
     "output_type": "execute_result"
    }
   ],
   "source": [
    "#simple answe\n",
    "def dna_to_rna(dna):\n",
    "    return dna.replace('T','U')\n",
    "            \n",
    "dna_to_rna(\"GAT\")"
   ]
  },
  {
   "cell_type": "markdown",
   "id": "6a8355b0",
   "metadata": {},
   "source": [
    "## 4. Beginner Series #1 School Paperwork\n",
    "##### Your classmates asked you to copy some paperwork for them. You know that there are 'n' classmates and the paperwork has 'm' pages.\n",
    "###### Your task is to calculate how many blank pages do you need. If n < 0 or m < 0 return 0.\n",
    "### Example:\n",
    "### n= 5, m=5: 25\n",
    "### n=-5, m=5:  0\n"
   ]
  },
  {
   "cell_type": "code",
   "execution_count": 11,
   "id": "7e46a577",
   "metadata": {},
   "outputs": [],
   "source": [
    "def paperwork(n,m):\n",
    "    if n<0 or m<0:\n",
    "        return 0\n",
    "    else:\n",
    "        return m*n"
   ]
  },
  {
   "cell_type": "code",
   "execution_count": 12,
   "id": "72590f41",
   "metadata": {},
   "outputs": [
    {
     "name": "stdout",
     "output_type": "stream",
     "text": [
      "5\n",
      "2\n",
      "0\n",
      "0\n"
     ]
    }
   ],
   "source": [
    "print(paperwork(5,1))\n",
    "print(paperwork(1,2))\n",
    "print(paperwork(-5,5))\n",
    "print(paperwork(-5,0))"
   ]
  },
  {
   "cell_type": "markdown",
   "id": "a1f95a13",
   "metadata": {},
   "source": [
    "## 5. Sum without highest and lowest number\n",
    "#### Sum all the numbers of a given array ( cq. list ), except the highest and the lowest element ( by value, not by index! ).\n",
    "#### The highest or lowest element respectively is a single element at each edge, even if there are more than one with the same value.\n",
    "### Example\n",
    "### { 6, 2, 1, 8, 10 } => 16\n",
    "### { 1, 1, 11, 2, 3 } => 6"
   ]
  },
  {
   "cell_type": "code",
   "execution_count": 28,
   "id": "2fa1efbb",
   "metadata": {},
   "outputs": [],
   "source": [
    "#Need to start with arr=None and not len(arr) since if its starts with len it fails since None had no length\n",
    "def sum_array(arr):\n",
    "    if arr==None or len(arr)<=1  :\n",
    "        return 0 \n",
    "    else:\n",
    "        max_no=max(arr)\n",
    "        min_no=min(arr)\n",
    "        arr.remove(min_no)\n",
    "        arr.remove(max_no)\n",
    "        return sum(arr)\n",
    "        #return sum(arr) - max(arr) - min(arr)\n",
    "\n",
    "   \n",
    "    "
   ]
  },
  {
   "cell_type": "code",
   "execution_count": 31,
   "id": "51a89e26",
   "metadata": {},
   "outputs": [],
   "source": [
    "#put all in one line\n",
    "def sum_array(arr):\n",
    "    if arr==None or len(arr)<=1  :\n",
    "        return 0 \n",
    "    else:\n",
    "        return sum(arr)-max(arr)-min(arr)\n",
    "        #return sum(arr) - max(arr) - min(arr)\n",
    "\n",
    "   \n",
    "    "
   ]
  },
  {
   "cell_type": "code",
   "execution_count": 43,
   "id": "416e3bf9",
   "metadata": {},
   "outputs": [],
   "source": [
    "#use the sort function\n",
    "def sum_array(arr):\n",
    "    if arr==None or len(arr)<=1  :\n",
    "        return 0 \n",
    "    else:\n",
    "        arr.sort()\n",
    "        return sum(arr)-arr[0]-arr[-1]"
   ]
  },
  {
   "cell_type": "code",
   "execution_count": 44,
   "id": "9a7ffbe8",
   "metadata": {},
   "outputs": [
    {
     "data": {
      "text/plain": [
       "17"
      ]
     },
     "execution_count": 44,
     "metadata": {},
     "output_type": "execute_result"
    }
   ],
   "source": [
    "test=[6, 2, 1, 9, 10]\n",
    "sum_array(test)"
   ]
  },
  {
   "cell_type": "code",
   "execution_count": 45,
   "id": "3efdaa14",
   "metadata": {},
   "outputs": [
    {
     "data": {
      "text/plain": [
       "0"
      ]
     },
     "execution_count": 45,
     "metadata": {},
     "output_type": "execute_result"
    }
   ],
   "source": [
    "a=()\n",
    "sum_array(a)"
   ]
  },
  {
   "cell_type": "markdown",
   "id": "4744ba4b",
   "metadata": {},
   "source": [
    "## 6. Find Maximum and Minimum Values of a List\n"
   ]
  },
  {
   "cell_type": "code",
   "execution_count": 55,
   "id": "fca65c18",
   "metadata": {},
   "outputs": [],
   "source": [
    "def minimum(arr):\n",
    "    return min(arr)\n",
    "\n",
    "def maximum(arr):\n",
    "    return max(arr)"
   ]
  },
  {
   "cell_type": "code",
   "execution_count": null,
   "id": "56a31ce7",
   "metadata": {},
   "outputs": [],
   "source": [
    "def min(arr):\n",
    "    arr.sort()\n",
    "    return arr[0]\n",
    "\n",
    "def max(arr):\n",
    "    arr.sort(reverse=True) #or remove reverse and access -1 instead of zero\n",
    "    return arr[0]"
   ]
  },
  {
   "cell_type": "code",
   "execution_count": 56,
   "id": "e21b3dec",
   "metadata": {},
   "outputs": [
    {
     "name": "stdout",
     "output_type": "stream",
     "text": [
      "[1, 2, 6, 9, 10]\n",
      "10\n",
      "1\n"
     ]
    }
   ],
   "source": [
    "print(test)\n",
    "print(maximum(test))\n",
    "print(minimum(test))"
   ]
  },
  {
   "cell_type": "markdown",
   "id": "3bc0bda2",
   "metadata": {},
   "source": [
    "## 7. You Can't Code Under Pressure #1\n",
    "##### You need to double the integer and return it.\n",
    "\n"
   ]
  },
  {
   "cell_type": "code",
   "execution_count": 57,
   "id": "5c3595d3",
   "metadata": {},
   "outputs": [],
   "source": [
    "def doubleInteger(i):\n",
    "    return i * 2"
   ]
  },
  {
   "cell_type": "markdown",
   "id": "8664b7e0",
   "metadata": {},
   "source": [
    "## 8.Convert a string to an array\n",
    "### Write a function to split a string and convert it into an array of words.\n",
    "#### Examples (Input ==> Output):\n",
    "#### \"Robin Singh\" ==> [\"Robin\", \"Singh\"]"
   ]
  },
  {
   "cell_type": "code",
   "execution_count": 66,
   "id": "34baaf4d",
   "metadata": {},
   "outputs": [],
   "source": [
    "def string_to_array(s):\n",
    "    if s=='':\n",
    "        return['']\n",
    "    else:\n",
    "        return s.split()\n",
    "\n",
    "    "
   ]
  },
  {
   "cell_type": "code",
   "execution_count": 67,
   "id": "6005344b",
   "metadata": {},
   "outputs": [
    {
     "data": {
      "text/plain": [
       "['Robin', 'Singh']"
      ]
     },
     "execution_count": 67,
     "metadata": {},
     "output_type": "execute_result"
    }
   ],
   "source": [
    "b=\"Robin Singh\"\n",
    "string_to_array(b)"
   ]
  },
  {
   "cell_type": "code",
   "execution_count": 68,
   "id": "31944c9f",
   "metadata": {},
   "outputs": [
    {
     "data": {
      "text/plain": [
       "['']"
      ]
     },
     "execution_count": 68,
     "metadata": {},
     "output_type": "execute_result"
    }
   ],
   "source": [
    "c=\"\"\n",
    "string_to_array(c)"
   ]
  },
  {
   "cell_type": "markdown",
   "id": "ed6934d6",
   "metadata": {},
   "source": [
    "## 9.Convert boolean values to strings 'Yes' or 'No'.\n",
    "### Complete the method that takes a boolean value and return a \"Yes\" string for true, or a \"No\" string for false."
   ]
  },
  {
   "cell_type": "code",
   "execution_count": 76,
   "id": "4102e069",
   "metadata": {},
   "outputs": [],
   "source": [
    "def bool_to_word(boolean):\n",
    "    return 'Yes' if boolean==True else 'No'"
   ]
  },
  {
   "cell_type": "code",
   "execution_count": 80,
   "id": "dd55bcfc",
   "metadata": {},
   "outputs": [
    {
     "data": {
      "text/plain": [
       "'Yes'"
      ]
     },
     "execution_count": 80,
     "metadata": {},
     "output_type": "execute_result"
    }
   ],
   "source": [
    "bool_to_word(True)"
   ]
  },
  {
   "cell_type": "code",
   "execution_count": 81,
   "id": "8b477574",
   "metadata": {},
   "outputs": [
    {
     "data": {
      "text/plain": [
       "'No'"
      ]
     },
     "execution_count": 81,
     "metadata": {},
     "output_type": "execute_result"
    }
   ],
   "source": [
    "bool_to_word(False)"
   ]
  },
  {
   "cell_type": "code",
   "execution_count": 79,
   "id": "2b46ac73",
   "metadata": {},
   "outputs": [],
   "source": [
    "#Method 2\n",
    "def bool_to_word(boolean):\n",
    "    return \"Yes\" if boolean else \"No\""
   ]
  },
  {
   "cell_type": "markdown",
   "id": "d32ac037",
   "metadata": {},
   "source": [
    "## 10.Counting sheep...\n",
    "### Consider an array/list of sheep where some sheep may be missing from their place. We need a function that counts the number of sheep present in the array (true means present).\n",
    "#### For example,\n",
    "\n",
    "[True,  True,  True,  False,\n",
    "  True,  True,  True,  True ,\n",
    "  True,  False, True,  False,\n",
    "  True,  False, False, True ,\n",
    "  True,  True,  True,  True ,\n",
    "  False, False, True,  True]\n",
    "### # The correct answer would be 17."
   ]
  },
  {
   "cell_type": "code",
   "execution_count": 84,
   "id": "717edc54",
   "metadata": {},
   "outputs": [],
   "source": [
    "def count_sheeps(sheep):\n",
    "    sheep_no=[]\n",
    "    for i in sheep:\n",
    "        if i==True:\n",
    "            sheep_no.append(1)\n",
    "            \n",
    "    return len(sheep_no)"
   ]
  },
  {
   "cell_type": "code",
   "execution_count": 87,
   "id": "101af93a",
   "metadata": {},
   "outputs": [
    {
     "data": {
      "text/plain": [
       "17"
      ]
     },
     "execution_count": 87,
     "metadata": {},
     "output_type": "execute_result"
    }
   ],
   "source": [
    "d=[True,  True,  True,  False,\n",
    "  True,  True,  True,  True ,\n",
    "  True,  False, True,  False,\n",
    "  True,  False, False, True ,\n",
    "  True,  True,  True,  True ,\n",
    "  False, False, True,  True]\n",
    "count_sheeps(d)"
   ]
  },
  {
   "cell_type": "code",
   "execution_count": 86,
   "id": "3c54260d",
   "metadata": {},
   "outputs": [],
   "source": [
    "#Also worls\n",
    "def count_sheeps(sheep):\n",
    "    return sheep.count(True)"
   ]
  },
  {
   "cell_type": "code",
   "execution_count": 88,
   "id": "84544ff5",
   "metadata": {},
   "outputs": [],
   "source": [
    "def count_sheeps(sheep):\n",
    "  return len([x for x in sheep if x])"
   ]
  },
  {
   "cell_type": "markdown",
   "id": "05b0e197",
   "metadata": {},
   "source": [
    "## 11.Count by X\n",
    "### count_by(1,10) #should return [1,2,3,4,5,6,7,8,9,10]\n",
    "### count_by(2,5) #should return [2,4,6,8,10]\n",
    "        test.assert_equals(count_by(1, 5), [1, 2, 3, 4, 5])\n",
    "        test.assert_equals(count_by(2, 5), [2, 4, 6, 8, 10])\n",
    "        test.assert_equals(count_by(3, 5), [3, 6, 9, 12, 15])\n",
    "        test.assert_equals(count_by(50, 5), [50, 100, 150, 200, 250])\n",
    "        test.assert_equals(count_by(100, 5), [100, 200, 300, 400, 500])"
   ]
  },
  {
   "cell_type": "code",
   "execution_count": 121,
   "id": "34e6d42f",
   "metadata": {},
   "outputs": [],
   "source": [
    "def count(x,n):\n",
    "    multiple=[]\n",
    "    i=1\n",
    "    while i<=n:\n",
    "        multiple.append(x*i)\n",
    "        i+=1\n",
    "    \n",
    "    return multiple\n",
    "        "
   ]
  },
  {
   "cell_type": "code",
   "execution_count": 122,
   "id": "76922277",
   "metadata": {},
   "outputs": [
    {
     "data": {
      "text/plain": [
       "[2, 4, 6, 8, 10]"
      ]
     },
     "execution_count": 122,
     "metadata": {},
     "output_type": "execute_result"
    }
   ],
   "source": [
    "count(2,5)"
   ]
  },
  {
   "cell_type": "code",
   "execution_count": 123,
   "id": "a9f8c0e6",
   "metadata": {},
   "outputs": [
    {
     "data": {
      "text/plain": [
       "[100, 200, 300, 400]"
      ]
     },
     "execution_count": 123,
     "metadata": {},
     "output_type": "execute_result"
    }
   ],
   "source": [
    "count(100, 4)"
   ]
  },
  {
   "cell_type": "code",
   "execution_count": 126,
   "id": "11d51574",
   "metadata": {},
   "outputs": [],
   "source": [
    "def count_by(x,n):\n",
    "    return [x*i for i in range(1,n+1)]"
   ]
  },
  {
   "cell_type": "code",
   "execution_count": 127,
   "id": "b5e37ad3",
   "metadata": {},
   "outputs": [
    {
     "data": {
      "text/plain": [
       "[3, 6, 9, 12, 15]"
      ]
     },
     "execution_count": 127,
     "metadata": {},
     "output_type": "execute_result"
    }
   ],
   "source": [
    "count_by(3,5)"
   ]
  },
  {
   "cell_type": "markdown",
   "id": "4ba2a066",
   "metadata": {},
   "source": [
    "## 12.Return Negative\n",
    "### In this simple assignment you are given a number and have to make it negative. But maybe the number is already negative?\n",
    "### Examples\n",
    "make_negative(1);  # return -1\n",
    "make_negative(-5); # return -5\n",
    "make_negative(0);  # return 0"
   ]
  },
  {
   "cell_type": "code",
   "execution_count": 136,
   "id": "22e79331",
   "metadata": {},
   "outputs": [],
   "source": [
    "def make_negative( number ):\n",
    "    if number<=0:\n",
    "        return number\n",
    "    else:\n",
    "        return -number"
   ]
  },
  {
   "cell_type": "code",
   "execution_count": 146,
   "id": "adbb90ad",
   "metadata": {},
   "outputs": [],
   "source": [
    "def make_negative( number ):\n",
    "    return -number if number>0 else number"
   ]
  },
  {
   "cell_type": "code",
   "execution_count": 147,
   "id": "f285f672",
   "metadata": {},
   "outputs": [
    {
     "data": {
      "text/plain": [
       "0"
      ]
     },
     "execution_count": 147,
     "metadata": {},
     "output_type": "execute_result"
    }
   ],
   "source": [
    "make_negative(0)"
   ]
  },
  {
   "cell_type": "code",
   "execution_count": 148,
   "id": "cb9adc11",
   "metadata": {},
   "outputs": [
    {
     "data": {
      "text/plain": [
       "-5"
      ]
     },
     "execution_count": 148,
     "metadata": {},
     "output_type": "execute_result"
    }
   ],
   "source": [
    "make_negative(5)"
   ]
  },
  {
   "cell_type": "code",
   "execution_count": 149,
   "id": "7553a49b",
   "metadata": {},
   "outputs": [
    {
     "data": {
      "text/plain": [
       "-5"
      ]
     },
     "execution_count": 149,
     "metadata": {},
     "output_type": "execute_result"
    }
   ],
   "source": [
    "make_negative(-5)"
   ]
  },
  {
   "cell_type": "code",
   "execution_count": 142,
   "id": "74c6642c",
   "metadata": {},
   "outputs": [],
   "source": [
    "def make_negative(number):\n",
    "    return -abs(number)"
   ]
  },
  {
   "cell_type": "code",
   "execution_count": 145,
   "id": "5f4b138c",
   "metadata": {},
   "outputs": [
    {
     "data": {
      "text/plain": [
       "0"
      ]
     },
     "execution_count": 145,
     "metadata": {},
     "output_type": "execute_result"
    }
   ],
   "source": [
    "make_negative(0)"
   ]
  },
  {
   "cell_type": "markdown",
   "id": "d3dfd312",
   "metadata": {},
   "source": [
    "## 13.You only need one - Beginner\n",
    "### check whether the provided array contains the value.\n",
    "### Array can contain numbers or strings. X can be either.\n",
    "### Return true if the array contains the value, false if not."
   ]
  },
  {
   "cell_type": "code",
   "execution_count": 155,
   "id": "22fcdcd2",
   "metadata": {},
   "outputs": [],
   "source": [
    "def check(seq, elem):\n",
    "    return True if elem in seq else False"
   ]
  },
  {
   "cell_type": "code",
   "execution_count": 161,
   "id": "3a9cc95a",
   "metadata": {},
   "outputs": [
    {
     "data": {
      "text/plain": [
       "False"
      ]
     },
     "execution_count": 161,
     "metadata": {},
     "output_type": "execute_result"
    }
   ],
   "source": [
    "check([\"what\", \"a\", \"great\", \"kata\"], \"kat\")"
   ]
  },
  {
   "cell_type": "code",
   "execution_count": 160,
   "id": "5cd9bf87",
   "metadata": {},
   "outputs": [
    {
     "data": {
      "text/plain": [
       "True"
      ]
     },
     "execution_count": 160,
     "metadata": {},
     "output_type": "execute_result"
    }
   ],
   "source": [
    "check([66, 101], 66)"
   ]
  },
  {
   "cell_type": "code",
   "execution_count": 159,
   "id": "af6e5262",
   "metadata": {},
   "outputs": [],
   "source": [
    "def check(seq, elem):\n",
    "    return  elem in seq "
   ]
  },
  {
   "cell_type": "markdown",
   "id": "56e51617",
   "metadata": {},
   "source": [
    "## 14.String ends with?\n",
    "### Complete the solution so that it returns true if the first argument(string) passed in ends with the 2nd argument (also a string).\n",
    "Examples:\n",
    "\n",
    "solution('abc', 'bc') # returns true\n",
    "solution('abc', 'd') # returns false"
   ]
  },
  {
   "cell_type": "code",
   "execution_count": 165,
   "id": "03f6f743",
   "metadata": {},
   "outputs": [],
   "source": [
    "def solution(text, ending):\n",
    "    return text.endswith(ending)"
   ]
  },
  {
   "cell_type": "code",
   "execution_count": 166,
   "id": "1606260f",
   "metadata": {},
   "outputs": [
    {
     "data": {
      "text/plain": [
       "True"
      ]
     },
     "execution_count": 166,
     "metadata": {},
     "output_type": "execute_result"
    }
   ],
   "source": [
    "solution('abc', 'bc')"
   ]
  },
  {
   "cell_type": "code",
   "execution_count": 167,
   "id": "50a5fdaf",
   "metadata": {},
   "outputs": [
    {
     "data": {
      "text/plain": [
       "False"
      ]
     },
     "execution_count": 167,
     "metadata": {},
     "output_type": "execute_result"
    }
   ],
   "source": [
    "solution('abc', 'd')"
   ]
  },
  {
   "cell_type": "markdown",
   "id": "4d573d92",
   "metadata": {},
   "source": [
    "## 15.Highest and Lowest\n",
    "### You are given a string of space separated numbers, and have to return the highest and lowest number\n",
    "Examples:\n",
    "\n",
    "high_and_low(\"1 2 3 4 5\")  # return \"5 1\"\n",
    "high_and_low(\"1 2 -3 4 5\") # return \"5 -3\"\n",
    "high_and_low(\"1 9 3 4 -5\") # return \"9 -5\""
   ]
  },
  {
   "cell_type": "code",
   "execution_count": 216,
   "id": "996fe920",
   "metadata": {},
   "outputs": [],
   "source": [
    "def high_and_low(numbers):\n",
    "    numbers=numbers.split()\n",
    "    numbers=[int(number) for number in numbers]\n",
    "    numbers= (f'{max(numbers)} {min(numbers)}')\n",
    "    return numbers"
   ]
  },
  {
   "cell_type": "code",
   "execution_count": 217,
   "id": "5f88abe4",
   "metadata": {},
   "outputs": [
    {
     "data": {
      "text/plain": [
       "'5 1'"
      ]
     },
     "execution_count": 217,
     "metadata": {},
     "output_type": "execute_result"
    }
   ],
   "source": [
    "high_and_low(\"1 2 3 4 5\")"
   ]
  },
  {
   "cell_type": "code",
   "execution_count": 215,
   "id": "d92ac7f4",
   "metadata": {},
   "outputs": [
    {
     "name": "stdout",
     "output_type": "stream",
     "text": [
      "42\n",
      "-9\n",
      "42 -9\n"
     ]
    },
    {
     "data": {
      "text/plain": [
       "[8, 3, -5, 42, -1, 0, 0, -9, 4, 7, 4, -4]"
      ]
     },
     "execution_count": 215,
     "metadata": {},
     "output_type": "execute_result"
    }
   ],
   "source": [
    "numbers=(\"8 3 -5 42 -1 0 0 -9 4 7 4 -4\")\n",
    "numbers=numbers.split()\n",
    "numbers=[int(number) for number in numbers]\n",
    "print(max(numbers))\n",
    "print(min(numbers))\n",
    "print(f'{max(numbers)} {min(numbers)}')\n",
    "numbers"
   ]
  },
  {
   "cell_type": "code",
   "execution_count": 218,
   "id": "f8c219f5",
   "metadata": {},
   "outputs": [
    {
     "data": {
      "text/plain": [
       "'5 -3'"
      ]
     },
     "execution_count": 218,
     "metadata": {},
     "output_type": "execute_result"
    }
   ],
   "source": [
    "high_and_low(\"1 2 -3 4 5\")"
   ]
  },
  {
   "cell_type": "code",
   "execution_count": 219,
   "id": "059b8583",
   "metadata": {},
   "outputs": [
    {
     "data": {
      "text/plain": [
       "'9 -5'"
      ]
     },
     "execution_count": 219,
     "metadata": {},
     "output_type": "execute_result"
    }
   ],
   "source": [
    "high_and_low(\"1 9 3 4 -5\")"
   ]
  },
  {
   "cell_type": "code",
   "execution_count": 220,
   "id": "52adbdb4",
   "metadata": {},
   "outputs": [
    {
     "data": {
      "text/plain": [
       "'42 -9'"
      ]
     },
     "execution_count": 220,
     "metadata": {},
     "output_type": "execute_result"
    }
   ],
   "source": [
    "high_and_low(\"8 3 -5 42 -1 0 0 -9 4 7 4 -4\")"
   ]
  },
  {
   "cell_type": "code",
   "execution_count": 221,
   "id": "7c0764fc",
   "metadata": {},
   "outputs": [],
   "source": [
    "def high_and_low(numbers):\n",
    "    numbers=numbers.split()\n",
    "    numbers=list(map(int,numbers))\n",
    "    print(f'{max(numbers)} {min(numbers)}')"
   ]
  },
  {
   "cell_type": "code",
   "execution_count": 222,
   "id": "fcdc4dd5",
   "metadata": {},
   "outputs": [
    {
     "name": "stdout",
     "output_type": "stream",
     "text": [
      "42 -9\n"
     ]
    }
   ],
   "source": [
    "high_and_low(\"8 3 -5 42 -1 0 0 -9 4 7 4 -4\")"
   ]
  },
  {
   "cell_type": "code",
   "execution_count": 223,
   "id": "00581ff3",
   "metadata": {},
   "outputs": [],
   "source": [
    "#on one line\n",
    "def high_and_low(numbers):\n",
    "  numbers = [int(c) for c in numbers.split(' ')]\n",
    "  return f\"{max(numbers)} {min(numbers)}\""
   ]
  },
  {
   "cell_type": "code",
   "execution_count": 228,
   "id": "2e523cf0",
   "metadata": {},
   "outputs": [],
   "source": [
    "def high_and_low(numbers):\n",
    "    numbers=numbers.split()\n",
    "    numbers=list(map(int,numbers))\n",
    "    numbers.sort()\n",
    "    numbers=f'{numbers[-1]} {numbers[0]}'\n",
    "    return numbers"
   ]
  },
  {
   "cell_type": "code",
   "execution_count": 229,
   "id": "653b8539",
   "metadata": {},
   "outputs": [
    {
     "data": {
      "text/plain": [
       "'42 -9'"
      ]
     },
     "execution_count": 229,
     "metadata": {},
     "output_type": "execute_result"
    }
   ],
   "source": [
    "high_and_low(\"8 3 -5 42 -1 0 0 -9 4 7 4 -4\")"
   ]
  },
  {
   "cell_type": "markdown",
   "id": "b0478a34",
   "metadata": {},
   "source": [
    "## 16.Exes and Ohs\n",
    "### Check to see if a string has the same amount of 'x's and 'o's. The method must return a boolean and be case insensitive. The string can contain any char.\n",
    "Examples:\n",
    "\n",
    "XO(\"ooxx\") => true\n",
    "XO(\"xooxx\") => false\n",
    "XO(\"ooxXm\") => true\n",
    "XO(\"zpzpzpp\") => true // when no 'x' and 'o' is present should return true\n",
    "XO(\"zzoo\") => false"
   ]
  },
  {
   "cell_type": "code",
   "execution_count": 246,
   "id": "60dbb2b0",
   "metadata": {},
   "outputs": [],
   "source": [
    "def xo(s):\n",
    "    s=s.lower()\n",
    "    return s.count('x') ==s.count('o')"
   ]
  },
  {
   "cell_type": "code",
   "execution_count": 247,
   "id": "24b086a6",
   "metadata": {
    "scrolled": true
   },
   "outputs": [
    {
     "data": {
      "text/plain": [
       "True"
      ]
     },
     "execution_count": 247,
     "metadata": {},
     "output_type": "execute_result"
    }
   ],
   "source": [
    "xo(\"ooxx\") "
   ]
  },
  {
   "cell_type": "code",
   "execution_count": 248,
   "id": "e6bf73ed",
   "metadata": {},
   "outputs": [
    {
     "data": {
      "text/plain": [
       "False"
      ]
     },
     "execution_count": 248,
     "metadata": {},
     "output_type": "execute_result"
    }
   ],
   "source": [
    "xo('xooxx')"
   ]
  },
  {
   "cell_type": "code",
   "execution_count": 249,
   "id": "f0f6debb",
   "metadata": {},
   "outputs": [
    {
     "data": {
      "text/plain": [
       "True"
      ]
     },
     "execution_count": 249,
     "metadata": {},
     "output_type": "execute_result"
    }
   ],
   "source": [
    "xo(\"zpzpzpp\")"
   ]
  },
  {
   "cell_type": "markdown",
   "id": "bef5a888",
   "metadata": {},
   "source": [
    "##  17.Remove String Spaces\n",
    "### Write a function that removes the spaces from the string, then return the resultant string\n"
   ]
  },
  {
   "cell_type": "code",
   "execution_count": 254,
   "id": "b7f1bf43",
   "metadata": {},
   "outputs": [
    {
     "data": {
      "text/plain": [
       "'8j8mBliB8gimjB8B8jlB'"
      ]
     },
     "execution_count": 254,
     "metadata": {},
     "output_type": "execute_result"
    }
   ],
   "source": [
    "#canot use strip, strip only removes leading and trailing spaces not in betweeen\n",
    "x='8 j 8   mBliB8g  imjB8B8  jl  B'\n",
    "x.replace(\" \",\"\")\n"
   ]
  },
  {
   "cell_type": "code",
   "execution_count": 255,
   "id": "af9ad344",
   "metadata": {},
   "outputs": [
    {
     "data": {
      "text/plain": [
       "'8 j 8   mBliB8g  imjB8B8  jl  B'"
      ]
     },
     "execution_count": 255,
     "metadata": {},
     "output_type": "execute_result"
    }
   ],
   "source": []
  },
  {
   "cell_type": "code",
   "execution_count": null,
   "id": "a67849ad",
   "metadata": {},
   "outputs": [],
   "source": []
  }
 ],
 "metadata": {
  "kernelspec": {
   "display_name": "Python 3 (ipykernel)",
   "language": "python",
   "name": "python3"
  },
  "language_info": {
   "codemirror_mode": {
    "name": "ipython",
    "version": 3
   },
   "file_extension": ".py",
   "mimetype": "text/x-python",
   "name": "python",
   "nbconvert_exporter": "python",
   "pygments_lexer": "ipython3",
   "version": "3.11.7"
  }
 },
 "nbformat": 4,
 "nbformat_minor": 5
}
