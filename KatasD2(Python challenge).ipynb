{
 "cells": [
  {
   "cell_type": "markdown",
   "id": "31d546ab",
   "metadata": {},
   "source": [
    "## 1.Reverse words\n",
    "### Complete the function that accepts a string parameter, and reverses each word in the string. All spaces in the string should be retained.\n",
    "Examples\n",
    "\"This is an example!\" ==> \"sihT si na !elpmaxe\"\n",
    "\"double  spaces\"      ==> \"elbuod  secaps\"\n"
   ]
  },
  {
   "cell_type": "code",
   "execution_count": 1,
   "id": "6f98e5de",
   "metadata": {},
   "outputs": [
    {
     "ename": "SyntaxError",
     "evalue": "invalid syntax (1611355329.py, line 3)",
     "output_type": "error",
     "traceback": [
      "\u001b[1;36m  Cell \u001b[1;32mIn[1], line 3\u001b[1;36m\u001b[0m\n\u001b[1;33m    return ' '.join(x[::-1]) for x in text.split(' ')\u001b[0m\n\u001b[1;37m                             ^\u001b[0m\n\u001b[1;31mSyntaxError\u001b[0m\u001b[1;31m:\u001b[0m invalid syntax\n"
     ]
    }
   ],
   "source": [
    "def reverse_words(text):\n",
    "   return ' '.join(x[::-1] for x in text.split(' '))\n",
    "return ' '.join(x[::-1]) for x in text.split(' ')\n",
    "  \n",
    "    "
   ]
  },
  {
   "cell_type": "code",
   "execution_count": null,
   "id": "bf45455f",
   "metadata": {},
   "outputs": [],
   "source": [
    "reverse_words('The quick brown fox jumps over the lazy dog')"
   ]
  },
  {
   "cell_type": "code",
   "execution_count": null,
   "id": "852780f8",
   "metadata": {},
   "outputs": [],
   "source": [
    "reverse_words('apple')"
   ]
  },
  {
   "cell_type": "code",
   "execution_count": null,
   "id": "a8a1bc6e",
   "metadata": {},
   "outputs": [],
   "source": [
    "reverse_words('a b c d')"
   ]
  },
  {
   "cell_type": "code",
   "execution_count": null,
   "id": "9aec57be",
   "metadata": {},
   "outputs": [],
   "source": [
    "def reverse_words(text):\n",
    "    return [' '.join(x[::-1] for x in text.split(' '))]"
   ]
  },
  {
   "cell_type": "code",
   "execution_count": null,
   "id": "84cab82b",
   "metadata": {},
   "outputs": [],
   "source": [
    "reverse_words('The quick brown fox jumps over the lazy dog')"
   ]
  },
  {
   "cell_type": "code",
   "execution_count": null,
   "id": "cef8e21f",
   "metadata": {},
   "outputs": [],
   "source": [
    "def reverse_words(str):\n",
    "  return ' '.join(map(lambda x:x[::-1],str.split(' ')))"
   ]
  },
  {
   "cell_type": "code",
   "execution_count": null,
   "id": "c4d117b8",
   "metadata": {},
   "outputs": [],
   "source": [
    "reverse_words('The quick brown fox jumps over the lazy dog')"
   ]
  },
  {
   "cell_type": "markdown",
   "id": "9fb50e39",
   "metadata": {},
   "source": [
    "## 2.Disemvowel Trolls\n",
    "### A common way to deal with this situation is to remove all of the vowels from the trolls' comments, neutralizing the threat.\n",
    "\n",
    "Your task is to write a function that takes a string and return a new string with all vowels removed.\n",
    "\n",
    "For example, the string \"This website is for losers LOL!\" would become \"Ths wbst s fr lsrs LL!\".\n",
    "\n",
    "Note: for this kata y isn't considered a vowel.\n"
   ]
  },
  {
   "cell_type": "code",
   "execution_count": null,
   "id": "abacf849",
   "metadata": {},
   "outputs": [],
   "source": [
    "def disemvowel(string_):\n",
    "    vowels='aeiouAEIOU'\n",
    "    return ''.join(i for i in string_ if i not in vowels)\n",
    "          "
   ]
  },
  {
   "cell_type": "code",
   "execution_count": null,
   "id": "1d4d51ab",
   "metadata": {},
   "outputs": [],
   "source": []
  },
  {
   "cell_type": "code",
   "execution_count": null,
   "id": "5b8ee8c5",
   "metadata": {},
   "outputs": [],
   "source": [
    "disemvowel('This website is for losers LOL!')"
   ]
  },
  {
   "cell_type": "code",
   "execution_count": null,
   "id": "6c7d887e",
   "metadata": {},
   "outputs": [],
   "source": [
    "def disemvowel(string_):\n",
    "    vowels='aeiouAEIOU'\n",
    "    for i in vowels:\n",
    "        string_=string_.replace(i,'')\n",
    "    return string_\n",
    "disemvowel('This website is for losers LOL!')\n",
    "          "
   ]
  },
  {
   "cell_type": "markdown",
   "id": "96573bac",
   "metadata": {},
   "source": [
    "## 3.Binary Addition\n",
    "###  Implement a function that adds two numbers together and returns their sum in binary. The conversion can be done before, or after the addition.\n",
    "### The binary number returned should be a string.\n",
    "Examples:(Input1, Input2 --> Output (explanation)))\n",
    "\n",
    "1, 1 --> \"10\" (1 + 1 = 2 in decimal or 10 in binary)\n",
    "5, 9 --> \"1110\" (5 + 9 = 14 in decimal or 1110 in binary)"
   ]
  },
  {
   "cell_type": "code",
   "execution_count": null,
   "id": "c275f573",
   "metadata": {},
   "outputs": [],
   "source": [
    "def add_binary(a,b):\n",
    "    return bin(a+b).replace('0b',\"\")"
   ]
  },
  {
   "cell_type": "code",
   "execution_count": null,
   "id": "54a8b478",
   "metadata": {},
   "outputs": [],
   "source": [
    "add_binary(1,1)"
   ]
  },
  {
   "cell_type": "code",
   "execution_count": null,
   "id": "7094ec06",
   "metadata": {},
   "outputs": [],
   "source": [
    "def add_binary(a,b):\n",
    "    return '{0:b}'.format(a+b)"
   ]
  },
  {
   "cell_type": "code",
   "execution_count": null,
   "id": "eaa43c72",
   "metadata": {},
   "outputs": [],
   "source": [
    "add_binary(1,1)"
   ]
  },
  {
   "cell_type": "code",
   "execution_count": null,
   "id": "76fa6fed",
   "metadata": {},
   "outputs": [],
   "source": [
    "def add_binary(a,b):\n",
    "    return bin(a+b)[2:]"
   ]
  },
  {
   "cell_type": "code",
   "execution_count": null,
   "id": "a4acdb46",
   "metadata": {},
   "outputs": [],
   "source": [
    "add_binary(1,1)"
   ]
  },
  {
   "cell_type": "code",
   "execution_count": null,
   "id": "e3d691db",
   "metadata": {},
   "outputs": [],
   "source": [
    "add_binary(5,9)"
   ]
  },
  {
   "cell_type": "markdown",
   "id": "b7353d1e",
   "metadata": {},
   "source": [
    "## 4. Sum of odd numbers\n",
    "###  Given the triangle of consecutive odd numbers:\n",
    "\n",
    "             1\n",
    "          3     5\n",
    "       7     9    11\n",
    "   13    15    17    19\n",
    "21    23    25    27    29\n",
    "...\n",
    "Calculate the sum of the numbers in the nth row of this triangle (starting at index 1) e.g.: (Input --> Output)\n",
    "\n",
    "#### 1 -->  1\n",
    "#### 2 --> 3 + 5 = 8"
   ]
  },
  {
   "cell_type": "code",
   "execution_count": null,
   "id": "d016582b",
   "metadata": {},
   "outputs": [],
   "source": [
    "import math\n",
    "def row_sum_odd_numbers(n):\n",
    "    return math.pow(n,3)"
   ]
  },
  {
   "cell_type": "code",
   "execution_count": null,
   "id": "a1a8c72a",
   "metadata": {},
   "outputs": [],
   "source": [
    "row_sum_odd_numbers(41)"
   ]
  },
  {
   "cell_type": "code",
   "execution_count": null,
   "id": "02d669eb",
   "metadata": {},
   "outputs": [],
   "source": [
    "row_sum_odd_numbers(3)"
   ]
  },
  {
   "cell_type": "markdown",
   "id": "02f086d0",
   "metadata": {},
   "source": [
    "## 5. Growth of a Population\n",
    "### In a small town the population is p0 = 1000 at the beginning of a year. The population regularly increases by 2 percent per year and moreover 50 new inhabitants per year come to live in the town. How many years does the town need to see its population greater than or equal to p = 1200 inhabitants?\n",
    "\n",
    "At the end of the first year there will be: \n",
    "1000 + 1000 * 0.02 + 50 => 1070 inhabitants\n",
    "\n",
    "At the end of the 2nd year there will be: \n",
    "1070 + 1070 * 0.02 + 50 => 1141 inhabitants (** number of inhabitants is an integer **)\n",
    "\n",
    "At the end of the 3rd year there will be:\n",
    "1141 + 1141 * 0.02 + 50 => 1213\n",
    "\n",
    "It will need 3 entire years.\n",
    "\n",
    "More generally given parameters:\n",
    "\n",
    "p0, percent, aug (inhabitants coming or leaving each year), p (population to equal or surpass)\n",
    "\n",
    "the function nb_year should return n number of entire years needed to get a population greater or equal to p.\n",
    "\n",
    "aug is an integer, percent a positive or null floating number, p0 and p are positive integers (> 0)"
   ]
  },
  {
   "cell_type": "code",
   "execution_count": 2,
   "id": "61bbd7f7",
   "metadata": {},
   "outputs": [],
   "source": [
    "def nb_year(p0, percent, aug, p):\n",
    "    count = 0\n",
    "    while p0 <= p:\n",
    "        p0=p0+(int(p0*(percent/100))+aug)\n",
    "        count+=1\n",
    "    return count"
   ]
  },
  {
   "cell_type": "code",
   "execution_count": 3,
   "id": "bad323e8",
   "metadata": {},
   "outputs": [
    {
     "data": {
      "text/plain": [
       "15"
      ]
     },
     "execution_count": 3,
     "metadata": {},
     "output_type": "execute_result"
    }
   ],
   "source": [
    "nb_year(1500, 5, 100, 5000)"
   ]
  },
  {
   "cell_type": "code",
   "execution_count": 4,
   "id": "873018c6",
   "metadata": {},
   "outputs": [
    {
     "data": {
      "text/plain": [
       "10"
      ]
     },
     "execution_count": 4,
     "metadata": {},
     "output_type": "execute_result"
    }
   ],
   "source": [
    "nb_year(1500000, 2.5, 10000, 2000000)"
   ]
  },
  {
   "cell_type": "code",
   "execution_count": 5,
   "id": "75bc522d",
   "metadata": {},
   "outputs": [
    {
     "data": {
      "text/plain": [
       "94"
      ]
     },
     "execution_count": 5,
     "metadata": {},
     "output_type": "execute_result"
    }
   ],
   "source": [
    "nb_year(1500000, 0.25, 1000, 2000000)"
   ]
  },
  {
   "cell_type": "markdown",
   "id": "110edb6b",
   "metadata": {},
   "source": [
    "## 6. Sum Arrays\n",
    "### Write a function that takes an array of numbers and returns the sum of the numbers. The numbers can be negative or non-integer. If the array does not contain any numbers then you should return 0.\n",
    "Examples\n",
    "Input: [1, 5.2, 4, 0, -1]\n",
    "Output: 9.2\n",
    "\n",
    "Input: []\n",
    "Output: 0\n",
    "\n",
    "Input: [-2.398]\n",
    "Output: -2.398"
   ]
  },
  {
   "cell_type": "code",
   "execution_count": 7,
   "id": "4706b6a2",
   "metadata": {},
   "outputs": [],
   "source": [
    "def sum_array(a):\n",
    "    return sum(a)"
   ]
  },
  {
   "cell_type": "code",
   "execution_count": 9,
   "id": "4fe2c74d",
   "metadata": {},
   "outputs": [
    {
     "data": {
      "text/plain": [
       "6"
      ]
     },
     "execution_count": 9,
     "metadata": {},
     "output_type": "execute_result"
    }
   ],
   "source": [
    "sum_array([1, 2, 3])"
   ]
  },
  {
   "cell_type": "code",
   "execution_count": 11,
   "id": "69094b73",
   "metadata": {},
   "outputs": [
    {
     "data": {
      "text/plain": [
       "5050"
      ]
     },
     "execution_count": 11,
     "metadata": {},
     "output_type": "execute_result"
    }
   ],
   "source": [
    "sum_array(range(101))"
   ]
  },
  {
   "cell_type": "code",
   "execution_count": 12,
   "id": "fc08eee6",
   "metadata": {},
   "outputs": [
    {
     "data": {
      "text/plain": [
       "-2.398"
      ]
     },
     "execution_count": 12,
     "metadata": {},
     "output_type": "execute_result"
    }
   ],
   "source": [
    "sum_array([-2.398])"
   ]
  },
  {
   "cell_type": "code",
   "execution_count": 13,
   "id": "f6aef4fd",
   "metadata": {},
   "outputs": [
    {
     "data": {
      "text/plain": [
       "0"
      ]
     },
     "execution_count": 13,
     "metadata": {},
     "output_type": "execute_result"
    }
   ],
   "source": [
    "sum_array([])"
   ]
  },
  {
   "cell_type": "markdown",
   "id": "de26ca1b",
   "metadata": {},
   "source": [
    "## 7. Vowel Count\n",
    "### Return the number (count) of vowels in the given string.\n",
    "We will consider a, e, i, o, u as vowels for this Kata (but not y).\n",
    "\n",
    "The input string will only consist of lower case letters and/or spaces."
   ]
  },
  {
   "cell_type": "code",
   "execution_count": 41,
   "id": "0589e4d4",
   "metadata": {},
   "outputs": [],
   "source": [
    "def get_count(sentence):\n",
    "    vowels='aeiou'\n",
    "    return sum(sentence.count(vowel) for vowel in vowels)\n",
    "    "
   ]
  },
  {
   "cell_type": "code",
   "execution_count": 42,
   "id": "d089056f",
   "metadata": {},
   "outputs": [
    {
     "data": {
      "text/plain": [
       "5"
      ]
     },
     "execution_count": 42,
     "metadata": {},
     "output_type": "execute_result"
    }
   ],
   "source": [
    "get_count('abracadabra')"
   ]
  },
  {
   "cell_type": "code",
   "execution_count": 43,
   "id": "1153fd09",
   "metadata": {},
   "outputs": [
    {
     "data": {
      "text/plain": [
       "0"
      ]
     },
     "execution_count": 43,
     "metadata": {},
     "output_type": "execute_result"
    }
   ],
   "source": [
    "get_count('bcdfghjklmnpqrstvwxz')"
   ]
  },
  {
   "cell_type": "code",
   "execution_count": 44,
   "id": "c3073d42",
   "metadata": {},
   "outputs": [
    {
     "data": {
      "text/plain": [
       "5"
      ]
     },
     "execution_count": 44,
     "metadata": {},
     "output_type": "execute_result"
    }
   ],
   "source": [
    "get_count('aeiou')"
   ]
  },
  {
   "cell_type": "markdown",
   "id": "858b4c10",
   "metadata": {},
   "source": [
    "## 8. Friend or Foe?\n",
    "### Return the number (count) of vowels in the given string.\n",
    "Make a program that filters a list of strings and returns a list with only your friends name in it.\n",
    "\n",
    "If a name has exactly 4 letters in it, you can be sure that it has to be a friend of yours! Otherwise, you can be sure he's not...\n",
    "\n",
    "Ex: Input = [\"Ryan\", \"Kieran\", \"Jason\", \"Yous\"], Output = [\"Ryan\", \"Yous\"]\n",
    "\n",
    "i.e.\n",
    "\n",
    "friend [\"Ryan\", \"Kieran\", \"Mark\"] `shouldBe` [\"Ryan\", \"Mark\"]"
   ]
  },
  {
   "cell_type": "code",
   "execution_count": 66,
   "id": "fdba37dd",
   "metadata": {},
   "outputs": [],
   "source": [
    "def friend(x):\n",
    "    return [i for i in x if len(i)==4]\n"
   ]
  },
  {
   "cell_type": "code",
   "execution_count": 62,
   "id": "f7efcfc2",
   "metadata": {},
   "outputs": [
    {
     "data": {
      "text/plain": [
       "['Ryan', 'Mark']"
      ]
     },
     "execution_count": 62,
     "metadata": {},
     "output_type": "execute_result"
    }
   ],
   "source": [
    "friend([\"Ryan\", \"Kieran\", \"Mark\",])"
   ]
  },
  {
   "cell_type": "code",
   "execution_count": 63,
   "id": "bce9f230",
   "metadata": {},
   "outputs": [
    {
     "data": {
      "text/plain": [
       "['Ryan']"
      ]
     },
     "execution_count": 63,
     "metadata": {},
     "output_type": "execute_result"
    }
   ],
   "source": [
    "friend([\"Ryan\", \"Jimmy\", \"abc\", \"d\", \"Cool Man\"])"
   ]
  },
  {
   "cell_type": "code",
   "execution_count": 64,
   "id": "6a3dad40",
   "metadata": {},
   "outputs": [
    {
     "data": {
      "text/plain": [
       "['Jimm', 'Cari', 'aret']"
      ]
     },
     "execution_count": 64,
     "metadata": {},
     "output_type": "execute_result"
    }
   ],
   "source": [
    "friend([\"Jimm\", \"Cari\", \"aret\", \"truehdnviegkwgvke\", \"sixtyiscooooool\"])"
   ]
  },
  {
   "cell_type": "markdown",
   "id": "f803dc0b",
   "metadata": {},
   "source": [
    "## 9. How good are you really?\n",
    "### There was a test in your class and you passed it. Congratulations!\n",
    "But you're an ambitious person. You want to know if you're better than the average student in your class.\n",
    "### You receive an array with your peers' test scores. Now calculate the average and compare your score!\n",
    "### Return true if you're better, else false!\n",
    "Make a program that filters a list of strings and returns a list with only your friends name in it.\n",
    "\n",
    "If a name has exactly 4 letters in it, you can be sure that it has to be a friend of yours! Otherwise, you can be sure he's not...\n",
    "\n",
    "Ex: Input = [\"Ryan\", \"Kieran\", \"Jason\", \"Yous\"], Output = [\"Ryan\", \"Yous\"]\n",
    "\n",
    "i.e.\n",
    "\n",
    "friend [\"Ryan\", \"Kieran\", \"Mark\"] `shouldBe` [\"Ryan\", \"Mark\"]"
   ]
  },
  {
   "cell_type": "code",
   "execution_count": 103,
   "id": "de83bdfa",
   "metadata": {},
   "outputs": [],
   "source": [
    "from statistics import mean\n",
    "def better_than_average(class_points, your_points):\n",
    "    return mean(class_points)<=your_points"
   ]
  },
  {
   "cell_type": "code",
   "execution_count": 104,
   "id": "b352ee95",
   "metadata": {},
   "outputs": [
    {
     "data": {
      "text/plain": [
       "True"
      ]
     },
     "execution_count": 104,
     "metadata": {},
     "output_type": "execute_result"
    }
   ],
   "source": [
    "better_than_average([2, 3], 5)"
   ]
  },
  {
   "cell_type": "code",
   "execution_count": 105,
   "id": "b089427d",
   "metadata": {},
   "outputs": [
    {
     "data": {
      "text/plain": [
       "True"
      ]
     },
     "execution_count": 105,
     "metadata": {},
     "output_type": "execute_result"
    }
   ],
   "source": [
    "better_than_average([100, 40, 34, 57, 29, 72, 57, 88], 75)"
   ]
  },
  {
   "cell_type": "code",
   "execution_count": 106,
   "id": "bb74535f",
   "metadata": {},
   "outputs": [
    {
     "data": {
      "text/plain": [
       "True"
      ]
     },
     "execution_count": 106,
     "metadata": {},
     "output_type": "execute_result"
    }
   ],
   "source": [
    "better_than_average([12, 23, 34, 45, 56, 67, 78, 89, 90], 69)"
   ]
  },
  {
   "cell_type": "code",
   "execution_count": 107,
   "id": "42b581f9",
   "metadata": {},
   "outputs": [
    {
     "data": {
      "text/plain": [
       "False"
      ]
     },
     "execution_count": 107,
     "metadata": {},
     "output_type": "execute_result"
    }
   ],
   "source": [
    "better_than_average([41, 75, 72, 56, 80, 82, 81, 33], 50)"
   ]
  },
  {
   "cell_type": "code",
   "execution_count": 108,
   "id": "0e7fba9a",
   "metadata": {},
   "outputs": [
    {
     "data": {
      "text/plain": [
       "False"
      ]
     },
     "execution_count": 108,
     "metadata": {},
     "output_type": "execute_result"
    }
   ],
   "source": [
    "better_than_average([29, 55, 74, 60, 11, 90, 67, 28], 21)"
   ]
  },
  {
   "cell_type": "markdown",
   "id": "fbd56262",
   "metadata": {},
   "source": [
    "## 10. Basic Mathematical Operations\n",
    "### Your task is to create a function that does four basic mathematical operations.\n",
    "#### The function should take three arguments - operation(string/char), value1(number), value2(number).\n",
    "#### The function should return result of numbers after applying the chosen operation.\n",
    "Examples(Operator, value1, value2) --> output\n",
    "('+', 4, 7) --> 11\n",
    "('-', 15, 18) --> -3\n",
    "('*', 5, 5) --> 25\n",
    "('/', 49, 7) --> 7"
   ]
  },
  {
   "cell_type": "code",
   "execution_count": 123,
   "id": "59d9ab0a",
   "metadata": {},
   "outputs": [],
   "source": [
    "#allows us to evaluate the Python expression as a 'string' and return the value as an integer\n",
    "def basic_op(operator, value1, value2):\n",
    "    return eval(f'{value1}{operator}{value2}')"
   ]
  },
  {
   "cell_type": "code",
   "execution_count": 118,
   "id": "1a4610db",
   "metadata": {},
   "outputs": [
    {
     "data": {
      "text/plain": [
       "11"
      ]
     },
     "execution_count": 118,
     "metadata": {},
     "output_type": "execute_result"
    }
   ],
   "source": [
    "basic_op('+', 4, 7)"
   ]
  },
  {
   "cell_type": "code",
   "execution_count": 120,
   "id": "6d893f7a",
   "metadata": {},
   "outputs": [
    {
     "data": {
      "text/plain": [
       "-3"
      ]
     },
     "execution_count": 120,
     "metadata": {},
     "output_type": "execute_result"
    }
   ],
   "source": [
    "basic_op('-', 15, 18)"
   ]
  },
  {
   "cell_type": "code",
   "execution_count": 121,
   "id": "22772026",
   "metadata": {},
   "outputs": [
    {
     "data": {
      "text/plain": [
       "25"
      ]
     },
     "execution_count": 121,
     "metadata": {},
     "output_type": "execute_result"
    }
   ],
   "source": [
    "basic_op('*', 5, 5)"
   ]
  },
  {
   "cell_type": "code",
   "execution_count": 122,
   "id": "14b07dbf",
   "metadata": {},
   "outputs": [
    {
     "data": {
      "text/plain": [
       "7.0"
      ]
     },
     "execution_count": 122,
     "metadata": {},
     "output_type": "execute_result"
    }
   ],
   "source": [
    "basic_op('/', 49, 7)"
   ]
  },
  {
   "cell_type": "code",
   "execution_count": 124,
   "id": "f878a2a6",
   "metadata": {},
   "outputs": [],
   "source": [
    "def basic_op(operator, value1, value2):\n",
    "    if operator=='+':\n",
    "        return value1+value2\n",
    "    if operator=='-':\n",
    "        return value1-value2\n",
    "    if operator=='/':\n",
    "        return value1/value2\n",
    "    if operator=='*':\n",
    "        return value1*value2"
   ]
  },
  {
   "cell_type": "code",
   "execution_count": 125,
   "id": "d6ecc462",
   "metadata": {},
   "outputs": [],
   "source": [
    "def basic_op(operator, value1, value2):\n",
    "    return eval(\"{}{}{}\".format(value1, operator, value2))"
   ]
  },
  {
   "cell_type": "markdown",
   "id": "8e2f06b9",
   "metadata": {},
   "source": [
    "## 11. Find the smallest integer in the array\n",
    "### Given an array of integers your solution should find the smallest integer.\n",
    "For example:\n",
    "\n",
    "Given [34, 15, 88, 2] your solution will return 2\n",
    "Given [34, -345, -1, 100] your solution will return -345\n",
    "You can assume, for the purpose of this kata, that the supplied array will not be empty."
   ]
  },
  {
   "cell_type": "code",
   "execution_count": 128,
   "id": "b38b4e38",
   "metadata": {},
   "outputs": [],
   "source": [
    "def find_smallest_int(arr):\n",
    "    return min(arr)"
   ]
  },
  {
   "cell_type": "code",
   "execution_count": 129,
   "id": "20c45556",
   "metadata": {},
   "outputs": [
    {
     "data": {
      "text/plain": [
       "11"
      ]
     },
     "execution_count": 129,
     "metadata": {},
     "output_type": "execute_result"
    }
   ],
   "source": [
    "find_smallest_int([78, 56, 232, 12, 11, 43])"
   ]
  },
  {
   "cell_type": "code",
   "execution_count": 130,
   "id": "70cdcee2",
   "metadata": {},
   "outputs": [
    {
     "data": {
      "text/plain": [
       "-33"
      ]
     },
     "execution_count": 130,
     "metadata": {},
     "output_type": "execute_result"
    }
   ],
   "source": [
    "find_smallest_int([78, 56, -2, 12, 8, -33])"
   ]
  },
  {
   "cell_type": "code",
   "execution_count": 131,
   "id": "9b562d8a",
   "metadata": {},
   "outputs": [
    {
     "data": {
      "text/plain": [
       "-18446744073709551615"
      ]
     },
     "execution_count": 131,
     "metadata": {},
     "output_type": "execute_result"
    }
   ],
   "source": [
    "find_smallest_int([0, 1-2**64, 2**64])"
   ]
  },
  {
   "cell_type": "code",
   "execution_count": 132,
   "id": "c13eefb6",
   "metadata": {},
   "outputs": [],
   "source": [
    "def findSmallestInt(arr):\n",
    "    #sort array\n",
    "    arr.sort()\n",
    "    return arr[0]"
   ]
  },
  {
   "cell_type": "markdown",
   "id": "dac60a0d",
   "metadata": {},
   "source": [
    "## 12. Returning Strings\n",
    "### Make a function that will return a greeting statement that uses an input; your program should return, \"\n",
    "Hello, name- how are you doing today?\".\n",
    "."
   ]
  },
  {
   "cell_type": "code",
   "execution_count": 136,
   "id": "dfede5a8",
   "metadata": {},
   "outputs": [],
   "source": [
    "def greet(name):\n",
    "    return f'Hello, {name} how are you doing today?'"
   ]
  },
  {
   "cell_type": "code",
   "execution_count": 137,
   "id": "32f92c44",
   "metadata": {},
   "outputs": [
    {
     "data": {
      "text/plain": [
       "'Hello, Ryan how are you doing today?'"
      ]
     },
     "execution_count": 137,
     "metadata": {},
     "output_type": "execute_result"
    }
   ],
   "source": [
    "greet('Ryan')"
   ]
  },
  {
   "cell_type": "code",
   "execution_count": null,
   "id": "3ef8c2a1",
   "metadata": {},
   "outputs": [],
   "source": [
    "## 13. Returning Strings\n",
    "### Make a function that will return a greeting statement that uses an input; your program should return, \"\n",
    "Hello, -name- how are you doing today?\"."
   ]
  },
  {
   "cell_type": "markdown",
   "id": "27894308",
   "metadata": {},
   "source": [
    "## 13. Count of positives / sum of negatives\n",
    "### Given an array of integers.\n",
    "\n",
    "Return an array, where the first element is the count of positives numbers and the second element is sum of negative numbers. 0 is neither positive nor negative.\n",
    "\n",
    "If the input is an empty array or is null, return an empty array.\n",
    "Example\n",
    "For input [1, 2, 3, 4, 5, 6, 7, 8, 9, 10, -11, -12, -13, -14, -15], you should return [10, -65]."
   ]
  },
  {
   "cell_type": "code",
   "execution_count": 267,
   "id": "4c4bebdb",
   "metadata": {},
   "outputs": [],
   "source": [
    "def count_positives_sum_negatives(arr):\n",
    "    negatives=[]\n",
    "    positives=[]\n",
    "    if len(arr)>0:\n",
    "        for i in arr:\n",
    "            if i<0:\n",
    "                negatives.append(i)\n",
    "            elif i>0:\n",
    "                positives.append(i)\n",
    "        return [len(positives),sum(negatives)]\n",
    "    else:\n",
    "        return []\n",
    "\n"
   ]
  },
  {
   "cell_type": "code",
   "execution_count": 252,
   "id": "fb9ab5ec",
   "metadata": {},
   "outputs": [
    {
     "data": {
      "text/plain": [
       "[10, -65]"
      ]
     },
     "execution_count": 252,
     "metadata": {},
     "output_type": "execute_result"
    }
   ],
   "source": [
    "count_positives_sum_negatives([1, 2, 3, 4, 5, 6, 7, 8, 9, 10, -11, -12, -13, -14, -15])"
   ]
  },
  {
   "cell_type": "code",
   "execution_count": 253,
   "id": "a4cb32dc",
   "metadata": {},
   "outputs": [
    {
     "data": {
      "text/plain": [
       "[8, -50]"
      ]
     },
     "execution_count": 253,
     "metadata": {},
     "output_type": "execute_result"
    }
   ],
   "source": [
    "count_positives_sum_negatives([0, 2, 3, 0, 5, 6, 7, 8, 9, 10, -11, -12, -13, -14])"
   ]
  },
  {
   "cell_type": "code",
   "execution_count": 268,
   "id": "87e297a4",
   "metadata": {},
   "outputs": [
    {
     "data": {
      "text/plain": [
       "[]"
      ]
     },
     "execution_count": 268,
     "metadata": {},
     "output_type": "execute_result"
    }
   ],
   "source": [
    "count_positives_sum_negatives([])"
   ]
  },
  {
   "cell_type": "code",
   "execution_count": 263,
   "id": "6236d073",
   "metadata": {},
   "outputs": [],
   "source": [
    "def count_positives_sum_negatives(arr):\n",
    "    negatives=[]\n",
    "    positives=[]\n",
    "    return len([i for i in arr if i>0])  , sum([i for i in arr if i<0]) if len(arr)!=0 else []"
   ]
  },
  {
   "cell_type": "code",
   "execution_count": 269,
   "id": "144f7640",
   "metadata": {},
   "outputs": [
    {
     "data": {
      "text/plain": [
       "[]"
      ]
     },
     "execution_count": 269,
     "metadata": {},
     "output_type": "execute_result"
    }
   ],
   "source": [
    "count_positives_sum_negatives([])"
   ]
  },
  {
   "cell_type": "code",
   "execution_count": 264,
   "id": "ae1039b9",
   "metadata": {},
   "outputs": [
    {
     "data": {
      "text/plain": [
       "[10, -65]"
      ]
     },
     "execution_count": 264,
     "metadata": {},
     "output_type": "execute_result"
    }
   ],
   "source": [
    "count_positives_sum_negatives([1, 2, 3, 4, 5, 6, 7, 8, 9, 10, -11, -12, -13, -14, -15])"
   ]
  },
  {
   "cell_type": "code",
   "execution_count": 248,
   "id": "d22a912c",
   "metadata": {},
   "outputs": [],
   "source": [
    "def count_positives_sum_negatives(arr):\n",
    "    return [len([i for i in arr if i > 0]), sum([i for i in arr if i < 0])] if len(arr) != 0 else []"
   ]
  },
  {
   "cell_type": "code",
   "execution_count": 249,
   "id": "96bbc8b5",
   "metadata": {},
   "outputs": [
    {
     "data": {
      "text/plain": [
       "[]"
      ]
     },
     "execution_count": 249,
     "metadata": {},
     "output_type": "execute_result"
    }
   ],
   "source": [
    "count_positives_sum_negatives([])"
   ]
  },
  {
   "cell_type": "code",
   "execution_count": 265,
   "id": "a4a980bc",
   "metadata": {},
   "outputs": [
    {
     "data": {
      "text/plain": [
       "[8, -50]"
      ]
     },
     "execution_count": 265,
     "metadata": {},
     "output_type": "execute_result"
    }
   ],
   "source": [
    "count_positives_sum_negatives([0, 2, 3, 0, 5, 6, 7, 8, 9, 10, -11, -12, -13, -14])"
   ]
  },
  {
   "cell_type": "markdown",
   "id": "1428d32a",
   "metadata": {},
   "source": [
    "## 14. Reversed sequence\n",
    "### Build a function that returns an array of integers from n to 1 where n>0.\n",
    "Example : n=5 --> [5,4,3,2,1]"
   ]
  },
  {
   "cell_type": "code",
   "execution_count": 305,
   "id": "c601d5cd",
   "metadata": {},
   "outputs": [],
   "source": [
    "def reverse_seq(n):\n",
    "    x=[i for i in range(1,n+1)]\n",
    "    x.reverse()\n",
    "    return x"
   ]
  },
  {
   "cell_type": "code",
   "execution_count": 306,
   "id": "4da0e6db",
   "metadata": {},
   "outputs": [
    {
     "data": {
      "text/plain": [
       "[5, 4, 3, 2, 1]"
      ]
     },
     "execution_count": 306,
     "metadata": {},
     "output_type": "execute_result"
    }
   ],
   "source": [
    "reverse_seq(5)"
   ]
  },
  {
   "cell_type": "code",
   "execution_count": 323,
   "id": "189efe0a",
   "metadata": {},
   "outputs": [],
   "source": [
    "def reverse_seq(n):\n",
    "    x=list(range(1,n+1))\n",
    "    x.reverse()\n",
    "    return x"
   ]
  },
  {
   "cell_type": "code",
   "execution_count": 324,
   "id": "9037fe15",
   "metadata": {},
   "outputs": [
    {
     "data": {
      "text/plain": [
       "[5, 4, 3, 2, 1]"
      ]
     },
     "execution_count": 324,
     "metadata": {},
     "output_type": "execute_result"
    }
   ],
   "source": [
    "reverse_seq(5)"
   ]
  },
  {
   "cell_type": "code",
   "execution_count": 317,
   "id": "9b366eee",
   "metadata": {},
   "outputs": [],
   "source": [
    "def reverse_seq(n):\n",
    "    return list(range(n,0,-1))"
   ]
  },
  {
   "cell_type": "code",
   "execution_count": 318,
   "id": "819eb6d0",
   "metadata": {},
   "outputs": [
    {
     "data": {
      "text/plain": [
       "[5, 4, 3, 2, 1]"
      ]
     },
     "execution_count": 318,
     "metadata": {},
     "output_type": "execute_result"
    }
   ],
   "source": [
    "reverse_seq(5)"
   ]
  },
  {
   "cell_type": "markdown",
   "id": "7430a74c",
   "metadata": {},
   "source": [
    "## 15. If you can't sleep, just count sheep!!\n",
    "### Task:\n",
    "Given a non-negative integer, 3 for example, return a string with a murmur: \"1 sheep...2 sheep...3 sheep...\". Input will always be valid, i.e. no negative integers."
   ]
  },
  {
   "cell_type": "code",
   "execution_count": 375,
   "id": "db993e70",
   "metadata": {},
   "outputs": [],
   "source": [
    "def count_sheep(n):\n",
    "    sheep=''\n",
    "    for i in range(1,n+1):\n",
    "        sheep=sheep+(f'{i} sheep...')\n",
    "    return sheep"
   ]
  },
  {
   "cell_type": "code",
   "execution_count": 376,
   "id": "e2c1a4f0",
   "metadata": {},
   "outputs": [
    {
     "data": {
      "text/plain": [
       "'1 sheep...2 sheep...3 sheep...'"
      ]
     },
     "execution_count": 376,
     "metadata": {},
     "output_type": "execute_result"
    }
   ],
   "source": [
    "count_sheep(3)\n"
   ]
  },
  {
   "cell_type": "code",
   "execution_count": 377,
   "id": "6723e361",
   "metadata": {},
   "outputs": [
    {
     "data": {
      "text/plain": [
       "'1 sheep...'"
      ]
     },
     "execution_count": 377,
     "metadata": {},
     "output_type": "execute_result"
    }
   ],
   "source": [
    "count_sheep(1)"
   ]
  },
  {
   "cell_type": "code",
   "execution_count": 378,
   "id": "577b6a97",
   "metadata": {},
   "outputs": [
    {
     "data": {
      "text/plain": [
       "''"
      ]
     },
     "execution_count": 378,
     "metadata": {},
     "output_type": "execute_result"
    }
   ],
   "source": [
    "count_sheep(0)"
   ]
  },
  {
   "cell_type": "code",
   "execution_count": 385,
   "id": "18a04692",
   "metadata": {},
   "outputs": [],
   "source": [
    "def count_sheep(n):\n",
    "    return ''.join(f'{i} sheep...' for i in range(1,n+1))"
   ]
  },
  {
   "cell_type": "code",
   "execution_count": 386,
   "id": "9b5b87b8",
   "metadata": {},
   "outputs": [
    {
     "data": {
      "text/plain": [
       "'1 sheep...2 sheep...3 sheep...'"
      ]
     },
     "execution_count": 386,
     "metadata": {},
     "output_type": "execute_result"
    }
   ],
   "source": [
    "count_sheep(3)\n"
   ]
  },
  {
   "cell_type": "markdown",
   "id": "da50f896",
   "metadata": {},
   "source": [
    "## 16. Square Every Digit\n",
    "### Welcome. In this kata, you are asked to square every digit of a number and concatenate them.\n",
    "\n",
    "For example, if we run 9119 through the function, 811181 will come out, because 92 is 81 and 12 is 1. (81-1-1-81)\n",
    "\n",
    "Example #2: An input of 765 will/should return 493625 because 72 is 49, 62 is 36, and 52 is 25. (49-36-25)\n",
    "\n",
    "Note: The function accepts an integer and returns an integer.\n",
    "\n",
    "Happy Coding!"
   ]
  },
  {
   "cell_type": "code",
   "execution_count": 388,
   "id": "a6659fd5",
   "metadata": {},
   "outputs": [],
   "source": [
    "def square_digits(num):\n",
    "    return [i**2 for i in num]"
   ]
  },
  {
   "cell_type": "code",
   "execution_count": 389,
   "id": "7ffb685b",
   "metadata": {},
   "outputs": [
    {
     "ename": "TypeError",
     "evalue": "'int' object is not iterable",
     "output_type": "error",
     "traceback": [
      "\u001b[1;31m---------------------------------------------------------------------------\u001b[0m",
      "\u001b[1;31mTypeError\u001b[0m                                 Traceback (most recent call last)",
      "Cell \u001b[1;32mIn[389], line 1\u001b[0m\n\u001b[1;32m----> 1\u001b[0m square_digits(\u001b[38;5;241m765\u001b[39m)\n",
      "Cell \u001b[1;32mIn[388], line 2\u001b[0m, in \u001b[0;36msquare_digits\u001b[1;34m(num)\u001b[0m\n\u001b[0;32m      1\u001b[0m \u001b[38;5;28;01mdef\u001b[39;00m \u001b[38;5;21msquare_digits\u001b[39m(num):\n\u001b[1;32m----> 2\u001b[0m     \u001b[38;5;28;01mreturn\u001b[39;00m [i\u001b[38;5;241m*\u001b[39m\u001b[38;5;241m*\u001b[39m\u001b[38;5;241m2\u001b[39m \u001b[38;5;28;01mfor\u001b[39;00m i \u001b[38;5;129;01min\u001b[39;00m num]\n",
      "\u001b[1;31mTypeError\u001b[0m: 'int' object is not iterable"
     ]
    }
   ],
   "source": [
    "square_digits(765)"
   ]
  },
  {
   "cell_type": "code",
   "execution_count": 446,
   "id": "3e0dece2",
   "metadata": {},
   "outputs": [],
   "source": [
    "#didnt work in kata coz it required a return function\n",
    "def square_digits(num):\n",
    "    num=list(str(num))\n",
    "    for i in num:\n",
    "        print((int(i)**2),end='')\n",
    "    #return squared\n",
    "    \n",
    "   "
   ]
  },
  {
   "cell_type": "code",
   "execution_count": 447,
   "id": "9ed3cb9d",
   "metadata": {},
   "outputs": [
    {
     "name": "stdout",
     "output_type": "stream",
     "text": [
      "493625"
     ]
    }
   ],
   "source": [
    "square_digits(765)"
   ]
  },
  {
   "cell_type": "code",
   "execution_count": 445,
   "id": "04c85673",
   "metadata": {},
   "outputs": [
    {
     "data": {
      "text/plain": [
       "'0'"
      ]
     },
     "execution_count": 445,
     "metadata": {},
     "output_type": "execute_result"
    }
   ],
   "source": [
    "square_digits(0)"
   ]
  },
  {
   "cell_type": "code",
   "execution_count": 448,
   "id": "dec63b3f",
   "metadata": {},
   "outputs": [],
   "source": [
    "def square_digits(num):\n",
    "    result=''\n",
    "    for i in str(num):\n",
    "        result+=str(int(i)**2)\n",
    "    return result\n",
    "   "
   ]
  },
  {
   "cell_type": "code",
   "execution_count": null,
   "id": "4cc23db7",
   "metadata": {},
   "outputs": [],
   "source": []
  }
 ],
 "metadata": {
  "kernelspec": {
   "display_name": "Python 3 (ipykernel)",
   "language": "python",
   "name": "python3"
  },
  "language_info": {
   "codemirror_mode": {
    "name": "ipython",
    "version": 3
   },
   "file_extension": ".py",
   "mimetype": "text/x-python",
   "name": "python",
   "nbconvert_exporter": "python",
   "pygments_lexer": "ipython3",
   "version": "3.11.7"
  }
 },
 "nbformat": 4,
 "nbformat_minor": 5
}
