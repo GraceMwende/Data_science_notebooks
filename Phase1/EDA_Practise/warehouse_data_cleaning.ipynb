{
 "cells": [
  {
   "cell_type": "markdown",
   "metadata": {},
   "source": [
    "### How to Clean a messy warehouse data "
   ]
  },
  {
   "cell_type": "markdown",
   "metadata": {},
   "source": [
    "### 1 a)import Libraries    "
   ]
  },
  {
   "cell_type": "code",
   "execution_count": 723,
   "metadata": {},
   "outputs": [],
   "source": [
    "#import the pandas library\n",
    "import pandas as pd\n",
    "#import seaborn as sns\n",
    "import seaborn as sns\n",
    "#import matplotlib library\n",
    "import matplotlib.pyplot as plt\n",
    "#import numpy library\n",
    "import numpy as np"
   ]
  },
  {
   "cell_type": "markdown",
   "metadata": {},
   "source": [
    "### b)Reading dataset from our csv file"
   ]
  },
  {
   "cell_type": "code",
   "execution_count": 724,
   "metadata": {},
   "outputs": [
    {
     "data": {
      "text/html": [
       "<div>\n",
       "<style scoped>\n",
       "    .dataframe tbody tr th:only-of-type {\n",
       "        vertical-align: middle;\n",
       "    }\n",
       "\n",
       "    .dataframe tbody tr th {\n",
       "        vertical-align: top;\n",
       "    }\n",
       "\n",
       "    .dataframe thead th {\n",
       "        text-align: right;\n",
       "    }\n",
       "</style>\n",
       "<table border=\"1\" class=\"dataframe\">\n",
       "  <thead>\n",
       "    <tr style=\"text-align: right;\">\n",
       "      <th></th>\n",
       "      <th>Product ID</th>\n",
       "      <th>Product Name</th>\n",
       "      <th>Category</th>\n",
       "      <th>Warehouse</th>\n",
       "      <th>Location</th>\n",
       "      <th>Quantity</th>\n",
       "      <th>Price</th>\n",
       "      <th>Supplier</th>\n",
       "      <th>Status</th>\n",
       "      <th>Last Restocked</th>\n",
       "    </tr>\n",
       "  </thead>\n",
       "  <tbody>\n",
       "    <tr>\n",
       "      <th>0</th>\n",
       "      <td>1102</td>\n",
       "      <td>gadget y</td>\n",
       "      <td>ELECTRONICS</td>\n",
       "      <td>Warehouse 2</td>\n",
       "      <td>Aisle 1</td>\n",
       "      <td>300</td>\n",
       "      <td>9.99</td>\n",
       "      <td>Supplier C</td>\n",
       "      <td>In Stock</td>\n",
       "      <td>NaN</td>\n",
       "    </tr>\n",
       "    <tr>\n",
       "      <th>1</th>\n",
       "      <td>1435</td>\n",
       "      <td>gadget y</td>\n",
       "      <td>ELECTRONICS</td>\n",
       "      <td>Warehouse 2</td>\n",
       "      <td>Aisle 4</td>\n",
       "      <td>two hundred</td>\n",
       "      <td>19.99</td>\n",
       "      <td>Supplier C</td>\n",
       "      <td>Out of Stock</td>\n",
       "      <td>NaN</td>\n",
       "    </tr>\n",
       "    <tr>\n",
       "      <th>2</th>\n",
       "      <td>1860</td>\n",
       "      <td>widget a</td>\n",
       "      <td>CLOTHING</td>\n",
       "      <td>Warehouse 2</td>\n",
       "      <td>Aisle 3</td>\n",
       "      <td>100</td>\n",
       "      <td>19.99</td>\n",
       "      <td>Supplier B</td>\n",
       "      <td>In Stock</td>\n",
       "      <td>20/12/2022</td>\n",
       "    </tr>\n",
       "    <tr>\n",
       "      <th>3</th>\n",
       "      <td>1270</td>\n",
       "      <td>gadget z</td>\n",
       "      <td>TOYS</td>\n",
       "      <td>Warehouse 2</td>\n",
       "      <td>Aisle 4</td>\n",
       "      <td>50</td>\n",
       "      <td>49.99</td>\n",
       "      <td>Supplier B</td>\n",
       "      <td>In Stock</td>\n",
       "      <td>20/12/2022</td>\n",
       "    </tr>\n",
       "    <tr>\n",
       "      <th>4</th>\n",
       "      <td>1106</td>\n",
       "      <td>widget a</td>\n",
       "      <td>FURNITURE</td>\n",
       "      <td>Warehouse 3</td>\n",
       "      <td>Aisle 3</td>\n",
       "      <td>two hundred</td>\n",
       "      <td>9.99</td>\n",
       "      <td>Supplier D</td>\n",
       "      <td>Out of Stock</td>\n",
       "      <td>25/04/2023</td>\n",
       "    </tr>\n",
       "    <tr>\n",
       "      <th>...</th>\n",
       "      <td>...</td>\n",
       "      <td>...</td>\n",
       "      <td>...</td>\n",
       "      <td>...</td>\n",
       "      <td>...</td>\n",
       "      <td>...</td>\n",
       "      <td>...</td>\n",
       "      <td>...</td>\n",
       "      <td>...</td>\n",
       "      <td>...</td>\n",
       "    </tr>\n",
       "    <tr>\n",
       "      <th>995</th>\n",
       "      <td>1009</td>\n",
       "      <td>widget b</td>\n",
       "      <td>FURNITURE</td>\n",
       "      <td>Warehouse 2</td>\n",
       "      <td>Aisle 2</td>\n",
       "      <td>100</td>\n",
       "      <td>NaN</td>\n",
       "      <td>Supplier C</td>\n",
       "      <td>In Stock</td>\n",
       "      <td>15/01/2023</td>\n",
       "    </tr>\n",
       "    <tr>\n",
       "      <th>996</th>\n",
       "      <td>1823</td>\n",
       "      <td>gadget y</td>\n",
       "      <td>ELECTRONICS</td>\n",
       "      <td>Warehouse 2</td>\n",
       "      <td>Aisle 3</td>\n",
       "      <td>300</td>\n",
       "      <td>19.99</td>\n",
       "      <td>Supplier B</td>\n",
       "      <td>In Stock</td>\n",
       "      <td>20/12/2022</td>\n",
       "    </tr>\n",
       "    <tr>\n",
       "      <th>997</th>\n",
       "      <td>1797</td>\n",
       "      <td>gadget z</td>\n",
       "      <td>TOYS</td>\n",
       "      <td>Warehouse 3</td>\n",
       "      <td>Aisle 5</td>\n",
       "      <td>150</td>\n",
       "      <td>9.99</td>\n",
       "      <td>Supplier C</td>\n",
       "      <td>Low Stock</td>\n",
       "      <td>05/03/2023</td>\n",
       "    </tr>\n",
       "    <tr>\n",
       "      <th>998</th>\n",
       "      <td>1241</td>\n",
       "      <td>widget c</td>\n",
       "      <td>FURNITURE</td>\n",
       "      <td>Warehouse 2</td>\n",
       "      <td>Aisle 2</td>\n",
       "      <td>100</td>\n",
       "      <td>49.99</td>\n",
       "      <td>Supplier C</td>\n",
       "      <td>Low Stock</td>\n",
       "      <td>20/12/2022</td>\n",
       "    </tr>\n",
       "    <tr>\n",
       "      <th>999</th>\n",
       "      <td>1250</td>\n",
       "      <td>widget a</td>\n",
       "      <td>CLOTHING</td>\n",
       "      <td>Warehouse 1</td>\n",
       "      <td>Aisle 3</td>\n",
       "      <td>100</td>\n",
       "      <td>49.99</td>\n",
       "      <td>Supplier B</td>\n",
       "      <td>Out of Stock</td>\n",
       "      <td>20/12/2022</td>\n",
       "    </tr>\n",
       "  </tbody>\n",
       "</table>\n",
       "<p>1000 rows × 10 columns</p>\n",
       "</div>"
      ],
      "text/plain": [
       "     Product ID Product Name     Category    Warehouse Location     Quantity  \\\n",
       "0          1102    gadget y   ELECTRONICS  Warehouse 2  Aisle 1          300   \n",
       "1          1435    gadget y   ELECTRONICS  Warehouse 2  Aisle 4  two hundred   \n",
       "2          1860    widget a      CLOTHING  Warehouse 2  Aisle 3          100   \n",
       "3          1270    gadget z          TOYS  Warehouse 2  Aisle 4           50   \n",
       "4          1106    widget a     FURNITURE  Warehouse 3  Aisle 3  two hundred   \n",
       "..          ...          ...          ...          ...      ...          ...   \n",
       "995        1009    widget b     FURNITURE  Warehouse 2  Aisle 2          100   \n",
       "996        1823    gadget y   ELECTRONICS  Warehouse 2  Aisle 3          300   \n",
       "997        1797    gadget z          TOYS  Warehouse 3  Aisle 5          150   \n",
       "998        1241    widget c     FURNITURE  Warehouse 2  Aisle 2          100   \n",
       "999        1250    widget a      CLOTHING  Warehouse 1  Aisle 3          100   \n",
       "\n",
       "     Price    Supplier        Status Last Restocked  \n",
       "0     9.99  Supplier C      In Stock            NaN  \n",
       "1    19.99  Supplier C  Out of Stock            NaN  \n",
       "2    19.99  Supplier B      In Stock     20/12/2022  \n",
       "3    49.99  Supplier B      In Stock     20/12/2022  \n",
       "4     9.99  Supplier D  Out of Stock     25/04/2023  \n",
       "..     ...         ...           ...            ...  \n",
       "995    NaN  Supplier C      In Stock     15/01/2023  \n",
       "996  19.99  Supplier B      In Stock     20/12/2022  \n",
       "997   9.99  Supplier C     Low Stock     05/03/2023  \n",
       "998  49.99  Supplier C     Low Stock     20/12/2022  \n",
       "999  49.99  Supplier B  Out of Stock     20/12/2022  \n",
       "\n",
       "[1000 rows x 10 columns]"
      ]
     },
     "execution_count": 724,
     "metadata": {},
     "output_type": "execute_result"
    }
   ],
   "source": [
    "#Lets read the data from csv file and create a dataframe to be used\n",
    "df =  pd.read_csv('data/warehouse_messy_data.csv')\n",
    "#preview the first five and last five rows by calling the df\n",
    "df"
   ]
  },
  {
   "cell_type": "markdown",
   "metadata": {},
   "source": [
    "### c)Acessing information about our dataset"
   ]
  },
  {
   "cell_type": "code",
   "execution_count": 725,
   "metadata": {},
   "outputs": [
    {
     "name": "stdout",
     "output_type": "stream",
     "text": [
      "<class 'pandas.core.frame.DataFrame'>\n",
      "RangeIndex: 1000 entries, 0 to 999\n",
      "Data columns (total 10 columns):\n",
      " #   Column          Non-Null Count  Dtype  \n",
      "---  ------          --------------  -----  \n",
      " 0   Product ID      1000 non-null   int64  \n",
      " 1   Product Name    1000 non-null   object \n",
      " 2   Category        1000 non-null   object \n",
      " 3   Warehouse       1000 non-null   object \n",
      " 4   Location        1000 non-null   object \n",
      " 5   Quantity        842 non-null    object \n",
      " 6   Price           793 non-null    float64\n",
      " 7   Supplier        1000 non-null   object \n",
      " 8   Status          1000 non-null   object \n",
      " 9   Last Restocked  800 non-null    object \n",
      "dtypes: float64(1), int64(1), object(8)\n",
      "memory usage: 78.2+ KB\n"
     ]
    }
   ],
   "source": [
    "#getting to know about our dataset by accessing its information\n",
    "df.info()"
   ]
  },
  {
   "cell_type": "markdown",
   "metadata": {},
   "source": [
    "### d)Accessing summary statistics about our data"
   ]
  },
  {
   "cell_type": "code",
   "execution_count": 726,
   "metadata": {},
   "outputs": [
    {
     "data": {
      "text/html": [
       "<div>\n",
       "<style scoped>\n",
       "    .dataframe tbody tr th:only-of-type {\n",
       "        vertical-align: middle;\n",
       "    }\n",
       "\n",
       "    .dataframe tbody tr th {\n",
       "        vertical-align: top;\n",
       "    }\n",
       "\n",
       "    .dataframe thead th {\n",
       "        text-align: right;\n",
       "    }\n",
       "</style>\n",
       "<table border=\"1\" class=\"dataframe\">\n",
       "  <thead>\n",
       "    <tr style=\"text-align: right;\">\n",
       "      <th></th>\n",
       "      <th>count</th>\n",
       "      <th>mean</th>\n",
       "      <th>std</th>\n",
       "      <th>min</th>\n",
       "      <th>25%</th>\n",
       "      <th>50%</th>\n",
       "      <th>75%</th>\n",
       "      <th>max</th>\n",
       "    </tr>\n",
       "  </thead>\n",
       "  <tbody>\n",
       "    <tr>\n",
       "      <th>Product ID</th>\n",
       "      <td>1000.0</td>\n",
       "      <td>1503.929000</td>\n",
       "      <td>289.998108</td>\n",
       "      <td>1000.00</td>\n",
       "      <td>1242.75</td>\n",
       "      <td>1505.00</td>\n",
       "      <td>1757.25</td>\n",
       "      <td>1998.00</td>\n",
       "    </tr>\n",
       "    <tr>\n",
       "      <th>Price</th>\n",
       "      <td>793.0</td>\n",
       "      <td>28.085839</td>\n",
       "      <td>14.686312</td>\n",
       "      <td>9.99</td>\n",
       "      <td>19.99</td>\n",
       "      <td>29.99</td>\n",
       "      <td>49.99</td>\n",
       "      <td>49.99</td>\n",
       "    </tr>\n",
       "  </tbody>\n",
       "</table>\n",
       "</div>"
      ],
      "text/plain": [
       "             count         mean         std      min      25%      50%  \\\n",
       "Product ID  1000.0  1503.929000  289.998108  1000.00  1242.75  1505.00   \n",
       "Price        793.0    28.085839   14.686312     9.99    19.99    29.99   \n",
       "\n",
       "                75%      max  \n",
       "Product ID  1757.25  1998.00  \n",
       "Price         49.99    49.99  "
      ]
     },
     "execution_count": 726,
     "metadata": {},
     "output_type": "execute_result"
    }
   ],
   "source": [
    "#statistics for int and float objects\n",
    "df.describe().T"
   ]
  },
  {
   "cell_type": "code",
   "execution_count": 727,
   "metadata": {},
   "outputs": [
    {
     "data": {
      "text/html": [
       "<div>\n",
       "<style scoped>\n",
       "    .dataframe tbody tr th:only-of-type {\n",
       "        vertical-align: middle;\n",
       "    }\n",
       "\n",
       "    .dataframe tbody tr th {\n",
       "        vertical-align: top;\n",
       "    }\n",
       "\n",
       "    .dataframe thead th {\n",
       "        text-align: right;\n",
       "    }\n",
       "</style>\n",
       "<table border=\"1\" class=\"dataframe\">\n",
       "  <thead>\n",
       "    <tr style=\"text-align: right;\">\n",
       "      <th></th>\n",
       "      <th>Product Name</th>\n",
       "      <th>Category</th>\n",
       "      <th>Warehouse</th>\n",
       "      <th>Location</th>\n",
       "      <th>Quantity</th>\n",
       "      <th>Supplier</th>\n",
       "      <th>Status</th>\n",
       "      <th>Last Restocked</th>\n",
       "    </tr>\n",
       "  </thead>\n",
       "  <tbody>\n",
       "    <tr>\n",
       "      <th>count</th>\n",
       "      <td>1000</td>\n",
       "      <td>1000</td>\n",
       "      <td>1000</td>\n",
       "      <td>1000</td>\n",
       "      <td>842</td>\n",
       "      <td>1000</td>\n",
       "      <td>1000</td>\n",
       "      <td>800</td>\n",
       "    </tr>\n",
       "    <tr>\n",
       "      <th>unique</th>\n",
       "      <td>6</td>\n",
       "      <td>4</td>\n",
       "      <td>3</td>\n",
       "      <td>5</td>\n",
       "      <td>5</td>\n",
       "      <td>4</td>\n",
       "      <td>3</td>\n",
       "      <td>4</td>\n",
       "    </tr>\n",
       "    <tr>\n",
       "      <th>top</th>\n",
       "      <td>gadget y</td>\n",
       "      <td>FURNITURE</td>\n",
       "      <td>Warehouse 1</td>\n",
       "      <td>Aisle 3</td>\n",
       "      <td>300</td>\n",
       "      <td>Supplier B</td>\n",
       "      <td>In Stock</td>\n",
       "      <td>20/12/2022</td>\n",
       "    </tr>\n",
       "    <tr>\n",
       "      <th>freq</th>\n",
       "      <td>177</td>\n",
       "      <td>265</td>\n",
       "      <td>349</td>\n",
       "      <td>211</td>\n",
       "      <td>177</td>\n",
       "      <td>288</td>\n",
       "      <td>340</td>\n",
       "      <td>218</td>\n",
       "    </tr>\n",
       "  </tbody>\n",
       "</table>\n",
       "</div>"
      ],
      "text/plain": [
       "       Product Name   Category    Warehouse Location Quantity    Supplier  \\\n",
       "count          1000       1000         1000     1000      842        1000   \n",
       "unique            6          4            3        5        5           4   \n",
       "top       gadget y   FURNITURE  Warehouse 1  Aisle 3      300  Supplier B   \n",
       "freq            177        265          349      211      177         288   \n",
       "\n",
       "          Status Last Restocked  \n",
       "count       1000            800  \n",
       "unique         3              4  \n",
       "top     In Stock     20/12/2022  \n",
       "freq         340            218  "
      ]
     },
     "execution_count": 727,
     "metadata": {},
     "output_type": "execute_result"
    }
   ],
   "source": [
    "#statistics  for string objects\n",
    "df.describe(include='O')"
   ]
  },
  {
   "cell_type": "markdown",
   "metadata": {},
   "source": [
    "### 2.Cleaning our dataset\n",
    "### a)Cleaning our column names"
   ]
  },
  {
   "cell_type": "code",
   "execution_count": 728,
   "metadata": {},
   "outputs": [
    {
     "data": {
      "text/plain": [
       "Index(['Product ID', 'Product Name', 'Category', 'Warehouse', 'Location',\n",
       "       'Quantity', 'Price', 'Supplier', 'Status', 'Last Restocked'],\n",
       "      dtype='object')"
      ]
     },
     "execution_count": 728,
     "metadata": {},
     "output_type": "execute_result"
    }
   ],
   "source": [
    "#check our columns\n",
    "df.columns"
   ]
  },
  {
   "cell_type": "code",
   "execution_count": 729,
   "metadata": {},
   "outputs": [
    {
     "data": {
      "text/plain": [
       "Index(['Product_ID', 'Product_Name', 'Category', 'Warehouse', 'Location',\n",
       "       'Quantity', 'Price', 'Supplier', 'Status', 'Last_Restocked'],\n",
       "      dtype='object')"
      ]
     },
     "execution_count": 729,
     "metadata": {},
     "output_type": "execute_result"
    }
   ],
   "source": [
    "df.columns = df.columns.str.replace(' ','_')\n",
    "df.columns"
   ]
  },
  {
   "cell_type": "markdown",
   "metadata": {},
   "source": [
    "### b)Check for missing values and how to handle them"
   ]
  },
  {
   "cell_type": "code",
   "execution_count": 730,
   "metadata": {},
   "outputs": [
    {
     "data": {
      "text/plain": [
       "Index(['Quantity', 'Price', 'Last_Restocked'], dtype='object')"
      ]
     },
     "execution_count": 730,
     "metadata": {},
     "output_type": "execute_result"
    }
   ],
   "source": [
    "df.columns[df.isna().any()] # see columns with missing values"
   ]
  },
  {
   "cell_type": "code",
   "execution_count": 731,
   "metadata": {},
   "outputs": [
    {
     "data": {
      "text/plain": [
       "Product_ID          0\n",
       "Product_Name        0\n",
       "Category            0\n",
       "Warehouse           0\n",
       "Location            0\n",
       "Quantity          158\n",
       "Price             207\n",
       "Supplier            0\n",
       "Status              0\n",
       "Last_Restocked    200\n",
       "dtype: int64"
      ]
     },
     "execution_count": 731,
     "metadata": {},
     "output_type": "execute_result"
    }
   ],
   "source": [
    "#lets check by how many\n",
    "df.isna().sum()"
   ]
  },
  {
   "cell_type": "code",
   "execution_count": 732,
   "metadata": {},
   "outputs": [
    {
     "data": {
      "text/plain": [
       "300            177\n",
       "150            175\n",
       "50             169\n",
       "100            161\n",
       "two hundred    160\n",
       "NaN            158\n",
       "Name: Quantity, dtype: int64"
      ]
     },
     "execution_count": 732,
     "metadata": {},
     "output_type": "execute_result"
    }
   ],
   "source": [
    "#1. Quantity column\n",
    "df['Quantity'].value_counts(dropna=False)"
   ]
  },
  {
   "cell_type": "code",
   "execution_count": 733,
   "metadata": {},
   "outputs": [
    {
     "data": {
      "text/plain": [
       "300.0    177\n",
       "150.0    175\n",
       "50.0     169\n",
       "100.0    161\n",
       "200.0    160\n",
       "NaN      158\n",
       "Name: Quantity, dtype: int64"
      ]
     },
     "execution_count": 733,
     "metadata": {},
     "output_type": "execute_result"
    }
   ],
   "source": [
    "''' \n",
    "Data entry issues where 200 is written as two hundred\n",
    "Need to convert the column to int\n",
    "'''\n",
    "#replace two hundred with 200\n",
    "df['Quantity'] = df['Quantity'].str.replace('two hundred','200')\n",
    "#conver column to float\n",
    "df['Quantity'] = df['Quantity'].astype(float)\n",
    "#check value counts again\n",
    "df['Quantity'].value_counts(dropna=False)"
   ]
  },
  {
   "cell_type": "code",
   "execution_count": 734,
   "metadata": {},
   "outputs": [
    {
     "data": {
      "text/plain": [
       "0.3787833111883261"
      ]
     },
     "execution_count": 734,
     "metadata": {},
     "output_type": "execute_result"
    },
    {
     "data": {
      "image/png": "[encoded data removed]",
      "text/plain": [
       "<Figure size 432x288 with 1 Axes>"
      ]
     },
     "metadata": {
      "needs_background": "light"
     },
     "output_type": "display_data"
    }
   ],
   "source": [
    "#check for skewness using histogram\n",
    "df['Quantity'].plot(kind='hist')\n",
    "df['Quantity'].skew() # has positive skew, replace with median"
   ]
  },
  {
   "cell_type": "code",
   "execution_count": 735,
   "metadata": {},
   "outputs": [
    {
     "data": {
      "text/plain": [
       "0"
      ]
     },
     "execution_count": 735,
     "metadata": {},
     "output_type": "execute_result"
    }
   ],
   "source": [
    "quantity_median = df['Quantity'].median()\n",
    "df['Quantity'].fillna(quantity_median,inplace=True)\n",
    "#check missing values again\n",
    "df['Quantity'].isna().sum() # has zero missing so we good"
   ]
  },
  {
   "cell_type": "code",
   "execution_count": 736,
   "metadata": {},
   "outputs": [
    {
     "data": {
      "text/plain": [
       "0.3869429855327663"
      ]
     },
     "execution_count": 736,
     "metadata": {},
     "output_type": "execute_result"
    },
    {
     "data": {
      "image/png": "[encoded data removed]",
      "text/plain": [
       "<Figure size 432x288 with 1 Axes>"
      ]
     },
     "metadata": {
      "needs_background": "light"
     },
     "output_type": "display_data"
    }
   ],
   "source": [
    "#2. Price column\n",
    "df['Price'].value_counts(dropna=False,normalize=True)\n",
    "#check hist\n",
    "df['Price'].plot(kind='hist')\n",
    "df['Price'].skew()"
   ]
  },
  {
   "cell_type": "code",
   "execution_count": 737,
   "metadata": {},
   "outputs": [
    {
     "data": {
      "text/plain": [
       "0"
      ]
     },
     "execution_count": 737,
     "metadata": {},
     "output_type": "execute_result"
    }
   ],
   "source": [
    "#replace NaN with median\n",
    "#check median\n",
    "price_median = df['Price'].median()\n",
    "#replace with median\n",
    "df['Price'].fillna(price_median, inplace=True)\n",
    "#check if all NaN values are filled\n",
    "df['Price'].isna().sum()"
   ]
  },
  {
   "cell_type": "code",
   "execution_count": 738,
   "metadata": {},
   "outputs": [
    {
     "data": {
      "text/plain": [
       "20/12/2022    218\n",
       "NaN           200\n",
       "15/01/2023    199\n",
       "25/04/2023    192\n",
       "05/03/2023    191\n",
       "Name: Last_Restocked, dtype: int64"
      ]
     },
     "execution_count": 738,
     "metadata": {},
     "output_type": "execute_result"
    }
   ],
   "source": [
    "#2. Last_Restocked column\n",
    "df['Last_Restocked'].value_counts(dropna=False) "
   ]
  },
  {
   "cell_type": "code",
   "execution_count": 739,
   "metadata": {},
   "outputs": [
    {
     "name": "stderr",
     "output_type": "stream",
     "text": [
      "c:\\Users\\Gmwende\\anaconda3\\envs\\learn-env\\lib\\site-packages\\pandas\\core\\tools\\datetimes.py:1047: UserWarning: Parsing '20/12/2022' in DD/MM/YYYY format. Provide format or specify infer_datetime_format=True for consistent parsing.\n",
      "  cache_array = _maybe_cache(arg, format, cache, convert_listlike)\n",
      "c:\\Users\\Gmwende\\anaconda3\\envs\\learn-env\\lib\\site-packages\\pandas\\core\\tools\\datetimes.py:1047: UserWarning: Parsing '25/04/2023' in DD/MM/YYYY format. Provide format or specify infer_datetime_format=True for consistent parsing.\n",
      "  cache_array = _maybe_cache(arg, format, cache, convert_listlike)\n",
      "c:\\Users\\Gmwende\\anaconda3\\envs\\learn-env\\lib\\site-packages\\pandas\\core\\tools\\datetimes.py:1047: UserWarning: Parsing '15/01/2023' in DD/MM/YYYY format. Provide format or specify infer_datetime_format=True for consistent parsing.\n",
      "  cache_array = _maybe_cache(arg, format, cache, convert_listlike)\n"
     ]
    },
    {
     "data": {
      "text/plain": [
       "0"
      ]
     },
     "execution_count": 739,
     "metadata": {},
     "output_type": "execute_result"
    }
   ],
   "source": [
    "#df.dropna(subset='Last_Restocked',inplace=True) #we cant fill dates so we can drop these rows#tutorial replaced with todays date\n",
    "#check if dropped\n",
    "#convert to date\n",
    "df['Last_Restocked'] = pd.to_datetime(df['Last_Restocked'],errors='coerce')\n",
    "df['Last_Restocked'].fillna(pd.to_datetime('today'), inplace=True)\n",
    "df['Last_Restocked'].value_counts(dropna=False) \n",
    "df['Last_Restocked'].isna().sum()"
   ]
  },
  {
   "cell_type": "code",
   "execution_count": 740,
   "metadata": {},
   "outputs": [],
   "source": [
    "#tutorials code for handling missing values\n",
    "# Fill NaN values with a default value or strategy, here we use mean for numeric columns \n",
    "df['Quantity'].fillna(df['Quantity'].mean(), inplace=True) \n",
    "df['Price'].fillna(df['Price'].mean(), inplace=True) \n",
    "\n",
    "# Fill NaN values for categorical columns with a placeholder or most frequent value \n",
    "df['Product_Name'].fillna('Unknown Product', inplace=True) \n",
    "df['Category'].fillna('Unknown Category', inplace=True) \n",
    "df['Warehouse'].fillna(df['Warehouse'].mode()[0], inplace=True) \n",
    "df['Location'].fillna('Unknown Location', inplace=True) \n",
    "df['Supplier'].fillna(df['Supplier'].mode()[0], inplace=True) \n",
    "df['Status'].fillna(df['Status'].mode()[0], inplace=True) \n",
    "#df['Last_Restocked'].fillna(pd.to_datetime('today'), inplace=True)"
   ]
  },
  {
   "cell_type": "markdown",
   "metadata": {},
   "source": [
    "### c)Check our categorical variables"
   ]
  },
  {
   "cell_type": "code",
   "execution_count": 741,
   "metadata": {},
   "outputs": [
    {
     "data": {
      "text/plain": [
       "array([' gadget y ', ' widget a ', ' gadget z ', ' widget b ',\n",
       "       ' widget c ', ' gadget x '], dtype=object)"
      ]
     },
     "execution_count": 741,
     "metadata": {},
     "output_type": "execute_result"
    }
   ],
   "source": [
    "df['Product_Name'].unique() #strip spaces"
   ]
  },
  {
   "cell_type": "code",
   "execution_count": 742,
   "metadata": {},
   "outputs": [],
   "source": [
    "# we can strip trailing and leading spaces for all string columns -spaces cause mismatch in analyses\n",
    "for col in df.select_dtypes(include='O').columns:# df.select_dtypes('O')\n",
    "    df[col]= df[col].str.strip()"
   ]
  },
  {
   "cell_type": "code",
   "execution_count": 743,
   "metadata": {},
   "outputs": [
    {
     "data": {
      "text/plain": [
       "array(['gadget y', 'widget a', 'gadget z', 'widget b', 'widget c',\n",
       "       'gadget x'], dtype=object)"
      ]
     },
     "execution_count": 743,
     "metadata": {},
     "output_type": "execute_result"
    }
   ],
   "source": [
    "#df['Product_Name'] = df['Product_Name'].str.strip()\n",
    "df['Product_Name'].str.strip().unique()"
   ]
  },
  {
   "cell_type": "code",
   "execution_count": 744,
   "metadata": {},
   "outputs": [
    {
     "data": {
      "text/plain": [
       "array(['ELECTRONICS', 'CLOTHING', 'TOYS', 'FURNITURE'], dtype=object)"
      ]
     },
     "execution_count": 744,
     "metadata": {},
     "output_type": "execute_result"
    }
   ],
   "source": [
    "df['Category'].unique() "
   ]
  },
  {
   "cell_type": "code",
   "execution_count": 745,
   "metadata": {},
   "outputs": [
    {
     "data": {
      "text/plain": [
       "array(['Warehouse 2', 'Warehouse 3', 'Warehouse 1'], dtype=object)"
      ]
     },
     "execution_count": 745,
     "metadata": {},
     "output_type": "execute_result"
    }
   ],
   "source": [
    "df['Warehouse'].unique() #looks okay"
   ]
  },
  {
   "cell_type": "code",
   "execution_count": 746,
   "metadata": {},
   "outputs": [
    {
     "data": {
      "text/plain": [
       "array(['Aisle 1', 'Aisle 4', 'Aisle 3', 'Aisle 5', 'Aisle 2'],\n",
       "      dtype=object)"
      ]
     },
     "execution_count": 746,
     "metadata": {},
     "output_type": "execute_result"
    }
   ],
   "source": [
    "df['Location'].unique() #looks okay"
   ]
  },
  {
   "cell_type": "code",
   "execution_count": 747,
   "metadata": {},
   "outputs": [
    {
     "data": {
      "text/plain": [
       "array(['Supplier C', 'Supplier B', 'Supplier D', 'Supplier A'],\n",
       "      dtype=object)"
      ]
     },
     "execution_count": 747,
     "metadata": {},
     "output_type": "execute_result"
    }
   ],
   "source": [
    "df['Supplier'].unique() #looks okay"
   ]
  },
  {
   "cell_type": "code",
   "execution_count": 748,
   "metadata": {},
   "outputs": [],
   "source": [
    "### Standardising Text formats- inconsistent text formatting can make it difficult to group and analyse data.we need to standardise by\n",
    "#1.Convert product name to proper title\n",
    "df['Product_Name'] = df['Product_Name'].str.title()\n",
    "#correct category column\n",
    "df['Category'] = df['Category'].str.capitalize()"
   ]
  },
  {
   "cell_type": "code",
   "execution_count": 749,
   "metadata": {},
   "outputs": [
    {
     "data": {
      "text/plain": [
       "In Stock        340\n",
       "Out of Stock    332\n",
       "Low Stock       328\n",
       "Name: Status, dtype: int64"
      ]
     },
     "execution_count": 749,
     "metadata": {},
     "output_type": "execute_result"
    }
   ],
   "source": [
    "df['Status'].value_counts() #looks okay"
   ]
  },
  {
   "cell_type": "markdown",
   "metadata": {},
   "source": [
    "### d)Check duplicates "
   ]
  },
  {
   "cell_type": "code",
   "execution_count": 750,
   "metadata": {},
   "outputs": [
    {
     "data": {
      "text/plain": [
       "0"
      ]
     },
     "execution_count": 750,
     "metadata": {},
     "output_type": "execute_result"
    }
   ],
   "source": [
    "df.duplicated().sum() # no duplicates"
   ]
  },
  {
   "cell_type": "markdown",
   "metadata": {},
   "source": [
    "### e)Check outliers"
   ]
  },
  {
   "cell_type": "code",
   "execution_count": 751,
   "metadata": {},
   "outputs": [
    {
     "data": {
      "text/html": [
       "<div>\n",
       "<style scoped>\n",
       "    .dataframe tbody tr th:only-of-type {\n",
       "        vertical-align: middle;\n",
       "    }\n",
       "\n",
       "    .dataframe tbody tr th {\n",
       "        vertical-align: top;\n",
       "    }\n",
       "\n",
       "    .dataframe thead th {\n",
       "        text-align: right;\n",
       "    }\n",
       "</style>\n",
       "<table border=\"1\" class=\"dataframe\">\n",
       "  <thead>\n",
       "    <tr style=\"text-align: right;\">\n",
       "      <th></th>\n",
       "      <th>Product_ID</th>\n",
       "      <th>Quantity</th>\n",
       "      <th>Price</th>\n",
       "    </tr>\n",
       "  </thead>\n",
       "  <tbody>\n",
       "    <tr>\n",
       "      <th>count</th>\n",
       "      <td>1000.000000</td>\n",
       "      <td>1000.000000</td>\n",
       "      <td>1000.000000</td>\n",
       "    </tr>\n",
       "    <tr>\n",
       "      <th>mean</th>\n",
       "      <td>1503.929000</td>\n",
       "      <td>159.600000</td>\n",
       "      <td>28.480000</td>\n",
       "    </tr>\n",
       "    <tr>\n",
       "      <th>std</th>\n",
       "      <td>289.998108</td>\n",
       "      <td>79.932654</td>\n",
       "      <td>13.099294</td>\n",
       "    </tr>\n",
       "    <tr>\n",
       "      <th>min</th>\n",
       "      <td>1000.000000</td>\n",
       "      <td>50.000000</td>\n",
       "      <td>9.990000</td>\n",
       "    </tr>\n",
       "    <tr>\n",
       "      <th>25%</th>\n",
       "      <td>1242.750000</td>\n",
       "      <td>100.000000</td>\n",
       "      <td>19.990000</td>\n",
       "    </tr>\n",
       "    <tr>\n",
       "      <th>50%</th>\n",
       "      <td>1505.000000</td>\n",
       "      <td>150.000000</td>\n",
       "      <td>29.990000</td>\n",
       "    </tr>\n",
       "    <tr>\n",
       "      <th>75%</th>\n",
       "      <td>1757.250000</td>\n",
       "      <td>200.000000</td>\n",
       "      <td>29.990000</td>\n",
       "    </tr>\n",
       "    <tr>\n",
       "      <th>max</th>\n",
       "      <td>1998.000000</td>\n",
       "      <td>300.000000</td>\n",
       "      <td>49.990000</td>\n",
       "    </tr>\n",
       "  </tbody>\n",
       "</table>\n",
       "</div>"
      ],
      "text/plain": [
       "        Product_ID     Quantity        Price\n",
       "count  1000.000000  1000.000000  1000.000000\n",
       "mean   1503.929000   159.600000    28.480000\n",
       "std     289.998108    79.932654    13.099294\n",
       "min    1000.000000    50.000000     9.990000\n",
       "25%    1242.750000   100.000000    19.990000\n",
       "50%    1505.000000   150.000000    29.990000\n",
       "75%    1757.250000   200.000000    29.990000\n",
       "max    1998.000000   300.000000    49.990000"
      ]
     },
     "execution_count": 751,
     "metadata": {},
     "output_type": "execute_result"
    }
   ],
   "source": [
    "df.describe()"
   ]
  },
  {
   "cell_type": "code",
   "execution_count": 752,
   "metadata": {},
   "outputs": [
    {
     "data": {
      "text/plain": [
       "<AxesSubplot:ylabel='Quantity'>"
      ]
     },
     "execution_count": 752,
     "metadata": {},
     "output_type": "execute_result"
    },
    {
     "data": {
      "image/png": "[encoded data removed]",
      "text/plain": [
       "<Figure size 432x288 with 1 Axes>"
      ]
     },
     "metadata": {
      "needs_background": "light"
     },
     "output_type": "display_data"
    }
   ],
   "source": [
    "#check outlier in quantity\n",
    "sns.boxplot(data=df, y='Quantity') # no outlier here"
   ]
  },
  {
   "cell_type": "code",
   "execution_count": 753,
   "metadata": {},
   "outputs": [
    {
     "data": {
      "text/plain": [
       "<AxesSubplot:ylabel='Price'>"
      ]
     },
     "execution_count": 753,
     "metadata": {},
     "output_type": "execute_result"
    },
    {
     "data": {
      "image/png": "[encoded data removed]",
      "text/plain": [
       "<Figure size 432x288 with 1 Axes>"
      ]
     },
     "metadata": {
      "needs_background": "light"
     },
     "output_type": "display_data"
    }
   ],
   "source": [
    "#check outlier in Price\n",
    "sns.boxplot(data=df, y='Price') "
   ]
  },
  {
   "cell_type": "code",
   "execution_count": 754,
   "metadata": {},
   "outputs": [
    {
     "data": {
      "text/html": [
       "<div>\n",
       "<style scoped>\n",
       "    .dataframe tbody tr th:only-of-type {\n",
       "        vertical-align: middle;\n",
       "    }\n",
       "\n",
       "    .dataframe tbody tr th {\n",
       "        vertical-align: top;\n",
       "    }\n",
       "\n",
       "    .dataframe thead th {\n",
       "        text-align: right;\n",
       "    }\n",
       "</style>\n",
       "<table border=\"1\" class=\"dataframe\">\n",
       "  <thead>\n",
       "    <tr style=\"text-align: right;\">\n",
       "      <th></th>\n",
       "      <th>Product_ID</th>\n",
       "      <th>Product_Name</th>\n",
       "      <th>Category</th>\n",
       "      <th>Warehouse</th>\n",
       "      <th>Location</th>\n",
       "      <th>Quantity</th>\n",
       "      <th>Price</th>\n",
       "      <th>Supplier</th>\n",
       "      <th>Status</th>\n",
       "      <th>Last_Restocked</th>\n",
       "    </tr>\n",
       "  </thead>\n",
       "  <tbody>\n",
       "    <tr>\n",
       "      <th>3</th>\n",
       "      <td>1270</td>\n",
       "      <td>Gadget Z</td>\n",
       "      <td>Toys</td>\n",
       "      <td>Warehouse 2</td>\n",
       "      <td>Aisle 4</td>\n",
       "      <td>50.0</td>\n",
       "      <td>49.99</td>\n",
       "      <td>Supplier B</td>\n",
       "      <td>In Stock</td>\n",
       "      <td>2022-12-20</td>\n",
       "    </tr>\n",
       "    <tr>\n",
       "      <th>6</th>\n",
       "      <td>1700</td>\n",
       "      <td>Widget A</td>\n",
       "      <td>Clothing</td>\n",
       "      <td>Warehouse 2</td>\n",
       "      <td>Aisle 2</td>\n",
       "      <td>200.0</td>\n",
       "      <td>49.99</td>\n",
       "      <td>Supplier B</td>\n",
       "      <td>In Stock</td>\n",
       "      <td>2022-12-20</td>\n",
       "    </tr>\n",
       "    <tr>\n",
       "      <th>10</th>\n",
       "      <td>1466</td>\n",
       "      <td>Widget A</td>\n",
       "      <td>Clothing</td>\n",
       "      <td>Warehouse 3</td>\n",
       "      <td>Aisle 1</td>\n",
       "      <td>150.0</td>\n",
       "      <td>49.99</td>\n",
       "      <td>Supplier B</td>\n",
       "      <td>In Stock</td>\n",
       "      <td>2023-01-15</td>\n",
       "    </tr>\n",
       "    <tr>\n",
       "      <th>13</th>\n",
       "      <td>1458</td>\n",
       "      <td>Widget C</td>\n",
       "      <td>Furniture</td>\n",
       "      <td>Warehouse 2</td>\n",
       "      <td>Aisle 3</td>\n",
       "      <td>300.0</td>\n",
       "      <td>49.99</td>\n",
       "      <td>Supplier A</td>\n",
       "      <td>Low Stock</td>\n",
       "      <td>2023-05-03</td>\n",
       "    </tr>\n",
       "    <tr>\n",
       "      <th>15</th>\n",
       "      <td>1372</td>\n",
       "      <td>Gadget Y</td>\n",
       "      <td>Furniture</td>\n",
       "      <td>Warehouse 2</td>\n",
       "      <td>Aisle 1</td>\n",
       "      <td>200.0</td>\n",
       "      <td>49.99</td>\n",
       "      <td>Supplier A</td>\n",
       "      <td>Low Stock</td>\n",
       "      <td>2023-05-03</td>\n",
       "    </tr>\n",
       "    <tr>\n",
       "      <th>...</th>\n",
       "      <td>...</td>\n",
       "      <td>...</td>\n",
       "      <td>...</td>\n",
       "      <td>...</td>\n",
       "      <td>...</td>\n",
       "      <td>...</td>\n",
       "      <td>...</td>\n",
       "      <td>...</td>\n",
       "      <td>...</td>\n",
       "      <td>...</td>\n",
       "    </tr>\n",
       "    <tr>\n",
       "      <th>962</th>\n",
       "      <td>1647</td>\n",
       "      <td>Gadget X</td>\n",
       "      <td>Electronics</td>\n",
       "      <td>Warehouse 2</td>\n",
       "      <td>Aisle 2</td>\n",
       "      <td>150.0</td>\n",
       "      <td>49.99</td>\n",
       "      <td>Supplier C</td>\n",
       "      <td>Out of Stock</td>\n",
       "      <td>2022-12-20</td>\n",
       "    </tr>\n",
       "    <tr>\n",
       "      <th>965</th>\n",
       "      <td>1177</td>\n",
       "      <td>Widget C</td>\n",
       "      <td>Electronics</td>\n",
       "      <td>Warehouse 3</td>\n",
       "      <td>Aisle 2</td>\n",
       "      <td>300.0</td>\n",
       "      <td>49.99</td>\n",
       "      <td>Supplier B</td>\n",
       "      <td>In Stock</td>\n",
       "      <td>2023-01-15</td>\n",
       "    </tr>\n",
       "    <tr>\n",
       "      <th>975</th>\n",
       "      <td>1144</td>\n",
       "      <td>Gadget Z</td>\n",
       "      <td>Toys</td>\n",
       "      <td>Warehouse 1</td>\n",
       "      <td>Aisle 1</td>\n",
       "      <td>50.0</td>\n",
       "      <td>49.99</td>\n",
       "      <td>Supplier B</td>\n",
       "      <td>In Stock</td>\n",
       "      <td>2023-04-25</td>\n",
       "    </tr>\n",
       "    <tr>\n",
       "      <th>998</th>\n",
       "      <td>1241</td>\n",
       "      <td>Widget C</td>\n",
       "      <td>Furniture</td>\n",
       "      <td>Warehouse 2</td>\n",
       "      <td>Aisle 2</td>\n",
       "      <td>100.0</td>\n",
       "      <td>49.99</td>\n",
       "      <td>Supplier C</td>\n",
       "      <td>Low Stock</td>\n",
       "      <td>2022-12-20</td>\n",
       "    </tr>\n",
       "    <tr>\n",
       "      <th>999</th>\n",
       "      <td>1250</td>\n",
       "      <td>Widget A</td>\n",
       "      <td>Clothing</td>\n",
       "      <td>Warehouse 1</td>\n",
       "      <td>Aisle 3</td>\n",
       "      <td>100.0</td>\n",
       "      <td>49.99</td>\n",
       "      <td>Supplier B</td>\n",
       "      <td>Out of Stock</td>\n",
       "      <td>2022-12-20</td>\n",
       "    </tr>\n",
       "  </tbody>\n",
       "</table>\n",
       "<p>204 rows × 10 columns</p>\n",
       "</div>"
      ],
      "text/plain": [
       "     Product_ID Product_Name     Category    Warehouse Location  Quantity  \\\n",
       "3          1270     Gadget Z         Toys  Warehouse 2  Aisle 4      50.0   \n",
       "6          1700     Widget A     Clothing  Warehouse 2  Aisle 2     200.0   \n",
       "10         1466     Widget A     Clothing  Warehouse 3  Aisle 1     150.0   \n",
       "13         1458     Widget C    Furniture  Warehouse 2  Aisle 3     300.0   \n",
       "15         1372     Gadget Y    Furniture  Warehouse 2  Aisle 1     200.0   \n",
       "..          ...          ...          ...          ...      ...       ...   \n",
       "962        1647     Gadget X  Electronics  Warehouse 2  Aisle 2     150.0   \n",
       "965        1177     Widget C  Electronics  Warehouse 3  Aisle 2     300.0   \n",
       "975        1144     Gadget Z         Toys  Warehouse 1  Aisle 1      50.0   \n",
       "998        1241     Widget C    Furniture  Warehouse 2  Aisle 2     100.0   \n",
       "999        1250     Widget A     Clothing  Warehouse 1  Aisle 3     100.0   \n",
       "\n",
       "     Price    Supplier        Status Last_Restocked  \n",
       "3    49.99  Supplier B      In Stock     2022-12-20  \n",
       "6    49.99  Supplier B      In Stock     2022-12-20  \n",
       "10   49.99  Supplier B      In Stock     2023-01-15  \n",
       "13   49.99  Supplier A     Low Stock     2023-05-03  \n",
       "15   49.99  Supplier A     Low Stock     2023-05-03  \n",
       "..     ...         ...           ...            ...  \n",
       "962  49.99  Supplier C  Out of Stock     2022-12-20  \n",
       "965  49.99  Supplier B      In Stock     2023-01-15  \n",
       "975  49.99  Supplier B      In Stock     2023-04-25  \n",
       "998  49.99  Supplier C     Low Stock     2022-12-20  \n",
       "999  49.99  Supplier B  Out of Stock     2022-12-20  \n",
       "\n",
       "[204 rows x 10 columns]"
      ]
     },
     "execution_count": 754,
     "metadata": {},
     "output_type": "execute_result"
    }
   ],
   "source": [
    "#check this outlier\n",
    "df.query('Price > 30')"
   ]
  },
  {
   "cell_type": "code",
   "execution_count": 755,
   "metadata": {},
   "outputs": [
    {
     "data": {
      "text/html": [
       "<div>\n",
       "<style scoped>\n",
       "    .dataframe tbody tr th:only-of-type {\n",
       "        vertical-align: middle;\n",
       "    }\n",
       "\n",
       "    .dataframe tbody tr th {\n",
       "        vertical-align: top;\n",
       "    }\n",
       "\n",
       "    .dataframe thead th {\n",
       "        text-align: right;\n",
       "    }\n",
       "</style>\n",
       "<table border=\"1\" class=\"dataframe\">\n",
       "  <thead>\n",
       "    <tr style=\"text-align: right;\">\n",
       "      <th></th>\n",
       "      <th>Product_ID</th>\n",
       "      <th>Product_Name</th>\n",
       "      <th>Category</th>\n",
       "      <th>Warehouse</th>\n",
       "      <th>Location</th>\n",
       "      <th>Quantity</th>\n",
       "      <th>Price</th>\n",
       "      <th>Supplier</th>\n",
       "      <th>Status</th>\n",
       "      <th>Last_Restocked</th>\n",
       "    </tr>\n",
       "  </thead>\n",
       "  <tbody>\n",
       "    <tr>\n",
       "      <th>3</th>\n",
       "      <td>1270</td>\n",
       "      <td>Gadget Z</td>\n",
       "      <td>Toys</td>\n",
       "      <td>Warehouse 2</td>\n",
       "      <td>Aisle 4</td>\n",
       "      <td>50.0</td>\n",
       "      <td>49.99</td>\n",
       "      <td>Supplier B</td>\n",
       "      <td>In Stock</td>\n",
       "      <td>2022-12-20</td>\n",
       "    </tr>\n",
       "    <tr>\n",
       "      <th>6</th>\n",
       "      <td>1700</td>\n",
       "      <td>Widget A</td>\n",
       "      <td>Clothing</td>\n",
       "      <td>Warehouse 2</td>\n",
       "      <td>Aisle 2</td>\n",
       "      <td>200.0</td>\n",
       "      <td>49.99</td>\n",
       "      <td>Supplier B</td>\n",
       "      <td>In Stock</td>\n",
       "      <td>2022-12-20</td>\n",
       "    </tr>\n",
       "    <tr>\n",
       "      <th>10</th>\n",
       "      <td>1466</td>\n",
       "      <td>Widget A</td>\n",
       "      <td>Clothing</td>\n",
       "      <td>Warehouse 3</td>\n",
       "      <td>Aisle 1</td>\n",
       "      <td>150.0</td>\n",
       "      <td>49.99</td>\n",
       "      <td>Supplier B</td>\n",
       "      <td>In Stock</td>\n",
       "      <td>2023-01-15</td>\n",
       "    </tr>\n",
       "    <tr>\n",
       "      <th>13</th>\n",
       "      <td>1458</td>\n",
       "      <td>Widget C</td>\n",
       "      <td>Furniture</td>\n",
       "      <td>Warehouse 2</td>\n",
       "      <td>Aisle 3</td>\n",
       "      <td>300.0</td>\n",
       "      <td>49.99</td>\n",
       "      <td>Supplier A</td>\n",
       "      <td>Low Stock</td>\n",
       "      <td>2023-05-03</td>\n",
       "    </tr>\n",
       "    <tr>\n",
       "      <th>15</th>\n",
       "      <td>1372</td>\n",
       "      <td>Gadget Y</td>\n",
       "      <td>Furniture</td>\n",
       "      <td>Warehouse 2</td>\n",
       "      <td>Aisle 1</td>\n",
       "      <td>200.0</td>\n",
       "      <td>49.99</td>\n",
       "      <td>Supplier A</td>\n",
       "      <td>Low Stock</td>\n",
       "      <td>2023-05-03</td>\n",
       "    </tr>\n",
       "    <tr>\n",
       "      <th>...</th>\n",
       "      <td>...</td>\n",
       "      <td>...</td>\n",
       "      <td>...</td>\n",
       "      <td>...</td>\n",
       "      <td>...</td>\n",
       "      <td>...</td>\n",
       "      <td>...</td>\n",
       "      <td>...</td>\n",
       "      <td>...</td>\n",
       "      <td>...</td>\n",
       "    </tr>\n",
       "    <tr>\n",
       "      <th>962</th>\n",
       "      <td>1647</td>\n",
       "      <td>Gadget X</td>\n",
       "      <td>Electronics</td>\n",
       "      <td>Warehouse 2</td>\n",
       "      <td>Aisle 2</td>\n",
       "      <td>150.0</td>\n",
       "      <td>49.99</td>\n",
       "      <td>Supplier C</td>\n",
       "      <td>Out of Stock</td>\n",
       "      <td>2022-12-20</td>\n",
       "    </tr>\n",
       "    <tr>\n",
       "      <th>965</th>\n",
       "      <td>1177</td>\n",
       "      <td>Widget C</td>\n",
       "      <td>Electronics</td>\n",
       "      <td>Warehouse 3</td>\n",
       "      <td>Aisle 2</td>\n",
       "      <td>300.0</td>\n",
       "      <td>49.99</td>\n",
       "      <td>Supplier B</td>\n",
       "      <td>In Stock</td>\n",
       "      <td>2023-01-15</td>\n",
       "    </tr>\n",
       "    <tr>\n",
       "      <th>975</th>\n",
       "      <td>1144</td>\n",
       "      <td>Gadget Z</td>\n",
       "      <td>Toys</td>\n",
       "      <td>Warehouse 1</td>\n",
       "      <td>Aisle 1</td>\n",
       "      <td>50.0</td>\n",
       "      <td>49.99</td>\n",
       "      <td>Supplier B</td>\n",
       "      <td>In Stock</td>\n",
       "      <td>2023-04-25</td>\n",
       "    </tr>\n",
       "    <tr>\n",
       "      <th>998</th>\n",
       "      <td>1241</td>\n",
       "      <td>Widget C</td>\n",
       "      <td>Furniture</td>\n",
       "      <td>Warehouse 2</td>\n",
       "      <td>Aisle 2</td>\n",
       "      <td>100.0</td>\n",
       "      <td>49.99</td>\n",
       "      <td>Supplier C</td>\n",
       "      <td>Low Stock</td>\n",
       "      <td>2022-12-20</td>\n",
       "    </tr>\n",
       "    <tr>\n",
       "      <th>999</th>\n",
       "      <td>1250</td>\n",
       "      <td>Widget A</td>\n",
       "      <td>Clothing</td>\n",
       "      <td>Warehouse 1</td>\n",
       "      <td>Aisle 3</td>\n",
       "      <td>100.0</td>\n",
       "      <td>49.99</td>\n",
       "      <td>Supplier B</td>\n",
       "      <td>Out of Stock</td>\n",
       "      <td>2022-12-20</td>\n",
       "    </tr>\n",
       "  </tbody>\n",
       "</table>\n",
       "<p>204 rows × 10 columns</p>\n",
       "</div>"
      ],
      "text/plain": [
       "     Product_ID Product_Name     Category    Warehouse Location  Quantity  \\\n",
       "3          1270     Gadget Z         Toys  Warehouse 2  Aisle 4      50.0   \n",
       "6          1700     Widget A     Clothing  Warehouse 2  Aisle 2     200.0   \n",
       "10         1466     Widget A     Clothing  Warehouse 3  Aisle 1     150.0   \n",
       "13         1458     Widget C    Furniture  Warehouse 2  Aisle 3     300.0   \n",
       "15         1372     Gadget Y    Furniture  Warehouse 2  Aisle 1     200.0   \n",
       "..          ...          ...          ...          ...      ...       ...   \n",
       "962        1647     Gadget X  Electronics  Warehouse 2  Aisle 2     150.0   \n",
       "965        1177     Widget C  Electronics  Warehouse 3  Aisle 2     300.0   \n",
       "975        1144     Gadget Z         Toys  Warehouse 1  Aisle 1      50.0   \n",
       "998        1241     Widget C    Furniture  Warehouse 2  Aisle 2     100.0   \n",
       "999        1250     Widget A     Clothing  Warehouse 1  Aisle 3     100.0   \n",
       "\n",
       "     Price    Supplier        Status Last_Restocked  \n",
       "3    49.99  Supplier B      In Stock     2022-12-20  \n",
       "6    49.99  Supplier B      In Stock     2022-12-20  \n",
       "10   49.99  Supplier B      In Stock     2023-01-15  \n",
       "13   49.99  Supplier A     Low Stock     2023-05-03  \n",
       "15   49.99  Supplier A     Low Stock     2023-05-03  \n",
       "..     ...         ...           ...            ...  \n",
       "962  49.99  Supplier C  Out of Stock     2022-12-20  \n",
       "965  49.99  Supplier B      In Stock     2023-01-15  \n",
       "975  49.99  Supplier B      In Stock     2023-04-25  \n",
       "998  49.99  Supplier C     Low Stock     2022-12-20  \n",
       "999  49.99  Supplier B  Out of Stock     2022-12-20  \n",
       "\n",
       "[204 rows x 10 columns]"
      ]
     },
     "execution_count": 755,
     "metadata": {},
     "output_type": "execute_result"
    }
   ],
   "source": [
    "#check this outlier using IQR\n",
    "Q1, Q3 = df['Price'].quantile([0.25,0.75])\n",
    "IQR = Q3 - Q1\n",
    "lower_bound = Q1 - 1.5*IQR\n",
    "upper_bound = Q3+ 1.5*IQR\n",
    "df.query('Price<@lower_bound | Price>@upper_bound')"
   ]
  },
  {
   "cell_type": "code",
   "execution_count": 756,
   "metadata": {},
   "outputs": [
    {
     "data": {
      "text/html": [
       "<div>\n",
       "<style scoped>\n",
       "    .dataframe tbody tr th:only-of-type {\n",
       "        vertical-align: middle;\n",
       "    }\n",
       "\n",
       "    .dataframe tbody tr th {\n",
       "        vertical-align: top;\n",
       "    }\n",
       "\n",
       "    .dataframe thead th {\n",
       "        text-align: right;\n",
       "    }\n",
       "</style>\n",
       "<table border=\"1\" class=\"dataframe\">\n",
       "  <thead>\n",
       "    <tr style=\"text-align: right;\">\n",
       "      <th></th>\n",
       "      <th>Product_ID</th>\n",
       "      <th>Product_Name</th>\n",
       "      <th>Category</th>\n",
       "      <th>Warehouse</th>\n",
       "      <th>Location</th>\n",
       "      <th>Quantity</th>\n",
       "      <th>Price</th>\n",
       "      <th>Supplier</th>\n",
       "      <th>Status</th>\n",
       "      <th>Last_Restocked</th>\n",
       "    </tr>\n",
       "  </thead>\n",
       "  <tbody>\n",
       "    <tr>\n",
       "      <th>3</th>\n",
       "      <td>1270</td>\n",
       "      <td>Gadget Z</td>\n",
       "      <td>Toys</td>\n",
       "      <td>Warehouse 2</td>\n",
       "      <td>Aisle 4</td>\n",
       "      <td>50.0</td>\n",
       "      <td>49.99</td>\n",
       "      <td>Supplier B</td>\n",
       "      <td>In Stock</td>\n",
       "      <td>2022-12-20</td>\n",
       "    </tr>\n",
       "    <tr>\n",
       "      <th>6</th>\n",
       "      <td>1700</td>\n",
       "      <td>Widget A</td>\n",
       "      <td>Clothing</td>\n",
       "      <td>Warehouse 2</td>\n",
       "      <td>Aisle 2</td>\n",
       "      <td>200.0</td>\n",
       "      <td>49.99</td>\n",
       "      <td>Supplier B</td>\n",
       "      <td>In Stock</td>\n",
       "      <td>2022-12-20</td>\n",
       "    </tr>\n",
       "    <tr>\n",
       "      <th>10</th>\n",
       "      <td>1466</td>\n",
       "      <td>Widget A</td>\n",
       "      <td>Clothing</td>\n",
       "      <td>Warehouse 3</td>\n",
       "      <td>Aisle 1</td>\n",
       "      <td>150.0</td>\n",
       "      <td>49.99</td>\n",
       "      <td>Supplier B</td>\n",
       "      <td>In Stock</td>\n",
       "      <td>2023-01-15</td>\n",
       "    </tr>\n",
       "    <tr>\n",
       "      <th>13</th>\n",
       "      <td>1458</td>\n",
       "      <td>Widget C</td>\n",
       "      <td>Furniture</td>\n",
       "      <td>Warehouse 2</td>\n",
       "      <td>Aisle 3</td>\n",
       "      <td>300.0</td>\n",
       "      <td>49.99</td>\n",
       "      <td>Supplier A</td>\n",
       "      <td>Low Stock</td>\n",
       "      <td>2023-05-03</td>\n",
       "    </tr>\n",
       "    <tr>\n",
       "      <th>15</th>\n",
       "      <td>1372</td>\n",
       "      <td>Gadget Y</td>\n",
       "      <td>Furniture</td>\n",
       "      <td>Warehouse 2</td>\n",
       "      <td>Aisle 1</td>\n",
       "      <td>200.0</td>\n",
       "      <td>49.99</td>\n",
       "      <td>Supplier A</td>\n",
       "      <td>Low Stock</td>\n",
       "      <td>2023-05-03</td>\n",
       "    </tr>\n",
       "    <tr>\n",
       "      <th>...</th>\n",
       "      <td>...</td>\n",
       "      <td>...</td>\n",
       "      <td>...</td>\n",
       "      <td>...</td>\n",
       "      <td>...</td>\n",
       "      <td>...</td>\n",
       "      <td>...</td>\n",
       "      <td>...</td>\n",
       "      <td>...</td>\n",
       "      <td>...</td>\n",
       "    </tr>\n",
       "    <tr>\n",
       "      <th>962</th>\n",
       "      <td>1647</td>\n",
       "      <td>Gadget X</td>\n",
       "      <td>Electronics</td>\n",
       "      <td>Warehouse 2</td>\n",
       "      <td>Aisle 2</td>\n",
       "      <td>150.0</td>\n",
       "      <td>49.99</td>\n",
       "      <td>Supplier C</td>\n",
       "      <td>Out of Stock</td>\n",
       "      <td>2022-12-20</td>\n",
       "    </tr>\n",
       "    <tr>\n",
       "      <th>965</th>\n",
       "      <td>1177</td>\n",
       "      <td>Widget C</td>\n",
       "      <td>Electronics</td>\n",
       "      <td>Warehouse 3</td>\n",
       "      <td>Aisle 2</td>\n",
       "      <td>300.0</td>\n",
       "      <td>49.99</td>\n",
       "      <td>Supplier B</td>\n",
       "      <td>In Stock</td>\n",
       "      <td>2023-01-15</td>\n",
       "    </tr>\n",
       "    <tr>\n",
       "      <th>975</th>\n",
       "      <td>1144</td>\n",
       "      <td>Gadget Z</td>\n",
       "      <td>Toys</td>\n",
       "      <td>Warehouse 1</td>\n",
       "      <td>Aisle 1</td>\n",
       "      <td>50.0</td>\n",
       "      <td>49.99</td>\n",
       "      <td>Supplier B</td>\n",
       "      <td>In Stock</td>\n",
       "      <td>2023-04-25</td>\n",
       "    </tr>\n",
       "    <tr>\n",
       "      <th>998</th>\n",
       "      <td>1241</td>\n",
       "      <td>Widget C</td>\n",
       "      <td>Furniture</td>\n",
       "      <td>Warehouse 2</td>\n",
       "      <td>Aisle 2</td>\n",
       "      <td>100.0</td>\n",
       "      <td>49.99</td>\n",
       "      <td>Supplier C</td>\n",
       "      <td>Low Stock</td>\n",
       "      <td>2022-12-20</td>\n",
       "    </tr>\n",
       "    <tr>\n",
       "      <th>999</th>\n",
       "      <td>1250</td>\n",
       "      <td>Widget A</td>\n",
       "      <td>Clothing</td>\n",
       "      <td>Warehouse 1</td>\n",
       "      <td>Aisle 3</td>\n",
       "      <td>100.0</td>\n",
       "      <td>49.99</td>\n",
       "      <td>Supplier B</td>\n",
       "      <td>Out of Stock</td>\n",
       "      <td>2022-12-20</td>\n",
       "    </tr>\n",
       "  </tbody>\n",
       "</table>\n",
       "<p>204 rows × 10 columns</p>\n",
       "</div>"
      ],
      "text/plain": [
       "     Product_ID Product_Name     Category    Warehouse Location  Quantity  \\\n",
       "3          1270     Gadget Z         Toys  Warehouse 2  Aisle 4      50.0   \n",
       "6          1700     Widget A     Clothing  Warehouse 2  Aisle 2     200.0   \n",
       "10         1466     Widget A     Clothing  Warehouse 3  Aisle 1     150.0   \n",
       "13         1458     Widget C    Furniture  Warehouse 2  Aisle 3     300.0   \n",
       "15         1372     Gadget Y    Furniture  Warehouse 2  Aisle 1     200.0   \n",
       "..          ...          ...          ...          ...      ...       ...   \n",
       "962        1647     Gadget X  Electronics  Warehouse 2  Aisle 2     150.0   \n",
       "965        1177     Widget C  Electronics  Warehouse 3  Aisle 2     300.0   \n",
       "975        1144     Gadget Z         Toys  Warehouse 1  Aisle 1      50.0   \n",
       "998        1241     Widget C    Furniture  Warehouse 2  Aisle 2     100.0   \n",
       "999        1250     Widget A     Clothing  Warehouse 1  Aisle 3     100.0   \n",
       "\n",
       "     Price    Supplier        Status Last_Restocked  \n",
       "3    49.99  Supplier B      In Stock     2022-12-20  \n",
       "6    49.99  Supplier B      In Stock     2022-12-20  \n",
       "10   49.99  Supplier B      In Stock     2023-01-15  \n",
       "13   49.99  Supplier A     Low Stock     2023-05-03  \n",
       "15   49.99  Supplier A     Low Stock     2023-05-03  \n",
       "..     ...         ...           ...            ...  \n",
       "962  49.99  Supplier C  Out of Stock     2022-12-20  \n",
       "965  49.99  Supplier B      In Stock     2023-01-15  \n",
       "975  49.99  Supplier B      In Stock     2023-04-25  \n",
       "998  49.99  Supplier C     Low Stock     2022-12-20  \n",
       "999  49.99  Supplier B  Out of Stock     2022-12-20  \n",
       "\n",
       "[204 rows x 10 columns]"
      ]
     },
     "execution_count": 756,
     "metadata": {},
     "output_type": "execute_result"
    }
   ],
   "source": [
    "df.query('Price == 49.99')"
   ]
  },
  {
   "cell_type": "code",
   "execution_count": 757,
   "metadata": {},
   "outputs": [
    {
     "data": {
      "text/html": [
       "<div>\n",
       "<style scoped>\n",
       "    .dataframe tbody tr th:only-of-type {\n",
       "        vertical-align: middle;\n",
       "    }\n",
       "\n",
       "    .dataframe tbody tr th {\n",
       "        vertical-align: top;\n",
       "    }\n",
       "\n",
       "    .dataframe thead th {\n",
       "        text-align: right;\n",
       "    }\n",
       "</style>\n",
       "<table border=\"1\" class=\"dataframe\">\n",
       "  <thead>\n",
       "    <tr style=\"text-align: right;\">\n",
       "      <th></th>\n",
       "      <th>Product_ID</th>\n",
       "      <th>Product_Name</th>\n",
       "      <th>Category</th>\n",
       "      <th>Warehouse</th>\n",
       "      <th>Location</th>\n",
       "      <th>Quantity</th>\n",
       "      <th>Price</th>\n",
       "      <th>Supplier</th>\n",
       "      <th>Status</th>\n",
       "      <th>Last_Restocked</th>\n",
       "    </tr>\n",
       "  </thead>\n",
       "  <tbody>\n",
       "  </tbody>\n",
       "</table>\n",
       "</div>"
      ],
      "text/plain": [
       "Empty DataFrame\n",
       "Columns: [Product_ID, Product_Name, Category, Warehouse, Location, Quantity, Price, Supplier, Status, Last_Restocked]\n",
       "Index: []"
      ]
     },
     "execution_count": 757,
     "metadata": {},
     "output_type": "execute_result"
    }
   ],
   "source": [
    "df.query('Price == 49.99 & Category==\"ELECTRONICS\"') #leave outlier as is"
   ]
  },
  {
   "cell_type": "code",
   "execution_count": 758,
   "metadata": {},
   "outputs": [
    {
     "data": {
      "text/plain": [
       "array(['Gadget Y', 'Widget A', 'Gadget Z', 'Widget B', 'Widget C',\n",
       "       'Gadget X'], dtype=object)"
      ]
     },
     "execution_count": 758,
     "metadata": {},
     "output_type": "execute_result"
    }
   ],
   "source": [
    "df['Product_Name'].unique()"
   ]
  },
  {
   "cell_type": "code",
   "execution_count": 759,
   "metadata": {},
   "outputs": [],
   "source": [
    "df.to_csv('data/cleaned_warehouse.csv',index=False)"
   ]
  },
  {
   "cell_type": "markdown",
   "metadata": {},
   "source": [
    "### EDA- will help uncover patterns ,detect anomalies and gain insights from data Using the warehouse dataset, the EDA involved creating visualizations of products,price ranges,\n",
    "### stock status and relationship between quantity and price\n",
    "### in addition, the frequency of restocking events by different suppliers was examined to identity potential trends or inconsisities in the supply chain "
   ]
  },
  {
   "cell_type": "code",
   "execution_count": 760,
   "metadata": {},
   "outputs": [
    {
     "data": {
      "text/html": [
       "<div>\n",
       "<style scoped>\n",
       "    .dataframe tbody tr th:only-of-type {\n",
       "        vertical-align: middle;\n",
       "    }\n",
       "\n",
       "    .dataframe tbody tr th {\n",
       "        vertical-align: top;\n",
       "    }\n",
       "\n",
       "    .dataframe thead th {\n",
       "        text-align: right;\n",
       "    }\n",
       "</style>\n",
       "<table border=\"1\" class=\"dataframe\">\n",
       "  <thead>\n",
       "    <tr style=\"text-align: right;\">\n",
       "      <th></th>\n",
       "      <th>Product_ID</th>\n",
       "      <th>Product_Name</th>\n",
       "      <th>Category</th>\n",
       "      <th>Warehouse</th>\n",
       "      <th>Location</th>\n",
       "      <th>Quantity</th>\n",
       "      <th>Price</th>\n",
       "      <th>Supplier</th>\n",
       "      <th>Status</th>\n",
       "      <th>Last_Restocked</th>\n",
       "    </tr>\n",
       "  </thead>\n",
       "  <tbody>\n",
       "    <tr>\n",
       "      <th>0</th>\n",
       "      <td>1102</td>\n",
       "      <td>Gadget Y</td>\n",
       "      <td>Electronics</td>\n",
       "      <td>Warehouse 2</td>\n",
       "      <td>Aisle 1</td>\n",
       "      <td>300.0</td>\n",
       "      <td>9.99</td>\n",
       "      <td>Supplier C</td>\n",
       "      <td>In Stock</td>\n",
       "      <td>2024-09-12 07:54:41.921721</td>\n",
       "    </tr>\n",
       "    <tr>\n",
       "      <th>1</th>\n",
       "      <td>1435</td>\n",
       "      <td>Gadget Y</td>\n",
       "      <td>Electronics</td>\n",
       "      <td>Warehouse 2</td>\n",
       "      <td>Aisle 4</td>\n",
       "      <td>200.0</td>\n",
       "      <td>19.99</td>\n",
       "      <td>Supplier C</td>\n",
       "      <td>Out of Stock</td>\n",
       "      <td>2024-09-12 07:54:41.921721</td>\n",
       "    </tr>\n",
       "    <tr>\n",
       "      <th>2</th>\n",
       "      <td>1860</td>\n",
       "      <td>Widget A</td>\n",
       "      <td>Clothing</td>\n",
       "      <td>Warehouse 2</td>\n",
       "      <td>Aisle 3</td>\n",
       "      <td>100.0</td>\n",
       "      <td>19.99</td>\n",
       "      <td>Supplier B</td>\n",
       "      <td>In Stock</td>\n",
       "      <td>2022-12-20 00:00:00.000000</td>\n",
       "    </tr>\n",
       "    <tr>\n",
       "      <th>3</th>\n",
       "      <td>1270</td>\n",
       "      <td>Gadget Z</td>\n",
       "      <td>Toys</td>\n",
       "      <td>Warehouse 2</td>\n",
       "      <td>Aisle 4</td>\n",
       "      <td>50.0</td>\n",
       "      <td>49.99</td>\n",
       "      <td>Supplier B</td>\n",
       "      <td>In Stock</td>\n",
       "      <td>2022-12-20 00:00:00.000000</td>\n",
       "    </tr>\n",
       "    <tr>\n",
       "      <th>4</th>\n",
       "      <td>1106</td>\n",
       "      <td>Widget A</td>\n",
       "      <td>Furniture</td>\n",
       "      <td>Warehouse 3</td>\n",
       "      <td>Aisle 3</td>\n",
       "      <td>200.0</td>\n",
       "      <td>9.99</td>\n",
       "      <td>Supplier D</td>\n",
       "      <td>Out of Stock</td>\n",
       "      <td>2023-04-25 00:00:00.000000</td>\n",
       "    </tr>\n",
       "    <tr>\n",
       "      <th>...</th>\n",
       "      <td>...</td>\n",
       "      <td>...</td>\n",
       "      <td>...</td>\n",
       "      <td>...</td>\n",
       "      <td>...</td>\n",
       "      <td>...</td>\n",
       "      <td>...</td>\n",
       "      <td>...</td>\n",
       "      <td>...</td>\n",
       "      <td>...</td>\n",
       "    </tr>\n",
       "    <tr>\n",
       "      <th>995</th>\n",
       "      <td>1009</td>\n",
       "      <td>Widget B</td>\n",
       "      <td>Furniture</td>\n",
       "      <td>Warehouse 2</td>\n",
       "      <td>Aisle 2</td>\n",
       "      <td>100.0</td>\n",
       "      <td>29.99</td>\n",
       "      <td>Supplier C</td>\n",
       "      <td>In Stock</td>\n",
       "      <td>2023-01-15 00:00:00.000000</td>\n",
       "    </tr>\n",
       "    <tr>\n",
       "      <th>996</th>\n",
       "      <td>1823</td>\n",
       "      <td>Gadget Y</td>\n",
       "      <td>Electronics</td>\n",
       "      <td>Warehouse 2</td>\n",
       "      <td>Aisle 3</td>\n",
       "      <td>300.0</td>\n",
       "      <td>19.99</td>\n",
       "      <td>Supplier B</td>\n",
       "      <td>In Stock</td>\n",
       "      <td>2022-12-20 00:00:00.000000</td>\n",
       "    </tr>\n",
       "    <tr>\n",
       "      <th>997</th>\n",
       "      <td>1797</td>\n",
       "      <td>Gadget Z</td>\n",
       "      <td>Toys</td>\n",
       "      <td>Warehouse 3</td>\n",
       "      <td>Aisle 5</td>\n",
       "      <td>150.0</td>\n",
       "      <td>9.99</td>\n",
       "      <td>Supplier C</td>\n",
       "      <td>Low Stock</td>\n",
       "      <td>2023-05-03 00:00:00.000000</td>\n",
       "    </tr>\n",
       "    <tr>\n",
       "      <th>998</th>\n",
       "      <td>1241</td>\n",
       "      <td>Widget C</td>\n",
       "      <td>Furniture</td>\n",
       "      <td>Warehouse 2</td>\n",
       "      <td>Aisle 2</td>\n",
       "      <td>100.0</td>\n",
       "      <td>49.99</td>\n",
       "      <td>Supplier C</td>\n",
       "      <td>Low Stock</td>\n",
       "      <td>2022-12-20 00:00:00.000000</td>\n",
       "    </tr>\n",
       "    <tr>\n",
       "      <th>999</th>\n",
       "      <td>1250</td>\n",
       "      <td>Widget A</td>\n",
       "      <td>Clothing</td>\n",
       "      <td>Warehouse 1</td>\n",
       "      <td>Aisle 3</td>\n",
       "      <td>100.0</td>\n",
       "      <td>49.99</td>\n",
       "      <td>Supplier B</td>\n",
       "      <td>Out of Stock</td>\n",
       "      <td>2022-12-20 00:00:00.000000</td>\n",
       "    </tr>\n",
       "  </tbody>\n",
       "</table>\n",
       "<p>1000 rows × 10 columns</p>\n",
       "</div>"
      ],
      "text/plain": [
       "     Product_ID Product_Name     Category    Warehouse Location  Quantity  \\\n",
       "0          1102     Gadget Y  Electronics  Warehouse 2  Aisle 1     300.0   \n",
       "1          1435     Gadget Y  Electronics  Warehouse 2  Aisle 4     200.0   \n",
       "2          1860     Widget A     Clothing  Warehouse 2  Aisle 3     100.0   \n",
       "3          1270     Gadget Z         Toys  Warehouse 2  Aisle 4      50.0   \n",
       "4          1106     Widget A    Furniture  Warehouse 3  Aisle 3     200.0   \n",
       "..          ...          ...          ...          ...      ...       ...   \n",
       "995        1009     Widget B    Furniture  Warehouse 2  Aisle 2     100.0   \n",
       "996        1823     Gadget Y  Electronics  Warehouse 2  Aisle 3     300.0   \n",
       "997        1797     Gadget Z         Toys  Warehouse 3  Aisle 5     150.0   \n",
       "998        1241     Widget C    Furniture  Warehouse 2  Aisle 2     100.0   \n",
       "999        1250     Widget A     Clothing  Warehouse 1  Aisle 3     100.0   \n",
       "\n",
       "     Price    Supplier        Status              Last_Restocked  \n",
       "0     9.99  Supplier C      In Stock  2024-09-12 07:54:41.921721  \n",
       "1    19.99  Supplier C  Out of Stock  2024-09-12 07:54:41.921721  \n",
       "2    19.99  Supplier B      In Stock  2022-12-20 00:00:00.000000  \n",
       "3    49.99  Supplier B      In Stock  2022-12-20 00:00:00.000000  \n",
       "4     9.99  Supplier D  Out of Stock  2023-04-25 00:00:00.000000  \n",
       "..     ...         ...           ...                         ...  \n",
       "995  29.99  Supplier C      In Stock  2023-01-15 00:00:00.000000  \n",
       "996  19.99  Supplier B      In Stock  2022-12-20 00:00:00.000000  \n",
       "997   9.99  Supplier C     Low Stock  2023-05-03 00:00:00.000000  \n",
       "998  49.99  Supplier C     Low Stock  2022-12-20 00:00:00.000000  \n",
       "999  49.99  Supplier B  Out of Stock  2022-12-20 00:00:00.000000  \n",
       "\n",
       "[1000 rows x 10 columns]"
      ]
     },
     "execution_count": 760,
     "metadata": {},
     "output_type": "execute_result"
    }
   ],
   "source": [
    "#Import cleaned dataset\n",
    "df1 = pd.read_csv('data/cleaned_warehouse.csv')\n",
    "df1"
   ]
  },
  {
   "cell_type": "code",
   "execution_count": 761,
   "metadata": {},
   "outputs": [
    {
     "data": {
      "text/plain": [
       "Product_ID        0\n",
       "Product_Name      0\n",
       "Category          0\n",
       "Warehouse         0\n",
       "Location          0\n",
       "Quantity          0\n",
       "Price             0\n",
       "Supplier          0\n",
       "Status            0\n",
       "Last_Restocked    0\n",
       "dtype: int64"
      ]
     },
     "execution_count": 761,
     "metadata": {},
     "output_type": "execute_result"
    }
   ],
   "source": [
    "df1.isna().sum()"
   ]
  },
  {
   "cell_type": "markdown",
   "metadata": {},
   "source": [
    "### 1.Distribution of products across categories\n"
   ]
  },
  {
   "cell_type": "code",
   "execution_count": 762,
   "metadata": {},
   "outputs": [
    {
     "data": {
      "image/png": "[encoded data removed]",
      "text/plain": [
       "<Figure size 432x288 with 1 Axes>"
      ]
     },
     "metadata": {
      "needs_background": "light"
     },
     "output_type": "display_data"
    }
   ],
   "source": [
    "sns.countplot(data=df,y='Category')\n",
    "plt.title('Distribution of products across categories') ;#There seems to be a slight variation in the number of products across categories as illustrsted below.The furniture category \n",
    "#has the heaviest stock, indicating their popularity or demand, while toys have lowest or fewer products"
   ]
  },
  {
   "cell_type": "markdown",
   "metadata": {},
   "source": [
    "### 2.Price Distribution"
   ]
  },
  {
   "cell_type": "code",
   "execution_count": 763,
   "metadata": {},
   "outputs": [
    {
     "data": {
      "image/png": "[encoded data removed]",
      "text/plain": [
       "<Figure size 432x288 with 1 Axes>"
      ]
     },
     "metadata": {
      "needs_background": "light"
     },
     "output_type": "display_data"
    }
   ],
   "source": [
    "sns.histplot(df['Price'],kde=True)\n",
    "plt.title('Price Distribution of products');#the prices are distributed within a specific range, primariry clustering around the average price of $28 as can be observed below.This suggests\n",
    "#a standard pricing strategy with a few high-priced items"
   ]
  },
  {
   "cell_type": "markdown",
   "metadata": {},
   "source": [
    "### 3.Stock Status Distribution\n"
   ]
  },
  {
   "cell_type": "code",
   "execution_count": 764,
   "metadata": {},
   "outputs": [
    {
     "data": {
      "image/png": "[encoded data removed]",
      "text/plain": [
       "<Figure size 432x288 with 1 Axes>"
      ]
     },
     "metadata": {
      "needs_background": "light"
     },
     "output_type": "display_data"
    }
   ],
   "source": [
    "sns.countplot(data=df,y='Status')\n",
    "plt.title('Stock Status Distribution') ;#A slight majority of products seem to be in stock, but a siginifant portion is out of stock, which cld indicate\n",
    "#supply chain issues or high demand"
   ]
  },
  {
   "cell_type": "markdown",
   "metadata": {},
   "source": [
    "### 4.Relationship between Quantity and Price\n"
   ]
  },
  {
   "cell_type": "code",
   "execution_count": 765,
   "metadata": {},
   "outputs": [
    {
     "data": {
      "image/png": "[encoded data removed]",
      "text/plain": [
       "<Figure size 432x288 with 1 Axes>"
      ]
     },
     "metadata": {
      "needs_background": "light"
     },
     "output_type": "display_data"
    }
   ],
   "source": [
    "sns.scatterplot(data=df,x='Price',y='Quantity')\n",
    "plt.title('Relationship between Quantity and Price') ; #There seems to be no clear relationship between quantity and price as seen below, indicating the stcoking startegy might not be \n",
    "#directly influenced by price but rather by other factors such as demand or supploer constraint"
   ]
  },
  {
   "cell_type": "code",
   "execution_count": 766,
   "metadata": {},
   "outputs": [
    {
     "data": {
      "text/plain": [
       "-0.048760330357771414"
      ]
     },
     "execution_count": 766,
     "metadata": {},
     "output_type": "execute_result"
    }
   ],
   "source": [
    "np.corrcoef(df['Quantity'],df['Price'])[0][1]"
   ]
  },
  {
   "cell_type": "markdown",
   "metadata": {},
   "source": [
    "### 1.Frequency of Restocking Events by Supplier"
   ]
  },
  {
   "cell_type": "code",
   "execution_count": 767,
   "metadata": {},
   "outputs": [
    {
     "data": {
      "image/png": "[encoded data removed]",
      "text/plain": [
       "<Figure size 720x576 with 1 Axes>"
      ]
     },
     "metadata": {
      "needs_background": "light"
     },
     "output_type": "display_data"
    }
   ],
   "source": [
    "plt.figure(figsize=(10,8))\n",
    "sns.countplot(data=df,x='Supplier',hue='Last_Restocked');#The frequency of restocking varies by supplier.All suppliers seem to be having multiple restocking events which suggests amore frequent supply\n",
    "#chain connection or higher demand for their products"
   ]
  },
  {
   "cell_type": "markdown",
   "metadata": {},
   "source": [
    "### Detailed analysis of the warehouse data\n",
    "### A. Stock Analysis \n",
    "Stock analysis focused on understanding the availability of products across differenet categories, identifying out-of-stock products and analysing restock patterns\n",
    "\n",
    "We identified categories with higher average stock levels, highlighted products that were frequently out of tock and examined the restocking frequency of various suppliers"
   ]
  },
  {
   "cell_type": "markdown",
   "metadata": {},
   "source": [
    "### Stock Analysis Insights:\n",
    "### 1. Average Quantity per Product Category"
   ]
  },
  {
   "cell_type": "code",
   "execution_count": 768,
   "metadata": {},
   "outputs": [
    {
     "data": {
      "image/png": "[encoded data removed]",
      "text/plain": [
       "<Figure size 432x288 with 1 Axes>"
      ]
     },
     "metadata": {
      "needs_background": "light"
     },
     "output_type": "display_data"
    }
   ],
   "source": [
    "sns.barplot(data=df,x='Category',y='Quantity')\n",
    "plt.title('Average Quantity per Product category');#The average quantity per category varies only slightly.The \n",
    "#Furniture category has the lowest average quantities, potentially indicating less demand or higher turnover"
   ]
  },
  {
   "cell_type": "markdown",
   "metadata": {},
   "source": [
    "### 2.products frequently out of stock"
   ]
  },
  {
   "cell_type": "code",
   "execution_count": 769,
   "metadata": {},
   "outputs": [
    {
     "data": {
      "text/html": [
       "<div>\n",
       "<style scoped>\n",
       "    .dataframe tbody tr th:only-of-type {\n",
       "        vertical-align: middle;\n",
       "    }\n",
       "\n",
       "    .dataframe tbody tr th {\n",
       "        vertical-align: top;\n",
       "    }\n",
       "\n",
       "    .dataframe thead th {\n",
       "        text-align: right;\n",
       "    }\n",
       "</style>\n",
       "<table border=\"1\" class=\"dataframe\">\n",
       "  <thead>\n",
       "    <tr style=\"text-align: right;\">\n",
       "      <th></th>\n",
       "      <th>Product_ID</th>\n",
       "      <th>Product_Name</th>\n",
       "      <th>Category</th>\n",
       "      <th>Warehouse</th>\n",
       "      <th>Location</th>\n",
       "      <th>Quantity</th>\n",
       "      <th>Price</th>\n",
       "      <th>Supplier</th>\n",
       "      <th>Status</th>\n",
       "      <th>Last_Restocked</th>\n",
       "    </tr>\n",
       "  </thead>\n",
       "  <tbody>\n",
       "    <tr>\n",
       "      <th>1</th>\n",
       "      <td>1435</td>\n",
       "      <td>Gadget Y</td>\n",
       "      <td>Electronics</td>\n",
       "      <td>Warehouse 2</td>\n",
       "      <td>Aisle 4</td>\n",
       "      <td>200.0</td>\n",
       "      <td>19.99</td>\n",
       "      <td>Supplier C</td>\n",
       "      <td>Out of Stock</td>\n",
       "      <td>2024-09-12 07:54:41.921721</td>\n",
       "    </tr>\n",
       "    <tr>\n",
       "      <th>4</th>\n",
       "      <td>1106</td>\n",
       "      <td>Widget A</td>\n",
       "      <td>Furniture</td>\n",
       "      <td>Warehouse 3</td>\n",
       "      <td>Aisle 3</td>\n",
       "      <td>200.0</td>\n",
       "      <td>9.99</td>\n",
       "      <td>Supplier D</td>\n",
       "      <td>Out of Stock</td>\n",
       "      <td>2023-04-25 00:00:00.000000</td>\n",
       "    </tr>\n",
       "    <tr>\n",
       "      <th>7</th>\n",
       "      <td>1020</td>\n",
       "      <td>Widget C</td>\n",
       "      <td>Clothing</td>\n",
       "      <td>Warehouse 1</td>\n",
       "      <td>Aisle 5</td>\n",
       "      <td>200.0</td>\n",
       "      <td>9.99</td>\n",
       "      <td>Supplier D</td>\n",
       "      <td>Out of Stock</td>\n",
       "      <td>2022-12-20 00:00:00.000000</td>\n",
       "    </tr>\n",
       "    <tr>\n",
       "      <th>8</th>\n",
       "      <td>1614</td>\n",
       "      <td>Gadget Y</td>\n",
       "      <td>Electronics</td>\n",
       "      <td>Warehouse 3</td>\n",
       "      <td>Aisle 3</td>\n",
       "      <td>300.0</td>\n",
       "      <td>9.99</td>\n",
       "      <td>Supplier B</td>\n",
       "      <td>Out of Stock</td>\n",
       "      <td>2023-05-03 00:00:00.000000</td>\n",
       "    </tr>\n",
       "    <tr>\n",
       "      <th>9</th>\n",
       "      <td>1121</td>\n",
       "      <td>Widget B</td>\n",
       "      <td>Toys</td>\n",
       "      <td>Warehouse 1</td>\n",
       "      <td>Aisle 2</td>\n",
       "      <td>50.0</td>\n",
       "      <td>19.99</td>\n",
       "      <td>Supplier C</td>\n",
       "      <td>Out of Stock</td>\n",
       "      <td>2022-12-20 00:00:00.000000</td>\n",
       "    </tr>\n",
       "    <tr>\n",
       "      <th>...</th>\n",
       "      <td>...</td>\n",
       "      <td>...</td>\n",
       "      <td>...</td>\n",
       "      <td>...</td>\n",
       "      <td>...</td>\n",
       "      <td>...</td>\n",
       "      <td>...</td>\n",
       "      <td>...</td>\n",
       "      <td>...</td>\n",
       "      <td>...</td>\n",
       "    </tr>\n",
       "    <tr>\n",
       "      <th>988</th>\n",
       "      <td>1593</td>\n",
       "      <td>Widget B</td>\n",
       "      <td>Clothing</td>\n",
       "      <td>Warehouse 1</td>\n",
       "      <td>Aisle 1</td>\n",
       "      <td>100.0</td>\n",
       "      <td>29.99</td>\n",
       "      <td>Supplier A</td>\n",
       "      <td>Out of Stock</td>\n",
       "      <td>2023-04-25 00:00:00.000000</td>\n",
       "    </tr>\n",
       "    <tr>\n",
       "      <th>989</th>\n",
       "      <td>1882</td>\n",
       "      <td>Gadget X</td>\n",
       "      <td>Furniture</td>\n",
       "      <td>Warehouse 2</td>\n",
       "      <td>Aisle 5</td>\n",
       "      <td>200.0</td>\n",
       "      <td>9.99</td>\n",
       "      <td>Supplier D</td>\n",
       "      <td>Out of Stock</td>\n",
       "      <td>2023-05-03 00:00:00.000000</td>\n",
       "    </tr>\n",
       "    <tr>\n",
       "      <th>993</th>\n",
       "      <td>1920</td>\n",
       "      <td>Gadget Y</td>\n",
       "      <td>Furniture</td>\n",
       "      <td>Warehouse 1</td>\n",
       "      <td>Aisle 5</td>\n",
       "      <td>100.0</td>\n",
       "      <td>29.99</td>\n",
       "      <td>Supplier A</td>\n",
       "      <td>Out of Stock</td>\n",
       "      <td>2023-01-15 00:00:00.000000</td>\n",
       "    </tr>\n",
       "    <tr>\n",
       "      <th>994</th>\n",
       "      <td>1449</td>\n",
       "      <td>Gadget X</td>\n",
       "      <td>Furniture</td>\n",
       "      <td>Warehouse 2</td>\n",
       "      <td>Aisle 3</td>\n",
       "      <td>150.0</td>\n",
       "      <td>29.99</td>\n",
       "      <td>Supplier B</td>\n",
       "      <td>Out of Stock</td>\n",
       "      <td>2024-09-12 07:54:41.921721</td>\n",
       "    </tr>\n",
       "    <tr>\n",
       "      <th>999</th>\n",
       "      <td>1250</td>\n",
       "      <td>Widget A</td>\n",
       "      <td>Clothing</td>\n",
       "      <td>Warehouse 1</td>\n",
       "      <td>Aisle 3</td>\n",
       "      <td>100.0</td>\n",
       "      <td>49.99</td>\n",
       "      <td>Supplier B</td>\n",
       "      <td>Out of Stock</td>\n",
       "      <td>2022-12-20 00:00:00.000000</td>\n",
       "    </tr>\n",
       "  </tbody>\n",
       "</table>\n",
       "<p>332 rows × 10 columns</p>\n",
       "</div>"
      ],
      "text/plain": [
       "     Product_ID Product_Name     Category    Warehouse Location  Quantity  \\\n",
       "1          1435     Gadget Y  Electronics  Warehouse 2  Aisle 4     200.0   \n",
       "4          1106     Widget A    Furniture  Warehouse 3  Aisle 3     200.0   \n",
       "7          1020     Widget C     Clothing  Warehouse 1  Aisle 5     200.0   \n",
       "8          1614     Gadget Y  Electronics  Warehouse 3  Aisle 3     300.0   \n",
       "9          1121     Widget B         Toys  Warehouse 1  Aisle 2      50.0   \n",
       "..          ...          ...          ...          ...      ...       ...   \n",
       "988        1593     Widget B     Clothing  Warehouse 1  Aisle 1     100.0   \n",
       "989        1882     Gadget X    Furniture  Warehouse 2  Aisle 5     200.0   \n",
       "993        1920     Gadget Y    Furniture  Warehouse 1  Aisle 5     100.0   \n",
       "994        1449     Gadget X    Furniture  Warehouse 2  Aisle 3     150.0   \n",
       "999        1250     Widget A     Clothing  Warehouse 1  Aisle 3     100.0   \n",
       "\n",
       "     Price    Supplier        Status             Last_Restocked  \n",
       "1    19.99  Supplier C  Out of Stock 2024-09-12 07:54:41.921721  \n",
       "4     9.99  Supplier D  Out of Stock 2023-04-25 00:00:00.000000  \n",
       "7     9.99  Supplier D  Out of Stock 2022-12-20 00:00:00.000000  \n",
       "8     9.99  Supplier B  Out of Stock 2023-05-03 00:00:00.000000  \n",
       "9    19.99  Supplier C  Out of Stock 2022-12-20 00:00:00.000000  \n",
       "..     ...         ...           ...                        ...  \n",
       "988  29.99  Supplier A  Out of Stock 2023-04-25 00:00:00.000000  \n",
       "989   9.99  Supplier D  Out of Stock 2023-05-03 00:00:00.000000  \n",
       "993  29.99  Supplier A  Out of Stock 2023-01-15 00:00:00.000000  \n",
       "994  29.99  Supplier B  Out of Stock 2024-09-12 07:54:41.921721  \n",
       "999  49.99  Supplier B  Out of Stock 2022-12-20 00:00:00.000000  \n",
       "\n",
       "[332 rows x 10 columns]"
      ]
     },
     "execution_count": 769,
     "metadata": {},
     "output_type": "execute_result"
    }
   ],
   "source": [
    "out_stock = df.query('Status==\"Out of Stock\"')\n",
    "out_stock"
   ]
  },
  {
   "cell_type": "code",
   "execution_count": 770,
   "metadata": {},
   "outputs": [
    {
     "data": {
      "image/png": "[encoded data removed]",
      "text/plain": [
       "<Figure size 432x288 with 1 Axes>"
      ]
     },
     "metadata": {
      "needs_background": "light"
     },
     "output_type": "display_data"
    }
   ],
   "source": [
    "sns.countplot(data=out_stock, x='Product_Name',order=out_stock['Product_Name'].value_counts().index)\n",
    "plt.title('products Frequently out of stock');#Analysis shows that certain products(especially widget B) are \n",
    "#more frequently out of stock.These coul indicate high demand,supply chain issues or insufficient stock management.\n",
    "#These products may require close monitoring to avoid stockouts"
   ]
  },
  {
   "cell_type": "markdown",
   "metadata": {},
   "source": [
    "### 3.Most restocked products and their suppliers"
   ]
  },
  {
   "cell_type": "code",
   "execution_count": 771,
   "metadata": {},
   "outputs": [
    {
     "data": {
      "text/html": [
       "<div>\n",
       "<style scoped>\n",
       "    .dataframe tbody tr th:only-of-type {\n",
       "        vertical-align: middle;\n",
       "    }\n",
       "\n",
       "    .dataframe tbody tr th {\n",
       "        vertical-align: top;\n",
       "    }\n",
       "\n",
       "    .dataframe thead th {\n",
       "        text-align: right;\n",
       "    }\n",
       "</style>\n",
       "<table border=\"1\" class=\"dataframe\">\n",
       "  <thead>\n",
       "    <tr style=\"text-align: right;\">\n",
       "      <th></th>\n",
       "      <th>Product_ID</th>\n",
       "      <th>Product_Name</th>\n",
       "      <th>Category</th>\n",
       "      <th>Warehouse</th>\n",
       "      <th>Location</th>\n",
       "      <th>Quantity</th>\n",
       "      <th>Price</th>\n",
       "      <th>Supplier</th>\n",
       "      <th>Status</th>\n",
       "      <th>Last_Restocked</th>\n",
       "    </tr>\n",
       "  </thead>\n",
       "  <tbody>\n",
       "    <tr>\n",
       "      <th>0</th>\n",
       "      <td>1102</td>\n",
       "      <td>Gadget Y</td>\n",
       "      <td>Electronics</td>\n",
       "      <td>Warehouse 2</td>\n",
       "      <td>Aisle 1</td>\n",
       "      <td>300.0</td>\n",
       "      <td>9.99</td>\n",
       "      <td>Supplier C</td>\n",
       "      <td>In Stock</td>\n",
       "      <td>2024-09-12 07:54:41.921721</td>\n",
       "    </tr>\n",
       "    <tr>\n",
       "      <th>2</th>\n",
       "      <td>1860</td>\n",
       "      <td>Widget A</td>\n",
       "      <td>Clothing</td>\n",
       "      <td>Warehouse 2</td>\n",
       "      <td>Aisle 3</td>\n",
       "      <td>100.0</td>\n",
       "      <td>19.99</td>\n",
       "      <td>Supplier B</td>\n",
       "      <td>In Stock</td>\n",
       "      <td>2022-12-20 00:00:00.000000</td>\n",
       "    </tr>\n",
       "    <tr>\n",
       "      <th>3</th>\n",
       "      <td>1270</td>\n",
       "      <td>Gadget Z</td>\n",
       "      <td>Toys</td>\n",
       "      <td>Warehouse 2</td>\n",
       "      <td>Aisle 4</td>\n",
       "      <td>50.0</td>\n",
       "      <td>49.99</td>\n",
       "      <td>Supplier B</td>\n",
       "      <td>In Stock</td>\n",
       "      <td>2022-12-20 00:00:00.000000</td>\n",
       "    </tr>\n",
       "    <tr>\n",
       "      <th>5</th>\n",
       "      <td>1071</td>\n",
       "      <td>Widget B</td>\n",
       "      <td>Clothing</td>\n",
       "      <td>Warehouse 3</td>\n",
       "      <td>Aisle 5</td>\n",
       "      <td>300.0</td>\n",
       "      <td>29.99</td>\n",
       "      <td>Supplier A</td>\n",
       "      <td>In Stock</td>\n",
       "      <td>2022-12-20 00:00:00.000000</td>\n",
       "    </tr>\n",
       "    <tr>\n",
       "      <th>6</th>\n",
       "      <td>1700</td>\n",
       "      <td>Widget A</td>\n",
       "      <td>Clothing</td>\n",
       "      <td>Warehouse 2</td>\n",
       "      <td>Aisle 2</td>\n",
       "      <td>200.0</td>\n",
       "      <td>49.99</td>\n",
       "      <td>Supplier B</td>\n",
       "      <td>In Stock</td>\n",
       "      <td>2022-12-20 00:00:00.000000</td>\n",
       "    </tr>\n",
       "    <tr>\n",
       "      <th>...</th>\n",
       "      <td>...</td>\n",
       "      <td>...</td>\n",
       "      <td>...</td>\n",
       "      <td>...</td>\n",
       "      <td>...</td>\n",
       "      <td>...</td>\n",
       "      <td>...</td>\n",
       "      <td>...</td>\n",
       "      <td>...</td>\n",
       "      <td>...</td>\n",
       "    </tr>\n",
       "    <tr>\n",
       "      <th>986</th>\n",
       "      <td>1252</td>\n",
       "      <td>Gadget Y</td>\n",
       "      <td>Clothing</td>\n",
       "      <td>Warehouse 3</td>\n",
       "      <td>Aisle 4</td>\n",
       "      <td>200.0</td>\n",
       "      <td>29.99</td>\n",
       "      <td>Supplier A</td>\n",
       "      <td>In Stock</td>\n",
       "      <td>2023-05-03 00:00:00.000000</td>\n",
       "    </tr>\n",
       "    <tr>\n",
       "      <th>990</th>\n",
       "      <td>1255</td>\n",
       "      <td>Widget B</td>\n",
       "      <td>Clothing</td>\n",
       "      <td>Warehouse 2</td>\n",
       "      <td>Aisle 4</td>\n",
       "      <td>150.0</td>\n",
       "      <td>9.99</td>\n",
       "      <td>Supplier B</td>\n",
       "      <td>In Stock</td>\n",
       "      <td>2023-04-25 00:00:00.000000</td>\n",
       "    </tr>\n",
       "    <tr>\n",
       "      <th>992</th>\n",
       "      <td>1814</td>\n",
       "      <td>Gadget Y</td>\n",
       "      <td>Electronics</td>\n",
       "      <td>Warehouse 3</td>\n",
       "      <td>Aisle 1</td>\n",
       "      <td>150.0</td>\n",
       "      <td>19.99</td>\n",
       "      <td>Supplier B</td>\n",
       "      <td>In Stock</td>\n",
       "      <td>2024-09-12 07:54:41.921721</td>\n",
       "    </tr>\n",
       "    <tr>\n",
       "      <th>995</th>\n",
       "      <td>1009</td>\n",
       "      <td>Widget B</td>\n",
       "      <td>Furniture</td>\n",
       "      <td>Warehouse 2</td>\n",
       "      <td>Aisle 2</td>\n",
       "      <td>100.0</td>\n",
       "      <td>29.99</td>\n",
       "      <td>Supplier C</td>\n",
       "      <td>In Stock</td>\n",
       "      <td>2023-01-15 00:00:00.000000</td>\n",
       "    </tr>\n",
       "    <tr>\n",
       "      <th>996</th>\n",
       "      <td>1823</td>\n",
       "      <td>Gadget Y</td>\n",
       "      <td>Electronics</td>\n",
       "      <td>Warehouse 2</td>\n",
       "      <td>Aisle 3</td>\n",
       "      <td>300.0</td>\n",
       "      <td>19.99</td>\n",
       "      <td>Supplier B</td>\n",
       "      <td>In Stock</td>\n",
       "      <td>2022-12-20 00:00:00.000000</td>\n",
       "    </tr>\n",
       "  </tbody>\n",
       "</table>\n",
       "<p>340 rows × 10 columns</p>\n",
       "</div>"
      ],
      "text/plain": [
       "     Product_ID Product_Name     Category    Warehouse Location  Quantity  \\\n",
       "0          1102     Gadget Y  Electronics  Warehouse 2  Aisle 1     300.0   \n",
       "2          1860     Widget A     Clothing  Warehouse 2  Aisle 3     100.0   \n",
       "3          1270     Gadget Z         Toys  Warehouse 2  Aisle 4      50.0   \n",
       "5          1071     Widget B     Clothing  Warehouse 3  Aisle 5     300.0   \n",
       "6          1700     Widget A     Clothing  Warehouse 2  Aisle 2     200.0   \n",
       "..          ...          ...          ...          ...      ...       ...   \n",
       "986        1252     Gadget Y     Clothing  Warehouse 3  Aisle 4     200.0   \n",
       "990        1255     Widget B     Clothing  Warehouse 2  Aisle 4     150.0   \n",
       "992        1814     Gadget Y  Electronics  Warehouse 3  Aisle 1     150.0   \n",
       "995        1009     Widget B    Furniture  Warehouse 2  Aisle 2     100.0   \n",
       "996        1823     Gadget Y  Electronics  Warehouse 2  Aisle 3     300.0   \n",
       "\n",
       "     Price    Supplier    Status             Last_Restocked  \n",
       "0     9.99  Supplier C  In Stock 2024-09-12 07:54:41.921721  \n",
       "2    19.99  Supplier B  In Stock 2022-12-20 00:00:00.000000  \n",
       "3    49.99  Supplier B  In Stock 2022-12-20 00:00:00.000000  \n",
       "5    29.99  Supplier A  In Stock 2022-12-20 00:00:00.000000  \n",
       "6    49.99  Supplier B  In Stock 2022-12-20 00:00:00.000000  \n",
       "..     ...         ...       ...                        ...  \n",
       "986  29.99  Supplier A  In Stock 2023-05-03 00:00:00.000000  \n",
       "990   9.99  Supplier B  In Stock 2023-04-25 00:00:00.000000  \n",
       "992  19.99  Supplier B  In Stock 2024-09-12 07:54:41.921721  \n",
       "995  29.99  Supplier C  In Stock 2023-01-15 00:00:00.000000  \n",
       "996  19.99  Supplier B  In Stock 2022-12-20 00:00:00.000000  \n",
       "\n",
       "[340 rows x 10 columns]"
      ]
     },
     "execution_count": 771,
     "metadata": {},
     "output_type": "execute_result"
    }
   ],
   "source": [
    "in_stock = df.query('Status==\"In Stock\"')\n",
    "in_stock"
   ]
  },
  {
   "cell_type": "code",
   "execution_count": 772,
   "metadata": {},
   "outputs": [
    {
     "data": {
      "text/plain": [
       "Text(0.5, 1.0, 'Most restocked products and their supplies')"
      ]
     },
     "execution_count": 772,
     "metadata": {},
     "output_type": "execute_result"
    },
    {
     "data": {
      "image/png": "[encoded data removed]",
      "text/plain": [
       "<Figure size 432x288 with 1 Axes>"
      ]
     },
     "metadata": {
      "needs_background": "light"
     },
     "output_type": "display_data"
    }
   ],
   "source": [
    "sns.countplot(data=in_stock, x='Product_Name',hue='Supplier',order=in_stock['Product_Name'].value_counts().index)\n",
    "plt.title('Most restocked products and their supplies')"
   ]
  },
  {
   "cell_type": "markdown",
   "metadata": {},
   "source": [
    "### B.Supplier Analysis\n",
    "understanding the role of suppliers is vital for optimising stock levels and ensurng a reliable supply chain.The analysis revealed the no of products provided by each supplier, highlighted suppliers with frequent restocking events, and analysed the depedency of specific suppliers\n",
    "### Supplier Analysis Insights:\n",
    "### 1.Number of prodcusts supplied by each supplier"
   ]
  },
  {
   "cell_type": "code",
   "execution_count": 773,
   "metadata": {},
   "outputs": [
    {
     "data": {
      "image/png": "[encoded data removed]",
      "text/plain": [
       "<Figure size 432x288 with 1 Axes>"
      ]
     },
     "metadata": {
      "needs_background": "light"
     },
     "output_type": "display_data"
    }
   ],
   "source": [
    "sns.countplot(data=df, x='Supplier',order=df['Supplier'].value_counts().index); #The distribution of products supplied by different\n",
    "#suppliers is only slightly uneven, with supplier B providing significantly more products\n",
    "#This could indicate reliance on supplier B,which may impact supply chain reliance"
   ]
  },
  {
   "cell_type": "markdown",
   "metadata": {},
   "source": [
    "### 2.Average Restock Time per Supplier"
   ]
  },
  {
   "cell_type": "code",
   "execution_count": 774,
   "metadata": {},
   "outputs": [],
   "source": [
    "#Add year column\n",
    "df['Year'] = df['Last_Restocked'].dt.year"
   ]
  },
  {
   "cell_type": "code",
   "execution_count": 782,
   "metadata": {},
   "outputs": [
    {
     "data": {
      "text/html": [
       "<div>\n",
       "<style scoped>\n",
       "    .dataframe tbody tr th:only-of-type {\n",
       "        vertical-align: middle;\n",
       "    }\n",
       "\n",
       "    .dataframe tbody tr th {\n",
       "        vertical-align: top;\n",
       "    }\n",
       "\n",
       "    .dataframe thead th {\n",
       "        text-align: right;\n",
       "    }\n",
       "</style>\n",
       "<table border=\"1\" class=\"dataframe\">\n",
       "  <thead>\n",
       "    <tr style=\"text-align: right;\">\n",
       "      <th>Supplier</th>\n",
       "      <th>Supplier A</th>\n",
       "      <th>Supplier B</th>\n",
       "      <th>Supplier C</th>\n",
       "      <th>Supplier D</th>\n",
       "    </tr>\n",
       "    <tr>\n",
       "      <th>Year</th>\n",
       "      <th></th>\n",
       "      <th></th>\n",
       "      <th></th>\n",
       "      <th></th>\n",
       "    </tr>\n",
       "  </thead>\n",
       "  <tbody>\n",
       "    <tr>\n",
       "      <th>2022</th>\n",
       "      <td>53</td>\n",
       "      <td>60</td>\n",
       "      <td>58</td>\n",
       "      <td>47</td>\n",
       "    </tr>\n",
       "    <tr>\n",
       "      <th>2023</th>\n",
       "      <td>145</td>\n",
       "      <td>166</td>\n",
       "      <td>130</td>\n",
       "      <td>141</td>\n",
       "    </tr>\n",
       "    <tr>\n",
       "      <th>2024</th>\n",
       "      <td>46</td>\n",
       "      <td>62</td>\n",
       "      <td>44</td>\n",
       "      <td>48</td>\n",
       "    </tr>\n",
       "  </tbody>\n",
       "</table>\n",
       "</div>"
      ],
      "text/plain": [
       "Supplier  Supplier A  Supplier B  Supplier C  Supplier D\n",
       "Year                                                    \n",
       "2022              53          60          58          47\n",
       "2023             145         166         130         141\n",
       "2024              46          62          44          48"
      ]
     },
     "execution_count": 782,
     "metadata": {},
     "output_type": "execute_result"
    }
   ],
   "source": [
    "supplier_count = df.pivot_table(index='Year',columns='Supplier',aggfunc='size')\n",
    "supplier_count"
   ]
  },
  {
   "cell_type": "code",
   "execution_count": 784,
   "metadata": {},
   "outputs": [
    {
     "data": {
      "text/plain": [
       "<AxesSubplot:xlabel='Year'>"
      ]
     },
     "execution_count": 784,
     "metadata": {},
     "output_type": "execute_result"
    },
    {
     "data": {
      "image/png": "[encoded data removed]",
      "text/plain": [
       "<Figure size 432x288 with 1 Axes>"
      ]
     },
     "metadata": {
      "needs_background": "light"
     },
     "output_type": "display_data"
    }
   ],
   "source": [
    "supplier_count.plot(kind='bar',stacked=True)"
   ]
  },
  {
   "cell_type": "markdown",
   "metadata": {},
   "source": [
    "### 3.Dependency on Specific suppliers"
   ]
  },
  {
   "cell_type": "code",
   "execution_count": 788,
   "metadata": {},
   "outputs": [
    {
     "data": {
      "image/png": "[encoded data removed]",
      "text/plain": [
       "<Figure size 432x288 with 1 Axes>"
      ]
     },
     "metadata": {},
     "output_type": "display_data"
    }
   ],
   "source": [
    "suppliers_count = df['Supplier'].value_counts()\n",
    "plt.pie(suppliers_count,labels=suppliers_count.index,autopct='%1.1f%%');#The pie chart illustrates the proportion\n",
    "#of products supplied by each supplier.A significant dependency on supplier B is evident, with the proportion of products\n",
    "#supplied by them being approximately 29%. This might pose a risk if any of these suppliers' face disruptions"
   ]
  },
  {
   "cell_type": "markdown",
   "metadata": {},
   "source": [
    "### C. Stock Trends Analysis\n",
    "The analysis of stock trends over time, broken down by categories, suppliers and warehouses provided\n",
    "a comprehensive view of how stock levels fluctuate\n",
    "These trends are useful for making informed decisions about inventoty management, restocking schediles and optimising warehouse opererations. By comparing stock trends across different dimesnions,businessses can identify patterns and address issues proactively"
   ]
  },
  {
   "cell_type": "markdown",
   "metadata": {},
   "source": [
    "### Trends in Stock Levels Over Time:"
   ]
  },
  {
   "cell_type": "code",
   "execution_count": 816,
   "metadata": {},
   "outputs": [
    {
     "data": {
      "text/plain": [
       "Month\n",
       "2022-12    33500.0\n",
       "2023-01    32850.0\n",
       "2023-04    31000.0\n",
       "2023-05    30900.0\n",
       "2024-09    31350.0\n",
       "Freq: M, Name: Quantity, dtype: float64"
      ]
     },
     "execution_count": 816,
     "metadata": {},
     "output_type": "execute_result"
    }
   ],
   "source": [
    "#df['Month'] = df['Last_Restocked'].dt.month_name()\n",
    "df['Month'] = df['Last_Restocked'].dt.to_period('M')\n",
    "monthly_data = df.groupby('Month')['Quantity'].sum()\n",
    "monthly_data"
   ]
  },
  {
   "cell_type": "code",
   "execution_count": 820,
   "metadata": {},
   "outputs": [
    {
     "data": {
      "image/png": "[encoded data removed]",
      "text/plain": [
       "<Figure size 432x288 with 1 Axes>"
      ]
     },
     "metadata": {
      "needs_background": "light"
     },
     "output_type": "display_data"
    }
   ],
   "source": [
    "monthly_data.plot(kind='line',marker='o',color='b')\n",
    "plt.title('Trends in Stock Levels Over Time')\n",
    "plt.xlabel('Month')\n",
    "plt.ylabel('Total Stock Quantity')\n",
    "plt.grid(True);\n",
    "#The line chart illustrates the overall trend in stock levels over time aggregated by month.below are the observations:\n",
    "#1. Slunctuations in stock levels=They are visible fluctuations in the stock levels, with January of 2023 being the period that has the highest restocking activity followed by consumption or sales\n",
    "#2.sock managemenet Insight:understanding these trends can aid in optimising restocking schedules and ensuring that stock levels are maintained more consistently throughout the year, preventing stockouts or overstock situations"
   ]
  },
  {
   "cell_type": "markdown",
   "metadata": {},
   "source": [
    "### Trends in Stock levels over time by category:"
   ]
  },
  {
   "cell_type": "code",
   "execution_count": 831,
   "metadata": {},
   "outputs": [
    {
     "data": {
      "text/html": [
       "<div>\n",
       "<style scoped>\n",
       "    .dataframe tbody tr th:only-of-type {\n",
       "        vertical-align: middle;\n",
       "    }\n",
       "\n",
       "    .dataframe tbody tr th {\n",
       "        vertical-align: top;\n",
       "    }\n",
       "\n",
       "    .dataframe thead th {\n",
       "        text-align: right;\n",
       "    }\n",
       "</style>\n",
       "<table border=\"1\" class=\"dataframe\">\n",
       "  <thead>\n",
       "    <tr style=\"text-align: right;\">\n",
       "      <th>Category</th>\n",
       "      <th>Clothing</th>\n",
       "      <th>Electronics</th>\n",
       "      <th>Furniture</th>\n",
       "      <th>Toys</th>\n",
       "    </tr>\n",
       "    <tr>\n",
       "      <th>Month</th>\n",
       "      <th></th>\n",
       "      <th></th>\n",
       "      <th></th>\n",
       "      <th></th>\n",
       "    </tr>\n",
       "  </thead>\n",
       "  <tbody>\n",
       "    <tr>\n",
       "      <th>2022-12</th>\n",
       "      <td>8400.0</td>\n",
       "      <td>9150.0</td>\n",
       "      <td>8950.0</td>\n",
       "      <td>7000.0</td>\n",
       "    </tr>\n",
       "    <tr>\n",
       "      <th>2023-01</th>\n",
       "      <td>8250.0</td>\n",
       "      <td>7050.0</td>\n",
       "      <td>10050.0</td>\n",
       "      <td>7500.0</td>\n",
       "    </tr>\n",
       "    <tr>\n",
       "      <th>2023-04</th>\n",
       "      <td>7600.0</td>\n",
       "      <td>8300.0</td>\n",
       "      <td>7450.0</td>\n",
       "      <td>7650.0</td>\n",
       "    </tr>\n",
       "    <tr>\n",
       "      <th>2023-05</th>\n",
       "      <td>8400.0</td>\n",
       "      <td>6700.0</td>\n",
       "      <td>7700.0</td>\n",
       "      <td>8100.0</td>\n",
       "    </tr>\n",
       "    <tr>\n",
       "      <th>2024-09</th>\n",
       "      <td>8150.0</td>\n",
       "      <td>8600.0</td>\n",
       "      <td>6600.0</td>\n",
       "      <td>8000.0</td>\n",
       "    </tr>\n",
       "  </tbody>\n",
       "</table>\n",
       "</div>"
      ],
      "text/plain": [
       "Category  Clothing  Electronics  Furniture    Toys\n",
       "Month                                             \n",
       "2022-12     8400.0       9150.0     8950.0  7000.0\n",
       "2023-01     8250.0       7050.0    10050.0  7500.0\n",
       "2023-04     7600.0       8300.0     7450.0  7650.0\n",
       "2023-05     8400.0       6700.0     7700.0  8100.0\n",
       "2024-09     8150.0       8600.0     6600.0  8000.0"
      ]
     },
     "execution_count": 831,
     "metadata": {},
     "output_type": "execute_result"
    }
   ],
   "source": [
    "stock_trend_by_category = df.groupby(['Month','Category'])['Quantity'].sum().unstack()\n",
    "stock_trend_by_category"
   ]
  },
  {
   "cell_type": "code",
   "execution_count": 833,
   "metadata": {},
   "outputs": [
    {
     "data": {
      "text/plain": [
       "<AxesSubplot:xlabel='Month'>"
      ]
     },
     "execution_count": 833,
     "metadata": {},
     "output_type": "execute_result"
    },
    {
     "data": {
      "image/png": "[encoded data removed]",
      "text/plain": [
       "<Figure size 432x288 with 1 Axes>"
      ]
     },
     "metadata": {
      "needs_background": "light"
     },
     "output_type": "display_data"
    }
   ],
   "source": [
    "stock_trend_by_category.plot(kind='line',marker='o')\n",
    "#The line chart shows the stock trend for different categories over time. Key observations include:\n",
    "#1.category specific fluctuation:each cat has diffrent trends with some showing more stabiity in stock levels, while others experience significant fluctuations\n",
    "#2Toys and clothing.seem to have a more consistent restockng patterns, though they alsp exhibit noticeable peaks and throughts at certain times\n",
    "#3. Electronics and furniture:show more pronunced variablity with distict peaks and dips possibly reflecting seasonality or varying demand"
   ]
  },
  {
   "cell_type": "markdown",
   "metadata": {},
   "source": [
    "### D.Warehouse utilisation\n",
    "analysed by examining stock trends across different warehouses. This analysis provides insights into how\n",
    "each warehouse contributes to overall stock management,highlighting periods of high activity and identifying potential areas for optimisation\n",
    "### Trends in Stock Levels over time by warehouse"
   ]
  },
  {
   "cell_type": "code",
   "execution_count": 837,
   "metadata": {},
   "outputs": [
    {
     "data": {
      "text/html": [
       "<div>\n",
       "<style scoped>\n",
       "    .dataframe tbody tr th:only-of-type {\n",
       "        vertical-align: middle;\n",
       "    }\n",
       "\n",
       "    .dataframe tbody tr th {\n",
       "        vertical-align: top;\n",
       "    }\n",
       "\n",
       "    .dataframe thead th {\n",
       "        text-align: right;\n",
       "    }\n",
       "</style>\n",
       "<table border=\"1\" class=\"dataframe\">\n",
       "  <thead>\n",
       "    <tr style=\"text-align: right;\">\n",
       "      <th>Warehouse</th>\n",
       "      <th>Warehouse 1</th>\n",
       "      <th>Warehouse 2</th>\n",
       "      <th>Warehouse 3</th>\n",
       "    </tr>\n",
       "    <tr>\n",
       "      <th>Month</th>\n",
       "      <th></th>\n",
       "      <th></th>\n",
       "      <th></th>\n",
       "    </tr>\n",
       "  </thead>\n",
       "  <tbody>\n",
       "    <tr>\n",
       "      <th>2022-12</th>\n",
       "      <td>11100.0</td>\n",
       "      <td>11850.0</td>\n",
       "      <td>10550.0</td>\n",
       "    </tr>\n",
       "    <tr>\n",
       "      <th>2023-01</th>\n",
       "      <td>12350.0</td>\n",
       "      <td>9150.0</td>\n",
       "      <td>11350.0</td>\n",
       "    </tr>\n",
       "    <tr>\n",
       "      <th>2023-04</th>\n",
       "      <td>12050.0</td>\n",
       "      <td>10300.0</td>\n",
       "      <td>8650.0</td>\n",
       "    </tr>\n",
       "    <tr>\n",
       "      <th>2023-05</th>\n",
       "      <td>9200.0</td>\n",
       "      <td>8550.0</td>\n",
       "      <td>13150.0</td>\n",
       "    </tr>\n",
       "    <tr>\n",
       "      <th>2024-09</th>\n",
       "      <td>11150.0</td>\n",
       "      <td>12400.0</td>\n",
       "      <td>7800.0</td>\n",
       "    </tr>\n",
       "  </tbody>\n",
       "</table>\n",
       "</div>"
      ],
      "text/plain": [
       "Warehouse  Warehouse 1  Warehouse 2  Warehouse 3\n",
       "Month                                           \n",
       "2022-12        11100.0      11850.0      10550.0\n",
       "2023-01        12350.0       9150.0      11350.0\n",
       "2023-04        12050.0      10300.0       8650.0\n",
       "2023-05         9200.0       8550.0      13150.0\n",
       "2024-09        11150.0      12400.0       7800.0"
      ]
     },
     "execution_count": 837,
     "metadata": {},
     "output_type": "execute_result"
    }
   ],
   "source": [
    "stock_trend_warehouse =  df.groupby(['Month','Warehouse'])['Quantity'].sum().unstack()\n",
    "stock_trend_warehouse"
   ]
  },
  {
   "cell_type": "code",
   "execution_count": 843,
   "metadata": {},
   "outputs": [
    {
     "data": {
      "image/png": "[encoded data removed]",
      "text/plain": [
       "<Figure size 432x288 with 1 Axes>"
      ]
     },
     "metadata": {
      "needs_background": "light"
     },
     "output_type": "display_data"
    }
   ],
   "source": [
    "stock_trend_warehouse.plot(kind='line',marker='o')\n",
    "plt.title('Trends in Stock Levels Over Time by Warehouse')\n",
    "plt.xlabel('Month')\n",
    "plt.ylabel('Total Stock Quantity')\n",
    "plt.legend(title='Warehouse', bbox_to_anchor=(1.05, 1), loc='upper left')\n",
    "plt.grid(True); #The line chart shows stock tremds across diffrenet warehouses over time.Here are the key observations\n",
    "#1.Warehouse 2 appears to maintain relatively stable stock leverls, though it has experienced fluctuations that might correspond to specific restocking events or high-demand period\n",
    "#2.warehouse 1.shows more variablity in stock levels, with some noticeable peaks and troughs, indictaing periods of increased activity or demand\n",
    "#3.Warehouse 3: seems to have most dynamic stock levels, with significant fluctuations\n",
    "#4.Comparison:The comparison shows that each warehouse has its own unique trend, likely influenced by the types of products stored, the role of the warehouse in the overall logistics network, and possibly regional demand differences."
   ]
  },
  {
   "cell_type": "markdown",
   "metadata": {},
   "source": [
    "### Trends in stock levels over time by supplier"
   ]
  },
  {
   "cell_type": "code",
   "execution_count": 845,
   "metadata": {},
   "outputs": [
    {
     "data": {
      "text/html": [
       "<div>\n",
       "<style scoped>\n",
       "    .dataframe tbody tr th:only-of-type {\n",
       "        vertical-align: middle;\n",
       "    }\n",
       "\n",
       "    .dataframe tbody tr th {\n",
       "        vertical-align: top;\n",
       "    }\n",
       "\n",
       "    .dataframe thead th {\n",
       "        text-align: right;\n",
       "    }\n",
       "</style>\n",
       "<table border=\"1\" class=\"dataframe\">\n",
       "  <thead>\n",
       "    <tr style=\"text-align: right;\">\n",
       "      <th>Supplier</th>\n",
       "      <th>Supplier A</th>\n",
       "      <th>Supplier B</th>\n",
       "      <th>Supplier C</th>\n",
       "      <th>Supplier D</th>\n",
       "    </tr>\n",
       "    <tr>\n",
       "      <th>Month</th>\n",
       "      <th></th>\n",
       "      <th></th>\n",
       "      <th></th>\n",
       "      <th></th>\n",
       "    </tr>\n",
       "  </thead>\n",
       "  <tbody>\n",
       "    <tr>\n",
       "      <th>2022-12</th>\n",
       "      <td>8500.0</td>\n",
       "      <td>8850.0</td>\n",
       "      <td>8750.0</td>\n",
       "      <td>7400.0</td>\n",
       "    </tr>\n",
       "    <tr>\n",
       "      <th>2023-01</th>\n",
       "      <td>7250.0</td>\n",
       "      <td>10100.0</td>\n",
       "      <td>8100.0</td>\n",
       "      <td>7400.0</td>\n",
       "    </tr>\n",
       "    <tr>\n",
       "      <th>2023-04</th>\n",
       "      <td>7300.0</td>\n",
       "      <td>9650.0</td>\n",
       "      <td>5800.0</td>\n",
       "      <td>8250.0</td>\n",
       "    </tr>\n",
       "    <tr>\n",
       "      <th>2023-05</th>\n",
       "      <td>8250.0</td>\n",
       "      <td>7800.0</td>\n",
       "      <td>7100.0</td>\n",
       "      <td>7750.0</td>\n",
       "    </tr>\n",
       "    <tr>\n",
       "      <th>2024-09</th>\n",
       "      <td>7600.0</td>\n",
       "      <td>8200.0</td>\n",
       "      <td>7050.0</td>\n",
       "      <td>8500.0</td>\n",
       "    </tr>\n",
       "  </tbody>\n",
       "</table>\n",
       "</div>"
      ],
      "text/plain": [
       "Supplier  Supplier A  Supplier B  Supplier C  Supplier D\n",
       "Month                                                   \n",
       "2022-12       8500.0      8850.0      8750.0      7400.0\n",
       "2023-01       7250.0     10100.0      8100.0      7400.0\n",
       "2023-04       7300.0      9650.0      5800.0      8250.0\n",
       "2023-05       8250.0      7800.0      7100.0      7750.0\n",
       "2024-09       7600.0      8200.0      7050.0      8500.0"
      ]
     },
     "execution_count": 845,
     "metadata": {},
     "output_type": "execute_result"
    }
   ],
   "source": [
    "stock_trend_supplier =  df.groupby(['Month','Supplier'])['Quantity'].sum().unstack()\n",
    "stock_trend_supplier"
   ]
  },
  {
   "cell_type": "code",
   "execution_count": 846,
   "metadata": {},
   "outputs": [
    {
     "data": {
      "text/plain": [
       "<AxesSubplot:xlabel='Month'>"
      ]
     },
     "execution_count": 846,
     "metadata": {},
     "output_type": "execute_result"
    },
    {
     "data": {
      "image/png": "[encoded data removed]",
      "text/plain": [
       "<Figure size 432x288 with 1 Axes>"
      ]
     },
     "metadata": {
      "needs_background": "light"
     },
     "output_type": "display_data"
    }
   ],
   "source": [
    "stock_trend_supplier.plot(kind='line',marker='o');"
   ]
  },
  {
   "cell_type": "markdown",
   "metadata": {},
   "source": [
    "The line chart compares stock trends across different suppliers over time. Here are some insights:\n",
    "\n",
    "Distinct Patterns for Each Supplier:\n",
    "- Each supplier exhibits unique stock trends, reflecting differences in their supply schedules, product demand, or the variety of products they provide.\n",
    "- Supplier A and Supplier D:\n",
    "These suppliers show relatively consistent stock levels over time, with minor fluctuations. This could indicate steady supply and demand for the products they provide.\n",
    "- Supplier C:\n",
    "This supplier shows more significant fluctuations, with periods of high restocking followed by sharp declines. This could be due to high demand for specific products, irregular restocking, or seasonal effects.\n",
    "- Supplier B:\n",
    "Supplier B seems to have the most volatile trend, with sharp peaks and valleys, possibly indicating challenges in maintaining consistent stock levels or varying demand for their products."
   ]
  },
  {
   "cell_type": "markdown",
   "metadata": {},
   "source": [
    "### Summary of warehouse analysis\n",
    "The analysis carried out above is by no means exhaustive but does provide a good starting point for further detailed analyses into specific aspects of the warehouse management data.\n",
    "\n",
    "However, several key takeaways can be derived from the analysis performed so far.\n",
    "\n",
    "### Key observations\n",
    "- Category and Product Management: Certain categories, such as Electronics and Furniture, maintain more stable stock levels, while others like Clothing and Toys show more volatility.\n",
    "This suggests that some categories might benefit from more dynamic stock management strategies to prevent stockouts.\n",
    "- Supplier Dependency: The analysis revealed a significant dependency on a few key suppliers.\n",
    "This concentration poses a risk if these suppliers face supply chain disruptions. Diversifying the supplier base could help mitigate this risk.\n",
    "- Warehouse Utilisation: Different warehouses exhibit unique stock level trends, with some showing significant fluctuations.\n",
    "Understanding these trends allows for better space utilisation and inventory distribution across warehouses.\n",
    "- Stock Trends: The analysis of stock trends over time indicates that certain products and suppliers follow specific restocking patterns.\n",
    "Recognising these patterns can help in scheduling restocks more effectively and reducing the risk of stockouts.\n",
    "### Suggestions for Improvement at the Warehouse\n",
    "- Dynamic Inventory Management:\n",
    "Implement more dynamic inventory management practices that adjust stock levels based on real-time demand and sales forecasts.\n",
    "This can help prevent stockouts, especially for high-demand products.\n",
    "- Supplier Diversification:\n",
    "Consider diversifying the supplier base to reduce dependency on a few key suppliers.\n",
    "This will improve supply chain resilience and reduce the risk of disruptions.\n",
    "- Warehouse Optimisation:\n",
    "Review warehouse utilisation to optimise space and ensure that high-demand products are easily accessible.\n",
    "Implementing advanced warehouse management systems (WMS) can aid in better space utilisation and inventory tracking.\n",
    "- Data-Driven Decision Making:\n",
    "Utilise the insights gained from stock trends to inform decision-making. Regularly monitor these trends to adjust inventory policies, restocking schedules, and supplier relationships.\n",
    "- Seasonal Planning:\n",
    "Given the observed fluctuations in certain categories, implementing seasonal planning can help manage inventory levels more effectively.\n",
    "Adjust stock levels ahead of peak seasons based on historical data.\n",
    "### Conclusion\n",
    "This basic yet detailed analysis of warehouse stock trends offers valuable insights into the dynamics of warehouse management.\n",
    "\n",
    "By understanding how different factors such as product categories, suppliers, and warehouses impact stock levels, businesses can make more informed decisions, optimise their supply chains, and improve overall efficiency.\n",
    "\n",
    "Whether it’s managing stockouts, enhancing supplier relationships, or optimising warehouse space, the insights gained from this analysis can lead to more effective and strategic warehouse management."
   ]
  },
  {
   "cell_type": "code",
   "execution_count": null,
   "metadata": {},
   "outputs": [],
   "source": []
  }
 ],
 "metadata": {
  "kernelspec": {
   "display_name": "learn-env",
   "language": "python",
   "name": "python3"
  },
  "language_info": {
   "codemirror_mode": {
    "name": "ipython",
    "version": 3
   },
   "file_extension": ".py",
   "mimetype": "text/x-python",
   "name": "python",
   "nbconvert_exporter": "python",
   "pygments_lexer": "ipython3",
   "version": "3.8.5"
  }
 },
 "nbformat": 4,
 "nbformat_minor": 2
}
