{
 "cells": [
  {
   "cell_type": "code",
   "execution_count": 21,
   "metadata": {},
   "outputs": [
    {
     "data": {
      "text/plain": [
       "[[13.1, 13.59, 13.44],\n",
       " [13.93, 13.85, 13.47],\n",
       " [14.12, 14.41, 13.89],\n",
       " [14.42, 13.55, 13.43]]"
      ]
     },
     "execution_count": 21,
     "metadata": {},
     "output_type": "execute_result"
    }
   ],
   "source": [
    "track_times = [\n",
    "    [13.10, 13.59, 13.44],\n",
    "    [13.93, 13.85, 13.47],\n",
    "    [14.12, 14.41, 13.89],\n",
    "    [14.42, 13.55, 13.43]\n",
    "]\n",
    "track_times"
   ]
  },
  {
   "cell_type": "code",
   "execution_count": 22,
   "metadata": {},
   "outputs": [
    {
     "name": "stdout",
     "output_type": "stream",
     "text": [
      "13.1,13.59,13.44\n",
      "13.93,13.85,13.47\n",
      "14.12,14.41,13.89\n",
      "14.42,13.55,13.43\n"
     ]
    }
   ],
   "source": [
    "#Serialize (we get CSV from this lists of lists)\n",
    "track_times_csv=''\n",
    "\n",
    "#loop over all lists in the overall list\n",
    "for index,athlete_times in enumerate(track_times):\n",
    "    #Join together the values in the nested list using\n",
    "    #a comma as a separator\n",
    "    athlete_times_string = ','.join([str(time) for time in athlete_times])\n",
    "    #print(athlete_times_string)\n",
    "    #Append the values to the overall string \n",
    "    track_times_csv += athlete_times_string\n",
    "    #Append a newline,unless this is the last row\n",
    "    if index < (len(track_times)-1):\n",
    "        track_times_csv += '\\n'\n",
    "print(track_times_csv)"
   ]
  },
  {
   "cell_type": "code",
   "execution_count": 24,
   "metadata": {},
   "outputs": [],
   "source": [
    "#Write to a file\n",
    "with open('track_times.csv','w') as f:\n",
    "    f.write(track_times_csv)"
   ]
  },
  {
   "cell_type": "code",
   "execution_count": 25,
   "metadata": {},
   "outputs": [
    {
     "name": "stdout",
     "output_type": "stream",
     "text": [
      "13.1,13.59,13.44\n",
      "13.93,13.85,13.47\n",
      "14.12,14.41,13.89\n",
      "14.42,13.55,13.43\n"
     ]
    }
   ],
   "source": [
    "#open the file\n",
    "with open('track_times.csv') as f:\n",
    "    track_times_csv_from_disk = f.read()\n",
    "print(track_times_csv_from_disk)"
   ]
  },
  {
   "cell_type": "code",
   "execution_count": 31,
   "metadata": {},
   "outputs": [
    {
     "data": {
      "text/plain": [
       "[[13.1, 13.59, 13.44],\n",
       " [13.93, 13.85, 13.47],\n",
       " [14.12, 14.41, 13.89],\n",
       " [14.42, 13.55, 13.43]]"
      ]
     },
     "execution_count": 31,
     "metadata": {},
     "output_type": "execute_result"
    }
   ],
   "source": [
    "#Deserialixe the data back into a list of lists\n",
    "track_times_from_disk = []\n",
    "for row in track_times_csv_from_disk.split('\\n'):\n",
    "    times = [float(time) for time in row.split(',')]\n",
    "    track_times_from_disk.append(times)\n",
    "track_times_from_disk"
   ]
  },
  {
   "cell_type": "code",
   "execution_count": 32,
   "metadata": {},
   "outputs": [
    {
     "data": {
      "text/plain": [
       "True"
      ]
     },
     "execution_count": 32,
     "metadata": {},
     "output_type": "execute_result"
    }
   ],
   "source": [
    "#If we did everything correctly, this new list of lists should contain the exact same data as the original:\n",
    "track_times_from_disk == track_times"
   ]
  },
  {
   "cell_type": "markdown",
   "metadata": {},
   "source": [
    "### csv Module\n",
    "That wasn't too bad, but in general you don't actually need to serialize and deserialize your data \"by hand\" like that. Instead, there is a module built in to Python called csv that can do the same thing using fewer lines of code! It also has helpful functionality for dealing with:\n",
    "\n",
    "CSV files with headers that indicate what each column represents\n",
    "More kinds of plain text delimited data, such as tab-separated values (TSV) files (where the delimiter is a tab \\t rather than a comma)\n",
    "Properly handling text data inside a CSV, e.g. if your data contains the text \"Hello, World!\" you want to make sure that the , is treated as part of the contents of that cell, not treated as a delimiter separating the columns\n",
    "Reading and writing CSV files that are compatible with spreadsheet software such as Excel\n",
    "You can find full documentation for this module here.\n",
    "\n",
    "To use the csv module, start by importing it:"
   ]
  },
  {
   "cell_type": "code",
   "execution_count": 39,
   "metadata": {},
   "outputs": [
    {
     "data": {
      "text/plain": [
       "[[13.1, 13.59, 13.44],\n",
       " [13.93, 13.85, 13.47],\n",
       " [14.12, 14.41, 13.89],\n",
       " [14.42, 13.55, 13.43]]"
      ]
     },
     "execution_count": 39,
     "metadata": {},
     "output_type": "execute_result"
    }
   ],
   "source": [
    "import csv\n",
    "#csv.reader\n",
    "#If we wanted to replicate the previous example of opening the track times CSV, this time using the csv module, that would look like this:\n",
    "with open('track_times.csv') as f:\n",
    "    #pass the file into a 'reader' object and specify that\n",
    "    #values without explicit quotes(i.e all values in this dataset) should\n",
    "    #be treated as numbers\n",
    "    #reader = list(csv.reader(f,quoting=csv.QUOTE_NONNUMERIC))\n",
    "    reader = csv.reader(f,quoting=csv.QUOTE_NONNUMERIC)\n",
    "    #Get all of the data from the reader using 'list'\n",
    "    track_times_with_csv_module=list(reader)\n",
    "track_times_with_csv_module"
   ]
  },
  {
   "cell_type": "code",
   "execution_count": 108,
   "metadata": {},
   "outputs": [
    {
     "name": "stdout",
     "output_type": "stream",
     "text": [
      "['Gender', 'Event', 'Location', 'Year', 'Medal', 'Name', 'Nationality', 'Result']\n",
      "['M', '10000M Men', 'Rio', '2016', 'G', 'Mohamed FARAH', 'GBR', '25:05.17']\n",
      "['M', '10000M Men', 'Rio', '2016', 'S', 'Paul Kipngetich TANUI', 'KEN', '27:05.64']\n",
      "['M', '10000M Men', 'Rio', '2016', 'B', 'Tamirat TOLA', 'ETH', '27:06.26']\n",
      "['M', '10000M Men', 'Beijing', '2008', 'G', 'Kenenisa BEKELE', 'ETH', '27:01.17']\n",
      "['M', '10000M Men', 'Beijing', '2008', 'S', 'Sileshi SIHINE', 'ETH', '27:02.77']\n"
     ]
    }
   ],
   "source": [
    "#Try using csv.reader\n",
    "# encoding='utf-8' prevents decoding error\n",
    "with open('olympic_medals.csv', encoding='utf-8') as f:\n",
    "    reader = csv.reader(f)\n",
    "    #printing only the header and the first 5 rows of data\n",
    "    for i in range(6):\n",
    "        print(next(reader))\n"
   ]
  },
  {
   "cell_type": "markdown",
   "metadata": {},
   "source": [
    "Then we could use list indexing to access the gender field of a given row using [0] or the nationality field using [-2]. But you can see how that would create some hard-to-read and error-prone code!\n",
    "\n",
    "Fortunately we aren't limited to just using the list data structure — we can use a dict instead, so that we could look up the gender field using [\"Gender\"] or the nationality field using [\"Nationality\"].\n",
    "\n",
    "In order to read the data in as a list of dictionaries rather than a list of lists, we can use csv.DictReader:"
   ]
  },
  {
   "cell_type": "code",
   "execution_count": 56,
   "metadata": {
    "scrolled": true
   },
   "outputs": [
    {
     "name": "stdout",
     "output_type": "stream",
     "text": [
      "{'Gender': 'M', 'Event': '10000M Men', 'Location': 'Rio', 'Year': '2016', 'Medal': 'G', 'Name': 'Mohamed FARAH', 'Nationality': 'GBR', 'Result': '25:05.17'}\n",
      "{'Gender': 'M', 'Event': '10000M Men', 'Location': 'Rio', 'Year': '2016', 'Medal': 'S', 'Name': 'Paul Kipngetich TANUI', 'Nationality': 'KEN', 'Result': '27:05.64'}\n",
      "{'Gender': 'M', 'Event': '10000M Men', 'Location': 'Rio', 'Year': '2016', 'Medal': 'B', 'Name': 'Tamirat TOLA', 'Nationality': 'ETH', 'Result': '27:06.26'}\n",
      "{'Gender': 'M', 'Event': '10000M Men', 'Location': 'Beijing', 'Year': '2008', 'Medal': 'G', 'Name': 'Kenenisa BEKELE', 'Nationality': 'ETH', 'Result': '27:01.17'}\n",
      "{'Gender': 'M', 'Event': '10000M Men', 'Location': 'Beijing', 'Year': '2008', 'Medal': 'S', 'Name': 'Sileshi SIHINE', 'Nationality': 'ETH', 'Result': '27:02.77'}\n"
     ]
    }
   ],
   "source": [
    "with open('olympic_medals.csv', encoding='utf-8') as f:\n",
    "    olympics_data = list(csv.DictReader(f))\n",
    "    #print the first 5 rows of data\n",
    "    for index in range(5):\n",
    "        print(olympics_data[index])"
   ]
  },
  {
   "cell_type": "code",
   "execution_count": 57,
   "metadata": {},
   "outputs": [
    {
     "data": {
      "text/plain": [
       "2394"
      ]
     },
     "execution_count": 57,
     "metadata": {},
     "output_type": "execute_result"
    }
   ],
   "source": [
    "# The number of rows in the dataset is just the length of the resulting list:\n",
    "len(olympics_data)"
   ]
  },
  {
   "cell_type": "markdown",
   "metadata": {},
   "source": [
    "### Now we can perform data analysis and cleaning tasks in a neater, clearer way.\n",
    "\n",
    "##### 1.For example, if our task was filter the data so that it only includes gold medals, that logic would look something like this:"
   ]
  },
  {
   "cell_type": "code",
   "execution_count": 73,
   "metadata": {},
   "outputs": [
    {
     "name": "stdout",
     "output_type": "stream",
     "text": [
      "out of 2394 total medals, this dataset contains      information about 799 gold medals\n"
     ]
    }
   ],
   "source": [
    "gold_medals = []\n",
    "for gold in olympics_data:\n",
    "    if gold['Medal'] == 'G':\n",
    "        gold_medals.append(gold)\n",
    "\n",
    "print(f'out of {len(olympics_data)} total medals, this dataset contains\\\n",
    "      information about {len(gold_medals)} gold medals')"
   ]
  },
  {
   "cell_type": "code",
   "execution_count": 74,
   "metadata": {},
   "outputs": [
    {
     "name": "stdout",
     "output_type": "stream",
     "text": [
      "out of 2394 total medals, this dataset contains      information about 799 gold medals\n"
     ]
    }
   ],
   "source": [
    "#using list comprehension\n",
    "gold_medals2 = [gold for gold in olympics_data if gold['Medal'] == 'G']\n",
    "\n",
    "print(f'out of {len(olympics_data)} total medals, this dataset contains\\\n",
    "      information about {len(gold_medals2)} gold medals')"
   ]
  },
  {
   "cell_type": "markdown",
   "metadata": {},
   "source": [
    "#### 2.Or if it was for all USA gold medals in 2016, what were the events and the names of the athletes, that logic would look something like this:"
   ]
  },
  {
   "cell_type": "code",
   "execution_count": 100,
   "metadata": {},
   "outputs": [
    {
     "data": {
      "text/plain": [
       "[{'Event': '1500M Men', 'Name': 'Matthew CENTROWITZ'},\n",
       " {'Event': '400M Hurdles Men', 'Name': 'Kerron CLEMENT'},\n",
       " {'Event': '4X400M Relay Men', 'Name': 'null'},\n",
       " {'Event': 'Decathlon Men', 'Name': 'Ashton EATON'},\n",
       " {'Event': 'Long Jump Men', 'Name': 'Jeff HENDERSON'},\n",
       " {'Event': 'Shot Put Men', 'Name': 'Ryan CROUSER'},\n",
       " {'Event': 'Triple Jump Men', 'Name': 'Christian TAYLOR'},\n",
       " {'Event': '100M Hurdles Women', 'Name': 'Brianna ROLLINS'},\n",
       " {'Event': '400M Hurdles Women', 'Name': 'Dalilah MUHAMMAD'},\n",
       " {'Event': '4X100M Relay Women', 'Name': 'null'},\n",
       " {'Event': '4X400M Relay Women', 'Name': 'null'},\n",
       " {'Event': 'Long Jump Women', 'Name': 'Tianna BARTOLETTA'},\n",
       " {'Event': 'Shot Put Women', 'Name': 'Michelle CARTER'}]"
      ]
     },
     "execution_count": 100,
     "metadata": {},
     "output_type": "execute_result"
    }
   ],
   "source": [
    "#list comprehension\n",
    "usa_2016_gold_medals = [{'Event':gold['Event'],'Name':gold['Name']} for gold in olympics_data if gold['Medal'] == 'G' and gold['Year']=='2016' and gold['Nationality']=='USA']\n",
    "usa_2016_gold_medals"
   ]
  },
  {
   "cell_type": "code",
   "execution_count": 99,
   "metadata": {},
   "outputs": [
    {
     "data": {
      "text/plain": [
       "[{'Event': '1500M Men', 'Name': 'Matthew CENTROWITZ'},\n",
       " {'Event': '400M Hurdles Men', 'Name': 'Kerron CLEMENT'},\n",
       " {'Event': '4X400M Relay Men', 'Name': 'null'},\n",
       " {'Event': 'Decathlon Men', 'Name': 'Ashton EATON'},\n",
       " {'Event': 'Long Jump Men', 'Name': 'Jeff HENDERSON'},\n",
       " {'Event': 'Shot Put Men', 'Name': 'Ryan CROUSER'},\n",
       " {'Event': 'Triple Jump Men', 'Name': 'Christian TAYLOR'},\n",
       " {'Event': '100M Hurdles Women', 'Name': 'Brianna ROLLINS'},\n",
       " {'Event': '400M Hurdles Women', 'Name': 'Dalilah MUHAMMAD'},\n",
       " {'Event': '4X100M Relay Women', 'Name': 'null'},\n",
       " {'Event': '4X400M Relay Women', 'Name': 'null'},\n",
       " {'Event': 'Long Jump Women', 'Name': 'Tianna BARTOLETTA'},\n",
       " {'Event': 'Shot Put Women', 'Name': 'Michelle CARTER'}]"
      ]
     },
     "execution_count": 99,
     "metadata": {},
     "output_type": "execute_result"
    }
   ],
   "source": [
    "#using for loop\n",
    "usa_2016_gold_medals2 = []\n",
    "for gold in olympics_data:\n",
    "    if gold['Medal'] == 'G' and gold['Year']=='2016' and gold['Nationality']=='USA':\n",
    "        usa_2016_gold_medals2.append({'Event':gold['Event'],'Name':gold['Name']})\n",
    "\n",
    "usa_2016_gold_medals2"
   ]
  },
  {
   "cell_type": "code",
   "execution_count": 101,
   "metadata": {},
   "outputs": [],
   "source": [
    "#And we could write that result to a file using csv.DictWriter"
   ]
  },
  {
   "cell_type": "code",
   "execution_count": 106,
   "metadata": {},
   "outputs": [],
   "source": [
    "#dialect='unix' removes unnecesaary blank lines\n",
    "with open('usa_2016_gold_medals.csv','w') as f:\n",
    "    writer = csv.DictWriter(f,fieldnames=['Event','Name'],dialect='unix')\n",
    "    writer.writeheader()\n",
    "    for row in usa_2016_gold_medals:\n",
    "        writer.writerow(row)"
   ]
  },
  {
   "cell_type": "code",
   "execution_count": 111,
   "metadata": {
    "scrolled": true
   },
   "outputs": [
    {
     "name": "stdout",
     "output_type": "stream",
     "text": [
      "\"Event\",\"Name\"\n",
      "\"1500M Men\",\"Matthew CENTROWITZ\"\n",
      "\"400M Hurdles Men\",\"Kerron CLEMENT\"\n",
      "\"4X400M Relay Men\",\"null\"\n",
      "\"Decathlon Men\",\"Ashton EATON\"\n",
      "\"Long Jump Men\",\"Jeff HENDERSON\"\n",
      "\"Shot Put Men\",\"Ryan CROUSER\"\n",
      "\"Triple Jump Men\",\"Christian TAYLOR\"\n",
      "\"100M Hurdles Women\",\"Brianna ROLLINS\"\n",
      "\"400M Hurdles Women\",\"Dalilah MUHAMMAD\"\n",
      "\"4X100M Relay Women\",\"null\"\n",
      "\"4X400M Relay Women\",\"null\"\n",
      "\"Long Jump Women\",\"Tianna BARTOLETTA\"\n",
      "\"Shot Put Women\",\"Michelle CARTER\"\n"
     ]
    }
   ],
   "source": [
    "#We can use the bash command cat to visually inspect the file that was created:\n",
    "!cat usa_2016_gold_medals.csv"
   ]
  },
  {
   "cell_type": "markdown",
   "metadata": {},
   "source": [
    "### What does each column represent?\n",
    "\n",
    "To extract the basics of this information, you can just call the .keys() on one of the row dictionaries. In this case, the columns are:"
   ]
  },
  {
   "cell_type": "code",
   "execution_count": 115,
   "metadata": {},
   "outputs": [
    {
     "data": {
      "text/plain": [
       "dict_keys(['Gender', 'Event', 'Location', 'Year', 'Medal', 'Name', 'Nationality', 'Result'])"
      ]
     },
     "execution_count": 115,
     "metadata": {},
     "output_type": "execute_result"
    }
   ],
   "source": [
    "olympics_data[0].keys()"
   ]
  },
  {
   "cell_type": "markdown",
   "metadata": {},
   "source": [
    "### If you need to understand further details such as the capitalization style of the names or the units of the results, you can often find this information in documentation about the dataset. If not, you may need to apply your own judgment.\n",
    "\n",
    "For example, let's look at a record from this dataset:"
   ]
  },
  {
   "cell_type": "code",
   "execution_count": 116,
   "metadata": {},
   "outputs": [
    {
     "data": {
      "text/plain": [
       "{'Gender': 'M',\n",
       " 'Event': '10000M Men',\n",
       " 'Location': 'Rio',\n",
       " 'Year': '2016',\n",
       " 'Medal': 'G',\n",
       " 'Name': 'Mohamed FARAH',\n",
       " 'Nationality': 'GBR',\n",
       " 'Result': '25:05.17'}"
      ]
     },
     "execution_count": 116,
     "metadata": {},
     "output_type": "execute_result"
    }
   ],
   "source": [
    "olympics_data[0]"
   ]
  },
  {
   "cell_type": "code",
   "execution_count": 117,
   "metadata": {},
   "outputs": [
    {
     "data": {
      "text/plain": [
       "{'Gender': 'M',\n",
       " 'Event': '100M Men',\n",
       " 'Location': 'Montreal',\n",
       " 'Year': '1976',\n",
       " 'Medal': 'S',\n",
       " 'Name': 'Donald QUARRIE',\n",
       " 'Nationality': 'JAM',\n",
       " 'Result': '10.08'}"
      ]
     },
     "execution_count": 117,
     "metadata": {},
     "output_type": "execute_result"
    }
   ],
   "source": [
    "olympics_data[85]"
   ]
  },
  {
   "cell_type": "code",
   "execution_count": 118,
   "metadata": {},
   "outputs": [
    {
     "data": {
      "text/plain": [
       "{'Gender': 'M',\n",
       " 'Event': 'Discus Throw Men',\n",
       " 'Location': 'Los Angeles',\n",
       " 'Year': '1984',\n",
       " 'Medal': 'B',\n",
       " 'Name': 'John POWELL',\n",
       " 'Nationality': 'USA',\n",
       " 'Result': '65.46'}"
      ]
     },
     "execution_count": 118,
     "metadata": {},
     "output_type": "execute_result"
    }
   ],
   "source": [
    "olympics_data[1100]"
   ]
  },
  {
   "cell_type": "code",
   "execution_count": null,
   "metadata": {},
   "outputs": [],
   "source": []
  }
 ],
 "metadata": {
  "kernelspec": {
   "display_name": "Python 3",
   "language": "python",
   "name": "python3"
  },
  "language_info": {
   "codemirror_mode": {
    "name": "ipython",
    "version": 3
   },
   "file_extension": ".py",
   "mimetype": "text/x-python",
   "name": "python",
   "nbconvert_exporter": "python",
   "pygments_lexer": "ipython3",
   "version": "3.8.5"
  }
 },
 "nbformat": 4,
 "nbformat_minor": 4
}
