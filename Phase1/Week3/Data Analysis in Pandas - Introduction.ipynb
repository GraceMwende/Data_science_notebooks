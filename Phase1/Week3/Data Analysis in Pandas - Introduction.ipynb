{
 "cells": [
  {
   "cell_type": "markdown",
   "metadata": {},
   "source": [
    "### using base python(csv.DictReader)"
   ]
  },
  {
   "cell_type": "code",
   "execution_count": 41,
   "metadata": {},
   "outputs": [
    {
     "name": "stdout",
     "output_type": "stream",
     "text": [
      "{'Gender': 'M', 'Event': '10000M Men', 'Location': 'Rio', 'Year': '2016', 'Medal': 'G', 'Name': 'Mohamed FARAH', 'Nationality': 'GBR', 'Result': '25:05.17'}\n",
      "{'Gender': 'M', 'Event': '10000M Men', 'Location': 'Rio', 'Year': '2016', 'Medal': 'S', 'Name': 'Paul Kipngetich TANUI', 'Nationality': 'KEN', 'Result': '27:05.64'}\n",
      "{'Gender': 'M', 'Event': '10000M Men', 'Location': 'Rio', 'Year': '2016', 'Medal': 'B', 'Name': 'Tamirat TOLA', 'Nationality': 'ETH', 'Result': '27:06.26'}\n",
      "{'Gender': 'M', 'Event': '10000M Men', 'Location': 'Beijing', 'Year': '2008', 'Medal': 'G', 'Name': 'Kenenisa BEKELE', 'Nationality': 'ETH', 'Result': '27:01.17'}\n",
      "{'Gender': 'M', 'Event': '10000M Men', 'Location': 'Beijing', 'Year': '2008', 'Medal': 'S', 'Name': 'Sileshi SIHINE', 'Nationality': 'ETH', 'Result': '27:02.77'}\n"
     ]
    }
   ],
   "source": [
    "import csv\n",
    "with open('olympic_medals.csv') as f:\n",
    "    olympics_data = list(csv.DictReader(f))\n",
    "\n",
    "# Print the first 5 rows of data\n",
    "for i in range(5):\n",
    "    print(olympics_data[i])\n"
   ]
  },
  {
   "cell_type": "code",
   "execution_count": 42,
   "metadata": {},
   "outputs": [
    {
     "data": {
      "text/plain": [
       "{'Gender': 'M',\n",
       " 'Event': '10000M Men',\n",
       " 'Location': 'Rio',\n",
       " 'Year': '2016',\n",
       " 'Medal': 'B',\n",
       " 'Name': 'Tamirat TOLA',\n",
       " 'Nationality': 'ETH',\n",
       " 'Result': '27:06.26'}"
      ]
     },
     "execution_count": 42,
     "metadata": {},
     "output_type": "execute_result"
    }
   ],
   "source": [
    "# date from row3\n",
    "olympics_data[2]"
   ]
  },
  {
   "cell_type": "code",
   "execution_count": 43,
   "metadata": {},
   "outputs": [
    {
     "name": "stdout",
     "output_type": "stream",
     "text": [
      "Rio\n",
      "Rio\n",
      "Rio\n",
      "Beijing\n",
      "Beijing\n",
      "Beijing\n",
      "Sydney\n",
      "Sydney\n",
      "Sydney\n",
      "Barcelona\n",
      "Barcelona\n",
      "Barcelona\n",
      "Los Angeles\n",
      "Los Angeles\n",
      "Los Angeles\n",
      "Montreal\n",
      "Montreal\n",
      "Montreal\n",
      "Mexico\n",
      "Mexico\n",
      "Mexico\n",
      "Rome\n",
      "Rome\n",
      "Rome\n",
      "Helsinki\n",
      "Helsinki\n",
      "Helsinki\n",
      "Berlin\n",
      "Berlin\n",
      "Berlin\n",
      "Amsterdam\n",
      "Amsterdam\n",
      "Amsterdam\n",
      "Antwerp\n",
      "Antwerp\n",
      "Antwerp\n",
      "London\n",
      "London\n",
      "London\n",
      "Athens\n",
      "Athens\n",
      "Athens\n",
      "Atlanta\n",
      "Atlanta\n",
      "Atlanta\n",
      "Moscow\n",
      "Moscow\n",
      "Moscow\n",
      "Munich\n",
      "Munich\n",
      "Munich\n",
      "Tokyo\n",
      "Tokyo\n",
      "Tokyo\n",
      "Melbourne / Stockholm\n",
      "Melbourne / Stockholm\n",
      "Melbourne / Stockholm\n",
      "London\n",
      "London\n",
      "London\n",
      "Los Angeles\n",
      "Los Angeles\n",
      "Los Angeles\n",
      "Paris\n",
      "Paris\n",
      "Paris\n",
      "Stockholm\n",
      "Stockholm\n",
      "Stockholm\n",
      "Rio\n",
      "Rio\n",
      "Rio\n",
      "Beijing\n",
      "Beijing\n",
      "Beijing\n",
      "Sydney\n",
      "Sydney\n",
      "Sydney\n",
      "Barcelona\n",
      "Barcelona\n",
      "Barcelona\n",
      "Los Angeles\n",
      "Los Angeles\n",
      "Los Angeles\n",
      "Montreal\n",
      "Montreal\n",
      "Montreal\n",
      "Mexico\n",
      "Mexico\n",
      "Mexico\n",
      "Rome\n",
      "Rome\n",
      "Rome\n",
      "Helsinki\n",
      "Helsinki\n",
      "Helsinki\n",
      "Berlin\n",
      "Berlin\n",
      "Berlin\n",
      "Amsterdam\n"
     ]
    }
   ],
   "source": [
    "#Acess all data from the 3rd column (i.e values associated with the 'Location' keys)\n",
    "for olympic in olympics_data[:100]:\n",
    "    print(olympic['Location'])"
   ]
  },
  {
   "cell_type": "markdown",
   "metadata": {},
   "source": [
    "### With Pandas\n",
    "With pandas, accessing columns is just as simple as accessing rows. For example, if we convert olympics_data (a list of dictionaries) in a dataframe, then view the first five rows:"
   ]
  },
  {
   "cell_type": "code",
   "execution_count": 76,
   "metadata": {},
   "outputs": [
    {
     "data": {
      "text/html": [
       "<div>\n",
       "<style scoped>\n",
       "    .dataframe tbody tr th:only-of-type {\n",
       "        vertical-align: middle;\n",
       "    }\n",
       "\n",
       "    .dataframe tbody tr th {\n",
       "        vertical-align: top;\n",
       "    }\n",
       "\n",
       "    .dataframe thead th {\n",
       "        text-align: right;\n",
       "    }\n",
       "</style>\n",
       "<table border=\"1\" class=\"dataframe\">\n",
       "  <thead>\n",
       "    <tr style=\"text-align: right;\">\n",
       "      <th></th>\n",
       "      <th>Gender</th>\n",
       "      <th>Event</th>\n",
       "      <th>Location</th>\n",
       "      <th>Year</th>\n",
       "      <th>Medal</th>\n",
       "      <th>Name</th>\n",
       "      <th>Nationality</th>\n",
       "      <th>Result</th>\n",
       "      <th>NaN</th>\n",
       "    </tr>\n",
       "  </thead>\n",
       "  <tbody>\n",
       "    <tr>\n",
       "      <th>0</th>\n",
       "      <td>M</td>\n",
       "      <td>10000M Men</td>\n",
       "      <td>Rio</td>\n",
       "      <td>2016</td>\n",
       "      <td>G</td>\n",
       "      <td>Mohamed FARAH</td>\n",
       "      <td>GBR</td>\n",
       "      <td>25:05.17</td>\n",
       "      <td>NaN</td>\n",
       "    </tr>\n",
       "    <tr>\n",
       "      <th>1</th>\n",
       "      <td>M</td>\n",
       "      <td>10000M Men</td>\n",
       "      <td>Rio</td>\n",
       "      <td>2016</td>\n",
       "      <td>S</td>\n",
       "      <td>Paul Kipngetich TANUI</td>\n",
       "      <td>KEN</td>\n",
       "      <td>27:05.64</td>\n",
       "      <td>NaN</td>\n",
       "    </tr>\n",
       "    <tr>\n",
       "      <th>2</th>\n",
       "      <td>M</td>\n",
       "      <td>10000M Men</td>\n",
       "      <td>Rio</td>\n",
       "      <td>2016</td>\n",
       "      <td>B</td>\n",
       "      <td>Tamirat TOLA</td>\n",
       "      <td>ETH</td>\n",
       "      <td>27:06.26</td>\n",
       "      <td>NaN</td>\n",
       "    </tr>\n",
       "    <tr>\n",
       "      <th>3</th>\n",
       "      <td>M</td>\n",
       "      <td>10000M Men</td>\n",
       "      <td>Beijing</td>\n",
       "      <td>2008</td>\n",
       "      <td>G</td>\n",
       "      <td>Kenenisa BEKELE</td>\n",
       "      <td>ETH</td>\n",
       "      <td>27:01.17</td>\n",
       "      <td>NaN</td>\n",
       "    </tr>\n",
       "    <tr>\n",
       "      <th>4</th>\n",
       "      <td>M</td>\n",
       "      <td>10000M Men</td>\n",
       "      <td>Beijing</td>\n",
       "      <td>2008</td>\n",
       "      <td>S</td>\n",
       "      <td>Sileshi SIHINE</td>\n",
       "      <td>ETH</td>\n",
       "      <td>27:02.77</td>\n",
       "      <td>NaN</td>\n",
       "    </tr>\n",
       "  </tbody>\n",
       "</table>\n",
       "</div>"
      ],
      "text/plain": [
       "  Gender       Event Location  Year Medal                   Name Nationality  \\\n",
       "0      M  10000M Men      Rio  2016     G          Mohamed FARAH         GBR   \n",
       "1      M  10000M Men      Rio  2016     S  Paul Kipngetich TANUI         KEN   \n",
       "2      M  10000M Men      Rio  2016     B           Tamirat TOLA         ETH   \n",
       "3      M  10000M Men  Beijing  2008     G        Kenenisa BEKELE         ETH   \n",
       "4      M  10000M Men  Beijing  2008     S         Sileshi SIHINE         ETH   \n",
       "\n",
       "     Result  NaN  \n",
       "0  25:05.17  NaN  \n",
       "1  27:05.64  NaN  \n",
       "2  27:06.26  NaN  \n",
       "3  27:01.17  NaN  \n",
       "4  27:02.77  NaN  "
      ]
     },
     "execution_count": 76,
     "metadata": {},
     "output_type": "execute_result"
    }
   ],
   "source": [
    "#We just imported the pandas library as pd, the standard alias,then used the DataFrame constructor \n",
    "# to make a dataframe out of our existing list of dictionaries.\n",
    "import pandas as pd\n",
    "df = pd.DataFrame(olympics_data)\n",
    "df.head()"
   ]
  },
  {
   "cell_type": "code",
   "execution_count": 87,
   "metadata": {},
   "outputs": [
    {
     "data": {
      "text/html": [
       "<div>\n",
       "<style scoped>\n",
       "    .dataframe tbody tr th:only-of-type {\n",
       "        vertical-align: middle;\n",
       "    }\n",
       "\n",
       "    .dataframe tbody tr th {\n",
       "        vertical-align: top;\n",
       "    }\n",
       "\n",
       "    .dataframe thead th {\n",
       "        text-align: right;\n",
       "    }\n",
       "</style>\n",
       "<table border=\"1\" class=\"dataframe\">\n",
       "  <thead>\n",
       "    <tr style=\"text-align: right;\">\n",
       "      <th></th>\n",
       "      <th>Gender</th>\n",
       "      <th>Event</th>\n",
       "      <th>Location</th>\n",
       "      <th>Year</th>\n",
       "      <th>Medal</th>\n",
       "      <th>Name</th>\n",
       "      <th>Nationality</th>\n",
       "      <th>Result</th>\n",
       "      <th>NaN</th>\n",
       "    </tr>\n",
       "  </thead>\n",
       "  <tbody>\n",
       "    <tr>\n",
       "      <th>155</th>\n",
       "      <td>M</td>\n",
       "      <td>110M Hurdles Men</td>\n",
       "      <td>Beijing</td>\n",
       "      <td>2008</td>\n",
       "      <td>S</td>\n",
       "      <td>David PAYNE</td>\n",
       "      <td>USA</td>\n",
       "      <td>13.17</td>\n",
       "      <td>[+0.1]</td>\n",
       "    </tr>\n",
       "  </tbody>\n",
       "</table>\n",
       "</div>"
      ],
      "text/plain": [
       "    Gender             Event Location  Year Medal         Name Nationality  \\\n",
       "155      M  110M Hurdles Men  Beijing  2008     S  David PAYNE         USA   \n",
       "\n",
       "    Result     NaN  \n",
       "155  13.17  [+0.1]  "
      ]
     },
     "execution_count": 87,
     "metadata": {},
     "output_type": "execute_result"
    }
   ],
   "source": [
    "df[(df['Name']=='David PAYNE')]"
   ]
  },
  {
   "cell_type": "markdown",
   "metadata": {},
   "source": []
  },
  {
   "cell_type": "code",
   "execution_count": 80,
   "metadata": {},
   "outputs": [
    {
     "data": {
      "text/plain": [
       "array(['Mohamed FARAH', 'Paul Kipngetich TANUI', 'Tamirat TOLA', ...,\n",
       "       'Hrysopiyi DEVETZI', 'Inna LASOVSKAYA', 'Sarka KASPARKOVA'],\n",
       "      dtype=object)"
      ]
     },
     "execution_count": 80,
     "metadata": {},
     "output_type": "execute_result"
    }
   ],
   "source": [
    "df['Name'].unique()"
   ]
  },
  {
   "cell_type": "code",
   "execution_count": 45,
   "metadata": {},
   "outputs": [
    {
     "data": {
      "text/plain": [
       "0           Rio\n",
       "1           Rio\n",
       "2           Rio\n",
       "3       Beijing\n",
       "4       Beijing\n",
       "         ...   \n",
       "2389     Athens\n",
       "2390     Athens\n",
       "2391    Atlanta\n",
       "2392    Atlanta\n",
       "2393    Atlanta\n",
       "Name: Location, Length: 2394, dtype: object"
      ]
     },
     "execution_count": 45,
     "metadata": {},
     "output_type": "execute_result"
    }
   ],
   "source": [
    "#Now we can extract all of the information from the 3rd column with a simpler syntax:\n",
    "df['Location']"
   ]
  },
  {
   "cell_type": "markdown",
   "metadata": {},
   "source": [
    "### Also easy to extract info by row, just like with the list of dictionaries\n"
   ]
  },
  {
   "cell_type": "code",
   "execution_count": 69,
   "metadata": {},
   "outputs": [
    {
     "data": {
      "text/plain": [
       "Gender                    M\n",
       "Event            10000M Men\n",
       "Location                Rio\n",
       "Year                   2016\n",
       "Medal                     B\n",
       "Name           Tamirat TOLA\n",
       "Nationality             ETH\n",
       "Result             27:06.26\n",
       "Name: 2, dtype: object"
      ]
     },
     "execution_count": 69,
     "metadata": {},
     "output_type": "execute_result"
    }
   ],
   "source": [
    "df.iloc[2]"
   ]
  },
  {
   "cell_type": "code",
   "execution_count": null,
   "metadata": {},
   "outputs": [],
   "source": []
  },
  {
   "cell_type": "code",
   "execution_count": 47,
   "metadata": {},
   "outputs": [],
   "source": [
    "data = [[50, True], [40, False], [30, False]]\n",
    "\n",
    "df = pd.DataFrame(data)"
   ]
  },
  {
   "cell_type": "code",
   "execution_count": 48,
   "metadata": {},
   "outputs": [
    {
     "data": {
      "text/html": [
       "<div>\n",
       "<style scoped>\n",
       "    .dataframe tbody tr th:only-of-type {\n",
       "        vertical-align: middle;\n",
       "    }\n",
       "\n",
       "    .dataframe tbody tr th {\n",
       "        vertical-align: top;\n",
       "    }\n",
       "\n",
       "    .dataframe thead th {\n",
       "        text-align: right;\n",
       "    }\n",
       "</style>\n",
       "<table border=\"1\" class=\"dataframe\">\n",
       "  <thead>\n",
       "    <tr style=\"text-align: right;\">\n",
       "      <th></th>\n",
       "      <th>0</th>\n",
       "      <th>1</th>\n",
       "    </tr>\n",
       "  </thead>\n",
       "  <tbody>\n",
       "    <tr>\n",
       "      <th>0</th>\n",
       "      <td>50</td>\n",
       "      <td>True</td>\n",
       "    </tr>\n",
       "    <tr>\n",
       "      <th>1</th>\n",
       "      <td>40</td>\n",
       "      <td>False</td>\n",
       "    </tr>\n",
       "    <tr>\n",
       "      <th>2</th>\n",
       "      <td>30</td>\n",
       "      <td>False</td>\n",
       "    </tr>\n",
       "  </tbody>\n",
       "</table>\n",
       "</div>"
      ],
      "text/plain": [
       "    0      1\n",
       "0  50   True\n",
       "1  40  False\n",
       "2  30  False"
      ]
     },
     "execution_count": 48,
     "metadata": {},
     "output_type": "execute_result"
    }
   ],
   "source": [
    "df"
   ]
  },
  {
   "cell_type": "code",
   "execution_count": 49,
   "metadata": {},
   "outputs": [
    {
     "data": {
      "text/plain": [
       "40"
      ]
     },
     "execution_count": 49,
     "metadata": {},
     "output_type": "execute_result"
    }
   ],
   "source": [
    "#The iloc property gets, or sets, the value(s) of the specified indexes.\n",
    "df.iloc[1,0] #Single indexes for both row and column [1, 0] returns the content of that cell.\n"
   ]
  },
  {
   "cell_type": "code",
   "execution_count": 50,
   "metadata": {},
   "outputs": [
    {
     "data": {
      "text/plain": [
       "0       30\n",
       "1    False\n",
       "Name: 2, dtype: object"
      ]
     },
     "execution_count": 50,
     "metadata": {},
     "output_type": "execute_result"
    }
   ],
   "source": [
    "df.iloc[2]"
   ]
  },
  {
   "cell_type": "code",
   "execution_count": 51,
   "metadata": {},
   "outputs": [
    {
     "data": {
      "text/plain": [
       "0     True\n",
       "1    False\n",
       "2    False\n",
       "Name: 1, dtype: bool"
      ]
     },
     "execution_count": 51,
     "metadata": {},
     "output_type": "execute_result"
    }
   ],
   "source": [
    "df[1] #Single index for one row "
   ]
  },
  {
   "cell_type": "code",
   "execution_count": 52,
   "metadata": {},
   "outputs": [
    {
     "data": {
      "text/html": [
       "<div>\n",
       "<style scoped>\n",
       "    .dataframe tbody tr th:only-of-type {\n",
       "        vertical-align: middle;\n",
       "    }\n",
       "\n",
       "    .dataframe tbody tr th {\n",
       "        vertical-align: top;\n",
       "    }\n",
       "\n",
       "    .dataframe thead th {\n",
       "        text-align: right;\n",
       "    }\n",
       "</style>\n",
       "<table border=\"1\" class=\"dataframe\">\n",
       "  <thead>\n",
       "    <tr style=\"text-align: right;\">\n",
       "      <th></th>\n",
       "      <th>0</th>\n",
       "      <th>1</th>\n",
       "    </tr>\n",
       "  </thead>\n",
       "  <tbody>\n",
       "    <tr>\n",
       "      <th>0</th>\n",
       "      <td>50</td>\n",
       "      <td>True</td>\n",
       "    </tr>\n",
       "    <tr>\n",
       "      <th>2</th>\n",
       "      <td>30</td>\n",
       "      <td>False</td>\n",
       "    </tr>\n",
       "  </tbody>\n",
       "</table>\n",
       "</div>"
      ],
      "text/plain": [
       "    0      1\n",
       "0  50   True\n",
       "2  30  False"
      ]
     },
     "execution_count": 52,
     "metadata": {},
     "output_type": "execute_result"
    }
   ],
   "source": [
    "#To access more than one row, use double brackets and specify the indexes, separated by commas:\n",
    "df.iloc[[0,2]]"
   ]
  },
  {
   "cell_type": "code",
   "execution_count": 53,
   "metadata": {},
   "outputs": [
    {
     "data": {
      "text/html": [
       "<div>\n",
       "<style scoped>\n",
       "    .dataframe tbody tr th:only-of-type {\n",
       "        vertical-align: middle;\n",
       "    }\n",
       "\n",
       "    .dataframe tbody tr th {\n",
       "        vertical-align: top;\n",
       "    }\n",
       "\n",
       "    .dataframe thead th {\n",
       "        text-align: right;\n",
       "    }\n",
       "</style>\n",
       "<table border=\"1\" class=\"dataframe\">\n",
       "  <thead>\n",
       "    <tr style=\"text-align: right;\">\n",
       "      <th></th>\n",
       "      <th>0</th>\n",
       "      <th>1</th>\n",
       "    </tr>\n",
       "  </thead>\n",
       "  <tbody>\n",
       "    <tr>\n",
       "      <th>0</th>\n",
       "      <td>50</td>\n",
       "      <td>True</td>\n",
       "    </tr>\n",
       "    <tr>\n",
       "      <th>2</th>\n",
       "      <td>30</td>\n",
       "      <td>False</td>\n",
       "    </tr>\n",
       "  </tbody>\n",
       "</table>\n",
       "</div>"
      ],
      "text/plain": [
       "    0      1\n",
       "0  50   True\n",
       "2  30  False"
      ]
     },
     "execution_count": 53,
     "metadata": {},
     "output_type": "execute_result"
    }
   ],
   "source": [
    "#Specify columns by including their indexes in another list:\n",
    "df.iloc[[0, 2], [0, 1]]"
   ]
  },
  {
   "cell_type": "code",
   "execution_count": 54,
   "metadata": {},
   "outputs": [
    {
     "data": {
      "text/html": [
       "<div>\n",
       "<style scoped>\n",
       "    .dataframe tbody tr th:only-of-type {\n",
       "        vertical-align: middle;\n",
       "    }\n",
       "\n",
       "    .dataframe tbody tr th {\n",
       "        vertical-align: top;\n",
       "    }\n",
       "\n",
       "    .dataframe thead th {\n",
       "        text-align: right;\n",
       "    }\n",
       "</style>\n",
       "<table border=\"1\" class=\"dataframe\">\n",
       "  <thead>\n",
       "    <tr style=\"text-align: right;\">\n",
       "      <th></th>\n",
       "      <th>0</th>\n",
       "      <th>1</th>\n",
       "    </tr>\n",
       "  </thead>\n",
       "  <tbody>\n",
       "    <tr>\n",
       "      <th>0</th>\n",
       "      <td>50</td>\n",
       "      <td>True</td>\n",
       "    </tr>\n",
       "    <tr>\n",
       "      <th>1</th>\n",
       "      <td>40</td>\n",
       "      <td>False</td>\n",
       "    </tr>\n",
       "  </tbody>\n",
       "</table>\n",
       "</div>"
      ],
      "text/plain": [
       "    0      1\n",
       "0  50   True\n",
       "1  40  False"
      ]
     },
     "execution_count": 54,
     "metadata": {},
     "output_type": "execute_result"
    }
   ],
   "source": [
    "#You can also specify a slice of the DataFrame with from and to indexes, separated by a colon:\n",
    "df.iloc[0:2]"
   ]
  },
  {
   "cell_type": "code",
   "execution_count": 55,
   "metadata": {},
   "outputs": [
    {
     "data": {
      "text/html": [
       "<div>\n",
       "<style scoped>\n",
       "    .dataframe tbody tr th:only-of-type {\n",
       "        vertical-align: middle;\n",
       "    }\n",
       "\n",
       "    .dataframe tbody tr th {\n",
       "        vertical-align: top;\n",
       "    }\n",
       "\n",
       "    .dataframe thead th {\n",
       "        text-align: right;\n",
       "    }\n",
       "</style>\n",
       "<table border=\"1\" class=\"dataframe\">\n",
       "  <thead>\n",
       "    <tr style=\"text-align: right;\">\n",
       "      <th></th>\n",
       "      <th>1</th>\n",
       "    </tr>\n",
       "  </thead>\n",
       "  <tbody>\n",
       "    <tr>\n",
       "      <th>0</th>\n",
       "      <td>True</td>\n",
       "    </tr>\n",
       "    <tr>\n",
       "      <th>2</th>\n",
       "      <td>False</td>\n",
       "    </tr>\n",
       "  </tbody>\n",
       "</table>\n",
       "</div>"
      ],
      "text/plain": [
       "       1\n",
       "0   True\n",
       "2  False"
      ]
     },
     "execution_count": 55,
     "metadata": {},
     "output_type": "execute_result"
    }
   ],
   "source": [
    "df.iloc[[0, 2], [1]]"
   ]
  },
  {
   "cell_type": "markdown",
   "metadata": {},
   "source": [
    "### We can also skip the csv model and olympics_data variable altogether, and just read the data from the CSV file directly"
   ]
  },
  {
   "cell_type": "code",
   "execution_count": 3,
   "metadata": {},
   "outputs": [
    {
     "name": "stderr",
     "output_type": "stream",
     "text": [
      "b'Skipping line 156: expected 8 fields, saw 9\\nSkipping line 157: expected 8 fields, saw 9\\nSkipping line 158: expected 8 fields, saw 9\\nSkipping line 317: expected 8 fields, saw 9\\nSkipping line 318: expected 8 fields, saw 9\\nSkipping line 319: expected 8 fields, saw 9\\nSkipping line 1658: expected 8 fields, saw 9\\nSkipping line 1659: expected 8 fields, saw 9\\nSkipping line 1660: expected 8 fields, saw 9\\nSkipping line 1784: expected 8 fields, saw 9\\nSkipping line 1785: expected 8 fields, saw 9\\nSkipping line 1786: expected 8 fields, saw 9\\n'\n"
     ]
    },
    {
     "data": {
      "text/html": [
       "<div>\n",
       "<style scoped>\n",
       "    .dataframe tbody tr th:only-of-type {\n",
       "        vertical-align: middle;\n",
       "    }\n",
       "\n",
       "    .dataframe tbody tr th {\n",
       "        vertical-align: top;\n",
       "    }\n",
       "\n",
       "    .dataframe thead th {\n",
       "        text-align: right;\n",
       "    }\n",
       "</style>\n",
       "<table border=\"1\" class=\"dataframe\">\n",
       "  <thead>\n",
       "    <tr style=\"text-align: right;\">\n",
       "      <th></th>\n",
       "      <th>Gender</th>\n",
       "      <th>Event</th>\n",
       "      <th>Location</th>\n",
       "      <th>Year</th>\n",
       "      <th>Medal</th>\n",
       "      <th>Name</th>\n",
       "      <th>Nationality</th>\n",
       "      <th>Result</th>\n",
       "    </tr>\n",
       "  </thead>\n",
       "  <tbody>\n",
       "    <tr>\n",
       "      <th>0</th>\n",
       "      <td>M</td>\n",
       "      <td>10000M Men</td>\n",
       "      <td>Rio</td>\n",
       "      <td>2016</td>\n",
       "      <td>G</td>\n",
       "      <td>Mohamed FARAH</td>\n",
       "      <td>GBR</td>\n",
       "      <td>25:05.17</td>\n",
       "    </tr>\n",
       "    <tr>\n",
       "      <th>1</th>\n",
       "      <td>M</td>\n",
       "      <td>10000M Men</td>\n",
       "      <td>Rio</td>\n",
       "      <td>2016</td>\n",
       "      <td>S</td>\n",
       "      <td>Paul Kipngetich TANUI</td>\n",
       "      <td>KEN</td>\n",
       "      <td>27:05.64</td>\n",
       "    </tr>\n",
       "    <tr>\n",
       "      <th>2</th>\n",
       "      <td>M</td>\n",
       "      <td>10000M Men</td>\n",
       "      <td>Rio</td>\n",
       "      <td>2016</td>\n",
       "      <td>B</td>\n",
       "      <td>Tamirat TOLA</td>\n",
       "      <td>ETH</td>\n",
       "      <td>27:06.26</td>\n",
       "    </tr>\n",
       "    <tr>\n",
       "      <th>3</th>\n",
       "      <td>M</td>\n",
       "      <td>10000M Men</td>\n",
       "      <td>Beijing</td>\n",
       "      <td>2008</td>\n",
       "      <td>G</td>\n",
       "      <td>Kenenisa BEKELE</td>\n",
       "      <td>ETH</td>\n",
       "      <td>27:01.17</td>\n",
       "    </tr>\n",
       "    <tr>\n",
       "      <th>4</th>\n",
       "      <td>M</td>\n",
       "      <td>10000M Men</td>\n",
       "      <td>Beijing</td>\n",
       "      <td>2008</td>\n",
       "      <td>S</td>\n",
       "      <td>Sileshi SIHINE</td>\n",
       "      <td>ETH</td>\n",
       "      <td>27:02.77</td>\n",
       "    </tr>\n",
       "    <tr>\n",
       "      <th>...</th>\n",
       "      <td>...</td>\n",
       "      <td>...</td>\n",
       "      <td>...</td>\n",
       "      <td>...</td>\n",
       "      <td>...</td>\n",
       "      <td>...</td>\n",
       "      <td>...</td>\n",
       "      <td>...</td>\n",
       "    </tr>\n",
       "    <tr>\n",
       "      <th>2377</th>\n",
       "      <td>W</td>\n",
       "      <td>Triple Jump Women</td>\n",
       "      <td>Athens</td>\n",
       "      <td>2004</td>\n",
       "      <td>S</td>\n",
       "      <td>Hrysopiyi DEVETZI</td>\n",
       "      <td>GRE</td>\n",
       "      <td>15.25</td>\n",
       "    </tr>\n",
       "    <tr>\n",
       "      <th>2378</th>\n",
       "      <td>W</td>\n",
       "      <td>Triple Jump Women</td>\n",
       "      <td>Athens</td>\n",
       "      <td>2004</td>\n",
       "      <td>B</td>\n",
       "      <td>Tatyana LEBEDEVA</td>\n",
       "      <td>RUS</td>\n",
       "      <td>15.14</td>\n",
       "    </tr>\n",
       "    <tr>\n",
       "      <th>2379</th>\n",
       "      <td>W</td>\n",
       "      <td>Triple Jump Women</td>\n",
       "      <td>Atlanta</td>\n",
       "      <td>1996</td>\n",
       "      <td>G</td>\n",
       "      <td>Inessa KRAVETS</td>\n",
       "      <td>UKR</td>\n",
       "      <td>15.33</td>\n",
       "    </tr>\n",
       "    <tr>\n",
       "      <th>2380</th>\n",
       "      <td>W</td>\n",
       "      <td>Triple Jump Women</td>\n",
       "      <td>Atlanta</td>\n",
       "      <td>1996</td>\n",
       "      <td>S</td>\n",
       "      <td>Inna LASOVSKAYA</td>\n",
       "      <td>RUS</td>\n",
       "      <td>14.98</td>\n",
       "    </tr>\n",
       "    <tr>\n",
       "      <th>2381</th>\n",
       "      <td>W</td>\n",
       "      <td>Triple Jump Women</td>\n",
       "      <td>Atlanta</td>\n",
       "      <td>1996</td>\n",
       "      <td>B</td>\n",
       "      <td>Sarka KASPARKOVA</td>\n",
       "      <td>CZE</td>\n",
       "      <td>14.98</td>\n",
       "    </tr>\n",
       "  </tbody>\n",
       "</table>\n",
       "<p>2382 rows × 8 columns</p>\n",
       "</div>"
      ],
      "text/plain": [
       "     Gender              Event Location  Year Medal                   Name  \\\n",
       "0         M         10000M Men      Rio  2016     G          Mohamed FARAH   \n",
       "1         M         10000M Men      Rio  2016     S  Paul Kipngetich TANUI   \n",
       "2         M         10000M Men      Rio  2016     B           Tamirat TOLA   \n",
       "3         M         10000M Men  Beijing  2008     G        Kenenisa BEKELE   \n",
       "4         M         10000M Men  Beijing  2008     S         Sileshi SIHINE   \n",
       "...     ...                ...      ...   ...   ...                    ...   \n",
       "2377      W  Triple Jump Women   Athens  2004     S      Hrysopiyi DEVETZI   \n",
       "2378      W  Triple Jump Women   Athens  2004     B       Tatyana LEBEDEVA   \n",
       "2379      W  Triple Jump Women  Atlanta  1996     G         Inessa KRAVETS   \n",
       "2380      W  Triple Jump Women  Atlanta  1996     S        Inna LASOVSKAYA   \n",
       "2381      W  Triple Jump Women  Atlanta  1996     B       Sarka KASPARKOVA   \n",
       "\n",
       "     Nationality    Result  \n",
       "0            GBR  25:05.17  \n",
       "1            KEN  27:05.64  \n",
       "2            ETH  27:06.26  \n",
       "3            ETH  27:01.17  \n",
       "4            ETH  27:02.77  \n",
       "...          ...       ...  \n",
       "2377         GRE     15.25  \n",
       "2378         RUS     15.14  \n",
       "2379         UKR     15.33  \n",
       "2380         RUS     14.98  \n",
       "2381         CZE     14.98  \n",
       "\n",
       "[2382 rows x 8 columns]"
      ]
     },
     "execution_count": 3,
     "metadata": {},
     "output_type": "execute_result"
    }
   ],
   "source": [
    "#data = pd.read_csv('file1.csv', on_bad_lines='skip') # skips the offending lines\n",
    "#For Pandas < 1.3.0\n",
    "#data = pd.read_csv(\"file1.csv\", error_bad_lines=False)\n",
    "#pd.__version__ # mine is '1.1.3'\n",
    "#update version :  conda update pandas (close editor and open again)\n",
    "#checking the bad data\n",
    "#olympics_data[155:160]\n",
    "df = pd.read_csv('olympic_medals.csv',on_bad_lines='warn')\n",
    "df\n"
   ]
  },
  {
   "cell_type": "code",
   "execution_count": 66,
   "metadata": {},
   "outputs": [
    {
     "data": {
      "text/plain": [
       "2394"
      ]
     },
     "execution_count": 66,
     "metadata": {},
     "output_type": "execute_result"
    }
   ],
   "source": [
    "#check pd version\n",
    "len(df) #2382"
   ]
  },
  {
   "cell_type": "code",
   "execution_count": 2,
   "metadata": {},
   "outputs": [
    {
     "data": {
      "text/plain": [
       "'1.4.4'"
      ]
     },
     "execution_count": 2,
     "metadata": {},
     "output_type": "execute_result"
    }
   ],
   "source": [
    "import pandas as pd\n",
    "pd.__version__"
   ]
  },
  {
   "cell_type": "code",
   "execution_count": null,
   "metadata": {},
   "outputs": [],
   "source": []
  },
  {
   "cell_type": "code",
   "execution_count": null,
   "metadata": {},
   "outputs": [],
   "source": []
  }
 ],
 "metadata": {
  "kernelspec": {
   "display_name": "Python (learn-env)",
   "language": "python",
   "name": "learn-env"
  },
  "language_info": {
   "codemirror_mode": {
    "name": "ipython",
    "version": 3
   },
   "file_extension": ".py",
   "mimetype": "text/x-python",
   "name": "python",
   "nbconvert_exporter": "python",
   "pygments_lexer": "ipython3",
   "version": "3.8.5"
  }
 },
 "nbformat": 4,
 "nbformat_minor": 2
}
