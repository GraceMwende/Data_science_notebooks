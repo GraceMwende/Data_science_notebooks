{
 "cells": [
  {
   "cell_type": "markdown",
   "metadata": {},
   "source": [
    "### Objectives\n",
    "You will be able to:\n",
    "\n",
    "Use the .map() and .apply() methods to apply a function to a pandas Series or DataFrame\n",
    "Perform operations to change the structure of pandas DataFrames\n",
    "Change the index of a pandas DataFrame\n",
    "Change data types of columns in pandas DataFrames\n",
    "\n",
    "### Pandas Data Types vs. Base Python Data Types\n",
    "Built-in Python data types such as lists, dictionaries, and sets can be powerful in limited settings, but they often require:\n",
    "\n",
    "Several lines of \"boilerplate\" code to accomplish common tasks, which opens up the possibility of mistakes\n",
    "Extra unnecessary memory space for storing data types. For example, if you have a Python list of 100 integers, you are also storing the fact that each one is an integer, and you store that same information again if you increase the length of the list by 1\n",
    "Using pandas data types such as Series and DataFrames instead of built-in Python data types can address both of these issues. Series and DataFrames have a range of built-in methods which make standard practices and procedures streamlined. Some of these methods can result in dramatic performance gains.\n",
    "\n",
    "### Import pandas"
   ]
  },
  {
   "cell_type": "code",
   "execution_count": 245,
   "metadata": {},
   "outputs": [],
   "source": [
    "import pandas as pd"
   ]
  },
  {
   "cell_type": "markdown",
   "metadata": {},
   "source": [
    "### Load and Preview Dataset"
   ]
  },
  {
   "cell_type": "code",
   "execution_count": 246,
   "metadata": {},
   "outputs": [
    {
     "data": {
      "text/html": [
       "<div>\n",
       "<style scoped>\n",
       "    .dataframe tbody tr th:only-of-type {\n",
       "        vertical-align: middle;\n",
       "    }\n",
       "\n",
       "    .dataframe tbody tr th {\n",
       "        vertical-align: top;\n",
       "    }\n",
       "\n",
       "    .dataframe thead th {\n",
       "        text-align: right;\n",
       "    }\n",
       "</style>\n",
       "<table border=\"1\" class=\"dataframe\">\n",
       "  <thead>\n",
       "    <tr style=\"text-align: right;\">\n",
       "      <th></th>\n",
       "      <th>C/A</th>\n",
       "      <th>UNIT</th>\n",
       "      <th>SCP</th>\n",
       "      <th>STATION</th>\n",
       "      <th>LINENAME</th>\n",
       "      <th>DIVISION</th>\n",
       "      <th>DATE</th>\n",
       "      <th>TIME</th>\n",
       "      <th>DESC</th>\n",
       "      <th>ENTRIES</th>\n",
       "      <th>EXITS</th>\n",
       "    </tr>\n",
       "  </thead>\n",
       "  <tbody>\n",
       "    <tr>\n",
       "      <th>0</th>\n",
       "      <td>A002</td>\n",
       "      <td>R051</td>\n",
       "      <td>02-00-00</td>\n",
       "      <td>59 ST</td>\n",
       "      <td>NQR456W</td>\n",
       "      <td>BMT</td>\n",
       "      <td>08/25/2018</td>\n",
       "      <td>00:00:00</td>\n",
       "      <td>REGULAR</td>\n",
       "      <td>0006736067</td>\n",
       "      <td>0002283184                                    ...</td>\n",
       "    </tr>\n",
       "    <tr>\n",
       "      <th>1</th>\n",
       "      <td>A002</td>\n",
       "      <td>R051</td>\n",
       "      <td>02-00-00</td>\n",
       "      <td>59 ST</td>\n",
       "      <td>NQR456W</td>\n",
       "      <td>BMT</td>\n",
       "      <td>08/25/2018</td>\n",
       "      <td>04:00:00</td>\n",
       "      <td>REGULAR</td>\n",
       "      <td>0006736087</td>\n",
       "      <td>0002283188                                    ...</td>\n",
       "    </tr>\n",
       "    <tr>\n",
       "      <th>2</th>\n",
       "      <td>A002</td>\n",
       "      <td>R051</td>\n",
       "      <td>02-00-00</td>\n",
       "      <td>59 ST</td>\n",
       "      <td>NQR456W</td>\n",
       "      <td>BMT</td>\n",
       "      <td>08/25/2018</td>\n",
       "      <td>08:00:00</td>\n",
       "      <td>REGULAR</td>\n",
       "      <td>0006736105</td>\n",
       "      <td>0002283229                                    ...</td>\n",
       "    </tr>\n",
       "    <tr>\n",
       "      <th>3</th>\n",
       "      <td>A002</td>\n",
       "      <td>R051</td>\n",
       "      <td>02-00-00</td>\n",
       "      <td>59 ST</td>\n",
       "      <td>NQR456W</td>\n",
       "      <td>BMT</td>\n",
       "      <td>08/25/2018</td>\n",
       "      <td>12:00:00</td>\n",
       "      <td>REGULAR</td>\n",
       "      <td>0006736180</td>\n",
       "      <td>0002283314                                    ...</td>\n",
       "    </tr>\n",
       "    <tr>\n",
       "      <th>4</th>\n",
       "      <td>A002</td>\n",
       "      <td>R051</td>\n",
       "      <td>02-00-00</td>\n",
       "      <td>59 ST</td>\n",
       "      <td>NQR456W</td>\n",
       "      <td>BMT</td>\n",
       "      <td>08/25/2018</td>\n",
       "      <td>16:00:00</td>\n",
       "      <td>REGULAR</td>\n",
       "      <td>0006736349</td>\n",
       "      <td>0002283384                                    ...</td>\n",
       "    </tr>\n",
       "  </tbody>\n",
       "</table>\n",
       "</div>"
      ],
      "text/plain": [
       "    C/A  UNIT       SCP STATION LINENAME DIVISION        DATE      TIME  \\\n",
       "0  A002  R051  02-00-00   59 ST  NQR456W      BMT  08/25/2018  00:00:00   \n",
       "1  A002  R051  02-00-00   59 ST  NQR456W      BMT  08/25/2018  04:00:00   \n",
       "2  A002  R051  02-00-00   59 ST  NQR456W      BMT  08/25/2018  08:00:00   \n",
       "3  A002  R051  02-00-00   59 ST  NQR456W      BMT  08/25/2018  12:00:00   \n",
       "4  A002  R051  02-00-00   59 ST  NQR456W      BMT  08/25/2018  16:00:00   \n",
       "\n",
       "      DESC     ENTRIES  \\\n",
       "0  REGULAR  0006736067   \n",
       "1  REGULAR  0006736087   \n",
       "2  REGULAR  0006736105   \n",
       "3  REGULAR  0006736180   \n",
       "4  REGULAR  0006736349   \n",
       "\n",
       "  EXITS                                                                 \n",
       "0  0002283184                                    ...                    \n",
       "1  0002283188                                    ...                    \n",
       "2  0002283229                                    ...                    \n",
       "3  0002283314                                    ...                    \n",
       "4  0002283384                                    ...                    "
      ]
     },
     "execution_count": 246,
     "metadata": {},
     "output_type": "execute_result"
    }
   ],
   "source": [
    "df = pd.read_csv('turnstile_180901.txt',dtype=str)\n",
    "df.head()"
   ]
  },
  {
   "cell_type": "code",
   "execution_count": 247,
   "metadata": {},
   "outputs": [
    {
     "name": "stdout",
     "output_type": "stream",
     "text": [
      "<class 'pandas.core.frame.DataFrame'>\n",
      "RangeIndex: 197625 entries, 0 to 197624\n",
      "Data columns (total 11 columns):\n",
      " #   Column                                                                Non-Null Count   Dtype \n",
      "---  ------                                                                --------------   ----- \n",
      " 0   C/A                                                                   197625 non-null  object\n",
      " 1   UNIT                                                                  197625 non-null  object\n",
      " 2   SCP                                                                   197625 non-null  object\n",
      " 3   STATION                                                               197625 non-null  object\n",
      " 4   LINENAME                                                              197625 non-null  object\n",
      " 5   DIVISION                                                              197625 non-null  object\n",
      " 6   DATE                                                                  197625 non-null  object\n",
      " 7   TIME                                                                  197625 non-null  object\n",
      " 8   DESC                                                                  197625 non-null  object\n",
      " 9   ENTRIES                                                               197625 non-null  object\n",
      " 10  EXITS                                                                 197625 non-null  object\n",
      "dtypes: object(11)\n",
      "memory usage: 16.6+ MB\n"
     ]
    }
   ],
   "source": [
    "df.info()"
   ]
  },
  {
   "cell_type": "markdown",
   "metadata": {},
   "source": [
    "### Using .map() to Transform Values\n",
    "A standard data preparation step you might need to perform is \"cleaning up\" the values of a dataset so they follow your desired format. The .map() method is key for this task.\n",
    "### Passing in a Dictionary\n",
    "One of the most straightforward ways to use the .map() method on a pandas Series is with a dictionary of values you want to use to replace other values.\n",
    "\n",
    "Let's say we want to look at the DIVISION column:\n"
   ]
  },
  {
   "cell_type": "code",
   "execution_count": 248,
   "metadata": {},
   "outputs": [
    {
     "data": {
      "text/plain": [
       "IRT    72198\n",
       "IND    69274\n",
       "BMT    41727\n",
       "PTH    12788\n",
       "SRT     1386\n",
       "RIT      252\n",
       "Name: DIVISION, dtype: int64"
      ]
     },
     "execution_count": 248,
     "metadata": {},
     "output_type": "execute_result"
    }
   ],
   "source": [
    "df['DIVISION'].value_counts()"
   ]
  },
  {
   "cell_type": "markdown",
   "metadata": {},
   "source": [
    "#### use value counts to understand the distribution of categorical data\n",
    "**Series.value_counts(normalize=False, sort=True, ascending=False, bins=None, dropna=True)**\n",
    "Return a Series containing counts of unique values.\n",
    "\n",
    "The resulting object will be in descending order so that the first element is the most frequently-occurring element. Excludes NA values by default.\n",
    "\n",
    "Example\n"
   ]
  },
  {
   "cell_type": "code",
   "execution_count": 249,
   "metadata": {},
   "outputs": [
    {
     "data": {
      "text/plain": [
       "3.0    2\n",
       "1.0    1\n",
       "2.0    1\n",
       "4.0    1\n",
       "dtype: int64"
      ]
     },
     "execution_count": 249,
     "metadata": {},
     "output_type": "execute_result"
    }
   ],
   "source": [
    "import numpy as np\n",
    "index = pd.Index([3, 1, 2, 3, 4, np.nan])\n",
    "index.value_counts()"
   ]
  },
  {
   "cell_type": "markdown",
   "metadata": {},
   "source": [
    "With normalize set to True, returns the relative frequency by dividing all values by the sum of values.\n",
    ". Normalizing is giving you the rate of occurrences of each value instead of the number of occurrences."
   ]
  },
  {
   "cell_type": "code",
   "execution_count": 250,
   "metadata": {},
   "outputs": [
    {
     "data": {
      "text/plain": [
       "3.0    0.4\n",
       "1.0    0.2\n",
       "2.0    0.2\n",
       "4.0    0.2\n",
       "dtype: float64"
      ]
     },
     "execution_count": 250,
     "metadata": {},
     "output_type": "execute_result"
    }
   ],
   "source": [
    "sum(index.fillna(0))\n",
    "index.value_counts(normalize=True) # on 3 is 2 occurences out of 5 i.e(2+1+1+1) 2/5=0.4"
   ]
  },
  {
   "cell_type": "code",
   "execution_count": 251,
   "metadata": {},
   "outputs": [
    {
     "data": {
      "text/plain": [
       "0.2"
      ]
     },
     "execution_count": 251,
     "metadata": {},
     "output_type": "execute_result"
    }
   ],
   "source": [
    "1/5"
   ]
  },
  {
   "cell_type": "code",
   "execution_count": 252,
   "metadata": {},
   "outputs": [
    {
     "data": {
      "text/plain": [
       "3.0    2\n",
       "1.0    1\n",
       "2.0    1\n",
       "4.0    1\n",
       "NaN    1\n",
       "dtype: int64"
      ]
     },
     "execution_count": 252,
     "metadata": {},
     "output_type": "execute_result"
    }
   ],
   "source": [
    "#With dropna set to False we can also see NaN index values.\n",
    "index.value_counts(dropna=False)"
   ]
  },
  {
   "cell_type": "markdown",
   "metadata": {},
   "source": [
    "#### We look up some additional information, and locate the following mappings:\n",
    "\n",
    "|Abbreviation|Full Name\n",
    "|------------|---------\n",
    "|IRT\t        |Interborough Rapid Transit Company\n",
    "|IND            |Independent Subway System\n",
    "|BMT  \t        |Brooklyn–Manhattan Transit Corporation\n",
    "|PTH\t        |Port Authority Trans-Hudson (PATH)\n",
    "|SRT\t        |Staten Island Rapid Transit\n",
    "|RIT\t        |Roosevelt Island Tram\n",
    "\n",
    "To represent this in Python, let's use a dictionary with the abbreviations as keys and full names as values."
   ]
  },
  {
   "cell_type": "code",
   "execution_count": 253,
   "metadata": {},
   "outputs": [],
   "source": [
    "division_mapping = {\n",
    "    'IRT':'Interborough Rapid Transit Company',\n",
    "    'IND':'Independent Subway System',\n",
    "    'BMT':'Brooklyn–Manhattan Transit Corporation',\n",
    "    'PTH':'Port Authority Trans-Hudson (PATH)',\n",
    "    'SRT':'Staten Island Rapid Transit',\n",
    "    'RIT':'Roosevelt Island Tram'\n",
    "}"
   ]
  },
  {
   "cell_type": "markdown",
   "metadata": {},
   "source": [
    "Now we can call the .map() method to return a Series with the abbreviations transformed into full names:"
   ]
  },
  {
   "cell_type": "code",
   "execution_count": 254,
   "metadata": {},
   "outputs": [
    {
     "data": {
      "text/plain": [
       "0         Brooklyn–Manhattan Transit Corporation\n",
       "1         Brooklyn–Manhattan Transit Corporation\n",
       "2         Brooklyn–Manhattan Transit Corporation\n",
       "3         Brooklyn–Manhattan Transit Corporation\n",
       "4         Brooklyn–Manhattan Transit Corporation\n",
       "                           ...                  \n",
       "197620                     Roosevelt Island Tram\n",
       "197621                     Roosevelt Island Tram\n",
       "197622                     Roosevelt Island Tram\n",
       "197623                     Roosevelt Island Tram\n",
       "197624                     Roosevelt Island Tram\n",
       "Name: DIVISION, Length: 197625, dtype: object"
      ]
     },
     "execution_count": 254,
     "metadata": {},
     "output_type": "execute_result"
    }
   ],
   "source": [
    "df['DIVISION'].map(division_mapping)"
   ]
  },
  {
   "cell_type": "markdown",
   "metadata": {},
   "source": [
    "#### Let's go ahead and replace the DIVISION column in df with these new, transformed values:"
   ]
  },
  {
   "cell_type": "code",
   "execution_count": 255,
   "metadata": {},
   "outputs": [
    {
     "data": {
      "text/plain": [
       "Interborough Rapid Transit Company        72198\n",
       "Independent Subway System                 69274\n",
       "Brooklyn–Manhattan Transit Corporation    41727\n",
       "Port Authority Trans-Hudson (PATH)        12788\n",
       "Staten Island Rapid Transit                1386\n",
       "Roosevelt Island Tram                       252\n",
       "Name: DIVISION, dtype: int64"
      ]
     },
     "execution_count": 255,
     "metadata": {},
     "output_type": "execute_result"
    }
   ],
   "source": [
    "df['DIVISION'] = df['DIVISION'].map(division_mapping)\n",
    "df['DIVISION'].value_counts()"
   ]
  },
  {
   "cell_type": "markdown",
   "metadata": {},
   "source": [
    "### Passing in a \n",
    "Another way to use the .map() method is by passing in a function.\n",
    "\n",
    "Let's say we want to look at the LINENAME column:"
   ]
  },
  {
   "cell_type": "code",
   "execution_count": 256,
   "metadata": {},
   "outputs": [
    {
     "data": {
      "text/plain": [
       "1        24092\n",
       "6        11263\n",
       "7         9562\n",
       "F         7146\n",
       "25        6881\n",
       "         ...  \n",
       "ACG        210\n",
       "S          210\n",
       "ND         209\n",
       "S2345      168\n",
       "23ACE      168\n",
       "Name: LINENAME, Length: 113, dtype: int64"
      ]
     },
     "execution_count": 256,
     "metadata": {},
     "output_type": "execute_result"
    }
   ],
   "source": [
    "df['LINENAME'].value_counts()"
   ]
  },
  {
   "cell_type": "markdown",
   "metadata": {},
   "source": [
    "The ... in the middle means this is a shortened version of the full value counts. Length: 113 means there are 113 different categories present in the column.\n",
    "\n",
    "Rather than substituting these values with some other values like we did with DIVISION, let's say we want a boolean (True or False) value representing whether or not the LINENAME contains the string \"N\" (i.e. whether or not the stop is an N line stop). We can do this with a function."
   ]
  },
  {
   "cell_type": "code",
   "execution_count": 257,
   "metadata": {},
   "outputs": [],
   "source": [
    "def contains_n(text):\n",
    "    if 'N' in text:\n",
    "        return True\n",
    "    else:\n",
    "        return False\n",
    "    \n",
    "# Or the shorter, more pythonic way\n",
    "# (this overwrites the previous function)\n",
    "def contains_n(text):\n",
    "    return 'N' in text"
   ]
  },
  {
   "cell_type": "markdown",
   "metadata": {},
   "source": [
    "Then call the .map() method and pass in the function:"
   ]
  },
  {
   "cell_type": "code",
   "execution_count": 258,
   "metadata": {},
   "outputs": [
    {
     "data": {
      "text/plain": [
       "[0          True\n",
       " 1          True\n",
       " 2          True\n",
       " 3          True\n",
       " 4          True\n",
       "           ...  \n",
       " 197620    False\n",
       " 197621    False\n",
       " 197622    False\n",
       " 197623    False\n",
       " 197624    False\n",
       " Name: LINENAME, Length: 197625, dtype: bool]"
      ]
     },
     "execution_count": 258,
     "metadata": {},
     "output_type": "execute_result"
    }
   ],
   "source": [
    "[df['LINENAME'].map(contains_n)]"
   ]
  },
  {
   "cell_type": "markdown",
   "metadata": {},
   "source": [
    "Note that for a pandas Series, the .apply() method can be used interchangeably with the .map() method when a function is provided (with somewhat different implementations \"under the hood\"):"
   ]
  },
  {
   "cell_type": "code",
   "execution_count": 259,
   "metadata": {},
   "outputs": [
    {
     "data": {
      "text/plain": [
       "0          True\n",
       "1          True\n",
       "2          True\n",
       "3          True\n",
       "4          True\n",
       "          ...  \n",
       "197620    False\n",
       "197621    False\n",
       "197622    False\n",
       "197623    False\n",
       "197624    False\n",
       "Name: LINENAME, Length: 197625, dtype: bool"
      ]
     },
     "execution_count": 259,
     "metadata": {},
     "output_type": "execute_result"
    }
   ],
   "source": [
    "df['LINENAME'].apply(contains_n)"
   ]
  },
  {
   "cell_type": "markdown",
   "metadata": {},
   "source": [
    "Rather than replacing LINENAME in the dataframe, let's create a new column to hold this result:"
   ]
  },
  {
   "cell_type": "code",
   "execution_count": 260,
   "metadata": {},
   "outputs": [
    {
     "data": {
      "text/html": [
       "<div>\n",
       "<style scoped>\n",
       "    .dataframe tbody tr th:only-of-type {\n",
       "        vertical-align: middle;\n",
       "    }\n",
       "\n",
       "    .dataframe tbody tr th {\n",
       "        vertical-align: top;\n",
       "    }\n",
       "\n",
       "    .dataframe thead th {\n",
       "        text-align: right;\n",
       "    }\n",
       "</style>\n",
       "<table border=\"1\" class=\"dataframe\">\n",
       "  <thead>\n",
       "    <tr style=\"text-align: right;\">\n",
       "      <th></th>\n",
       "      <th>C/A</th>\n",
       "      <th>UNIT</th>\n",
       "      <th>SCP</th>\n",
       "      <th>STATION</th>\n",
       "      <th>LINENAME</th>\n",
       "      <th>DIVISION</th>\n",
       "      <th>DATE</th>\n",
       "      <th>TIME</th>\n",
       "      <th>DESC</th>\n",
       "      <th>ENTRIES</th>\n",
       "      <th>EXITS</th>\n",
       "      <th>On_N_Line</th>\n",
       "    </tr>\n",
       "  </thead>\n",
       "  <tbody>\n",
       "    <tr>\n",
       "      <th>0</th>\n",
       "      <td>A002</td>\n",
       "      <td>R051</td>\n",
       "      <td>02-00-00</td>\n",
       "      <td>59 ST</td>\n",
       "      <td>NQR456W</td>\n",
       "      <td>Brooklyn–Manhattan Transit Corporation</td>\n",
       "      <td>08/25/2018</td>\n",
       "      <td>00:00:00</td>\n",
       "      <td>REGULAR</td>\n",
       "      <td>0006736067</td>\n",
       "      <td>0002283184                                    ...</td>\n",
       "      <td>True</td>\n",
       "    </tr>\n",
       "    <tr>\n",
       "      <th>1</th>\n",
       "      <td>A002</td>\n",
       "      <td>R051</td>\n",
       "      <td>02-00-00</td>\n",
       "      <td>59 ST</td>\n",
       "      <td>NQR456W</td>\n",
       "      <td>Brooklyn–Manhattan Transit Corporation</td>\n",
       "      <td>08/25/2018</td>\n",
       "      <td>04:00:00</td>\n",
       "      <td>REGULAR</td>\n",
       "      <td>0006736087</td>\n",
       "      <td>0002283188                                    ...</td>\n",
       "      <td>True</td>\n",
       "    </tr>\n",
       "    <tr>\n",
       "      <th>2</th>\n",
       "      <td>A002</td>\n",
       "      <td>R051</td>\n",
       "      <td>02-00-00</td>\n",
       "      <td>59 ST</td>\n",
       "      <td>NQR456W</td>\n",
       "      <td>Brooklyn–Manhattan Transit Corporation</td>\n",
       "      <td>08/25/2018</td>\n",
       "      <td>08:00:00</td>\n",
       "      <td>REGULAR</td>\n",
       "      <td>0006736105</td>\n",
       "      <td>0002283229                                    ...</td>\n",
       "      <td>True</td>\n",
       "    </tr>\n",
       "    <tr>\n",
       "      <th>3</th>\n",
       "      <td>A002</td>\n",
       "      <td>R051</td>\n",
       "      <td>02-00-00</td>\n",
       "      <td>59 ST</td>\n",
       "      <td>NQR456W</td>\n",
       "      <td>Brooklyn–Manhattan Transit Corporation</td>\n",
       "      <td>08/25/2018</td>\n",
       "      <td>12:00:00</td>\n",
       "      <td>REGULAR</td>\n",
       "      <td>0006736180</td>\n",
       "      <td>0002283314                                    ...</td>\n",
       "      <td>True</td>\n",
       "    </tr>\n",
       "    <tr>\n",
       "      <th>4</th>\n",
       "      <td>A002</td>\n",
       "      <td>R051</td>\n",
       "      <td>02-00-00</td>\n",
       "      <td>59 ST</td>\n",
       "      <td>NQR456W</td>\n",
       "      <td>Brooklyn–Manhattan Transit Corporation</td>\n",
       "      <td>08/25/2018</td>\n",
       "      <td>16:00:00</td>\n",
       "      <td>REGULAR</td>\n",
       "      <td>0006736349</td>\n",
       "      <td>0002283384                                    ...</td>\n",
       "      <td>True</td>\n",
       "    </tr>\n",
       "    <tr>\n",
       "      <th>...</th>\n",
       "      <td>...</td>\n",
       "      <td>...</td>\n",
       "      <td>...</td>\n",
       "      <td>...</td>\n",
       "      <td>...</td>\n",
       "      <td>...</td>\n",
       "      <td>...</td>\n",
       "      <td>...</td>\n",
       "      <td>...</td>\n",
       "      <td>...</td>\n",
       "      <td>...</td>\n",
       "      <td>...</td>\n",
       "    </tr>\n",
       "    <tr>\n",
       "      <th>197620</th>\n",
       "      <td>TRAM2</td>\n",
       "      <td>R469</td>\n",
       "      <td>00-05-01</td>\n",
       "      <td>RIT-ROOSEVELT</td>\n",
       "      <td>R</td>\n",
       "      <td>Roosevelt Island Tram</td>\n",
       "      <td>08/31/2018</td>\n",
       "      <td>05:00:00</td>\n",
       "      <td>REGULAR</td>\n",
       "      <td>0000005554</td>\n",
       "      <td>0000000348                                    ...</td>\n",
       "      <td>False</td>\n",
       "    </tr>\n",
       "    <tr>\n",
       "      <th>197621</th>\n",
       "      <td>TRAM2</td>\n",
       "      <td>R469</td>\n",
       "      <td>00-05-01</td>\n",
       "      <td>RIT-ROOSEVELT</td>\n",
       "      <td>R</td>\n",
       "      <td>Roosevelt Island Tram</td>\n",
       "      <td>08/31/2018</td>\n",
       "      <td>09:00:00</td>\n",
       "      <td>REGULAR</td>\n",
       "      <td>0000005554</td>\n",
       "      <td>0000000348                                    ...</td>\n",
       "      <td>False</td>\n",
       "    </tr>\n",
       "    <tr>\n",
       "      <th>197622</th>\n",
       "      <td>TRAM2</td>\n",
       "      <td>R469</td>\n",
       "      <td>00-05-01</td>\n",
       "      <td>RIT-ROOSEVELT</td>\n",
       "      <td>R</td>\n",
       "      <td>Roosevelt Island Tram</td>\n",
       "      <td>08/31/2018</td>\n",
       "      <td>13:00:00</td>\n",
       "      <td>REGULAR</td>\n",
       "      <td>0000005554</td>\n",
       "      <td>0000000348                                    ...</td>\n",
       "      <td>False</td>\n",
       "    </tr>\n",
       "    <tr>\n",
       "      <th>197623</th>\n",
       "      <td>TRAM2</td>\n",
       "      <td>R469</td>\n",
       "      <td>00-05-01</td>\n",
       "      <td>RIT-ROOSEVELT</td>\n",
       "      <td>R</td>\n",
       "      <td>Roosevelt Island Tram</td>\n",
       "      <td>08/31/2018</td>\n",
       "      <td>17:00:00</td>\n",
       "      <td>REGULAR</td>\n",
       "      <td>0000005554</td>\n",
       "      <td>0000000348                                    ...</td>\n",
       "      <td>False</td>\n",
       "    </tr>\n",
       "    <tr>\n",
       "      <th>197624</th>\n",
       "      <td>TRAM2</td>\n",
       "      <td>R469</td>\n",
       "      <td>00-05-01</td>\n",
       "      <td>RIT-ROOSEVELT</td>\n",
       "      <td>R</td>\n",
       "      <td>Roosevelt Island Tram</td>\n",
       "      <td>08/31/2018</td>\n",
       "      <td>21:00:00</td>\n",
       "      <td>REGULAR</td>\n",
       "      <td>0000005554</td>\n",
       "      <td>0000000348                                    ...</td>\n",
       "      <td>False</td>\n",
       "    </tr>\n",
       "  </tbody>\n",
       "</table>\n",
       "<p>197625 rows × 12 columns</p>\n",
       "</div>"
      ],
      "text/plain": [
       "          C/A  UNIT       SCP        STATION LINENAME  \\\n",
       "0        A002  R051  02-00-00          59 ST  NQR456W   \n",
       "1        A002  R051  02-00-00          59 ST  NQR456W   \n",
       "2        A002  R051  02-00-00          59 ST  NQR456W   \n",
       "3        A002  R051  02-00-00          59 ST  NQR456W   \n",
       "4        A002  R051  02-00-00          59 ST  NQR456W   \n",
       "...       ...   ...       ...            ...      ...   \n",
       "197620  TRAM2  R469  00-05-01  RIT-ROOSEVELT        R   \n",
       "197621  TRAM2  R469  00-05-01  RIT-ROOSEVELT        R   \n",
       "197622  TRAM2  R469  00-05-01  RIT-ROOSEVELT        R   \n",
       "197623  TRAM2  R469  00-05-01  RIT-ROOSEVELT        R   \n",
       "197624  TRAM2  R469  00-05-01  RIT-ROOSEVELT        R   \n",
       "\n",
       "                                      DIVISION        DATE      TIME     DESC  \\\n",
       "0       Brooklyn–Manhattan Transit Corporation  08/25/2018  00:00:00  REGULAR   \n",
       "1       Brooklyn–Manhattan Transit Corporation  08/25/2018  04:00:00  REGULAR   \n",
       "2       Brooklyn–Manhattan Transit Corporation  08/25/2018  08:00:00  REGULAR   \n",
       "3       Brooklyn–Manhattan Transit Corporation  08/25/2018  12:00:00  REGULAR   \n",
       "4       Brooklyn–Manhattan Transit Corporation  08/25/2018  16:00:00  REGULAR   \n",
       "...                                        ...         ...       ...      ...   \n",
       "197620                   Roosevelt Island Tram  08/31/2018  05:00:00  REGULAR   \n",
       "197621                   Roosevelt Island Tram  08/31/2018  09:00:00  REGULAR   \n",
       "197622                   Roosevelt Island Tram  08/31/2018  13:00:00  REGULAR   \n",
       "197623                   Roosevelt Island Tram  08/31/2018  17:00:00  REGULAR   \n",
       "197624                   Roosevelt Island Tram  08/31/2018  21:00:00  REGULAR   \n",
       "\n",
       "           ENTRIES  \\\n",
       "0       0006736067   \n",
       "1       0006736087   \n",
       "2       0006736105   \n",
       "3       0006736180   \n",
       "4       0006736349   \n",
       "...            ...   \n",
       "197620  0000005554   \n",
       "197621  0000005554   \n",
       "197622  0000005554   \n",
       "197623  0000005554   \n",
       "197624  0000005554   \n",
       "\n",
       "       EXITS                                                                 \\\n",
       "0       0002283184                                    ...                     \n",
       "1       0002283188                                    ...                     \n",
       "2       0002283229                                    ...                     \n",
       "3       0002283314                                    ...                     \n",
       "4       0002283384                                    ...                     \n",
       "...                                                   ...                     \n",
       "197620  0000000348                                    ...                     \n",
       "197621  0000000348                                    ...                     \n",
       "197622  0000000348                                    ...                     \n",
       "197623  0000000348                                    ...                     \n",
       "197624  0000000348                                    ...                     \n",
       "\n",
       "        On_N_Line  \n",
       "0            True  \n",
       "1            True  \n",
       "2            True  \n",
       "3            True  \n",
       "4            True  \n",
       "...           ...  \n",
       "197620      False  \n",
       "197621      False  \n",
       "197622      False  \n",
       "197623      False  \n",
       "197624      False  \n",
       "\n",
       "[197625 rows x 12 columns]"
      ]
     },
     "execution_count": 260,
     "metadata": {},
     "output_type": "execute_result"
    }
   ],
   "source": [
    "df['On_N_Line'] = df['LINENAME'].map(contains_n)\n",
    "df"
   ]
  },
  {
   "cell_type": "code",
   "execution_count": 261,
   "metadata": {},
   "outputs": [
    {
     "data": {
      "text/plain": [
       "False    0.870441\n",
       "True     0.129559\n",
       "Name: On_N_Line, dtype: float64"
      ]
     },
     "execution_count": 261,
     "metadata": {},
     "output_type": "execute_result"
    }
   ],
   "source": [
    "df['On_N_Line'].value_counts(normalize=True)"
   ]
  },
  {
   "cell_type": "code",
   "execution_count": 262,
   "metadata": {},
   "outputs": [
    {
     "data": {
      "text/plain": [
       "0.8704414927261227"
      ]
     },
     "execution_count": 262,
     "metadata": {},
     "output_type": "execute_result"
    }
   ],
   "source": [
    "172021/(172021+25604)"
   ]
  },
  {
   "cell_type": "markdown",
   "metadata": {},
   "source": [
    "Functions + .map() Explanation\n",
    "Above we used the .map() method for Pandas series (documentation here). This allows us to pass a function that will be applied to each and every data entry within the series. This line of Python code:"
   ]
  },
  {
   "cell_type": "code",
   "execution_count": 263,
   "metadata": {},
   "outputs": [],
   "source": [
    "df['On_N_Line'] = df['LINENAME'].map(contains_n)"
   ]
  },
  {
   "cell_type": "markdown",
   "metadata": {},
   "source": [
    "Is essentially the equivalent of this:"
   ]
  },
  {
   "cell_type": "code",
   "execution_count": 264,
   "metadata": {},
   "outputs": [],
   "source": [
    "#create an empty list\n",
    "on_n_line = []\n",
    "#loop over every row in the dataframe\n",
    "for _,row in df.iterrows():\n",
    "    # Call the function to see if LINENAME contains N\n",
    "    row_contains_n = contains_n(row['LINENAME'])\n",
    "     # Append this result to a list\n",
    "    on_n_line.append(row_contains_n)\n",
    "## Add this list to the dataframe as a new column\n",
    "#df['On_N_Line'] = on_n_line"
   ]
  },
  {
   "cell_type": "markdown",
   "metadata": {},
   "source": [
    "Note that the above snippet is much more complicated than the .map() syntax AND the code would run more slowly because it is less efficient. If you ever find yourself trying to write a for loop that loops over all rows in a DataFrame, you are probably doing it wrong.\n",
    "\n",
    "As shorthand, since this function is only one line we could also pass a lambda function to determine whether or not each row was on the N line or not, rather than declaring a separate function:"
   ]
  },
  {
   "cell_type": "code",
   "execution_count": 265,
   "metadata": {},
   "outputs": [
    {
     "data": {
      "text/html": [
       "<div>\n",
       "<style scoped>\n",
       "    .dataframe tbody tr th:only-of-type {\n",
       "        vertical-align: middle;\n",
       "    }\n",
       "\n",
       "    .dataframe tbody tr th {\n",
       "        vertical-align: top;\n",
       "    }\n",
       "\n",
       "    .dataframe thead th {\n",
       "        text-align: right;\n",
       "    }\n",
       "</style>\n",
       "<table border=\"1\" class=\"dataframe\">\n",
       "  <thead>\n",
       "    <tr style=\"text-align: right;\">\n",
       "      <th></th>\n",
       "      <th>C/A</th>\n",
       "      <th>UNIT</th>\n",
       "      <th>SCP</th>\n",
       "      <th>STATION</th>\n",
       "      <th>LINENAME</th>\n",
       "      <th>DIVISION</th>\n",
       "      <th>DATE</th>\n",
       "      <th>TIME</th>\n",
       "      <th>DESC</th>\n",
       "      <th>ENTRIES</th>\n",
       "      <th>EXITS</th>\n",
       "      <th>On_N_Line</th>\n",
       "    </tr>\n",
       "  </thead>\n",
       "  <tbody>\n",
       "    <tr>\n",
       "      <th>0</th>\n",
       "      <td>A002</td>\n",
       "      <td>R051</td>\n",
       "      <td>02-00-00</td>\n",
       "      <td>59 ST</td>\n",
       "      <td>NQR456W</td>\n",
       "      <td>Brooklyn–Manhattan Transit Corporation</td>\n",
       "      <td>08/25/2018</td>\n",
       "      <td>00:00:00</td>\n",
       "      <td>REGULAR</td>\n",
       "      <td>0006736067</td>\n",
       "      <td>0002283184                                    ...</td>\n",
       "      <td>True</td>\n",
       "    </tr>\n",
       "    <tr>\n",
       "      <th>1</th>\n",
       "      <td>A002</td>\n",
       "      <td>R051</td>\n",
       "      <td>02-00-00</td>\n",
       "      <td>59 ST</td>\n",
       "      <td>NQR456W</td>\n",
       "      <td>Brooklyn–Manhattan Transit Corporation</td>\n",
       "      <td>08/25/2018</td>\n",
       "      <td>04:00:00</td>\n",
       "      <td>REGULAR</td>\n",
       "      <td>0006736087</td>\n",
       "      <td>0002283188                                    ...</td>\n",
       "      <td>True</td>\n",
       "    </tr>\n",
       "    <tr>\n",
       "      <th>2</th>\n",
       "      <td>A002</td>\n",
       "      <td>R051</td>\n",
       "      <td>02-00-00</td>\n",
       "      <td>59 ST</td>\n",
       "      <td>NQR456W</td>\n",
       "      <td>Brooklyn–Manhattan Transit Corporation</td>\n",
       "      <td>08/25/2018</td>\n",
       "      <td>08:00:00</td>\n",
       "      <td>REGULAR</td>\n",
       "      <td>0006736105</td>\n",
       "      <td>0002283229                                    ...</td>\n",
       "      <td>True</td>\n",
       "    </tr>\n",
       "    <tr>\n",
       "      <th>3</th>\n",
       "      <td>A002</td>\n",
       "      <td>R051</td>\n",
       "      <td>02-00-00</td>\n",
       "      <td>59 ST</td>\n",
       "      <td>NQR456W</td>\n",
       "      <td>Brooklyn–Manhattan Transit Corporation</td>\n",
       "      <td>08/25/2018</td>\n",
       "      <td>12:00:00</td>\n",
       "      <td>REGULAR</td>\n",
       "      <td>0006736180</td>\n",
       "      <td>0002283314                                    ...</td>\n",
       "      <td>True</td>\n",
       "    </tr>\n",
       "    <tr>\n",
       "      <th>4</th>\n",
       "      <td>A002</td>\n",
       "      <td>R051</td>\n",
       "      <td>02-00-00</td>\n",
       "      <td>59 ST</td>\n",
       "      <td>NQR456W</td>\n",
       "      <td>Brooklyn–Manhattan Transit Corporation</td>\n",
       "      <td>08/25/2018</td>\n",
       "      <td>16:00:00</td>\n",
       "      <td>REGULAR</td>\n",
       "      <td>0006736349</td>\n",
       "      <td>0002283384                                    ...</td>\n",
       "      <td>True</td>\n",
       "    </tr>\n",
       "  </tbody>\n",
       "</table>\n",
       "</div>"
      ],
      "text/plain": [
       "    C/A  UNIT       SCP STATION LINENAME  \\\n",
       "0  A002  R051  02-00-00   59 ST  NQR456W   \n",
       "1  A002  R051  02-00-00   59 ST  NQR456W   \n",
       "2  A002  R051  02-00-00   59 ST  NQR456W   \n",
       "3  A002  R051  02-00-00   59 ST  NQR456W   \n",
       "4  A002  R051  02-00-00   59 ST  NQR456W   \n",
       "\n",
       "                                 DIVISION        DATE      TIME     DESC  \\\n",
       "0  Brooklyn–Manhattan Transit Corporation  08/25/2018  00:00:00  REGULAR   \n",
       "1  Brooklyn–Manhattan Transit Corporation  08/25/2018  04:00:00  REGULAR   \n",
       "2  Brooklyn–Manhattan Transit Corporation  08/25/2018  08:00:00  REGULAR   \n",
       "3  Brooklyn–Manhattan Transit Corporation  08/25/2018  12:00:00  REGULAR   \n",
       "4  Brooklyn–Manhattan Transit Corporation  08/25/2018  16:00:00  REGULAR   \n",
       "\n",
       "      ENTRIES  \\\n",
       "0  0006736067   \n",
       "1  0006736087   \n",
       "2  0006736105   \n",
       "3  0006736180   \n",
       "4  0006736349   \n",
       "\n",
       "  EXITS                                                                 \\\n",
       "0  0002283184                                    ...                     \n",
       "1  0002283188                                    ...                     \n",
       "2  0002283229                                    ...                     \n",
       "3  0002283314                                    ...                     \n",
       "4  0002283384                                    ...                     \n",
       "\n",
       "   On_N_Line  \n",
       "0       True  \n",
       "1       True  \n",
       "2       True  \n",
       "3       True  \n",
       "4       True  "
      ]
     },
     "execution_count": 265,
     "metadata": {},
     "output_type": "execute_result"
    }
   ],
   "source": [
    "df['On_N_Line'] = df['LINENAME'].map(lambda x:'N' in x)\n",
    "df.head()"
   ]
  },
  {
   "cell_type": "markdown",
   "metadata": {},
   "source": [
    "This is shorter and equivalent to the functions defined above. Lambda functions are often more convenient, but have less functionality than defining functions explicitly.\n",
    "### Vectorized Pandas Logic for N Line\n",
    "Even better than using .map() with a custom function is using one of the highly efficient methods built into pandas. These will exist for most common tasks, and checking whether a string contains another string is no exception. The best way to make the On_N_Line column is actually using pandas.Series.str.contains\n"
   ]
  },
  {
   "cell_type": "code",
   "execution_count": 266,
   "metadata": {},
   "outputs": [
    {
     "data": {
      "text/html": [
       "<div>\n",
       "<style scoped>\n",
       "    .dataframe tbody tr th:only-of-type {\n",
       "        vertical-align: middle;\n",
       "    }\n",
       "\n",
       "    .dataframe tbody tr th {\n",
       "        vertical-align: top;\n",
       "    }\n",
       "\n",
       "    .dataframe thead th {\n",
       "        text-align: right;\n",
       "    }\n",
       "</style>\n",
       "<table border=\"1\" class=\"dataframe\">\n",
       "  <thead>\n",
       "    <tr style=\"text-align: right;\">\n",
       "      <th></th>\n",
       "      <th>C/A</th>\n",
       "      <th>UNIT</th>\n",
       "      <th>SCP</th>\n",
       "      <th>STATION</th>\n",
       "      <th>LINENAME</th>\n",
       "      <th>DIVISION</th>\n",
       "      <th>DATE</th>\n",
       "      <th>TIME</th>\n",
       "      <th>DESC</th>\n",
       "      <th>ENTRIES</th>\n",
       "      <th>EXITS</th>\n",
       "      <th>On_N_Line</th>\n",
       "    </tr>\n",
       "  </thead>\n",
       "  <tbody>\n",
       "    <tr>\n",
       "      <th>0</th>\n",
       "      <td>A002</td>\n",
       "      <td>R051</td>\n",
       "      <td>02-00-00</td>\n",
       "      <td>59 ST</td>\n",
       "      <td>NQR456W</td>\n",
       "      <td>Brooklyn–Manhattan Transit Corporation</td>\n",
       "      <td>08/25/2018</td>\n",
       "      <td>00:00:00</td>\n",
       "      <td>REGULAR</td>\n",
       "      <td>0006736067</td>\n",
       "      <td>0002283184                                    ...</td>\n",
       "      <td>True</td>\n",
       "    </tr>\n",
       "    <tr>\n",
       "      <th>1</th>\n",
       "      <td>A002</td>\n",
       "      <td>R051</td>\n",
       "      <td>02-00-00</td>\n",
       "      <td>59 ST</td>\n",
       "      <td>NQR456W</td>\n",
       "      <td>Brooklyn–Manhattan Transit Corporation</td>\n",
       "      <td>08/25/2018</td>\n",
       "      <td>04:00:00</td>\n",
       "      <td>REGULAR</td>\n",
       "      <td>0006736087</td>\n",
       "      <td>0002283188                                    ...</td>\n",
       "      <td>True</td>\n",
       "    </tr>\n",
       "    <tr>\n",
       "      <th>2</th>\n",
       "      <td>A002</td>\n",
       "      <td>R051</td>\n",
       "      <td>02-00-00</td>\n",
       "      <td>59 ST</td>\n",
       "      <td>NQR456W</td>\n",
       "      <td>Brooklyn–Manhattan Transit Corporation</td>\n",
       "      <td>08/25/2018</td>\n",
       "      <td>08:00:00</td>\n",
       "      <td>REGULAR</td>\n",
       "      <td>0006736105</td>\n",
       "      <td>0002283229                                    ...</td>\n",
       "      <td>True</td>\n",
       "    </tr>\n",
       "    <tr>\n",
       "      <th>3</th>\n",
       "      <td>A002</td>\n",
       "      <td>R051</td>\n",
       "      <td>02-00-00</td>\n",
       "      <td>59 ST</td>\n",
       "      <td>NQR456W</td>\n",
       "      <td>Brooklyn–Manhattan Transit Corporation</td>\n",
       "      <td>08/25/2018</td>\n",
       "      <td>12:00:00</td>\n",
       "      <td>REGULAR</td>\n",
       "      <td>0006736180</td>\n",
       "      <td>0002283314                                    ...</td>\n",
       "      <td>True</td>\n",
       "    </tr>\n",
       "    <tr>\n",
       "      <th>4</th>\n",
       "      <td>A002</td>\n",
       "      <td>R051</td>\n",
       "      <td>02-00-00</td>\n",
       "      <td>59 ST</td>\n",
       "      <td>NQR456W</td>\n",
       "      <td>Brooklyn–Manhattan Transit Corporation</td>\n",
       "      <td>08/25/2018</td>\n",
       "      <td>16:00:00</td>\n",
       "      <td>REGULAR</td>\n",
       "      <td>0006736349</td>\n",
       "      <td>0002283384                                    ...</td>\n",
       "      <td>True</td>\n",
       "    </tr>\n",
       "  </tbody>\n",
       "</table>\n",
       "</div>"
      ],
      "text/plain": [
       "    C/A  UNIT       SCP STATION LINENAME  \\\n",
       "0  A002  R051  02-00-00   59 ST  NQR456W   \n",
       "1  A002  R051  02-00-00   59 ST  NQR456W   \n",
       "2  A002  R051  02-00-00   59 ST  NQR456W   \n",
       "3  A002  R051  02-00-00   59 ST  NQR456W   \n",
       "4  A002  R051  02-00-00   59 ST  NQR456W   \n",
       "\n",
       "                                 DIVISION        DATE      TIME     DESC  \\\n",
       "0  Brooklyn–Manhattan Transit Corporation  08/25/2018  00:00:00  REGULAR   \n",
       "1  Brooklyn–Manhattan Transit Corporation  08/25/2018  04:00:00  REGULAR   \n",
       "2  Brooklyn–Manhattan Transit Corporation  08/25/2018  08:00:00  REGULAR   \n",
       "3  Brooklyn–Manhattan Transit Corporation  08/25/2018  12:00:00  REGULAR   \n",
       "4  Brooklyn–Manhattan Transit Corporation  08/25/2018  16:00:00  REGULAR   \n",
       "\n",
       "      ENTRIES  \\\n",
       "0  0006736067   \n",
       "1  0006736087   \n",
       "2  0006736105   \n",
       "3  0006736180   \n",
       "4  0006736349   \n",
       "\n",
       "  EXITS                                                                 \\\n",
       "0  0002283184                                    ...                     \n",
       "1  0002283188                                    ...                     \n",
       "2  0002283229                                    ...                     \n",
       "3  0002283314                                    ...                     \n",
       "4  0002283384                                    ...                     \n",
       "\n",
       "   On_N_Line  \n",
       "0       True  \n",
       "1       True  \n",
       "2       True  \n",
       "3       True  \n",
       "4       True  "
      ]
     },
     "execution_count": 266,
     "metadata": {},
     "output_type": "execute_result"
    }
   ],
   "source": [
    "df['On_N_Line'] = df['LINENAME'].str.contains('N',regex=False)\n",
    "df.head()"
   ]
  },
  {
   "cell_type": "markdown",
   "metadata": {},
   "source": [
    "Sometimes, like with this example, the naming is slightly different between base Python and pandas. In base Python we ask whether one string is in another, whereas in pandas we ask whether one .contains another. Try browsing the available methods on the left side menu of the pandas documentation to find what you're looking for in cases like this.\n",
    "\n",
    "Whether you use .map() or .str.contains() will matter more as the dataframe size increases. If you are working with a relatively small dataframe, you may have an easier time if you focus on figuring out something that works rather than worrying too much about finding the optimal technique.\n",
    "### pandas.Series.str.contains\n",
    "**Series.str.contains(pat, case=True, flags=0, na=None, regex=True)**\n",
    "Test if pattern or regex is contained within a string of a Series or Index.\n",
    "\n",
    "Return boolean Series or Index based on whether a given pattern or regex is contained within a string of a Series or Index."
   ]
  },
  {
   "cell_type": "code",
   "execution_count": 267,
   "metadata": {},
   "outputs": [
    {
     "data": {
      "text/plain": [
       "0               Mouse\n",
       "1                 dog\n",
       "2    house and parrot\n",
       "3                  23\n",
       "4                 NaN\n",
       "dtype: object"
      ]
     },
     "execution_count": 267,
     "metadata": {},
     "output_type": "execute_result"
    }
   ],
   "source": [
    "s1 = pd.Series(['Mouse', 'dog', 'house and parrot', '23', np.nan])\n",
    "s1"
   ]
  },
  {
   "cell_type": "code",
   "execution_count": 268,
   "metadata": {},
   "outputs": [
    {
     "data": {
      "text/plain": [
       "0    False\n",
       "1     True\n",
       "2    False\n",
       "3    False\n",
       "4      NaN\n",
       "dtype: object"
      ]
     },
     "execution_count": 268,
     "metadata": {},
     "output_type": "execute_result"
    }
   ],
   "source": [
    "#Returning a Series of booleans using only a literal pattern.\n",
    "s1.str.contains('og',regex=False)"
   ]
  },
  {
   "cell_type": "code",
   "execution_count": 269,
   "metadata": {},
   "outputs": [
    {
     "data": {
      "text/plain": [
       "Index([False, False, False, True, nan], dtype='object')"
      ]
     },
     "execution_count": 269,
     "metadata": {},
     "output_type": "execute_result"
    }
   ],
   "source": [
    "#Returning an Index of booleans using only a literal pattern.\n",
    "ind = pd.Index(['Mouse', 'dog', 'house and parrot', '23.0', np.nan])\n",
    "ind.str.contains('23',regex=False)"
   ]
  },
  {
   "cell_type": "code",
   "execution_count": 270,
   "metadata": {},
   "outputs": [
    {
     "data": {
      "text/plain": [
       "0    False\n",
       "1    False\n",
       "2    False\n",
       "3    False\n",
       "4      NaN\n",
       "dtype: object"
      ]
     },
     "execution_count": 270,
     "metadata": {},
     "output_type": "execute_result"
    }
   ],
   "source": [
    "#Specifying case sensitivity using case.\n",
    "s1.str.contains('oG', case=True, regex=True)"
   ]
  },
  {
   "cell_type": "code",
   "execution_count": 271,
   "metadata": {},
   "outputs": [
    {
     "data": {
      "text/plain": [
       "0    False\n",
       "1     True\n",
       "2    False\n",
       "3    False\n",
       "4    False\n",
       "dtype: bool"
      ]
     },
     "execution_count": 271,
     "metadata": {},
     "output_type": "execute_result"
    }
   ],
   "source": [
    "#Specifying na to be False instead of NaN replaces NaN values with False. If Series or Index does not contain NaN values the resultant dtype will be bool, otherwise, an object dtype.\n",
    "s1.str.contains('og', na=False, regex=True)"
   ]
  },
  {
   "cell_type": "code",
   "execution_count": 272,
   "metadata": {},
   "outputs": [
    {
     "data": {
      "text/plain": [
       "0    False\n",
       "1     True\n",
       "2     True\n",
       "3    False\n",
       "4      NaN\n",
       "dtype: object"
      ]
     },
     "execution_count": 272,
     "metadata": {},
     "output_type": "execute_result"
    }
   ],
   "source": [
    "#Returning ‘house’ or ‘dog’ when either expression occurs in a string.\n",
    "s1.str.contains('house|dog', regex=True)"
   ]
  },
  {
   "cell_type": "code",
   "execution_count": 273,
   "metadata": {},
   "outputs": [
    {
     "data": {
      "text/plain": [
       "0    False\n",
       "1    False\n",
       "2     True\n",
       "3    False\n",
       "4      NaN\n",
       "dtype: object"
      ]
     },
     "execution_count": 273,
     "metadata": {},
     "output_type": "execute_result"
    }
   ],
   "source": [
    "#Ignoring case sensitivity using flags with regex.\n",
    "import re\n",
    "s1.str.contains('PARROT', flags=re.IGNORECASE, regex=True)"
   ]
  },
  {
   "cell_type": "code",
   "execution_count": 274,
   "metadata": {},
   "outputs": [
    {
     "data": {
      "text/plain": [
       "0               Mouse\n",
       "1                 dog\n",
       "2    house and parrot\n",
       "3                  23\n",
       "4                 NaN\n",
       "dtype: object"
      ]
     },
     "execution_count": 274,
     "metadata": {},
     "output_type": "execute_result"
    }
   ],
   "source": [
    "s1"
   ]
  },
  {
   "cell_type": "markdown",
   "metadata": {},
   "source": [
    "Ensure pat is a not a literal pattern when regex is set to True. Note in the following example one might expect only s2[1] and s2[3] to return True. However, ‘.0’ as a regex matches any character followed by a 0."
   ]
  },
  {
   "cell_type": "code",
   "execution_count": 275,
   "metadata": {},
   "outputs": [
    {
     "data": {
      "text/plain": [
       "0     True\n",
       "1     True\n",
       "2    False\n",
       "3     True\n",
       "4    False\n",
       "dtype: bool"
      ]
     },
     "execution_count": 275,
     "metadata": {},
     "output_type": "execute_result"
    }
   ],
   "source": [
    "s2 = pd.Series(['40', '40.0', '41', '41.0', '35'])\n",
    "s2.str.contains('.0', regex=True)"
   ]
  },
  {
   "cell_type": "markdown",
   "metadata": {},
   "source": [
    "### Tansforming Columns\n",
    "### Cleaning Column Names\n",
    "Sometimes, you have messy column names. Let's look at what we currently have:\n"
   ]
  },
  {
   "cell_type": "code",
   "execution_count": 276,
   "metadata": {},
   "outputs": [
    {
     "data": {
      "text/plain": [
       "Index(['C/A', 'UNIT', 'SCP', 'STATION', 'LINENAME', 'DIVISION', 'DATE', 'TIME',\n",
       "       'DESC', 'ENTRIES',\n",
       "       'EXITS                                                               ',\n",
       "       'On_N_Line'],\n",
       "      dtype='object')"
      ]
     },
     "execution_count": 276,
     "metadata": {},
     "output_type": "execute_result"
    }
   ],
   "source": [
    "df.columns"
   ]
  },
  {
   "cell_type": "markdown",
   "metadata": {},
   "source": [
    "You might notice that the EXITS column has a lot of annoying whitespace following it.\n",
    "\n",
    "We can quickly use a list comprehension to clean up all of the column names"
   ]
  },
  {
   "cell_type": "code",
   "execution_count": 277,
   "metadata": {},
   "outputs": [
    {
     "data": {
      "text/plain": [
       "['C/A',\n",
       " 'UNIT',\n",
       " 'SCP',\n",
       " 'STATION',\n",
       " 'LINENAME',\n",
       " 'DIVISION',\n",
       " 'DATE',\n",
       " 'TIME',\n",
       " 'DESC',\n",
       " 'ENTRIES',\n",
       " 'EXITS',\n",
       " 'On_N_Line']"
      ]
     },
     "execution_count": 277,
     "metadata": {},
     "output_type": "execute_result"
    }
   ],
   "source": [
    "[col.strip() for col in df.columns]"
   ]
  },
  {
   "cell_type": "markdown",
   "metadata": {},
   "source": [
    "Because there are relatively few column names, a list comprehension like that is usually sufficient. However you can use similar techniques to the ones described above if you need to:"
   ]
  },
  {
   "cell_type": "code",
   "execution_count": 278,
   "metadata": {},
   "outputs": [
    {
     "data": {
      "text/plain": [
       "Index(['C/A', 'UNIT', 'SCP', 'STATION', 'LINENAME', 'DIVISION', 'DATE', 'TIME',\n",
       "       'DESC', 'ENTRIES', 'EXITS', 'On_N_Line'],\n",
       "      dtype='object')"
      ]
     },
     "execution_count": 278,
     "metadata": {},
     "output_type": "execute_result"
    }
   ],
   "source": [
    "df.columns.str.strip()"
   ]
  },
  {
   "cell_type": "code",
   "execution_count": 279,
   "metadata": {},
   "outputs": [
    {
     "data": {
      "text/plain": [
       "Index(['C/A', 'UNIT', 'SCP', 'STATION', 'LINENAME', 'DIVISION', 'DATE', 'TIME',\n",
       "       'DESC', 'ENTRIES', 'EXITS', 'On_N_Line'],\n",
       "      dtype='object')"
      ]
     },
     "execution_count": 279,
     "metadata": {},
     "output_type": "execute_result"
    }
   ],
   "source": [
    "df.columns.map(lambda col : col.strip())"
   ]
  },
  {
   "cell_type": "markdown",
   "metadata": {},
   "source": [
    "Note that none of these have actually modified the columns so far:"
   ]
  },
  {
   "cell_type": "code",
   "execution_count": 280,
   "metadata": {},
   "outputs": [
    {
     "data": {
      "text/plain": [
       "Index(['C/A', 'UNIT', 'SCP', 'STATION', 'LINENAME', 'DIVISION', 'DATE', 'TIME',\n",
       "       'DESC', 'ENTRIES',\n",
       "       'EXITS                                                               ',\n",
       "       'On_N_Line'],\n",
       "      dtype='object')"
      ]
     },
     "execution_count": 280,
     "metadata": {},
     "output_type": "execute_result"
    }
   ],
   "source": [
    "df.columns"
   ]
  },
  {
   "cell_type": "markdown",
   "metadata": {},
   "source": [
    "We need to reassign df.columns for this to happen:"
   ]
  },
  {
   "cell_type": "code",
   "execution_count": 281,
   "metadata": {},
   "outputs": [
    {
     "data": {
      "text/plain": [
       "Index(['C/A', 'UNIT', 'SCP', 'STATION', 'LINENAME', 'DIVISION', 'DATE', 'TIME',\n",
       "       'DESC', 'ENTRIES', 'EXITS', 'On_N_Line'],\n",
       "      dtype='object')"
      ]
     },
     "execution_count": 281,
     "metadata": {},
     "output_type": "execute_result"
    }
   ],
   "source": [
    "# Even though this is assigning a list of strings, it\n",
    "# will be cast to an Index automatically\n",
    "df.columns = [col.strip() for col in df.columns]\n",
    "df.columns\n"
   ]
  },
  {
   "cell_type": "markdown",
   "metadata": {},
   "source": [
    "### Renaming Columns\n",
    "You can also rename columns using dictionaries. Unlike .map(), which will replace values with NaN if they do not have an associated key in the dictionary, .rename() will only replace values that appear in the dictionary. This is useful if you only want to replace some values.\n",
    "\n",
    "Let's say we want to rename C/A to CONTROL_AREA (the data dictionary indicates that this is what it stands for)."
   ]
  },
  {
   "cell_type": "code",
   "execution_count": 282,
   "metadata": {},
   "outputs": [
    {
     "data": {
      "text/html": [
       "<div>\n",
       "<style scoped>\n",
       "    .dataframe tbody tr th:only-of-type {\n",
       "        vertical-align: middle;\n",
       "    }\n",
       "\n",
       "    .dataframe tbody tr th {\n",
       "        vertical-align: top;\n",
       "    }\n",
       "\n",
       "    .dataframe thead th {\n",
       "        text-align: right;\n",
       "    }\n",
       "</style>\n",
       "<table border=\"1\" class=\"dataframe\">\n",
       "  <thead>\n",
       "    <tr style=\"text-align: right;\">\n",
       "      <th></th>\n",
       "      <th>CONTROL_AREA</th>\n",
       "      <th>UNIT</th>\n",
       "      <th>SCP</th>\n",
       "      <th>STATION</th>\n",
       "      <th>LINENAME</th>\n",
       "      <th>DIVISION</th>\n",
       "      <th>DATE</th>\n",
       "      <th>TIME</th>\n",
       "      <th>DESC</th>\n",
       "      <th>ENTRIES</th>\n",
       "      <th>EXITS</th>\n",
       "      <th>On_N_Line</th>\n",
       "    </tr>\n",
       "  </thead>\n",
       "  <tbody>\n",
       "    <tr>\n",
       "      <th>0</th>\n",
       "      <td>A002</td>\n",
       "      <td>R051</td>\n",
       "      <td>02-00-00</td>\n",
       "      <td>59 ST</td>\n",
       "      <td>NQR456W</td>\n",
       "      <td>Brooklyn–Manhattan Transit Corporation</td>\n",
       "      <td>08/25/2018</td>\n",
       "      <td>00:00:00</td>\n",
       "      <td>REGULAR</td>\n",
       "      <td>0006736067</td>\n",
       "      <td>0002283184                                    ...</td>\n",
       "      <td>True</td>\n",
       "    </tr>\n",
       "    <tr>\n",
       "      <th>1</th>\n",
       "      <td>A002</td>\n",
       "      <td>R051</td>\n",
       "      <td>02-00-00</td>\n",
       "      <td>59 ST</td>\n",
       "      <td>NQR456W</td>\n",
       "      <td>Brooklyn–Manhattan Transit Corporation</td>\n",
       "      <td>08/25/2018</td>\n",
       "      <td>04:00:00</td>\n",
       "      <td>REGULAR</td>\n",
       "      <td>0006736087</td>\n",
       "      <td>0002283188                                    ...</td>\n",
       "      <td>True</td>\n",
       "    </tr>\n",
       "    <tr>\n",
       "      <th>2</th>\n",
       "      <td>A002</td>\n",
       "      <td>R051</td>\n",
       "      <td>02-00-00</td>\n",
       "      <td>59 ST</td>\n",
       "      <td>NQR456W</td>\n",
       "      <td>Brooklyn–Manhattan Transit Corporation</td>\n",
       "      <td>08/25/2018</td>\n",
       "      <td>08:00:00</td>\n",
       "      <td>REGULAR</td>\n",
       "      <td>0006736105</td>\n",
       "      <td>0002283229                                    ...</td>\n",
       "      <td>True</td>\n",
       "    </tr>\n",
       "    <tr>\n",
       "      <th>3</th>\n",
       "      <td>A002</td>\n",
       "      <td>R051</td>\n",
       "      <td>02-00-00</td>\n",
       "      <td>59 ST</td>\n",
       "      <td>NQR456W</td>\n",
       "      <td>Brooklyn–Manhattan Transit Corporation</td>\n",
       "      <td>08/25/2018</td>\n",
       "      <td>12:00:00</td>\n",
       "      <td>REGULAR</td>\n",
       "      <td>0006736180</td>\n",
       "      <td>0002283314                                    ...</td>\n",
       "      <td>True</td>\n",
       "    </tr>\n",
       "    <tr>\n",
       "      <th>4</th>\n",
       "      <td>A002</td>\n",
       "      <td>R051</td>\n",
       "      <td>02-00-00</td>\n",
       "      <td>59 ST</td>\n",
       "      <td>NQR456W</td>\n",
       "      <td>Brooklyn–Manhattan Transit Corporation</td>\n",
       "      <td>08/25/2018</td>\n",
       "      <td>16:00:00</td>\n",
       "      <td>REGULAR</td>\n",
       "      <td>0006736349</td>\n",
       "      <td>0002283384                                    ...</td>\n",
       "      <td>True</td>\n",
       "    </tr>\n",
       "    <tr>\n",
       "      <th>...</th>\n",
       "      <td>...</td>\n",
       "      <td>...</td>\n",
       "      <td>...</td>\n",
       "      <td>...</td>\n",
       "      <td>...</td>\n",
       "      <td>...</td>\n",
       "      <td>...</td>\n",
       "      <td>...</td>\n",
       "      <td>...</td>\n",
       "      <td>...</td>\n",
       "      <td>...</td>\n",
       "      <td>...</td>\n",
       "    </tr>\n",
       "    <tr>\n",
       "      <th>197620</th>\n",
       "      <td>TRAM2</td>\n",
       "      <td>R469</td>\n",
       "      <td>00-05-01</td>\n",
       "      <td>RIT-ROOSEVELT</td>\n",
       "      <td>R</td>\n",
       "      <td>Roosevelt Island Tram</td>\n",
       "      <td>08/31/2018</td>\n",
       "      <td>05:00:00</td>\n",
       "      <td>REGULAR</td>\n",
       "      <td>0000005554</td>\n",
       "      <td>0000000348                                    ...</td>\n",
       "      <td>False</td>\n",
       "    </tr>\n",
       "    <tr>\n",
       "      <th>197621</th>\n",
       "      <td>TRAM2</td>\n",
       "      <td>R469</td>\n",
       "      <td>00-05-01</td>\n",
       "      <td>RIT-ROOSEVELT</td>\n",
       "      <td>R</td>\n",
       "      <td>Roosevelt Island Tram</td>\n",
       "      <td>08/31/2018</td>\n",
       "      <td>09:00:00</td>\n",
       "      <td>REGULAR</td>\n",
       "      <td>0000005554</td>\n",
       "      <td>0000000348                                    ...</td>\n",
       "      <td>False</td>\n",
       "    </tr>\n",
       "    <tr>\n",
       "      <th>197622</th>\n",
       "      <td>TRAM2</td>\n",
       "      <td>R469</td>\n",
       "      <td>00-05-01</td>\n",
       "      <td>RIT-ROOSEVELT</td>\n",
       "      <td>R</td>\n",
       "      <td>Roosevelt Island Tram</td>\n",
       "      <td>08/31/2018</td>\n",
       "      <td>13:00:00</td>\n",
       "      <td>REGULAR</td>\n",
       "      <td>0000005554</td>\n",
       "      <td>0000000348                                    ...</td>\n",
       "      <td>False</td>\n",
       "    </tr>\n",
       "    <tr>\n",
       "      <th>197623</th>\n",
       "      <td>TRAM2</td>\n",
       "      <td>R469</td>\n",
       "      <td>00-05-01</td>\n",
       "      <td>RIT-ROOSEVELT</td>\n",
       "      <td>R</td>\n",
       "      <td>Roosevelt Island Tram</td>\n",
       "      <td>08/31/2018</td>\n",
       "      <td>17:00:00</td>\n",
       "      <td>REGULAR</td>\n",
       "      <td>0000005554</td>\n",
       "      <td>0000000348                                    ...</td>\n",
       "      <td>False</td>\n",
       "    </tr>\n",
       "    <tr>\n",
       "      <th>197624</th>\n",
       "      <td>TRAM2</td>\n",
       "      <td>R469</td>\n",
       "      <td>00-05-01</td>\n",
       "      <td>RIT-ROOSEVELT</td>\n",
       "      <td>R</td>\n",
       "      <td>Roosevelt Island Tram</td>\n",
       "      <td>08/31/2018</td>\n",
       "      <td>21:00:00</td>\n",
       "      <td>REGULAR</td>\n",
       "      <td>0000005554</td>\n",
       "      <td>0000000348                                    ...</td>\n",
       "      <td>False</td>\n",
       "    </tr>\n",
       "  </tbody>\n",
       "</table>\n",
       "<p>197625 rows × 12 columns</p>\n",
       "</div>"
      ],
      "text/plain": [
       "       CONTROL_AREA  UNIT       SCP        STATION LINENAME  \\\n",
       "0              A002  R051  02-00-00          59 ST  NQR456W   \n",
       "1              A002  R051  02-00-00          59 ST  NQR456W   \n",
       "2              A002  R051  02-00-00          59 ST  NQR456W   \n",
       "3              A002  R051  02-00-00          59 ST  NQR456W   \n",
       "4              A002  R051  02-00-00          59 ST  NQR456W   \n",
       "...             ...   ...       ...            ...      ...   \n",
       "197620        TRAM2  R469  00-05-01  RIT-ROOSEVELT        R   \n",
       "197621        TRAM2  R469  00-05-01  RIT-ROOSEVELT        R   \n",
       "197622        TRAM2  R469  00-05-01  RIT-ROOSEVELT        R   \n",
       "197623        TRAM2  R469  00-05-01  RIT-ROOSEVELT        R   \n",
       "197624        TRAM2  R469  00-05-01  RIT-ROOSEVELT        R   \n",
       "\n",
       "                                      DIVISION        DATE      TIME     DESC  \\\n",
       "0       Brooklyn–Manhattan Transit Corporation  08/25/2018  00:00:00  REGULAR   \n",
       "1       Brooklyn–Manhattan Transit Corporation  08/25/2018  04:00:00  REGULAR   \n",
       "2       Brooklyn–Manhattan Transit Corporation  08/25/2018  08:00:00  REGULAR   \n",
       "3       Brooklyn–Manhattan Transit Corporation  08/25/2018  12:00:00  REGULAR   \n",
       "4       Brooklyn–Manhattan Transit Corporation  08/25/2018  16:00:00  REGULAR   \n",
       "...                                        ...         ...       ...      ...   \n",
       "197620                   Roosevelt Island Tram  08/31/2018  05:00:00  REGULAR   \n",
       "197621                   Roosevelt Island Tram  08/31/2018  09:00:00  REGULAR   \n",
       "197622                   Roosevelt Island Tram  08/31/2018  13:00:00  REGULAR   \n",
       "197623                   Roosevelt Island Tram  08/31/2018  17:00:00  REGULAR   \n",
       "197624                   Roosevelt Island Tram  08/31/2018  21:00:00  REGULAR   \n",
       "\n",
       "           ENTRIES                                              EXITS  \\\n",
       "0       0006736067  0002283184                                    ...   \n",
       "1       0006736087  0002283188                                    ...   \n",
       "2       0006736105  0002283229                                    ...   \n",
       "3       0006736180  0002283314                                    ...   \n",
       "4       0006736349  0002283384                                    ...   \n",
       "...            ...                                                ...   \n",
       "197620  0000005554  0000000348                                    ...   \n",
       "197621  0000005554  0000000348                                    ...   \n",
       "197622  0000005554  0000000348                                    ...   \n",
       "197623  0000005554  0000000348                                    ...   \n",
       "197624  0000005554  0000000348                                    ...   \n",
       "\n",
       "        On_N_Line  \n",
       "0            True  \n",
       "1            True  \n",
       "2            True  \n",
       "3            True  \n",
       "4            True  \n",
       "...           ...  \n",
       "197620      False  \n",
       "197621      False  \n",
       "197622      False  \n",
       "197623      False  \n",
       "197624      False  \n",
       "\n",
       "[197625 rows x 12 columns]"
      ]
     },
     "execution_count": 282,
     "metadata": {},
     "output_type": "execute_result"
    }
   ],
   "source": [
    "df.rename(columns={\n",
    "    'C/A' : 'CONTROL_AREA'\n",
    "})"
   ]
  },
  {
   "cell_type": "markdown",
   "metadata": {},
   "source": [
    "Again, note that the dataframe was not automatically transformed by doing this. If we look at it now, C/A is still there:"
   ]
  },
  {
   "cell_type": "code",
   "execution_count": 283,
   "metadata": {},
   "outputs": [
    {
     "data": {
      "text/html": [
       "<div>\n",
       "<style scoped>\n",
       "    .dataframe tbody tr th:only-of-type {\n",
       "        vertical-align: middle;\n",
       "    }\n",
       "\n",
       "    .dataframe tbody tr th {\n",
       "        vertical-align: top;\n",
       "    }\n",
       "\n",
       "    .dataframe thead th {\n",
       "        text-align: right;\n",
       "    }\n",
       "</style>\n",
       "<table border=\"1\" class=\"dataframe\">\n",
       "  <thead>\n",
       "    <tr style=\"text-align: right;\">\n",
       "      <th></th>\n",
       "      <th>C/A</th>\n",
       "      <th>UNIT</th>\n",
       "      <th>SCP</th>\n",
       "      <th>STATION</th>\n",
       "      <th>LINENAME</th>\n",
       "      <th>DIVISION</th>\n",
       "      <th>DATE</th>\n",
       "      <th>TIME</th>\n",
       "      <th>DESC</th>\n",
       "      <th>ENTRIES</th>\n",
       "      <th>EXITS</th>\n",
       "      <th>On_N_Line</th>\n",
       "    </tr>\n",
       "  </thead>\n",
       "  <tbody>\n",
       "    <tr>\n",
       "      <th>0</th>\n",
       "      <td>A002</td>\n",
       "      <td>R051</td>\n",
       "      <td>02-00-00</td>\n",
       "      <td>59 ST</td>\n",
       "      <td>NQR456W</td>\n",
       "      <td>Brooklyn–Manhattan Transit Corporation</td>\n",
       "      <td>08/25/2018</td>\n",
       "      <td>00:00:00</td>\n",
       "      <td>REGULAR</td>\n",
       "      <td>0006736067</td>\n",
       "      <td>0002283184                                    ...</td>\n",
       "      <td>True</td>\n",
       "    </tr>\n",
       "    <tr>\n",
       "      <th>1</th>\n",
       "      <td>A002</td>\n",
       "      <td>R051</td>\n",
       "      <td>02-00-00</td>\n",
       "      <td>59 ST</td>\n",
       "      <td>NQR456W</td>\n",
       "      <td>Brooklyn–Manhattan Transit Corporation</td>\n",
       "      <td>08/25/2018</td>\n",
       "      <td>04:00:00</td>\n",
       "      <td>REGULAR</td>\n",
       "      <td>0006736087</td>\n",
       "      <td>0002283188                                    ...</td>\n",
       "      <td>True</td>\n",
       "    </tr>\n",
       "    <tr>\n",
       "      <th>2</th>\n",
       "      <td>A002</td>\n",
       "      <td>R051</td>\n",
       "      <td>02-00-00</td>\n",
       "      <td>59 ST</td>\n",
       "      <td>NQR456W</td>\n",
       "      <td>Brooklyn–Manhattan Transit Corporation</td>\n",
       "      <td>08/25/2018</td>\n",
       "      <td>08:00:00</td>\n",
       "      <td>REGULAR</td>\n",
       "      <td>0006736105</td>\n",
       "      <td>0002283229                                    ...</td>\n",
       "      <td>True</td>\n",
       "    </tr>\n",
       "    <tr>\n",
       "      <th>3</th>\n",
       "      <td>A002</td>\n",
       "      <td>R051</td>\n",
       "      <td>02-00-00</td>\n",
       "      <td>59 ST</td>\n",
       "      <td>NQR456W</td>\n",
       "      <td>Brooklyn–Manhattan Transit Corporation</td>\n",
       "      <td>08/25/2018</td>\n",
       "      <td>12:00:00</td>\n",
       "      <td>REGULAR</td>\n",
       "      <td>0006736180</td>\n",
       "      <td>0002283314                                    ...</td>\n",
       "      <td>True</td>\n",
       "    </tr>\n",
       "    <tr>\n",
       "      <th>4</th>\n",
       "      <td>A002</td>\n",
       "      <td>R051</td>\n",
       "      <td>02-00-00</td>\n",
       "      <td>59 ST</td>\n",
       "      <td>NQR456W</td>\n",
       "      <td>Brooklyn–Manhattan Transit Corporation</td>\n",
       "      <td>08/25/2018</td>\n",
       "      <td>16:00:00</td>\n",
       "      <td>REGULAR</td>\n",
       "      <td>0006736349</td>\n",
       "      <td>0002283384                                    ...</td>\n",
       "      <td>True</td>\n",
       "    </tr>\n",
       "  </tbody>\n",
       "</table>\n",
       "</div>"
      ],
      "text/plain": [
       "    C/A  UNIT       SCP STATION LINENAME  \\\n",
       "0  A002  R051  02-00-00   59 ST  NQR456W   \n",
       "1  A002  R051  02-00-00   59 ST  NQR456W   \n",
       "2  A002  R051  02-00-00   59 ST  NQR456W   \n",
       "3  A002  R051  02-00-00   59 ST  NQR456W   \n",
       "4  A002  R051  02-00-00   59 ST  NQR456W   \n",
       "\n",
       "                                 DIVISION        DATE      TIME     DESC  \\\n",
       "0  Brooklyn–Manhattan Transit Corporation  08/25/2018  00:00:00  REGULAR   \n",
       "1  Brooklyn–Manhattan Transit Corporation  08/25/2018  04:00:00  REGULAR   \n",
       "2  Brooklyn–Manhattan Transit Corporation  08/25/2018  08:00:00  REGULAR   \n",
       "3  Brooklyn–Manhattan Transit Corporation  08/25/2018  12:00:00  REGULAR   \n",
       "4  Brooklyn–Manhattan Transit Corporation  08/25/2018  16:00:00  REGULAR   \n",
       "\n",
       "      ENTRIES                                              EXITS  On_N_Line  \n",
       "0  0006736067  0002283184                                    ...       True  \n",
       "1  0006736087  0002283188                                    ...       True  \n",
       "2  0006736105  0002283229                                    ...       True  \n",
       "3  0006736180  0002283314                                    ...       True  \n",
       "4  0006736349  0002283384                                    ...       True  "
      ]
     },
     "execution_count": 283,
     "metadata": {},
     "output_type": "execute_result"
    }
   ],
   "source": [
    "df.head()"
   ]
  },
  {
   "cell_type": "markdown",
   "metadata": {},
   "source": [
    "If we want the change to \"stick\", one way to do that is to use inplace=True:"
   ]
  },
  {
   "cell_type": "code",
   "execution_count": 284,
   "metadata": {},
   "outputs": [],
   "source": [
    "df.rename(columns={\n",
    "    'C/A' : 'CONTROL_AREA'\n",
    "},inplace = True)"
   ]
  },
  {
   "cell_type": "code",
   "execution_count": 285,
   "metadata": {},
   "outputs": [
    {
     "data": {
      "text/html": [
       "<div>\n",
       "<style scoped>\n",
       "    .dataframe tbody tr th:only-of-type {\n",
       "        vertical-align: middle;\n",
       "    }\n",
       "\n",
       "    .dataframe tbody tr th {\n",
       "        vertical-align: top;\n",
       "    }\n",
       "\n",
       "    .dataframe thead th {\n",
       "        text-align: right;\n",
       "    }\n",
       "</style>\n",
       "<table border=\"1\" class=\"dataframe\">\n",
       "  <thead>\n",
       "    <tr style=\"text-align: right;\">\n",
       "      <th></th>\n",
       "      <th>CONTROL_AREA</th>\n",
       "      <th>UNIT</th>\n",
       "      <th>SCP</th>\n",
       "      <th>STATION</th>\n",
       "      <th>LINENAME</th>\n",
       "      <th>DIVISION</th>\n",
       "      <th>DATE</th>\n",
       "      <th>TIME</th>\n",
       "      <th>DESC</th>\n",
       "      <th>ENTRIES</th>\n",
       "      <th>EXITS</th>\n",
       "      <th>On_N_Line</th>\n",
       "    </tr>\n",
       "  </thead>\n",
       "  <tbody>\n",
       "    <tr>\n",
       "      <th>0</th>\n",
       "      <td>A002</td>\n",
       "      <td>R051</td>\n",
       "      <td>02-00-00</td>\n",
       "      <td>59 ST</td>\n",
       "      <td>NQR456W</td>\n",
       "      <td>Brooklyn–Manhattan Transit Corporation</td>\n",
       "      <td>08/25/2018</td>\n",
       "      <td>00:00:00</td>\n",
       "      <td>REGULAR</td>\n",
       "      <td>0006736067</td>\n",
       "      <td>0002283184                                    ...</td>\n",
       "      <td>True</td>\n",
       "    </tr>\n",
       "    <tr>\n",
       "      <th>1</th>\n",
       "      <td>A002</td>\n",
       "      <td>R051</td>\n",
       "      <td>02-00-00</td>\n",
       "      <td>59 ST</td>\n",
       "      <td>NQR456W</td>\n",
       "      <td>Brooklyn–Manhattan Transit Corporation</td>\n",
       "      <td>08/25/2018</td>\n",
       "      <td>04:00:00</td>\n",
       "      <td>REGULAR</td>\n",
       "      <td>0006736087</td>\n",
       "      <td>0002283188                                    ...</td>\n",
       "      <td>True</td>\n",
       "    </tr>\n",
       "    <tr>\n",
       "      <th>2</th>\n",
       "      <td>A002</td>\n",
       "      <td>R051</td>\n",
       "      <td>02-00-00</td>\n",
       "      <td>59 ST</td>\n",
       "      <td>NQR456W</td>\n",
       "      <td>Brooklyn–Manhattan Transit Corporation</td>\n",
       "      <td>08/25/2018</td>\n",
       "      <td>08:00:00</td>\n",
       "      <td>REGULAR</td>\n",
       "      <td>0006736105</td>\n",
       "      <td>0002283229                                    ...</td>\n",
       "      <td>True</td>\n",
       "    </tr>\n",
       "    <tr>\n",
       "      <th>3</th>\n",
       "      <td>A002</td>\n",
       "      <td>R051</td>\n",
       "      <td>02-00-00</td>\n",
       "      <td>59 ST</td>\n",
       "      <td>NQR456W</td>\n",
       "      <td>Brooklyn–Manhattan Transit Corporation</td>\n",
       "      <td>08/25/2018</td>\n",
       "      <td>12:00:00</td>\n",
       "      <td>REGULAR</td>\n",
       "      <td>0006736180</td>\n",
       "      <td>0002283314                                    ...</td>\n",
       "      <td>True</td>\n",
       "    </tr>\n",
       "    <tr>\n",
       "      <th>4</th>\n",
       "      <td>A002</td>\n",
       "      <td>R051</td>\n",
       "      <td>02-00-00</td>\n",
       "      <td>59 ST</td>\n",
       "      <td>NQR456W</td>\n",
       "      <td>Brooklyn–Manhattan Transit Corporation</td>\n",
       "      <td>08/25/2018</td>\n",
       "      <td>16:00:00</td>\n",
       "      <td>REGULAR</td>\n",
       "      <td>0006736349</td>\n",
       "      <td>0002283384                                    ...</td>\n",
       "      <td>True</td>\n",
       "    </tr>\n",
       "  </tbody>\n",
       "</table>\n",
       "</div>"
      ],
      "text/plain": [
       "  CONTROL_AREA  UNIT       SCP STATION LINENAME  \\\n",
       "0         A002  R051  02-00-00   59 ST  NQR456W   \n",
       "1         A002  R051  02-00-00   59 ST  NQR456W   \n",
       "2         A002  R051  02-00-00   59 ST  NQR456W   \n",
       "3         A002  R051  02-00-00   59 ST  NQR456W   \n",
       "4         A002  R051  02-00-00   59 ST  NQR456W   \n",
       "\n",
       "                                 DIVISION        DATE      TIME     DESC  \\\n",
       "0  Brooklyn–Manhattan Transit Corporation  08/25/2018  00:00:00  REGULAR   \n",
       "1  Brooklyn–Manhattan Transit Corporation  08/25/2018  04:00:00  REGULAR   \n",
       "2  Brooklyn–Manhattan Transit Corporation  08/25/2018  08:00:00  REGULAR   \n",
       "3  Brooklyn–Manhattan Transit Corporation  08/25/2018  12:00:00  REGULAR   \n",
       "4  Brooklyn–Manhattan Transit Corporation  08/25/2018  16:00:00  REGULAR   \n",
       "\n",
       "      ENTRIES                                              EXITS  On_N_Line  \n",
       "0  0006736067  0002283184                                    ...       True  \n",
       "1  0006736087  0002283188                                    ...       True  \n",
       "2  0006736105  0002283229                                    ...       True  \n",
       "3  0006736180  0002283314                                    ...       True  \n",
       "4  0006736349  0002283384                                    ...       True  "
      ]
     },
     "execution_count": 285,
     "metadata": {},
     "output_type": "execute_result"
    }
   ],
   "source": [
    "df.head()"
   ]
  },
  {
   "cell_type": "markdown",
   "metadata": {},
   "source": [
    "Note that this behavior (not changing the contents of the dataframe unless you use inplace=True or reassign the variable) is not a mistake or oversight in pandas. It is a useful feature that lets you preview the outcome of an operation before permanently applying it. This is especially important if you are dropping data or transforming it in a way that is not reversible.\n",
    "\n",
    "### Dropping Columns\n",
    "Let's say we have determined that the DESC column doesn't matter. We can test out dropping it like this:"
   ]
  },
  {
   "cell_type": "code",
   "execution_count": 286,
   "metadata": {},
   "outputs": [
    {
     "data": {
      "text/html": [
       "<div>\n",
       "<style scoped>\n",
       "    .dataframe tbody tr th:only-of-type {\n",
       "        vertical-align: middle;\n",
       "    }\n",
       "\n",
       "    .dataframe tbody tr th {\n",
       "        vertical-align: top;\n",
       "    }\n",
       "\n",
       "    .dataframe thead th {\n",
       "        text-align: right;\n",
       "    }\n",
       "</style>\n",
       "<table border=\"1\" class=\"dataframe\">\n",
       "  <thead>\n",
       "    <tr style=\"text-align: right;\">\n",
       "      <th></th>\n",
       "      <th>CONTROL_AREA</th>\n",
       "      <th>UNIT</th>\n",
       "      <th>SCP</th>\n",
       "      <th>STATION</th>\n",
       "      <th>LINENAME</th>\n",
       "      <th>DIVISION</th>\n",
       "      <th>DATE</th>\n",
       "      <th>TIME</th>\n",
       "      <th>ENTRIES</th>\n",
       "      <th>EXITS</th>\n",
       "      <th>On_N_Line</th>\n",
       "    </tr>\n",
       "  </thead>\n",
       "  <tbody>\n",
       "    <tr>\n",
       "      <th>0</th>\n",
       "      <td>A002</td>\n",
       "      <td>R051</td>\n",
       "      <td>02-00-00</td>\n",
       "      <td>59 ST</td>\n",
       "      <td>NQR456W</td>\n",
       "      <td>Brooklyn–Manhattan Transit Corporation</td>\n",
       "      <td>08/25/2018</td>\n",
       "      <td>00:00:00</td>\n",
       "      <td>0006736067</td>\n",
       "      <td>0002283184                                    ...</td>\n",
       "      <td>True</td>\n",
       "    </tr>\n",
       "    <tr>\n",
       "      <th>1</th>\n",
       "      <td>A002</td>\n",
       "      <td>R051</td>\n",
       "      <td>02-00-00</td>\n",
       "      <td>59 ST</td>\n",
       "      <td>NQR456W</td>\n",
       "      <td>Brooklyn–Manhattan Transit Corporation</td>\n",
       "      <td>08/25/2018</td>\n",
       "      <td>04:00:00</td>\n",
       "      <td>0006736087</td>\n",
       "      <td>0002283188                                    ...</td>\n",
       "      <td>True</td>\n",
       "    </tr>\n",
       "    <tr>\n",
       "      <th>2</th>\n",
       "      <td>A002</td>\n",
       "      <td>R051</td>\n",
       "      <td>02-00-00</td>\n",
       "      <td>59 ST</td>\n",
       "      <td>NQR456W</td>\n",
       "      <td>Brooklyn–Manhattan Transit Corporation</td>\n",
       "      <td>08/25/2018</td>\n",
       "      <td>08:00:00</td>\n",
       "      <td>0006736105</td>\n",
       "      <td>0002283229                                    ...</td>\n",
       "      <td>True</td>\n",
       "    </tr>\n",
       "    <tr>\n",
       "      <th>3</th>\n",
       "      <td>A002</td>\n",
       "      <td>R051</td>\n",
       "      <td>02-00-00</td>\n",
       "      <td>59 ST</td>\n",
       "      <td>NQR456W</td>\n",
       "      <td>Brooklyn–Manhattan Transit Corporation</td>\n",
       "      <td>08/25/2018</td>\n",
       "      <td>12:00:00</td>\n",
       "      <td>0006736180</td>\n",
       "      <td>0002283314                                    ...</td>\n",
       "      <td>True</td>\n",
       "    </tr>\n",
       "    <tr>\n",
       "      <th>4</th>\n",
       "      <td>A002</td>\n",
       "      <td>R051</td>\n",
       "      <td>02-00-00</td>\n",
       "      <td>59 ST</td>\n",
       "      <td>NQR456W</td>\n",
       "      <td>Brooklyn–Manhattan Transit Corporation</td>\n",
       "      <td>08/25/2018</td>\n",
       "      <td>16:00:00</td>\n",
       "      <td>0006736349</td>\n",
       "      <td>0002283384                                    ...</td>\n",
       "      <td>True</td>\n",
       "    </tr>\n",
       "    <tr>\n",
       "      <th>...</th>\n",
       "      <td>...</td>\n",
       "      <td>...</td>\n",
       "      <td>...</td>\n",
       "      <td>...</td>\n",
       "      <td>...</td>\n",
       "      <td>...</td>\n",
       "      <td>...</td>\n",
       "      <td>...</td>\n",
       "      <td>...</td>\n",
       "      <td>...</td>\n",
       "      <td>...</td>\n",
       "    </tr>\n",
       "    <tr>\n",
       "      <th>197620</th>\n",
       "      <td>TRAM2</td>\n",
       "      <td>R469</td>\n",
       "      <td>00-05-01</td>\n",
       "      <td>RIT-ROOSEVELT</td>\n",
       "      <td>R</td>\n",
       "      <td>Roosevelt Island Tram</td>\n",
       "      <td>08/31/2018</td>\n",
       "      <td>05:00:00</td>\n",
       "      <td>0000005554</td>\n",
       "      <td>0000000348                                    ...</td>\n",
       "      <td>False</td>\n",
       "    </tr>\n",
       "    <tr>\n",
       "      <th>197621</th>\n",
       "      <td>TRAM2</td>\n",
       "      <td>R469</td>\n",
       "      <td>00-05-01</td>\n",
       "      <td>RIT-ROOSEVELT</td>\n",
       "      <td>R</td>\n",
       "      <td>Roosevelt Island Tram</td>\n",
       "      <td>08/31/2018</td>\n",
       "      <td>09:00:00</td>\n",
       "      <td>0000005554</td>\n",
       "      <td>0000000348                                    ...</td>\n",
       "      <td>False</td>\n",
       "    </tr>\n",
       "    <tr>\n",
       "      <th>197622</th>\n",
       "      <td>TRAM2</td>\n",
       "      <td>R469</td>\n",
       "      <td>00-05-01</td>\n",
       "      <td>RIT-ROOSEVELT</td>\n",
       "      <td>R</td>\n",
       "      <td>Roosevelt Island Tram</td>\n",
       "      <td>08/31/2018</td>\n",
       "      <td>13:00:00</td>\n",
       "      <td>0000005554</td>\n",
       "      <td>0000000348                                    ...</td>\n",
       "      <td>False</td>\n",
       "    </tr>\n",
       "    <tr>\n",
       "      <th>197623</th>\n",
       "      <td>TRAM2</td>\n",
       "      <td>R469</td>\n",
       "      <td>00-05-01</td>\n",
       "      <td>RIT-ROOSEVELT</td>\n",
       "      <td>R</td>\n",
       "      <td>Roosevelt Island Tram</td>\n",
       "      <td>08/31/2018</td>\n",
       "      <td>17:00:00</td>\n",
       "      <td>0000005554</td>\n",
       "      <td>0000000348                                    ...</td>\n",
       "      <td>False</td>\n",
       "    </tr>\n",
       "    <tr>\n",
       "      <th>197624</th>\n",
       "      <td>TRAM2</td>\n",
       "      <td>R469</td>\n",
       "      <td>00-05-01</td>\n",
       "      <td>RIT-ROOSEVELT</td>\n",
       "      <td>R</td>\n",
       "      <td>Roosevelt Island Tram</td>\n",
       "      <td>08/31/2018</td>\n",
       "      <td>21:00:00</td>\n",
       "      <td>0000005554</td>\n",
       "      <td>0000000348                                    ...</td>\n",
       "      <td>False</td>\n",
       "    </tr>\n",
       "  </tbody>\n",
       "</table>\n",
       "<p>197625 rows × 11 columns</p>\n",
       "</div>"
      ],
      "text/plain": [
       "       CONTROL_AREA  UNIT       SCP        STATION LINENAME  \\\n",
       "0              A002  R051  02-00-00          59 ST  NQR456W   \n",
       "1              A002  R051  02-00-00          59 ST  NQR456W   \n",
       "2              A002  R051  02-00-00          59 ST  NQR456W   \n",
       "3              A002  R051  02-00-00          59 ST  NQR456W   \n",
       "4              A002  R051  02-00-00          59 ST  NQR456W   \n",
       "...             ...   ...       ...            ...      ...   \n",
       "197620        TRAM2  R469  00-05-01  RIT-ROOSEVELT        R   \n",
       "197621        TRAM2  R469  00-05-01  RIT-ROOSEVELT        R   \n",
       "197622        TRAM2  R469  00-05-01  RIT-ROOSEVELT        R   \n",
       "197623        TRAM2  R469  00-05-01  RIT-ROOSEVELT        R   \n",
       "197624        TRAM2  R469  00-05-01  RIT-ROOSEVELT        R   \n",
       "\n",
       "                                      DIVISION        DATE      TIME  \\\n",
       "0       Brooklyn–Manhattan Transit Corporation  08/25/2018  00:00:00   \n",
       "1       Brooklyn–Manhattan Transit Corporation  08/25/2018  04:00:00   \n",
       "2       Brooklyn–Manhattan Transit Corporation  08/25/2018  08:00:00   \n",
       "3       Brooklyn–Manhattan Transit Corporation  08/25/2018  12:00:00   \n",
       "4       Brooklyn–Manhattan Transit Corporation  08/25/2018  16:00:00   \n",
       "...                                        ...         ...       ...   \n",
       "197620                   Roosevelt Island Tram  08/31/2018  05:00:00   \n",
       "197621                   Roosevelt Island Tram  08/31/2018  09:00:00   \n",
       "197622                   Roosevelt Island Tram  08/31/2018  13:00:00   \n",
       "197623                   Roosevelt Island Tram  08/31/2018  17:00:00   \n",
       "197624                   Roosevelt Island Tram  08/31/2018  21:00:00   \n",
       "\n",
       "           ENTRIES                                              EXITS  \\\n",
       "0       0006736067  0002283184                                    ...   \n",
       "1       0006736087  0002283188                                    ...   \n",
       "2       0006736105  0002283229                                    ...   \n",
       "3       0006736180  0002283314                                    ...   \n",
       "4       0006736349  0002283384                                    ...   \n",
       "...            ...                                                ...   \n",
       "197620  0000005554  0000000348                                    ...   \n",
       "197621  0000005554  0000000348                                    ...   \n",
       "197622  0000005554  0000000348                                    ...   \n",
       "197623  0000005554  0000000348                                    ...   \n",
       "197624  0000005554  0000000348                                    ...   \n",
       "\n",
       "        On_N_Line  \n",
       "0            True  \n",
       "1            True  \n",
       "2            True  \n",
       "3            True  \n",
       "4            True  \n",
       "...           ...  \n",
       "197620      False  \n",
       "197621      False  \n",
       "197622      False  \n",
       "197623      False  \n",
       "197624      False  \n",
       "\n",
       "[197625 rows x 11 columns]"
      ]
     },
     "execution_count": 286,
     "metadata": {},
     "output_type": "execute_result"
    }
   ],
   "source": [
    "df.drop('DESC',axis=1)"
   ]
  },
  {
   "cell_type": "markdown",
   "metadata": {},
   "source": [
    "Note the axis=1 argument. By default, df.drop() tries to drop rows (axis=0) with the specified index, e.g.:\n"
   ]
  },
  {
   "cell_type": "code",
   "execution_count": 287,
   "metadata": {},
   "outputs": [
    {
     "data": {
      "text/html": [
       "<div>\n",
       "<style scoped>\n",
       "    .dataframe tbody tr th:only-of-type {\n",
       "        vertical-align: middle;\n",
       "    }\n",
       "\n",
       "    .dataframe tbody tr th {\n",
       "        vertical-align: top;\n",
       "    }\n",
       "\n",
       "    .dataframe thead th {\n",
       "        text-align: right;\n",
       "    }\n",
       "</style>\n",
       "<table border=\"1\" class=\"dataframe\">\n",
       "  <thead>\n",
       "    <tr style=\"text-align: right;\">\n",
       "      <th></th>\n",
       "      <th>CONTROL_AREA</th>\n",
       "      <th>UNIT</th>\n",
       "      <th>SCP</th>\n",
       "      <th>STATION</th>\n",
       "      <th>LINENAME</th>\n",
       "      <th>DIVISION</th>\n",
       "      <th>DATE</th>\n",
       "      <th>TIME</th>\n",
       "      <th>DESC</th>\n",
       "      <th>ENTRIES</th>\n",
       "      <th>EXITS</th>\n",
       "      <th>On_N_Line</th>\n",
       "    </tr>\n",
       "  </thead>\n",
       "  <tbody>\n",
       "    <tr>\n",
       "      <th>0</th>\n",
       "      <td>A002</td>\n",
       "      <td>R051</td>\n",
       "      <td>02-00-00</td>\n",
       "      <td>59 ST</td>\n",
       "      <td>NQR456W</td>\n",
       "      <td>Brooklyn–Manhattan Transit Corporation</td>\n",
       "      <td>08/25/2018</td>\n",
       "      <td>00:00:00</td>\n",
       "      <td>REGULAR</td>\n",
       "      <td>0006736067</td>\n",
       "      <td>0002283184                                    ...</td>\n",
       "      <td>True</td>\n",
       "    </tr>\n",
       "    <tr>\n",
       "      <th>1</th>\n",
       "      <td>A002</td>\n",
       "      <td>R051</td>\n",
       "      <td>02-00-00</td>\n",
       "      <td>59 ST</td>\n",
       "      <td>NQR456W</td>\n",
       "      <td>Brooklyn–Manhattan Transit Corporation</td>\n",
       "      <td>08/25/2018</td>\n",
       "      <td>04:00:00</td>\n",
       "      <td>REGULAR</td>\n",
       "      <td>0006736087</td>\n",
       "      <td>0002283188                                    ...</td>\n",
       "      <td>True</td>\n",
       "    </tr>\n",
       "    <tr>\n",
       "      <th>2</th>\n",
       "      <td>A002</td>\n",
       "      <td>R051</td>\n",
       "      <td>02-00-00</td>\n",
       "      <td>59 ST</td>\n",
       "      <td>NQR456W</td>\n",
       "      <td>Brooklyn–Manhattan Transit Corporation</td>\n",
       "      <td>08/25/2018</td>\n",
       "      <td>08:00:00</td>\n",
       "      <td>REGULAR</td>\n",
       "      <td>0006736105</td>\n",
       "      <td>0002283229                                    ...</td>\n",
       "      <td>True</td>\n",
       "    </tr>\n",
       "    <tr>\n",
       "      <th>4</th>\n",
       "      <td>A002</td>\n",
       "      <td>R051</td>\n",
       "      <td>02-00-00</td>\n",
       "      <td>59 ST</td>\n",
       "      <td>NQR456W</td>\n",
       "      <td>Brooklyn–Manhattan Transit Corporation</td>\n",
       "      <td>08/25/2018</td>\n",
       "      <td>16:00:00</td>\n",
       "      <td>REGULAR</td>\n",
       "      <td>0006736349</td>\n",
       "      <td>0002283384                                    ...</td>\n",
       "      <td>True</td>\n",
       "    </tr>\n",
       "    <tr>\n",
       "      <th>5</th>\n",
       "      <td>A002</td>\n",
       "      <td>R051</td>\n",
       "      <td>02-00-00</td>\n",
       "      <td>59 ST</td>\n",
       "      <td>NQR456W</td>\n",
       "      <td>Brooklyn–Manhattan Transit Corporation</td>\n",
       "      <td>08/25/2018</td>\n",
       "      <td>20:00:00</td>\n",
       "      <td>REGULAR</td>\n",
       "      <td>0006736562</td>\n",
       "      <td>0002283425                                    ...</td>\n",
       "      <td>True</td>\n",
       "    </tr>\n",
       "  </tbody>\n",
       "</table>\n",
       "</div>"
      ],
      "text/plain": [
       "  CONTROL_AREA  UNIT       SCP STATION LINENAME  \\\n",
       "0         A002  R051  02-00-00   59 ST  NQR456W   \n",
       "1         A002  R051  02-00-00   59 ST  NQR456W   \n",
       "2         A002  R051  02-00-00   59 ST  NQR456W   \n",
       "4         A002  R051  02-00-00   59 ST  NQR456W   \n",
       "5         A002  R051  02-00-00   59 ST  NQR456W   \n",
       "\n",
       "                                 DIVISION        DATE      TIME     DESC  \\\n",
       "0  Brooklyn–Manhattan Transit Corporation  08/25/2018  00:00:00  REGULAR   \n",
       "1  Brooklyn–Manhattan Transit Corporation  08/25/2018  04:00:00  REGULAR   \n",
       "2  Brooklyn–Manhattan Transit Corporation  08/25/2018  08:00:00  REGULAR   \n",
       "4  Brooklyn–Manhattan Transit Corporation  08/25/2018  16:00:00  REGULAR   \n",
       "5  Brooklyn–Manhattan Transit Corporation  08/25/2018  20:00:00  REGULAR   \n",
       "\n",
       "      ENTRIES                                              EXITS  On_N_Line  \n",
       "0  0006736067  0002283184                                    ...       True  \n",
       "1  0006736087  0002283188                                    ...       True  \n",
       "2  0006736105  0002283229                                    ...       True  \n",
       "4  0006736349  0002283384                                    ...       True  \n",
       "5  0006736562  0002283425                                    ...       True  "
      ]
     },
     "execution_count": 287,
     "metadata": {},
     "output_type": "execute_result"
    }
   ],
   "source": [
    "df.drop(3).head()"
   ]
  },
  {
   "cell_type": "markdown",
   "metadata": {},
   "source": [
    "If you are trying to drop a column and you forget the axis=1, you'll get an error message like this:"
   ]
  },
  {
   "cell_type": "code",
   "execution_count": 288,
   "metadata": {},
   "outputs": [],
   "source": [
    "#df.drop('DESC')\n",
    "#KeyError: \"['DESC'] not found in axis\""
   ]
  },
  {
   "cell_type": "markdown",
   "metadata": {},
   "source": [
    "Let's go ahead and permanently drop that column:"
   ]
  },
  {
   "cell_type": "code",
   "execution_count": 289,
   "metadata": {},
   "outputs": [
    {
     "data": {
      "text/html": [
       "<div>\n",
       "<style scoped>\n",
       "    .dataframe tbody tr th:only-of-type {\n",
       "        vertical-align: middle;\n",
       "    }\n",
       "\n",
       "    .dataframe tbody tr th {\n",
       "        vertical-align: top;\n",
       "    }\n",
       "\n",
       "    .dataframe thead th {\n",
       "        text-align: right;\n",
       "    }\n",
       "</style>\n",
       "<table border=\"1\" class=\"dataframe\">\n",
       "  <thead>\n",
       "    <tr style=\"text-align: right;\">\n",
       "      <th></th>\n",
       "      <th>CONTROL_AREA</th>\n",
       "      <th>UNIT</th>\n",
       "      <th>SCP</th>\n",
       "      <th>STATION</th>\n",
       "      <th>LINENAME</th>\n",
       "      <th>DIVISION</th>\n",
       "      <th>DATE</th>\n",
       "      <th>TIME</th>\n",
       "      <th>ENTRIES</th>\n",
       "      <th>EXITS</th>\n",
       "      <th>On_N_Line</th>\n",
       "    </tr>\n",
       "  </thead>\n",
       "  <tbody>\n",
       "    <tr>\n",
       "      <th>0</th>\n",
       "      <td>A002</td>\n",
       "      <td>R051</td>\n",
       "      <td>02-00-00</td>\n",
       "      <td>59 ST</td>\n",
       "      <td>NQR456W</td>\n",
       "      <td>Brooklyn–Manhattan Transit Corporation</td>\n",
       "      <td>08/25/2018</td>\n",
       "      <td>00:00:00</td>\n",
       "      <td>0006736067</td>\n",
       "      <td>0002283184                                    ...</td>\n",
       "      <td>True</td>\n",
       "    </tr>\n",
       "    <tr>\n",
       "      <th>1</th>\n",
       "      <td>A002</td>\n",
       "      <td>R051</td>\n",
       "      <td>02-00-00</td>\n",
       "      <td>59 ST</td>\n",
       "      <td>NQR456W</td>\n",
       "      <td>Brooklyn–Manhattan Transit Corporation</td>\n",
       "      <td>08/25/2018</td>\n",
       "      <td>04:00:00</td>\n",
       "      <td>0006736087</td>\n",
       "      <td>0002283188                                    ...</td>\n",
       "      <td>True</td>\n",
       "    </tr>\n",
       "    <tr>\n",
       "      <th>2</th>\n",
       "      <td>A002</td>\n",
       "      <td>R051</td>\n",
       "      <td>02-00-00</td>\n",
       "      <td>59 ST</td>\n",
       "      <td>NQR456W</td>\n",
       "      <td>Brooklyn–Manhattan Transit Corporation</td>\n",
       "      <td>08/25/2018</td>\n",
       "      <td>08:00:00</td>\n",
       "      <td>0006736105</td>\n",
       "      <td>0002283229                                    ...</td>\n",
       "      <td>True</td>\n",
       "    </tr>\n",
       "    <tr>\n",
       "      <th>3</th>\n",
       "      <td>A002</td>\n",
       "      <td>R051</td>\n",
       "      <td>02-00-00</td>\n",
       "      <td>59 ST</td>\n",
       "      <td>NQR456W</td>\n",
       "      <td>Brooklyn–Manhattan Transit Corporation</td>\n",
       "      <td>08/25/2018</td>\n",
       "      <td>12:00:00</td>\n",
       "      <td>0006736180</td>\n",
       "      <td>0002283314                                    ...</td>\n",
       "      <td>True</td>\n",
       "    </tr>\n",
       "    <tr>\n",
       "      <th>4</th>\n",
       "      <td>A002</td>\n",
       "      <td>R051</td>\n",
       "      <td>02-00-00</td>\n",
       "      <td>59 ST</td>\n",
       "      <td>NQR456W</td>\n",
       "      <td>Brooklyn–Manhattan Transit Corporation</td>\n",
       "      <td>08/25/2018</td>\n",
       "      <td>16:00:00</td>\n",
       "      <td>0006736349</td>\n",
       "      <td>0002283384                                    ...</td>\n",
       "      <td>True</td>\n",
       "    </tr>\n",
       "  </tbody>\n",
       "</table>\n",
       "</div>"
      ],
      "text/plain": [
       "  CONTROL_AREA  UNIT       SCP STATION LINENAME  \\\n",
       "0         A002  R051  02-00-00   59 ST  NQR456W   \n",
       "1         A002  R051  02-00-00   59 ST  NQR456W   \n",
       "2         A002  R051  02-00-00   59 ST  NQR456W   \n",
       "3         A002  R051  02-00-00   59 ST  NQR456W   \n",
       "4         A002  R051  02-00-00   59 ST  NQR456W   \n",
       "\n",
       "                                 DIVISION        DATE      TIME     ENTRIES  \\\n",
       "0  Brooklyn–Manhattan Transit Corporation  08/25/2018  00:00:00  0006736067   \n",
       "1  Brooklyn–Manhattan Transit Corporation  08/25/2018  04:00:00  0006736087   \n",
       "2  Brooklyn–Manhattan Transit Corporation  08/25/2018  08:00:00  0006736105   \n",
       "3  Brooklyn–Manhattan Transit Corporation  08/25/2018  12:00:00  0006736180   \n",
       "4  Brooklyn–Manhattan Transit Corporation  08/25/2018  16:00:00  0006736349   \n",
       "\n",
       "                                               EXITS  On_N_Line  \n",
       "0  0002283184                                    ...       True  \n",
       "1  0002283188                                    ...       True  \n",
       "2  0002283229                                    ...       True  \n",
       "3  0002283314                                    ...       True  \n",
       "4  0002283384                                    ...       True  "
      ]
     },
     "execution_count": 289,
     "metadata": {},
     "output_type": "execute_result"
    }
   ],
   "source": [
    "df = df.drop('DESC',axis=1)\n",
    "df.head()"
   ]
  },
  {
   "cell_type": "markdown",
   "metadata": {},
   "source": [
    "### Changing Column Types\n",
    "Another common data munging technique can be reformatting column types. We first previewed column types above using the df.info() method, which we'll repeat here."
   ]
  },
  {
   "cell_type": "code",
   "execution_count": 290,
   "metadata": {},
   "outputs": [
    {
     "name": "stdout",
     "output_type": "stream",
     "text": [
      "<class 'pandas.core.frame.DataFrame'>\n",
      "RangeIndex: 197625 entries, 0 to 197624\n",
      "Data columns (total 11 columns):\n",
      " #   Column        Non-Null Count   Dtype \n",
      "---  ------        --------------   ----- \n",
      " 0   CONTROL_AREA  197625 non-null  object\n",
      " 1   UNIT          197625 non-null  object\n",
      " 2   SCP           197625 non-null  object\n",
      " 3   STATION       197625 non-null  object\n",
      " 4   LINENAME      197625 non-null  object\n",
      " 5   DIVISION      197625 non-null  object\n",
      " 6   DATE          197625 non-null  object\n",
      " 7   TIME          197625 non-null  object\n",
      " 8   ENTRIES       197625 non-null  object\n",
      " 9   EXITS         197625 non-null  object\n",
      " 10  On_N_Line     197625 non-null  bool  \n",
      "dtypes: bool(1), object(10)\n",
      "memory usage: 15.3+ MB\n"
     ]
    }
   ],
   "source": [
    "df.info()"
   ]
  },
  {
   "cell_type": "markdown",
   "metadata": {},
   "source": [
    "We can also check the data type of an individual column, rather than listing all of them:"
   ]
  },
  {
   "cell_type": "code",
   "execution_count": 291,
   "metadata": {},
   "outputs": [
    {
     "name": "stdout",
     "output_type": "stream",
     "text": [
      "object\n"
     ]
    }
   ],
   "source": [
    "#print(df.ENTRIES.dtype)\n",
    "print(df['ENTRIES'].dtype)"
   ]
  },
  {
   "cell_type": "markdown",
   "metadata": {},
   "source": [
    "In this case we specified dtype=str when we opened the file, telling pandas to treat all of the columns as strings initially. So currently every column except for On_N_Line is dtype object.\n",
    "\n",
    "A common transformation needed is converting numbers stored as text (dtype object) to float or integer representations.\n",
    "\n",
    "Let's look more closely at ENTRIES:"
   ]
  },
  {
   "cell_type": "code",
   "execution_count": 292,
   "metadata": {},
   "outputs": [
    {
     "data": {
      "text/plain": [
       "0    0006736067\n",
       "1    0006736087\n",
       "2    0006736105\n",
       "3    0006736180\n",
       "4    0006736349\n",
       "5    0006736562\n",
       "Name: ENTRIES, dtype: object"
      ]
     },
     "execution_count": 292,
     "metadata": {},
     "output_type": "execute_result"
    }
   ],
   "source": [
    "df.loc[:5, 'ENTRIES']"
   ]
  },
  {
   "cell_type": "markdown",
   "metadata": {},
   "source": [
    "Those seem like integers. Let's try converting the type:"
   ]
  },
  {
   "cell_type": "code",
   "execution_count": 293,
   "metadata": {},
   "outputs": [
    {
     "data": {
      "text/plain": [
       "0    6736067\n",
       "1    6736087\n",
       "2    6736105\n",
       "3    6736180\n",
       "4    6736349\n",
       "5    6736562\n",
       "Name: ENTRIES, dtype: int64"
      ]
     },
     "execution_count": 293,
     "metadata": {},
     "output_type": "execute_result"
    }
   ],
   "source": [
    "#my code\n",
    "pd.to_numeric(df.loc[:5, 'ENTRIES']) # If we want to convert a column to a sensible numeric data type (integer or float), we should use the to_numeric function"
   ]
  },
  {
   "cell_type": "code",
   "execution_count": 294,
   "metadata": {},
   "outputs": [],
   "source": [
    "#Teacher code\n",
    "df['ENTRIES'] = df['ENTRIES'].astype(int) #converts to a sprcific dtype eg float,int etc\n",
    "#my code to conver to int 64\n",
    "#df['ENTRIES'] = df['ENTRIES'].astype('int64') \n"
   ]
  },
  {
   "cell_type": "code",
   "execution_count": 295,
   "metadata": {},
   "outputs": [
    {
     "name": "stdout",
     "output_type": "stream",
     "text": [
      "<class 'pandas.core.frame.DataFrame'>\n",
      "RangeIndex: 197625 entries, 0 to 197624\n",
      "Data columns (total 11 columns):\n",
      " #   Column        Non-Null Count   Dtype \n",
      "---  ------        --------------   ----- \n",
      " 0   CONTROL_AREA  197625 non-null  object\n",
      " 1   UNIT          197625 non-null  object\n",
      " 2   SCP           197625 non-null  object\n",
      " 3   STATION       197625 non-null  object\n",
      " 4   LINENAME      197625 non-null  object\n",
      " 5   DIVISION      197625 non-null  object\n",
      " 6   DATE          197625 non-null  object\n",
      " 7   TIME          197625 non-null  object\n",
      " 8   ENTRIES       197625 non-null  int32 \n",
      " 9   EXITS         197625 non-null  object\n",
      " 10  On_N_Line     197625 non-null  bool  \n",
      "dtypes: bool(1), int32(1), object(9)\n",
      "memory usage: 14.5+ MB\n"
     ]
    }
   ],
   "source": [
    "df.info()"
   ]
  },
  {
   "cell_type": "markdown",
   "metadata": {},
   "source": [
    "Attempting to convert a string column to int or float will produce errors if there are actually non-numeric characters. For example, LINENAME:"
   ]
  },
  {
   "cell_type": "code",
   "execution_count": 296,
   "metadata": {},
   "outputs": [],
   "source": [
    "#df['LINENAME'] = df['LINENAME'].astype(int)\n",
    "#ValueError: invalid literal for int() with base 10: 'NQR456W'"
   ]
  },
  {
   "cell_type": "markdown",
   "metadata": {},
   "source": [
    "### Converting Dates\n",
    "A slightly more complicated data type transformation is creating date or datetime objects. These are pandas data types that have useful information such as being able to quickly calculate the time between two days, or extracting the day of the week from a given date. However, if we look at our current date column, we will notice it is simply a dtype object (all strings).\n",
    "\n",
    "\n"
   ]
  },
  {
   "cell_type": "code",
   "execution_count": 297,
   "metadata": {},
   "outputs": [
    {
     "data": {
      "text/plain": [
       "0    08/25/2018\n",
       "1    08/25/2018\n",
       "2    08/25/2018\n",
       "3    08/25/2018\n",
       "4    08/25/2018\n",
       "Name: DATE, dtype: object"
      ]
     },
     "execution_count": 297,
     "metadata": {},
     "output_type": "execute_result"
    }
   ],
   "source": [
    "df['DATE'].head()"
   ]
  },
  {
   "cell_type": "markdown",
   "metadata": {},
   "source": [
    "### pd.to_datetime()\n",
    "This is the handiest of methods when converting strings to datetime objects.\n",
    "\n",
    "Often you can simply pass the series into this function, but it is good practice to preview the results first to prevent overwriting data if some error occurs."
   ]
  },
  {
   "cell_type": "code",
   "execution_count": 298,
   "metadata": {},
   "outputs": [
    {
     "data": {
      "text/plain": [
       "0   2018-08-25\n",
       "1   2018-08-25\n",
       "2   2018-08-25\n",
       "3   2018-08-25\n",
       "4   2018-08-25\n",
       "Name: DATE, dtype: datetime64[ns]"
      ]
     },
     "execution_count": 298,
     "metadata": {},
     "output_type": "execute_result"
    }
   ],
   "source": [
    "pd.to_datetime(df['DATE']).head()"
   ]
  },
  {
   "cell_type": "markdown",
   "metadata": {},
   "source": [
    "That worked.\n",
    "\n",
    "Note that the dtype has changed from object to datetime64[ns].\n",
    "\n",
    "Sometimes the above won't work and you'll have to explicitly pass an argument describing how the date is formatted.\n",
    "To do that, you have to use some datetime codes. Here's a preview of some of the most common ones:"
   ]
  },
  {
   "cell_type": "code",
   "execution_count": 299,
   "metadata": {},
   "outputs": [
    {
     "data": {
      "image/png": "[encoded data removed]",
      "text/plain": [
       "<PIL.PngImagePlugin.PngImageFile image mode=RGBA size=1274x1344 at 0x1A13B021400>"
      ]
     },
     "execution_count": 299,
     "metadata": {},
     "output_type": "execute_result"
    }
   ],
   "source": [
    "from PIL import Image\n",
    "Image.open('strftime_codes.png')"
   ]
  },
  {
   "cell_type": "markdown",
   "metadata": {},
   "source": [
    "To explicitly pass formatting parameters, start by previewing your dates to understand their current format as strings."
   ]
  },
  {
   "cell_type": "code",
   "execution_count": 300,
   "metadata": {},
   "outputs": [
    {
     "data": {
      "text/plain": [
       "'08/25/2018'"
      ]
     },
     "execution_count": 300,
     "metadata": {},
     "output_type": "execute_result"
    }
   ],
   "source": [
    "#selecting hust the first date entry\n",
    "df['DATE'].iloc[0]"
   ]
  },
  {
   "cell_type": "markdown",
   "metadata": {},
   "source": [
    "Based on that, it looks like we have:\n",
    "\n",
    "08: a month code with zero padding. So that's %m in the table above\n",
    "/: a delimiter\n",
    "25: a day of the month. It's not clear that it's zero-padded but we'll go ahead and say it's a %d in the table above\n",
    "/: another delimiter\n",
    "2018: a year with the century (it would just be 18 without the century). So that's %Y in the table above"
   ]
  },
  {
   "cell_type": "code",
   "execution_count": 301,
   "metadata": {},
   "outputs": [
    {
     "data": {
      "text/plain": [
       "0   2018-08-25\n",
       "1   2018-08-25\n",
       "2   2018-08-25\n",
       "3   2018-08-25\n",
       "4   2018-08-25\n",
       "Name: DATE, dtype: datetime64[ns]"
      ]
     },
     "execution_count": 301,
     "metadata": {},
     "output_type": "execute_result"
    }
   ],
   "source": [
    "pd.to_datetime(df['DATE'],format='%m/%d/%Y').head()"
   ]
  },
  {
   "cell_type": "markdown",
   "metadata": {},
   "source": [
    "This has the equivalent behavior for this particular dataset as when we skipped the format argument, since pandas was able to detect the format correctly, automatically.\n",
    "\n",
    "Now let's actually change the whole dataframe's DATE to a datetime (skipping the format since we didn't actually need it here):"
   ]
  },
  {
   "cell_type": "code",
   "execution_count": 302,
   "metadata": {},
   "outputs": [
    {
     "data": {
      "text/html": [
       "<div>\n",
       "<style scoped>\n",
       "    .dataframe tbody tr th:only-of-type {\n",
       "        vertical-align: middle;\n",
       "    }\n",
       "\n",
       "    .dataframe tbody tr th {\n",
       "        vertical-align: top;\n",
       "    }\n",
       "\n",
       "    .dataframe thead th {\n",
       "        text-align: right;\n",
       "    }\n",
       "</style>\n",
       "<table border=\"1\" class=\"dataframe\">\n",
       "  <thead>\n",
       "    <tr style=\"text-align: right;\">\n",
       "      <th></th>\n",
       "      <th>CONTROL_AREA</th>\n",
       "      <th>UNIT</th>\n",
       "      <th>SCP</th>\n",
       "      <th>STATION</th>\n",
       "      <th>LINENAME</th>\n",
       "      <th>DIVISION</th>\n",
       "      <th>DATE</th>\n",
       "      <th>TIME</th>\n",
       "      <th>ENTRIES</th>\n",
       "      <th>EXITS</th>\n",
       "      <th>On_N_Line</th>\n",
       "    </tr>\n",
       "  </thead>\n",
       "  <tbody>\n",
       "    <tr>\n",
       "      <th>0</th>\n",
       "      <td>A002</td>\n",
       "      <td>R051</td>\n",
       "      <td>02-00-00</td>\n",
       "      <td>59 ST</td>\n",
       "      <td>NQR456W</td>\n",
       "      <td>Brooklyn–Manhattan Transit Corporation</td>\n",
       "      <td>2018-08-25</td>\n",
       "      <td>00:00:00</td>\n",
       "      <td>6736067</td>\n",
       "      <td>0002283184                                    ...</td>\n",
       "      <td>True</td>\n",
       "    </tr>\n",
       "    <tr>\n",
       "      <th>1</th>\n",
       "      <td>A002</td>\n",
       "      <td>R051</td>\n",
       "      <td>02-00-00</td>\n",
       "      <td>59 ST</td>\n",
       "      <td>NQR456W</td>\n",
       "      <td>Brooklyn–Manhattan Transit Corporation</td>\n",
       "      <td>2018-08-25</td>\n",
       "      <td>04:00:00</td>\n",
       "      <td>6736087</td>\n",
       "      <td>0002283188                                    ...</td>\n",
       "      <td>True</td>\n",
       "    </tr>\n",
       "  </tbody>\n",
       "</table>\n",
       "</div>"
      ],
      "text/plain": [
       "  CONTROL_AREA  UNIT       SCP STATION LINENAME  \\\n",
       "0         A002  R051  02-00-00   59 ST  NQR456W   \n",
       "1         A002  R051  02-00-00   59 ST  NQR456W   \n",
       "\n",
       "                                 DIVISION       DATE      TIME  ENTRIES  \\\n",
       "0  Brooklyn–Manhattan Transit Corporation 2018-08-25  00:00:00  6736067   \n",
       "1  Brooklyn–Manhattan Transit Corporation 2018-08-25  04:00:00  6736087   \n",
       "\n",
       "                                               EXITS  On_N_Line  \n",
       "0  0002283184                                    ...       True  \n",
       "1  0002283188                                    ...       True  "
      ]
     },
     "execution_count": 302,
     "metadata": {},
     "output_type": "execute_result"
    }
   ],
   "source": [
    "df['DATE'] = pd.to_datetime(df['DATE'])\n",
    "df.head(2)"
   ]
  },
  {
   "cell_type": "code",
   "execution_count": 303,
   "metadata": {},
   "outputs": [
    {
     "data": {
      "text/plain": [
       "91546    2018-08-30\n",
       "75472    2018-08-31\n",
       "151239   2018-08-30\n",
       "77535    2018-08-25\n",
       "73591    2018-08-27\n",
       "10204    2018-08-28\n",
       "51946    2018-08-27\n",
       "129569   2018-08-26\n",
       "10655    2018-08-25\n",
       "11334    2018-08-30\n",
       "Name: DATE, dtype: datetime64[ns]"
      ]
     },
     "execution_count": 303,
     "metadata": {},
     "output_type": "execute_result"
    }
   ],
   "source": [
    "#make a sample of rows so we can see various dates\n",
    "date_sample = df['DATE'].sample(n=10,random_state=0)\n",
    "date_sample"
   ]
  },
  {
   "cell_type": "markdown",
   "metadata": {},
   "source": [
    "### Applying Datetime Methods\n",
    "Now that we have converted the DATE field to a datetime object we can use some handy built-in methods.\n",
    "\n",
    "For example, finding the name of the day of the week:"
   ]
  },
  {
   "cell_type": "code",
   "execution_count": 304,
   "metadata": {},
   "outputs": [
    {
     "data": {
      "text/plain": [
       "91546     Thursday\n",
       "75472       Friday\n",
       "151239    Thursday\n",
       "77535     Saturday\n",
       "73591       Monday\n",
       "10204      Tuesday\n",
       "51946       Monday\n",
       "129569      Sunday\n",
       "10655     Saturday\n",
       "11334     Thursday\n",
       "Name: DATE, dtype: object"
      ]
     },
     "execution_count": 304,
     "metadata": {},
     "output_type": "execute_result"
    }
   ],
   "source": [
    "#date_sample.dt.weekday #gets the 0 -6\n",
    "date_sample.dt.day_name()"
   ]
  },
  {
   "cell_type": "markdown",
   "metadata": {},
   "source": [
    "Or, rounding to the nearest 7 days:"
   ]
  },
  {
   "cell_type": "code",
   "execution_count": 305,
   "metadata": {},
   "outputs": [
    {
     "data": {
      "text/plain": [
       "91546    2018-08-30\n",
       "75472    2018-08-30\n",
       "151239   2018-08-30\n",
       "77535    2018-08-23\n",
       "73591    2018-08-30\n",
       "10204    2018-08-30\n",
       "51946    2018-08-30\n",
       "129569   2018-08-23\n",
       "10655    2018-08-23\n",
       "11334    2018-08-30\n",
       "Name: DATE, dtype: datetime64[ns]"
      ]
     },
     "execution_count": 305,
     "metadata": {},
     "output_type": "execute_result"
    }
   ],
   "source": [
    "date_sample.dt.round('7D')"
   ]
  },
  {
   "cell_type": "markdown",
   "metadata": {},
   "source": [
    "### Setting a New Index\n",
    "It can also be helpful to set one of the columns as the index of the DataFrame, such as when graphing."
   ]
  },
  {
   "cell_type": "code",
   "execution_count": 306,
   "metadata": {},
   "outputs": [
    {
     "data": {
      "text/html": [
       "<div>\n",
       "<style scoped>\n",
       "    .dataframe tbody tr th:only-of-type {\n",
       "        vertical-align: middle;\n",
       "    }\n",
       "\n",
       "    .dataframe tbody tr th {\n",
       "        vertical-align: top;\n",
       "    }\n",
       "\n",
       "    .dataframe thead th {\n",
       "        text-align: right;\n",
       "    }\n",
       "</style>\n",
       "<table border=\"1\" class=\"dataframe\">\n",
       "  <thead>\n",
       "    <tr style=\"text-align: right;\">\n",
       "      <th></th>\n",
       "      <th>CONTROL_AREA</th>\n",
       "      <th>UNIT</th>\n",
       "      <th>SCP</th>\n",
       "      <th>STATION</th>\n",
       "      <th>LINENAME</th>\n",
       "      <th>DIVISION</th>\n",
       "      <th>TIME</th>\n",
       "      <th>ENTRIES</th>\n",
       "      <th>EXITS</th>\n",
       "      <th>On_N_Line</th>\n",
       "    </tr>\n",
       "    <tr>\n",
       "      <th>DATE</th>\n",
       "      <th></th>\n",
       "      <th></th>\n",
       "      <th></th>\n",
       "      <th></th>\n",
       "      <th></th>\n",
       "      <th></th>\n",
       "      <th></th>\n",
       "      <th></th>\n",
       "      <th></th>\n",
       "      <th></th>\n",
       "    </tr>\n",
       "  </thead>\n",
       "  <tbody>\n",
       "    <tr>\n",
       "      <th>2018-08-25</th>\n",
       "      <td>A002</td>\n",
       "      <td>R051</td>\n",
       "      <td>02-00-00</td>\n",
       "      <td>59 ST</td>\n",
       "      <td>NQR456W</td>\n",
       "      <td>Brooklyn–Manhattan Transit Corporation</td>\n",
       "      <td>00:00:00</td>\n",
       "      <td>6736067</td>\n",
       "      <td>0002283184                                    ...</td>\n",
       "      <td>True</td>\n",
       "    </tr>\n",
       "    <tr>\n",
       "      <th>2018-08-25</th>\n",
       "      <td>A002</td>\n",
       "      <td>R051</td>\n",
       "      <td>02-00-00</td>\n",
       "      <td>59 ST</td>\n",
       "      <td>NQR456W</td>\n",
       "      <td>Brooklyn–Manhattan Transit Corporation</td>\n",
       "      <td>04:00:00</td>\n",
       "      <td>6736087</td>\n",
       "      <td>0002283188                                    ...</td>\n",
       "      <td>True</td>\n",
       "    </tr>\n",
       "    <tr>\n",
       "      <th>2018-08-25</th>\n",
       "      <td>A002</td>\n",
       "      <td>R051</td>\n",
       "      <td>02-00-00</td>\n",
       "      <td>59 ST</td>\n",
       "      <td>NQR456W</td>\n",
       "      <td>Brooklyn–Manhattan Transit Corporation</td>\n",
       "      <td>08:00:00</td>\n",
       "      <td>6736105</td>\n",
       "      <td>0002283229                                    ...</td>\n",
       "      <td>True</td>\n",
       "    </tr>\n",
       "    <tr>\n",
       "      <th>2018-08-25</th>\n",
       "      <td>A002</td>\n",
       "      <td>R051</td>\n",
       "      <td>02-00-00</td>\n",
       "      <td>59 ST</td>\n",
       "      <td>NQR456W</td>\n",
       "      <td>Brooklyn–Manhattan Transit Corporation</td>\n",
       "      <td>12:00:00</td>\n",
       "      <td>6736180</td>\n",
       "      <td>0002283314                                    ...</td>\n",
       "      <td>True</td>\n",
       "    </tr>\n",
       "    <tr>\n",
       "      <th>2018-08-25</th>\n",
       "      <td>A002</td>\n",
       "      <td>R051</td>\n",
       "      <td>02-00-00</td>\n",
       "      <td>59 ST</td>\n",
       "      <td>NQR456W</td>\n",
       "      <td>Brooklyn–Manhattan Transit Corporation</td>\n",
       "      <td>16:00:00</td>\n",
       "      <td>6736349</td>\n",
       "      <td>0002283384                                    ...</td>\n",
       "      <td>True</td>\n",
       "    </tr>\n",
       "  </tbody>\n",
       "</table>\n",
       "</div>"
      ],
      "text/plain": [
       "           CONTROL_AREA  UNIT       SCP STATION LINENAME  \\\n",
       "DATE                                                       \n",
       "2018-08-25         A002  R051  02-00-00   59 ST  NQR456W   \n",
       "2018-08-25         A002  R051  02-00-00   59 ST  NQR456W   \n",
       "2018-08-25         A002  R051  02-00-00   59 ST  NQR456W   \n",
       "2018-08-25         A002  R051  02-00-00   59 ST  NQR456W   \n",
       "2018-08-25         A002  R051  02-00-00   59 ST  NQR456W   \n",
       "\n",
       "                                          DIVISION      TIME  ENTRIES  \\\n",
       "DATE                                                                    \n",
       "2018-08-25  Brooklyn–Manhattan Transit Corporation  00:00:00  6736067   \n",
       "2018-08-25  Brooklyn–Manhattan Transit Corporation  04:00:00  6736087   \n",
       "2018-08-25  Brooklyn–Manhattan Transit Corporation  08:00:00  6736105   \n",
       "2018-08-25  Brooklyn–Manhattan Transit Corporation  12:00:00  6736180   \n",
       "2018-08-25  Brooklyn–Manhattan Transit Corporation  16:00:00  6736349   \n",
       "\n",
       "                                                        EXITS  On_N_Line  \n",
       "DATE                                                                      \n",
       "2018-08-25  0002283184                                    ...       True  \n",
       "2018-08-25  0002283188                                    ...       True  \n",
       "2018-08-25  0002283229                                    ...       True  \n",
       "2018-08-25  0002283314                                    ...       True  \n",
       "2018-08-25  0002283384                                    ...       True  "
      ]
     },
     "execution_count": 306,
     "metadata": {},
     "output_type": "execute_result"
    }
   ],
   "source": [
    "df = df.set_index('DATE')\n",
    "df.head()"
   ]
  },
  {
   "cell_type": "markdown",
   "metadata": {},
   "source": [
    "Or the opposite, resetting the index so that the current index becomes a column and a new index is created:"
   ]
  },
  {
   "cell_type": "code",
   "execution_count": 307,
   "metadata": {},
   "outputs": [
    {
     "data": {
      "text/html": [
       "<div>\n",
       "<style scoped>\n",
       "    .dataframe tbody tr th:only-of-type {\n",
       "        vertical-align: middle;\n",
       "    }\n",
       "\n",
       "    .dataframe tbody tr th {\n",
       "        vertical-align: top;\n",
       "    }\n",
       "\n",
       "    .dataframe thead th {\n",
       "        text-align: right;\n",
       "    }\n",
       "</style>\n",
       "<table border=\"1\" class=\"dataframe\">\n",
       "  <thead>\n",
       "    <tr style=\"text-align: right;\">\n",
       "      <th></th>\n",
       "      <th>DATE</th>\n",
       "      <th>CONTROL_AREA</th>\n",
       "      <th>UNIT</th>\n",
       "      <th>SCP</th>\n",
       "      <th>STATION</th>\n",
       "      <th>LINENAME</th>\n",
       "      <th>DIVISION</th>\n",
       "      <th>TIME</th>\n",
       "      <th>ENTRIES</th>\n",
       "      <th>EXITS</th>\n",
       "      <th>On_N_Line</th>\n",
       "    </tr>\n",
       "  </thead>\n",
       "  <tbody>\n",
       "    <tr>\n",
       "      <th>0</th>\n",
       "      <td>2018-08-25</td>\n",
       "      <td>A002</td>\n",
       "      <td>R051</td>\n",
       "      <td>02-00-00</td>\n",
       "      <td>59 ST</td>\n",
       "      <td>NQR456W</td>\n",
       "      <td>Brooklyn–Manhattan Transit Corporation</td>\n",
       "      <td>00:00:00</td>\n",
       "      <td>6736067</td>\n",
       "      <td>0002283184                                    ...</td>\n",
       "      <td>True</td>\n",
       "    </tr>\n",
       "    <tr>\n",
       "      <th>1</th>\n",
       "      <td>2018-08-25</td>\n",
       "      <td>A002</td>\n",
       "      <td>R051</td>\n",
       "      <td>02-00-00</td>\n",
       "      <td>59 ST</td>\n",
       "      <td>NQR456W</td>\n",
       "      <td>Brooklyn–Manhattan Transit Corporation</td>\n",
       "      <td>04:00:00</td>\n",
       "      <td>6736087</td>\n",
       "      <td>0002283188                                    ...</td>\n",
       "      <td>True</td>\n",
       "    </tr>\n",
       "    <tr>\n",
       "      <th>2</th>\n",
       "      <td>2018-08-25</td>\n",
       "      <td>A002</td>\n",
       "      <td>R051</td>\n",
       "      <td>02-00-00</td>\n",
       "      <td>59 ST</td>\n",
       "      <td>NQR456W</td>\n",
       "      <td>Brooklyn–Manhattan Transit Corporation</td>\n",
       "      <td>08:00:00</td>\n",
       "      <td>6736105</td>\n",
       "      <td>0002283229                                    ...</td>\n",
       "      <td>True</td>\n",
       "    </tr>\n",
       "    <tr>\n",
       "      <th>3</th>\n",
       "      <td>2018-08-25</td>\n",
       "      <td>A002</td>\n",
       "      <td>R051</td>\n",
       "      <td>02-00-00</td>\n",
       "      <td>59 ST</td>\n",
       "      <td>NQR456W</td>\n",
       "      <td>Brooklyn–Manhattan Transit Corporation</td>\n",
       "      <td>12:00:00</td>\n",
       "      <td>6736180</td>\n",
       "      <td>0002283314                                    ...</td>\n",
       "      <td>True</td>\n",
       "    </tr>\n",
       "    <tr>\n",
       "      <th>4</th>\n",
       "      <td>2018-08-25</td>\n",
       "      <td>A002</td>\n",
       "      <td>R051</td>\n",
       "      <td>02-00-00</td>\n",
       "      <td>59 ST</td>\n",
       "      <td>NQR456W</td>\n",
       "      <td>Brooklyn–Manhattan Transit Corporation</td>\n",
       "      <td>16:00:00</td>\n",
       "      <td>6736349</td>\n",
       "      <td>0002283384                                    ...</td>\n",
       "      <td>True</td>\n",
       "    </tr>\n",
       "    <tr>\n",
       "      <th>...</th>\n",
       "      <td>...</td>\n",
       "      <td>...</td>\n",
       "      <td>...</td>\n",
       "      <td>...</td>\n",
       "      <td>...</td>\n",
       "      <td>...</td>\n",
       "      <td>...</td>\n",
       "      <td>...</td>\n",
       "      <td>...</td>\n",
       "      <td>...</td>\n",
       "      <td>...</td>\n",
       "    </tr>\n",
       "    <tr>\n",
       "      <th>197620</th>\n",
       "      <td>2018-08-31</td>\n",
       "      <td>TRAM2</td>\n",
       "      <td>R469</td>\n",
       "      <td>00-05-01</td>\n",
       "      <td>RIT-ROOSEVELT</td>\n",
       "      <td>R</td>\n",
       "      <td>Roosevelt Island Tram</td>\n",
       "      <td>05:00:00</td>\n",
       "      <td>5554</td>\n",
       "      <td>0000000348                                    ...</td>\n",
       "      <td>False</td>\n",
       "    </tr>\n",
       "    <tr>\n",
       "      <th>197621</th>\n",
       "      <td>2018-08-31</td>\n",
       "      <td>TRAM2</td>\n",
       "      <td>R469</td>\n",
       "      <td>00-05-01</td>\n",
       "      <td>RIT-ROOSEVELT</td>\n",
       "      <td>R</td>\n",
       "      <td>Roosevelt Island Tram</td>\n",
       "      <td>09:00:00</td>\n",
       "      <td>5554</td>\n",
       "      <td>0000000348                                    ...</td>\n",
       "      <td>False</td>\n",
       "    </tr>\n",
       "    <tr>\n",
       "      <th>197622</th>\n",
       "      <td>2018-08-31</td>\n",
       "      <td>TRAM2</td>\n",
       "      <td>R469</td>\n",
       "      <td>00-05-01</td>\n",
       "      <td>RIT-ROOSEVELT</td>\n",
       "      <td>R</td>\n",
       "      <td>Roosevelt Island Tram</td>\n",
       "      <td>13:00:00</td>\n",
       "      <td>5554</td>\n",
       "      <td>0000000348                                    ...</td>\n",
       "      <td>False</td>\n",
       "    </tr>\n",
       "    <tr>\n",
       "      <th>197623</th>\n",
       "      <td>2018-08-31</td>\n",
       "      <td>TRAM2</td>\n",
       "      <td>R469</td>\n",
       "      <td>00-05-01</td>\n",
       "      <td>RIT-ROOSEVELT</td>\n",
       "      <td>R</td>\n",
       "      <td>Roosevelt Island Tram</td>\n",
       "      <td>17:00:00</td>\n",
       "      <td>5554</td>\n",
       "      <td>0000000348                                    ...</td>\n",
       "      <td>False</td>\n",
       "    </tr>\n",
       "    <tr>\n",
       "      <th>197624</th>\n",
       "      <td>2018-08-31</td>\n",
       "      <td>TRAM2</td>\n",
       "      <td>R469</td>\n",
       "      <td>00-05-01</td>\n",
       "      <td>RIT-ROOSEVELT</td>\n",
       "      <td>R</td>\n",
       "      <td>Roosevelt Island Tram</td>\n",
       "      <td>21:00:00</td>\n",
       "      <td>5554</td>\n",
       "      <td>0000000348                                    ...</td>\n",
       "      <td>False</td>\n",
       "    </tr>\n",
       "  </tbody>\n",
       "</table>\n",
       "<p>197625 rows × 11 columns</p>\n",
       "</div>"
      ],
      "text/plain": [
       "             DATE CONTROL_AREA  UNIT       SCP        STATION LINENAME  \\\n",
       "0      2018-08-25         A002  R051  02-00-00          59 ST  NQR456W   \n",
       "1      2018-08-25         A002  R051  02-00-00          59 ST  NQR456W   \n",
       "2      2018-08-25         A002  R051  02-00-00          59 ST  NQR456W   \n",
       "3      2018-08-25         A002  R051  02-00-00          59 ST  NQR456W   \n",
       "4      2018-08-25         A002  R051  02-00-00          59 ST  NQR456W   \n",
       "...           ...          ...   ...       ...            ...      ...   \n",
       "197620 2018-08-31        TRAM2  R469  00-05-01  RIT-ROOSEVELT        R   \n",
       "197621 2018-08-31        TRAM2  R469  00-05-01  RIT-ROOSEVELT        R   \n",
       "197622 2018-08-31        TRAM2  R469  00-05-01  RIT-ROOSEVELT        R   \n",
       "197623 2018-08-31        TRAM2  R469  00-05-01  RIT-ROOSEVELT        R   \n",
       "197624 2018-08-31        TRAM2  R469  00-05-01  RIT-ROOSEVELT        R   \n",
       "\n",
       "                                      DIVISION      TIME  ENTRIES  \\\n",
       "0       Brooklyn–Manhattan Transit Corporation  00:00:00  6736067   \n",
       "1       Brooklyn–Manhattan Transit Corporation  04:00:00  6736087   \n",
       "2       Brooklyn–Manhattan Transit Corporation  08:00:00  6736105   \n",
       "3       Brooklyn–Manhattan Transit Corporation  12:00:00  6736180   \n",
       "4       Brooklyn–Manhattan Transit Corporation  16:00:00  6736349   \n",
       "...                                        ...       ...      ...   \n",
       "197620                   Roosevelt Island Tram  05:00:00     5554   \n",
       "197621                   Roosevelt Island Tram  09:00:00     5554   \n",
       "197622                   Roosevelt Island Tram  13:00:00     5554   \n",
       "197623                   Roosevelt Island Tram  17:00:00     5554   \n",
       "197624                   Roosevelt Island Tram  21:00:00     5554   \n",
       "\n",
       "                                                    EXITS  On_N_Line  \n",
       "0       0002283184                                    ...       True  \n",
       "1       0002283188                                    ...       True  \n",
       "2       0002283229                                    ...       True  \n",
       "3       0002283314                                    ...       True  \n",
       "4       0002283384                                    ...       True  \n",
       "...                                                   ...        ...  \n",
       "197620  0000000348                                    ...      False  \n",
       "197621  0000000348                                    ...      False  \n",
       "197622  0000000348                                    ...      False  \n",
       "197623  0000000348                                    ...      False  \n",
       "197624  0000000348                                    ...      False  \n",
       "\n",
       "[197625 rows x 11 columns]"
      ]
     },
     "execution_count": 307,
     "metadata": {},
     "output_type": "execute_result"
    }
   ],
   "source": [
    "df.reset_index()"
   ]
  },
  {
   "cell_type": "code",
   "execution_count": null,
   "metadata": {},
   "outputs": [],
   "source": []
  }
 ],
 "metadata": {
  "kernelspec": {
   "display_name": "Python (learn-env)",
   "language": "python",
   "name": "learn-env"
  },
  "language_info": {
   "codemirror_mode": {
    "name": "ipython",
    "version": 3
   },
   "file_extension": ".py",
   "mimetype": "text/x-python",
   "name": "python",
   "nbconvert_exporter": "python",
   "pygments_lexer": "ipython3",
   "version": "3.8.5"
  }
 },
 "nbformat": 4,
 "nbformat_minor": 2
}
