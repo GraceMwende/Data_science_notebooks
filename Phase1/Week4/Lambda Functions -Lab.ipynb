{
 "cells": [
  {
   "cell_type": "markdown",
   "metadata": {},
   "source": [
    "### Objectives\n",
    "In this lab you will:\n",
    "\n",
    "Create lambda functions to use as arguments of other functions\n",
    "Use the .map() or .apply() method to apply a function to a pandas series or DataFrame"
   ]
  },
  {
   "cell_type": "code",
   "execution_count": 78,
   "metadata": {},
   "outputs": [
    {
     "data": {
      "text/html": [
       "<div>\n",
       "<style scoped>\n",
       "    .dataframe tbody tr th:only-of-type {\n",
       "        vertical-align: middle;\n",
       "    }\n",
       "\n",
       "    .dataframe tbody tr th {\n",
       "        vertical-align: top;\n",
       "    }\n",
       "\n",
       "    .dataframe thead th {\n",
       "        text-align: right;\n",
       "    }\n",
       "</style>\n",
       "<table border=\"1\" class=\"dataframe\">\n",
       "  <thead>\n",
       "    <tr style=\"text-align: right;\">\n",
       "      <th></th>\n",
       "      <th>business_id</th>\n",
       "      <th>cool</th>\n",
       "      <th>date</th>\n",
       "      <th>funny</th>\n",
       "      <th>review_id</th>\n",
       "      <th>stars</th>\n",
       "      <th>text</th>\n",
       "      <th>useful</th>\n",
       "      <th>user_id</th>\n",
       "    </tr>\n",
       "  </thead>\n",
       "  <tbody>\n",
       "    <tr>\n",
       "      <th>1</th>\n",
       "      <td>pomGBqfbxcqPv14c3XH-ZQ</td>\n",
       "      <td>0</td>\n",
       "      <td>2012-11-13</td>\n",
       "      <td>0</td>\n",
       "      <td>dDl8zu1vWPdKGihJrwQbpw</td>\n",
       "      <td>5</td>\n",
       "      <td>I love this place! My fiance And I go here atl...</td>\n",
       "      <td>0</td>\n",
       "      <td>msQe1u7Z_XuqjGoqhB0J5g</td>\n",
       "    </tr>\n",
       "    <tr>\n",
       "      <th>2</th>\n",
       "      <td>jtQARsP6P-LbkyjbO1qNGg</td>\n",
       "      <td>1</td>\n",
       "      <td>2014-10-23</td>\n",
       "      <td>1</td>\n",
       "      <td>LZp4UX5zK3e-c5ZGSeo3kA</td>\n",
       "      <td>1</td>\n",
       "      <td>Terrible. Dry corn bread. Rib tips were all fa...</td>\n",
       "      <td>3</td>\n",
       "      <td>msQe1u7Z_XuqjGoqhB0J5g</td>\n",
       "    </tr>\n",
       "  </tbody>\n",
       "</table>\n",
       "</div>"
      ],
      "text/plain": [
       "              business_id  cool        date  funny               review_id  \\\n",
       "1  pomGBqfbxcqPv14c3XH-ZQ     0  2012-11-13      0  dDl8zu1vWPdKGihJrwQbpw   \n",
       "2  jtQARsP6P-LbkyjbO1qNGg     1  2014-10-23      1  LZp4UX5zK3e-c5ZGSeo3kA   \n",
       "\n",
       "   stars                                               text  useful  \\\n",
       "1      5  I love this place! My fiance And I go here atl...       0   \n",
       "2      1  Terrible. Dry corn bread. Rib tips were all fa...       3   \n",
       "\n",
       "                  user_id  \n",
       "1  msQe1u7Z_XuqjGoqhB0J5g  \n",
       "2  msQe1u7Z_XuqjGoqhB0J5g  "
      ]
     },
     "execution_count": 78,
     "metadata": {},
     "output_type": "execute_result"
    }
   ],
   "source": [
    "import pandas as pd\n",
    "df = pd.read_csv('data/Yelp_Reviews.csv', index_col=0)\n",
    "df.head(2)"
   ]
  },
  {
   "cell_type": "markdown",
   "metadata": {},
   "source": [
    "### Simple arithmetic\n",
    "Use a lambda function to create a new column called 'stars_squared' by squaring the stars column."
   ]
  },
  {
   "cell_type": "code",
   "execution_count": 79,
   "metadata": {},
   "outputs": [
    {
     "data": {
      "text/html": [
       "<div>\n",
       "<style scoped>\n",
       "    .dataframe tbody tr th:only-of-type {\n",
       "        vertical-align: middle;\n",
       "    }\n",
       "\n",
       "    .dataframe tbody tr th {\n",
       "        vertical-align: top;\n",
       "    }\n",
       "\n",
       "    .dataframe thead th {\n",
       "        text-align: right;\n",
       "    }\n",
       "</style>\n",
       "<table border=\"1\" class=\"dataframe\">\n",
       "  <thead>\n",
       "    <tr style=\"text-align: right;\">\n",
       "      <th></th>\n",
       "      <th>business_id</th>\n",
       "      <th>cool</th>\n",
       "      <th>date</th>\n",
       "      <th>funny</th>\n",
       "      <th>review_id</th>\n",
       "      <th>stars</th>\n",
       "      <th>text</th>\n",
       "      <th>useful</th>\n",
       "      <th>user_id</th>\n",
       "      <th>stars_squared</th>\n",
       "    </tr>\n",
       "  </thead>\n",
       "  <tbody>\n",
       "    <tr>\n",
       "      <th>1</th>\n",
       "      <td>pomGBqfbxcqPv14c3XH-ZQ</td>\n",
       "      <td>0</td>\n",
       "      <td>2012-11-13</td>\n",
       "      <td>0</td>\n",
       "      <td>dDl8zu1vWPdKGihJrwQbpw</td>\n",
       "      <td>5</td>\n",
       "      <td>I love this place! My fiance And I go here atl...</td>\n",
       "      <td>0</td>\n",
       "      <td>msQe1u7Z_XuqjGoqhB0J5g</td>\n",
       "      <td>25</td>\n",
       "    </tr>\n",
       "    <tr>\n",
       "      <th>2</th>\n",
       "      <td>jtQARsP6P-LbkyjbO1qNGg</td>\n",
       "      <td>1</td>\n",
       "      <td>2014-10-23</td>\n",
       "      <td>1</td>\n",
       "      <td>LZp4UX5zK3e-c5ZGSeo3kA</td>\n",
       "      <td>1</td>\n",
       "      <td>Terrible. Dry corn bread. Rib tips were all fa...</td>\n",
       "      <td>3</td>\n",
       "      <td>msQe1u7Z_XuqjGoqhB0J5g</td>\n",
       "      <td>1</td>\n",
       "    </tr>\n",
       "  </tbody>\n",
       "</table>\n",
       "</div>"
      ],
      "text/plain": [
       "              business_id  cool        date  funny               review_id  \\\n",
       "1  pomGBqfbxcqPv14c3XH-ZQ     0  2012-11-13      0  dDl8zu1vWPdKGihJrwQbpw   \n",
       "2  jtQARsP6P-LbkyjbO1qNGg     1  2014-10-23      1  LZp4UX5zK3e-c5ZGSeo3kA   \n",
       "\n",
       "   stars                                               text  useful  \\\n",
       "1      5  I love this place! My fiance And I go here atl...       0   \n",
       "2      1  Terrible. Dry corn bread. Rib tips were all fa...       3   \n",
       "\n",
       "                  user_id  stars_squared  \n",
       "1  msQe1u7Z_XuqjGoqhB0J5g             25  \n",
       "2  msQe1u7Z_XuqjGoqhB0J5g              1  "
      ]
     },
     "execution_count": 79,
     "metadata": {},
     "output_type": "execute_result"
    }
   ],
   "source": [
    "# example = df['stars'].iloc[0]\n",
    "# example **2\n",
    "df['stars_squared'] = df['stars'].map(lambda x: x**2)\n",
    "df.head(2)"
   ]
  },
  {
   "cell_type": "markdown",
   "metadata": {},
   "source": [
    "### Dates\n",
    "Select the month from the date string using a lambda function."
   ]
  },
  {
   "cell_type": "code",
   "execution_count": 80,
   "metadata": {},
   "outputs": [
    {
     "name": "stdout",
     "output_type": "stream",
     "text": [
      "object\n"
     ]
    },
    {
     "data": {
      "text/plain": [
       "1     2012-11-13\n",
       "2     2014-10-23\n",
       "4     2014-09-05\n",
       "5     2011-02-25\n",
       "10    2016-06-15\n",
       "Name: date, dtype: object"
      ]
     },
     "execution_count": 80,
     "metadata": {},
     "output_type": "execute_result"
    }
   ],
   "source": [
    "print(df['date'].dtype)\n",
    "df['date'].head()"
   ]
  },
  {
   "cell_type": "code",
   "execution_count": 81,
   "metadata": {},
   "outputs": [],
   "source": [
    "df['date'] = pd.to_datetime(df['date'],format='%Y-%m-%d')"
   ]
  },
  {
   "cell_type": "code",
   "execution_count": 82,
   "metadata": {},
   "outputs": [
    {
     "data": {
      "text/plain": [
       "1    2012-11-13\n",
       "2    2014-10-23\n",
       "4    2014-09-05\n",
       "5    2011-02-25\n",
       "10   2016-06-15\n",
       "Name: date, dtype: datetime64[ns]"
      ]
     },
     "execution_count": 82,
     "metadata": {},
     "output_type": "execute_result"
    }
   ],
   "source": [
    "df['date'].head()"
   ]
  },
  {
   "cell_type": "code",
   "execution_count": 83,
   "metadata": {},
   "outputs": [
    {
     "data": {
      "text/plain": [
       "1       11\n",
       "2       10\n",
       "4        9\n",
       "5        2\n",
       "10       6\n",
       "        ..\n",
       "689      6\n",
       "4874     8\n",
       "564      6\n",
       "3458    10\n",
       "4206     8\n",
       "Name: date, Length: 2610, dtype: int64"
      ]
     },
     "execution_count": 83,
     "metadata": {},
     "output_type": "execute_result"
    }
   ],
   "source": [
    "# example = df['date'].iloc[0]\n",
    "# example.year\n",
    "df['date'].map(lambda x: x.month)"
   ]
  },
  {
   "cell_type": "code",
   "execution_count": null,
   "metadata": {},
   "outputs": [],
   "source": [
    "#teachers code\n",
    "#df['date'].map(lambda x: x[5:7]).head()"
   ]
  },
  {
   "cell_type": "markdown",
   "metadata": {},
   "source": [
    "### What is the average number of words for a yelp review?\n",
    "Do this with a single line of code."
   ]
  },
  {
   "cell_type": "code",
   "execution_count": 84,
   "metadata": {},
   "outputs": [
    {
     "data": {
      "text/plain": [
       "77.06551724137931"
      ]
     },
     "execution_count": 84,
     "metadata": {},
     "output_type": "execute_result"
    }
   ],
   "source": [
    "import numpy as np\n",
    "# example = df['text'].iloc[0]\n",
    "# len(example.split())\n",
    "np.mean(list(df['text'].map(lambda x: len(x.split()))))\n",
    "\n"
   ]
  },
  {
   "cell_type": "code",
   "execution_count": 92,
   "metadata": {},
   "outputs": [
    {
     "data": {
      "text/plain": [
       "77.06551724137931"
      ]
     },
     "execution_count": 92,
     "metadata": {},
     "output_type": "execute_result"
    }
   ],
   "source": [
    "#teacher code\n",
    "df['text'].map(lambda x: len(x.split())).mean()"
   ]
  },
  {
   "cell_type": "markdown",
   "metadata": {},
   "source": [
    "### Create a new column for the number of words in the review"
   ]
  },
  {
   "cell_type": "code",
   "execution_count": 85,
   "metadata": {},
   "outputs": [
    {
     "data": {
      "text/html": [
       "<div>\n",
       "<style scoped>\n",
       "    .dataframe tbody tr th:only-of-type {\n",
       "        vertical-align: middle;\n",
       "    }\n",
       "\n",
       "    .dataframe tbody tr th {\n",
       "        vertical-align: top;\n",
       "    }\n",
       "\n",
       "    .dataframe thead th {\n",
       "        text-align: right;\n",
       "    }\n",
       "</style>\n",
       "<table border=\"1\" class=\"dataframe\">\n",
       "  <thead>\n",
       "    <tr style=\"text-align: right;\">\n",
       "      <th></th>\n",
       "      <th>business_id</th>\n",
       "      <th>cool</th>\n",
       "      <th>date</th>\n",
       "      <th>funny</th>\n",
       "      <th>review_id</th>\n",
       "      <th>stars</th>\n",
       "      <th>text</th>\n",
       "      <th>useful</th>\n",
       "      <th>user_id</th>\n",
       "      <th>stars_squared</th>\n",
       "      <th>no_of_words</th>\n",
       "    </tr>\n",
       "  </thead>\n",
       "  <tbody>\n",
       "    <tr>\n",
       "      <th>1</th>\n",
       "      <td>pomGBqfbxcqPv14c3XH-ZQ</td>\n",
       "      <td>0</td>\n",
       "      <td>2012-11-13</td>\n",
       "      <td>0</td>\n",
       "      <td>dDl8zu1vWPdKGihJrwQbpw</td>\n",
       "      <td>5</td>\n",
       "      <td>I love this place! My fiance And I go here atl...</td>\n",
       "      <td>0</td>\n",
       "      <td>msQe1u7Z_XuqjGoqhB0J5g</td>\n",
       "      <td>25</td>\n",
       "      <td>58</td>\n",
       "    </tr>\n",
       "    <tr>\n",
       "      <th>2</th>\n",
       "      <td>jtQARsP6P-LbkyjbO1qNGg</td>\n",
       "      <td>1</td>\n",
       "      <td>2014-10-23</td>\n",
       "      <td>1</td>\n",
       "      <td>LZp4UX5zK3e-c5ZGSeo3kA</td>\n",
       "      <td>1</td>\n",
       "      <td>Terrible. Dry corn bread. Rib tips were all fa...</td>\n",
       "      <td>3</td>\n",
       "      <td>msQe1u7Z_XuqjGoqhB0J5g</td>\n",
       "      <td>1</td>\n",
       "      <td>30</td>\n",
       "    </tr>\n",
       "    <tr>\n",
       "      <th>4</th>\n",
       "      <td>Ums3gaP2qM3W1XcA5r6SsQ</td>\n",
       "      <td>0</td>\n",
       "      <td>2014-09-05</td>\n",
       "      <td>0</td>\n",
       "      <td>jsDu6QEJHbwP2Blom1PLCA</td>\n",
       "      <td>5</td>\n",
       "      <td>Delicious healthy food. The steak is amazing. ...</td>\n",
       "      <td>0</td>\n",
       "      <td>msQe1u7Z_XuqjGoqhB0J5g</td>\n",
       "      <td>25</td>\n",
       "      <td>30</td>\n",
       "    </tr>\n",
       "    <tr>\n",
       "      <th>5</th>\n",
       "      <td>vgfcTvK81oD4r50NMjU2Ag</td>\n",
       "      <td>0</td>\n",
       "      <td>2011-02-25</td>\n",
       "      <td>0</td>\n",
       "      <td>pfavA0hr3nyqO61oupj-lA</td>\n",
       "      <td>1</td>\n",
       "      <td>This place sucks. The customer service is horr...</td>\n",
       "      <td>2</td>\n",
       "      <td>msQe1u7Z_XuqjGoqhB0J5g</td>\n",
       "      <td>1</td>\n",
       "      <td>82</td>\n",
       "    </tr>\n",
       "    <tr>\n",
       "      <th>10</th>\n",
       "      <td>yFumR3CWzpfvTH2FCthvVw</td>\n",
       "      <td>0</td>\n",
       "      <td>2016-06-15</td>\n",
       "      <td>0</td>\n",
       "      <td>STiFMww2z31siPY7BWNC2g</td>\n",
       "      <td>5</td>\n",
       "      <td>I have been an Emerald Club member for a numbe...</td>\n",
       "      <td>0</td>\n",
       "      <td>TlvV-xJhmh7LCwJYXkV-cg</td>\n",
       "      <td>25</td>\n",
       "      <td>32</td>\n",
       "    </tr>\n",
       "  </tbody>\n",
       "</table>\n",
       "</div>"
      ],
      "text/plain": [
       "               business_id  cool       date  funny               review_id  \\\n",
       "1   pomGBqfbxcqPv14c3XH-ZQ     0 2012-11-13      0  dDl8zu1vWPdKGihJrwQbpw   \n",
       "2   jtQARsP6P-LbkyjbO1qNGg     1 2014-10-23      1  LZp4UX5zK3e-c5ZGSeo3kA   \n",
       "4   Ums3gaP2qM3W1XcA5r6SsQ     0 2014-09-05      0  jsDu6QEJHbwP2Blom1PLCA   \n",
       "5   vgfcTvK81oD4r50NMjU2Ag     0 2011-02-25      0  pfavA0hr3nyqO61oupj-lA   \n",
       "10  yFumR3CWzpfvTH2FCthvVw     0 2016-06-15      0  STiFMww2z31siPY7BWNC2g   \n",
       "\n",
       "    stars                                               text  useful  \\\n",
       "1       5  I love this place! My fiance And I go here atl...       0   \n",
       "2       1  Terrible. Dry corn bread. Rib tips were all fa...       3   \n",
       "4       5  Delicious healthy food. The steak is amazing. ...       0   \n",
       "5       1  This place sucks. The customer service is horr...       2   \n",
       "10      5  I have been an Emerald Club member for a numbe...       0   \n",
       "\n",
       "                   user_id  stars_squared  no_of_words  \n",
       "1   msQe1u7Z_XuqjGoqhB0J5g             25           58  \n",
       "2   msQe1u7Z_XuqjGoqhB0J5g              1           30  \n",
       "4   msQe1u7Z_XuqjGoqhB0J5g             25           30  \n",
       "5   msQe1u7Z_XuqjGoqhB0J5g              1           82  \n",
       "10  TlvV-xJhmh7LCwJYXkV-cg             25           32  "
      ]
     },
     "execution_count": 85,
     "metadata": {},
     "output_type": "execute_result"
    }
   ],
   "source": [
    "df['no_of_words'] = df['text'].map(lambda x: len(x.split()))\n",
    "df.head()"
   ]
  },
  {
   "cell_type": "markdown",
   "metadata": {},
   "source": [
    "### Rewrite the following as a lambda function\n",
    "Create a new column 'Review_Length' by applying this lambda function to the 'Review_num_words' column."
   ]
  },
  {
   "cell_type": "code",
   "execution_count": 93,
   "metadata": {},
   "outputs": [
    {
     "data": {
      "text/html": [
       "<div>\n",
       "<style scoped>\n",
       "    .dataframe tbody tr th:only-of-type {\n",
       "        vertical-align: middle;\n",
       "    }\n",
       "\n",
       "    .dataframe tbody tr th {\n",
       "        vertical-align: top;\n",
       "    }\n",
       "\n",
       "    .dataframe thead th {\n",
       "        text-align: right;\n",
       "    }\n",
       "</style>\n",
       "<table border=\"1\" class=\"dataframe\">\n",
       "  <thead>\n",
       "    <tr style=\"text-align: right;\">\n",
       "      <th></th>\n",
       "      <th>no_of_words</th>\n",
       "      <th>Review_length</th>\n",
       "    </tr>\n",
       "  </thead>\n",
       "  <tbody>\n",
       "    <tr>\n",
       "      <th>1</th>\n",
       "      <td>58</td>\n",
       "      <td>medium</td>\n",
       "    </tr>\n",
       "    <tr>\n",
       "      <th>2</th>\n",
       "      <td>30</td>\n",
       "      <td>short</td>\n",
       "    </tr>\n",
       "    <tr>\n",
       "      <th>4</th>\n",
       "      <td>30</td>\n",
       "      <td>short</td>\n",
       "    </tr>\n",
       "    <tr>\n",
       "      <th>5</th>\n",
       "      <td>82</td>\n",
       "      <td>Long</td>\n",
       "    </tr>\n",
       "    <tr>\n",
       "      <th>10</th>\n",
       "      <td>32</td>\n",
       "      <td>short</td>\n",
       "    </tr>\n",
       "    <tr>\n",
       "      <th>...</th>\n",
       "      <td>...</td>\n",
       "      <td>...</td>\n",
       "    </tr>\n",
       "    <tr>\n",
       "      <th>689</th>\n",
       "      <td>61</td>\n",
       "      <td>medium</td>\n",
       "    </tr>\n",
       "    <tr>\n",
       "      <th>4874</th>\n",
       "      <td>43</td>\n",
       "      <td>short</td>\n",
       "    </tr>\n",
       "    <tr>\n",
       "      <th>564</th>\n",
       "      <td>79</td>\n",
       "      <td>medium</td>\n",
       "    </tr>\n",
       "    <tr>\n",
       "      <th>3458</th>\n",
       "      <td>185</td>\n",
       "      <td>Long</td>\n",
       "    </tr>\n",
       "    <tr>\n",
       "      <th>4206</th>\n",
       "      <td>42</td>\n",
       "      <td>short</td>\n",
       "    </tr>\n",
       "  </tbody>\n",
       "</table>\n",
       "<p>2610 rows × 2 columns</p>\n",
       "</div>"
      ],
      "text/plain": [
       "      no_of_words Review_length\n",
       "1              58        medium\n",
       "2              30         short\n",
       "4              30         short\n",
       "5              82          Long\n",
       "10             32         short\n",
       "...           ...           ...\n",
       "689            61        medium\n",
       "4874           43         short\n",
       "564            79        medium\n",
       "3458          185          Long\n",
       "4206           42         short\n",
       "\n",
       "[2610 rows x 2 columns]"
      ]
     },
     "execution_count": 93,
     "metadata": {},
     "output_type": "execute_result"
    }
   ],
   "source": [
    "# example = df['no_of_words'].iloc[0]\n",
    "# example\n",
    "df['Review_length'] = df['no_of_words'].map(lambda x:  'short' if x<50 else ('medium' if x<80 else 'Long'))\n",
    "df[['no_of_words','Review_length']]"
   ]
  },
  {
   "cell_type": "markdown",
   "metadata": {},
   "source": [
    "### Level Up: Dates Advanced\n",
    "Overwrite the 'date' column by reordering the month and day from YYYY-MM-DD to DD-MM-YYYY. Try to do this using a lambda function."
   ]
  },
  {
   "cell_type": "code",
   "execution_count": 87,
   "metadata": {},
   "outputs": [
    {
     "data": {
      "text/plain": [
       "1    2012-11-13\n",
       "2    2014-10-23\n",
       "4    2014-09-05\n",
       "5    2011-02-25\n",
       "10   2016-06-15\n",
       "Name: date, dtype: datetime64[ns]"
      ]
     },
     "execution_count": 87,
     "metadata": {},
     "output_type": "execute_result"
    }
   ],
   "source": [
    "#Print the first five rows of the 'date' column.\n",
    "df['date'].head()"
   ]
  },
  {
   "cell_type": "code",
   "execution_count": 88,
   "metadata": {},
   "outputs": [
    {
     "data": {
      "text/plain": [
       "'13-11-2012'"
      ]
     },
     "execution_count": 88,
     "metadata": {},
     "output_type": "execute_result"
    }
   ],
   "source": [
    "example = df['date'].iloc[0]\n",
    "example.strftime('%d-%m-%Y')"
   ]
  },
  {
   "cell_type": "code",
   "execution_count": 89,
   "metadata": {},
   "outputs": [
    {
     "data": {
      "text/html": [
       "<div>\n",
       "<style scoped>\n",
       "    .dataframe tbody tr th:only-of-type {\n",
       "        vertical-align: middle;\n",
       "    }\n",
       "\n",
       "    .dataframe tbody tr th {\n",
       "        vertical-align: top;\n",
       "    }\n",
       "\n",
       "    .dataframe thead th {\n",
       "        text-align: right;\n",
       "    }\n",
       "</style>\n",
       "<table border=\"1\" class=\"dataframe\">\n",
       "  <thead>\n",
       "    <tr style=\"text-align: right;\">\n",
       "      <th></th>\n",
       "      <th>date</th>\n",
       "      <th>date2</th>\n",
       "    </tr>\n",
       "  </thead>\n",
       "  <tbody>\n",
       "    <tr>\n",
       "      <th>1</th>\n",
       "      <td>2012-11-13</td>\n",
       "      <td>13-11-2012</td>\n",
       "    </tr>\n",
       "    <tr>\n",
       "      <th>2</th>\n",
       "      <td>2014-10-23</td>\n",
       "      <td>23-10-2014</td>\n",
       "    </tr>\n",
       "    <tr>\n",
       "      <th>4</th>\n",
       "      <td>2014-09-05</td>\n",
       "      <td>05-09-2014</td>\n",
       "    </tr>\n",
       "    <tr>\n",
       "      <th>5</th>\n",
       "      <td>2011-02-25</td>\n",
       "      <td>25-02-2011</td>\n",
       "    </tr>\n",
       "    <tr>\n",
       "      <th>10</th>\n",
       "      <td>2016-06-15</td>\n",
       "      <td>15-06-2016</td>\n",
       "    </tr>\n",
       "    <tr>\n",
       "      <th>...</th>\n",
       "      <td>...</td>\n",
       "      <td>...</td>\n",
       "    </tr>\n",
       "    <tr>\n",
       "      <th>689</th>\n",
       "      <td>2013-06-02</td>\n",
       "      <td>02-06-2013</td>\n",
       "    </tr>\n",
       "    <tr>\n",
       "      <th>4874</th>\n",
       "      <td>2016-08-14</td>\n",
       "      <td>14-08-2016</td>\n",
       "    </tr>\n",
       "    <tr>\n",
       "      <th>564</th>\n",
       "      <td>2016-06-14</td>\n",
       "      <td>14-06-2016</td>\n",
       "    </tr>\n",
       "    <tr>\n",
       "      <th>3458</th>\n",
       "      <td>2013-10-02</td>\n",
       "      <td>02-10-2013</td>\n",
       "    </tr>\n",
       "    <tr>\n",
       "      <th>4206</th>\n",
       "      <td>2016-08-15</td>\n",
       "      <td>15-08-2016</td>\n",
       "    </tr>\n",
       "  </tbody>\n",
       "</table>\n",
       "<p>2610 rows × 2 columns</p>\n",
       "</div>"
      ],
      "text/plain": [
       "           date       date2\n",
       "1    2012-11-13  13-11-2012\n",
       "2    2014-10-23  23-10-2014\n",
       "4    2014-09-05  05-09-2014\n",
       "5    2011-02-25  25-02-2011\n",
       "10   2016-06-15  15-06-2016\n",
       "...         ...         ...\n",
       "689  2013-06-02  02-06-2013\n",
       "4874 2016-08-14  14-08-2016\n",
       "564  2016-06-14  14-06-2016\n",
       "3458 2013-10-02  02-10-2013\n",
       "4206 2016-08-15  15-08-2016\n",
       "\n",
       "[2610 rows x 2 columns]"
      ]
     },
     "execution_count": 89,
     "metadata": {},
     "output_type": "execute_result"
    }
   ],
   "source": [
    "df['date2'] = df['date'].map(lambda x : x.strftime('%d-%m-%Y'))\n",
    "df[['date','date2']]"
   ]
  },
  {
   "cell_type": "code",
   "execution_count": 103,
   "metadata": {},
   "outputs": [],
   "source": [
    "#Teachers code\n",
    "df['date'].map(lambda x : '{}-{}-{}'.format(x[-2:],x[5:7],x[:4])) #if column not yet converte to date"
   ]
  },
  {
   "cell_type": "code",
   "execution_count": null,
   "metadata": {},
   "outputs": [],
   "source": []
  }
 ],
 "metadata": {
  "kernelspec": {
   "display_name": "learn-env",
   "language": "python",
   "name": "python3"
  },
  "language_info": {
   "codemirror_mode": {
    "name": "ipython",
    "version": 3
   },
   "file_extension": ".py",
   "mimetype": "text/x-python",
   "name": "python",
   "nbconvert_exporter": "python",
   "pygments_lexer": "ipython3",
   "version": "3.8.5"
  }
 },
 "nbformat": 4,
 "nbformat_minor": 2
}
