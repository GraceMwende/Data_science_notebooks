{
 "cells": [
  {
   "cell_type": "markdown",
   "metadata": {},
   "source": [
    "Lambda functions are often a convenient way to write throw-away functions on the fly. If you need to write a more complicated function you may still need to use the more formal def method, but lambda functions provide a quick and concise way to write functions.\n",
    "\n",
    "### Objectives\n",
    "You will be able to:\n",
    "\n",
    "- Describe the purpose of lambda functions, when they should be employed, and their limitations\n",
    "- Create lambda functions to use as arguments of other functions\n",
    "- Use the .map() or .apply() method to apply a function to a pandas series or DataFrame"
   ]
  },
  {
   "cell_type": "code",
   "execution_count": 1,
   "metadata": {},
   "outputs": [
    {
     "data": {
      "text/html": [
       "<div>\n",
       "<style scoped>\n",
       "    .dataframe tbody tr th:only-of-type {\n",
       "        vertical-align: middle;\n",
       "    }\n",
       "\n",
       "    .dataframe tbody tr th {\n",
       "        vertical-align: top;\n",
       "    }\n",
       "\n",
       "    .dataframe thead th {\n",
       "        text-align: right;\n",
       "    }\n",
       "</style>\n",
       "<table border=\"1\" class=\"dataframe\">\n",
       "  <thead>\n",
       "    <tr style=\"text-align: right;\">\n",
       "      <th></th>\n",
       "      <th>business_id</th>\n",
       "      <th>cool</th>\n",
       "      <th>date</th>\n",
       "      <th>funny</th>\n",
       "      <th>review_id</th>\n",
       "      <th>stars</th>\n",
       "      <th>text</th>\n",
       "      <th>useful</th>\n",
       "      <th>user_id</th>\n",
       "    </tr>\n",
       "  </thead>\n",
       "  <tbody>\n",
       "    <tr>\n",
       "      <th>1</th>\n",
       "      <td>pomGBqfbxcqPv14c3XH-ZQ</td>\n",
       "      <td>0</td>\n",
       "      <td>2012-11-13</td>\n",
       "      <td>0</td>\n",
       "      <td>dDl8zu1vWPdKGihJrwQbpw</td>\n",
       "      <td>5</td>\n",
       "      <td>I love this place! My fiance And I go here atl...</td>\n",
       "      <td>0</td>\n",
       "      <td>msQe1u7Z_XuqjGoqhB0J5g</td>\n",
       "    </tr>\n",
       "    <tr>\n",
       "      <th>2</th>\n",
       "      <td>jtQARsP6P-LbkyjbO1qNGg</td>\n",
       "      <td>1</td>\n",
       "      <td>2014-10-23</td>\n",
       "      <td>1</td>\n",
       "      <td>LZp4UX5zK3e-c5ZGSeo3kA</td>\n",
       "      <td>1</td>\n",
       "      <td>Terrible. Dry corn bread. Rib tips were all fa...</td>\n",
       "      <td>3</td>\n",
       "      <td>msQe1u7Z_XuqjGoqhB0J5g</td>\n",
       "    </tr>\n",
       "  </tbody>\n",
       "</table>\n",
       "</div>"
      ],
      "text/plain": [
       "              business_id  cool        date  funny               review_id  \\\n",
       "1  pomGBqfbxcqPv14c3XH-ZQ     0  2012-11-13      0  dDl8zu1vWPdKGihJrwQbpw   \n",
       "2  jtQARsP6P-LbkyjbO1qNGg     1  2014-10-23      1  LZp4UX5zK3e-c5ZGSeo3kA   \n",
       "\n",
       "   stars                                               text  useful  \\\n",
       "1      5  I love this place! My fiance And I go here atl...       0   \n",
       "2      1  Terrible. Dry corn bread. Rib tips were all fa...       3   \n",
       "\n",
       "                  user_id  \n",
       "1  msQe1u7Z_XuqjGoqhB0J5g  \n",
       "2  msQe1u7Z_XuqjGoqhB0J5g  "
      ]
     },
     "execution_count": 1,
     "metadata": {},
     "output_type": "execute_result"
    }
   ],
   "source": [
    "import pandas as pd\n",
    "df = pd.read_csv('data/Yelp_Reviews.csv',index_col=0)\n",
    "df.head(2)"
   ]
  },
  {
   "cell_type": "code",
   "execution_count": 4,
   "metadata": {},
   "outputs": [
    {
     "data": {
      "text/plain": [
       "1     58\n",
       "2     30\n",
       "4     30\n",
       "5     82\n",
       "10    32\n",
       "Name: text, dtype: int64"
      ]
     },
     "execution_count": 4,
     "metadata": {},
     "output_type": "execute_result"
    }
   ],
   "source": [
    "df['text'].map(lambda x: len(x.split())).head()"
   ]
  },
  {
   "cell_type": "markdown",
   "metadata": {},
   "source": [
    "Similar to defining functions in general or naming the iterable in for loops, the variable that you use after calling the lambda keyword does not matter:"
   ]
  },
  {
   "cell_type": "code",
   "execution_count": 5,
   "metadata": {},
   "outputs": [
    {
     "data": {
      "text/plain": [
       "1     58\n",
       "2     30\n",
       "4     30\n",
       "5     82\n",
       "10    32\n",
       "Name: text, dtype: int64"
      ]
     },
     "execution_count": 5,
     "metadata": {},
     "output_type": "execute_result"
    }
   ],
   "source": [
    "df['text'].map(lambda reveview_text: len(reveview_text.split())).head()"
   ]
  },
  {
   "cell_type": "markdown",
   "metadata": {},
   "source": [
    "### Lambda functions with conditionals\n",
    "Lambda functions can also accept some conditionals if chained in a list comprehension"
   ]
  },
  {
   "cell_type": "code",
   "execution_count": 6,
   "metadata": {},
   "outputs": [
    {
     "data": {
      "text/plain": [
       "1     Good\n",
       "2      Bad\n",
       "4     Good\n",
       "5      Bad\n",
       "10     Bad\n",
       "Name: text, dtype: object"
      ]
     },
     "execution_count": 6,
     "metadata": {},
     "output_type": "execute_result"
    }
   ],
   "source": [
    "df['text'].map(lambda x: 'Good' if any([word in x.lower() for word in ['awesome','love','good','great']]) else 'Bad').head()"
   ]
  },
  {
   "cell_type": "markdown",
   "metadata": {},
   "source": [
    "### Returning to a more manageable example...\n",
    "Perhaps we want to naively select the year from the date string rather than convert it to a datetime object."
   ]
  },
  {
   "cell_type": "code",
   "execution_count": 18,
   "metadata": {},
   "outputs": [
    {
     "data": {
      "text/plain": [
       "1     2012\n",
       "2     2014\n",
       "4     2014\n",
       "5     2011\n",
       "10    2016\n",
       "Name: date, dtype: object"
      ]
     },
     "execution_count": 18,
     "metadata": {},
     "output_type": "execute_result"
    }
   ],
   "source": [
    "df['date'].map( lambda x: x[:4]).head()"
   ]
  },
  {
   "cell_type": "code",
   "execution_count": 19,
   "metadata": {},
   "outputs": [
    {
     "data": {
      "text/plain": [
       "1     2012\n",
       "2     2014\n",
       "4     2014\n",
       "5     2011\n",
       "10    2016\n",
       "Name: date, dtype: int64"
      ]
     },
     "execution_count": 19,
     "metadata": {},
     "output_type": "execute_result"
    }
   ],
   "source": [
    "#my code to test pd.to_datetime\n",
    "pd.to_datetime(df['date'],format='%Y-%m-%d').dt.year.head()"
   ]
  },
  {
   "cell_type": "markdown",
   "metadata": {},
   "source": [
    "Lambda functions are also useful within the sort() function"
   ]
  },
  {
   "cell_type": "code",
   "execution_count": 21,
   "metadata": {},
   "outputs": [
    {
     "data": {
      "text/plain": [
       "['Audrey Mayer',\n",
       " 'Bethany Martin',\n",
       " 'Carter Wong',\n",
       " 'Eddie Reeves',\n",
       " 'Elaine Barrera',\n",
       " 'Jaiden Liu',\n",
       " 'Kameron Davidson',\n",
       " 'Marley Beard',\n",
       " 'Miriam Marks',\n",
       " 'Sidney Baird',\n",
       " 'Stephen Rios',\n",
       " 'Teagan Bennett']"
      ]
     },
     "execution_count": 21,
     "metadata": {},
     "output_type": "execute_result"
    }
   ],
   "source": [
    "# Without a key\n",
    "names = ['Miriam Marks','Sidney Baird','Elaine Barrera','Eddie Reeves','Marley Beard',\n",
    "         'Jaiden Liu','Bethany Martin','Stephen Rios','Audrey Mayer','Kameron Davidson',\n",
    "         'Carter Wong','Teagan Bennett']\n",
    "sorted(names)"
   ]
  },
  {
   "cell_type": "code",
   "execution_count": 30,
   "metadata": {},
   "outputs": [
    {
     "data": {
      "text/plain": [
       "['Sidney Baird',\n",
       " 'Elaine Barrera',\n",
       " 'Marley Beard',\n",
       " 'Teagan Bennett',\n",
       " 'Kameron Davidson',\n",
       " 'Jaiden Liu',\n",
       " 'Miriam Marks',\n",
       " 'Bethany Martin',\n",
       " 'Audrey Mayer',\n",
       " 'Eddie Reeves',\n",
       " 'Stephen Rios',\n",
       " 'Carter Wong']"
      ]
     },
     "execution_count": 30,
     "metadata": {},
     "output_type": "execute_result"
    }
   ],
   "source": [
    "# sorting by last name\n",
    "sorted(names,key=lambda x: x.split()[1])"
   ]
  },
  {
   "cell_type": "markdown",
   "metadata": {},
   "source": [
    "### A general approach to writing [Data Transformation] Functions\n",
    "Above, we've covered a lot of the syntax of lambda functions, but the thought process for writing these complex transformations was not transparent. Let's take a minute to discuss some approaches to tackling these problems.\n",
    "### Experiment and solve for individual cases first\n",
    "Before trying to write a function to apply to an entire series, it's typically easier to attempt to solve for an individual case. For example, if we're trying to determine the number of words in a review, we can try and do this for a single review first.\n",
    "\n",
    "First, choose an example field that you'll be applying the function to."
   ]
  },
  {
   "cell_type": "code",
   "execution_count": 33,
   "metadata": {},
   "outputs": [
    {
     "data": {
      "text/plain": [
       "'I love this place! My fiance And I go here atleast once a week. The portions are huge! Food is amazing. I love their carne asada. They have great lunch specials... Leticia is super nice and cares about what you think of her restaurant. You have to try their cheese enchiladas too the sauce is different And amazing!!!'"
      ]
     },
     "execution_count": 33,
     "metadata": {},
     "output_type": "execute_result"
    }
   ],
   "source": [
    "example = df.text.iloc[0] #df['text'].iloc[0]\n",
    "example"
   ]
  },
  {
   "cell_type": "markdown",
   "metadata": {},
   "source": [
    "Then start writing the function for that example. For example, if we need to count the number of words, it's natural to first divide the review into words. A natural way to do this is with the str.split() method."
   ]
  },
  {
   "cell_type": "code",
   "execution_count": 41,
   "metadata": {},
   "outputs": [
    {
     "data": {
      "text/plain": [
       "['I',\n",
       " 'love',\n",
       " 'this',\n",
       " 'place!',\n",
       " 'My',\n",
       " 'fiance',\n",
       " 'And',\n",
       " 'I',\n",
       " 'go',\n",
       " 'here',\n",
       " 'atleast',\n",
       " 'once',\n",
       " 'a',\n",
       " 'week.',\n",
       " 'The',\n",
       " 'portions',\n",
       " 'are',\n",
       " 'huge!',\n",
       " 'Food',\n",
       " 'is',\n",
       " 'amazing.',\n",
       " 'I',\n",
       " 'love',\n",
       " 'their',\n",
       " 'carne',\n",
       " 'asada.',\n",
       " 'They',\n",
       " 'have',\n",
       " 'great',\n",
       " 'lunch',\n",
       " 'specials...',\n",
       " 'Leticia',\n",
       " 'is',\n",
       " 'super',\n",
       " 'nice',\n",
       " 'and',\n",
       " 'cares',\n",
       " 'about',\n",
       " 'what',\n",
       " 'you',\n",
       " 'think',\n",
       " 'of',\n",
       " 'her',\n",
       " 'restaurant.',\n",
       " 'You',\n",
       " 'have',\n",
       " 'to',\n",
       " 'try',\n",
       " 'their',\n",
       " 'cheese',\n",
       " 'enchiladas',\n",
       " 'too',\n",
       " 'the',\n",
       " 'sauce',\n",
       " 'is',\n",
       " 'different',\n",
       " 'And',\n",
       " 'amazing!!!']"
      ]
     },
     "execution_count": 41,
     "metadata": {},
     "output_type": "execute_result"
    }
   ],
   "source": [
    "example.split()"
   ]
  },
  {
   "cell_type": "markdown",
   "metadata": {},
   "source": [
    "Then we just need to count this!"
   ]
  },
  {
   "cell_type": "code",
   "execution_count": 42,
   "metadata": {},
   "outputs": [
    {
     "data": {
      "text/plain": [
       "58"
      ]
     },
     "execution_count": 42,
     "metadata": {},
     "output_type": "execute_result"
    }
   ],
   "source": [
    "len(example.split())"
   ]
  },
  {
   "cell_type": "markdown",
   "metadata": {},
   "source": [
    "### Then return to solving for all!"
   ]
  },
  {
   "cell_type": "code",
   "execution_count": 44,
   "metadata": {},
   "outputs": [
    {
     "data": {
      "text/plain": [
       "1     58\n",
       "2     30\n",
       "4     30\n",
       "5     82\n",
       "10    32\n",
       "Name: text, dtype: int64"
      ]
     },
     "execution_count": 44,
     "metadata": {},
     "output_type": "execute_result"
    }
   ],
   "source": [
    "df['text'].map(lambda x : len(x.split())).head()"
   ]
  },
  {
   "cell_type": "markdown",
   "metadata": {},
   "source": [
    "### Watch for edge cases and exceptions\n",
    "When generalizing from a single case to all cases, it's important to consider exceptions or edge cases. For example, in the above example, you might wonder whether extra spaces or punctuations effects the output"
   ]
  },
  {
   "cell_type": "code",
   "execution_count": 45,
   "metadata": {},
   "outputs": [
    {
     "data": {
      "text/plain": [
       "['this', 'is', 'a', 'weird', 'test!!!Can', 'we', 'break', 'it??']"
      ]
     },
     "execution_count": 45,
     "metadata": {},
     "output_type": "execute_result"
    }
   ],
   "source": [
    "'this is a      weird test!!!Can we break it??'.split()"
   ]
  },
  {
   "cell_type": "markdown",
   "metadata": {},
   "source": [
    "As you can see, extra spaces won't break our function, but missing a space after punctuation will. Perhaps this is a rare enough event that we don't worry further, but exceptions are always something to consider when writing functions.\n",
    "### Other Common Patterns: the % and // operators\n",
    "Another common pattern that you find very useful is the modulus or remainder operator(%) as well\n",
    "as the floor division operator(//).these are both useful when u want behavior such as 'every fourth element' or 'group of three consecutive elements'.Let's investigate a couple of examples.\n",
    "\n",
    "### The modulus operator (%)\n",
    "Useful for queries such as 'every other element' or 'every fifth element' etc."
   ]
  },
  {
   "cell_type": "code",
   "execution_count": 46,
   "metadata": {},
   "outputs": [
    {
     "data": {
      "text/plain": [
       "1"
      ]
     },
     "execution_count": 46,
     "metadata": {},
     "output_type": "execute_result"
    }
   ],
   "source": [
    "#Try single example\n",
    "3%2"
   ]
  },
  {
   "cell_type": "code",
   "execution_count": 47,
   "metadata": {},
   "outputs": [
    {
     "data": {
      "text/plain": [
       "0"
      ]
     },
     "execution_count": 47,
     "metadata": {},
     "output_type": "execute_result"
    }
   ],
   "source": [
    "# and another\n",
    "2%2"
   ]
  },
  {
   "cell_type": "code",
   "execution_count": 48,
   "metadata": {},
   "outputs": [
    {
     "name": "stdout",
     "output_type": "stream",
     "text": [
      "i: 0, i%2: 0\n",
      "i: 1, i%2: 1\n",
      "i: 2, i%2: 0\n",
      "i: 3, i%2: 1\n",
      "i: 4, i%2: 0\n",
      "i: 5, i%2: 1\n",
      "i: 6, i%2: 0\n",
      "i: 7, i%2: 1\n",
      "i: 8, i%2: 0\n",
      "i: 9, i%2: 1\n"
     ]
    }
   ],
   "source": [
    "# Generalize the pattern: every other\n",
    "for i in range(10):\n",
    "    print(f'i: {i}, i%2: {i%2}')"
   ]
  },
  {
   "cell_type": "markdown",
   "metadata": {},
   "source": [
    "### The floor division (//) operator\n",
    "Useful for creating groups of a set size. For example: groups of ten, groups of seven, etc."
   ]
  },
  {
   "cell_type": "code",
   "execution_count": 49,
   "metadata": {},
   "outputs": [
    {
     "data": {
      "text/plain": [
       "3"
      ]
     },
     "execution_count": 49,
     "metadata": {},
     "output_type": "execute_result"
    }
   ],
   "source": [
    "#Try single example\n",
    "9//3"
   ]
  },
  {
   "cell_type": "code",
   "execution_count": 50,
   "metadata": {},
   "outputs": [
    {
     "data": {
      "text/plain": [
       "1"
      ]
     },
     "execution_count": 50,
     "metadata": {},
     "output_type": "execute_result"
    }
   ],
   "source": [
    "#and another\n",
    "5//3"
   ]
  },
  {
   "cell_type": "code",
   "execution_count": 51,
   "metadata": {},
   "outputs": [
    {
     "name": "stdout",
     "output_type": "stream",
     "text": [
      "i:0, i//7:0\n",
      "i:1, i//7:0\n",
      "i:2, i//7:0\n",
      "i:3, i//7:0\n",
      "i:4, i//7:0\n",
      "i:5, i//7:0\n",
      "i:6, i//7:0\n",
      "i:7, i//7:1\n",
      "i:8, i//7:1\n",
      "i:9, i//7:1\n",
      "i:10, i//7:1\n",
      "i:11, i//7:1\n",
      "i:12, i//7:1\n",
      "i:13, i//7:1\n",
      "i:14, i//7:2\n",
      "i:15, i//7:2\n",
      "i:16, i//7:2\n",
      "i:17, i//7:2\n",
      "i:18, i//7:2\n",
      "i:19, i//7:2\n",
      "i:20, i//7:2\n"
     ]
    }
   ],
   "source": [
    "# creating groups of 7\n",
    "for i in range(21):\n",
    "    print(f'i:{i}, i//7:{i//7}')"
   ]
  },
  {
   "cell_type": "markdown",
   "metadata": {},
   "source": [
    "### Combining % and //\n",
    "Combining the two can be very useful, such as when creating subplots! Below we iterate through 12 elements arranging them into 3 rows and 4 columns."
   ]
  },
  {
   "cell_type": "code",
   "execution_count": 52,
   "metadata": {},
   "outputs": [
    {
     "name": "stdout",
     "output_type": "stream",
     "text": [
      "i: 0,Row: 0 Column: 0\n",
      "i: 1,Row: 0 Column: 1\n",
      "i: 2,Row: 0 Column: 2\n",
      "i: 3,Row: 0 Column: 3\n",
      "i: 4,Row: 1 Column: 0\n",
      "i: 5,Row: 1 Column: 1\n",
      "i: 6,Row: 1 Column: 2\n",
      "i: 7,Row: 1 Column: 3\n",
      "i: 8,Row: 2 Column: 0\n",
      "i: 9,Row: 2 Column: 1\n",
      "i: 10,Row: 2 Column: 2\n",
      "i: 11,Row: 2 Column: 3\n"
     ]
    }
   ],
   "source": [
    "for i in range(12):\n",
    "    print(f'i: {i},Row: {i//4} Column: {i%4}')"
   ]
  },
  {
   "cell_type": "code",
   "execution_count": 53,
   "metadata": {},
   "outputs": [],
   "source": [
    "import numpy as np\n",
    "import matplotlib.pyplot as plt\n",
    "%matplotlib inline"
   ]
  },
  {
   "cell_type": "code",
   "execution_count": 69,
   "metadata": {},
   "outputs": [
    {
     "data": {
      "image/png": "[encoded data removed]",
      "text/plain": [
       "<Figure size 720x720 with 12 Axes>"
      ]
     },
     "metadata": {
      "needs_background": "light"
     },
     "output_type": "display_data"
    }
   ],
   "source": [
    "fig, axes = plt.subplots(nrows=3,ncols=4,figsize=(10,10))\n",
    "x = np.linspace(start=-10,stop=10,num=10*83)\n",
    "for i in range(12):\n",
    "    row = i//4\n",
    "    col = i%4\n",
    "    ax= axes[row,col] #ax= axes[row][col]\n",
    "    ax.scatter(x,x**i)\n",
    "    ax.set_title(f'plot of x^{i}')\n",
    "plt.show()\n"
   ]
  },
  {
   "cell_type": "code",
   "execution_count": null,
   "metadata": {},
   "outputs": [],
   "source": []
  },
  {
   "cell_type": "code",
   "execution_count": null,
   "metadata": {},
   "outputs": [],
   "source": []
  }
 ],
 "metadata": {
  "kernelspec": {
   "display_name": "learn-env",
   "language": "python",
   "name": "python3"
  },
  "language_info": {
   "codemirror_mode": {
    "name": "ipython",
    "version": 3
   },
   "file_extension": ".py",
   "mimetype": "text/x-python",
   "name": "python",
   "nbconvert_exporter": "python",
   "pygments_lexer": "ipython3",
   "version": "3.8.5"
  }
 },
 "nbformat": 4,
 "nbformat_minor": 2
}
