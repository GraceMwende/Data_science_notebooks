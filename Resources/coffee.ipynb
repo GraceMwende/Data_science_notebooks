{
 "cells": [
  {
   "cell_type": "markdown",
   "metadata": {},
   "source": [
    "### 1. Load Dataset"
   ]
  },
  {
   "cell_type": "code",
   "execution_count": 1,
   "metadata": {},
   "outputs": [],
   "source": [
    "import json\n",
    "with open ('coffee_product_reviews.json') as f:\n",
    "    reviews = json.load(f)"
   ]
  },
  {
   "cell_type": "markdown",
   "metadata": {},
   "source": [
    "### 2.Analyze the dataset\n"
   ]
  },
  {
   "cell_type": "code",
   "execution_count": 2,
   "metadata": {},
   "outputs": [
    {
     "name": "stdout",
     "output_type": "stream",
     "text": [
      "Information about Cofee Review dataset\n",
      "Type: <class 'list'>\n",
      "Length: 86\n",
      "\n",
      "Information about Cofee Review dataset[0]:\n",
      "Type: <class 'dict'>\n",
      "Length: 7\n",
      "Keys: dict_keys(['rating', 'reviewer_name', 'product_id', 'review_title', 'review_time', 'images', 'styles'])\n",
      "Values: dict_values([5.0, 'Maverick', 'B00004RFRV', 'Delicious results from a wonderfully simple Bialetti Moka Express!', '12 3, 2017', ['https://images-na.ssl-images-amazon.com/images/I/61NG30sWdJL._SY88.jpg'], {'Size:': ' 1-Cup', 'Color:': ' Silver'}])\n"
     ]
    }
   ],
   "source": [
    "print(\"Information about Cofee Review dataset\")\n",
    "print(\"Type:\", type(reviews))\n",
    "print(\"Length:\", len(reviews))\n",
    "print()\n",
    "print(\"Information about Cofee Review dataset[0]:\")\n",
    "print(\"Type:\", type(reviews[0]))\n",
    "print(\"Length:\", len(reviews[0]))\n",
    "print(\"Keys:\", reviews[0].keys())\n",
    "print(\"Values:\", reviews[1].values())"
   ]
  },
  {
   "cell_type": "markdown",
   "metadata": {},
   "source": [
    "### 3. a)Count of Positive, Negative, and Neutral Reviews"
   ]
  },
  {
   "cell_type": "code",
   "execution_count": 3,
   "metadata": {},
   "outputs": [],
   "source": [
    "#create a function to show if review is positive or negative\n",
    "'''\n",
    "write that code as a function review_sentiment, which takes in a ***review dictionary as an argument***, and returns the string \"positive\", \"negative\", or \"neutral\"\n",
    "\n",
    "Positive: rating value of 4 or 5 (out of 5)\n",
    "Neutral: rating value of 3 (out of 5)\n",
    "Negative: rating value of 1 or 2 (out of 5)\n",
    "'''\n",
    "\n",
    "def review_sentiment(review):\n",
    "    selected_review =  review['rating']\n",
    "    #print(rating) #checks whether i get the rating\n",
    "    if selected_review>=4:\n",
    "        return('positive')\n",
    "    elif selected_review>=3:\n",
    "        return('neutral')\n",
    "    else:\n",
    "        return('negative')\n"
   ]
  },
  {
   "cell_type": "code",
   "execution_count": 4,
   "metadata": {},
   "outputs": [
    {
     "data": {
      "text/plain": [
       "'positive'"
      ]
     },
     "execution_count": 4,
     "metadata": {},
     "output_type": "execute_result"
    }
   ],
   "source": [
    "review_sentiment(reviews[2]) # 'positive'"
   ]
  },
  {
   "cell_type": "code",
   "execution_count": 5,
   "metadata": {},
   "outputs": [
    {
     "data": {
      "text/plain": [
       "'negative'"
      ]
     },
     "execution_count": 5,
     "metadata": {},
     "output_type": "execute_result"
    }
   ],
   "source": [
    "review_sentiment(reviews[4]) # 'negative'"
   ]
  },
  {
   "cell_type": "code",
   "execution_count": 6,
   "metadata": {},
   "outputs": [
    {
     "data": {
      "text/plain": [
       "'neutral'"
      ]
     },
     "execution_count": 6,
     "metadata": {},
     "output_type": "execute_result"
    }
   ],
   "source": [
    "review_sentiment(reviews[47]) # 'neutral'"
   ]
  },
  {
   "cell_type": "markdown",
   "metadata": {},
   "source": [
    "#### b)write a function to loop over **all of the reviews in the list**, and count how many are positive, negative, and neutral."
   ]
  },
  {
   "cell_type": "code",
   "execution_count": 7,
   "metadata": {},
   "outputs": [
    {
     "data": {
      "text/plain": [
       "{'positive': 67, 'negative': 15, 'neutral': 4}"
      ]
     },
     "execution_count": 7,
     "metadata": {},
     "output_type": "execute_result"
    }
   ],
   "source": [
    "#initialize an empty dictionary\n",
    "sentiment_count = {\n",
    "    'positive':0,\n",
    "    'negative':0,\n",
    "    'neutral':0\n",
    "}\n",
    "\n",
    "def get_sentiment_counts(review_list):\n",
    "    for review in review_list:\n",
    "        #print(review) # To see the reviews\n",
    "        #call function review_sentiment which highlights if positive,negative or neutral\n",
    "        rating = review_sentiment(review)\n",
    "        #print(rating) #- wants to see if getting correct rating\n",
    "        #Add to dictionary\n",
    "        sentiment_count[rating]+=1\n",
    "    return sentiment_count\n",
    "get_sentiment_counts(reviews)"
   ]
  },
  {
   "cell_type": "markdown",
   "metadata": {},
   "source": [
    "### 4. List of Years Contained in the Dataset"
   ]
  },
  {
   "cell_type": "code",
   "execution_count": 8,
   "metadata": {},
   "outputs": [
    {
     "data": {
      "text/plain": [
       "2018"
      ]
     },
     "execution_count": 8,
     "metadata": {},
     "output_type": "execute_result"
    }
   ],
   "source": [
    "'''\n",
    "write that code as a function review_year, which takes in a ***review*** dictionary as an argument, and returns the year as an integer\n",
    "'''\n",
    "def review_year(review):\n",
    "    year =  review['review_time']\n",
    "    #print(year) #print to see whther the i get the correct output\n",
    "    year = int(year[-4:]) #slice to get the years which is the last 4 words\n",
    "    return year\n",
    "\n",
    "review_year(reviews[0])"
   ]
  },
  {
   "cell_type": "code",
   "execution_count": 9,
   "metadata": {},
   "outputs": [
    {
     "data": {
      "text/plain": [
       "2017"
      ]
     },
     "execution_count": 9,
     "metadata": {},
     "output_type": "execute_result"
    }
   ],
   "source": [
    "#tes code\n",
    "review_year(reviews[2]) # 2017"
   ]
  },
  {
   "cell_type": "code",
   "execution_count": 10,
   "metadata": {},
   "outputs": [
    {
     "data": {
      "text/plain": [
       "2017"
      ]
     },
     "execution_count": 10,
     "metadata": {},
     "output_type": "execute_result"
    }
   ],
   "source": [
    "review_year(reviews[4]) # 2017"
   ]
  },
  {
   "cell_type": "code",
   "execution_count": 11,
   "metadata": {},
   "outputs": [
    {
     "data": {
      "text/plain": [
       "2015"
      ]
     },
     "execution_count": 11,
     "metadata": {},
     "output_type": "execute_result"
    }
   ],
   "source": [
    "review_year(reviews[47]) # 2015"
   ]
  },
  {
   "cell_type": "markdown",
   "metadata": {},
   "source": [
    "### 5.write a function called get_years to loop over **all of the reviews in the review list** and create a list of the years you find. \n",
    "#### Each year should only appear once, in ascending order. The function should accept one argument (review_list) and should return a list of integers representing the years"
   ]
  },
  {
   "cell_type": "code",
   "execution_count": 12,
   "metadata": {},
   "outputs": [
    {
     "name": "stdout",
     "output_type": "stream",
     "text": [
      "[2007, 2008, 2009, 2011, 2012, 2013, 2014, 2015, 2016, 2017, 2018]\n",
      "<class 'list'>\n"
     ]
    }
   ],
   "source": [
    "def get_years(review_list):\n",
    "    review_years=[] #initialize empty list to add years\n",
    "    for review in review_list:\n",
    "        years = review_year(review) #passed in the function review_year from above that gets the years\n",
    "        #Add year to the list\n",
    "        review_years.append(years)\n",
    "        #Get unique years by using set function and converting back to a list\n",
    "    review_years = list(set(review_years))\n",
    "    review_years.sort()\n",
    "    return review_years\n",
    "print(get_years(reviews)) # [2007, 2008, 2009, 2011, 2012, 2013, 2014, 2015, 2016, 2017, 2018]\n",
    "print(type(get_years(reviews))) # <class 'list'>"
   ]
  },
  {
   "cell_type": "code",
   "execution_count": 13,
   "metadata": {},
   "outputs": [
    {
     "name": "stdout",
     "output_type": "stream",
     "text": [
      "[2007, 2008, 2009, 2011, 2012, 2013, 2014, 2015, 2016, 2017, 2018]\n",
      "<class 'list'>\n"
     ]
    }
   ],
   "source": [
    "# formula 2\n",
    "def get_years(review_list):\n",
    "    review_years=[] #initialize empty list to add years\n",
    "    for review in review_list:\n",
    "        years = review_year(review) #passed in the function review_year from above that gets the years\n",
    "        #Add year not already in the list to the list \n",
    "        if years not in review_years:\n",
    "            review_years.append(years)\n",
    "    review_years.sort()\n",
    "    return review_years\n",
    "print(get_years(reviews)) # [2007, 2008, 2009, 2011, 2012, 2013, 2014, 2015, 2016, 2017, 2018]\n",
    "print(type(get_years(reviews))) # <class 'list'>\n",
    "#Now we know that we have data spanning 2007-2018, with no data from 2010"
   ]
  },
  {
   "cell_type": "markdown",
   "metadata": {},
   "source": [
    "### 6.Subset Sampling \n",
    "#### Once you have an overall sense of a dataset, it's a good idea to ask what are some examples of records in each category? For example, what are some examples of a negative review?\n",
    "\n",
    "##### a)create a function `is_negative` that takes in a **review dictionary** as an argument and returns `True` if the review is negative, `False` otherwise:"
   ]
  },
  {
   "cell_type": "code",
   "execution_count": 14,
   "metadata": {},
   "outputs": [
    {
     "name": "stdout",
     "output_type": "stream",
     "text": [
      "False\n",
      "True\n",
      "False\n"
     ]
    }
   ],
   "source": [
    "def is_negative(review):\n",
    "    review_rating = review_sentiment(review) #use function review_sentiment create above to get negative,positive and neutral reviews\n",
    "    #print(review_rating) #- check a review\n",
    "    return review_rating =='negative'\n",
    "\n",
    "print(is_negative(reviews[2]))  # False (postive review)\n",
    "print(is_negative(reviews[4]))  # True\n",
    "print(is_negative(reviews[47])) # False (neutral review)"
   ]
  },
  {
   "cell_type": "markdown",
   "metadata": {},
   "source": [
    "##### b)Write a function called get_negative_reviews that returns a list of these reviews. It should take the **list of all reviews as an argument**"
   ]
  },
  {
   "cell_type": "code",
   "execution_count": 15,
   "metadata": {},
   "outputs": [
    {
     "name": "stdout",
     "output_type": "stream",
     "text": [
      "15\n"
     ]
    },
    {
     "data": {
      "text/plain": [
       "[{'rating': 1.0,\n",
       "  'reviewer_name': 'EJ',\n",
       "  'product_id': 'B00004RFRV',\n",
       "  'review_title': 'Rusted spots everywhere fresh out the box...nasty',\n",
       "  'review_time': '06 4, 2017',\n",
       "  'images': ['https://images-na.ssl-images-amazon.com/images/I/71Dbr6X0bYL._SY88.jpg'],\n",
       "  'styles': {'Size:': ' 9-Cup', 'Color:': ' Silver'}},\n",
       " {'rating': 1.0,\n",
       "  'reviewer_name': 'mathman54',\n",
       "  'product_id': 'B00004RFRV',\n",
       "  'review_title': \"The bottom looks like it has rusted and I don't know how to ...\",\n",
       "  'review_time': '02 15, 2016',\n",
       "  'images': ['https://images-na.ssl-images-amazon.com/images/I/71qt4Hnra8L._SY88.jpg',\n",
       "   'https://images-na.ssl-images-amazon.com/images/I/71Wkg8MesdL._SY88.jpg'],\n",
       "  'styles': {'Size:': ' 12-Cup', 'Color:': ' Silver'}},\n",
       " {'rating': 1.0,\n",
       "  'reviewer_name': 'Maria Fernandez',\n",
       "  'product_id': 'B00004RFRV',\n",
       "  'review_title': 'Is it a Bialetti? Came dirty with coffee grounds.',\n",
       "  'review_time': '03 22, 2015',\n",
       "  'images': ['https://images-na.ssl-images-amazon.com/images/I/71aPg3ZuCzL._SY88.jpg',\n",
       "   'https://images-na.ssl-images-amazon.com/images/I/71-2keZacOL._SY88.jpg',\n",
       "   'https://images-na.ssl-images-amazon.com/images/I/71Z4C4G-0dL._SY88.jpg'],\n",
       "  'styles': {'Size:': ' 6-Cup', 'Color:': ' Silver'}},\n",
       " {'rating': 1.0,\n",
       "  'reviewer_name': 'Toni Bautista',\n",
       "  'product_id': 'B00005IBX9',\n",
       "  'review_title': 'Great but NOT PERFECT -missing Side water panel',\n",
       "  'review_time': '02 24, 2017',\n",
       "  'images': ['https://images-na.ssl-images-amazon.com/images/I/71X5NEjZG5L._SY88.jpg'],\n",
       "  'styles': {'Color:': ' Brushed Chrome'}},\n",
       " {'rating': 1.0,\n",
       "  'reviewer_name': 'SAinVA',\n",
       "  'product_id': 'B00005LM0T',\n",
       "  'review_title': 'Too much waste',\n",
       "  'review_time': '09 7, 2017',\n",
       "  'images': ['https://images-na.ssl-images-amazon.com/images/I/71shZggLRHL._SY88.jpg'],\n",
       "  'styles': {'Size:': ' 34 oz.', 'Package Type:': ' Standard Packaging'}},\n",
       " {'rating': 1.0,\n",
       "  'reviewer_name': 'Silicon Valley',\n",
       "  'product_id': 'B00005LM0T',\n",
       "  'review_title': 'FRAME RUSTS WITHIN A FEW WEEKS',\n",
       "  'review_time': '03 10, 2016',\n",
       "  'images': ['https://images-na.ssl-images-amazon.com/images/I/71FREAeBLIL._SY88.jpg',\n",
       "   'https://images-na.ssl-images-amazon.com/images/I/71qkhDjseuL._SY88.jpg',\n",
       "   'https://images-na.ssl-images-amazon.com/images/I/7143mVMMoCL._SY88.jpg'],\n",
       "  'styles': {'Size:': ' 34 oz.', 'Package Type:': ' Standard Packaging'}},\n",
       " {'rating': 1.0,\n",
       "  'reviewer_name': 'Andrew Furlong',\n",
       "  'product_id': 'B00005MF9C',\n",
       "  'review_title': 'but instead ran along the underside of the part of the maker that holds the grounds and finally dropping at an angle at which a',\n",
       "  'review_time': '02 22, 2017',\n",
       "  'images': ['https://images-na.ssl-images-amazon.com/images/I/71kh1XatynL._SY88.jpg'],\n",
       "  'styles': {'Color:': ' Black/Stainless Steel'}},\n",
       " {'rating': 2.0,\n",
       "  'reviewer_name': 'fred o.',\n",
       "  'product_id': 'B00005MF9C',\n",
       "  'review_title': 'Good purchase',\n",
       "  'review_time': '09 4, 2016',\n",
       "  'images': ['https://images-na.ssl-images-amazon.com/images/I/71tRehtvN+L._SY88.jpg',\n",
       "   'https://images-na.ssl-images-amazon.com/images/I/719K20U+MaL._SY88.jpg',\n",
       "   'https://images-na.ssl-images-amazon.com/images/I/71jd6yc1GdL._SY88.jpg'],\n",
       "  'styles': {'Color:': ' Black/White'}},\n",
       " {'rating': 1.0,\n",
       "  'reviewer_name': 'fifrox',\n",
       "  'product_id': 'B00005MF9C',\n",
       "  'review_title': 'Works great for a week then fails!',\n",
       "  'review_time': '03 10, 2016',\n",
       "  'images': ['https://images-na.ssl-images-amazon.com/images/I/81QVkUT4hdL._SY88.jpg'],\n",
       "  'styles': {'Color:': ' Black/Stainless Steel'}},\n",
       " {'rating': 1.0,\n",
       "  'reviewer_name': 'cas',\n",
       "  'product_id': 'B00005NCWQ',\n",
       "  'review_title': 'Garbage!!!',\n",
       "  'review_time': '03 26, 2018',\n",
       "  'images': ['https://images-na.ssl-images-amazon.com/images/I/71Bxydi3DQL._SY88.jpg'],\n",
       "  'styles': {'Size:': ' 8-Cup'}},\n",
       " {'rating': 1.0,\n",
       "  'reviewer_name': 'GoClick',\n",
       "  'product_id': 'B00005OTXM',\n",
       "  'review_title': 'Returned - produced revolting burnt plastic flavored coffee, and seemed flawed.',\n",
       "  'review_time': '04 16, 2015',\n",
       "  'images': ['https://images-na.ssl-images-amazon.com/images/I/71o+7Zru+iL._SY88.jpg',\n",
       "   'https://images-na.ssl-images-amazon.com/images/I/81sbfP4tc8L._SY88.jpg',\n",
       "   'https://images-na.ssl-images-amazon.com/images/I/71vhOebyGaL._SY88.jpg'],\n",
       "  'styles': {'Style Name:': ' COFFEE MAKER ONLY'}},\n",
       " {'rating': 2.0,\n",
       "  'reviewer_name': 'Picks n Pans',\n",
       "  'product_id': 'B00006F2LW',\n",
       "  'review_title': 'Cracked lid out of the box',\n",
       "  'review_time': '02 27, 2008',\n",
       "  'images': ['https://images-na.ssl-images-amazon.com/images/I/317fvUiuNDL._SY88.jpg'],\n",
       "  'styles': {'Color:': ' Black'}},\n",
       " {'rating': 2.0,\n",
       "  'reviewer_name': 'LMM',\n",
       "  'product_id': 'B00008ELEA',\n",
       "  'review_title': 'smelled like the cord was burning',\n",
       "  'review_time': '06 6, 2016',\n",
       "  'images': ['https://images-na.ssl-images-amazon.com/images/I/51xXENQhIGL._SY88.jpg'],\n",
       "  'styles': {'Size:': ' 4-Cup'}},\n",
       " {'rating': 1.0,\n",
       "  'reviewer_name': 'Marcia S.',\n",
       "  'product_id': 'B0000A1ZMS',\n",
       "  'review_title': 'Look what happened to this once great Cuisinart coffeemaker.',\n",
       "  'review_time': '11 12, 2016',\n",
       "  'images': ['https://images-na.ssl-images-amazon.com/images/I/51B8eue4nHL._SY88.jpg',\n",
       "   'https://images-na.ssl-images-amazon.com/images/I/519NziREFIL._SY88.jpg',\n",
       "   'https://images-na.ssl-images-amazon.com/images/I/51v+A1zWqTL._SY88.jpg'],\n",
       "  'styles': {'Color:': ' Black', 'Style Name:': ' Coffeemaker'}},\n",
       " {'rating': 2.0,\n",
       "  'reviewer_name': 'Jimmie',\n",
       "  'product_id': 'B0000A1ZMS',\n",
       "  'review_title': 'Leaks and more',\n",
       "  'review_time': '01 13, 2011',\n",
       "  'images': ['https://images-na.ssl-images-amazon.com/images/I/51U4K+PzETL._SY88.jpg'],\n",
       "  'styles': {'Color:': ' Black', 'Style Name:': ' Coffeemaker'}}]"
      ]
     },
     "execution_count": 15,
     "metadata": {},
     "output_type": "execute_result"
    }
   ],
   "source": [
    "def get_negative_reviews(review_list):\n",
    "        return list(filter(is_negative,review_list))\n",
    "print(len(get_negative_reviews(reviews)))\n",
    "get_negative_reviews(reviews)"
   ]
  },
  {
   "cell_type": "markdown",
   "metadata": {},
   "source": [
    "##### c)Sampling\n",
    "##### We'll use the random.sample() function, which takes in a collection and a number, and returns that number of elements from the collection.\n",
    "##### Write a function get_negative_review_sample. This function should take a **list of reviews and the number of samples** to select, and should return a sample of negative reviews"
   ]
  },
  {
   "cell_type": "code",
   "execution_count": 16,
   "metadata": {},
   "outputs": [
    {
     "data": {
      "text/plain": [
       "[{'rating': 1.0,\n",
       "  'reviewer_name': 'EJ',\n",
       "  'product_id': 'B00004RFRV',\n",
       "  'review_title': 'Rusted spots everywhere fresh out the box...nasty',\n",
       "  'review_time': '06 4, 2017',\n",
       "  'images': ['https://images-na.ssl-images-amazon.com/images/I/71Dbr6X0bYL._SY88.jpg'],\n",
       "  'styles': {'Size:': ' 9-Cup', 'Color:': ' Silver'}},\n",
       " {'rating': 2.0,\n",
       "  'reviewer_name': 'LMM',\n",
       "  'product_id': 'B00008ELEA',\n",
       "  'review_title': 'smelled like the cord was burning',\n",
       "  'review_time': '06 6, 2016',\n",
       "  'images': ['https://images-na.ssl-images-amazon.com/images/I/51xXENQhIGL._SY88.jpg'],\n",
       "  'styles': {'Size:': ' 4-Cup'}}]"
      ]
     },
     "execution_count": 16,
     "metadata": {},
     "output_type": "execute_result"
    }
   ],
   "source": [
    "import random\n",
    "def get_negative_review_sample(review_list,num_samples):\n",
    "    return random.sample(get_negative_reviews(review_list),num_samples)\n",
    "\n",
    "get_negative_review_sample(reviews,2)"
   ]
  },
  {
   "cell_type": "markdown",
   "metadata": {},
   "source": [
    "#### 7.Repeat the same process for positive reviews. That means we need:\n",
    "##### A helper function is_positive (this can't just be not is_negative since neutral reviews are neither)\n",
    "##### A function get_positive_reviews which returns a list of all positive reviews\n",
    "##### A function get_positive_review_sample which returns a sample of positive reviews with the specified length"
   ]
  },
  {
   "cell_type": "code",
   "execution_count": 17,
   "metadata": {},
   "outputs": [
    {
     "data": {
      "text/plain": [
       "[{'rating': 5.0,\n",
       "  'reviewer_name': 'dvrmasik',\n",
       "  'product_id': 'B00005NCWQ',\n",
       "  'review_title': 'rich and aromatic coffee',\n",
       "  'review_time': '05 5, 2016',\n",
       "  'images': ['https://images-na.ssl-images-amazon.com/images/I/81fgcTsXRwL._SY88.jpg',\n",
       "   'https://images-na.ssl-images-amazon.com/images/I/81bsfG7k7kL._SY88.jpg'],\n",
       "  'styles': {'Size:': ' 8-Cup'}},\n",
       " {'rating': 5.0,\n",
       "  'reviewer_name': 'Jonathan Sabin',\n",
       "  'product_id': 'B00004RFRV',\n",
       "  'review_title': 'Smooo---ooo----oooo--th!!',\n",
       "  'review_time': '10 2, 2007',\n",
       "  'images': ['https://images-na.ssl-images-amazon.com/images/I/51XtijrZHBL._SY88.jpg'],\n",
       "  'styles': {'Size:': ' 6-Cup', 'Color:': ' Silver'}},\n",
       " {'rating': 4.0,\n",
       "  'reviewer_name': 'Homer',\n",
       "  'product_id': 'B0000CFFS6',\n",
       "  'review_title': 'Works great once you figure out how to take it off',\n",
       "  'review_time': '01 2, 2016',\n",
       "  'images': ['https://images-na.ssl-images-amazon.com/images/I/71l3LH-AH4L._SY88.jpg'],\n",
       "  'styles': {'Style Name:': ' Regular Mouth'}},\n",
       " {'rating': 5.0,\n",
       "  'reviewer_name': 'chuckreviews',\n",
       "  'product_id': 'B00004S1CV',\n",
       "  'review_title': 'Works for coffee to !',\n",
       "  'review_time': '10 6, 2013',\n",
       "  'images': ['https://images-na.ssl-images-amazon.com/images/I/41pm7nxY7WL._SY88.jpg'],\n",
       "  'styles': {'Size:': ' A', 'Package Quantity:': ' 1'}}]"
      ]
     },
     "execution_count": 17,
     "metadata": {},
     "output_type": "execute_result"
    }
   ],
   "source": [
    "import random\n",
    "def is_positive(review):\n",
    "    review_rating = review_sentiment(review)\n",
    "    return review_rating=='positive'\n",
    "\n",
    "\n",
    "#is_positive(reviews[0]) #test if it return positive\n",
    "\n",
    "def get_positive_review(review_list):\n",
    "    return list(filter(is_positive,review_list))\n",
    "#print(len(get_negative_reviews(reviews)))\n",
    "#get_positive_review(reviews) # test if this functions works\n",
    "\n",
    "def get_positive_review_sample(review_list,num_sample):\n",
    "    return random.sample(get_positive_review(review_list),num_sample)\n",
    "\n",
    "get_positive_review_sample(get_positive_review(reviews),4)"
   ]
  },
  {
   "cell_type": "markdown",
   "metadata": {},
   "source": [
    "### 8. Individual Review Summary\n",
    "####  Write a function called get_review_summary, which takes a **review dictionary** as an argument, and returns a string that resembles\n",
    "##### \"Bialetti is the Best!\": This was a positive review written by Karen in 2017.\n",
    " from reviews[2]\n",
    "\n",
    "###### {'rating': 5.0,\n",
    "###### 'reviewer_name': 'Karen',\n",
    "###### 'product_id': 'B00004RFRV',\n",
    "###### 'review_title': 'Bialetti is the Best!',\n",
    "###### 'review_time': '11 12, 2017',\n",
    "###### 'images': ['https://images-na.ssl-images-amazon.com/images/I/81+XxFRGyBL._SY88.jpg'],\n",
    "###### 'styles': {'Size:': ' 12-Cup', 'Color:': ' Silver'}}"
   ]
  },
  {
   "cell_type": "code",
   "execution_count": 18,
   "metadata": {},
   "outputs": [
    {
     "data": {
      "text/plain": [
       "{'rating': 5.0,\n",
       " 'reviewer_name': 'Karen',\n",
       " 'product_id': 'B00004RFRV',\n",
       " 'review_title': 'Bialetti is the Best!',\n",
       " 'review_time': '11 12, 2017',\n",
       " 'images': ['https://images-na.ssl-images-amazon.com/images/I/81+XxFRGyBL._SY88.jpg'],\n",
       " 'styles': {'Size:': ' 12-Cup', 'Color:': ' Silver'}}"
      ]
     },
     "execution_count": 18,
     "metadata": {},
     "output_type": "execute_result"
    }
   ],
   "source": [
    "reviews[2]"
   ]
  },
  {
   "cell_type": "code",
   "execution_count": 19,
   "metadata": {},
   "outputs": [],
   "source": [
    "def get_review_summary(review):\n",
    "    selected_title = review['review_title']\n",
    "    #print(selected_title) #test title\n",
    "    rating = review_sentiment(review) #use review_sentiment function above that prints positive,negative or neutral\n",
    "    #print(rating) #test review\n",
    "    selected_author = review['reviewer_name']\n",
    "    #print(selected_author)\n",
    "    selected_year = review_year(review) #use review_year function above to get year\n",
    "    #print(selected_year)\n",
    "    #combine all\n",
    "    summary = print(f'\"{selected_title}\": This was a {rating} review written by {selected_author} in {selected_year}.')\n",
    "    return summary"
   ]
  },
  {
   "cell_type": "code",
   "execution_count": 20,
   "metadata": {},
   "outputs": [
    {
     "name": "stdout",
     "output_type": "stream",
     "text": [
      "\"Bialetti is the Best!\": This was a positive review written by Karen in 2017.\n"
     ]
    }
   ],
   "source": [
    "get_review_summary(reviews[2])"
   ]
  },
  {
   "cell_type": "markdown",
   "metadata": {},
   "source": [
    "    ### BONUS:  `'ADDING IMAGES'`"
   ]
  },
  {
   "cell_type": "code",
   "execution_count": 21,
   "metadata": {},
   "outputs": [
    {
     "data": {
      "image/png": "[encoded data removed]",
      "text/plain": [
       "<IPython.core.display.Image object>"
      ]
     },
     "execution_count": 21,
     "metadata": {},
     "output_type": "execute_result"
    }
   ],
   "source": [
    "#Example\n",
    "from IPython.display import Image\n",
    "Image('https://www.google.com/images/branding/googlelogo/2x/googlelogo_color_272x92dp.png')"
   ]
  },
  {
   "cell_type": "code",
   "execution_count": 25,
   "metadata": {},
   "outputs": [
    {
     "data": {
      "image/jpeg": "[encoded data removed]",
      "text/plain": [
       "<IPython.core.display.Image object>"
      ]
     },
     "execution_count": 25,
     "metadata": {},
     "output_type": "execute_result"
    }
   ],
   "source": [
    "#using our cofeee dataset\n",
    "Image(reviews[0]['images'][0])"
   ]
  },
  {
   "cell_type": "code",
   "execution_count": null,
   "metadata": {},
   "outputs": [],
   "source": []
  }
 ],
 "metadata": {
  "kernelspec": {
   "display_name": "base",
   "language": "python",
   "name": "python3"
  },
  "language_info": {
   "codemirror_mode": {
    "name": "ipython",
    "version": 3
   },
   "file_extension": ".py",
   "mimetype": "text/x-python",
   "name": "python",
   "nbconvert_exporter": "python",
   "pygments_lexer": "ipython3",
   "version": "3.8.5"
  }
 },
 "nbformat": 4,
 "nbformat_minor": 2
}
