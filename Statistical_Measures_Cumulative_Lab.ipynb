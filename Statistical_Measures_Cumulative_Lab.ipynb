{
  "cells": [
    {
      "cell_type": "markdown",
      "metadata": {
        "id": "view-in-github",
        "colab_type": "text"
      },
      "source": [
        "<a href=\"https://colab.research.google.com/github/GraceMwende/Data_science_notebooks/blob/main/Statistical_Measures_Cumulative_Lab.ipynb\" target=\"_parent\"><img src=\"https://colab.research.google.com/assets/colab-badge.svg\" alt=\"Open In Colab\"/></a>"
      ]
    },
    {
      "cell_type": "markdown",
      "metadata": {
        "id": "7v7hTZnNkF9b"
      },
      "source": [
        "# Statistical Measures - Cumulative Lab\n",
        "\n",
        "## Introduction\n",
        "\n",
        "Another section down! Let's pull together the statistical measures learned so far to analyze a dataset and produce some business recommendations.\n",
        "\n",
        "## Objectives\n",
        "\n",
        "You will be able to:\n",
        "\n",
        "* Recall the concepts and applications of measures of central tendency and dispersion\n",
        "* Practice applying and interpreting measures of central tendency and dispersion\n",
        "* Recall the concepts and applications of covariance and correlation\n",
        "* Practice applying and interpreting covariance and correlation\n",
        "\n",
        "## Your Task: Sales Data Analysis and Advertising Recommendations\n",
        "\n",
        "![business meeting](https://curriculum-content.s3.amazonaws.com/data-science/images/business_meeting.jpg)\n",
        "\n",
        "<span>Photo by <a href=\"https://unsplash.com/@sctgrhm?utm_source=unsplash&amp;utm_medium=referral&amp;utm_content=creditCopyText\">Scott Graham</a> on <a href=\"https://unsplash.com/s/photos/graph?utm_source=unsplash&amp;utm_medium=referral&amp;utm_content=creditCopyText\">Unsplash</a></span>\n",
        "\n",
        "### Business Understanding\n",
        "\n",
        "Imagine you work for a company that sells widgets<sup>1</sup> and your boss has asked you to look into the sales data across your media markets for this year. She wants to know:\n",
        "\n",
        "1. What sales volume do we have in a typical market?\n",
        "2. How variable are sales across markets?\n",
        "3. If we have 25k more dollars to spend in advertising per market, should we spend it on TV, radio, or newspaper ads?\n",
        "\n",
        "<sup>1</sup>*Here we are using the [second definition](https://www.merriam-webster.com/dictionary/widget) of widget: \"an unnamed article considered for purposes of hypothetical example\"*\n",
        "\n",
        "### Data Understanding\n",
        "\n",
        "For this lab we will be using a popular dataset known as the \"Advertising Dataset\". It comes from [_An Introduction to Statistical Learning with Applications in R_](https://statlearning.com) by G. James, D. Witten,  T. Hastie and R. Tibshirani. We have downloaded this dataset for you and stored it in this repository.\n",
        "\n",
        "This dataset contains four lists. Each number in each list represents the value for that list in a given market. The four lists are:\n",
        "\n",
        "1. `sales`: the number of widgets sold (in thousands)\n",
        "2. `tv`: the amount of money (in thousands of dollars) spent on TV ads\n",
        "3. `radio`: the amount of money (in thousands of dollars) spent on radio ads\n",
        "4. `newspaper`: the amount of money (in thousands of dollars) spent on newspaper ads\n",
        "\n",
        "So, for example:\n",
        "- the **third number** from each list represents the value of `sales`, `tv`, `radio`, and `newspaper` in **one** market,\n",
        "- the **fourth number** from each list represents the value of `sales`, `tv`, `radio`, and `newspaper` in **another** market,\n",
        "\n",
        "and so on.\n",
        "\n",
        "\n",
        "### Requirements\n",
        "\n",
        "#### 1. Sales Data Summary\n",
        "\n",
        "Write code that describes the number of markets a given list has records for, as well as the sales numbers for the markets with the minimum and maximum sales.\n",
        "\n",
        "#### 2. Typical Sales Volume\n",
        "\n",
        "Use a measure of central tendency to describe a \"typical\" market's sales.\n",
        "\n",
        "#### 3. Dispersion of Sales Volume\n",
        "\n",
        "Use a measure of dispersion to describe how variable sales are across markets.\n",
        "\n",
        "#### 4. Correlations between Advertising Expenditure and Sales\n",
        "\n",
        "Calculate the correlation between TV, radio, and newspaper ad spending and widget sales.\n",
        "\n",
        "#### 5. Where to Spend Additional Dollars\n",
        "\n",
        "Use the findings from step 4 to make a recommendation.\n",
        "\n",
        "## Sales Data Summary\n",
        "\n",
        "In the cell below, we've opened up the dataset and loaded it into lists named `sales`, `tv`, `radio`, and `newspaper`."
      ]
    },
    {
      "cell_type": "code",
      "execution_count": 1,
      "metadata": {
        "id": "77H5m19MkF9d",
        "colab": {
          "base_uri": "https://localhost:8080/"
        },
        "outputId": "4743eec4-f998-45b8-9cc5-cbd6ba60cceb"
      },
      "outputs": [
        {
          "output_type": "execute_result",
          "data": {
            "text/plain": [
              "[22.1, 10.4, 9.3, 18.5, 12.9, 7.2, 11.8, 13.2, 4.8, 10.6]"
            ]
          },
          "metadata": {},
          "execution_count": 1
        }
      ],
      "source": [
        "# Run this cell without changes\n",
        "import pandas as pd\n",
        "\n",
        "data = pd.read_csv(\"advertising.csv\", index_col=0)\n",
        "\n",
        "sales = list(data[\"sales\"])\n",
        "tv = list(data[\"TV\"])\n",
        "radio = list(data[\"radio\"])\n",
        "newspaper = list(data[\"newspaper\"])\n",
        "\n",
        "# display the first 10 sales amounts\n",
        "sales[:10]\n",
        "#tv[:10]"
      ]
    },
    {
      "cell_type": "markdown",
      "metadata": {
        "id": "4Aovh1WHkF9e"
      },
      "source": [
        "Replace `None` with appropriate code so that this cell prints out the correct information. For this part, you only need to use the `sales` variable.\n",
        "\n",
        "**Reminder**: Replace `None` with code that **calculates** the answer.  Don't calculate the answer by hand and then replace `None` with the number of your answer!"
      ]
    },
    {
      "cell_type": "code",
      "execution_count": 2,
      "metadata": {
        "id": "Gd5_6fCpkF9e",
        "colab": {
          "base_uri": "https://localhost:8080/"
        },
        "outputId": "a7fea46c-33a8-45af-cfdf-44f73d745d90"
      },
      "outputs": [
        {
          "output_type": "stream",
          "name": "stdout",
          "text": [
            "\n",
            "This dataset contains records for 200 markets\n",
            "\n",
            "The fewest sales for any market was 1.6 thousand widgets\n",
            "\n",
            "The most sales for any market was 27.0 thousand widgets\n",
            "\n"
          ]
        }
      ],
      "source": [
        "# Replace None with appropriate code\n",
        "num_markets = len(sales)\n",
        "min_sales = min(sales)\n",
        "max_sales = max(sales)\n",
        "\n",
        "print(f\"\"\"\n",
        "This dataset contains records for {num_markets} markets\n",
        "\n",
        "The fewest sales for any market was {min_sales} thousand widgets\n",
        "\n",
        "The most sales for any market was {max_sales} thousand widgets\n",
        "\"\"\")"
      ]
    },
    {
      "cell_type": "markdown",
      "metadata": {
        "id": "IfOP9G7pkF9e"
      },
      "source": [
        "Run this code to create a histogram of all sales data:"
      ]
    },
    {
      "cell_type": "code",
      "execution_count": 3,
      "metadata": {
        "id": "EHi2e9qxkF9f",
        "colab": {
          "base_uri": "https://localhost:8080/",
          "height": 483
        },
        "outputId": "6ebeb828-ac91-4f69-a3a5-9d4e0085200b"
      },
      "outputs": [
        {
          "output_type": "display_data",
          "data": {
            "text/plain": [
              "<Figure size 1000x500 with 1 Axes>"
            ],
            "image/png": "[encoded data removed]"
          },
          "metadata": {}
        }
      ],
      "source": [
        "# Run this cell without changes\n",
        "import matplotlib.pyplot as plt\n",
        "%matplotlib inline\n",
        "\n",
        "fig, ax = plt.subplots(figsize=(10, 5))\n",
        "\n",
        "ax.hist(sales, bins=15,edgecolor='black')\n",
        "\n",
        "ax.set_xlabel(\"Sales (thousands of widgets)\")\n",
        "ax.set_ylabel(\"Count\")\n",
        "\n",
        "ax.set_title(\"Distribution of Sales across Markets\");"
      ]
    },
    {
      "cell_type": "markdown",
      "metadata": {
        "id": "Ffa6DEQQkF9f"
      },
      "source": [
        "## Typical Sales Volume\n",
        "\n",
        "Now we should be able to address the first business question: _What sales volume do we have in a typical market?_\n",
        "\n",
        "That sounds like a question to be answered by a **measure of central tendency**.\n",
        "\n",
        "Reminder: the three measures of central tendency we've introduced are:\n",
        "\n",
        " - Mean\n",
        " - Median\n",
        " - Mode\n",
        "\n",
        "Choose the measure that seems most reasonable to you (it's a judgment call — there isn't always a single correct answer!) and complete the cell below, using NumPy or SciPy to compute the measure."
      ]
    },
    {
      "cell_type": "code",
      "execution_count": 28,
      "metadata": {
        "id": "SU0jXf9wkF9o",
        "colab": {
          "base_uri": "https://localhost:8080/"
        },
        "outputId": "932e13f0-26dc-402c-fd9a-7b90fd4acda5"
      },
      "outputs": [
        {
          "output_type": "stream",
          "name": "stdout",
          "text": [
            "\n",
            "Typical sales volume is 12.9 thousand widgets\n",
            "\n",
            "I chose median as the relevant measure because it is usefull when data is skewed (which this data is from the plot above)+ve left\n",
            "\n",
            "\n",
            "\n",
            "Typical sales volume is 14.0225 thousand widgets\n",
            "\n",
            "I chose mean as the relevant measure because it is normally what people think of when they think of average/typical example\n",
            "\n",
            "\n"
          ]
        }
      ],
      "source": [
        "# Replace None or <None> with appropriate code\n",
        "\n",
        "import numpy as np\n",
        "from scipy import stats as st\n",
        "\n",
        "# Assign measure_central_tendency to the mean, median, or mode of the sales data\n",
        "mean_sales = np.mean(sales)\n",
        "#print(mean_sales)\n",
        "median_sales = np.median(sales)\n",
        "#print(median_sales)\n",
        "mode_sales = st.mode(sales)\n",
        "#print(mode_sales)\n",
        "measure_central_tendency = np.median(sales)\n",
        "#my answer was median since its the center and is not affected by the skewed +ve distribution above\n",
        "print(f\"\"\"\n",
        "Typical sales volume is {measure_central_tendency} thousand widgets\n",
        "\n",
        "I chose median as the relevant measure because it is usefull when data is skewed (which this data is from the plot above)+ve left\n",
        "\n",
        "\"\"\")\n",
        "\n",
        "measure_central_tendency = np.mean(sales)\n",
        "\n",
        "print(f\"\"\"\n",
        "Typical sales volume is {measure_central_tendency} thousand widgets\n",
        "\n",
        "I chose mean as the relevant measure because it is normally what people think of when they think of average/typical example\n",
        "\n",
        "\"\"\")\n",
        "\n",
        "#mode makes lesss sense here, because these aren't categorical and there are so many different values present.the mode is 9.7 thousand\n",
        "#which is the slaes number for only 5 out of 200 records, and doesnt really line up with the peak of the histogram.it is hard ro argue that 9.7 thosand\n",
        "#is really typical value here\n",
        "\n"
      ]
    },
    {
      "cell_type": "markdown",
      "metadata": {
        "id": "PumSriVfkF9p"
      },
      "source": [
        "## Dispersion of Sales Volume\n",
        "\n",
        "Now that we have a number to represent the typical sales volume, let's answer: *How variable are sales across markets?*\n",
        "\n",
        "That sounds like a question to be answered by a **measure of dispersion** (also known as a measure of spread).\n",
        "\n",
        "Reminder: the measures of dispersion we've introduced are:\n",
        "\n",
        " - (Average) absolute deviation\n",
        " - Variance\n",
        " - Standard deviation\n",
        " - Interquartile range\n",
        "\n",
        "Choose the measure that seems the most reasonable to you, and write up your answer in the cell below, following the format from the previous question (first calculating the measure, then explaining your answer)."
      ]
    },
    {
      "cell_type": "code",
      "execution_count": 16,
      "metadata": {
        "id": "UVL6lDPCkF9p",
        "colab": {
          "base_uri": "https://localhost:8080/"
        },
        "outputId": "96508005-b88f-4ec0-d5f8-8b1d1253166f"
      },
      "outputs": [
        {
          "output_type": "execute_result",
          "data": {
            "text/plain": [
              "7.024999999999999"
            ]
          },
          "metadata": {},
          "execution_count": 16
        }
      ],
      "source": [
        "#my answer\n",
        "np.std(sales) #sales do not vary alot  since spread is 5.2(the valus are close to the mean)\n",
        "\n",
        "#np.percentile(sales,75)- np.percentile(sales,25) # 7.024999999999999"
      ]
    },
    {
      "cell_type": "code",
      "source": [
        "#right answer\n",
        "\n",
        "#of these options, variance is the least useful since units are thousands of widgets squared.that is\n",
        "#challenging for a business audience to interpret\n",
        "\n",
        "#option one\n",
        "absolute_dev = np.mean(np.absolute(sales-np.mean(sales)))\n",
        "print(f\"\"\"\n",
        "A typical market differs from the mean market by\n",
        "{round(absolute_dev, 3)} thousand widgets\n",
        "\n",
        "I choose average absolute deviation as a measure because:\n",
        " - it represents variablity in a single number\n",
        " -the units are undertstndable\n",
        " -compared to standard deviation , it is less impacted by outliers(Absolute deviations are less sensitive to extreme outliers (values far from the mean/trendline) compared to standard deviations because they don't square that distance before adding it to the values from other data points)\n",
        " if higher dispersion is fine(i.e we arent worried about consistency), this gives us a metric that is unncesarily skewed\n",
        "\"\"\")\n",
        "\n",
        "#option 2\n",
        "std_dev=np.std(sales)\n",
        "print(f\"\"\"\n",
        "A typical market differs from the mean market by\n",
        "{round(std_dev, 3)} thousand widgets\n",
        "\n",
        "I choose standard deviation as a measure because:\n",
        " - it represents variablity in a single number\n",
        " -the units are undertstndable\n",
        " -outliers are more represented,because we find the sum of squares then take the square root. we find the sum\n",
        "   of squares then take the square root. If higher\n",
        "   dispersion is \"bad\" (i.e. we want consistency), this\n",
        "   gives us the more realistic/pessimistic metric\n",
        "\"\"\")\n",
        "\n",
        "# OPTION 3\n",
        "p25 = np.percentile(sales, 25)\n",
        "p75 = np.percentile(sales, 75)\n",
        "\n",
        "measure_dispersion = p75 - p25\n",
        "\n",
        "print(f\"\"\"\n",
        "The 25th percentile market had sales of {p25} thousand\n",
        "widgets, and the 75th percentile market had sales of {p75}\n",
        "thousand widgets\n",
        "\n",
        "The difference between those markets is {round(measure_dispersion, 3)},\n",
        "meaning that the middle 50% of markets is spread across\n",
        "this range (inter-quartile range)\n",
        "\n",
        "I chose quartiles (and IQR) as the measures because:\n",
        " - it represents more information about the data through\n",
        "   three separate numbers\n",
        " - unlike average absolute deviation or standard deviation,\n",
        "   these numbers represent actual values in the dataset, not\n",
        "   averaged values\n",
        " - it represents the skew of the dataset, showing that the\n",
        "   25th percentile is closer to the median (less spread out)\n",
        "   than the 75th percentile is (more spread out)\n",
        "\"\"\")"
      ],
      "metadata": {
        "colab": {
          "base_uri": "https://localhost:8080/"
        },
        "id": "N95inJhr1m3b",
        "outputId": "a72c2497-3d29-495d-d8e0-ed3591444426"
      },
      "execution_count": 36,
      "outputs": [
        {
          "output_type": "stream",
          "name": "stdout",
          "text": [
            "\n",
            "A typical market differs from the mean market by\n",
            "4.28 thousand widgets\n",
            "\n",
            "I choose average absolute deviation as a measure because:\n",
            " - it represents variablity in a single number\n",
            " -the units are undertstndable\n",
            " -compared to standard deviation , it is less impacted by outliers(Absolute deviations are less sensitive to extreme outliers (values far from the mean/trendline) compared to standard deviations because they don't square that distance before adding it to the values from other data points)\n",
            " if higher dispersion is fine(i.e we arent worried about consistency), this gives us a metric that is unncesarily skewed\n",
            "\n",
            "\n",
            "A typical market differs from the mean market by\n",
            "5.204 thousand widgets\n",
            "\n",
            "I choose standard deviation as a measure because:\n",
            " - it represents variablity in a single number\n",
            " -the units are undertstndable\n",
            " -outliers are more represented,because we find the sum of squares then take the square root. we find the sum\n",
            "   of squares then take the square root. If higher\n",
            "   dispersion is \"bad\" (i.e. we want consistency), this\n",
            "   gives us the more realistic/pessimistic metric\n",
            "\n",
            "\n",
            "The 25th percentile market had sales of 10.375 thousand\n",
            "widgets, and the 75th percentile market had sales of 17.4\n",
            "thousand widgets\n",
            "\n",
            "The difference between those markets is 7.025,\n",
            "meaning that the middle 50% of markets is spread across\n",
            "this range (inter-quartile range)\n",
            "\n",
            "I chose quartiles (and IQR) as the measures because:\n",
            " - it represents more information about the data through\n",
            "   three separate numbers\n",
            " - unlike average absolute deviation or standard deviation,\n",
            "   these numbers represent actual values in the dataset, not\n",
            "   averaged values\n",
            " - it represents the skew of the dataset, showing that the\n",
            "   25th percentile is closer to the median (less spread out)\n",
            "   than the 75th percentile is (more spread out)\n",
            "\n"
          ]
        }
      ]
    },
    {
      "cell_type": "markdown",
      "metadata": {
        "id": "XUGrbdY7kF9p"
      },
      "source": [
        "## Correlations between Advertising Expenditure and Sales\n",
        "\n",
        "Now that we have a general understanding of the distribution of the sales data, we can start to answer: *If we have 25k more dollars to spend in advertising per market, should we spend it on TV, radio, or newspaper ads?*\n",
        "\n",
        "(Eventually we will learn more sophisticated multivariate modeling techniques that will allow us to simulate the impacts of different choices here such as *given TV spending of $x_1$ and radio spending of $x_2$, how would increasing newspaper spending by 25k impact $y$*?, but for now we will just use the tools we have learned so far.)\n",
        "\n",
        "In order to make this recommendation, let's find the **correlation between each advertising medium and the associated sales**.\n",
        "\n",
        "(Recall that *covariance* is the numerator of the correlation formula, and that we typically use correlation rather than just covariance because its magnitude is more interpretable.)\n",
        "\n",
        "In the following cell, compute the correlation between `sales` and `tv`, `radio`, and `newspaper` using NumPy."
      ]
    },
    {
      "cell_type": "code",
      "execution_count": 18,
      "metadata": {
        "id": "p2IECsNzkF9p",
        "colab": {
          "base_uri": "https://localhost:8080/"
        },
        "outputId": "2410678d-eec0-4b25-9992-f3bfa4af4762"
      },
      "outputs": [
        {
          "output_type": "stream",
          "name": "stdout",
          "text": [
            "Correlation of Sales and TV Ad Spending: 0.7822244248616061\n",
            "Correlation of Sales and Radio Ad Spending: 0.5762225745710551\n",
            "Correlation of Sales and Newspaper Ad Spending: 0.22829902637616528\n"
          ]
        }
      ],
      "source": [
        "# Replace None with appropriate code\n",
        "\n",
        "tv_corr = np.corrcoef(sales,tv)[0][1]\n",
        "radio_corr = np.corrcoef(sales,radio)[0][1]\n",
        "newspaper_corr = np.corrcoef(sales,newspaper)[0][1]\n",
        "\n",
        "print(\"Correlation of Sales and TV Ad Spending:\", tv_corr)\n",
        "print(\"Correlation of Sales and Radio Ad Spending:\", radio_corr)\n",
        "print(\"Correlation of Sales and Newspaper Ad Spending:\", newspaper_corr)"
      ]
    },
    {
      "cell_type": "markdown",
      "metadata": {
        "id": "Dq0O8ZDakF9p"
      },
      "source": [
        "Which type of ad spending has the highest correlation?"
      ]
    },
    {
      "cell_type": "code",
      "execution_count": 37,
      "metadata": {
        "id": "Q6_JuN7IkF9p",
        "colab": {
          "base_uri": "https://localhost:8080/"
        },
        "outputId": "3da6f360-698d-443e-b49d-80f5f304c88e"
      },
      "outputs": [
        {
          "output_type": "stream",
          "name": "stdout",
          "text": [
            "TV has the highest correlation with sales\n"
          ]
        }
      ],
      "source": [
        "# Replace <None> with TV, radio, or newspaper\n",
        "print(\"TV has the highest correlation with sales\")"
      ]
    },
    {
      "cell_type": "markdown",
      "metadata": {
        "id": "BVItCwigkF9p"
      },
      "source": [
        "Let's also plot out each of the ad types vs. sales:"
      ]
    },
    {
      "cell_type": "code",
      "execution_count": 21,
      "metadata": {
        "id": "3xzS620-kF9p",
        "colab": {
          "base_uri": "https://localhost:8080/",
          "height": 338
        },
        "outputId": "fcbe1baf-fabe-4d0f-f5c1-8bcda8d997f4"
      },
      "outputs": [
        {
          "output_type": "display_data",
          "data": {
            "text/plain": [
              "<Figure size 1000x300 with 3 Axes>"
            ],
            "image/png": "[encoded data removed]"
          },
          "metadata": {}
        }
      ],
      "source": [
        "# Run this cell without changes\n",
        "\n",
        "fig, (ax1, ax2, ax3) = plt.subplots(ncols=3, figsize=(10,3), sharey=True)\n",
        "\n",
        "ax1.scatter(tv, sales)\n",
        "ax2.scatter(radio, sales)\n",
        "ax3.scatter(newspaper, sales)\n",
        "\n",
        "ax1.set_xlabel(\"TV\")\n",
        "ax2.set_xlabel(\"Radio\")\n",
        "ax3.set_xlabel(\"Newspaper\")\n",
        "\n",
        "ax1.set_ylabel(\"Sales\")\n",
        "\n",
        "fig.suptitle(\"Advertising Expenditure vs. Sales Across Media\");"
      ]
    },
    {
      "cell_type": "markdown",
      "metadata": {
        "id": "vnCZZIEhkF9p"
      },
      "source": [
        "## Where to Spend Additional Dollars\n",
        "\n",
        "Based on the correlation numbers and a visual inspection of those plots, make a recommendation to your boss about where to spend 25k extra dollars per market and why."
      ]
    },
    {
      "cell_type": "code",
      "execution_count": 38,
      "metadata": {
        "id": "y7lNh2DwkF9q",
        "colab": {
          "base_uri": "https://localhost:8080/"
        },
        "outputId": "20ac02f5-c559-409f-90ba-4a91621f090b"
      },
      "outputs": [
        {
          "output_type": "stream",
          "name": "stdout",
          "text": [
            "\n",
            "Based on correlation alone, TV spending clearly has the highest\n",
            "correlation with sales. The scatter plot for TV looks closest\n",
            "to a straight line as well, which aligns with the idea that there\n",
            "is an association between increased TV spending and increased\n",
            "sales. While we can't necessarily assume that correlation = \n",
            "causation here, it seems reasonable to guess that increased TV ad\n",
            "spending in those markets has led to increased sales.\n",
            "\n",
            "(You could also make an argument that radio would be the better\n",
            "place to spend the money, even though the correlation is lower and\n",
            "the scatter plot is farther from a straight line. It looks like we\n",
            "are spending less than half as much on radio right now as we're\n",
            "spending on newspaper, and less than 1/6 as much as on TV. So a\n",
            "targeted expenditure of 25k on radio might go farther than the\n",
            "same amount spent on TV.)\n",
            "\n"
          ]
        }
      ],
      "source": [
        "# Spend on Tv adds since data shows a strong relationship between increase of sales by Tv ads\n",
        "\n",
        "print(\"\"\"\n",
        "Based on correlation alone, TV spending clearly has the highest\n",
        "correlation with sales. The scatter plot for TV looks closest\n",
        "to a straight line as well, which aligns with the idea that there\n",
        "is an association between increased TV spending and increased\n",
        "sales. While we can't necessarily assume that correlation =\n",
        "causation here, it seems reasonable to guess that increased TV ad\n",
        "spending in those markets has led to increased sales.\n",
        "\n",
        "(You could also make an argument that radio would be the better\n",
        "place to spend the money, even though the correlation is lower and\n",
        "the scatter plot is farther from a straight line. It looks like we\n",
        "are spending less than half as much on radio right now as we're\n",
        "spending on newspaper, and less than 1/6 as much as on TV. So a\n",
        "targeted expenditure of 25k on radio might go farther than the\n",
        "same amount spent on TV.)\n",
        "\"\"\")"
      ]
    },
    {
      "cell_type": "markdown",
      "metadata": {
        "id": "B0j_5RROkF9q"
      },
      "source": [
        "## Conclusion\n",
        "\n",
        "In this cumulative lab, you practiced analyzing sales and advertising data in order to make a business recommendation. Unlike some other labs, there was more ambiguity and we asked you to make some judgment calls in order to use data science concepts for a business audience. In the rest of the course, you will continue building your technical skills and technical communication skills!"
      ]
    }
  ],
  "metadata": {
    "kernelspec": {
      "display_name": "Python (learn-env)",
      "language": "python",
      "name": "learn-env"
    },
    "language_info": {
      "codemirror_mode": {
        "name": "ipython",
        "version": 3
      },
      "file_extension": ".py",
      "mimetype": "text/x-python",
      "name": "python",
      "nbconvert_exporter": "python",
      "pygments_lexer": "ipython3",
      "version": "3.8.5"
    },
    "colab": {
      "provenance": [],
      "name": "Statistical Measures - Cumulative Lab.ipynb",
      "include_colab_link": true
    }
  },
  "nbformat": 4,
  "nbformat_minor": 0
}